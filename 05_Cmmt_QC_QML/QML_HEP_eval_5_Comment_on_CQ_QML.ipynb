{
  "nbformat": 4,
  "nbformat_minor": 0,
  "metadata": {
    "colab": {
      "name": "QML_HEP_eval_5_Comment_on_CQ_QML.ipynb",
      "provenance": []
    },
    "kernelspec": {
      "name": "python3",
      "display_name": "Python 3"
    },
    "language_info": {
      "name": "python"
    }
  },
  "cells": [
    {
      "cell_type": "markdown",
      "metadata": {
        "id": "HBbBzkJWwFcY"
      },
      "source": [
        "# Task 5: Open Task Part\n",
        "\n",
        "In mid-2020, I became aware of the IBM Q summer school and qiskit. By participating, I gained my first practical experience in the field of quantum computing and quantum mechanics. We were given a short introduction to the basics of QM (Dirac notation, entanglement etc.) before some famous QC algorithms like Shor's or Grovers' were presented and implemented with Qiskit. In addition, VQE and quantum chemistry applications were briefly touched upon.  Since then I am very interested in the visionary field of QC and the connection with ML/DL. \n",
        "\n",
        "\n",
        "Although I studied mechanical and industrial engineering (specialized in racing car technology), I wrote a master thesis on real-time object recognition of alphanumeric characters for unmanned ariel vehicles (https://drive.google.com/file/d/1lFw8x4Ym4qhthueTBPjnzc3qOwqh8_12/view?usp=sharing), because with my last university project I wanted to learn programming with Python, the use of Linux, Edge and Cloud Computing and especially ML/pattern recognition for computer vision. After a long research I specialized in the YOLOv4 architecture. Nevertheless I try to stay up to date with the latest architectures in CNN's, RNN's, Transformer networks, GAN's and now GNN by reading scientific papers and medium articles every day.\n",
        "\n",
        "\n",
        "\n",
        "Since submitting my master thesis (end of Feb 2021) I am deeply involved in QM, QC and QML. I want to do research in this area in the future and am currently looking for a PhD position in QML. Because Google plans to develop a QC with over one million qubits by 2030, I see a lot of research potential in this field. Also right now with \"only\" NISQ devices.  Moreover, with TFQ/Cirq, QiskitML, Pennylane or SF there are now several frameworks to implement new QML applications in a more user-friendly way. \n",
        "\n",
        "\n",
        "Regarding QCNN / quantum computer vision I see great potential by implementing or combining some classical architectural steps like Dense - blocks, SPP (spatial pyramid pooling) , FPN (feature pyramid networks), PAN (path aggregation nets), Channel or Spatial Attention modules, new augmentation techniques or even using more modern activation functions (e.g. Mish, Swish etc.) with QNN layers for a QC.Im also highly interested in research on getting high res image data into a quantum ciruit on NISQ devices (Maybe by cutting a high res img (multiple of 4x4) , create circuits for all piles, entangle them and append variable circuit layers to this structure).  It would also be very interesting to try to implement a hybrid model with several alternating QCNN and classical FCN layers and to connect them like in residual networks or densenet.\n",
        "I have  tried to implement a model circuit function that automatically adjusts the qubits and sympy symbols to the input variables of the function. This allows the full QCNN to be automatically adjusted to the desired output variables and automated poolling for any arbitrarily large image. This function still needs to be debugged a bit, but unfortunately I didn't have any time left for that. Nevertheless I will finish this function in the next days and upload it to my QML_HEP project in github.\n",
        "\n",
        "Since I am neither a physicist nor a computer scientist, I still have some catching up to do and read several papers or medium articles every day. The TFQ/TF tutorials are a very good source for both the underlying theory and the practical implementation with TF/TFQ and Cirq of the QML applications.\n",
        "\n",
        "Through working on the evaluation worksheet I saw great potential in GNN and QGNN. I am very curious about how to implement rich information of a graph and its relations into a learnable QGNN and would like to specialize in this research area in the future. \n",
        "\n",
        "Last I would like to thank you very much for the opportunity to participate here. Of course I would be happy if I could work on one of the three announced topics in the context of GSoC 2021, but I also know about my current limitations. Nevertheless, I will continue to work on it and try to develop new, freely available QNN architectures in the future, which can then hopefully be eventually applied in the field of HEP. QC and QML will definetely play a large role in our future and I hope to be able to contribute a part to it.\n",
        "\n",
        "Thank you!"
      ]
    },
    {
      "cell_type": "code",
      "metadata": {
        "id": "iKxfAB_swFJA"
      },
      "source": [
        ""
      ],
      "execution_count": null,
      "outputs": []
    },
    {
      "cell_type": "code",
      "metadata": {
        "id": "zejYe5RkwBxr"
      },
      "source": [
        ""
      ],
      "execution_count": null,
      "outputs": []
    }
  ]
}