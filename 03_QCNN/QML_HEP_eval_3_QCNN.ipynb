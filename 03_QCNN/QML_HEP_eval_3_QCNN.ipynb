{
  "nbformat": 4,
  "nbformat_minor": 0,
  "metadata": {
    "colab": {
      "name": "QML_HEP_eval_3_QCNN.ipynb",
      "provenance": [],
      "collapsed_sections": [],
      "toc_visible": true
    },
    "kernelspec": {
      "name": "python3",
      "display_name": "Python 3"
    },
    "language_info": {
      "name": "python"
    }
  },
  "cells": [
    {
      "cell_type": "code",
      "metadata": {
        "id": "xPk2U8ut58NT",
        "colab": {
          "base_uri": "https://localhost:8080/",
          "height": 1000
        },
        "outputId": "d3c0bc83-4454-47d6-a1be-fd0c583b8093"
      },
      "source": [
        "!pip install cirq\n",
        "#!pip3 install --upgrade pip\n",
        "!pip install -q tensorflow==2.3.1\n",
        "!pip install -q tensorflow-quantum"
      ],
      "execution_count": 1,
      "outputs": [
        {
          "output_type": "stream",
          "text": [
            "Collecting cirq\n",
            "\u001b[?25l  Downloading https://files.pythonhosted.org/packages/38/22/088b20c8c3875194dd23cc8934b9abb84c24f26a40690487ae2d1aaccc7b/cirq-0.10.0-py3-none-any.whl (1.8MB)\n",
            "\u001b[K     |████████████████████████████████| 1.8MB 8.6MB/s \n",
            "\u001b[?25hRequirement already satisfied: scipy in /usr/local/lib/python3.7/dist-packages (from cirq) (1.4.1)\n",
            "Requirement already satisfied: requests~=2.18 in /usr/local/lib/python3.7/dist-packages (from cirq) (2.23.0)\n",
            "Collecting protobuf~=3.13.0\n",
            "\u001b[?25l  Downloading https://files.pythonhosted.org/packages/71/dc/5ba56eab7440c62c5f808b4267e2a1d6c136e90293b43fefb1b493c6d704/protobuf-3.13.0-cp37-cp37m-manylinux1_x86_64.whl (1.3MB)\n",
            "\u001b[K     |████████████████████████████████| 1.3MB 40.0MB/s \n",
            "\u001b[?25hRequirement already satisfied: networkx~=2.4 in /usr/local/lib/python3.7/dist-packages (from cirq) (2.5)\n",
            "Requirement already satisfied: tqdm in /usr/local/lib/python3.7/dist-packages (from cirq) (4.41.1)\n",
            "Requirement already satisfied: matplotlib~=3.0 in /usr/local/lib/python3.7/dist-packages (from cirq) (3.2.2)\n",
            "Requirement already satisfied: numpy~=1.16 in /usr/local/lib/python3.7/dist-packages (from cirq) (1.19.5)\n",
            "Requirement already satisfied: typing-extensions in /usr/local/lib/python3.7/dist-packages (from cirq) (3.7.4.3)\n",
            "Requirement already satisfied: google-api-core[grpc]<2.0.0dev,>=1.14.0 in /usr/local/lib/python3.7/dist-packages (from cirq) (1.26.2)\n",
            "Requirement already satisfied: sortedcontainers~=2.0 in /usr/local/lib/python3.7/dist-packages (from cirq) (2.3.0)\n",
            "Requirement already satisfied: pandas in /usr/local/lib/python3.7/dist-packages (from cirq) (1.1.5)\n",
            "Requirement already satisfied: sympy in /usr/local/lib/python3.7/dist-packages (from cirq) (1.7.1)\n",
            "Requirement already satisfied: chardet<4,>=3.0.2 in /usr/local/lib/python3.7/dist-packages (from requests~=2.18->cirq) (3.0.4)\n",
            "Requirement already satisfied: certifi>=2017.4.17 in /usr/local/lib/python3.7/dist-packages (from requests~=2.18->cirq) (2020.12.5)\n",
            "Requirement already satisfied: urllib3!=1.25.0,!=1.25.1,<1.26,>=1.21.1 in /usr/local/lib/python3.7/dist-packages (from requests~=2.18->cirq) (1.24.3)\n",
            "Requirement already satisfied: idna<3,>=2.5 in /usr/local/lib/python3.7/dist-packages (from requests~=2.18->cirq) (2.10)\n",
            "Requirement already satisfied: six>=1.9 in /usr/local/lib/python3.7/dist-packages (from protobuf~=3.13.0->cirq) (1.15.0)\n",
            "Requirement already satisfied: setuptools in /usr/local/lib/python3.7/dist-packages (from protobuf~=3.13.0->cirq) (54.2.0)\n",
            "Requirement already satisfied: decorator>=4.3.0 in /usr/local/lib/python3.7/dist-packages (from networkx~=2.4->cirq) (4.4.2)\n",
            "Requirement already satisfied: kiwisolver>=1.0.1 in /usr/local/lib/python3.7/dist-packages (from matplotlib~=3.0->cirq) (1.3.1)\n",
            "Requirement already satisfied: python-dateutil>=2.1 in /usr/local/lib/python3.7/dist-packages (from matplotlib~=3.0->cirq) (2.8.1)\n",
            "Requirement already satisfied: pyparsing!=2.0.4,!=2.1.2,!=2.1.6,>=2.0.1 in /usr/local/lib/python3.7/dist-packages (from matplotlib~=3.0->cirq) (2.4.7)\n",
            "Requirement already satisfied: cycler>=0.10 in /usr/local/lib/python3.7/dist-packages (from matplotlib~=3.0->cirq) (0.10.0)\n",
            "Requirement already satisfied: pytz in /usr/local/lib/python3.7/dist-packages (from google-api-core[grpc]<2.0.0dev,>=1.14.0->cirq) (2018.9)\n",
            "Requirement already satisfied: googleapis-common-protos<2.0dev,>=1.6.0 in /usr/local/lib/python3.7/dist-packages (from google-api-core[grpc]<2.0.0dev,>=1.14.0->cirq) (1.53.0)\n",
            "Requirement already satisfied: packaging>=14.3 in /usr/local/lib/python3.7/dist-packages (from google-api-core[grpc]<2.0.0dev,>=1.14.0->cirq) (20.9)\n",
            "Requirement already satisfied: google-auth<2.0dev,>=1.21.1 in /usr/local/lib/python3.7/dist-packages (from google-api-core[grpc]<2.0.0dev,>=1.14.0->cirq) (1.28.0)\n",
            "Requirement already satisfied: grpcio<2.0dev,>=1.29.0; extra == \"grpc\" in /usr/local/lib/python3.7/dist-packages (from google-api-core[grpc]<2.0.0dev,>=1.14.0->cirq) (1.32.0)\n",
            "Requirement already satisfied: mpmath>=0.19 in /usr/local/lib/python3.7/dist-packages (from sympy->cirq) (1.2.1)\n",
            "Requirement already satisfied: rsa<5,>=3.1.4; python_version >= \"3.6\" in /usr/local/lib/python3.7/dist-packages (from google-auth<2.0dev,>=1.21.1->google-api-core[grpc]<2.0.0dev,>=1.14.0->cirq) (4.7.2)\n",
            "Requirement already satisfied: cachetools<5.0,>=2.0.0 in /usr/local/lib/python3.7/dist-packages (from google-auth<2.0dev,>=1.21.1->google-api-core[grpc]<2.0.0dev,>=1.14.0->cirq) (4.2.1)\n",
            "Requirement already satisfied: pyasn1-modules>=0.2.1 in /usr/local/lib/python3.7/dist-packages (from google-auth<2.0dev,>=1.21.1->google-api-core[grpc]<2.0.0dev,>=1.14.0->cirq) (0.2.8)\n",
            "Requirement already satisfied: pyasn1>=0.1.3 in /usr/local/lib/python3.7/dist-packages (from rsa<5,>=3.1.4; python_version >= \"3.6\"->google-auth<2.0dev,>=1.21.1->google-api-core[grpc]<2.0.0dev,>=1.14.0->cirq) (0.4.8)\n",
            "Installing collected packages: protobuf, cirq\n",
            "  Found existing installation: protobuf 3.12.4\n",
            "    Uninstalling protobuf-3.12.4:\n",
            "      Successfully uninstalled protobuf-3.12.4\n",
            "Successfully installed cirq-0.10.0 protobuf-3.13.0\n"
          ],
          "name": "stdout"
        },
        {
          "output_type": "display_data",
          "data": {
            "application/vnd.colab-display-data+json": {
              "pip_warning": {
                "packages": [
                  "google"
                ]
              }
            }
          },
          "metadata": {
            "tags": []
          }
        },
        {
          "output_type": "stream",
          "text": [
            "\u001b[K     |████████████████████████████████| 320.4MB 50kB/s \n",
            "\u001b[K     |████████████████████████████████| 460kB 53.5MB/s \n",
            "\u001b[K     |████████████████████████████████| 20.1MB 1.3MB/s \n",
            "\u001b[31mERROR: datascience 0.10.6 has requirement folium==0.2.1, but you'll have folium 0.8.3 which is incompatible.\u001b[0m\n",
            "\u001b[31mERROR: albumentations 0.1.12 has requirement imgaug<0.2.7,>=0.2.5, but you'll have imgaug 0.2.9 which is incompatible.\u001b[0m\n",
            "\u001b[K     |████████████████████████████████| 5.9MB 6.3MB/s \n",
            "\u001b[K     |████████████████████████████████| 5.6MB 35.0MB/s \n",
            "\u001b[K     |████████████████████████████████| 1.6MB 47.9MB/s \n",
            "\u001b[K     |████████████████████████████████| 1.3MB 52.2MB/s \n",
            "\u001b[?25h"
          ],
          "name": "stdout"
        }
      ]
    },
    {
      "cell_type": "code",
      "metadata": {
        "id": "0_mbT2M046Dd"
      },
      "source": [
        "## imports\n",
        "import tensorflow as tf\n",
        "import tensorflow_quantum as tfq\n",
        "\n",
        "import os\n",
        "import cirq\n",
        "import sympy\n",
        "import numpy as np\n",
        "import seaborn as sns\n",
        "import collections\n",
        "\n",
        "# visualization tools\n",
        "%matplotlib inline\n",
        "import matplotlib.pyplot as plt\n",
        "from cirq.contrib.svg import SVGCircuit"
      ],
      "execution_count": 2,
      "outputs": []
    },
    {
      "cell_type": "markdown",
      "metadata": {
        "id": "_dBeuNjp_fXY"
      },
      "source": [
        "# Parameters:\n",
        "- model tuning"
      ]
    },
    {
      "cell_type": "code",
      "metadata": {
        "id": "YGqGUCuN_erB"
      },
      "source": [
        "# qnn model preparation\n",
        "img_pxl_dwngrd  = 4 # pixelsize for tf.image.resize at least 6!!\n",
        "qubit_nmbrs     = img_pxl_dwngrd # amount of grid qubits dependent in img\n",
        "\n",
        "# qnn model\n",
        "\n",
        "nmbr_quantum_layer = 1\n",
        "#EPOCHS = 5\n",
        "#BATCH_SIZE = 1\n",
        "#NUM_EXAMPLES = len(x_train_tfqcirc)"
      ],
      "execution_count": 3,
      "outputs": []
    },
    {
      "cell_type": "code",
      "metadata": {
        "colab": {
          "base_uri": "https://localhost:8080/"
        },
        "id": "fz0d7S8Y5UT7",
        "outputId": "7624c968-fb8a-4e8d-9495-2847916d1af9"
      },
      "source": [
        "!git clone https://github.com/ML4SCI/ML4SCI_GSoC.git"
      ],
      "execution_count": 4,
      "outputs": [
        {
          "output_type": "stream",
          "text": [
            "Cloning into 'ML4SCI_GSoC'...\n",
            "remote: Enumerating objects: 75, done.\u001b[K\n",
            "remote: Counting objects: 100% (75/75), done.\u001b[K\n",
            "remote: Compressing objects: 100% (60/60), done.\u001b[K\n",
            "remote: Total 75 (delta 21), reused 46 (delta 13), pack-reused 0\u001b[K\n",
            "Unpacking objects: 100% (75/75), done.\n",
            "Checking out files: 100% (36/36), done.\n"
          ],
          "name": "stdout"
        }
      ]
    },
    {
      "cell_type": "code",
      "metadata": {
        "id": "oZkOLPyM6cfz"
      },
      "source": [
        "ROOT_DIR = '/content' "
      ],
      "execution_count": 5,
      "outputs": []
    },
    {
      "cell_type": "markdown",
      "metadata": {
        "id": "mOL1GQfH7CUD"
      },
      "source": [
        "# Dataset\n",
        "\n",
        "1. load data"
      ]
    },
    {
      "cell_type": "code",
      "metadata": {
        "colab": {
          "base_uri": "https://localhost:8080/"
        },
        "id": "Hh3r1cbG5URo",
        "outputId": "4dcc2675-0b4f-4735-f914-2f14165c81c7"
      },
      "source": [
        "data = np.load('/content/ML4SCI_GSoC/QMLHEP/qcnn/electron-photon.npz', allow_pickle=True)\n",
        "print(data)\n",
        "print('Data arrays = {}'.format(data.files))\n",
        "print(data['x_train'][0,0,0])\n",
        "print(data['x_train'][0,15,15])\n",
        "print(data['x_train'][0,15,16])\n",
        "print(data['x_train'][0,16,16])\n",
        "#print(len(data['x_train']))\n",
        "## Dataset: (100, 32, 32)"
      ],
      "execution_count": 6,
      "outputs": [
        {
          "output_type": "stream",
          "text": [
            "<numpy.lib.npyio.NpzFile object at 0x7fa0dfbc8ed0>\n",
            "Data arrays = ['x_train', 'y_train', 'x_test', 'y_test']\n",
            "0.0\n",
            "0.0049326597\n",
            "0.0047431947\n",
            "0.3118749\n"
          ],
          "name": "stdout"
        }
      ]
    },
    {
      "cell_type": "markdown",
      "metadata": {
        "id": "4CXb8L2PdDc3"
      },
      "source": [
        "2. inspect data => 3D array"
      ]
    },
    {
      "cell_type": "code",
      "metadata": {
        "colab": {
          "base_uri": "https://localhost:8080/"
        },
        "id": "CaUnS7JM6ZaO",
        "outputId": "cf924914-b80b-4f67-ef2e-16ad3b01c1db"
      },
      "source": [
        "x_train, y_train, x_test, y_test = data[data.files[0]], data[data.files[1]], data[data.files[2]], data[data.files[3]] \n",
        "#print(x_train)\n",
        "print(\"Number of original training examples:\", len(x_train))\n",
        "print(\"Number of original test examples:\", len(x_test))\n",
        "print('x_train shape: {}'.format(x_train.shape))\n",
        "print('x_test shape: {}'.format(x_test.shape))\n",
        "print(x_train.dtype)\n",
        "x_train.view()"
      ],
      "execution_count": 7,
      "outputs": [
        {
          "output_type": "stream",
          "text": [
            "Number of original training examples: 100\n",
            "Number of original test examples: 100\n",
            "x_train shape: (100, 32, 32)\n",
            "x_test shape: (100, 32, 32)\n",
            "float32\n"
          ],
          "name": "stdout"
        },
        {
          "output_type": "execute_result",
          "data": {
            "text/plain": [
              "array([[[0., 0., 0., ..., 0., 0., 0.],\n",
              "        [0., 0., 0., ..., 0., 0., 0.],\n",
              "        [0., 0., 0., ..., 0., 0., 0.],\n",
              "        ...,\n",
              "        [0., 0., 0., ..., 0., 0., 0.],\n",
              "        [0., 0., 0., ..., 0., 0., 0.],\n",
              "        [0., 0., 0., ..., 0., 0., 0.]],\n",
              "\n",
              "       [[0., 0., 0., ..., 0., 0., 0.],\n",
              "        [0., 0., 0., ..., 0., 0., 0.],\n",
              "        [0., 0., 0., ..., 0., 0., 0.],\n",
              "        ...,\n",
              "        [0., 0., 0., ..., 0., 0., 0.],\n",
              "        [0., 0., 0., ..., 0., 0., 0.],\n",
              "        [0., 0., 0., ..., 0., 0., 0.]],\n",
              "\n",
              "       [[0., 0., 0., ..., 0., 0., 0.],\n",
              "        [0., 0., 0., ..., 0., 0., 0.],\n",
              "        [0., 0., 0., ..., 0., 0., 0.],\n",
              "        ...,\n",
              "        [0., 0., 0., ..., 0., 0., 0.],\n",
              "        [0., 0., 0., ..., 0., 0., 0.],\n",
              "        [0., 0., 0., ..., 0., 0., 0.]],\n",
              "\n",
              "       ...,\n",
              "\n",
              "       [[0., 0., 0., ..., 0., 0., 0.],\n",
              "        [0., 0., 0., ..., 0., 0., 0.],\n",
              "        [0., 0., 0., ..., 0., 0., 0.],\n",
              "        ...,\n",
              "        [0., 0., 0., ..., 0., 0., 0.],\n",
              "        [0., 0., 0., ..., 0., 0., 0.],\n",
              "        [0., 0., 0., ..., 0., 0., 0.]],\n",
              "\n",
              "       [[0., 0., 0., ..., 0., 0., 0.],\n",
              "        [0., 0., 0., ..., 0., 0., 0.],\n",
              "        [0., 0., 0., ..., 0., 0., 0.],\n",
              "        ...,\n",
              "        [0., 0., 0., ..., 0., 0., 0.],\n",
              "        [0., 0., 0., ..., 0., 0., 0.],\n",
              "        [0., 0., 0., ..., 0., 0., 0.]],\n",
              "\n",
              "       [[0., 0., 0., ..., 0., 0., 0.],\n",
              "        [0., 0., 0., ..., 0., 0., 0.],\n",
              "        [0., 0., 0., ..., 0., 0., 0.],\n",
              "        ...,\n",
              "        [0., 0., 0., ..., 0., 0., 0.],\n",
              "        [0., 0., 0., ..., 0., 0., 0.],\n",
              "        [0., 0., 0., ..., 0., 0., 0.]]], dtype=float32)"
            ]
          },
          "metadata": {
            "tags": []
          },
          "execution_count": 7
        }
      ]
    },
    {
      "cell_type": "code",
      "metadata": {
        "colab": {
          "base_uri": "https://localhost:8080/"
        },
        "id": "vgfRJTqfckpU",
        "outputId": "bedaaf11-2dec-426f-9ee9-8c650346705f"
      },
      "source": [
        "# Print radnom example including label\n",
        "exmpl = np.random.randint(0,len(x_train)-1)\n",
        "print('Example number: {}'.format(exmpl))"
      ],
      "execution_count": 8,
      "outputs": [
        {
          "output_type": "stream",
          "text": [
            "Example number: 40\n"
          ],
          "name": "stdout"
        }
      ]
    },
    {
      "cell_type": "code",
      "metadata": {
        "colab": {
          "base_uri": "https://localhost:8080/",
          "height": 302
        },
        "id": "PjQXPfri5UPm",
        "outputId": "67974d04-d90f-4634-b835-5ec59122d317"
      },
      "source": [
        "print(y_train[exmpl])\n",
        "plt.imshow(x_train[exmpl, :, :])\n",
        "plt.colorbar()"
      ],
      "execution_count": 9,
      "outputs": [
        {
          "output_type": "stream",
          "text": [
            "1.0\n"
          ],
          "name": "stdout"
        },
        {
          "output_type": "execute_result",
          "data": {
            "text/plain": [
              "<matplotlib.colorbar.Colorbar at 0x7fa0dfafd990>"
            ]
          },
          "metadata": {
            "tags": []
          },
          "execution_count": 9
        },
        {
          "output_type": "display_data",
          "data": {
            "image/png": "[encoded data removed]",
            "text/plain": [
              "<Figure size 432x288 with 2 Axes>"
            ]
          },
          "metadata": {
            "tags": [],
            "needs_background": "light"
          }
        }
      ]
    },
    {
      "cell_type": "code",
      "metadata": {
        "colab": {
          "base_uri": "https://localhost:8080/",
          "height": 304
        },
        "id": "-vj-xhWSuA2G",
        "outputId": "c735772f-36d7-40ea-9cf8-27f7e355c23e"
      },
      "source": [
        "# Print example including label\n",
        "print(y_test[exmpl])\n",
        "plt.imshow(x_test[exmpl, :, :])\n",
        "plt.colorbar()"
      ],
      "execution_count": 10,
      "outputs": [
        {
          "output_type": "stream",
          "text": [
            "1.0\n"
          ],
          "name": "stdout"
        },
        {
          "output_type": "execute_result",
          "data": {
            "text/plain": [
              "<matplotlib.colorbar.Colorbar at 0x7fa0df5d6cd0>"
            ]
          },
          "metadata": {
            "tags": []
          },
          "execution_count": 10
        },
        {
          "output_type": "display_data",
          "data": {
            "image/png": "[encoded data removed]",
            "text/plain": [
              "<Figure size 432x288 with 2 Axes>"
            ]
          },
          "metadata": {
            "tags": [],
            "needs_background": "light"
          }
        }
      ]
    },
    {
      "cell_type": "markdown",
      "metadata": {
        "id": "WfSLBH8TdtcQ"
      },
      "source": [
        "3. change dimensions to numpy format"
      ]
    },
    {
      "cell_type": "code",
      "metadata": {
        "colab": {
          "base_uri": "https://localhost:8080/"
        },
        "id": "1gG9xP9ydw71",
        "outputId": "4997bd3a-28cc-49e3-bfc6-4773fecac435"
      },
      "source": [
        "## Reorder shape to numpy format (row=axis0, column=axis1, channel=axis2 image resize for tf.image.resize with 3D-Tensor shape:\n",
        "#Args for f.image.resize (https://www.tensorflow.org/api_docs/python/tf/image/resize?hl=ja)\n",
        "#images \t4-D Tensor of shape [batch, height, width, channels] or 3-D Tensor of shape [height, width, channels].\n",
        "#size \tA 1-D int32 Tensor of 2 elements: new_height, new_width. The new size for the images.\n",
        "\n",
        "\n",
        "## performance meas of tensor reordering methods => np.einsum better (care about idx of np.einsum)\n",
        "%timeit x_train_reorder = np.moveaxis( x_train, 0, -1)\n",
        "%timeit x_train_reorder = np.einsum('ijk -> kij', x_train)\n",
        "\n",
        "x_train_reorder = np.moveaxis( x_train, 0, -1)\n",
        "#x_train_reorder = np.einsum('ijk -> jki', x_train)  #ToDO check if height still heigth /suared doesnt matter\n",
        "x_test_reorder = np.einsum('xyz -> yzx', x_test)\n",
        "\n",
        "print('x_train shape rearranged: {}'.format(x_train_reorder.shape))\n",
        "print('x_test shape rearranged: {}'.format(x_test_reorder.shape))\n",
        "print(x_train[0,:,:])"
      ],
      "execution_count": 11,
      "outputs": [
        {
          "output_type": "stream",
          "text": [
            "The slowest run took 10.69 times longer than the fastest. This could mean that an intermediate result is being cached.\n",
            "100000 loops, best of 5: 5.58 µs per loop\n",
            "The slowest run took 14.60 times longer than the fastest. This could mean that an intermediate result is being cached.\n",
            "1000000 loops, best of 5: 1.7 µs per loop\n",
            "x_train shape rearranged: (32, 32, 100)\n",
            "x_test shape rearranged: (32, 32, 100)\n",
            "[[0. 0. 0. ... 0. 0. 0.]\n",
            " [0. 0. 0. ... 0. 0. 0.]\n",
            " [0. 0. 0. ... 0. 0. 0.]\n",
            " ...\n",
            " [0. 0. 0. ... 0. 0. 0.]\n",
            " [0. 0. 0. ... 0. 0. 0.]\n",
            " [0. 0. 0. ... 0. 0. 0.]]\n"
          ],
          "name": "stdout"
        }
      ]
    },
    {
      "cell_type": "markdown",
      "metadata": {
        "id": "6kGnPQDygfvO"
      },
      "source": [
        "check if data channels are the same"
      ]
    },
    {
      "cell_type": "code",
      "metadata": {
        "colab": {
          "base_uri": "https://localhost:8080/",
          "height": 302
        },
        "id": "bLKy0hYUgNj2",
        "outputId": "42888aa6-2fee-468d-fb40-f515fd649238"
      },
      "source": [
        "print(y_train[exmpl])\n",
        "plt.imshow(x_train_reorder[:, :, exmpl])\n",
        "plt.colorbar()"
      ],
      "execution_count": 12,
      "outputs": [
        {
          "output_type": "stream",
          "text": [
            "1.0\n"
          ],
          "name": "stdout"
        },
        {
          "output_type": "execute_result",
          "data": {
            "text/plain": [
              "<matplotlib.colorbar.Colorbar at 0x7fa0df4b5050>"
            ]
          },
          "metadata": {
            "tags": []
          },
          "execution_count": 12
        },
        {
          "output_type": "display_data",
          "data": {
            "image/png": "[encoded data removed]",
            "text/plain": [
              "<Figure size 432x288 with 2 Axes>"
            ]
          },
          "metadata": {
            "tags": [],
            "needs_background": "light"
          }
        }
      ]
    },
    {
      "cell_type": "code",
      "metadata": {
        "colab": {
          "base_uri": "https://localhost:8080/",
          "height": 304
        },
        "id": "l49tqxfNge1L",
        "outputId": "b593c9e7-75cc-4c7f-d14f-f3f8712aabdb"
      },
      "source": [
        "# Print example including label\n",
        "print(y_test[exmpl])\n",
        "plt.imshow(x_test_reorder[:, :, exmpl])\n",
        "plt.colorbar()"
      ],
      "execution_count": 13,
      "outputs": [
        {
          "output_type": "stream",
          "text": [
            "1.0\n"
          ],
          "name": "stdout"
        },
        {
          "output_type": "execute_result",
          "data": {
            "text/plain": [
              "<matplotlib.colorbar.Colorbar at 0x7fa0df4020d0>"
            ]
          },
          "metadata": {
            "tags": []
          },
          "execution_count": 13
        },
        {
          "output_type": "display_data",
          "data": {
            "image/png": "[encoded data removed]",
            "text/plain": [
              "<Figure size 432x288 with 2 Axes>"
            ]
          },
          "metadata": {
            "tags": [],
            "needs_background": "light"
          }
        }
      ]
    },
    {
      "cell_type": "markdown",
      "metadata": {
        "id": "F6Nta5wAr-O9"
      },
      "source": [
        "4. Image resize for NISQ devices"
      ]
    },
    {
      "cell_type": "code",
      "metadata": {
        "id": "g_wvbu1bmptx"
      },
      "source": [
        ""
      ],
      "execution_count": 13,
      "outputs": []
    },
    {
      "cell_type": "code",
      "metadata": {
        "id": "_9EyI2115UMp",
        "colab": {
          "base_uri": "https://localhost:8080/",
          "height": 324
        },
        "outputId": "02580929-d04f-4ab7-d20d-9b435772cb12"
      },
      "source": [
        "x_train_small = tf.image.resize(x_train_reorder,(img_pxl_dwngrd, img_pxl_dwngrd), antialias=True).numpy()\n",
        "print(x_train_small.shape)\n",
        "print('random image {} has label {}'.format(exmpl, y_train[exmpl]))\n",
        "plt.imshow(x_train_small[:,:,exmpl])\n",
        "plt.colorbar()"
      ],
      "execution_count": 14,
      "outputs": [
        {
          "output_type": "stream",
          "text": [
            "(4, 4, 100)\n",
            "random image 40 has label 1.0\n"
          ],
          "name": "stdout"
        },
        {
          "output_type": "execute_result",
          "data": {
            "text/plain": [
              "<matplotlib.colorbar.Colorbar at 0x7fa0df357050>"
            ]
          },
          "metadata": {
            "tags": []
          },
          "execution_count": 14
        },
        {
          "output_type": "display_data",
          "data": {
            "image/png": "[encoded data removed]",
            "text/plain": [
              "<Figure size 432x288 with 2 Axes>"
            ]
          },
          "metadata": {
            "tags": [],
            "needs_background": "light"
          }
        }
      ]
    },
    {
      "cell_type": "code",
      "metadata": {
        "colab": {
          "base_uri": "https://localhost:8080/",
          "height": 324
        },
        "id": "_ioNxqPEkmdr",
        "outputId": "38337951-b239-489a-d2f6-5cdcdb2b13b2"
      },
      "source": [
        "x_test_small = tf.image.resize(x_test_reorder,(img_pxl_dwngrd, img_pxl_dwngrd),preserve_aspect_ratio=True, antialias=True).numpy()\n",
        "\n",
        "# Print 20th example including label\n",
        "print(x_test_small.shape)\n",
        "print('random image {} has label {}'.format(exmpl, y_test[exmpl]))\n",
        "plt.imshow(x_test_small[:,:,exmpl])\n",
        "plt.colorbar()"
      ],
      "execution_count": 15,
      "outputs": [
        {
          "output_type": "stream",
          "text": [
            "(4, 4, 100)\n",
            "random image 40 has label 1.0\n"
          ],
          "name": "stdout"
        },
        {
          "output_type": "execute_result",
          "data": {
            "text/plain": [
              "<matplotlib.colorbar.Colorbar at 0x7fa0df292950>"
            ]
          },
          "metadata": {
            "tags": []
          },
          "execution_count": 15
        },
        {
          "output_type": "display_data",
          "data": {
            "image/png": "[encoded data removed]",
            "text/plain": [
              "<Figure size 432x288 with 2 Axes>"
            ]
          },
          "metadata": {
            "tags": [],
            "needs_background": "light"
          }
        }
      ]
    },
    {
      "cell_type": "markdown",
      "metadata": {
        "id": "8wUOXnzqH3FA"
      },
      "source": [
        "multiply all pixel values with * 10^2 for greater differences and still normalzed values"
      ]
    },
    {
      "cell_type": "markdown",
      "metadata": {
        "id": "l1SNztrUFzpU"
      },
      "source": [
        "# Build Q - circuit from classical data\n",
        "\n",
        "--> conversion to binary pixels\n",
        "\n",
        "--> choose Threshold wisely (compare scales of plots of x_train_small/x_test_small"
      ]
    },
    {
      "cell_type": "code",
      "metadata": {
        "colab": {
          "base_uri": "https://localhost:8080/"
        },
        "id": "Yhobb-72DacM",
        "outputId": "4380d8ea-0323-4b2a-a72c-2fe7c437db70"
      },
      "source": [
        "THRESH = 0.006 # get from scale in plot x_train_small/x_test_small\n",
        " \n",
        "x_train_binary = np.array(x_train_small > THRESH, dtype=np.float32)\n",
        "x_test_binary = np.array(x_test_small > THRESH, dtype=np.float32)\n",
        "#x_test_small.shape\n",
        "\n",
        "print(x_train_binary.view())\n",
        "print(x_train_binary.shape)"
      ],
      "execution_count": 16,
      "outputs": [
        {
          "output_type": "stream",
          "text": [
            "[[[0. 0. 0. ... 0. 0. 0.]\n",
            "  [0. 0. 0. ... 0. 0. 0.]\n",
            "  [0. 0. 0. ... 0. 0. 0.]\n",
            "  [0. 0. 0. ... 0. 0. 0.]]\n",
            "\n",
            " [[0. 0. 0. ... 0. 0. 0.]\n",
            "  [0. 0. 0. ... 0. 0. 0.]\n",
            "  [0. 0. 0. ... 0. 0. 1.]\n",
            "  [0. 0. 0. ... 0. 0. 0.]]\n",
            "\n",
            " [[0. 0. 0. ... 0. 0. 0.]\n",
            "  [0. 0. 0. ... 0. 1. 0.]\n",
            "  [0. 0. 1. ... 0. 1. 1.]\n",
            "  [0. 0. 0. ... 0. 0. 0.]]\n",
            "\n",
            " [[0. 0. 0. ... 0. 0. 0.]\n",
            "  [0. 0. 0. ... 0. 0. 0.]\n",
            "  [0. 0. 0. ... 0. 0. 0.]\n",
            "  [0. 0. 0. ... 0. 0. 0.]]]\n",
            "(4, 4, 100)\n"
          ],
          "name": "stdout"
        }
      ]
    },
    {
      "cell_type": "code",
      "metadata": {
        "colab": {
          "base_uri": "https://localhost:8080/",
          "height": 305
        },
        "id": "QcsOHG-qiPiK",
        "outputId": "6ab3edbe-d55a-4e72-91e1-404295c39855"
      },
      "source": [
        "print('random train image {} has label {}'.format(exmpl, y_train[exmpl]))\n",
        "plt.imshow(x_train_binary[:,:,exmpl])\n",
        "plt.colorbar()"
      ],
      "execution_count": 17,
      "outputs": [
        {
          "output_type": "stream",
          "text": [
            "random train image 40 has label 1.0\n"
          ],
          "name": "stdout"
        },
        {
          "output_type": "execute_result",
          "data": {
            "text/plain": [
              "<matplotlib.colorbar.Colorbar at 0x7fa0df1d2650>"
            ]
          },
          "metadata": {
            "tags": []
          },
          "execution_count": 17
        },
        {
          "output_type": "display_data",
          "data": {
            "image/png": "[encoded data removed]",
            "text/plain": [
              "<Figure size 432x288 with 2 Axes>"
            ]
          },
          "metadata": {
            "tags": [],
            "needs_background": "light"
          }
        }
      ]
    },
    {
      "cell_type": "code",
      "metadata": {
        "colab": {
          "base_uri": "https://localhost:8080/",
          "height": 305
        },
        "id": "EACD6XQx2DLC",
        "outputId": "5c841d26-91d0-401c-c8de-82295828696d"
      },
      "source": [
        "print('random test image {} has label {}'.format(exmpl, y_test[exmpl]))\n",
        "plt.imshow(x_test_binary[:,:,exmpl])\n",
        "plt.colorbar()"
      ],
      "execution_count": 18,
      "outputs": [
        {
          "output_type": "stream",
          "text": [
            "random test image 40 has label 1.0\n"
          ],
          "name": "stdout"
        },
        {
          "output_type": "execute_result",
          "data": {
            "text/plain": [
              "<matplotlib.colorbar.Colorbar at 0x7fa0df10e890>"
            ]
          },
          "metadata": {
            "tags": []
          },
          "execution_count": 18
        },
        {
          "output_type": "display_data",
          "data": {
            "image/png": "[encoded data removed]",
            "text/plain": [
              "<Figure size 432x288 with 2 Axes>"
            ]
          },
          "metadata": {
            "tags": [],
            "needs_background": "light"
          }
        }
      ]
    },
    {
      "cell_type": "code",
      "metadata": {
        "colab": {
          "base_uri": "https://localhost:8080/"
        },
        "id": "UHc4729cmmze",
        "outputId": "a28414f7-0f78-4528-dc7a-10c416b13e2a"
      },
      "source": [
        "print(type(x_train_binary))\n",
        "\n",
        "print(x_train_binary.shape[-1])"
      ],
      "execution_count": 19,
      "outputs": [
        {
          "output_type": "stream",
          "text": [
            "<class 'numpy.ndarray'>\n",
            "100\n"
          ],
          "name": "stdout"
        }
      ]
    },
    {
      "cell_type": "code",
      "metadata": {
        "colab": {
          "base_uri": "https://localhost:8080/"
        },
        "id": "jrwIGesikiAw",
        "outputId": "4636c300-fc03-4f08-b09b-d5225f139d68"
      },
      "source": [
        "print(x_train_binary.shape)\n",
        "print(x_train_binary[:,:,0])"
      ],
      "execution_count": 20,
      "outputs": [
        {
          "output_type": "stream",
          "text": [
            "(4, 4, 100)\n",
            "[[0. 0. 0. 0.]\n",
            " [0. 0. 0. 0.]\n",
            " [0. 0. 0. 0.]\n",
            " [0. 0. 0. 0.]]\n"
          ],
          "name": "stdout"
        }
      ]
    },
    {
      "cell_type": "code",
      "metadata": {
        "colab": {
          "base_uri": "https://localhost:8080/"
        },
        "id": "2KKjApobl3hT",
        "outputId": "72ff85c2-11b5-4278-b46c-a2abf6e29bca"
      },
      "source": [
        "for i in range(x_train_binary.shape[-1]):\n",
        "  print(x_train_binary[...,i])\n",
        "#for idx, x in np.ndenumerate(x_train_binary):\n",
        " # print(idx, x) "
      ],
      "execution_count": 21,
      "outputs": [
        {
          "output_type": "stream",
          "text": [
            "[[0. 0. 0. 0.]\n",
            " [0. 0. 0. 0.]\n",
            " [0. 0. 0. 0.]\n",
            " [0. 0. 0. 0.]]\n",
            "[[0. 0. 0. 0.]\n",
            " [0. 0. 0. 0.]\n",
            " [0. 0. 0. 0.]\n",
            " [0. 0. 0. 0.]]\n",
            "[[0. 0. 0. 0.]\n",
            " [0. 0. 0. 0.]\n",
            " [0. 0. 1. 0.]\n",
            " [0. 0. 0. 0.]]\n",
            "[[0. 0. 0. 0.]\n",
            " [0. 0. 0. 0.]\n",
            " [0. 0. 0. 0.]\n",
            " [0. 0. 0. 0.]]\n",
            "[[0. 0. 0. 0.]\n",
            " [0. 0. 0. 0.]\n",
            " [0. 0. 1. 0.]\n",
            " [0. 0. 0. 0.]]\n",
            "[[0. 0. 0. 0.]\n",
            " [0. 0. 0. 0.]\n",
            " [0. 0. 0. 0.]\n",
            " [0. 0. 0. 0.]]\n",
            "[[0. 0. 0. 0.]\n",
            " [0. 0. 1. 0.]\n",
            " [0. 0. 1. 0.]\n",
            " [0. 0. 0. 0.]]\n",
            "[[0. 0. 0. 0.]\n",
            " [0. 0. 0. 0.]\n",
            " [0. 0. 0. 0.]\n",
            " [0. 0. 0. 0.]]\n",
            "[[0. 0. 0. 0.]\n",
            " [0. 0. 0. 0.]\n",
            " [0. 0. 0. 0.]\n",
            " [0. 0. 0. 0.]]\n",
            "[[0. 0. 0. 0.]\n",
            " [0. 0. 0. 0.]\n",
            " [0. 0. 0. 0.]\n",
            " [0. 0. 0. 0.]]\n",
            "[[0. 0. 0. 0.]\n",
            " [0. 0. 0. 0.]\n",
            " [0. 0. 0. 0.]\n",
            " [0. 0. 0. 0.]]\n",
            "[[0. 0. 0. 0.]\n",
            " [0. 0. 0. 0.]\n",
            " [0. 0. 1. 0.]\n",
            " [0. 0. 0. 0.]]\n",
            "[[0. 0. 0. 0.]\n",
            " [0. 0. 0. 0.]\n",
            " [0. 0. 0. 0.]\n",
            " [0. 0. 0. 0.]]\n",
            "[[0. 0. 0. 0.]\n",
            " [0. 0. 0. 0.]\n",
            " [0. 0. 0. 0.]\n",
            " [0. 0. 0. 0.]]\n",
            "[[0. 0. 0. 0.]\n",
            " [0. 0. 0. 0.]\n",
            " [0. 0. 0. 0.]\n",
            " [0. 0. 0. 0.]]\n",
            "[[0. 0. 0. 0.]\n",
            " [0. 0. 0. 0.]\n",
            " [0. 0. 1. 0.]\n",
            " [0. 0. 0. 0.]]\n",
            "[[0. 0. 0. 0.]\n",
            " [0. 0. 0. 0.]\n",
            " [0. 0. 0. 0.]\n",
            " [0. 0. 0. 0.]]\n",
            "[[0. 0. 0. 0.]\n",
            " [0. 0. 0. 0.]\n",
            " [0. 0. 1. 0.]\n",
            " [0. 0. 0. 0.]]\n",
            "[[0. 0. 0. 0.]\n",
            " [0. 0. 0. 0.]\n",
            " [0. 1. 1. 0.]\n",
            " [0. 0. 0. 0.]]\n",
            "[[0. 0. 0. 0.]\n",
            " [0. 0. 0. 0.]\n",
            " [0. 0. 1. 0.]\n",
            " [0. 0. 0. 0.]]\n",
            "[[0. 0. 0. 0.]\n",
            " [0. 0. 0. 0.]\n",
            " [0. 1. 1. 0.]\n",
            " [0. 0. 0. 0.]]\n",
            "[[0. 0. 0. 0.]\n",
            " [0. 0. 1. 0.]\n",
            " [0. 0. 1. 0.]\n",
            " [0. 0. 0. 0.]]\n",
            "[[0. 0. 0. 0.]\n",
            " [0. 0. 0. 0.]\n",
            " [0. 0. 1. 0.]\n",
            " [0. 0. 0. 0.]]\n",
            "[[0. 0. 0. 0.]\n",
            " [0. 0. 0. 0.]\n",
            " [0. 0. 0. 0.]\n",
            " [0. 0. 0. 0.]]\n",
            "[[0. 0. 0. 0.]\n",
            " [0. 0. 0. 0.]\n",
            " [0. 0. 0. 0.]\n",
            " [0. 0. 0. 0.]]\n",
            "[[0. 0. 0. 0.]\n",
            " [0. 0. 0. 0.]\n",
            " [0. 0. 0. 0.]\n",
            " [0. 0. 0. 0.]]\n",
            "[[0. 0. 0. 0.]\n",
            " [0. 0. 0. 0.]\n",
            " [0. 0. 0. 0.]\n",
            " [0. 0. 0. 0.]]\n",
            "[[0. 0. 0. 0.]\n",
            " [0. 0. 1. 0.]\n",
            " [0. 0. 1. 0.]\n",
            " [0. 0. 0. 0.]]\n",
            "[[0. 0. 0. 0.]\n",
            " [0. 0. 0. 0.]\n",
            " [0. 0. 1. 0.]\n",
            " [0. 0. 0. 0.]]\n",
            "[[0. 0. 0. 0.]\n",
            " [0. 0. 0. 0.]\n",
            " [0. 0. 1. 0.]\n",
            " [0. 0. 0. 0.]]\n",
            "[[0. 0. 0. 0.]\n",
            " [0. 0. 0. 0.]\n",
            " [0. 1. 1. 0.]\n",
            " [0. 0. 0. 0.]]\n",
            "[[0. 0. 0. 0.]\n",
            " [0. 0. 0. 0.]\n",
            " [0. 0. 0. 0.]\n",
            " [0. 0. 0. 0.]]\n",
            "[[0. 0. 0. 0.]\n",
            " [0. 0. 0. 0.]\n",
            " [0. 0. 0. 0.]\n",
            " [0. 0. 0. 0.]]\n",
            "[[0. 0. 0. 0.]\n",
            " [0. 0. 0. 0.]\n",
            " [0. 1. 1. 0.]\n",
            " [0. 0. 0. 0.]]\n",
            "[[0. 0. 0. 0.]\n",
            " [0. 0. 0. 0.]\n",
            " [0. 0. 0. 0.]\n",
            " [0. 0. 0. 0.]]\n",
            "[[0. 0. 0. 0.]\n",
            " [0. 0. 1. 0.]\n",
            " [0. 1. 1. 0.]\n",
            " [0. 0. 0. 0.]]\n",
            "[[0. 0. 0. 0.]\n",
            " [0. 0. 1. 0.]\n",
            " [0. 0. 1. 0.]\n",
            " [0. 0. 0. 0.]]\n",
            "[[0. 0. 0. 0.]\n",
            " [0. 0. 0. 0.]\n",
            " [0. 0. 0. 0.]\n",
            " [0. 0. 0. 0.]]\n",
            "[[0. 0. 0. 0.]\n",
            " [0. 0. 0. 0.]\n",
            " [0. 0. 0. 0.]\n",
            " [0. 0. 0. 0.]]\n",
            "[[0. 0. 0. 0.]\n",
            " [0. 0. 0. 0.]\n",
            " [0. 0. 0. 0.]\n",
            " [0. 0. 0. 0.]]\n",
            "[[0. 0. 0. 0.]\n",
            " [0. 0. 0. 0.]\n",
            " [0. 0. 1. 0.]\n",
            " [0. 0. 0. 0.]]\n",
            "[[0. 0. 0. 0.]\n",
            " [0. 0. 0. 0.]\n",
            " [0. 0. 1. 0.]\n",
            " [0. 0. 0. 0.]]\n",
            "[[0. 0. 0. 0.]\n",
            " [0. 0. 1. 0.]\n",
            " [0. 0. 1. 0.]\n",
            " [0. 0. 0. 0.]]\n",
            "[[0. 0. 0. 0.]\n",
            " [0. 0. 0. 0.]\n",
            " [0. 0. 0. 0.]\n",
            " [0. 0. 0. 0.]]\n",
            "[[0. 0. 0. 0.]\n",
            " [0. 0. 0. 0.]\n",
            " [0. 0. 0. 0.]\n",
            " [0. 0. 0. 0.]]\n",
            "[[0. 0. 0. 0.]\n",
            " [0. 0. 0. 0.]\n",
            " [0. 0. 0. 0.]\n",
            " [0. 0. 0. 0.]]\n",
            "[[0. 0. 0. 0.]\n",
            " [0. 0. 0. 0.]\n",
            " [0. 0. 1. 0.]\n",
            " [0. 0. 0. 0.]]\n",
            "[[0. 0. 0. 0.]\n",
            " [0. 0. 0. 0.]\n",
            " [0. 1. 1. 0.]\n",
            " [0. 0. 0. 0.]]\n",
            "[[0. 0. 0. 0.]\n",
            " [0. 0. 0. 0.]\n",
            " [0. 0. 0. 0.]\n",
            " [0. 0. 0. 0.]]\n",
            "[[0. 0. 0. 0.]\n",
            " [0. 0. 0. 0.]\n",
            " [0. 1. 1. 0.]\n",
            " [0. 0. 0. 0.]]\n",
            "[[0. 0. 0. 0.]\n",
            " [0. 0. 0. 0.]\n",
            " [0. 0. 0. 0.]\n",
            " [0. 0. 0. 0.]]\n",
            "[[0. 0. 0. 0.]\n",
            " [0. 0. 0. 0.]\n",
            " [0. 0. 0. 0.]\n",
            " [0. 0. 0. 0.]]\n",
            "[[0. 0. 0. 0.]\n",
            " [0. 0. 1. 0.]\n",
            " [0. 0. 1. 0.]\n",
            " [0. 0. 0. 0.]]\n",
            "[[0. 0. 0. 0.]\n",
            " [0. 0. 0. 0.]\n",
            " [0. 0. 1. 0.]\n",
            " [0. 0. 0. 0.]]\n",
            "[[0. 0. 0. 0.]\n",
            " [0. 0. 0. 0.]\n",
            " [0. 0. 0. 0.]\n",
            " [0. 0. 0. 0.]]\n",
            "[[0. 0. 0. 0.]\n",
            " [0. 0. 0. 0.]\n",
            " [0. 0. 0. 0.]\n",
            " [0. 0. 0. 0.]]\n",
            "[[0. 0. 0. 0.]\n",
            " [0. 1. 0. 0.]\n",
            " [0. 1. 1. 0.]\n",
            " [0. 0. 0. 0.]]\n",
            "[[0. 0. 0. 0.]\n",
            " [0. 0. 0. 0.]\n",
            " [0. 0. 0. 0.]\n",
            " [0. 0. 0. 0.]]\n",
            "[[0. 0. 0. 0.]\n",
            " [0. 0. 0. 0.]\n",
            " [0. 0. 0. 0.]\n",
            " [0. 0. 0. 0.]]\n",
            "[[0. 0. 0. 0.]\n",
            " [0. 0. 0. 0.]\n",
            " [0. 1. 1. 0.]\n",
            " [0. 0. 0. 0.]]\n",
            "[[0. 0. 0. 0.]\n",
            " [0. 0. 0. 0.]\n",
            " [0. 0. 1. 0.]\n",
            " [0. 0. 0. 0.]]\n",
            "[[0. 0. 0. 0.]\n",
            " [0. 0. 0. 0.]\n",
            " [0. 0. 0. 0.]\n",
            " [0. 0. 0. 0.]]\n",
            "[[0. 0. 0. 0.]\n",
            " [0. 0. 0. 0.]\n",
            " [0. 0. 0. 0.]\n",
            " [0. 0. 0. 0.]]\n",
            "[[0. 0. 0. 0.]\n",
            " [0. 0. 0. 0.]\n",
            " [0. 0. 0. 0.]\n",
            " [0. 0. 0. 0.]]\n",
            "[[0. 0. 0. 0.]\n",
            " [0. 0. 0. 0.]\n",
            " [0. 1. 0. 0.]\n",
            " [0. 0. 0. 0.]]\n",
            "[[0. 0. 0. 0.]\n",
            " [0. 0. 0. 0.]\n",
            " [0. 0. 1. 0.]\n",
            " [0. 0. 0. 0.]]\n",
            "[[0. 0. 0. 0.]\n",
            " [0. 0. 1. 0.]\n",
            " [0. 0. 1. 0.]\n",
            " [0. 0. 0. 0.]]\n",
            "[[0. 0. 0. 0.]\n",
            " [0. 0. 1. 0.]\n",
            " [0. 1. 1. 0.]\n",
            " [0. 0. 0. 0.]]\n",
            "[[0. 0. 0. 0.]\n",
            " [0. 0. 1. 0.]\n",
            " [0. 0. 1. 0.]\n",
            " [0. 0. 0. 0.]]\n",
            "[[0. 0. 0. 0.]\n",
            " [0. 0. 0. 0.]\n",
            " [0. 0. 1. 0.]\n",
            " [0. 0. 0. 0.]]\n",
            "[[0. 0. 0. 0.]\n",
            " [0. 0. 1. 0.]\n",
            " [0. 1. 1. 0.]\n",
            " [0. 0. 0. 0.]]\n",
            "[[0. 0. 0. 0.]\n",
            " [0. 0. 0. 0.]\n",
            " [0. 0. 1. 0.]\n",
            " [0. 0. 0. 0.]]\n",
            "[[0. 0. 0. 0.]\n",
            " [0. 0. 0. 0.]\n",
            " [0. 0. 0. 0.]\n",
            " [0. 0. 0. 0.]]\n",
            "[[0. 0. 0. 0.]\n",
            " [0. 0. 1. 0.]\n",
            " [0. 1. 1. 0.]\n",
            " [0. 0. 0. 0.]]\n",
            "[[0. 0. 0. 0.]\n",
            " [0. 0. 0. 0.]\n",
            " [0. 0. 0. 0.]\n",
            " [0. 0. 0. 0.]]\n",
            "[[0. 0. 0. 0.]\n",
            " [0. 0. 0. 0.]\n",
            " [0. 0. 1. 0.]\n",
            " [0. 0. 0. 0.]]\n",
            "[[0. 0. 0. 0.]\n",
            " [0. 0. 0. 0.]\n",
            " [0. 0. 0. 0.]\n",
            " [0. 0. 0. 0.]]\n",
            "[[0. 0. 0. 0.]\n",
            " [0. 0. 0. 0.]\n",
            " [0. 0. 0. 0.]\n",
            " [0. 0. 0. 0.]]\n",
            "[[0. 0. 0. 0.]\n",
            " [0. 0. 0. 0.]\n",
            " [0. 0. 0. 0.]\n",
            " [0. 0. 0. 0.]]\n",
            "[[0. 0. 0. 0.]\n",
            " [0. 0. 0. 0.]\n",
            " [0. 0. 0. 0.]\n",
            " [0. 0. 0. 0.]]\n",
            "[[0. 0. 0. 0.]\n",
            " [0. 0. 0. 0.]\n",
            " [0. 0. 0. 0.]\n",
            " [0. 0. 0. 0.]]\n",
            "[[0. 0. 0. 0.]\n",
            " [0. 1. 0. 0.]\n",
            " [0. 1. 0. 0.]\n",
            " [0. 0. 0. 0.]]\n",
            "[[0. 0. 0. 0.]\n",
            " [0. 0. 0. 0.]\n",
            " [0. 1. 1. 0.]\n",
            " [0. 0. 0. 0.]]\n",
            "[[0. 0. 0. 0.]\n",
            " [0. 0. 0. 0.]\n",
            " [0. 0. 1. 0.]\n",
            " [0. 0. 0. 0.]]\n",
            "[[0. 0. 0. 0.]\n",
            " [0. 0. 0. 0.]\n",
            " [0. 0. 0. 0.]\n",
            " [0. 0. 0. 0.]]\n",
            "[[0. 0. 0. 0.]\n",
            " [0. 0. 0. 0.]\n",
            " [0. 0. 1. 0.]\n",
            " [0. 0. 0. 0.]]\n",
            "[[0. 0. 0. 0.]\n",
            " [0. 0. 0. 0.]\n",
            " [0. 0. 0. 0.]\n",
            " [0. 0. 0. 0.]]\n",
            "[[0. 0. 0. 0.]\n",
            " [0. 0. 0. 0.]\n",
            " [0. 0. 0. 0.]\n",
            " [0. 0. 0. 0.]]\n",
            "[[0. 0. 0. 0.]\n",
            " [0. 0. 0. 0.]\n",
            " [0. 0. 0. 0.]\n",
            " [0. 0. 0. 0.]]\n",
            "[[0. 0. 0. 0.]\n",
            " [0. 0. 0. 0.]\n",
            " [0. 0. 1. 0.]\n",
            " [0. 0. 0. 0.]]\n",
            "[[0. 0. 0. 0.]\n",
            " [0. 0. 0. 0.]\n",
            " [0. 0. 0. 0.]\n",
            " [0. 0. 0. 0.]]\n",
            "[[0. 0. 0. 0.]\n",
            " [0. 0. 0. 0.]\n",
            " [0. 0. 1. 0.]\n",
            " [0. 0. 0. 0.]]\n",
            "[[0. 0. 0. 0.]\n",
            " [0. 0. 0. 0.]\n",
            " [0. 0. 0. 0.]\n",
            " [0. 0. 0. 0.]]\n",
            "[[0. 0. 0. 0.]\n",
            " [0. 0. 0. 0.]\n",
            " [0. 0. 0. 0.]\n",
            " [0. 0. 0. 0.]]\n",
            "[[0. 0. 0. 0.]\n",
            " [0. 0. 0. 0.]\n",
            " [0. 0. 0. 0.]\n",
            " [0. 0. 0. 0.]]\n",
            "[[0. 0. 0. 0.]\n",
            " [0. 0. 0. 0.]\n",
            " [0. 0. 0. 0.]\n",
            " [0. 0. 0. 0.]]\n",
            "[[0. 0. 0. 0.]\n",
            " [0. 0. 0. 0.]\n",
            " [0. 0. 0. 0.]\n",
            " [0. 0. 0. 0.]]\n",
            "[[0. 0. 0. 0.]\n",
            " [0. 0. 0. 0.]\n",
            " [0. 0. 0. 0.]\n",
            " [0. 0. 0. 0.]]\n",
            "[[0. 0. 0. 0.]\n",
            " [0. 0. 0. 0.]\n",
            " [0. 1. 1. 0.]\n",
            " [0. 0. 0. 0.]]\n",
            "[[0. 0. 0. 0.]\n",
            " [0. 0. 1. 0.]\n",
            " [0. 0. 1. 0.]\n",
            " [0. 0. 0. 0.]]\n"
          ],
          "name": "stdout"
        }
      ]
    },
    {
      "cell_type": "code",
      "metadata": {
        "colab": {
          "base_uri": "https://localhost:8080/"
        },
        "id": "qWjk9shun4tZ",
        "outputId": "8df15d2f-f1cd-41d5-82be-7c8ca35e6ebb"
      },
      "source": [
        "flat_img = np.ndarray.flatten(x_train_binary[:,:,0])   #flat image to have only one for loop\n",
        "print(len(flat_img))\n",
        "print(flat_img)"
      ],
      "execution_count": 22,
      "outputs": [
        {
          "output_type": "stream",
          "text": [
            "16\n",
            "[0. 0. 0. 0. 0. 0. 0. 0. 0. 0. 0. 0. 0. 0. 0. 0.]\n"
          ],
          "name": "stdout"
        }
      ]
    },
    {
      "cell_type": "markdown",
      "metadata": {
        "id": "gMjbpqrxQc5w"
      },
      "source": [
        ""
      ]
    },
    {
      "cell_type": "code",
      "metadata": {
        "colab": {
          "base_uri": "https://localhost:8080/"
        },
        "id": "G9omkrpgOwNM",
        "outputId": "981c5964-4d49-4898-df71-47f067e18965"
      },
      "source": [
        " for x in x_train_binary:\n",
        "   print(x)"
      ],
      "execution_count": 23,
      "outputs": [
        {
          "output_type": "stream",
          "text": [
            "[[0. 0. 0. 0. 0. 0. 0. 0. 0. 0. 0. 0. 0. 0. 0. 0. 0. 0. 0. 0. 0. 0. 0. 0.\n",
            "  0. 0. 0. 0. 0. 0. 0. 0. 0. 0. 0. 0. 0. 0. 0. 0. 0. 0. 0. 0. 0. 0. 0. 0.\n",
            "  0. 0. 0. 0. 0. 0. 0. 0. 0. 0. 0. 0. 0. 0. 0. 0. 0. 0. 0. 0. 0. 0. 0. 0.\n",
            "  0. 0. 0. 0. 0. 0. 0. 0. 0. 0. 0. 0. 0. 0. 0. 0. 0. 0. 0. 0. 0. 0. 0. 0.\n",
            "  0. 0. 0. 0.]\n",
            " [0. 0. 0. 0. 0. 0. 0. 0. 0. 0. 0. 0. 0. 0. 0. 0. 0. 0. 0. 0. 0. 0. 0. 0.\n",
            "  0. 0. 0. 0. 0. 0. 0. 0. 0. 0. 0. 0. 0. 0. 0. 0. 0. 0. 0. 0. 0. 0. 0. 0.\n",
            "  0. 0. 0. 0. 0. 0. 0. 0. 0. 0. 0. 0. 0. 0. 0. 0. 0. 0. 0. 0. 0. 0. 0. 0.\n",
            "  0. 0. 0. 0. 0. 0. 0. 0. 0. 0. 0. 0. 0. 0. 0. 0. 0. 0. 0. 0. 0. 0. 0. 0.\n",
            "  0. 0. 0. 0.]\n",
            " [0. 0. 0. 0. 0. 0. 0. 0. 0. 0. 0. 0. 0. 0. 0. 0. 0. 0. 0. 0. 0. 0. 0. 0.\n",
            "  0. 0. 0. 0. 0. 0. 0. 0. 0. 0. 0. 0. 0. 0. 0. 0. 0. 0. 0. 0. 0. 0. 0. 0.\n",
            "  0. 0. 0. 0. 0. 0. 0. 0. 0. 0. 0. 0. 0. 0. 0. 0. 0. 0. 0. 0. 0. 0. 0. 0.\n",
            "  0. 0. 0. 0. 0. 0. 0. 0. 0. 0. 0. 0. 0. 0. 0. 0. 0. 0. 0. 0. 0. 0. 0. 0.\n",
            "  0. 0. 0. 0.]\n",
            " [0. 0. 0. 0. 0. 0. 0. 0. 0. 0. 0. 0. 0. 0. 0. 0. 0. 0. 0. 0. 0. 0. 0. 0.\n",
            "  0. 0. 0. 0. 0. 0. 0. 0. 0. 0. 0. 0. 0. 0. 0. 0. 0. 0. 0. 0. 0. 0. 0. 0.\n",
            "  0. 0. 0. 0. 0. 0. 0. 0. 0. 0. 0. 0. 0. 0. 0. 0. 0. 0. 0. 0. 0. 0. 0. 0.\n",
            "  0. 0. 0. 0. 0. 0. 0. 0. 0. 0. 0. 0. 0. 0. 0. 0. 0. 0. 0. 0. 0. 0. 0. 0.\n",
            "  0. 0. 0. 0.]]\n",
            "[[0. 0. 0. 0. 0. 0. 0. 0. 0. 0. 0. 0. 0. 0. 0. 0. 0. 0. 0. 0. 0. 0. 0. 0.\n",
            "  0. 0. 0. 0. 0. 0. 0. 0. 0. 0. 0. 0. 0. 0. 0. 0. 0. 0. 0. 0. 0. 0. 0. 0.\n",
            "  0. 0. 0. 0. 0. 0. 0. 0. 0. 0. 0. 0. 0. 0. 0. 0. 0. 0. 0. 0. 0. 0. 0. 0.\n",
            "  0. 0. 0. 0. 0. 0. 0. 0. 0. 0. 0. 0. 0. 0. 0. 0. 0. 0. 0. 0. 0. 0. 0. 0.\n",
            "  0. 0. 0. 0.]\n",
            " [0. 0. 0. 0. 0. 0. 0. 0. 0. 0. 0. 0. 0. 0. 0. 0. 0. 0. 0. 0. 0. 0. 0. 0.\n",
            "  0. 0. 0. 0. 0. 0. 0. 0. 0. 0. 0. 0. 0. 0. 0. 0. 0. 0. 0. 0. 0. 0. 0. 0.\n",
            "  0. 0. 0. 0. 0. 0. 0. 0. 1. 0. 0. 0. 0. 0. 0. 0. 0. 0. 0. 0. 0. 0. 0. 0.\n",
            "  0. 0. 0. 0. 0. 0. 0. 0. 0. 1. 0. 0. 0. 0. 0. 0. 0. 0. 0. 0. 0. 0. 0. 0.\n",
            "  0. 0. 0. 0.]\n",
            " [0. 0. 0. 0. 0. 0. 1. 0. 0. 0. 0. 0. 0. 0. 0. 0. 0. 0. 0. 0. 0. 1. 0. 0.\n",
            "  0. 0. 0. 1. 0. 0. 0. 0. 0. 0. 0. 1. 1. 0. 0. 0. 0. 0. 1. 0. 0. 0. 0. 0.\n",
            "  0. 0. 0. 0. 1. 0. 0. 0. 0. 0. 0. 0. 0. 0. 0. 0. 0. 0. 1. 1. 1. 0. 1. 0.\n",
            "  0. 1. 0. 0. 0. 0. 0. 0. 0. 0. 0. 0. 0. 0. 0. 0. 0. 0. 0. 0. 0. 0. 0. 0.\n",
            "  0. 0. 0. 1.]\n",
            " [0. 0. 0. 0. 0. 0. 0. 0. 0. 0. 0. 0. 0. 0. 0. 0. 0. 0. 0. 0. 0. 0. 0. 0.\n",
            "  0. 0. 0. 0. 0. 0. 0. 0. 0. 0. 0. 0. 0. 0. 0. 0. 0. 0. 0. 0. 0. 0. 0. 0.\n",
            "  0. 0. 0. 0. 0. 0. 0. 0. 0. 0. 0. 0. 0. 0. 0. 0. 0. 0. 0. 0. 0. 0. 0. 0.\n",
            "  0. 0. 0. 0. 0. 0. 0. 0. 0. 0. 0. 0. 0. 0. 0. 0. 0. 0. 0. 0. 0. 0. 0. 0.\n",
            "  0. 0. 0. 0.]]\n",
            "[[0. 0. 0. 0. 0. 0. 0. 0. 0. 0. 0. 0. 0. 0. 0. 0. 0. 0. 0. 0. 0. 0. 0. 0.\n",
            "  0. 0. 0. 0. 0. 0. 0. 0. 0. 0. 0. 0. 0. 0. 0. 0. 0. 0. 0. 0. 0. 0. 0. 0.\n",
            "  0. 0. 0. 0. 0. 0. 0. 0. 0. 0. 0. 0. 0. 0. 0. 0. 0. 0. 0. 0. 0. 0. 0. 0.\n",
            "  0. 0. 0. 0. 0. 0. 0. 0. 0. 0. 0. 0. 0. 0. 0. 0. 0. 0. 0. 0. 0. 0. 0. 0.\n",
            "  0. 0. 0. 0.]\n",
            " [0. 0. 0. 0. 0. 0. 0. 0. 0. 0. 0. 0. 0. 0. 0. 0. 0. 0. 1. 0. 1. 0. 0. 0.\n",
            "  0. 0. 0. 0. 0. 0. 1. 0. 0. 1. 0. 1. 0. 0. 0. 0. 0. 0. 0. 0. 0. 0. 0. 1.\n",
            "  0. 1. 0. 0. 0. 0. 0. 0. 1. 0. 0. 1. 0. 0. 0. 0. 1. 0. 0. 1. 0. 0. 1. 0.\n",
            "  0. 1. 0. 0. 0. 0. 0. 0. 0. 1. 1. 0. 0. 0. 0. 0. 0. 0. 0. 0. 0. 0. 0. 0.\n",
            "  0. 0. 1. 0.]\n",
            " [0. 0. 1. 0. 1. 0. 1. 0. 0. 0. 0. 1. 0. 0. 0. 1. 0. 1. 1. 1. 1. 1. 1. 0.\n",
            "  0. 0. 0. 1. 1. 1. 1. 0. 0. 1. 0. 1. 1. 0. 0. 0. 1. 1. 1. 0. 0. 0. 1. 1.\n",
            "  0. 1. 0. 0. 1. 1. 0. 0. 1. 0. 0. 1. 1. 0. 0. 0. 0. 1. 1. 1. 1. 1. 1. 1.\n",
            "  0. 1. 0. 1. 0. 0. 0. 0. 0. 0. 1. 1. 0. 1. 0. 0. 0. 1. 0. 1. 0. 0. 0. 0.\n",
            "  0. 0. 1. 1.]\n",
            " [0. 0. 0. 0. 0. 0. 0. 0. 0. 0. 0. 0. 0. 0. 0. 0. 0. 0. 0. 0. 0. 0. 0. 0.\n",
            "  0. 0. 0. 0. 0. 0. 0. 0. 0. 0. 0. 0. 0. 0. 0. 0. 0. 0. 0. 0. 0. 0. 0. 0.\n",
            "  0. 0. 0. 0. 0. 0. 0. 0. 0. 0. 0. 0. 0. 0. 0. 0. 0. 0. 0. 0. 0. 0. 0. 0.\n",
            "  0. 0. 0. 0. 0. 0. 0. 0. 0. 0. 0. 0. 0. 0. 0. 0. 0. 0. 0. 0. 0. 0. 0. 0.\n",
            "  0. 0. 0. 0.]]\n",
            "[[0. 0. 0. 0. 0. 0. 0. 0. 0. 0. 0. 0. 0. 0. 0. 0. 0. 0. 0. 0. 0. 0. 0. 0.\n",
            "  0. 0. 0. 0. 0. 0. 0. 0. 0. 0. 0. 0. 0. 0. 0. 0. 0. 0. 0. 0. 0. 0. 0. 0.\n",
            "  0. 0. 0. 0. 0. 0. 0. 0. 0. 0. 0. 0. 0. 0. 0. 0. 0. 0. 0. 0. 0. 0. 0. 0.\n",
            "  0. 0. 0. 0. 0. 0. 0. 0. 0. 0. 0. 0. 0. 0. 0. 0. 0. 0. 0. 0. 0. 0. 0. 0.\n",
            "  0. 0. 0. 0.]\n",
            " [0. 0. 0. 0. 0. 0. 0. 0. 0. 0. 0. 0. 0. 0. 0. 0. 0. 0. 0. 0. 0. 0. 0. 0.\n",
            "  0. 0. 0. 0. 0. 0. 0. 0. 0. 0. 0. 0. 0. 0. 0. 0. 0. 0. 0. 0. 0. 0. 0. 0.\n",
            "  0. 0. 0. 0. 0. 0. 0. 0. 0. 0. 0. 0. 0. 0. 0. 0. 0. 0. 0. 0. 0. 0. 0. 0.\n",
            "  0. 0. 0. 0. 0. 0. 0. 0. 0. 0. 0. 0. 0. 0. 0. 0. 0. 0. 0. 0. 0. 0. 0. 0.\n",
            "  0. 0. 0. 0.]\n",
            " [0. 0. 0. 0. 0. 0. 0. 0. 0. 0. 0. 0. 0. 0. 0. 0. 0. 0. 0. 0. 0. 0. 0. 0.\n",
            "  0. 0. 0. 0. 0. 0. 0. 0. 0. 0. 0. 0. 0. 0. 0. 0. 0. 0. 0. 0. 0. 0. 0. 0.\n",
            "  0. 0. 0. 0. 0. 0. 0. 0. 0. 0. 0. 0. 0. 0. 0. 0. 0. 0. 0. 0. 0. 0. 0. 0.\n",
            "  0. 0. 0. 0. 0. 0. 0. 0. 0. 0. 0. 0. 0. 0. 0. 0. 0. 0. 0. 0. 0. 0. 0. 0.\n",
            "  0. 0. 0. 0.]\n",
            " [0. 0. 0. 0. 0. 0. 0. 0. 0. 0. 0. 0. 0. 0. 0. 0. 0. 0. 0. 0. 0. 0. 0. 0.\n",
            "  0. 0. 0. 0. 0. 0. 0. 0. 0. 0. 0. 0. 0. 0. 0. 0. 0. 0. 0. 0. 0. 0. 0. 0.\n",
            "  0. 0. 0. 0. 0. 0. 0. 0. 0. 0. 0. 0. 0. 0. 0. 0. 0. 0. 0. 0. 0. 0. 0. 0.\n",
            "  0. 0. 0. 0. 0. 0. 0. 0. 0. 0. 0. 0. 0. 0. 0. 0. 0. 0. 0. 0. 0. 0. 0. 0.\n",
            "  0. 0. 0. 0.]]\n"
          ],
          "name": "stdout"
        }
      ]
    },
    {
      "cell_type": "markdown",
      "metadata": {
        "id": "K5EeTN0Z3Vqm"
      },
      "source": [
        "# Create Q - Circuit\n",
        "\n",
        "1. x-gate ( at each array element with  1)"
      ]
    },
    {
      "cell_type": "code",
      "metadata": {
        "id": "T-FqmgEX8yyj"
      },
      "source": [
        "def convert_to_circuit(image, pixel_number_height, pixel_number_width):\n",
        "    \"\"\"Encode truncated classical image into quantum datapoint.\"\"\"\n",
        "    values = np.ndarray.flatten(image)\n",
        "    qubits = cirq.GridQubit.rect(pixel_number_height, pixel_number_width)\n",
        "    circuit = cirq.Circuit()\n",
        "    for i, value in enumerate(values):\n",
        "        if value:\n",
        "            circuit.append(cirq.X(qubits[i]))\n",
        "    return circuit\n",
        "\n",
        "\n",
        "#x_train_cirq  = [convert_to_circuit(x) for x in x_train_binary]\n",
        "#x_test_cirq   = [conv_bnry_to_circuit(x) for x in x_test_binary]"
      ],
      "execution_count": 24,
      "outputs": []
    },
    {
      "cell_type": "code",
      "metadata": {
        "id": "uxMvfCSQ9nca"
      },
      "source": [
        "x_train_cirq_lst  = []\n",
        "x_test_cirq_lst   = []\n",
        "\n",
        "for i in range(x_train_binary.shape[-1]):\n",
        "  x_train_cirq = convert_to_circuit(x_train_binary[...,i], img_pxl_dwngrd, img_pxl_dwngrd )\n",
        "  x_test_cirq = convert_to_circuit(x_test_binary[...,i],img_pxl_dwngrd,img_pxl_dwngrd)\n",
        "  x_train_cirq_lst.append(x_train_cirq) \n",
        "  x_test_cirq_lst.append(x_test_cirq)"
      ],
      "execution_count": 25,
      "outputs": []
    },
    {
      "cell_type": "code",
      "metadata": {
        "colab": {
          "base_uri": "https://localhost:8080/"
        },
        "id": "FPI2eMHdoH_k",
        "outputId": "ca365421-6be2-4a0c-baf5-437af8d77f2b"
      },
      "source": [
        "SVGCircuit(x_train_cirq_lst[exmpl])\n",
        "print('Circuit elements for pixel / elements with 1 for example{}'.format(exmpl) )"
      ],
      "execution_count": 26,
      "outputs": [
        {
          "output_type": "stream",
          "text": [
            "Circuit elements for pixel / elements with 1 for example40\n"
          ],
          "name": "stdout"
        }
      ]
    },
    {
      "cell_type": "code",
      "metadata": {
        "colab": {
          "base_uri": "https://localhost:8080/"
        },
        "id": "cCeh-BhMoH8N",
        "outputId": "cf2a11b2-ae61-4fd0-f077-5c7c53cee14c"
      },
      "source": [
        "bin_img_train = x_train_binary[:,:,exmpl]\n",
        "indices = np.array(np.where(bin_img_train)).T\n",
        "indices"
      ],
      "execution_count": 27,
      "outputs": [
        {
          "output_type": "execute_result",
          "data": {
            "text/plain": [
              "array([[2, 2]])"
            ]
          },
          "metadata": {
            "tags": []
          },
          "execution_count": 27
        }
      ]
    },
    {
      "cell_type": "code",
      "metadata": {
        "colab": {
          "base_uri": "https://localhost:8080/",
          "height": 450
        },
        "id": "EwLCF3gmRcVe",
        "outputId": "1ed47e7e-8ce7-497e-e24e-caee2fe7f31d"
      },
      "source": [
        "SVGCircuit(x_test_cirq_lst[exmpl])"
      ],
      "execution_count": 43,
      "outputs": [
        {
          "output_type": "error",
          "ename": "ValueError",
          "evalue": "ignored",
          "traceback": [
            "\u001b[0;31m---------------------------------------------------------------------------\u001b[0m",
            "\u001b[0;31mValueError\u001b[0m                                Traceback (most recent call last)",
            "\u001b[0;32m/usr/local/lib/python3.7/dist-packages/IPython/core/formatters.py\u001b[0m in \u001b[0;36m__call__\u001b[0;34m(self, obj)\u001b[0m\n\u001b[1;32m    336\u001b[0m             \u001b[0mmethod\u001b[0m \u001b[0;34m=\u001b[0m \u001b[0mget_real_method\u001b[0m\u001b[0;34m(\u001b[0m\u001b[0mobj\u001b[0m\u001b[0;34m,\u001b[0m \u001b[0mself\u001b[0m\u001b[0;34m.\u001b[0m\u001b[0mprint_method\u001b[0m\u001b[0;34m)\u001b[0m\u001b[0;34m\u001b[0m\u001b[0;34m\u001b[0m\u001b[0m\n\u001b[1;32m    337\u001b[0m             \u001b[0;32mif\u001b[0m \u001b[0mmethod\u001b[0m \u001b[0;32mis\u001b[0m \u001b[0;32mnot\u001b[0m \u001b[0;32mNone\u001b[0m\u001b[0;34m:\u001b[0m\u001b[0;34m\u001b[0m\u001b[0;34m\u001b[0m\u001b[0m\n\u001b[0;32m--> 338\u001b[0;31m                 \u001b[0;32mreturn\u001b[0m \u001b[0mmethod\u001b[0m\u001b[0;34m(\u001b[0m\u001b[0;34m)\u001b[0m\u001b[0;34m\u001b[0m\u001b[0;34m\u001b[0m\u001b[0m\n\u001b[0m\u001b[1;32m    339\u001b[0m             \u001b[0;32mreturn\u001b[0m \u001b[0;32mNone\u001b[0m\u001b[0;34m\u001b[0m\u001b[0;34m\u001b[0m\u001b[0m\n\u001b[1;32m    340\u001b[0m         \u001b[0;32melse\u001b[0m\u001b[0;34m:\u001b[0m\u001b[0;34m\u001b[0m\u001b[0;34m\u001b[0m\u001b[0m\n",
            "\u001b[0;32m/usr/local/lib/python3.7/dist-packages/cirq/contrib/svg/svg.py\u001b[0m in \u001b[0;36m_repr_svg_\u001b[0;34m(self)\u001b[0m\n\u001b[1;32m    256\u001b[0m     \u001b[0;32mdef\u001b[0m \u001b[0m_repr_svg_\u001b[0m\u001b[0;34m(\u001b[0m\u001b[0mself\u001b[0m\u001b[0;34m)\u001b[0m \u001b[0;34m->\u001b[0m \u001b[0mstr\u001b[0m\u001b[0;34m:\u001b[0m\u001b[0;34m\u001b[0m\u001b[0;34m\u001b[0m\u001b[0m\n\u001b[1;32m    257\u001b[0m         \u001b[0;31m# coverage: ignore\u001b[0m\u001b[0;34m\u001b[0m\u001b[0;34m\u001b[0m\u001b[0;34m\u001b[0m\u001b[0m\n\u001b[0;32m--> 258\u001b[0;31m         \u001b[0m_validate_circuit\u001b[0m\u001b[0;34m(\u001b[0m\u001b[0mself\u001b[0m\u001b[0;34m.\u001b[0m\u001b[0mcircuit\u001b[0m\u001b[0;34m)\u001b[0m\u001b[0;34m\u001b[0m\u001b[0;34m\u001b[0m\u001b[0m\n\u001b[0m\u001b[1;32m    259\u001b[0m         \u001b[0mtdd\u001b[0m \u001b[0;34m=\u001b[0m \u001b[0mself\u001b[0m\u001b[0;34m.\u001b[0m\u001b[0mcircuit\u001b[0m\u001b[0;34m.\u001b[0m\u001b[0mto_text_diagram_drawer\u001b[0m\u001b[0;34m(\u001b[0m\u001b[0mtranspose\u001b[0m\u001b[0;34m=\u001b[0m\u001b[0;32mFalse\u001b[0m\u001b[0;34m)\u001b[0m\u001b[0;34m\u001b[0m\u001b[0;34m\u001b[0m\u001b[0m\n\u001b[1;32m    260\u001b[0m         \u001b[0;32mreturn\u001b[0m \u001b[0mtdd_to_svg\u001b[0m\u001b[0;34m(\u001b[0m\u001b[0mtdd\u001b[0m\u001b[0;34m)\u001b[0m\u001b[0;34m\u001b[0m\u001b[0;34m\u001b[0m\u001b[0m\n",
            "\u001b[0;32m/usr/local/lib/python3.7/dist-packages/cirq/contrib/svg/svg.py\u001b[0m in \u001b[0;36m_validate_circuit\u001b[0;34m(circuit)\u001b[0m\n\u001b[1;32m    234\u001b[0m \u001b[0;32mdef\u001b[0m \u001b[0m_validate_circuit\u001b[0m\u001b[0;34m(\u001b[0m\u001b[0mcircuit\u001b[0m\u001b[0;34m:\u001b[0m \u001b[0;34m'cirq.Circuit'\u001b[0m\u001b[0;34m)\u001b[0m\u001b[0;34m:\u001b[0m\u001b[0;34m\u001b[0m\u001b[0;34m\u001b[0m\u001b[0m\n\u001b[1;32m    235\u001b[0m     \u001b[0;32mif\u001b[0m \u001b[0mlen\u001b[0m\u001b[0;34m(\u001b[0m\u001b[0mcircuit\u001b[0m\u001b[0;34m)\u001b[0m \u001b[0;34m==\u001b[0m \u001b[0;36m0\u001b[0m\u001b[0;34m:\u001b[0m\u001b[0;34m\u001b[0m\u001b[0;34m\u001b[0m\u001b[0m\n\u001b[0;32m--> 236\u001b[0;31m         \u001b[0;32mraise\u001b[0m \u001b[0mValueError\u001b[0m\u001b[0;34m(\u001b[0m\u001b[0;34m\"Can't draw SVG diagram for empty circuits\"\u001b[0m\u001b[0;34m)\u001b[0m\u001b[0;34m\u001b[0m\u001b[0;34m\u001b[0m\u001b[0m\n\u001b[0m\u001b[1;32m    237\u001b[0m \u001b[0;34m\u001b[0m\u001b[0m\n\u001b[1;32m    238\u001b[0m     \u001b[0;32mif\u001b[0m \u001b[0many\u001b[0m\u001b[0;34m(\u001b[0m\u001b[0mlen\u001b[0m\u001b[0;34m(\u001b[0m\u001b[0mmom\u001b[0m\u001b[0;34m)\u001b[0m \u001b[0;34m==\u001b[0m \u001b[0;36m0\u001b[0m \u001b[0;32mfor\u001b[0m \u001b[0mmom\u001b[0m \u001b[0;32min\u001b[0m \u001b[0mcircuit\u001b[0m\u001b[0;34m.\u001b[0m\u001b[0mmoments\u001b[0m\u001b[0;34m)\u001b[0m\u001b[0;34m:\u001b[0m\u001b[0;34m\u001b[0m\u001b[0;34m\u001b[0m\u001b[0m\n",
            "\u001b[0;31mValueError\u001b[0m: Can't draw SVG diagram for empty circuits"
          ]
        },
        {
          "output_type": "execute_result",
          "data": {
            "text/plain": [
              "<cirq.contrib.svg.svg.SVGCircuit at 0x7fa0df53b750>"
            ]
          },
          "metadata": {
            "tags": []
          },
          "execution_count": 43
        }
      ]
    },
    {
      "cell_type": "code",
      "metadata": {
        "colab": {
          "base_uri": "https://localhost:8080/"
        },
        "id": "gZpItZcdRYn4",
        "outputId": "8ebf66ee-2223-4770-c432-414d2598140f"
      },
      "source": [
        "bin_img_test = x_test_binary[:,:,exmpl]\n",
        "indices = np.array(np.where(bin_img_test)).T\n",
        "indices"
      ],
      "execution_count": 29,
      "outputs": [
        {
          "output_type": "execute_result",
          "data": {
            "text/plain": [
              "array([], shape=(0, 2), dtype=int64)"
            ]
          },
          "metadata": {
            "tags": []
          },
          "execution_count": 29
        }
      ]
    },
    {
      "cell_type": "markdown",
      "metadata": {
        "id": "CqP3K5B8R7Mu"
      },
      "source": [
        "2. Convert Cirq Circuit to Tensors for TFQ"
      ]
    },
    {
      "cell_type": "code",
      "metadata": {
        "id": "6HPa-eAvoH6F"
      },
      "source": [
        "x_train_tfqcirc = tfq.convert_to_tensor(x_train_cirq_lst)\n",
        "x_test_tfqcirc = tfq.convert_to_tensor(x_test_cirq_lst)"
      ],
      "execution_count": 30,
      "outputs": []
    },
    {
      "cell_type": "markdown",
      "metadata": {
        "id": "roAOBZrcSjpX"
      },
      "source": [
        "# QNN for Classification\n",
        "\n",
        "  https://arxiv.org/pdf/1802.06002.pdf"
      ]
    },
    {
      "cell_type": "markdown",
      "metadata": {
        "id": "w-i45rrrisBi"
      },
      "source": [
        "1. Circuit for binary images"
      ]
    },
    {
      "cell_type": "code",
      "metadata": {
        "id": "PzRAZMCqoH31"
      },
      "source": [
        "class CircuitLayerBuilder():\n",
        "  def __init__(self, nmbr_data_qubits, readout):\n",
        "    self.nmbr_data_qubits = nmbr_data_qubits\n",
        "    self.readout = readout\n",
        "\n",
        "  def add_layer(self, circuit, gate, prefix):\n",
        "    for idx, qubit in enumerate(self.nmbr_data_qubits):\n",
        "      symbol = sympy.Symbol(prefix + '-' + str(idx))\n",
        "      circuit.append(gate(qubit, self.readout)**symbol)"
      ],
      "execution_count": 217,
      "outputs": []
    },
    {
      "cell_type": "code",
      "metadata": {
        "colab": {
          "base_uri": "https://localhost:8080/",
          "height": 491
        },
        "id": "_zsi6kc5oH11",
        "outputId": "8e8e0d7e-f55a-4c5e-f846-bbbc589c231e"
      },
      "source": [
        "def circuit_binary_img_one_layer(img_pixel_nmbr_height, img_pxl_nmbr_width):\n",
        "  circuit_binary_image = CircuitLayerBuilder(nmbr_data_qubits = cirq.GridQubit.rect(img_pixel_nmbr_height,1), readout=cirq.GridQubit(-1,-1))\n",
        "  circuit = cirq.Circuit()\n",
        "  circuit_binary_image.add_layer(circuit, gate = cirq.XX, prefix='xx')\n",
        "  \n",
        "  return circuit\n",
        "\n",
        "SVGCircuit(circuit_binary_img_one_layer(img_pxl_dwngrd*2,img_pxl_dwngrd*2 ))"
      ],
      "execution_count": 220,
      "outputs": [
        {
          "output_type": "execute_result",
          "data": {
            "text/plain": [
              "<cirq.contrib.svg.svg.SVGCircuit at 0x7fa0cd02ed10>"
            ],
            "image/svg+xml": "<svg xmlns=\"http://www.w3.org/2000/svg\" width=\"925.5778125000003\" height=\"450.0\"><line x1=\"39.810625\" x2=\"895.5778125000003\" y1=\"25.0\" y2=\"25.0\" stroke=\"#1967d2\" stroke-width=\"1\" /><line x1=\"39.810625\" x2=\"895.5778125000003\" y1=\"75.0\" y2=\"75.0\" stroke=\"#1967d2\" stroke-width=\"1\" /><line x1=\"39.810625\" x2=\"895.5778125000003\" y1=\"125.0\" y2=\"125.0\" stroke=\"#1967d2\" stroke-width=\"1\" /><line x1=\"39.810625\" x2=\"895.5778125000003\" y1=\"175.0\" y2=\"175.0\" stroke=\"#1967d2\" stroke-width=\"1\" /><line x1=\"39.810625\" x2=\"895.5778125000003\" y1=\"225.0\" y2=\"225.0\" stroke=\"#1967d2\" stroke-width=\"1\" /><line x1=\"39.810625\" x2=\"895.5778125000003\" y1=\"275.0\" y2=\"275.0\" stroke=\"#1967d2\" stroke-width=\"1\" /><line x1=\"39.810625\" x2=\"895.5778125000003\" y1=\"325.0\" y2=\"325.0\" stroke=\"#1967d2\" stroke-width=\"1\" /><line x1=\"39.810625\" x2=\"895.5778125000003\" y1=\"375.0\" y2=\"375.0\" stroke=\"#1967d2\" stroke-width=\"1\" /><line x1=\"39.810625\" x2=\"895.5778125000003\" y1=\"425.0\" y2=\"425.0\" stroke=\"#1967d2\" stroke-width=\"1\" /><line x1=\"129.99353515625\" x2=\"129.99353515625\" y1=\"25.0\" y2=\"75.0\" stroke=\"black\" stroke-width=\"3\" /><line x1=\"230.73810546875004\" x2=\"230.73810546875004\" y1=\"25.0\" y2=\"125.0\" stroke=\"black\" stroke-width=\"3\" /><line x1=\"331.48267578125007\" x2=\"331.48267578125007\" y1=\"25.0\" y2=\"175.0\" stroke=\"black\" stroke-width=\"3\" /><line x1=\"432.22724609375007\" x2=\"432.22724609375007\" y1=\"25.0\" y2=\"225.0\" stroke=\"black\" stroke-width=\"3\" /><line x1=\"532.97181640625\" x2=\"532.97181640625\" y1=\"25.0\" y2=\"275.0\" stroke=\"black\" stroke-width=\"3\" /><line x1=\"633.7163867187501\" x2=\"633.7163867187501\" y1=\"25.0\" y2=\"325.0\" stroke=\"black\" stroke-width=\"3\" /><line x1=\"734.4609570312501\" x2=\"734.4609570312501\" y1=\"25.0\" y2=\"375.0\" stroke=\"black\" stroke-width=\"3\" /><line x1=\"835.2055273437502\" x2=\"835.2055273437502\" y1=\"25.0\" y2=\"425.0\" stroke=\"black\" stroke-width=\"3\" /><rect x=\"10.0\" y=\"5.0\" width=\"59.62125\" height=\"40\" stroke=\"black\" fill=\"white\" stroke-width=\"0\" /><text x=\"39.810625\" y=\"25.0\" dominant-baseline=\"middle\" text-anchor=\"middle\" font-size=\"14px\" font-family=\"Arial\">(-1, -1): </text><rect x=\"10.0\" y=\"55.0\" width=\"59.62125\" height=\"40\" stroke=\"black\" fill=\"white\" stroke-width=\"0\" /><text x=\"39.810625\" y=\"75.0\" dominant-baseline=\"middle\" text-anchor=\"middle\" font-size=\"14px\" font-family=\"Arial\">(0, 0): </text><rect x=\"10.0\" y=\"105.0\" width=\"59.62125\" height=\"40\" stroke=\"black\" fill=\"white\" stroke-width=\"0\" /><text x=\"39.810625\" y=\"125.0\" dominant-baseline=\"middle\" text-anchor=\"middle\" font-size=\"14px\" font-family=\"Arial\">(1, 0): </text><rect x=\"10.0\" y=\"155.0\" width=\"59.62125\" height=\"40\" stroke=\"black\" fill=\"white\" stroke-width=\"0\" /><text x=\"39.810625\" y=\"175.0\" dominant-baseline=\"middle\" text-anchor=\"middle\" font-size=\"14px\" font-family=\"Arial\">(2, 0): </text><rect x=\"10.0\" y=\"205.0\" width=\"59.62125\" height=\"40\" stroke=\"black\" fill=\"white\" stroke-width=\"0\" /><text x=\"39.810625\" y=\"225.0\" dominant-baseline=\"middle\" text-anchor=\"middle\" font-size=\"14px\" font-family=\"Arial\">(3, 0): </text><rect x=\"10.0\" y=\"255.0\" width=\"59.62125\" height=\"40\" stroke=\"black\" fill=\"white\" stroke-width=\"0\" /><text x=\"39.810625\" y=\"275.0\" dominant-baseline=\"middle\" text-anchor=\"middle\" font-size=\"14px\" font-family=\"Arial\">(4, 0): </text><rect x=\"10.0\" y=\"305.0\" width=\"59.62125\" height=\"40\" stroke=\"black\" fill=\"white\" stroke-width=\"0\" /><text x=\"39.810625\" y=\"325.0\" dominant-baseline=\"middle\" text-anchor=\"middle\" font-size=\"14px\" font-family=\"Arial\">(5, 0): </text><rect x=\"10.0\" y=\"355.0\" width=\"59.62125\" height=\"40\" stroke=\"black\" fill=\"white\" stroke-width=\"0\" /><text x=\"39.810625\" y=\"375.0\" dominant-baseline=\"middle\" text-anchor=\"middle\" font-size=\"14px\" font-family=\"Arial\">(6, 0): </text><rect x=\"10.0\" y=\"405.0\" width=\"59.62125\" height=\"40\" stroke=\"black\" fill=\"white\" stroke-width=\"0\" /><text x=\"39.810625\" y=\"425.0\" dominant-baseline=\"middle\" text-anchor=\"middle\" font-size=\"14px\" font-family=\"Arial\">(7, 0): </text><rect x=\"89.62125\" y=\"55.0\" width=\"80.74457031250002\" height=\"40\" stroke=\"black\" fill=\"white\" stroke-width=\"1\" /><text x=\"129.99353515625\" y=\"75.0\" dominant-baseline=\"middle\" text-anchor=\"middle\" font-size=\"14px\" font-family=\"Arial\">XX^(xx-0)</text><rect x=\"89.62125\" y=\"5.0\" width=\"80.74457031250002\" height=\"40\" stroke=\"black\" fill=\"white\" stroke-width=\"1\" /><text x=\"129.99353515625\" y=\"25.0\" dominant-baseline=\"middle\" text-anchor=\"middle\" font-size=\"14px\" font-family=\"Arial\">XX</text><rect x=\"190.36582031250003\" y=\"105.0\" width=\"80.74457031250002\" height=\"40\" stroke=\"black\" fill=\"white\" stroke-width=\"1\" /><text x=\"230.73810546875004\" y=\"125.0\" dominant-baseline=\"middle\" text-anchor=\"middle\" font-size=\"14px\" font-family=\"Arial\">XX^(xx-1)</text><rect x=\"190.36582031250003\" y=\"5.0\" width=\"80.74457031250002\" height=\"40\" stroke=\"black\" fill=\"white\" stroke-width=\"1\" /><text x=\"230.73810546875004\" y=\"25.0\" dominant-baseline=\"middle\" text-anchor=\"middle\" font-size=\"14px\" font-family=\"Arial\">XX</text><rect x=\"291.11039062500004\" y=\"155.0\" width=\"80.74457031250002\" height=\"40\" stroke=\"black\" fill=\"white\" stroke-width=\"1\" /><text x=\"331.48267578125007\" y=\"175.0\" dominant-baseline=\"middle\" text-anchor=\"middle\" font-size=\"14px\" font-family=\"Arial\">XX^(xx-2)</text><rect x=\"291.11039062500004\" y=\"5.0\" width=\"80.74457031250002\" height=\"40\" stroke=\"black\" fill=\"white\" stroke-width=\"1\" /><text x=\"331.48267578125007\" y=\"25.0\" dominant-baseline=\"middle\" text-anchor=\"middle\" font-size=\"14px\" font-family=\"Arial\">XX</text><rect x=\"391.85496093750004\" y=\"205.0\" width=\"80.74457031250002\" height=\"40\" stroke=\"black\" fill=\"white\" stroke-width=\"1\" /><text x=\"432.22724609375007\" y=\"225.0\" dominant-baseline=\"middle\" text-anchor=\"middle\" font-size=\"14px\" font-family=\"Arial\">XX^(xx-3)</text><rect x=\"391.85496093750004\" y=\"5.0\" width=\"80.74457031250002\" height=\"40\" stroke=\"black\" fill=\"white\" stroke-width=\"1\" /><text x=\"432.22724609375007\" y=\"25.0\" dominant-baseline=\"middle\" text-anchor=\"middle\" font-size=\"14px\" font-family=\"Arial\">XX</text><rect x=\"492.59953125\" y=\"255.0\" width=\"80.74457031250002\" height=\"40\" stroke=\"black\" fill=\"white\" stroke-width=\"1\" /><text x=\"532.97181640625\" y=\"275.0\" dominant-baseline=\"middle\" text-anchor=\"middle\" font-size=\"14px\" font-family=\"Arial\">XX^(xx-4)</text><rect x=\"492.59953125\" y=\"5.0\" width=\"80.74457031250002\" height=\"40\" stroke=\"black\" fill=\"white\" stroke-width=\"1\" /><text x=\"532.97181640625\" y=\"25.0\" dominant-baseline=\"middle\" text-anchor=\"middle\" font-size=\"14px\" font-family=\"Arial\">XX</text><rect x=\"593.3441015625001\" y=\"305.0\" width=\"80.74457031250002\" height=\"40\" stroke=\"black\" fill=\"white\" stroke-width=\"1\" /><text x=\"633.7163867187501\" y=\"325.0\" dominant-baseline=\"middle\" text-anchor=\"middle\" font-size=\"14px\" font-family=\"Arial\">XX^(xx-5)</text><rect x=\"593.3441015625001\" y=\"5.0\" width=\"80.74457031250002\" height=\"40\" stroke=\"black\" fill=\"white\" stroke-width=\"1\" /><text x=\"633.7163867187501\" y=\"25.0\" dominant-baseline=\"middle\" text-anchor=\"middle\" font-size=\"14px\" font-family=\"Arial\">XX</text><rect x=\"694.0886718750002\" y=\"355.0\" width=\"80.74457031250002\" height=\"40\" stroke=\"black\" fill=\"white\" stroke-width=\"1\" /><text x=\"734.4609570312501\" y=\"375.0\" dominant-baseline=\"middle\" text-anchor=\"middle\" font-size=\"14px\" font-family=\"Arial\">XX^(xx-6)</text><rect x=\"694.0886718750002\" y=\"5.0\" width=\"80.74457031250002\" height=\"40\" stroke=\"black\" fill=\"white\" stroke-width=\"1\" /><text x=\"734.4609570312501\" y=\"25.0\" dominant-baseline=\"middle\" text-anchor=\"middle\" font-size=\"14px\" font-family=\"Arial\">XX</text><rect x=\"794.8332421875002\" y=\"405.0\" width=\"80.74457031250002\" height=\"40\" stroke=\"black\" fill=\"white\" stroke-width=\"1\" /><text x=\"835.2055273437502\" y=\"425.0\" dominant-baseline=\"middle\" text-anchor=\"middle\" font-size=\"14px\" font-family=\"Arial\">XX^(xx-7)</text><rect x=\"794.8332421875002\" y=\"5.0\" width=\"80.74457031250002\" height=\"40\" stroke=\"black\" fill=\"white\" stroke-width=\"1\" /><text x=\"835.2055273437502\" y=\"25.0\" dominant-baseline=\"middle\" text-anchor=\"middle\" font-size=\"14px\" font-family=\"Arial\">XX</text></svg>"
          },
          "metadata": {
            "tags": []
          },
          "execution_count": 220
        }
      ]
    },
    {
      "cell_type": "code",
      "metadata": {
        "colab": {
          "base_uri": "https://localhost:8080/",
          "height": 271
        },
        "id": "7cykMHCyi70N",
        "outputId": "e116e8e8-ebec-48d1-efcd-1b9f2fe41bfa"
      },
      "source": [
        "circuit_qnn = CircuitLayerBuilder(nmbr_data_qubits = cirq.GridQubit.rect(img_pxl_dwngrd,1), readout=cirq.GridQubit(-1,-1))\n",
        "circuit = cirq.Circuit()\n",
        "circuit_qnn.add_layer(circuit, gate = cirq.XX, prefix='xx')\n",
        "\n",
        "SVGCircuit(circuit)"
      ],
      "execution_count": 110,
      "outputs": [
        {
          "output_type": "execute_result",
          "data": {
            "text/plain": [
              "<cirq.contrib.svg.svg.SVGCircuit at 0x7fa0d2512050>"
            ],
            "image/svg+xml": "<svg xmlns=\"http://www.w3.org/2000/svg\" width=\"522.59953125\" height=\"250.0\"><line x1=\"39.810625\" x2=\"492.59953125000004\" y1=\"25.0\" y2=\"25.0\" stroke=\"#1967d2\" stroke-width=\"1\" /><line x1=\"39.810625\" x2=\"492.59953125000004\" y1=\"75.0\" y2=\"75.0\" stroke=\"#1967d2\" stroke-width=\"1\" /><line x1=\"39.810625\" x2=\"492.59953125000004\" y1=\"125.0\" y2=\"125.0\" stroke=\"#1967d2\" stroke-width=\"1\" /><line x1=\"39.810625\" x2=\"492.59953125000004\" y1=\"175.0\" y2=\"175.0\" stroke=\"#1967d2\" stroke-width=\"1\" /><line x1=\"39.810625\" x2=\"492.59953125000004\" y1=\"225.0\" y2=\"225.0\" stroke=\"#1967d2\" stroke-width=\"1\" /><line x1=\"129.99353515625\" x2=\"129.99353515625\" y1=\"25.0\" y2=\"75.0\" stroke=\"black\" stroke-width=\"3\" /><line x1=\"230.73810546875004\" x2=\"230.73810546875004\" y1=\"25.0\" y2=\"125.0\" stroke=\"black\" stroke-width=\"3\" /><line x1=\"331.48267578125007\" x2=\"331.48267578125007\" y1=\"25.0\" y2=\"175.0\" stroke=\"black\" stroke-width=\"3\" /><line x1=\"432.22724609375007\" x2=\"432.22724609375007\" y1=\"25.0\" y2=\"225.0\" stroke=\"black\" stroke-width=\"3\" /><rect x=\"10.0\" y=\"5.0\" width=\"59.62125\" height=\"40\" stroke=\"black\" fill=\"white\" stroke-width=\"0\" /><text x=\"39.810625\" y=\"25.0\" dominant-baseline=\"middle\" text-anchor=\"middle\" font-size=\"14px\" font-family=\"Arial\">(-1, -1): </text><rect x=\"10.0\" y=\"55.0\" width=\"59.62125\" height=\"40\" stroke=\"black\" fill=\"white\" stroke-width=\"0\" /><text x=\"39.810625\" y=\"75.0\" dominant-baseline=\"middle\" text-anchor=\"middle\" font-size=\"14px\" font-family=\"Arial\">(0, 0): </text><rect x=\"10.0\" y=\"105.0\" width=\"59.62125\" height=\"40\" stroke=\"black\" fill=\"white\" stroke-width=\"0\" /><text x=\"39.810625\" y=\"125.0\" dominant-baseline=\"middle\" text-anchor=\"middle\" font-size=\"14px\" font-family=\"Arial\">(1, 0): </text><rect x=\"10.0\" y=\"155.0\" width=\"59.62125\" height=\"40\" stroke=\"black\" fill=\"white\" stroke-width=\"0\" /><text x=\"39.810625\" y=\"175.0\" dominant-baseline=\"middle\" text-anchor=\"middle\" font-size=\"14px\" font-family=\"Arial\">(2, 0): </text><rect x=\"10.0\" y=\"205.0\" width=\"59.62125\" height=\"40\" stroke=\"black\" fill=\"white\" stroke-width=\"0\" /><text x=\"39.810625\" y=\"225.0\" dominant-baseline=\"middle\" text-anchor=\"middle\" font-size=\"14px\" font-family=\"Arial\">(3, 0): </text><rect x=\"89.62125\" y=\"55.0\" width=\"80.74457031250002\" height=\"40\" stroke=\"black\" fill=\"white\" stroke-width=\"1\" /><text x=\"129.99353515625\" y=\"75.0\" dominant-baseline=\"middle\" text-anchor=\"middle\" font-size=\"14px\" font-family=\"Arial\">XX^(xx-0)</text><rect x=\"89.62125\" y=\"5.0\" width=\"80.74457031250002\" height=\"40\" stroke=\"black\" fill=\"white\" stroke-width=\"1\" /><text x=\"129.99353515625\" y=\"25.0\" dominant-baseline=\"middle\" text-anchor=\"middle\" font-size=\"14px\" font-family=\"Arial\">XX</text><rect x=\"190.36582031250003\" y=\"105.0\" width=\"80.74457031250002\" height=\"40\" stroke=\"black\" fill=\"white\" stroke-width=\"1\" /><text x=\"230.73810546875004\" y=\"125.0\" dominant-baseline=\"middle\" text-anchor=\"middle\" font-size=\"14px\" font-family=\"Arial\">XX^(xx-1)</text><rect x=\"190.36582031250003\" y=\"5.0\" width=\"80.74457031250002\" height=\"40\" stroke=\"black\" fill=\"white\" stroke-width=\"1\" /><text x=\"230.73810546875004\" y=\"25.0\" dominant-baseline=\"middle\" text-anchor=\"middle\" font-size=\"14px\" font-family=\"Arial\">XX</text><rect x=\"291.11039062500004\" y=\"155.0\" width=\"80.74457031250002\" height=\"40\" stroke=\"black\" fill=\"white\" stroke-width=\"1\" /><text x=\"331.48267578125007\" y=\"175.0\" dominant-baseline=\"middle\" text-anchor=\"middle\" font-size=\"14px\" font-family=\"Arial\">XX^(xx-2)</text><rect x=\"291.11039062500004\" y=\"5.0\" width=\"80.74457031250002\" height=\"40\" stroke=\"black\" fill=\"white\" stroke-width=\"1\" /><text x=\"331.48267578125007\" y=\"25.0\" dominant-baseline=\"middle\" text-anchor=\"middle\" font-size=\"14px\" font-family=\"Arial\">XX</text><rect x=\"391.85496093750004\" y=\"205.0\" width=\"80.74457031250002\" height=\"40\" stroke=\"black\" fill=\"white\" stroke-width=\"1\" /><text x=\"432.22724609375007\" y=\"225.0\" dominant-baseline=\"middle\" text-anchor=\"middle\" font-size=\"14px\" font-family=\"Arial\">XX^(xx-3)</text><rect x=\"391.85496093750004\" y=\"5.0\" width=\"80.74457031250002\" height=\"40\" stroke=\"black\" fill=\"white\" stroke-width=\"1\" /><text x=\"432.22724609375007\" y=\"25.0\" dominant-baseline=\"middle\" text-anchor=\"middle\" font-size=\"14px\" font-family=\"Arial\">XX</text></svg>"
          },
          "metadata": {
            "tags": []
          },
          "execution_count": 110
        }
      ]
    },
    {
      "cell_type": "markdown",
      "metadata": {
        "id": "8Z1GjfM-ie4b"
      },
      "source": [
        "2. 2-layered Quantum  Neural Net matching circuit size and preoare for measurements*"
      ]
    },
    {
      "cell_type": "code",
      "metadata": {
        "id": "9VEKQH3boHzx"
      },
      "source": [
        "def create_qnn_model(nmbr_layers, nmbr_circuit_gridqubits_0, nmbr_circuit_gridqubits_1):\n",
        "  data_qubits =cirq.GridQubit.rect(nmbr_circuit_gridqubits_0, nmbr_circuit_gridqubits_1)\n",
        "  readout = cirq.GridQubit(-1,-1)\n",
        "  circuit = cirq.Circuit()\n",
        "\n",
        "  # prep readout qubit\n",
        "  circuit.append(cirq.X(readout))\n",
        "  circuit.append(cirq.H(readout))\n",
        "  \n",
        "  # Build circuit\n",
        "  builder = CircuitLayerBuilder(nmbr_data_qubits = data_qubits, readout=readout)\n",
        "\n",
        "  # Add QNN layers\n",
        "  for i in range(nmbr_layers):\n",
        "    builder.add_layer(circuit, cirq.XX, 'xx{}'.format(i + 1))\n",
        "    builder.add_layer(circuit, cirq.ZZ, 'zz{}'.format(i + 1))\n",
        "\n",
        "  # prepare readout qubits for measurements of outcome\n",
        "  circuit.append(cirq.H(readout))\n",
        "\n",
        "  return circuit, cirq.Z(readout)\n",
        "  "
      ],
      "execution_count": 33,
      "outputs": []
    },
    {
      "cell_type": "markdown",
      "metadata": {
        "id": "FyiN1DPSoX4j"
      },
      "source": [
        "3. create QNN model"
      ]
    },
    {
      "cell_type": "code",
      "metadata": {
        "colab": {
          "base_uri": "https://localhost:8080/",
          "height": 891
        },
        "id": "toRyA5OPoHxn",
        "outputId": "18345a2d-339e-4209-bb7b-695e7c22c4a0"
      },
      "source": [
        "model_circuit, model_readout = create_qnn_model(1, img_pxl_dwngrd, img_pxl_dwngrd)\n",
        "SVGCircuit(model_circuit)"
      ],
      "execution_count": 34,
      "outputs": [
        {
          "output_type": "execute_result",
          "data": {
            "text/plain": [
              "<cirq.contrib.svg.svg.SVGCircuit at 0x7fa0df05d250>"
            ],
            "image/svg+xml": "<svg xmlns=\"http://www.w3.org/2000/svg\" width=\"3882.001718750002\" height=\"850.0\"><line x1=\"39.810625\" x2=\"3852.001718750002\" y1=\"25.0\" y2=\"25.0\" stroke=\"#1967d2\" stroke-width=\"1\" /><line x1=\"39.810625\" x2=\"3852.001718750002\" y1=\"75.0\" y2=\"75.0\" stroke=\"#1967d2\" stroke-width=\"1\" /><line x1=\"39.810625\" x2=\"3852.001718750002\" y1=\"125.0\" y2=\"125.0\" stroke=\"#1967d2\" stroke-width=\"1\" /><line x1=\"39.810625\" x2=\"3852.001718750002\" y1=\"175.0\" y2=\"175.0\" stroke=\"#1967d2\" stroke-width=\"1\" /><line x1=\"39.810625\" x2=\"3852.001718750002\" y1=\"225.0\" y2=\"225.0\" stroke=\"#1967d2\" stroke-width=\"1\" /><line x1=\"39.810625\" x2=\"3852.001718750002\" y1=\"275.0\" y2=\"275.0\" stroke=\"#1967d2\" stroke-width=\"1\" /><line x1=\"39.810625\" x2=\"3852.001718750002\" y1=\"325.0\" y2=\"325.0\" stroke=\"#1967d2\" stroke-width=\"1\" /><line x1=\"39.810625\" x2=\"3852.001718750002\" y1=\"375.0\" y2=\"375.0\" stroke=\"#1967d2\" stroke-width=\"1\" /><line x1=\"39.810625\" x2=\"3852.001718750002\" y1=\"425.0\" y2=\"425.0\" stroke=\"#1967d2\" stroke-width=\"1\" /><line x1=\"39.810625\" x2=\"3852.001718750002\" y1=\"475.0\" y2=\"475.0\" stroke=\"#1967d2\" stroke-width=\"1\" /><line x1=\"39.810625\" x2=\"3852.001718750002\" y1=\"525.0\" y2=\"525.0\" stroke=\"#1967d2\" stroke-width=\"1\" /><line x1=\"39.810625\" x2=\"3852.001718750002\" y1=\"575.0\" y2=\"575.0\" stroke=\"#1967d2\" stroke-width=\"1\" /><line x1=\"39.810625\" x2=\"3852.001718750002\" y1=\"625.0\" y2=\"625.0\" stroke=\"#1967d2\" stroke-width=\"1\" /><line x1=\"39.810625\" x2=\"3852.001718750002\" y1=\"675.0\" y2=\"675.0\" stroke=\"#1967d2\" stroke-width=\"1\" /><line x1=\"39.810625\" x2=\"3852.001718750002\" y1=\"725.0\" y2=\"725.0\" stroke=\"#1967d2\" stroke-width=\"1\" /><line x1=\"39.810625\" x2=\"3852.001718750002\" y1=\"775.0\" y2=\"775.0\" stroke=\"#1967d2\" stroke-width=\"1\" /><line x1=\"39.810625\" x2=\"3852.001718750002\" y1=\"825.0\" y2=\"825.0\" stroke=\"#1967d2\" stroke-width=\"1\" /><line x1=\"254.4471484375\" x2=\"254.4471484375\" y1=\"25.0\" y2=\"75.0\" stroke=\"black\" stroke-width=\"3\" /><line x1=\"364.09894531250006\" x2=\"364.09894531250006\" y1=\"25.0\" y2=\"125.0\" stroke=\"black\" stroke-width=\"3\" /><line x1=\"473.75074218750007\" x2=\"473.75074218750007\" y1=\"25.0\" y2=\"175.0\" stroke=\"black\" stroke-width=\"3\" /><line x1=\"583.4025390625001\" x2=\"583.4025390625001\" y1=\"25.0\" y2=\"225.0\" stroke=\"black\" stroke-width=\"3\" /><line x1=\"693.0543359375001\" x2=\"693.0543359375001\" y1=\"25.0\" y2=\"275.0\" stroke=\"black\" stroke-width=\"3\" /><line x1=\"802.7061328125002\" x2=\"802.7061328125002\" y1=\"25.0\" y2=\"325.0\" stroke=\"black\" stroke-width=\"3\" /><line x1=\"912.3579296875002\" x2=\"912.3579296875002\" y1=\"25.0\" y2=\"375.0\" stroke=\"black\" stroke-width=\"3\" /><line x1=\"1022.0097265625003\" x2=\"1022.0097265625003\" y1=\"25.0\" y2=\"425.0\" stroke=\"black\" stroke-width=\"3\" /><line x1=\"1131.6615234375004\" x2=\"1131.6615234375004\" y1=\"25.0\" y2=\"475.0\" stroke=\"black\" stroke-width=\"3\" /><line x1=\"1241.3133203125003\" x2=\"1241.3133203125003\" y1=\"25.0\" y2=\"525.0\" stroke=\"black\" stroke-width=\"3\" /><line x1=\"1355.4187304687503\" x2=\"1355.4187304687503\" y1=\"25.0\" y2=\"575.0\" stroke=\"black\" stroke-width=\"3\" /><line x1=\"1473.9777539062502\" x2=\"1473.9777539062502\" y1=\"25.0\" y2=\"625.0\" stroke=\"black\" stroke-width=\"3\" /><line x1=\"1592.5367773437501\" x2=\"1592.5367773437501\" y1=\"25.0\" y2=\"675.0\" stroke=\"black\" stroke-width=\"3\" /><line x1=\"1711.09580078125\" x2=\"1711.09580078125\" y1=\"25.0\" y2=\"725.0\" stroke=\"black\" stroke-width=\"3\" /><line x1=\"1829.65482421875\" x2=\"1829.65482421875\" y1=\"25.0\" y2=\"775.0\" stroke=\"black\" stroke-width=\"3\" /><line x1=\"1948.21384765625\" x2=\"1948.21384765625\" y1=\"25.0\" y2=\"825.0\" stroke=\"black\" stroke-width=\"3\" /><line x1=\"2061.276640625\" x2=\"2061.276640625\" y1=\"25.0\" y2=\"75.0\" stroke=\"black\" stroke-width=\"3\" /><line x1=\"2168.843203125\" x2=\"2168.843203125\" y1=\"25.0\" y2=\"125.0\" stroke=\"black\" stroke-width=\"3\" /><line x1=\"2276.409765625\" x2=\"2276.409765625\" y1=\"25.0\" y2=\"175.0\" stroke=\"black\" stroke-width=\"3\" /><line x1=\"2383.9763281250002\" x2=\"2383.9763281250002\" y1=\"25.0\" y2=\"225.0\" stroke=\"black\" stroke-width=\"3\" /><line x1=\"2491.5428906250004\" x2=\"2491.5428906250004\" y1=\"25.0\" y2=\"275.0\" stroke=\"black\" stroke-width=\"3\" /><line x1=\"2599.1094531250005\" x2=\"2599.1094531250005\" y1=\"25.0\" y2=\"325.0\" stroke=\"black\" stroke-width=\"3\" /><line x1=\"2706.6760156250007\" x2=\"2706.6760156250007\" y1=\"25.0\" y2=\"375.0\" stroke=\"black\" stroke-width=\"3\" /><line x1=\"2814.242578125001\" x2=\"2814.242578125001\" y1=\"25.0\" y2=\"425.0\" stroke=\"black\" stroke-width=\"3\" /><line x1=\"2921.809140625001\" x2=\"2921.809140625001\" y1=\"25.0\" y2=\"475.0\" stroke=\"black\" stroke-width=\"3\" /><line x1=\"3029.375703125001\" x2=\"3029.375703125001\" y1=\"25.0\" y2=\"525.0\" stroke=\"black\" stroke-width=\"3\" /><line x1=\"3141.3958789062513\" x2=\"3141.3958789062513\" y1=\"25.0\" y2=\"575.0\" stroke=\"black\" stroke-width=\"3\" /><line x1=\"3257.8696679687514\" x2=\"3257.8696679687514\" y1=\"25.0\" y2=\"625.0\" stroke=\"black\" stroke-width=\"3\" /><line x1=\"3374.3434570312515\" x2=\"3374.3434570312515\" y1=\"25.0\" y2=\"675.0\" stroke=\"black\" stroke-width=\"3\" /><line x1=\"3490.8172460937517\" x2=\"3490.8172460937517\" y1=\"25.0\" y2=\"725.0\" stroke=\"black\" stroke-width=\"3\" /><line x1=\"3607.291035156252\" x2=\"3607.291035156252\" y1=\"25.0\" y2=\"775.0\" stroke=\"black\" stroke-width=\"3\" /><line x1=\"3723.764824218752\" x2=\"3723.764824218752\" y1=\"25.0\" y2=\"825.0\" stroke=\"black\" stroke-width=\"3\" /><rect x=\"10.0\" y=\"5.0\" width=\"59.62125\" height=\"40\" stroke=\"black\" fill=\"white\" stroke-width=\"0\" /><text x=\"39.810625\" y=\"25.0\" dominant-baseline=\"middle\" text-anchor=\"middle\" font-size=\"14px\" font-family=\"Arial\">(-1, -1): </text><rect x=\"10.0\" y=\"55.0\" width=\"59.62125\" height=\"40\" stroke=\"black\" fill=\"white\" stroke-width=\"0\" /><text x=\"39.810625\" y=\"75.0\" dominant-baseline=\"middle\" text-anchor=\"middle\" font-size=\"14px\" font-family=\"Arial\">(0, 0): </text><rect x=\"10.0\" y=\"105.0\" width=\"59.62125\" height=\"40\" stroke=\"black\" fill=\"white\" stroke-width=\"0\" /><text x=\"39.810625\" y=\"125.0\" dominant-baseline=\"middle\" text-anchor=\"middle\" font-size=\"14px\" font-family=\"Arial\">(0, 1): </text><rect x=\"10.0\" y=\"155.0\" width=\"59.62125\" height=\"40\" stroke=\"black\" fill=\"white\" stroke-width=\"0\" /><text x=\"39.810625\" y=\"175.0\" dominant-baseline=\"middle\" text-anchor=\"middle\" font-size=\"14px\" font-family=\"Arial\">(0, 2): </text><rect x=\"10.0\" y=\"205.0\" width=\"59.62125\" height=\"40\" stroke=\"black\" fill=\"white\" stroke-width=\"0\" /><text x=\"39.810625\" y=\"225.0\" dominant-baseline=\"middle\" text-anchor=\"middle\" font-size=\"14px\" font-family=\"Arial\">(0, 3): </text><rect x=\"10.0\" y=\"255.0\" width=\"59.62125\" height=\"40\" stroke=\"black\" fill=\"white\" stroke-width=\"0\" /><text x=\"39.810625\" y=\"275.0\" dominant-baseline=\"middle\" text-anchor=\"middle\" font-size=\"14px\" font-family=\"Arial\">(1, 0): </text><rect x=\"10.0\" y=\"305.0\" width=\"59.62125\" height=\"40\" stroke=\"black\" fill=\"white\" stroke-width=\"0\" /><text x=\"39.810625\" y=\"325.0\" dominant-baseline=\"middle\" text-anchor=\"middle\" font-size=\"14px\" font-family=\"Arial\">(1, 1): </text><rect x=\"10.0\" y=\"355.0\" width=\"59.62125\" height=\"40\" stroke=\"black\" fill=\"white\" stroke-width=\"0\" /><text x=\"39.810625\" y=\"375.0\" dominant-baseline=\"middle\" text-anchor=\"middle\" font-size=\"14px\" font-family=\"Arial\">(1, 2): </text><rect x=\"10.0\" y=\"405.0\" width=\"59.62125\" height=\"40\" stroke=\"black\" fill=\"white\" stroke-width=\"0\" /><text x=\"39.810625\" y=\"425.0\" dominant-baseline=\"middle\" text-anchor=\"middle\" font-size=\"14px\" font-family=\"Arial\">(1, 3): </text><rect x=\"10.0\" y=\"455.0\" width=\"59.62125\" height=\"40\" stroke=\"black\" fill=\"white\" stroke-width=\"0\" /><text x=\"39.810625\" y=\"475.0\" dominant-baseline=\"middle\" text-anchor=\"middle\" font-size=\"14px\" font-family=\"Arial\">(2, 0): </text><rect x=\"10.0\" y=\"505.0\" width=\"59.62125\" height=\"40\" stroke=\"black\" fill=\"white\" stroke-width=\"0\" /><text x=\"39.810625\" y=\"525.0\" dominant-baseline=\"middle\" text-anchor=\"middle\" font-size=\"14px\" font-family=\"Arial\">(2, 1): </text><rect x=\"10.0\" y=\"555.0\" width=\"59.62125\" height=\"40\" stroke=\"black\" fill=\"white\" stroke-width=\"0\" /><text x=\"39.810625\" y=\"575.0\" dominant-baseline=\"middle\" text-anchor=\"middle\" font-size=\"14px\" font-family=\"Arial\">(2, 2): </text><rect x=\"10.0\" y=\"605.0\" width=\"59.62125\" height=\"40\" stroke=\"black\" fill=\"white\" stroke-width=\"0\" /><text x=\"39.810625\" y=\"625.0\" dominant-baseline=\"middle\" text-anchor=\"middle\" font-size=\"14px\" font-family=\"Arial\">(2, 3): </text><rect x=\"10.0\" y=\"655.0\" width=\"59.62125\" height=\"40\" stroke=\"black\" fill=\"white\" stroke-width=\"0\" /><text x=\"39.810625\" y=\"675.0\" dominant-baseline=\"middle\" text-anchor=\"middle\" font-size=\"14px\" font-family=\"Arial\">(3, 0): </text><rect x=\"10.0\" y=\"705.0\" width=\"59.62125\" height=\"40\" stroke=\"black\" fill=\"white\" stroke-width=\"0\" /><text x=\"39.810625\" y=\"725.0\" dominant-baseline=\"middle\" text-anchor=\"middle\" font-size=\"14px\" font-family=\"Arial\">(3, 1): </text><rect x=\"10.0\" y=\"755.0\" width=\"59.62125\" height=\"40\" stroke=\"black\" fill=\"white\" stroke-width=\"0\" /><text x=\"39.810625\" y=\"775.0\" dominant-baseline=\"middle\" text-anchor=\"middle\" font-size=\"14px\" font-family=\"Arial\">(3, 2): </text><rect x=\"10.0\" y=\"805.0\" width=\"59.62125\" height=\"40\" stroke=\"black\" fill=\"white\" stroke-width=\"0\" /><text x=\"39.810625\" y=\"825.0\" dominant-baseline=\"middle\" text-anchor=\"middle\" font-size=\"14px\" font-family=\"Arial\">(3, 3): </text><rect x=\"89.62125\" y=\"5.0\" width=\"40\" height=\"40\" stroke=\"black\" fill=\"white\" stroke-width=\"1\" /><text x=\"109.62125\" y=\"25.0\" dominant-baseline=\"middle\" text-anchor=\"middle\" font-size=\"18px\" font-family=\"Arial\">X</text><rect x=\"149.62125\" y=\"5.0\" width=\"40\" height=\"40\" stroke=\"black\" fill=\"white\" stroke-width=\"1\" /><text x=\"169.62125\" y=\"25.0\" dominant-baseline=\"middle\" text-anchor=\"middle\" font-size=\"18px\" font-family=\"Arial\">H</text><rect x=\"209.62125\" y=\"55.0\" width=\"89.65179687500002\" height=\"40\" stroke=\"black\" fill=\"white\" stroke-width=\"1\" /><text x=\"254.4471484375\" y=\"75.0\" dominant-baseline=\"middle\" text-anchor=\"middle\" font-size=\"14px\" font-family=\"Arial\">XX^(xx1-0)</text><rect x=\"209.62125\" y=\"5.0\" width=\"89.65179687500002\" height=\"40\" stroke=\"black\" fill=\"white\" stroke-width=\"1\" /><text x=\"254.4471484375\" y=\"25.0\" dominant-baseline=\"middle\" text-anchor=\"middle\" font-size=\"14px\" font-family=\"Arial\">XX</text><rect x=\"319.27304687500003\" y=\"105.0\" width=\"89.65179687500002\" height=\"40\" stroke=\"black\" fill=\"white\" stroke-width=\"1\" /><text x=\"364.09894531250006\" y=\"125.0\" dominant-baseline=\"middle\" text-anchor=\"middle\" font-size=\"14px\" font-family=\"Arial\">XX^(xx1-1)</text><rect x=\"319.27304687500003\" y=\"5.0\" width=\"89.65179687500002\" height=\"40\" stroke=\"black\" fill=\"white\" stroke-width=\"1\" /><text x=\"364.09894531250006\" y=\"25.0\" dominant-baseline=\"middle\" text-anchor=\"middle\" font-size=\"14px\" font-family=\"Arial\">XX</text><rect x=\"428.92484375000004\" y=\"155.0\" width=\"89.65179687500002\" height=\"40\" stroke=\"black\" fill=\"white\" stroke-width=\"1\" /><text x=\"473.75074218750007\" y=\"175.0\" dominant-baseline=\"middle\" text-anchor=\"middle\" font-size=\"14px\" font-family=\"Arial\">XX^(xx1-2)</text><rect x=\"428.92484375000004\" y=\"5.0\" width=\"89.65179687500002\" height=\"40\" stroke=\"black\" fill=\"white\" stroke-width=\"1\" /><text x=\"473.75074218750007\" y=\"25.0\" dominant-baseline=\"middle\" text-anchor=\"middle\" font-size=\"14px\" font-family=\"Arial\">XX</text><rect x=\"538.5766406250001\" y=\"205.0\" width=\"89.65179687500002\" height=\"40\" stroke=\"black\" fill=\"white\" stroke-width=\"1\" /><text x=\"583.4025390625001\" y=\"225.0\" dominant-baseline=\"middle\" text-anchor=\"middle\" font-size=\"14px\" font-family=\"Arial\">XX^(xx1-3)</text><rect x=\"538.5766406250001\" y=\"5.0\" width=\"89.65179687500002\" height=\"40\" stroke=\"black\" fill=\"white\" stroke-width=\"1\" /><text x=\"583.4025390625001\" y=\"25.0\" dominant-baseline=\"middle\" text-anchor=\"middle\" font-size=\"14px\" font-family=\"Arial\">XX</text><rect x=\"648.2284375000002\" y=\"255.0\" width=\"89.65179687500002\" height=\"40\" stroke=\"black\" fill=\"white\" stroke-width=\"1\" /><text x=\"693.0543359375001\" y=\"275.0\" dominant-baseline=\"middle\" text-anchor=\"middle\" font-size=\"14px\" font-family=\"Arial\">XX^(xx1-4)</text><rect x=\"648.2284375000002\" y=\"5.0\" width=\"89.65179687500002\" height=\"40\" stroke=\"black\" fill=\"white\" stroke-width=\"1\" /><text x=\"693.0543359375001\" y=\"25.0\" dominant-baseline=\"middle\" text-anchor=\"middle\" font-size=\"14px\" font-family=\"Arial\">XX</text><rect x=\"757.8802343750002\" y=\"305.0\" width=\"89.65179687500002\" height=\"40\" stroke=\"black\" fill=\"white\" stroke-width=\"1\" /><text x=\"802.7061328125002\" y=\"325.0\" dominant-baseline=\"middle\" text-anchor=\"middle\" font-size=\"14px\" font-family=\"Arial\">XX^(xx1-5)</text><rect x=\"757.8802343750002\" y=\"5.0\" width=\"89.65179687500002\" height=\"40\" stroke=\"black\" fill=\"white\" stroke-width=\"1\" /><text x=\"802.7061328125002\" y=\"25.0\" dominant-baseline=\"middle\" text-anchor=\"middle\" font-size=\"14px\" font-family=\"Arial\">XX</text><rect x=\"867.5320312500003\" y=\"355.0\" width=\"89.65179687500002\" height=\"40\" stroke=\"black\" fill=\"white\" stroke-width=\"1\" /><text x=\"912.3579296875002\" y=\"375.0\" dominant-baseline=\"middle\" text-anchor=\"middle\" font-size=\"14px\" font-family=\"Arial\">XX^(xx1-6)</text><rect x=\"867.5320312500003\" y=\"5.0\" width=\"89.65179687500002\" height=\"40\" stroke=\"black\" fill=\"white\" stroke-width=\"1\" /><text x=\"912.3579296875002\" y=\"25.0\" dominant-baseline=\"middle\" text-anchor=\"middle\" font-size=\"14px\" font-family=\"Arial\">XX</text><rect x=\"977.1838281250003\" y=\"405.0\" width=\"89.65179687500002\" height=\"40\" stroke=\"black\" fill=\"white\" stroke-width=\"1\" /><text x=\"1022.0097265625003\" y=\"425.0\" dominant-baseline=\"middle\" text-anchor=\"middle\" font-size=\"14px\" font-family=\"Arial\">XX^(xx1-7)</text><rect x=\"977.1838281250003\" y=\"5.0\" width=\"89.65179687500002\" height=\"40\" stroke=\"black\" fill=\"white\" stroke-width=\"1\" /><text x=\"1022.0097265625003\" y=\"25.0\" dominant-baseline=\"middle\" text-anchor=\"middle\" font-size=\"14px\" font-family=\"Arial\">XX</text><rect x=\"1086.8356250000004\" y=\"455.0\" width=\"89.65179687500002\" height=\"40\" stroke=\"black\" fill=\"white\" stroke-width=\"1\" /><text x=\"1131.6615234375004\" y=\"475.0\" dominant-baseline=\"middle\" text-anchor=\"middle\" font-size=\"14px\" font-family=\"Arial\">XX^(xx1-8)</text><rect x=\"1086.8356250000004\" y=\"5.0\" width=\"89.65179687500002\" height=\"40\" stroke=\"black\" fill=\"white\" stroke-width=\"1\" /><text x=\"1131.6615234375004\" y=\"25.0\" dominant-baseline=\"middle\" text-anchor=\"middle\" font-size=\"14px\" font-family=\"Arial\">XX</text><rect x=\"1196.4874218750003\" y=\"505.0\" width=\"89.65179687500002\" height=\"40\" stroke=\"black\" fill=\"white\" stroke-width=\"1\" /><text x=\"1241.3133203125003\" y=\"525.0\" dominant-baseline=\"middle\" text-anchor=\"middle\" font-size=\"14px\" font-family=\"Arial\">XX^(xx1-9)</text><rect x=\"1196.4874218750003\" y=\"5.0\" width=\"89.65179687500002\" height=\"40\" stroke=\"black\" fill=\"white\" stroke-width=\"1\" /><text x=\"1241.3133203125003\" y=\"25.0\" dominant-baseline=\"middle\" text-anchor=\"middle\" font-size=\"14px\" font-family=\"Arial\">XX</text><rect x=\"1306.1392187500003\" y=\"555.0\" width=\"98.55902343750002\" height=\"40\" stroke=\"black\" fill=\"white\" stroke-width=\"1\" /><text x=\"1355.4187304687503\" y=\"575.0\" dominant-baseline=\"middle\" text-anchor=\"middle\" font-size=\"14px\" font-family=\"Arial\">XX^(xx1-10)</text><rect x=\"1306.1392187500003\" y=\"5.0\" width=\"98.55902343750002\" height=\"40\" stroke=\"black\" fill=\"white\" stroke-width=\"1\" /><text x=\"1355.4187304687503\" y=\"25.0\" dominant-baseline=\"middle\" text-anchor=\"middle\" font-size=\"14px\" font-family=\"Arial\">XX</text><rect x=\"1424.6982421875002\" y=\"605.0\" width=\"98.55902343750002\" height=\"40\" stroke=\"black\" fill=\"white\" stroke-width=\"1\" /><text x=\"1473.9777539062502\" y=\"625.0\" dominant-baseline=\"middle\" text-anchor=\"middle\" font-size=\"14px\" font-family=\"Arial\">XX^(xx1-11)</text><rect x=\"1424.6982421875002\" y=\"5.0\" width=\"98.55902343750002\" height=\"40\" stroke=\"black\" fill=\"white\" stroke-width=\"1\" /><text x=\"1473.9777539062502\" y=\"25.0\" dominant-baseline=\"middle\" text-anchor=\"middle\" font-size=\"14px\" font-family=\"Arial\">XX</text><rect x=\"1543.2572656250002\" y=\"655.0\" width=\"98.55902343750002\" height=\"40\" stroke=\"black\" fill=\"white\" stroke-width=\"1\" /><text x=\"1592.5367773437501\" y=\"675.0\" dominant-baseline=\"middle\" text-anchor=\"middle\" font-size=\"14px\" font-family=\"Arial\">XX^(xx1-12)</text><rect x=\"1543.2572656250002\" y=\"5.0\" width=\"98.55902343750002\" height=\"40\" stroke=\"black\" fill=\"white\" stroke-width=\"1\" /><text x=\"1592.5367773437501\" y=\"25.0\" dominant-baseline=\"middle\" text-anchor=\"middle\" font-size=\"14px\" font-family=\"Arial\">XX</text><rect x=\"1661.8162890625001\" y=\"705.0\" width=\"98.55902343750002\" height=\"40\" stroke=\"black\" fill=\"white\" stroke-width=\"1\" /><text x=\"1711.09580078125\" y=\"725.0\" dominant-baseline=\"middle\" text-anchor=\"middle\" font-size=\"14px\" font-family=\"Arial\">XX^(xx1-13)</text><rect x=\"1661.8162890625001\" y=\"5.0\" width=\"98.55902343750002\" height=\"40\" stroke=\"black\" fill=\"white\" stroke-width=\"1\" /><text x=\"1711.09580078125\" y=\"25.0\" dominant-baseline=\"middle\" text-anchor=\"middle\" font-size=\"14px\" font-family=\"Arial\">XX</text><rect x=\"1780.3753125\" y=\"755.0\" width=\"98.55902343750002\" height=\"40\" stroke=\"black\" fill=\"white\" stroke-width=\"1\" /><text x=\"1829.65482421875\" y=\"775.0\" dominant-baseline=\"middle\" text-anchor=\"middle\" font-size=\"14px\" font-family=\"Arial\">XX^(xx1-14)</text><rect x=\"1780.3753125\" y=\"5.0\" width=\"98.55902343750002\" height=\"40\" stroke=\"black\" fill=\"white\" stroke-width=\"1\" /><text x=\"1829.65482421875\" y=\"25.0\" dominant-baseline=\"middle\" text-anchor=\"middle\" font-size=\"14px\" font-family=\"Arial\">XX</text><rect x=\"1898.9343359375\" y=\"805.0\" width=\"98.55902343750002\" height=\"40\" stroke=\"black\" fill=\"white\" stroke-width=\"1\" /><text x=\"1948.21384765625\" y=\"825.0\" dominant-baseline=\"middle\" text-anchor=\"middle\" font-size=\"14px\" font-family=\"Arial\">XX^(xx1-15)</text><rect x=\"1898.9343359375\" y=\"5.0\" width=\"98.55902343750002\" height=\"40\" stroke=\"black\" fill=\"white\" stroke-width=\"1\" /><text x=\"1948.21384765625\" y=\"25.0\" dominant-baseline=\"middle\" text-anchor=\"middle\" font-size=\"14px\" font-family=\"Arial\">XX</text><rect x=\"2017.4933593749997\" y=\"55.0\" width=\"87.56656250000002\" height=\"40\" stroke=\"black\" fill=\"white\" stroke-width=\"1\" /><text x=\"2061.276640625\" y=\"75.0\" dominant-baseline=\"middle\" text-anchor=\"middle\" font-size=\"14px\" font-family=\"Arial\">ZZ^(zz1-0)</text><rect x=\"2017.4933593749997\" y=\"5.0\" width=\"87.56656250000002\" height=\"40\" stroke=\"black\" fill=\"white\" stroke-width=\"1\" /><text x=\"2061.276640625\" y=\"25.0\" dominant-baseline=\"middle\" text-anchor=\"middle\" font-size=\"14px\" font-family=\"Arial\">ZZ</text><rect x=\"2125.059921875\" y=\"105.0\" width=\"87.56656250000002\" height=\"40\" stroke=\"black\" fill=\"white\" stroke-width=\"1\" /><text x=\"2168.843203125\" y=\"125.0\" dominant-baseline=\"middle\" text-anchor=\"middle\" font-size=\"14px\" font-family=\"Arial\">ZZ^(zz1-1)</text><rect x=\"2125.059921875\" y=\"5.0\" width=\"87.56656250000002\" height=\"40\" stroke=\"black\" fill=\"white\" stroke-width=\"1\" /><text x=\"2168.843203125\" y=\"25.0\" dominant-baseline=\"middle\" text-anchor=\"middle\" font-size=\"14px\" font-family=\"Arial\">ZZ</text><rect x=\"2232.626484375\" y=\"155.0\" width=\"87.56656250000002\" height=\"40\" stroke=\"black\" fill=\"white\" stroke-width=\"1\" /><text x=\"2276.409765625\" y=\"175.0\" dominant-baseline=\"middle\" text-anchor=\"middle\" font-size=\"14px\" font-family=\"Arial\">ZZ^(zz1-2)</text><rect x=\"2232.626484375\" y=\"5.0\" width=\"87.56656250000002\" height=\"40\" stroke=\"black\" fill=\"white\" stroke-width=\"1\" /><text x=\"2276.409765625\" y=\"25.0\" dominant-baseline=\"middle\" text-anchor=\"middle\" font-size=\"14px\" font-family=\"Arial\">ZZ</text><rect x=\"2340.193046875\" y=\"205.0\" width=\"87.56656250000002\" height=\"40\" stroke=\"black\" fill=\"white\" stroke-width=\"1\" /><text x=\"2383.9763281250002\" y=\"225.0\" dominant-baseline=\"middle\" text-anchor=\"middle\" font-size=\"14px\" font-family=\"Arial\">ZZ^(zz1-3)</text><rect x=\"2340.193046875\" y=\"5.0\" width=\"87.56656250000002\" height=\"40\" stroke=\"black\" fill=\"white\" stroke-width=\"1\" /><text x=\"2383.9763281250002\" y=\"25.0\" dominant-baseline=\"middle\" text-anchor=\"middle\" font-size=\"14px\" font-family=\"Arial\">ZZ</text><rect x=\"2447.7596093750003\" y=\"255.0\" width=\"87.56656250000002\" height=\"40\" stroke=\"black\" fill=\"white\" stroke-width=\"1\" /><text x=\"2491.5428906250004\" y=\"275.0\" dominant-baseline=\"middle\" text-anchor=\"middle\" font-size=\"14px\" font-family=\"Arial\">ZZ^(zz1-4)</text><rect x=\"2447.7596093750003\" y=\"5.0\" width=\"87.56656250000002\" height=\"40\" stroke=\"black\" fill=\"white\" stroke-width=\"1\" /><text x=\"2491.5428906250004\" y=\"25.0\" dominant-baseline=\"middle\" text-anchor=\"middle\" font-size=\"14px\" font-family=\"Arial\">ZZ</text><rect x=\"2555.3261718750005\" y=\"305.0\" width=\"87.56656250000002\" height=\"40\" stroke=\"black\" fill=\"white\" stroke-width=\"1\" /><text x=\"2599.1094531250005\" y=\"325.0\" dominant-baseline=\"middle\" text-anchor=\"middle\" font-size=\"14px\" font-family=\"Arial\">ZZ^(zz1-5)</text><rect x=\"2555.3261718750005\" y=\"5.0\" width=\"87.56656250000002\" height=\"40\" stroke=\"black\" fill=\"white\" stroke-width=\"1\" /><text x=\"2599.1094531250005\" y=\"25.0\" dominant-baseline=\"middle\" text-anchor=\"middle\" font-size=\"14px\" font-family=\"Arial\">ZZ</text><rect x=\"2662.8927343750006\" y=\"355.0\" width=\"87.56656250000002\" height=\"40\" stroke=\"black\" fill=\"white\" stroke-width=\"1\" /><text x=\"2706.6760156250007\" y=\"375.0\" dominant-baseline=\"middle\" text-anchor=\"middle\" font-size=\"14px\" font-family=\"Arial\">ZZ^(zz1-6)</text><rect x=\"2662.8927343750006\" y=\"5.0\" width=\"87.56656250000002\" height=\"40\" stroke=\"black\" fill=\"white\" stroke-width=\"1\" /><text x=\"2706.6760156250007\" y=\"25.0\" dominant-baseline=\"middle\" text-anchor=\"middle\" font-size=\"14px\" font-family=\"Arial\">ZZ</text><rect x=\"2770.4592968750007\" y=\"405.0\" width=\"87.56656250000002\" height=\"40\" stroke=\"black\" fill=\"white\" stroke-width=\"1\" /><text x=\"2814.242578125001\" y=\"425.0\" dominant-baseline=\"middle\" text-anchor=\"middle\" font-size=\"14px\" font-family=\"Arial\">ZZ^(zz1-7)</text><rect x=\"2770.4592968750007\" y=\"5.0\" width=\"87.56656250000002\" height=\"40\" stroke=\"black\" fill=\"white\" stroke-width=\"1\" /><text x=\"2814.242578125001\" y=\"25.0\" dominant-baseline=\"middle\" text-anchor=\"middle\" font-size=\"14px\" font-family=\"Arial\">ZZ</text><rect x=\"2878.025859375001\" y=\"455.0\" width=\"87.56656250000002\" height=\"40\" stroke=\"black\" fill=\"white\" stroke-width=\"1\" /><text x=\"2921.809140625001\" y=\"475.0\" dominant-baseline=\"middle\" text-anchor=\"middle\" font-size=\"14px\" font-family=\"Arial\">ZZ^(zz1-8)</text><rect x=\"2878.025859375001\" y=\"5.0\" width=\"87.56656250000002\" height=\"40\" stroke=\"black\" fill=\"white\" stroke-width=\"1\" /><text x=\"2921.809140625001\" y=\"25.0\" dominant-baseline=\"middle\" text-anchor=\"middle\" font-size=\"14px\" font-family=\"Arial\">ZZ</text><rect x=\"2985.592421875001\" y=\"505.0\" width=\"87.56656250000002\" height=\"40\" stroke=\"black\" fill=\"white\" stroke-width=\"1\" /><text x=\"3029.375703125001\" y=\"525.0\" dominant-baseline=\"middle\" text-anchor=\"middle\" font-size=\"14px\" font-family=\"Arial\">ZZ^(zz1-9)</text><rect x=\"2985.592421875001\" y=\"5.0\" width=\"87.56656250000002\" height=\"40\" stroke=\"black\" fill=\"white\" stroke-width=\"1\" /><text x=\"3029.375703125001\" y=\"25.0\" dominant-baseline=\"middle\" text-anchor=\"middle\" font-size=\"14px\" font-family=\"Arial\">ZZ</text><rect x=\"3093.158984375001\" y=\"555.0\" width=\"96.47378906250002\" height=\"40\" stroke=\"black\" fill=\"white\" stroke-width=\"1\" /><text x=\"3141.3958789062513\" y=\"575.0\" dominant-baseline=\"middle\" text-anchor=\"middle\" font-size=\"14px\" font-family=\"Arial\">ZZ^(zz1-10)</text><rect x=\"3093.158984375001\" y=\"5.0\" width=\"96.47378906250002\" height=\"40\" stroke=\"black\" fill=\"white\" stroke-width=\"1\" /><text x=\"3141.3958789062513\" y=\"25.0\" dominant-baseline=\"middle\" text-anchor=\"middle\" font-size=\"14px\" font-family=\"Arial\">ZZ</text><rect x=\"3209.6327734375013\" y=\"605.0\" width=\"96.47378906250002\" height=\"40\" stroke=\"black\" fill=\"white\" stroke-width=\"1\" /><text x=\"3257.8696679687514\" y=\"625.0\" dominant-baseline=\"middle\" text-anchor=\"middle\" font-size=\"14px\" font-family=\"Arial\">ZZ^(zz1-11)</text><rect x=\"3209.6327734375013\" y=\"5.0\" width=\"96.47378906250002\" height=\"40\" stroke=\"black\" fill=\"white\" stroke-width=\"1\" /><text x=\"3257.8696679687514\" y=\"25.0\" dominant-baseline=\"middle\" text-anchor=\"middle\" font-size=\"14px\" font-family=\"Arial\">ZZ</text><rect x=\"3326.1065625000015\" y=\"655.0\" width=\"96.47378906250002\" height=\"40\" stroke=\"black\" fill=\"white\" stroke-width=\"1\" /><text x=\"3374.3434570312515\" y=\"675.0\" dominant-baseline=\"middle\" text-anchor=\"middle\" font-size=\"14px\" font-family=\"Arial\">ZZ^(zz1-12)</text><rect x=\"3326.1065625000015\" y=\"5.0\" width=\"96.47378906250002\" height=\"40\" stroke=\"black\" fill=\"white\" stroke-width=\"1\" /><text x=\"3374.3434570312515\" y=\"25.0\" dominant-baseline=\"middle\" text-anchor=\"middle\" font-size=\"14px\" font-family=\"Arial\">ZZ</text><rect x=\"3442.5803515625016\" y=\"705.0\" width=\"96.47378906250002\" height=\"40\" stroke=\"black\" fill=\"white\" stroke-width=\"1\" /><text x=\"3490.8172460937517\" y=\"725.0\" dominant-baseline=\"middle\" text-anchor=\"middle\" font-size=\"14px\" font-family=\"Arial\">ZZ^(zz1-13)</text><rect x=\"3442.5803515625016\" y=\"5.0\" width=\"96.47378906250002\" height=\"40\" stroke=\"black\" fill=\"white\" stroke-width=\"1\" /><text x=\"3490.8172460937517\" y=\"25.0\" dominant-baseline=\"middle\" text-anchor=\"middle\" font-size=\"14px\" font-family=\"Arial\">ZZ</text><rect x=\"3559.0541406250018\" y=\"755.0\" width=\"96.47378906250002\" height=\"40\" stroke=\"black\" fill=\"white\" stroke-width=\"1\" /><text x=\"3607.291035156252\" y=\"775.0\" dominant-baseline=\"middle\" text-anchor=\"middle\" font-size=\"14px\" font-family=\"Arial\">ZZ^(zz1-14)</text><rect x=\"3559.0541406250018\" y=\"5.0\" width=\"96.47378906250002\" height=\"40\" stroke=\"black\" fill=\"white\" stroke-width=\"1\" /><text x=\"3607.291035156252\" y=\"25.0\" dominant-baseline=\"middle\" text-anchor=\"middle\" font-size=\"14px\" font-family=\"Arial\">ZZ</text><rect x=\"3675.527929687502\" y=\"805.0\" width=\"96.47378906250002\" height=\"40\" stroke=\"black\" fill=\"white\" stroke-width=\"1\" /><text x=\"3723.764824218752\" y=\"825.0\" dominant-baseline=\"middle\" text-anchor=\"middle\" font-size=\"14px\" font-family=\"Arial\">ZZ^(zz1-15)</text><rect x=\"3675.527929687502\" y=\"5.0\" width=\"96.47378906250002\" height=\"40\" stroke=\"black\" fill=\"white\" stroke-width=\"1\" /><text x=\"3723.764824218752\" y=\"25.0\" dominant-baseline=\"middle\" text-anchor=\"middle\" font-size=\"14px\" font-family=\"Arial\">ZZ</text><rect x=\"3792.001718750002\" y=\"5.0\" width=\"40\" height=\"40\" stroke=\"black\" fill=\"white\" stroke-width=\"1\" /><text x=\"3812.001718750002\" y=\"25.0\" dominant-baseline=\"middle\" text-anchor=\"middle\" font-size=\"18px\" font-family=\"Arial\">H</text></svg>"
          },
          "metadata": {
            "tags": []
          },
          "execution_count": 34
        }
      ]
    },
    {
      "cell_type": "markdown",
      "metadata": {
        "id": "_OGalPixpywx"
      },
      "source": [
        "6. QNN model to tfq-keras model using PQC(Parameterized Quantum Circuit) layer\n",
        "\n",
        "\n",
        "(Build the Keras model with the quantum components. This model is fed the \"quantum data\", from x_train_circ, that encodes the classical data. It uses a Parametrized Quantum Circuit layer, tfq.layers.PQC, to train the model circuit, on the quantum data.\n",
        "\n",
        "To classify these images, Farhi et al. proposed taking the expectation of a readout qubit in a parameterized circuit. The expectation returns a value between 1 and -1.)"
      ]
    },
    {
      "cell_type": "code",
      "metadata": {
        "id": "1t6NtnQVocUq"
      },
      "source": [
        "model = tf.keras.Sequential([                \n",
        " # input is data-circuit, encoded as a tf.string\n",
        " tf.keras.layers.Input(shape=(), dtype=tf.string),\n",
        " #PQC layer returns expected value of the readout gate with range [-1,1]\n",
        " tfq.layers.PQC(model_circuit, model_readout)\n",
        "])\n"
      ],
      "execution_count": 35,
      "outputs": []
    },
    {
      "cell_type": "markdown",
      "metadata": {
        "id": "2tXv9tqyrAae"
      },
      "source": [
        "Next, describe the training procedure to the model, using the compile method.\n",
        "\n",
        "Since the the expected readout is in the range [-1,1], optimizing the hinge loss is a somewhat natural fit.\n",
        "Note: Another valid approach would be to shift the output range to [0,1], and treat it as the probability the model assigns to class 3. This could be used with a standard a tf.losses.BinaryCrossentropy loss.\n",
        "\n",
        "To use the hinge loss here you need to make two small adjustments. First convert the labels, y_train_nocon, from boolean to [-1,1], as expected by the hinge loss."
      ]
    },
    {
      "cell_type": "code",
      "metadata": {
        "colab": {
          "base_uri": "https://localhost:8080/"
        },
        "id": "zvy5IgI8ocSl",
        "outputId": "c84f7613-6edb-4555-b9e5-f468cd82f6e9"
      },
      "source": [
        "# For hinge loss vonvert labels from [0,1] to [-1, 1]\n",
        "\n",
        "y_train_hinge_loss = 2.0 * y_train -1 \n",
        "y_test_hinge_loss = 2.0 * y_test -1 \n",
        "\n",
        "print('labels train [0,1]:\\n {}'.format(y_train))\n",
        "print('labels test [0,1]:\\n {}'.format(y_test))\n",
        "print('labels train [-1,1]:\\n {}'.format(y_train_hinge_loss))\n",
        "print('labels test [-1,1]:\\n {}'.format(y_test_hinge_loss))"
      ],
      "execution_count": 36,
      "outputs": [
        {
          "output_type": "stream",
          "text": [
            "labels train [0,1]:\n",
            " [1. 1. 1. 0. 1. 0. 1. 1. 1. 0. 1. 1. 1. 1. 0. 1. 1. 0. 0. 1. 0. 0. 1. 0.\n",
            " 1. 0. 1. 1. 0. 0. 1. 0. 1. 1. 0. 0. 1. 1. 0. 1. 1. 0. 0. 0. 1. 1. 0. 1.\n",
            " 1. 0. 1. 1. 0. 0. 1. 1. 1. 1. 1. 1. 1. 1. 0. 0. 0. 0. 1. 0. 0. 0. 0. 0.\n",
            " 0. 0. 0. 1. 1. 1. 0. 1. 0. 1. 1. 1. 0. 1. 0. 1. 0. 0. 1. 1. 1. 0. 1. 0.\n",
            " 1. 1. 0. 1.]\n",
            "labels test [0,1]:\n",
            " [0. 0. 0. 0. 0. 1. 0. 1. 0. 0. 0. 0. 1. 0. 0. 1. 0. 0. 1. 1. 1. 1. 0. 1.\n",
            " 0. 1. 0. 0. 0. 0. 1. 0. 0. 1. 1. 1. 0. 1. 0. 1. 1. 1. 0. 1. 1. 1. 0. 0.\n",
            " 1. 0. 1. 1. 0. 1. 0. 1. 0. 1. 0. 1. 0. 0. 0. 0. 0. 0. 1. 1. 0. 0. 0. 0.\n",
            " 0. 0. 1. 1. 1. 0. 1. 0. 1. 0. 1. 1. 0. 0. 0. 1. 1. 1. 0. 0. 0. 0. 1. 1.\n",
            " 1. 1. 1. 1.]\n",
            "labels train [-1,1]:\n",
            " [ 1.  1.  1. -1.  1. -1.  1.  1.  1. -1.  1.  1.  1.  1. -1.  1.  1. -1.\n",
            " -1.  1. -1. -1.  1. -1.  1. -1.  1.  1. -1. -1.  1. -1.  1.  1. -1. -1.\n",
            "  1.  1. -1.  1.  1. -1. -1. -1.  1.  1. -1.  1.  1. -1.  1.  1. -1. -1.\n",
            "  1.  1.  1.  1.  1.  1.  1.  1. -1. -1. -1. -1.  1. -1. -1. -1. -1. -1.\n",
            " -1. -1. -1.  1.  1.  1. -1.  1. -1.  1.  1.  1. -1.  1. -1.  1. -1. -1.\n",
            "  1.  1.  1. -1.  1. -1.  1.  1. -1.  1.]\n",
            "labels test [-1,1]:\n",
            " [-1. -1. -1. -1. -1.  1. -1.  1. -1. -1. -1. -1.  1. -1. -1.  1. -1. -1.\n",
            "  1.  1.  1.  1. -1.  1. -1.  1. -1. -1. -1. -1.  1. -1. -1.  1.  1.  1.\n",
            " -1.  1. -1.  1.  1.  1. -1.  1.  1.  1. -1. -1.  1. -1.  1.  1. -1.  1.\n",
            " -1.  1. -1.  1. -1.  1. -1. -1. -1. -1. -1. -1.  1.  1. -1. -1. -1. -1.\n",
            " -1. -1.  1.  1.  1. -1.  1. -1.  1. -1.  1.  1. -1. -1. -1.  1.  1.  1.\n",
            " -1. -1. -1. -1.  1.  1.  1.  1.  1.  1.]\n"
          ],
          "name": "stdout"
        }
      ]
    },
    {
      "cell_type": "markdown",
      "metadata": {
        "id": "HuloFgT3sSuu"
      },
      "source": [
        "Second, use a custiom hinge_accuracy metric that correctly handles [-1, 1] as the y_true labels argument. tf.losses.BinaryAccuracy(threshold=0.0) expects y_true to be a boolean, and so can't be used with hinge loss)."
      ]
    },
    {
      "cell_type": "code",
      "metadata": {
        "id": "3rLrC5YzocQs"
      },
      "source": [
        "def hinge_accuracy(y_true, y_pred):\n",
        "  y_true = tf.squeeze(y_true) > 0.0\n",
        "  y_pred = tf.squeeze(y_pred) > 0.0\n",
        "  result = tf.cast(y_true == y_pred, tf.float32)\n",
        "\n",
        "  return tf.reduce_mean(result)"
      ],
      "execution_count": 37,
      "outputs": []
    },
    {
      "cell_type": "markdown",
      "metadata": {
        "id": "9H-_fCS9tw2I"
      },
      "source": [
        "compile model \n",
        "- hinge loss\n",
        "- ADAM (of grad desc)\n",
        "- hinge accuracy"
      ]
    },
    {
      "cell_type": "code",
      "metadata": {
        "id": "ilJI65tNocOb"
      },
      "source": [
        "model.compile(loss=tf.keras.losses.Hinge(),\n",
        "              optimizer = tf.keras.optimizers.Adam(),\n",
        "              metrics=[hinge_accuracy])"
      ],
      "execution_count": 38,
      "outputs": []
    },
    {
      "cell_type": "code",
      "metadata": {
        "colab": {
          "base_uri": "https://localhost:8080/"
        },
        "id": "x6nMUnCPocKK",
        "outputId": "1617dda0-7fb8-4557-92a8-b65620a15de1"
      },
      "source": [
        "print(model.summary())"
      ],
      "execution_count": 39,
      "outputs": [
        {
          "output_type": "stream",
          "text": [
            "Model: \"sequential\"\n",
            "_________________________________________________________________\n",
            "Layer (type)                 Output Shape              Param #   \n",
            "=================================================================\n",
            "pqc (PQC)                    (None, 1)                 32        \n",
            "=================================================================\n",
            "Total params: 32\n",
            "Trainable params: 32\n",
            "Non-trainable params: 0\n",
            "_________________________________________________________________\n",
            "None\n"
          ],
          "name": "stdout"
        }
      ]
    },
    {
      "cell_type": "markdown",
      "metadata": {
        "id": "3a_BH23Sue-E"
      },
      "source": [
        "7. Train Model"
      ]
    },
    {
      "cell_type": "code",
      "metadata": {
        "id": "Xc27048JzTLc"
      },
      "source": [
        "EPOCHS = 5\n",
        "BATCH_SIZE = 2\n",
        "NUM_EXAMPLES = len(x_train_tfqcirc)"
      ],
      "execution_count": 40,
      "outputs": []
    },
    {
      "cell_type": "code",
      "metadata": {
        "id": "JD59PV3suwlY"
      },
      "source": [
        "x_train_tfcirq_sub = x_train_tfqcirc[: NUM_EXAMPLES]\n",
        "y_train_hinge_loss_sub = y_train_hinge_loss[: NUM_EXAMPLES]"
      ],
      "execution_count": 41,
      "outputs": []
    },
    {
      "cell_type": "code",
      "metadata": {
        "colab": {
          "base_uri": "https://localhost:8080/",
          "height": 410
        },
        "id": "ScdPvTbWuitw",
        "outputId": "5a500f2b-a34c-4a2d-ed19-4a7d66edd878"
      },
      "source": [
        "qnn_history = model.fit(\n",
        "      x_train_tfcirq_sub, y_train_hinge_loss_sub,\n",
        "      batch_size=BATCH_SIZE,\n",
        "      epochs=EPOCHS,\n",
        "      verbose=1,\n",
        "      validation_data=(x_test_tfqcirc, y_test_hinge_loss))\n",
        "\n",
        "qnn_results = model.evaluate(x_test_tfqcirc, y_test_hinge_loss)"
      ],
      "execution_count": 45,
      "outputs": [
        {
          "output_type": "stream",
          "text": [
            "Epoch 1/5\n",
            "50/50 [==============================] - 7s 145ms/step - loss: 1.0020 - hinge_accuracy: 0.4400 - val_loss: 0.9994 - val_hinge_accuracy: 0.5400\n",
            "Epoch 2/5\n",
            "50/50 [==============================] - 7s 144ms/step - loss: 1.0002 - hinge_accuracy: 0.5200 - val_loss: 1.0007 - val_hinge_accuracy: 0.4800\n",
            "Epoch 3/5\n",
            "50/50 [==============================] - 7s 143ms/step - loss: 0.9982 - hinge_accuracy: 0.5400 - val_loss: 1.0014 - val_hinge_accuracy: 0.4800\n",
            "Epoch 4/5\n",
            "50/50 [==============================] - 7s 143ms/step - loss: 0.9965 - hinge_accuracy: 0.5400 - val_loss: 1.0025 - val_hinge_accuracy: 0.4800\n",
            "Epoch 5/5\n",
            "50/50 [==============================] - 7s 146ms/step - loss: 0.9946 - hinge_accuracy: 0.5500 - val_loss: 1.0039 - val_hinge_accuracy: 0.4800\n"
          ],
          "name": "stdout"
        },
        {
          "output_type": "error",
          "ename": "NameError",
          "evalue": "ignored",
          "traceback": [
            "\u001b[0;31m---------------------------------------------------------------------------\u001b[0m",
            "\u001b[0;31mNameError\u001b[0m                                 Traceback (most recent call last)",
            "\u001b[0;32m<ipython-input-45-fe855923af7f>\u001b[0m in \u001b[0;36m<module>\u001b[0;34m()\u001b[0m\n\u001b[1;32m      6\u001b[0m       validation_data=(x_test_tfqcirc, y_test_hinge_loss))\n\u001b[1;32m      7\u001b[0m \u001b[0;34m\u001b[0m\u001b[0m\n\u001b[0;32m----> 8\u001b[0;31m \u001b[0mqnn_results\u001b[0m \u001b[0;34m=\u001b[0m \u001b[0mmodel\u001b[0m\u001b[0;34m.\u001b[0m\u001b[0mevaluate\u001b[0m\u001b[0;34m(\u001b[0m\u001b[0mx_test_tfcirc\u001b[0m\u001b[0;34m,\u001b[0m \u001b[0my_test\u001b[0m\u001b[0;34m)\u001b[0m\u001b[0;34m\u001b[0m\u001b[0;34m\u001b[0m\u001b[0m\n\u001b[0m",
            "\u001b[0;31mNameError\u001b[0m: name 'x_test_tfcirc' is not defined"
          ]
        }
      ]
    },
    {
      "cell_type": "code",
      "metadata": {
        "colab": {
          "base_uri": "https://localhost:8080/"
        },
        "id": "kQpSOsjbPd1L",
        "outputId": "fd5feccb-bf4a-49f2-c646-0f9df32cd238"
      },
      "source": [
        "qnn_results = model.evaluate(x_test_tfqcirc, y_test_hinge_loss)"
      ],
      "execution_count": 46,
      "outputs": [
        {
          "output_type": "stream",
          "text": [
            "4/4 [==============================] - 1s 161ms/step - loss: 1.0039 - hinge_accuracy: 0.5938\n"
          ],
          "name": "stdout"
        }
      ]
    },
    {
      "cell_type": "markdown",
      "metadata": {
        "id": "VoQEAWt6z_-q"
      },
      "source": [
        "# Test:\n",
        "\n",
        "1. Model:\n",
        "- pixel with 6,6 \n",
        "- 2 layers \n",
        "\n",
        "2. Model Hyperparams:\n",
        "- batch size 1\n",
        "- epochs 5\n",
        "\n",
        "--> not trainable (RAM Colab crashes)\n",
        "\n",
        "\n",
        "\n",
        "# Results:\n",
        "A) hinge accuracy with 4x4 pixel, 1 qnn layer, 10 epochs, batch size 16 :\n",
        "- 0.5625"
      ]
    },
    {
      "cell_type": "markdown",
      "metadata": {
        "id": "yBel3L_NywV9"
      },
      "source": [
        "#QCNN:"
      ]
    },
    {
      "cell_type": "markdown",
      "metadata": {
        "id": "O2HXRnTtdUML"
      },
      "source": [
        "- Full QUANTUM\n",
        "![qcnn_3.png](data:image/png;base64,iVBORw0KGgoAAAANSUhEUgAAE6oAAAw4CAYAAACdbKt0AACAAElEQVR42uzBAQEAAACAkP6v7ggKAAAAAAAAAAAAAAAAAAAAAAAAAAAAAAAAAAAAAAAAAAAAAAAAAAAAAAAAAAAAAAAAAAAAAAAAAAAAAAAAAAAAAAAAAAAAAAAAAAAAAAAAAAAAAAAAAAAAAAAAAAAAAAAAAAAAAAAAAAAAAAAAAAAAAAAAAAAAAAAAAAAAAAAAAAAAAAAAAAAAAAAAAAAAAAAAAAAAAAAAAAAAAAAAAAAAAAAAAAAAAAAAAAAAAAAAAAAAAAAAAAAAAAAAAAAAAAAAAAAAAAAAAAAAAAAAAAAAAAAAAAAAAAAAAAAAAAAAAAAAAAAAAAAAAAAAAAAAAAAAAAAAAAAAAAAAAAAAAAAAAAAAAAAAAAAAAAAAAAAAAAAAAAAAAAAAAAAAAAAAAAAAAAAAAAAAAAAAAAAAAAAAAAAAAAAAAAAAAAAAAAAAAAAAAAAAAAAAAAAAAAAAAAAAAAAAAAAAAAAAAAAAAAAAAAAAAAAAAAAAAAAAAAAAAAAAAAAAAAAAAAAAAAAAAAAAAAAAAAAAAAAAAAAAAAAAAAAAAAAAAAAAAAAAAAAAAAAAAAAAAAAAAAAAAAAAAAAAAAAAAAAAAAAAAAAAAAAAAAAAAAAAAAAAAAAAAAAAAAAAAAAAAAAAAAAAAAAAAAAAAAAAAAAAAAAAAAAAAAAAAAAAAAAAAAAAAAAAAAAAAAAAAAAAAAAAAAAAAAAAAAAAAAAAAAAAAAAAAAAAAAAAAAAAAAAAAAAAAAAAAAAAAAAAAAAAAAAAAAAAAAAAAAAAAAAAAAAAAAAAAAAAAAAAAAAAAAAAAAAAAAAAAAAAAAAAAAAAAAAAAAAAAAAAAAAAAAAAAAAAAAAAAAAAAAAAAAAAAAAAAAAAAAAAAAAAAAAAAAAAAAAAAAAAAAAAAAAAAAAAAAAAAAAAAAAAAAAAAAAAAAAAAAAAAAAAAAAAAAAAAAAAAAAAAAAAAAAAAAAAAAAAAAAAAAAAAAAAAAAAAAAAAAAAAAAAAAAAAAAAAAAAAAAAAAAAAAAAAAAAAAAAAAAAAAAAAAAAAAAAAAAAAAAAAAAAAAAAAAAAAAAAAAAAAAAAAAAAAAAAAAAAAAAAAAAAAAAAAAAAAAAAAAAAAAAAAAAAAAAAAAAAAAAAAAAAAAAAAAAAAAAAAAAAAAAAAAAAAAAAAAAAAAAAAAAAAAAAAAAAAAAAAAAAAAAAAAAAAAAAAAAAAAAAAAAAAAAAAAAAAAAAAAAAAAAAAAAAAAAAAAAAAAAAAAAAAAAAAAAAAAAAAAAAAAAAAAAAAAAAAAAAAAAAAAAAAAAAAAAAAAAAAAAAAAAAAAAAAAAAAAAAAAAAAAAAAAAAAAAAAAAAAAAAAAAAAAAAAAAAAAAAAAAAAAAAAAAAAAAAAAAAAAAAAAAAAAAAAAAAAAAAAAAAAAAAAAAAAAAAAAAAAAAAAAAAAAAAAAAAAAAAAAAAAAAAAAAAAAAAAAAAAAAAAAAAAAAAAAAAAAAAAAAAAAAAAAAAAAAAAAAAAAAAAAAAAAAAAAAAAAAAAAAAAAAAAAAAAAAAAAAAAAAAAAAAAAAAAAAAAAAAAAAAAAAAAAAAAAAAAAAAAAAAAAAAAAAAAAAAAAAAAAAAAAAAAAAAAAAAAAAAAAAAAAAAAAAAAAAAAAAAAAAAAAAAAAAAAAAAAAAAAAAAAAAAAAAAAAAAAAAAAAAAAAAAAAAAAAAAAAAAAAAAAAAAAAAAAAAAAAAAAAAAAAAAAAAAAAAAAAAAAAAAAAAAAAAAAAAAAAAAAAAAAAAAAAAAAAAAAAAAAAAAAAAAAAAAAAAAAAAAAAAAAAAAAAAAAAAAAAAAAAAAAAAAAAAAAAAAAAAAAAAAAAAAAAAAAAAAAAAAAAAAAAAAAAAAAAAAAAAAAAAAAAAAAAAAAAAAAAAAAAAAAAAAAAAAAAAAAAAAAAAAAAAAAAAAAAAAAAAAAAAAAAAAAAAAAAAAAAAAAAAAAAAAAAAAAAAAAAAAAAAAAAAAAAAAAAAAAAAAAAAAAAAAAAAAAAAAAAAAAAAAAAAAAAAAAAAAAAAAAAAAAAAAAAAAAAAAAAAAAAAAAAAAAAAAAAAAAAAAAAAAAAAAAAAAAAAAAAAAAAAAAAAAAAAAAAAAAAAAAAAAAAAAAAAAAAAAAAAAAAAAAAAAAAAAAAAAAAAAAAAAAAAAAAAAAAAAAAAAAAAAAAAAAAAAAAAAAAAAAAAAAAAAAAAAAAAAAAAAAAAAAAAAAAAAAAAAAAAAAAAAAAAAAAAAAAAAAAAAAAAAAAAAAAAAAAAAAAAAAAAAAAAAAAAAAAAAAAAAAAAAAAAAAAAAAAAAAAAAAAAAAAAAAAAAAAAAAAAAAAAAAAAAAAAAAAAAAAAAAAAAAAAAAAAAAAAAAAAAAAAAAAAAAAAAAAAAAAAAAAAAAAAAAAAAAAAAAAAAAAAAAAAAAAAAAAAAAAAAAAAAAAAAAAAAAAAAAAAAAAAAAAAAAAAAAAAAAAAAAAAAAAAAAAAAAAAAAAAAAAAAAAAAAAAAAAAAAAAAAAAAAAAAAAAAAAAAAAAAAAAAAAAAAAAAAAAAAAAAAAAAAAAAAAAAAAAAAAAAAAAAAAAAAAAAAAAAAAAAAAAAAAAAAAAAAAAAAAAAAAAAAAAAAAAAAAAAAAAAAAAAAAAAAAAAAAAAAAAAAAAAAAAAAAAAAAAAAAAAAAAAAAAAAAAAAAAAAAAAAAAAAAAAAAAAAAAAAAAAAAAAAAAAAAAAAAAAAAAAAAAAAAAAAAAAAAAAAAAAAAAAAAAAAAAAAAAAAAAAAAAAAAAAAAAAAAAAAAAAAAAAAAAAAAAAAAAAAAAAAAAAAAAAAAAAAAAAAAAAAAAAAAAAAAAAAAAAAAAAAAAAAAAAAAAAAAAAAAAAAAAAAAAAAAAAAAAAAAAAAAAAAAAAAAAAAAAAAAAAAAAAAAAAAAAAAAAAAAAAAAAAAAAAAAAAAAAAAAAAAAAAAAAAAAAAAAAAAAAAAAAAAAAAAAAAAAAAAAAAAAAAAAAAAAAAAAAAAAAAAAAAAAAAAAAAAAAAAAAAAAAAAAAAAAAAAAAAAAAAAAAAAAAAAAAAAAAAAAAAAAAAAAAAAAAAAAAAAAAAAAAAAAAAAAAAAAAAAAAAAAAAAAAAAAAAAAAAAAAAAAAAAAAAAAAAAAAAAAAAAAAAAAAAAAAAAAAAAAAAAAAAAAAAAAAAAAAAAAAAAAAAAAAAAAAAAAAAAAAAAAAAAAAAAAAAAAAAAAAAAAAAAAAAAAAAAAAAAAAAAAAAAAAAAAAAAAAAAAAAAAAAAAAAAAAAAAAAAAAAAAAAAAAAAAAAAAAAAAAAAAAAAAAAAAAAAAAAAAAAAAAAAAAAAAAAAAAAAAAAAAAAAAAAAAAAAAAAAAAAAAAAAAAAAAAAAAAAAAAAAAAAAAAAAAAAAAAAAAAAAAAAAAAAAAAAAAAAAAAAAAAAAAAAAAAAAAAAAAAAAAAAAAAAAAAAAAAAAAAAAAAAAAAAAAAAAAAAAAAAAAAAAAAAAAAAAAAAAAAAAAAAAAAAAAAAAAAAAAAAAAAAAAAAAAAAAAAAAAAAAAAAAAAAAAAAAAAAAAAAAAAAAAAAAAAAAAAAAAAAAAAAAAAAAAAAAAAAAAAAAAAAAAAAAAAAAAAAAAAAAAAAAAAAAAAAAAAAAAAAAAAAAAAAAAAAAAAAAAAAAAAAAAAAAAAAAAAAAAAAAAAAAAAAAAAAAAAAAAAAAAAAAAAAAAAAAAAAAAAAAAAAAAAAAAAAAAAAAAAAAAAAAAAAAAAAAAAAAAAAAAAAAAAAAAAAAAAAAAAAAAAAAAAAAAAAAAAAAAAAAAAAAAAAAAAAAAAAAAAAAAAAAAAAAAAAAAAAAAAAAAAAAAAAAAAAAAAAAAAAAAAAAAAAAAAAAAAAAAAAAAAAAAAAAAAAAAAAAAAAAAAAAAAAAAAAAAAAAAAAAAAAAAAAAAAAAAAAAAAAAAAAAAAAAAAAAAAAAAAAAAAAAAAAAAAAAAAAAAAAAAAAAAAAAAAAAAAAAAAAAAAAAAAAAAAAAAAAAAAAAAAAAAAAAAAAAAAAAAAAAAAAAAAAAAAAAAAAAAAAAAAAAAAAAAAAAAAAAAAAAAAAAAAAAAAAAAAAAAAAAAAAAAAAAAAAAAAAAAAAAAAAAAAAAAAAAAAAAAAAAAAAAAAAAAAAAAAAAAAAAAAAAAAAAAAAAAAAAAAAAAAAAAAAAAAAAAAAAAAAAAAAAAAAAAAAAAAAAAAAAAAAAAAAAAAAAAAAAAAAAAAAAAAAAAAAAAAAAAAAAAAAAAAAAAAAAAAAAAAAAAAAAAAAAAAAAAAAAAAAAAAAAAAAAAAAAAAAAAAAAAAAAAAAAAAAAAAAAAAAAAAAAAAAAAAAAAAAAAAAAAAAAAAAAAAAAAAAAAAAAAAAAAAAAAAAAAAAAAAAAAAAAAAAAAAAAAAAAAAAAAAAAAAAAAAAAAAAAAAAAAAAAAAAAAAAAAAAAAAAAAAAAAAAAAAAAAAAAAAAAAAAAAAAAAAAAAAAAAAAAAAAAAAAAAAAAAAAAAAAAAAAAAAAAAAAAAAAAAAAAAAAAAAAAAAAAAAAAAAAAAAAAAAAAAAAAAAAAAAAAAAAAAAAAAAAAAAAAAAAAAAAAAAAAAAAAAAAAAAAAAAAAAAAAAAAAAAAAAAAAAAAAAAAAAAAAAAAAAAAAAAAAAAAAAAAAAAAAAAAAAAAAAAAAAAAAAAAAAAAAAAAAAAAAAAAAAAAAAAAAAAAAAAAAAAAAAAAAAAAAAAAAAAAAAAAAAAAAAAAAAAAAAAAAAAAAAAAAAAAAAAAAAAAAAAAAAAAAAAAAAAAAAAAAAAAAAAAAAAAAAAAAAAAAAAAAAAAAAAAAAAAAAAAAAAAAAAAAAAAAAAAAAAAAAAAAAAAAAAAAAAAAAAAAAAAAAAAAAAAAAAAAAAAAAAAAAAAAAAAAAAAAAAAAAAAAAAAAAAAAAAAAAAAAAAAAAAAAAAAAAAAAAAAAAAAAAAAAAAAAAAAAAAAAAAAAAAAAAAAAAAAAAAAAAAAAAAAAAAAAAAAAAAAAAAAAAAAAAAAAAAAAAAAAAAAAAAAAAAAAAAAAAAAAAAAAAAAAAAAAAAAAAAAAAAAAAAAAAAAAAAAAAAAAAAAAAAAAAAAAAAAAAAAAAAAAAAAAAAAAAAAAAAAAAAAAAAAAAAAAAAAAAAAAAAAAAAAAAAAAAAAAAAAAAAAAAAAAAAAAAAAAAAAAAAAAAAAAAAAAAAAAAAAAAAAAAAAAAAAAAAAAAAAAAAAAAAAAAAAAAAAAAAAAAAAAAAAAAAAAAAAAAAAAAAAAAAAAAAAAAAAAAAAAAAAAAAAAAAAAAAAAAAAAAAAAAAAAAAAAAAAAAAAAAAAAAAAAAAAAAAAAAAAAAAAAAAAAAAAAAAAAAAAAAAAAAAAAAAAAAAAAAAAAAAAAAAAAAAAAAAAAAAAAAAAAACA2bl3G9UVMAqjlEEVVEETNOEeqIEaKIEOXIEbICd2RsDRjzSjs88F87IZ5motaSeADUZ2+gEAAAAAAAAAAAAAAAAAAAAAAAAAAAAAAAAAAAAAAAAAAAAAAAAAAAAAAAAAAAAAAAAAAAAAAAAAAAAAAAAAAAAAAAAAAAAAAAAAAAAAAAAAAAAAAAAAAAAAAAAAAAAAAAAAAAAAAAAAAAAAAAAAAAAAAAAAAAAAAAAAAAAAAAAAAAAAAAAAAAAAAAAAAAAAAAAAAAAAAAAAAAAAAAAAAAAAAAAAAAAAAAAAAAAAAAAAAAAAAAAAAAAAAAAAAAAAAAAAAAAAAAAAAAAAAAAAAAAAAAAAAAAAAAAAAAAAAAAAAAAAAAAAAAAAAAAAAAAAAAAAAAAAAAAAAAAAAAAAAAAAAAAAAAAAAAAAAAAAAAAAAAAAAAAAAAAAAAAAAAAAAAAAAAAAAAAAAAAAAAAAAAAAAAAAAAAAAAAAAAAAAAAAAAAAAAAAAAAAAAAAAAAAAAAAAAAAAAAAAAAAAAAAAAAAAAAAAAAAAAAAAAAAAAAAAAAAAAAAAAAAAAAAAAAAAAAAAAAAAAAAAAAAAAAAAAAAAAAAAAAAAAAAAAAAAAAAAAAAAAAAAAAAAAAAAAAAAAAAAAAAAAAAAAAAAAAAAAAAAAAAAAAAAAAAAAAAAAAAAAAAAAAAAAAAAAAAAAAAAAAAAAAAAAAAAAAAAAAAAAAAAAAAAAAAAAAAAAAAAAAAAAAAAAAAAAAAAAAAAAAAAAAAAAAAAAAAAAAAAAAAAAAAAAAAAAAAAK84mZnZ2wYAAAAAAAAAAAAAAAAAAAAAAPArCEeZmQnVAQAAAAAAAAAAAAAAAAAAAAAABOEoMzOhOgAAAAAAAAAAAAAAAAAAAAAAgCAcZWYmVAcAAAAAAAAAAAAAAAAAAAAAABCEo8zMhOoAAAAAAAAAAAAAAAAAAAAAAACCcJSZmVAdAAAAAAAAAAAAAAAAAAAAAABAEI4yMxOqAwAAAAAAAAAAAAAAAAAAAAAACMJRZmZCdQAAAAAAAAAAAAAAAAAAAAAAAEE4ysxMqA4AAAAAAAAAAAAAAAAAAAAAACAIR5mZCdUBAAAAAAAAAAAAAAAAAAAAAAAE4SgzM6E6AAAAAAAAAAAAAAAAAAAAAACA8FBkCYA0E6oDAAAAAAAAAAAAAAAAAAAAAAD+h4TqAITqAAAAAAAAAAAAAAAAAAAAAAAAglAdgFAdAAAAAAAAAAAAAAAAAAAAAABAEKoDEKoDAAAAAAAAAAAAAAAAAAAAAAAIQnUAQnUAAAAAAAAAAAAAAAAAAAAAAABBqA5AqA4AAAAAAAAAAAAAAAAAAAAAACAI1QEI1QEAAAAAAAAAAAAAAAAAAAAAAAShOgChOgAAAAAAAAAAAAAAAAAAAAAAgCBUByBUBwAAAAAAAAAAAAAAAAAAAAAAEITqAITqAAAAAAAAAAAAAAAAAAAAAAAAglAdgFAdAAAAAAAAAAAAAAAAAAAAAABAEKoDEKoDAAAAAAAAAAAAAAAAAAAAAAAIQnUAQnUAAAAAAAAAAAAAAAAAAAAAAABBqA5AqA4AAAAAAAAAAAAAAAAAAAAAACAI1QEI1QEAAAAAAAAAAAAAAAAAAAAAAAShOgChOgAAAAAAAAAAAAAAAAAAAAAAgCBUByBUBwAAAAAAAAAAAAAAAAAAAAAAEITqAITqAAAAAAAAAAAAAAAAAAAAAAAAglAdgFAdAAAAAAAAAAAAAAAAAAAAAABAEKoDEKoDAAAAAAAAAAAAAAAAAAAAAAAIQnUAQnUAAAAAAAAAAAAAAAAAAAAAAABBqA5AqA4AAAAAAAAAAAAAAAAAAAAAACAI1QEI1QEAAAAAAAAAAAAAAAAAAAAAAAShOgChOgAAAAAAAAAAAAAAAAAAAAAAgCBUByBUBwAAAAAAAAAAAAAAAAAAAAAAEITqAITqAAAAAAAAAAAAAAAAAAAAAAAAglAdgFAdAAAAAAAAAAAAAAAAAAAAAABAEKoDEKoDAAAAAAAAAAAAAAAAAAAAAAAIQnUAQnUAAAAAAAAAAAAAAAAAAAAAAABBqA5AqA4AAAAAAAAAAAAAAAAAAAAAACAI1QEI1QEAAAAAAAAAAAAAAAAAAAAAAAShOgChOgAAAAAAAAAAAAAAAAAAAAAAgCBUByBUBwAAAAAAAAAAAAAAAAAAAAAAEITqAITqAAAAAAAAAAAAAAAAAAAAAAAAglAdgFAdAAAAAAAAAAAAAAAAAAAAAABAEKoDEKoDAAAAAAAAAAAAAAAAAAAAAAAIQnUAQnUAAAAAAAAAAAAAAAAAAAAAAABBqA5AqA4AAAAAAAAAAAAAAAAAAAAAACAI1QEI1QEAAAAAAAAAAAAAAAAAAAAAAAShOgChOgAAAAAAAAAAAAAAAAAAAAAAgCBUByBUBwAAAAAAAAAAAAAAAAAAAAAAEITqAITqAAAAAAAAAAAAAAAAAAAAAAAAglAdgFAdAAAAAAAAAAAAAAAAAAAAAABAEKoDEKoDAAAAAAAAAAAAAAAAAAAAAAAIQnUAQnUAAAAAAAAAAAAAAAAAAAAAAABBqA5AqA4AAAAAAAAAAAAAAAAAAAAAACAI1QEI1QEAAAAAAAAAAAAAAAAAAAAAAAShOgChOgAAAAAAAAAAAAAAAAAAAAAAgCBUByBUBwAAAAAAAAAAAAAAAAAAAAAAEITqAITqAAAAAAAAAAAAAAAAAAAAAAAAglAdgFAdAAAAAAAAAAAAAAAAAAAAAABAEKoDEKoDAAAAAAAAAAAAAAAAAAAAAAAIQnUAQnUAAAAAAAAAAAAAAAAAAAAAAABBqA5AqA4AAAAAAAAAAAAAAAAAAAAAACAI1QEI1QEAAAAAAAAAAAAAAAAAAAAAAAShOgChOgAAAAAAAAAAAAAAAAAAAAAAgCBUByBUBwAAAAAAAAAAAAAAAAAAAAAAEITqAITqAAAAAAAAAAAAAAAAAAAAAAAAglAdgFAdAAAAAAAAAAAAAAAAAAAAAABAEKoDEKoDAAAAAAAAAAAAAAAAAAAAAAAIQnUAQnUAAAAAAAAAAAAAAAAAAAAAAABBqA5AqA4AAAAAAAAAAAAAAAAAAAAAACAI1QEI1QEAAAAAAAAAAAAAAAAAAAAAAAShOgChOgAAAAAAAAAAAAAAAAAAAAAAgCBUByBUBwAAAAAAAAAAAAAAAAAAAAAAEITqAITqAAAAAAAAAAAAAAAAAAAAAAAAglAdgFAdAAAAAAAAAAAAAAAAAAAAAABAEKoDEKoDAAAAAAAAAAAAAAAAAAAAAAAIQnUAQnUAAAAAAAAAAAAAAAAAAAAAAABBqA5AqA4AAAAAAAAAAAAAAAAAAAAAACAI1QEI1QEAAAAAAAAAAAAAAAAAAAAAAAShOgChOgAAAAAAAAAAAAAAAAAAAAAAgCBUByBUBwAAAAAAAAAAAAAAAAAAAAAAEITqAITqAAAAAAAAAAAAAAAAAAAAAAAAglAdgFAdAAAAAAAAAAAAAAAAAAAAAABAEKoDEKoDAAAAAAAAAAAAAAAAAAAAAAAIQnUAQnUAAAAAAAAAAAAAAAAAAAAAAABBqA5AqA4AAAAAAAAAAAAAAAAAAAAAACAI1QEI1QEAAAAAAAAAAAAAAAAAAAAAAAShOgChOgAAAAAAAAAAAAAAAAAAAAAAgCBUByBUBwAAAAAAAAAAAAAAAAAAAAAAEITqAITqAAAAAAAAAAAAAAAAAAAAAAAAglAdgFAdAAAAAAAAAAAAAAAAAAAAAABAEKoDEKoDAAAAAAAAAAAAAAAAAAAAAAAIQnUAQnUAAAAAAAAAAAAAAAAAAAAAAABBqA5AqA4AAAAAAAAAAAAAAAAAAAAAACAI1QEI1QEAAAAAAAAAAAAAAAAAAAAAAAShOgChOgAAAAAAAAAAAAAAAAAAAAAAgCBUByBUBwAAAAAAAAAAAAAAAAAAAAAAEITqAITqAAAAAAAAAAAAAAAAAAAAAAAAglAdgFAdAAAAAAAAAAAAAAAAAAAAAABAEKoDEKoDAAAAAAAAAAAAAAAAAAAAAAAIQnUAQnUAAAAAAAAAAAAAAAAAAAAAAABBqA5AqA4AAAAAAAAAAAAAAAAAAAAAACAI1QEI1QEAAAAAAAAAAAAAAAAAAAAAAAShOgChOgAAAAAAAAAAAAAAAAAAAAAAgCBUByBUBwAAAAAAAAAAAAAAAAAAAAAAEITqAITqAAAAAAAAAAAAAAAAAAAAAAAAglAdgFAdAAAAAAAAAAAAAAAAAAAAAABAEKoDEKoDAAAAAAAAAAAAAAAAAAAAAAAIQnUAQnUAAAAAAAAAAAAAAAAAAAAAAABBqA5AqA4AAAAAAAAAAAAAAAAAAAAAACAI1cF0UTIzM3t+AAAAAAAAAAAAAAAAAAAAAAD8IKE6EKozMxOqAwAAAAAAAAAAAAAAAAAAAAAgCNWBUJ2ZmVAdAAAAAAAAAAAAAAAAAAAAAABBqA6E6szMhOoAAAAAAAAAAAAAAAAAAAAAAAhCdSBUZ2YmVAcAAAAAAAAAAAAAAAAAAAAAQBCqA6E6MzOhOgAAAAAAAAAAAAAAAAAAAAAAglAdCNWZmQnVAQAAAAAAAAAAAAAAAAAAAAAQhOpAqM7MTKgOAAAAAAAAAAAAAAAAAAAAAIAgVAdCdWZmQnUAAAAAAAAAAAAAAAAAAAAAAAShOhCqMzMTqgMAAAAAAAAAAAAAAAAAAAAAIAjVgVCdmZlQHQAAAAAAAAAAAAAAAAAAAAAAQagOJgrVAfBS7BMAAAAAAAAAAAAAAAAAAAAAgB8kvAVCdQBCdQAAAAAAAAAAAAAAAAAAAAAABOEtEKoDEKoDAAAAAAAAAAAAAAAAAAAAACAIb4FQHYBQHQAAAAAAAAAAAAAAAAAAAAAAQXgLhOoAhOoAAAAAAAAAAAAAAAAAAAAAAAjCWyBUByBUBwAAAAAAAAAAAAAAAAAAAABAEN4CoToAoToAAAAAAAAAAAAAAAAAAAAAAILwFgjVAQjVAQAAAAAAAAAAAAAAAAAAAAAQhLdAqA5AqA4AAAAAAAAAAAAAAAAAAAAAgCC8BUJ1AEJ1AAAAAAAAAAAAAAAAAAAAAAAE4S0QqgMQqgMAAAAAAAAAAAAAAAAAAAAAIAhvgVAdgFAdAAAAAAAAAAAAAAAAAAAAAABBeAuE6gCE6gAAAAAAAAAAAAAAAAAAAAAACMJbIFQHIFQHAAAAAAAAAAAAAAAAAAAAAEAQ3gKhOgChOgAAAAAAAAAAAAAAAAAAAAAAgvAWCNUBCNUBAAAAAAAAAAAAAAAAAAAAABCEt0CoDkCoDgAAAAAAAAAAAAAAAAAAAACAILwFQnUAQnUAAAAAAAAAAAAAAAAAAAAAAAThLRCqAxCqAwAAAAAAAAAAAAAAAAAAAAAgCG+BUB2AUB0AAAAAAAAAAAAAAAAAAAAAAEF4C4TqAITqAAAAAAAAAAAAAAAAAAAAAAAIwlsgVAcgVAcAAAAAAAAAAAAAAAAAAAAAQBDeAqE6AKE6AAAAAAAAAAAAAAAAAAAAAACC8BYI1QEI1QEAAAAAAAAAAAAAAAAAAAAAEIS3QKgOQKgOAAAAAAAAAAAAAAAAAAAAAIAgvAVCdQBCdQAAAAAAAAAAAAAAAAAAAAAABOEtEKoDEKoDAAAAAAAAAAAAAAAAAAAAACAIb4FQHYBQHQAAAAAAAAAAAAAAAAAAAAAAQXgLhOoAhOoAAAAAAAAAAAAAAAAAAAAAAAjCWyBUByBUBwAAAAAAAAAAAAAAAAAAAABAEN4CoToAoToAAAAAAAAAAAAAAAAAAAAAAILwFgjVAQjVAQAAAAAAAAAAAAAAAAAAAAAQhLdAqA5AqA4AAAAAAAAAAAAAAAAAAAAAgCC8BUJ1AEJ1AAAAAAAAAAAAAAAAAAAAAAAE4S0QqgMQqgMAAAAAAAAAAAAAAAAAAAAAIAhvgVAdTOpwOJy22+33VqvV99br9fm1rutOx+PxrvNtNps4x7+79zwI1QEAAAAAAAAAAAAAAAAAAAAAcJ3wFgjVwagqFLfb7U5N05zm8/lDz01F6IZCc33fDx5f4TuE6gAAAAAAAAAAAAAAAAAAAAAAeJ3wFgjVwWiBuu12OxinWywW55hcfa5Cdpc+U8fX+5fU60PPXYXsEKoDAAAAAAAAAAAAAAAAAAAAAOB1wlsgVAcv22w2g89Dxefatr14bL1+6Zg6578qdHftOyqAh1AdAAAAAAAAAAAAAAAAAAAAAADjEN4CoTomdC3CNvsr4HY4HH7t9R2Px9NyuRy8xgrI1eeeCd3t9/vvz3RdN/g9fd+74YTqAAAAAAAAAAAAAAAAAAAAAAAYifAWCNUxkQrQ3XOvVOjtt15fhfZmNyJ19wbvLp2rXvuK3DVN8/L3IFQHAAAAAAAAAAAAAAAAAAAAAMB9hLdAqI4J9H1/M+L29zabza+6vmthudkL8bj6Dy6dZ7/fn//Poe+q9xGqAwAAAAAAAAAAAAAAAAAAAABgPMJbIFTHBBG35XL5aJTr1HXdr7nGitANXUvTNA+fc7fbXTzXdrs9bzZSEA+hOgAAAAAAAAAAAAAAAAAAAAAAbhPeAqE63hxxu7b5fH6O3H26/X4/eB0V6XvmOq6dt6J3i8Xi6vf1fe+mE6oDAAAAAAAAAAAAAAAAAAAAAGBkwlsgVMeIttvtU5G6r61Wq4+/xgrRDV3D4XB46rwVt3v0/6ooIEJ1AAAAAAAAAAAAAAAAAAAAAACMT3gLhOoYSdd1L0Xqvlaxu0/Vtu2kv/3R/6rvezeeUB0AAAAAAAAAAAAAAAAAAAAAABMQ3gKhOkZwOBxO8/n85n1xz2dqdb5PtFgsrv7meu94PL7tGVuv1248oToAAAAAAAAAAAAAAAAAAAAAACYivAVCdbyo4mxDAbfZX5G6CtC1bXvzs2NE38Z263d3XffWZ6zvezefUB0AAAAAAAAAAAAAAAAAAAAAABMR3gKhOl60Wq1u3g/L5fIcqftSUbcK1w0d0zTNR13nUIyvru+dz9h6vXbjCdUBAAAAAAAAAAAAAAAAAAAAADAh4S0QquMFFUyb3RGpOx6P/zm2wnW3YnVt237EdVZY7x2/897nq+97N59QHQAAAAAAAAAAAAAAAAAAAAAAExLeAqE6nlRxtlv3QYXsLkXqvlRwrUJ2146vkF0F7X7aarUa/I3vfMbqP0WoDgAAAAAAAAAAAAAAAAAAAACAaQlvgVAdT6h43GykoFqF7IZidfXeT6qY3tB1bjabtz5j9XsQqgMA+MPO3Rw3qgRqGCYMougoSIIkyIEYiIEQlAERKAH2rNmx0L3tur417SNktYTQj5+n6qtzasZGeMC9fAEAAAAAAAAAAAAAAAAAAHgs4S0QquOGcFtZlhef/zAM2deNYbtihxhcrvizFDuF44qN4n8I1QEAAAAAAAAAAAAAAAAAAAAAcB/hLRCqI8OyLKeqqlafewzY3RKp+xaDdGvXPh6PT/mZm6ZZvacQwq6/Y1tG8RCqAwAAAAAAAAAAAAAAAAAAAABgnfAWCNWRoW3bi5G6aZru/owYulu7fgzl7R3mu/Sex3+PvX7Htv4shOoAAAAAAAAAAAAAAAAAAAAAAFgnvAVCdVyp7/vV511V1SaRum/H4/ErTPfzc+q63vVnXovmfS/+/V6/Y/M8ewmF6gAAAAAAAAAAAAAAAAAAAAAA2InwFgjVcWU4rrgQqVuWZfPPjOG7c7G6GMx7hThfsXE87tJntW3rJRSqAwAAAAAAAAAAAAAAAAAAAABgR8JbIFTHjcG44v8Cao+I1H2LIbgYwvv5ufGe9tA0zS7v+TAMuwXxEKoDAAAAAAAAAAAAAAAAAAAAAOB3wlsgVMcFMUIXQliN1O11Dz9jdfGeHhnI+1bX9eo7HuN9W8X41kKAfp+E6gAAAAAAAAAAAAAAAAAAAAAAeA7hLRCq44Kmac4+32EYdr+XGMYrdg7lXQrIxYjdo2N4fp+E6gAAAAAAAAAAAAAAAAAAAAAAeA7hLRCqg5ve+S1CdYfDwe+T90moDgAAAAAAAAAAAAAAAAAAAADgBQlvgVAdPCVUtyzLqSzLu3+fxnH0oITqAAAAAAAAAAAAAAAAAAAAAADYmPAWCNXBU0J1TdPc/fsUI3V933tQQnUAAAAAAAAAAAAAAAAAAAAAAGxMeAuE6mBVVVUPCdUdj8dNfp/atj0dDgcPSqgOAAAAAAAAAAAAAAAAAAAAAICNCW+BUB2sijG6tXc8hHDTNZdlOZVleffvU7xO/Lv4X4TqAAAAAAAAAAAAAAAAAAAAAADYlvAWCNXBqr7vN3/Pm6Y5e61L8bpzMbqu676uhVAdAAAAAAAAAAAAAAAAAAAAAADbE94CoTpYNY7jxfd8mqas6w3DsBqpi9cKIZz9++PxmFwnfu25P0eoDgAAAAAAAAAAAAAAAAAAAACAbQhvgVAdXFTX9ep73nXd1deJcbkYpCtWInWXPqvv++Q6VVV9Re0QqgMAAAAAAAAAAAAAAAAAAAAA4DGEt0CoDi4ax3H1PY/BuGssy/L1tcWFSF0Uw3fnPid+XbyPf/9+GAYPR6gOAAAAAAAAAAAAAAAAAAAAAIAHEd4CoTr4VV3Xq+96DMj95lykLv5ZDNj9a57nq36/QggeilAdAAAAAAAAAAAAAAAAAAAAAAAPJLwFQnXwq2maTmVZrkbjfgbnvsU/b9v2P98T/2xN13UXf7fifcT7QagOAAAAAAAAAAAAAAAAAAAAAIDHEd4Cobo/aRzH3GjW5nvle46flROrOxeei19fVdV/InPDMPz6s56L2xUidUJ1AAAAAAAAAAAAAAAAAAAAAADsRngLhOqE6oTqrgrVfcfnQgirEbmu675CdDE092/ULv5/3/enZVmu/nkPh8OpaZqv743Bu3htkTqhOgAAAAAAAAAAAAAAAAAAAAAA9iG8BUJ1f1aMnsV4WoygFTvE375ja8fjMSvY9vOe4zXWYnFb3GMMzV0S772u66uud0ugDmdoIVQHAAAAAAAAAAAAAAAAAAAAAPB0wlsgVMf/muf5K6hWbBx+a5rmK/z2iFDbOI6ntm03uc8YnovXu+XfLP6M8ftj5C7+Ny7+ee71cIYWQnUAAAAAAAAAAAAAAAAAAAAAAC9DeAuE6vgRX4uhteLO8FuMtj0iTnfONE2nsixvus/4fTGkB0J1AAAAAAAAAAAAAAAAAAAAAAD8S3gLhOo4I8bbihsjdSGE3SJ1/8bqihtievH7QKgOAAAAAAAAAAAAAAAAAAAAAICfhLdAqI4VXdfdFKqr6/rl38+2bXeP6UEhVAcAAAAAAAAAAAAAAAAAAAAA8DaEt0CojgtidC73rIyBu1e+1xipA6E6AAAAAAAAAAAAAAAAAAAAAAAuEd4CoToumKYpO1QXQtj9PpdlEalDqA4AAAAAAAAAAAAAAAAAAAAAgM0Ib4FQHb+oqio7VjfP86732HXdr/cUfw4QqgMAAAAAAAAAAAAAAAAAAAAA4BrCWyBUxy+GYcgO1R0Oh93ubxzHqyJ1y7J4mAjVAQAAAAAAAAAAAAAAAAAAAABwFeEtEKrjCmVZZj3/GIbbQ4zPxc+6dC/x3qdp8hARqgMAAAAAAAAAAAAAAAAAAAAA4GrCWyBUxxW6rsuNbH1F5J4dqYsbx9EDRKgOAAAAAAAAAAAAAAAAAAAAAIAswlsgVMcV5nnODtU9OhB3TaSu73sPD6E6AAAAAAAAAAAAAAAAAAAAAACyCW+BUB1Xapom6x04Ho8Pu5e2bX/9/LquPTSE6gAAAAAAAAAAAAAAAAAAAAAAuInwFgjVcaUYnst5B2JM7lmRuqqqTsuyeGgI1QEAAAAAAAAAAAAAAAAAAAAAcBPhLRCqI0MIIes9mOd508/v+16kDqE6AAAAAAAAAAAAAAAAAAAAAAAeTngLhOrYOBT377qu2+yzh2EQqUOoDgAAAAAAAAAAAAAAAAAAAACAXQhvgVAdGWIELuc9KMtyk3CcSB1CdQAAAAAAAAAAAAAAAAAAAAAA7El4C4TqyNS2bda7cDgc7vq8aZpE6hCqAwAAAAAAAAAAAAAAAAAAAABgV8JbIFRHpnEcs96FEMJdkbqyLEXqEKoDAAAAAAAAAAAAAAAAAAAAAGBXwlsgVMcNYnwu530YhkGkDmeoUB0AAAAAAAAAAAAAAAAAAAAAwNsQ3gKhOm4Qw3M570Nd11nXj/G5GKErROoQqgMAAAAAAAAAAAAAAAAAAAAA4AmEt0CojhvEQFxZllnvxDiOInU4Q4XqAAAAAAAAAAAAAAAAAAAAAADegvAWCNVxo7Zts96J+PXXEKnDGSpUBwAAAAAAAAAAAAAAAAAAAADwbMJbIFTHjaZpyg1vneZ5vit+J1KHUB0AAAAAAAAAAAAAAAAAAAAAAHsQ3gKhOu5Q13XWe9F1nUgdzlChOgAAAAAAAAAAAAAAAAAAAACAlye8BUJ13GEYhqz3oizLs7G5vu9F6nCGCtUBAAAAAAAAAAAAAAAAAAAAALwM4S0QquNOMT6X824cDoes2J1IHUJ1AAAAAAAAAAAAAAAAAAAAAADsTXgLhOq4U9d1We9GCEGkDmeoUB0AAAAAAAAAAAAAAAAAAAAAwEs7mdljxt8xz3P2+xEDddM0PSRS5/fPzGzXAQAAAAAAAAAAAAAAAAAAAMBHEhcxE6pjA03TZL0fMUJXluXmkTqhOjMzoToAAAAAAAAAAAAAAAAAAAAA2IK4iJlQHRs4Ho+bvTv3ROqE6szMhOoAAAAAAAAAAAAAAAAAAAAAYAviImZCdWwkhPD0SJ1QnZmZUB0AAAAAAAAAAAAAAAAAAAAAbEFcxEyojo30ff/0SJ1QnZmZUB0AAAAAAAAAAAAAAAAAAAAAbEFcxEyojo3EyFzx5EidUJ2ZmVAdAAAAAAAAAAAAAAAAAAAAAGxBXMRMqI4NtW371EidUJ2ZmVAdAAAAAAAAAAAAAAAAAAAAAGxBXMRMqI4NjeOY9Z6UZblppE6ozsxMqA4AAAAAAAAAAAAAAAAAAAAAtiAuYiZUx8ZCCFnvyjRNQnVmZkJ1AAAAAAAAAAAAAAAAAAAAAPBSxEXMhOrY2DAMWe9K27ZCdWZmQnUAAAAAAAAAAAAAAAAAAAAA8FLERcyE6tjYsiynsiyz3pf4PUJ1ZmZCdQAAAAAAAAAAAAAAAAAAAAAAvCehOq7Stm1W6OhwODwtVAfAXecoAAAAAAAAAAAAAAAAAAAAAACIf3GdaZqyQkchBKE6AKE6AAAAAAAAAAAAAAAAAAAAAADelPgXVxmGITsYN46jUB2AUB0AAAAAAAAAAAAAAAAAAAAAAG9I/IuHROrimqYRqgMQqgMAAAAAAAAAAAAAAAAAAAAA4A2Jf/GQSN335nkWqgMQqgMAAAAAAAAAAAAAAAAAAAAA4M2If/GwSF1c3/dCdQBCdQAAAAAAAAAAAAAAAAAAAAAAvBnxLx4WqYsLIQjVAQjVAQAAAAAAAAAAAAAAAAAAAADwZsS/eFik7nvxekJ1AEJ1AAAAAAAAAAAAAAAAAAAAAAC8D/EvsiJ1bdue6rrOih7FrxeqAxCqAwAAAAAAAAAAAAAAAAAAAADgfYh/cXWkrqqqq77u3OZ5FqoDEKoDAAAAAAAAAAAAAAAAAAAAAOBNiH9xdaRuWZb///qyLLPCR13XCdUBCNUBAAAAAAAAAAAAAAAAAAAAAPAmxL/IjtRFMTyX8/7EsN3PawjVAQjVAQAAAAAAAAAAAAAAAAAAAADwmsS/ROp+DcxN0/Sf75vnOTsgFz9LqA5AqA4AAAAAAAAAAAAAAAAAAAAAgNcn/iVSlx2p+1bXdVb8qKoqoToAoToAAAAAAAAAAAAAAAAAAAAAAN6A+NcfFQN0MUR36ZlfitRdE7q75ZpCdQBCdQAAAAAAAAAAAAAAAAAAAAAAPJ/41x+0LMsphHDxeccI3TV+i939XNu2QnUAQnUAAAAAAAAAAAAAAAAAAAAAALw48a8/qKqqTSJ1Udd12SG5GMoTqgMQqgMAAAAAAAAAAAAAAAAAAAAA4HWJf/0xbdtefM5932ddb57n7JDc4XAQqgMQqgMAAAAAAAAAAAAAAAAAAAAA4IWJf/0hMRB36RnHiN0t6rrOiiCFEITqAITqAAAAAAAAAAAAAAAAAAAAAAB4YeJff8TxeHxIpC4ahiE7JjeOo1AdgFAdAAAAAAAAAAAAAAAAAAAAAAAvSvzrD5im6VSW5eqzrarq7s+4dP1za5pGqA5AqA4AAAAAAAAAAAAAAAAAAAAAgBcl/vXhlmU5hRAuRuri19yr67rsoNw8z0J1AEJ1AAAAAAAAAAAAAAAAAAAAAAC8IPGvDxdDdMWDI3VRjM4VmUG5vu+F6gCE6gAAAAAAAAAAAAAAAAAAAAAAeEHiXx+sbdvV51mW5Wmapk0/r67rrBhSCEGoDkCoDgAAAAAAAAAAAAAAAAAAAACAFyT+9aEOh8OukbpoGIbsqFz8HqE6AKE6AAAAAAAAAAAAAAAAAAAAAABei/jXB/otGPeISN23GMHLea/quhaqAxCqAwAAAAAAAAAAAAAAAAAAAADgxYh/fZgYobv0HGPE7pG6rssOy83zLFQHIFQHAAAAAAAAAAAAAAAAAAAAAMALEf/6sEhdWZZPi9RFMTpXZIblYtxOqA5AqA4AAAAAAAAAAAAAAAAAAAAAgNch/vUhlmU5hRBWn1/f97vdS9M0WVGkGNeL9y9UByBUBwAAAAAAAAAAAAAAAAAAAADAaxD/+pBIXVVVq8+ubdtd7+d4PGbH5S6F9AqhOgChOgAAAAAAAAAAAAAAAAAAAAAAdiX+JVL3kHsqMuNyZVl+fZ9QHYBQHQAAAAAAAAAAAAAAAAAAAAAAzyf+9cGRuhDC0+6truvswNxaVK8QqgMQqgMAAAAAAAAAAAAAAAAAAAAAYFfiXx8aqYs7HA5vFaqLG8dRqA5AqA4AAAAAAAAAAAAAAAAAAAAAgCcT//rQSF1Zll9f926hunP3XQjVAQjVAQAAAAAAAAAAAAAAAAAAAACwK/GvNzNN0ymEcFPwbU+/hfQuLX7vv/deCNUBCNUBAAAAAAAAAAAAAAAAAAAAALAr8a83MgzDV4Du2mfWNM1pnuen3GdxY6SuOBOrK4TqAITqAAAAAAAAAAAAAAAAAAAAAADYlfjXGxjH8VTX9U3Btxi267ruNE3TLvfZtu3dkbp/7/2W6wEgVAcAAAAAAAAAAAAAAAAAAAAAwH3Ev17QPM9fcblb43TFhfBbvGa8dt/3X1uWJfv+vr/3e/Ga8dpb3us9A0CoDgAAAAAAAAAAAAAAAAAAAACA+4h/vaBxHHeLusXPenDwSKgOQKgOAAAAAAAAAAAAAAAAAAAAAIA3I/71gqZpOtV1vcviZ+Xa696+VwjVAQjVAQAAAAAAAAAAAAAAAAAAAACwK/EvPi2w5B8MQKgOAAAAAAAAAAAAAAAAAAAAAIA7iX8hVAfgHBWqAwAAAAAAAAAAAAAAAAAAAAAgIf6FUB2Ac1SoDgAAAAAAAAAAAAAAAAAAAACAhPgXQnUAzlGhOgAAAAAAAAAAAAAAAAAAAAAAEuJfCNUBOEeF6gAAAAAAAAAAAAAAAAAAAAAASIh/IVQH4BwVqgMAAAAAAAAAAAAAAAAAAAAAICH+hVAdgHNUqA4AAAAAAAAAAAAAAAAAAAAAgIT4F0J1AM5RoToAAAAAAAAAAAAAAAAAAAAAABLiXwjVAThHheoAAAAAAAAAAAAAAAAAAAAAAEiIfyFUB+AcFaoDAAAAAAAAAAAAAAAAAAAAACAh/oVQHYBzVKgOAAAAAAAAAAAAAAAAAAAAAICE+BdCdQDOUaE6AAAAAAAAAAAAAAAAAAAAAAAS4l8I1QE4R4XqAAAAAAAAAAAAAAAAAAAAAABIiH8hVAfgHBWqAwAAAAAAAAAAAAAAAAAAAAAgIf6FUB2Ac1SoDgAAAAAAAAAAAAAAAAAAAACAhPgXQnUAzlGhOgAAAAAAAAAAAAAAAAAAAAAAEuJfCNUBOEeF6gAAAAAAAAAAAAAAAAAAAAAASIh/IVQH4BwVqgMAAAAAAAAAAAAAAAAAAAAAICH+hVAdgHNUqA4AAAAAAAAAAAAAAAAAAAAAgIT4F0J1AM5RoToAAAAAAAAAAAAAAAAAAAAAABLiXwjVAThHheoAAAAAAAAAAAAAAAAAAAAAAEiIfyFUB+AcFaoDAAAAAAAAAAAAAAAAAAAAACAh/oVQHYBzVKgOAAAAAAAAAAAAAAAAAAAAAICE+BdCdQDOUaE6AAAAAAAAAAAAAAAAAAAAAAAS4l8I1QE4R4XqAAAAAAAAAAAAAAAAAAAAAABIiH8hVAfgHBWqAwAAAAAAAAAAAAAAAAAAAAAgIf6FUB2Ac1SoDgAAAAAAAAAAAAAAAAAAAACAhPgXQnUAzlGhOgAAAAAAAAAAAAAAAAAAAAAAEuJfCNUBOEeF6gAAAAAAAAAAAAAAAAAAAAAASIh/IVQH4BwVqgMAAAAAAAAAAAAAAAAAAAAAICH+hVAdgHNUqA4AAAAAAAAAAAAAAAAAAAAAgIT4F0J1AM5RoToAAAAAAAAAAAAAAAAAAAAAABLiXwjVAThHheoAAAAAAAAAAAAAAAAAAAAAAEiIfyFUB+AcFaoDAAAAAAAAAAAAAAAAAAAAACAh/oVQHYBzVKgOAAAAAAAAAAAAAAAAAAAAAICE+BdCdQDOUaE6AAAAAAAAAAAAAAAAAAAAAAAS4l8I1QE4R4XqAAAAAAAAAAAAAAAAAAAAAABIiH8hVAfgHBWqAwAAAAAAAAAAAAAAAAAAAAAgIf6FUB2Ac1SoDgAAAAAAAAAAAAAAAAAAAACAhPgXQnUAzlGhOgAAAAAAAAAAAAAAAAAAAAAAEuJfCNUBOEeF6gAAAAAAAAAAAAAAAAAAAAAASIh/IVQH4BwVqgMAAAAAAAAAAAAAAAAAAAAAICH+hVAdgHNUqA4AAAAAAAAAAAAAAAAAAAAAgIT4F0J1AM5RoToAAAAAAAAAAAAAAAAAAAAAABLiXwjVAThHheoAAAAAAAAAAAAAAAAAAAAAAEiIfyFUB+AcFaoDAAAAAAAAAAAAAAAAAAAAACAh/oVQHYBzVKgOAAAAAAAAAAAAAAAAAAAAAICE+BdCdQDOUaE6AAAAAAAAAAAAAAAAAAAAAAAS4l8I1QE4R4XqAAAAAAAAAAAAAAAAAAAAAABIiH8hVAfgHBWqAwAAAAAAAAAAAAAAAAAAAAAgIf6FUB2Ac1SoDgAAAAAAAAAAAAAAAAAAAACAhPgXQnUAzlGhOgAAAAAAAAAAAAAAAAAAAAAAEuJfCNUBOEeF6gAAAAAAAAAAAAAAAAAAAAAASIh/IVQH4BwVqgMAAAAAAAAAAAAAAAAAAAAAICH+hVAdgHNUqA4AAAAAAAAAAAAAAAAAAAAAgIT4F0J1AM5RoToAAAAAAAAAAAAAAAAAAAAAABLiXwjVAThHheoAAAAAAAAAAAAAAAAAAAAAAEiIfyFUB+AcFaoDAAAAAAAAAAAAAAAAAAAAACAh/oVQHYBzVKgOAAAAAAAAAAAAAAAAAAAAAICE+BdCdQDOUaE6AAAAAAAAAAAAAAAAAAAAAAAS4l8I1QE4R4XqAAAAAAAAAAAAAAAAAAAAAABIiH8hVAfgHBWqAwAAAAAAAAAAAAAAAAAAAAAgcTL7tIEomXPAzGynAQAAAAAAAAAAAAAAAAAAAMDHEhgxoToQqjMzM6E6AAAAAAAAAAAAAAAAAAAAAEgIjJhQHQjVmZmZUB0AAAAAAAAAAAAAAAAAAAAAJARGTKgOhOrMzEyoDgAAAAAAAAAAAAAAAAAAAAASAiMmVAdCdWZmJlQHAAAAAAAAAAAAAAAAAAAAAAmBEROqA6E6MzMTqgMAAAAAAAAAAAAAAAAAAACAhMCICdWBUJ2ZmQnVAQAAAAAAAAAAAAAAAAAAAEBCYMSE6kCozszMhOoAAAAAAAAAAAAAAAAAAAAAICEwYkJ1IFRnZmZCdQAAAAAAAAAAAAAAAAAAAACQEBgxoToQqjMzM6E6AAAAAAAAAAAAAAAAAAAAAEgIjJhQHQjVmZmZUB0AAAAAAAAAAAAAAAAAAAAAwNsRqoMHheoAuCv2CQAAAAAAAAAAAAAAAAAAAADAEwlvgVAdgFAdAAAAAAAAAAAAAAAAAAAAAAAJ4S0QqgMQqgMAAAAAAAAAAAAAAAAAAAAAICG8BUJ1AEJ1AAAAAAAAAAAAAAAAAAAAAAAkhLdAqA5AqA4AAAAAAAAAAAAAAAAAAAAAgITwFgjVAQjVAQAAAAAAAAAAAAAAAAAAAACQEN4CoToAoToAAAAAAAAAAAAAAAAAAAAAABLCWyBUByBUBwAAAAAAAAAAAAAAAAAAAABAQngLhOoAhOoAAAAAAAAAAAAAAAAAAAAAAEgIb4FQHYBQHQAAAAAAAAAAAAAAAAAAAAAACeEtEKoDEKoDAAAAAAAAAAAAAAAAAAAAACAhvAVCdQBCdQAAAAAAAAAAAAAAAAAAAAAAJIS3QKgOQKgOAAAAAAAAAAAAAAAAAAAAAICE8BYI1QEI1QEAAAAAAAAAAAAAAAAAAAAAkBDeAqE6AKE6AAAAAAAAAAAAAAAAAAAAAAASwlsgVAcgVAcAAAAAAAAAAAAAAAAAAAAAQEJ4C4TqAITqAAAAAAAAAAAAAAAAAAAAAABICG+BUB2AUB0AAAAAAAAAAAAAAAAAAAAAAAnhLRCqAxCqAwAAAAAAAAAAAAAAAAAAAAAgIbwFQnUAQnXA/7BzN8etKsoCRhUGURAFSZAEORADMRCCMiACJcCcMTMGuq9Vz7uMj4SEBBhZa1V1nVu2xI9p9p19AAAAAAAAAAAAAAAAAAAAADAivAVCdQBCdQAAAAAAAAAAAAAAAAAAAAAAjAhvgVAdgFAdAAAAAAAAAAAAAAAAAAAAAAAjwlsgVAcgVAcAAAAAAAAAAAAAAAAAAAAAwIjwFgjVAQjVAQAAAAAAAAAAAAAAAAAAAAAwIrwFQnUAQnUAAAAAAAAAAAAAAAAAAAAAAIwIb4FQHYBQHQAAAAAAAAAAAAAAAAAAAAAAI8JbIFQHIFQHAAAAAAAAAAAAAAAAAAAAAMCI8BYI1QEI1QEAAAAAAAAAAAAAAAAAAAAAMCK8BUJ1AEJ1AAAAAAAAAAAAAAAAAAAAAACMCG+BUB2AUB0AAAAAAAAAAAAAAAAAAAAAACPCWyBUByBUBwAAAAAAAAAAAAAAAAAAAADAiPAWCNUBCNUBAAAAAAAAAAAAAAAAAAAAADAivAVCdQBCdQAAAAAAAAAAAAAAAAAAAAAAjAhvgVAdgFAdAAAAAAAAAAAAAAAAAAAAAAAjwlsgVAcgVAcAAAAAAAAAAAAAAAAAAAAAwIjwFgjVwaq6rjvXdf1v8jz/N2VZXn52Op3OwzA8dLyqqkbH+DmPHgehOgAAAAAAAAAAAAAAAAAAAAAAbhPeAqE6WFSE4o7H47koinOSJLPem4jQTYXm+r6f/H6E7xCqAwAAAAAAAAAAAAAAAAAAAADgdcJbIFQHiwXq6rqejNOlaXqJycXnImR37TPx/fj9NfHzqfcuQnYI1QEAAAAAAAAAAAAAAAAAAAAA8DrhLRCqg5dVVTX5PkR8rmmaq9+Nn1/7Thzzpwjd3TpHBPAQqgMAAAAAAAAAAAAAAAAAAAAAYBnCWyBUx4puRdgO3wJuXde97f0Nw3DOsmzyHiMgF597JnTXtu2/z5xOp8nz9H1v4YTqAAAAAAAAAAAAAAAAAAAAAABYiPAWCNWxkgjQPbIrEXp71/uL0N7hTqTu0eDdtWPFz74id0VRvHwehOoAAAAAAAAAAAAAAAAAAAAAAHiM8BYI1bGCvu/vRty+T1VVb3V/t8JyhxficfE3uHactm0vf8+pc8XvEaoDAAAAAAAAAAAAAAAAAAAAAGA5wlsgVMcKEbcsy+ZGuc6n0+lt7jEidFP3UhTF7GMej8erx6rr+jKHhYJ4CNUBAAAAAAAAAAAAAAAAAAAAAHCf8BYI1bFxxO3WJElyidztXdu2k/cRkb5n7uPWcSN6l6bpzfP1fW/phOoAAAAAAAAAAAAAAAAAAAAAAFiY8BYI1bGguq6fitR9TZ7nu7/HCNFN3UPXdU8dN+J2c/9eEQVEqA4AAAAAAAAAAAAAAAAAAAAAgOUJb4FQHQs5nU4vReq+JmJ3e9U0zarXPvdv1fe9xROqAwAAAAAAAAAAAAAAAAAAAABgBcJbIFTHArquOydJcncvHvlMTBxvj9I0vXnN8bthGDZ7x8qytHhCdQAAAAAAAAAAAAAAAAAAAAAArER4C4TqeFHE2aYCbodvkboI0DVNc/ezS0Tflnbvuk+n06bvWN/3lk+oDgAAAAAAAAAAAAAAAAAAAACAlQhvgVAdL8rz/O4+ZFl2idR9iahbhOumvlMUxa7ucyrGF/e35TtWlqXFE6oDAAAAAAAAAAAAAAAAAAAAAGBFwlsgVMcLIph2eCBSNwzDf74b4bp7sbqmaXZxnxHW2+I6H32/+r63fEJ1AAAAAAAAAAAAAAAAAAAAAACsSHgLhOp4UsTZ7u1BhOyuReq+RHAtQna3vh8huwja/bY8zyevcct3LP6mCNUBAAAAAAAAAAAAAAAAAAAAALAu4S0QquMJEY87LBRUi5DdVKwufvebIqY3dZ9VVW36jsX1IFQHAAAAAAAAAAAAAAAAAAAAAMC6hLdAqI4nwm1Jkkw+/6ZpZh83wnaHDWJwc8W9HDYKxx0Wiv8hVAcAAAAAAAAAAAAAAAAAAAAAwGuEt0CojhmGYThnWXbzuUfA7plI3ZcI0t069ul0+pV7Lori5jWlabrpO7ZkFA+hOgAAAAAAAAAAAAAAAAAAAAAAbhPeAqE6ZijLcjJS13Xdy+eI0N2t40cob+sw39Sex99jq3ds6XMhVAcAAAAAAAAAAAAAAAAAAAAAwG3CWyBUx4Pqur75vLMsWyRS9+V0Ol3CdD/Pk+f5pvd8K5r3NfH7rd6xvu8toVAdAAAAAAAAAAAAAAAAAAAAAAAbEd4CoToeDMcdJiJ1wzAsfs4I312L1UUwbw9xvsPC8bipc5VlaQmF6gAAAAAAAAAAAAAAAAAAAAAA2JDwFgjV8WQw7vD/AbU1InVfIgQXIbyf541r2kJRFJvsedM0mwXxEKoDAAAAAAAAAAAAAAAAAAAAAOA+4S0QqmNCROjSNL0ZqdvqGn7G6uKa1gzkfcnz/OaOR7xvqRjfrRCg90moDgAAAAAAAAAAAAAAAAAAAACA3yG8BUJ1TCiK4urzbZpm82uJMN5h41DeVEAuInZrx/C8T0J1AAAAAAAAAAAAAAAAAAAAAAD8DuEtEKqDp3Z+iVDd8Xj0PtknoToAAAAAAAAAAAAAAAAAAAAAgB0S3gKhOviVUN0wDOckSV5+n9q29aCE6gAAAAAAAAAAAAAAAAAAAAAAWJjwFgjVwa+E6oqiePl9ikhdXdcelFAdAAAAAAAAAAAAAAAAAAAAAAALE94CoTq4KcuyVUJ1p9NpkfepLMvz8Xj0oITqAAAAAAAAAAAAAAAAAAAAAABYmPAWCNXBTRGju7XjaZo+dcxhGM5Jkrz8PsVx4nfxX4TqAAAAAAAAAAAAAAAAAAAAAABYlvAWCNXBTXVdL77nRVFcPdZUvO5ajK6qqsuxEKoDAAAAAAAAAAAAAAAAAAAAAGB5wlsgVAc3tW07uedd1806XtM0NyN1caw0Ta/+/nQ6jY4Tn732c4TqAAAAAAAAAAAAAAAAAAAAAABYhvAWCNXBpDzPb+55VVUPHyfichGkO9yI1E2dq67r0XGyLLtE7RCqAwAAAAAAAAAAAAAAAAAAAABgHcJbIFQHk9q2vbnnEYx7xDAMl88eJiJ1IcJ3184Tn4vr+P77pmk8HKE6AAAAAAAAAAAAAAAAAAAAAABWIrwFQnVwV57nN3c9AnL3XIvUxc8iYPdd3/cPvV9pmnooQnUAAAAAAAAAAAAAAAAAAAAAAKxIeAuE6uCuruvOSZLcjMb9DM59iZ+XZfmf78TPbqmqavLdiuuI60GoDgAAAAAAAAAAAAAAAAAAAACA9QhvgVDdR2rbdm40a/HZ8zXHuebE6q6F5+LzWZb9JzLXNM3de70WtzuI1AnVAQAAAAAAAAAAAAAAAAAAAACwGeEtEKoTqhOqeyhU9xWfS9P0ZkSuqqpLiC5Cc9+jdvG/67o+D8Pw8P0ej8dzURSX70bwLo4tUidUBwAAAAAAAAAAAAAAAAAAAADANoS3QKjuY0X0LOJpEUE7bBB/+4qtnU6nWcG2n9ccx7gVi1viGiM0NyWuPc/zh473TKAO/4YehOoAAAAAAAAAAAAAAAAAAAAAAH6d8BYI1fF/+r6/BNUOC4ffiqK4hN/WCLW1bXsuy3KR64zwXBzvmb9Z3GN8PyJ38d+Y+Pnc4+Hf0INQHQAAAAAAAAAAAAAAAAAAAADAbghvgVAdP+JrEVo7vBh+i2jbGnG6a7quOydJ8tR1xvcipAdCdQAAAAAAAAAAAAAAAAAAAAAAfCe8BUJ1XBHxtsOTkbo0TTeL1H2P1R2eiOnF90CoDgAAAAAAAAAAAAAAAAAAAACAn4S3QKiOG6qqeipUl+f57vezLMvNY3pwEKoDAAAAAAAAAAAAAAAAAAAAAHgbwlsgVMeEiM7N/bcyAnd7vtaI1IFQHQAAAAAAAAAAAAAAAAAAAAAAU4S3QKiOCV3XzQ7VpWm6+XUOwyBSh1AdAAAAAAAAAAAAAAAAAAAAAACLEd4CoTruyLJsdqyu7/tNr7GqqrvXFPcBQnUAAAAAAAAAAAAAAAAAAAAAADxCeAuE6rijaZrZobrj8bjZ9bVt+1CkbhgGDxOhOgAAAAAAAAAAAAAAAAAAAAAAHiK8BUJ1PCBJklnPP8JwW4j4XJxr6lri2ruu8xARqgMAAAAAAAAAAAAAAAAAAAAA4GHCWyBUxwOqqpob2bpE5H47UhfTtq0HiFAdAAAAAAAAAAAAAAAAAAAAAACzCG+BUB0P6Pt+dqhu7UDcI5G6uq49PITqAAAAAAAAAAAAAAAAAAAAAACYTXgLhOp4UFEUs3bgdDqtdi1lWd49f57nHhpCdQAAAAAAAAAAAAAAAAAAAAAAPEV4C4TqeFCE5+bsQMTkfitSl2XZeRgGDw2hOgAAAAAAAAAAAAAAAAAAAAAAniK8BUJ1zJCm6aw96Pt+0fPXdS1Sh1AdAAAAAAAAAAAAAAAAAAAAAACrE94CoToWDsV9n6qqFjt30zQidQjVAQAAAAAAAAAAAAAAAAAAAACwCeEtEKpjhojAzdmDJEkWCceJ1CFUBwAAAAAAAAAAAAAAAAAAAADAloS3QKiOmcqynLULx+PxpfN1XSdSh1AdAAAAAAAAAAAAAAAAAAAAAACbEt4CoTpmatt21i6kafpSpC5JEpE6hOoAAAAAAAAAAAAAAAAAAAAAANiU8BYI1fGEiM/N2YemaUTq8G+oUB0AAAAAAAAAAAAAAAAAAAAAwNsQ3gKhOp4Q4bk5+5Dn+azjR3wuInQHkTqE6gAAAAAAAAAAAAAAAAAAAAAA+AXCWyBUxxMiEJckyaydaNtWpA7/hgrVAQAAAAAAAAAAAAAAAAAAAAC8BeEtEKrjSWVZztqJ+Pwj9hSpm/v/E8YYY14aAAAAAAAAAAAAAAAAAAAAANgN4S0QquNJXdfNjhD1ff9S/G7LSJ1QnTHGCNUBAAAAAAAAAAAAAAAAAAAA8LmEt0CojhfkeT5rL6qqeptInVCdMcYI1QEAAAAAAAAAAAAAAAAAAADwuYS3QKiOFzRNM2svkiS5Gpur63p3kTqhOmOMEaoDAAAAAAAAAAAAAAAAAAAA4HMJb4FQHS+K+Nyc3Tgej7Nid78VqROqM8YYoToAAAAAAAAAAAAAAAAAAAAAPpfwFgjV8aKqqmbtRpqmbxGpE6ozxhihOgAAAAAAAAAAAAAAAAAAAAA+lyCIMSsNn6Pv+9n7EYG6rut2HakTqjPGGKE6AAAAAAAAAAAAAAAAAAAAAD6XIIgxQnUsoCiKWfsREbokSXYdqROqM8YYoToAAAAAAAAAAAAAAAAAAAAAPpcgiDFCdSzgdDottjt7idQJ1RljjFAdAAAAAAAAAAAAAAAAAAAAAJ9LEMQYoToWkqbpn4rUCdUZY4xQHQAAAAAAAAAAAAAAAAAAAACfSxDEGKE6FlLX9Z+K1AnVGWOMUB0AAAAAAAAAAAAAAAAAAAAAn0sQxBihOhYSkbnDH4rUCdUZY4xQHQAAAAAAAAAAAAAAAAAAAACfSxDEGKE6FlSW5Z+J1M0N1QHwcvATAAAAAAAAAAAAAAAAAAAAAHZDUMwYoToW1LbtrD1JkmS3kTqhOgChOgAAAAAAAAAAAAAAAAAAAAA+l6CYMUJ1LCxN01m70nWdUB2AUJ1QHQAAAAAAAAAAAAAAAAAAAAC7IihmjFAdC2uaZtaulGUpVAcgVCdUBwAAAAAAAAAAAAAAAAAAAMCuCIoZI1THwoZhOCdJMmtf4jtCdQBCdQAAAAAAAAAAAAAAAAAAAAAAvCfRLh5SluWsONHxeBSqAxCqAwAAAAAAAAAAAAAAAAAAAADgTYl28ZCu62bFidI0FaoDEKoDAAAAAAAAAAAAAAAAAAAAAOBNiXbxkKZp5saJzm3bCtUBCNUBAAAAAAAAAAAAAAAAAAAAAPCGRLtYJVIXUxSFUB2AUB0AAAAAAAAAAAAAAAAAAAAAAG9ItItVInVf0/e9UB2AUB0AAAAAAAAAAAAAAAAAAAAAAG9GtIvVInUxdV0L1QEI1QEAAAAAAAAAAAAAAAAAAAAA8GZEu1gtUheTpqlQHYBQHQAAAAAAAAAAAAAAAAAAAAAAb0a0i9UidV8TxxOqAxCqAwAAAAAAAAAAAAAAAAAAAADgfYh2MStSV5blOc/zWaGi+LxQHYBQHQAAAAAAAAAAAAAAAAAAAAAA70O0i4cjdVmWPfS5a9P3vVAdgFAdAAAAAAAAAAAAAAAAAAAAAABvQrSLhyN1wzD8+3ySJLNiRVVVCdUBCNUBAAAAAAAAAAAAAAAAAAAAAPAmRLuYHakLEZ6bsz8Rtvt5DKE6AKE6AAAAAAAAAAAAAAAAAAAAAAD2SbRLpO5uYK7ruv98r+/7ubGiy7mE6gCE6gAAAAAAAAAAAAAAAAAAAAAA2D/RLpG62ZG6L3mezwoWZVkmVAcgVAcAAAAAAAAAAAAAAAAAAAAAwBsQ7fpQEaCLEN3UM5+K1D0SunvmmEJ1AEJ1AAAAAAAAAAAAAAAAAAAAAAD8PtGuDzQMwzlN08nnHRG6R9yL3f2csiyF6gCE6gAAAAAAAAAAAAAAAAAAAAAA2DnRrg+UZdkikbpQVdXcaNEllCdUByBUBwAAAAAAAAAAAAAAAAAAAADAfol2fZiyLCefc13Xs47X9/3sUN3xeBSqAxCqAwAAAAAAAAAAAAAAAAAAAABgx0S7PkgE4qaecUTsnpHn+axwUZqmQnUAQnUAAAAAAAAAAAAAAAAAAAAAAOyYaNeHOJ1Oq0TqQtM0c8NF57ZtheoAhOoAAAAAAAAAAAAAAAAAAAAAANgp0a4P0HXdOUmSm882y7KXzzF1/GtTFIVQHYBQHQAAAAAAAAAAAAAAAAAAAAAAOyXa9ccNw3BO03QyUhefeVVVVXPjRee+74XqAITqAAAAAAAAAAAAAAAAAAAAAADYIdGuPy5CdIeVI3UhonOHmaG6uq6F6gCE6gAAAAAAAAAAAAAAAAAAAAAA2CHRrj+sLMubzzNJknPXdYueL8/zWQGjNE2F6gCE6gAAAAAAAAAAAAAAAAAAAAAA2CHRrj/qeDxuGqkLTdPMDRhdviNUByBUBwAAAAAAAAAAAAAAAAAAAADAvoh2/UH3gnFrROq+RARvzl7leS5UByBUBwAAAAAAAAAAAAAAAAAAAADAzoh2/TERoZt6jhGxW1NVVXMjRue+74XqAITqAAAAAAAAAAAAAAAAAAAAAADYEdGuPxapS5Lk1yJ1IaJzh5mhuojbCdUBCNUBAAAAAAAAAAAAAAAAAAAAALAfol1/xDAM5zRNbz6/uq43u5aiKGaFjCKuF9cvVAcgVAcAAAAAAAAAAAAAAAAAAAAAwD6Idv2RSF2WZTefXVmWm17P6XSaGzLaLKRn5wGE6gAAAAAAAAAAAAAAAAAAAAAAuE+0S6RulWs6zAzVJUly+Z5QHYBQHQAAAAAAAAAAAAAAAAAAAAAAv0+06w9H6tI0/bVry/N8dqxui6ienQcQqgMAAAAAAAAAAAAAAAAAAAAA4D7Rrj8aqYs5Ho9vFaqLadtWqA5AqA4AAAAAAAAAAAAAAAAAAAAAgF8m2vVHI3VJklw+926hurWv284DCNUBAAAAAAAAAAAAAAAAAAAAAHCfaNeb6brunKbprwff7rkX0pua+O5a127nAYTqAAAAAAAAAAAAAAAAAAAAAAC4T7TrjTRNcwnQPfrMiqI4933/K9d5eDJSd1g5VmfnAYTqAAAAAAAAAAAAAAAAAAAAAAC4T7TrDbRte87z/KngW4Ttqqo6d123yXWWZflypO77tcfxlozt2XkAoToAAAAAAAAAAAAAAAAAAAAAAO4T7dqhCLNFXO7ZON1hIvwWx4xj13V9mWEYZl/f13e/Jo4Zx17yWn9OnCOidd/PK1QHIFQHAAAAAAAAAAAAAAAAAAAAAMA6RLt2qG3bVaNv3yfOtXKkaLURqgMQqgMAAAAAAAAAAAAAAAAAAAAAYB2iXTvUdd05z/NNJs4111bXdm+E6gCE6gAAAAAAAAAAAAAAAAAAAAAAWIdoFwJLdh5AqA4AAAAAAAAAAAAAAAAAAAAAgBHRLgSW7DyAUB0AAAAAAAAAAAAAAAAAAAAAACOiXQgs2XkAoToAAAAAAAAAAAAAAAAAAAAAAEZEuxBYsvMAQnUAAAAAAAAAAAAAAAAAAAAAAIyIdiGwZOcBhOoAAAAAAAAAAAAAAAAAAAAAABgR7UJgyc4DCNUBAAAAAAAAAAAAAAAAAAAAADAi2oXAkp0HEKoDAAAAAAAAAAAAAAAAAAAAAGBEtAuBJTsPIFQHAAAAAAAAAAAAAAAAAAAAAMCIaBcCS3YeQKgOAAAAAAAAAAAAAAAAAAAAAIAR0S4Eluw8gFAdAAAAAAAAAAAAAAAAAAAAAAAjol0ILNl5AKE6AAAAAAAAAAAAAAAAAAAAAABGRLsQWLLzAEJ1AAAAAAAAAAAAAAAAAAAAAACMiHYhsGTnAYTqAAAAAAAAAAAAAAAAAAAAAAAYEe1CYMnOAwjVAQAAAAAAAAAAAAAAAAAAAAAwItqFwJKdBxCqAwAAAAAAAAAAAAAAAAAAAABgRLQLgSU7DyBUBwAAAAAAAAAAAAAAAAAAAADAiGgXAkt2HkCoDgAAAAAAAAAAAAAAAAAAAACAEdEuBJbsPIBQHQAAAAAAAAAAAAAAAAAAAAAAI6JdCCzZeQChOgAAAAAAAAAAAAAAAAAAAAAARkS7EFiy8wBCdQAAAAAAAAAAAAAAAAAAAAAAjIh2IbBk5wGE6gAAAAAAAAAAAAAAAAAAAAAAGBHtQmDJzgMI1QEAAAAAAAAAAAAAAAAAAAAAMCLahcCSnQcQqgMAAAAAAAAAAAAAAAAAAAAAYES0C4ElOw8gVAcAAAAAAAAAAAAAAAAAAAAAwIhoFwJLdp59BL2MMcY8PwAAAAAAAAAAAAAAAAAAAADAwkS7EA6z8wjVGWOMUB0AAAAAAAAAAAAAAAAAAAAAMCLahXCYnUeozhhjhOoAAAAAAAAAAAAAAAAAAAAAgBHRLoTD7DxCdcYYI1QHAAAAAAAAAAAAAAAAAAAAAIyIdiEcZucRqjPGGKE6AAAAAAAAAAAAAAAAAAAAAGBEtAvhMDuPUJ0xxgjVAQAAAAAAAAAAAAAAAAAAAAAjol0Ih9l5hOqMMUaoDgAAAAAAAAAAAAAAAAAAAAAYEe1COMzOI1RnjDFCdQAAAAAAAAAAAAAAAAAAAADAiGgXwmF2HqE6Y4wRqgMAAAAAAAAAAAAAAAAAAAAARkS7EA6z8wjVGWOMUB0AAAAAAAAAAAAAAAAAAAAAMCLahXCYnUeozhhjhOoAAAAAAAAAAAAAAAAAAAAAgBHRLoTD7Dz2DeDdY58AAAAAAAAAAAAAAAAAAAAAwMJElBC9sfPYNwChOgAAAAAAAAAAAAAAAAAAAABgREQJ0Rs7j30DEKoDAAAAAAAAAAAAAAAAAAAAAEZElBC9sfPYNwChOgAAAAAAAAAAAAAAAAAAAABgREQJ0Rs7j30DEKoDAAAAAAAAAAAAAAAAAAAAAEZElBC9sfPYNwChOgAAAAAAAAAAAAAAAAAAAABgREQJ0Rs7j30DEKoDAAAAAAAAAAAAAAAAAAAAAEZElBC9sfPYNwChOgAAAAAAAAAAAAAAAAAAAABgREQJ0Rs7j30DEKoDAAAAAAAAAAAAAAAAAAAAAEZElBC9sfPYNwChOgAAAAAAAAAAAAAAAAAAAABgREQJ0Rs7j30DEKoDAAAAAAAAAAAAAAAAAAAAAEZElBC9sfPYNwChOgAAAAAAAAAAAAAAAAAAAABgREQJ0Rs7j30DEKoDAAAAAAAAAAAAAAAAAAAAAEZElBC9sfPYNwChOgAAAAAAAAAAAAAAAAAAAABgREQJ0Rs7j30DEKoDAAAAAAAAAAAAAAAAAAAAAEZElBC9sfPYNwChOgAAAAAAAAAAAAAAAAAAAABgREQJ0Rs7j30DEKoDAAAAAAAAAAAAAAAAAAAAAEZElBC9sfPYNwChOgAAAAAAAAAAAAAAAAAAAABgREQJ0Rs7j30DEKoDAAAAAAAAAAAAAAAAAAAAAEZElBC9sfPYNwChOgAAAAAAAAAAAAAAAAAAAABgREQJ0Rs7j30DEKoDAAAAAAAAAAAAAAAAAAAAAEZElBC9+R8793LjqLoFYNRhEAVRkARJkAMxEAMhOAMicALMGTNj4Kvtqzoqqm1sbF7VvZa0VVLZvH8z/Kx5rDcAoToAAAAAAAAAAAAAAAAAAAAAYERECdEbax7rDUCoDgAAAAAAAAAAAAAAAAAAAAAYEVFC9Maax3oDEKoDAAAAAAAAAAAAAAAAAAAAAEZElBC9seax3gCE6gAAAAAAAAAAAAAAAAAAAACAERElRG+seaw3AKE6AAAAAAAAAAAAAAAAAAAAAGBERAnRG2se6w1AqA4AAAAAAAAAAAAAAAAAAAAAGLkaY4TDEKoDEKoDAAAAAAAAAAAAAAAAAAAAAL4TJDNGOAyhOgChOgAAAAAAAAAAAAAAAAAAAABgRJDMGOEwhOoAhOoAAAAAAAAAAAAAAAAAAAAAgBFBMmOEwxCqAxCqAwAAAAAAAAAAAAAAAAAAAABGBMmMEQ5DqA5AqA4AAAAAAAAAAAAAAAAAAAAAGBEkM0Y4DKE6AKE6AAAAAAAAAAAAAAAAAAAAAGBEkMwY4TCE6gCE6gAAAAAAAAAAAAAAAAAAAACAEUEyY4TDEKoDEKoDAAAAAAAAAAAAAAAAAAAAAEYEyYwRDkOoDg6rbdv/pu/72dt3XTfax88ZhsFNFqoDAAAAAAAAAAAAAAAAAAAAAO4QJDNGOAyhOthdBOXO5/O1KIqnv5csy65VVb0UrkvT9OF+4jOE6gAAAAAAAAAAAAAAAAAAAACA+wTJjBEOQ6gOdjEMw7Wu62uSJG+9p2O72D72c8/lcpncvmkaD0GoDgAAAAAAAAAAAAAAAAAAAAAAboTDEKqDnfV9f62qajJQl6bpLSQX3w1d113P5/O1KIq7wbr4/Kd73/2+f4TqAAAAAAAAAAAAAAAAAAAAAADgi3AYQnUc1jAM17quH06E2n67y+UyGaiLz+Jap8R9ON0Jz8X9+x7Dm/rNRQQPoToAAAAAAAAAAAAAAAAAAAAAAPgiHIZQHYeVZdnTtfIs4nZkce5T1xaRuq7rXtpXWZZ/bB//e+VYEbVDqA4AAAAAAAAAAAAAAAAAAAAAAL4TDkOojkO6F157NK/G3H7T9c2J1H3J8/zhvYkY3aNjNU1jwQnVAQAAAAAAAAAAAAAAAAAAAADAiHAYQnUczvl8nrVeIsI2DMOvub7L5bJ4pC5EcO50J0I3dby4dwjVAQAAAAAAAAAAAAAAAAAAAADAT8JhCNVxKG3bzg1y3aYoil9xfRHUizjc1LVEWO7dff/cV1VVt3vz6FgRskOoDgAAAAAAAAAAAAAAAAAAAAAAfhIOQ6iOw+i67pokyVuhutMvia7VdT15DfH5J35G6aaiePEZQnUAAAAAAAAAAAAAAAAAAAAAAHCPcBhCdRzCMAzXLMvejtTFROQuYndH1ff95PnH9a8dwjv9srAfQnUAAAAAAAAAAAAAAAAAAAAAAOxDOAyhOg6hKIqPInWnBWNvaynLcvLc27b9+BgRn3vlPqVpatEJ1QEAAAAAAAAAAAAAAAAAAAAAwEPCYQjVsbuqql5aFxF6ixDds+/F/o6m7/un17aEiN29ci8jaIdQHQAAAAAAAAAAAAAAAAAAAAAAPCIchlAdu4pg2unFSF0YhuGlWN3lcjnUdcb5PzrXJElu17VVqC5NUwtPqA4AAAAAAAAAAAAAAAAAAAAAACYJhyFUx266rrtF2p6th4jZzQm/nRaOv32q7/uXInxbheru3U+E6gAAAAAAAAAAAAAAAAAAAAAA4DvhMITq2EVE5J5F6uLzqahaVVWT2+d5fohrret68jwjZLdVqC5NU4tPqA4AAAAAAAAAAAAAAAAAAAAAAJ4SDkOojl1kWfY0Utd13dP9RMhuaj8RidvbVJBv6ZjesyjeVPgPoToAAAAAAAAAAAAAAAAAAAAAAPgiHIZQHZsry3Ly+UfE7pVI3ZfL5TIZg5uzr6W1bbtpOG4qAJimqcUnVAcAAAAAAAAAAAAAAAAAAAAAAC8RDkOojk2dz+enkbphGGbvN2J0j2J1EWh7Z59LqKpqs7Xe9/2mUTyE6gAAAAAAAAAAAAAAAAAAAAAA+HsJhyFUx2batp187mVZfhSUi1BbhO7u7bsoil2uOSJ5j643z/PNIoBxHgjVAQAAAAAAAAAAAAAAAAAAAADAq4TDEKpjE13XXZMkmYzULSFCd49idU3TbH7NU+u8rutFjxcxvkfH2vraEaoDAAAAAAAAAAAAAAAAAAAAAOB3Ew5DqI7VTcXjTitF1CJ89/M4EcqLeNxWIkQ3tc7btl3sWH3fPzxOmqYWoVAdAAAAAAAAAAAAAAAAAAAAAADMIhyGUB2rK4ri7nOOcNwakbovVVX9ccwI5m3l3vHXWuf3wnynFUOACNUBAAAAAAAAAAAAAAAAAAAAAPB3Ew5DqI5dYm0Rqeu6bvXjR6Tt57HjnLaQ5/km67zve78n71ChOgAAAAAAAAAAAAAAAAAAAAAAFiUchlAdm0biYrIs2yRS9+VyudzCeN/PIf63trjOR2s8PvttQTyE6gAAAAAAAAAAAAAAAAAAAAAA+HcIhyFUx6qhurqu/5hhGDY/lwjjfT+HOLc913zE5ZbQtq3fk3eoUB0AAAAAAAAAAAAAAAAAAAAAAIsTDkOoDn5pqC6Cf2ma+j1ZT0J1AAAAAAAAAAAAAAAAAAAAAAAsTjgMoTr4paG6uq4/+j1F6C72gVAdAAAAAAAAAAAAAAAAAAAAAAD8JByGUB2sJEmS1UJ1Xdd9/Hs6n89CdUJ1AAAAAAAAAAAAAAAAAAAAAABwl3AYQnWwkojRnVYI1Q3DcM2y7OPfU5qm17ZtPSihOgAAAAAAAAAAAAAAAAAAAAAA+INwGEJ1sJKyLFdZ51VVffx7ikBdhOoQqgMAAAAAAAAAAAAAAAAAAAAAgHuEwxCqg5Wcz+fJdT4Mw+x9Nk1zd19TUbyu6/7YT0Tq6rr2kITqAAAAAAAAAAAAAAAAAAAAAADgLuEwhOpgJRGiS5Lk4TqP6NwcEZy7t7+I1IU8z+8eJ4J530WgLv7f972HJFQHAAAAAAAAAAAAAAAAAAAAAAB3CYchVAcr+orC3ZuiKGZF79I0fRipC7G/qeNEmO7rO9+3Q6gOAAAAAAAAAAAAAAAAAAAAAAB+Eg5DqA5WFIG5JEnurvP4f3z+yj6yLPtj+4jgfdc0zcPfVJ7no/OIaB1CdQAAAAAAAAAAAAAAAAAAAAAA8IhwGEJ1sLIIyj1a61VVzY7URXDucrnc/X6apk9/X8+OiVAdAAAAAAAAAAAAAAAAAAAAAAAIhyFUx2x939/ia3vOkc85jvVTWZYP13vbtnfPOf7/MzwX0bqu6x5eZ3wWIbtHx4rzQKgOAAAAAAAAAAAAAAAAAAAAAACeEQ5DqI7ZIqB2mhfNWnyOfM6PwnOPYnURljufz9dhGEZRvZ/fif99fWfKo1idSJ1QHQAAAAAAAAAAAAAAAAAAAAAAvEo4DKE6ZouQWlEUuwTqsiy7VlV12HNO0/R2rEciSPds+9Obgbp7wbo43uVyeWt7hOoAAAAAAAAAAAAAAAAAAAAAAPh3CYchVMdHIoJWluUtqHZaKfwWYbqlYmuxj6ZprnmeL3qesb84x1e0bXu7Z8/2F5E5gTmE6gAAAAAAAAAAAAAAAAAAAAAA2INwGEJ1LCKCas/ia3Mm4nRd1616zn3fX4ui+Og8syy7hefeFdcY20fkLv5+si+8Q09CdQAAAAAAAAAAAAAAAAAAAAAALEQ4DKE6FhWhtYi3nT6IvzVNs+k5vxvYi+0i0AdCdQAAAAAAAAAAAAAAAAAAAAAA/G2EwxCqY3ERb0vT9K34W57nh1+fSZJsHtODk1AdAAAAAAAAAAAAAAAAAAAAAAAbEg5DqI5VdF13C7qdZobqyrLc5XxfDevFNcW1gVAdAAAAAAAAAAAAAAAAAAAAAAB/M+EwhOpYzfl8nh2qK4risKE6kTqE6gAAAAAAAAAAAAAAAAAAAAAA+FcIhyFUx2qGYbjF3U4zY3Vba9v2pfMSqUOoDgAAAAAAAAAAAAAAAAAAAACAf4VwGEJ1rKosy9mhusvlsmlML03Tp+fUNI2HiVAdAAAAAAAAAAAAAAAAAAAAAAD/DOEwhOpYVd/3s0N1EbfbSl3XT88nvgNCdQAAAAAAAAAAAAAAAAAAAAAA/EuEwxCqY3V5ns96/kmSbHJeTdMcKpoHQnUAAAAAAAAAAAAAAAAAAAAAAByFcBhCdRwiCPdzuq7b/ZyyLLsOw+ABIlQHAAAAAAAAAAAAAAAAAAAAAMA/RzgMoTo2kabprDXQtu1q5xIRvGfHT5Jk9VgeCNUBAAAAAAAAAAAAAAAAAAAAAHBUwmEI1bGJuq5nrYHz+bxapC4idM+O3zSNh4ZQHQAAAAAAAAAAAAAAAAAAAAAA/yzhMITq2ETf97PWQJqmInUgVAcAAAAAAAAAAAAAAAAAAAAAwE6EwxCqYzNFUcxaB0sG44ZhuGZZJlKHUB0AAAAAAAAAAAAAAAAAAAAAALxAOAyhOjbTtu2sdZDnuUgdCNUBAAAAAAAAAAAAAAAAAAAAALAD4TCE6thUmqaz1kLE7T4lUodQHQAAAAAAAAAAAAAAAAAAAAAAzCMchlAdmzqfz7PWQlmWHx0vtj+J1CFUBwAAAAAAAAAAAAAAAAAAAAAAswiHIVTHpoZhmBvcuvZ9L1KHd6hQHQAAAAAAAAAAAAAAAAAAAAAAGxIOQ6iOzb0SkPs+VVXNPkZd1yJ1CNUBAAAAAAAAAAAAAAAAAAAAAMCbhMMQqmNzXdfNWg9JklyHYXh5/xGgO4nUIVQHAAAAAAAAAAAAAAAAAAAAAABvEw5DqI5dZFk2a02cz2eROrxDheoAAAAAAAAAAAAAAAAAAAAAANiIcBhCdezilaDc90nT9Ok+u64TqcM7VKgOAAAAAAAAAAAAAAAAAAAAAIAFCIchVMcuhmG4Jkkya11MReYiUvdsfyJ1CNUBAAAAAAAAAAAAAAAAAAAAAMBrhMMQqmM3VVXNWhd5novU4R0qVAcAAAAAAAAAAAAAAAAAAAAAwAaEwxCqYzd938+Nb13bth3tYxiGa5ZlInV4hwrVAQAAAAAAAAAAAAAAAAAAAACwIOEwhOrYVZ7ns9ZGWZYidXiHCtUBAAAAAAAAAAAAAAAAAAAAALAy4TCE6thVhORO8wJc177vb9uK1OEdKlQHAAAAAAAAAAAAAAAAAAAAAMA6hMMQqmN3aZrOWh9VVV3LshSpwztUqA4AAAAAAAAAAAAAAAAAAAAAgJUIhyFUx+7qup4b4RKpwztUqA4AAAAAAAAAAAAAAAAAAAAAgBUJhyFUx+76vhepA6E6AAAAAAAAAAAAAAAAAAAAAAAORDgMoToOoSgKkToQqgMAAAAAAAAAAAAAAAAAAAAA4CCEwxCq4xDathWpA6E6AAAAAAAAAAAAAAAAAAAAAAAOQjgMoToOI01TkToQqgMAAAAAAAAAAAAAAAAAAAAA4ACEwxCq4zDO57NIHQjVAQAAAAAAAAAAAAAAAAAAAABwAMJhCNVxGMMwzFonSZLctgHvUKE6AAAAAAAAAAAAAAAAAAAAAACWJRyGUB2HUpblrLXSNI2bhneoUB0AAAAAAAAAAAAAAAAAAAAAAAsTDkOojkPpum7WWknT1E3DO1SoDgAAAAAAAAAAAAAAAAAAAACAhQmHIVTH4WRZNmu9tG3rpuEdKlQHAAAAAAAAAAAAAAAAAAAAAMCChMMQquNwmqaZtV7KsnTT8A4VqgMAAAAAAAAAAAAAAAAAAAAAYEHCYQjVcTh938+Ncl2HYXDj8A4VqgMAAAAAAAAAAAAAAAAAAAAAYCHCYQjVcSgRnMuybHaorq5rNw/vUKE6AAAAAAAAAAAAAAAAAAAAAAAWIhyGUB2/PlIXk6apG4h3qFAdAAAAAAAAAAAAAAAAAAAAAAALEQ5DqI5fH6n7msvl4kbiHSpUBwAAAAAAAAAAAAAAAAAAAADAAoTDEKrjr4jUxRRF4WbiHSpUBwAAAAAAAAAAAAAAAAAAAADAAoTDEKrjr4jUfU3f924qQnUAAAAAAAAAAAAAAAAAAAAAAPAh4TCE6jhspC5JktvMWTtVVbmxCNUBAAAAAAAAAAAAAAAAAAAAAMCHhMMQquOQkbqYrutu4bk5ayfCdiBUBwAAAAAAAAAAAAAAAAAAAAAAnxEOQ6iOQ0bqmqa5fbfv+7mBrv+2BaE6AAAAAAAAAAAAAAAAAAAAAAB4j3AYQnUcNlL3Jc/zWesnvg9CdQAAAAAAAAAAAAAAAAAAAAAA8D7hMITqOFSkrq7rP7aLcN1pXqTr2nWdG45QHQAAAAAAAAAAAAAAAAAAAAAAvEk4DKE6DhOpK8vy4fZJksxaQ1P7AqE6AAAAAAAAAAAAAAAAAAAAAACYJhyGUB2byPP8o7BcVVWz1lCE7SKOB0J1AAAAAAAAAAAAAAAAAAAAAAAwn3AYQnWs7llkLsuyp/vo+35uqOvaNI2bj1AdAAAAAAAAAAAAAAAAAAAAAAC8QTgMoTpWFbG405NI3TAML+0rz/NZ6yhNUw8AoToAAAAAAAAAAAAAAAAAAAAAAHiDcBhCdaym67rFInWvRO/uTdu2HgRCdQAAAAAAAAAAAAAAAAAAAAAAMJNwGEJ1rCICdEmSPHzG8VmE7Oaa2ue9KcvSw0CoDgAAAAAAAAAAAAAAAAAAAAAAZhIOQ6iOVWRZtnikLlRVNTfYdYvmgVAdAAAAAAAAAAAAAAAAAAAAAAC8TjgMoToWV5bl5PN9N1IX+r6fHaqr69pDQagOAAAAAAAAAAAAAAAAAAAAAABmuBpzxOH3appm8tnG55/K83zWekrT1INBqA4AAAAAAAAAAAAAAAAAAAAAAGYQRTNCdSymbdvVI3WvxPDuzeVy8YAQqgMAAAAAAAAAAAAAAAAAAAAAgBeJohmhOhbR9/01SZKHz7Su60WPN3Wse1MUhYeEUB0AAAAAAAAAAAAAAAAAAAAAALxIFM0I1fGxYRiuWZY9fJ5lWS5+zKqqZq+riOmBUB0AAAAAAAAAAAAAAAAAAAAAADwnimaE6vhYhOhOG0bqQkTn5q6riNuBUB0AAAAAAAAAAAAAAAAAAAAAADwnimaE6vhIXdcPn2OWZaseO8/zWesqSRIPDKE6AAAAAAAAAAAAAAAAAAAAAAB4gSiaEarjbU3TTEbqhmHY7fiPJrYBoToAAAAAAAAAAAAAAAAAAAAAAJgmimaE6nhL13XXJEl2i9R9SdN01trK89zDQ6gOAAAAAAAAAAAAAAAAAAAAAACeEEUzQnXMFhG6R5G6+H9E7LZS1/Xs9dW2rYeIUB0AAAAAAAAAAAAAAAAAAAAAAEwQRTNCdcyO1GVZdohIXYjjzV1feZ57kAjVAQAAAAAAAAAAAAAAAAAAAADABFE0I1THLI8idTFbR+q+pGk6e41dLhcPE6E6AAAAAAAAAAAAAAAAAAAAAAB4QBTNCNXxsrIsHz6z+GwveZ7PXmMRtxuGwUNFqA4AAAAAAAAAAAAAAAAAAAAAAGBnQnV/aaQupm3bXxWqO+0c1wOhOgAAAAAAAAAAAAAAAAAAAAAAgP8TqvtLI3Vpmu56fu+G6mKapvGAEaoDAAAAAAAAAAAAAAAAAAAAAADYkVDdLzMMwzXLspeeWdu2u51jkiRvh+pOYnUI1QEAAAAAAAAAAAAAAAAAAAAAAOxKqO4XiXjb3ABcVVW3cNxW+r5/OaT3bOq6vu0PhOoAAAAAAAAAAAAAAAAAAAAAAAC2JVR3YG3bXs/n8y0292n8rSiK275in0uH677OM8/zRQJ1P6csy9sxROsQqgMAAAAAAAAAAAAAAAAAAAAAANiGUN1BA3WnFYJv96brurXjXKsNCNUBAAAAAAAAAAAAAAAAAAAAAACsQxTsHw/VxbGE6kCoDgAAAAAAAAAAAAAAAAAAAAAA4DtRsAMahuEWkNti4ljvhPSOMCBUBwAAAAAAAAAAAAAAAAAAAAAAsA6hOgChOgAAAAAAAAAAAAAAAAAAAAAAgBGhOgChOgAAAAAAAAAAAAAAAAAAAAAAgBGhOgChOgAAAAAAAAAAAAAAAAAAAAAAgBGhOgChOgAAAAAAAAAAAAAAAAAAAAAAgBGhOgChOgAAAAAAAAAAAAAAAAAAAAAAgBGhOgChOgAAAAAAAAAAAAAAAAAAAAAAgBGhOgChOgAAAAAAAAAAAAAAAAAAAAAAgBGhOgChOgAAAAAAAAAAAAAAAAAAAAAAgBGhOgChOgAAAAAAAAAAAAAAAAAAAAAAgBGhOgChOgAAAAAAAAAAAAAAAAAAAAAAgBGhOgChOgAAAAAAAAAAAAAAAAAAAAAAgBGhOgChOgAAAAAAAAAAAAAAAAAAAAAAgBGhOgChOgAAAAAAAAAAAAAAAAAAAAAAgBGhOgChOgAAAAAAAAAAAAAAAAAAAAAAgBGhOgChOgAAAAAAAAAAAAAAAAAAAAAAgBGhOgChOgAAAAAAAAAAAAAAAAAAAAAAgBGhOgChOgAAAAAAAAAAAAAAAAAAAAAAgBGhOgChOgAAAAAAAAAAAAAAAAAAAAAAgBGhOgChOgAAAAAAAAAAAAAAAAAAAAAAgBGhOgChOgAAAAAAAAAAAAAAAAAAAAAAgBGhOgChOgAAAAAAAAAAAAAAAAAAAAAAgBGhOgChOgAAAAAAAAAAAAAAAAAAAAAAgBGhOgChOgAAAAAAAAAAAAAAAAAAAAAAgBGhOgChOgAAAAAAAAAAAAAAAAAAAAAAgBGhOgChOgAAAAAAAAAAAAAAAAAAAAAAgBGhOgChOgAAAAAAAAAAAAAAAAAAAAAAgBGhOgChOgAAAAAAAAAAAAAAAAAAAAAAgBGhOgChOgAAAAAAAAAAAAAAAAAAAAAAgBGhOgChOgAAAAAAAAAAAAAAAAAAAAAAgBGhOgChOgAAAAAAAAAAAAAAAAAAAAAAgBGhOgChOgAAAAAAAAAAAAAAAAAAAAAAgBGhOgChOgAAAAAAAAAAAAAAAAAAAAAAgBGhOgChOgAAAAAAAAAAAAAAAAAAAAAAgBGhOgChOgAAAAAAAAAAAAAAAAAAAAAAgBGhOgChOgAAAAAAAAAAAAAAAAAAAAAAgBGhOgChOgAAAAAAAAAAAAAAAAAAAAAAgBGhOgChOgAAAAAAAAAAAAAAAAAAAAAAgBGhOgChOgAAAAAAAAAAAAAAAAAAAAAAgBGhOgChOgAAAAAAAAAAAAAAAAAAAAAAgBGhOgChOgAAAAAAAAAAAAAAAAAAAAAAgBGhOgChOgAAAAAAAAAAAAAAAAAAAAAAgBGhOgChOgAAAAAAAAAAAAAAAAAAAAAAgBGhOgChOgAAAAAAAAAAAAAAAAAAAAAAgBGhOgChOgAAAAAAAAAAAAAAAAAAAAAAgBGhOgChOgAAAAAAAAAAAAAAAAAAAAAAgBGhOgChOgAAAAAAAAAAAAAAAAAAAAAAgBGhOgChOgAAAAAAAAAAAAAAAAAAAAAAgBGhOgChOgAAAAAAAAAAAAAAAAAAAAAAgBGhOgChOgAAAAAAAAAAAAAAAAAAAAAAgBGhOgChOgAAAAAAAAAAAAAAAAAAAAAAgBGhOgChOgAAAAAAAAAAAAAAAAAAAAAAgBGhOgChOgAAAAAAAAAAAAAAAAAAAAAAgBGhOgChOgAAAAAAAAAAAAAAAAAAAAAAgBGhOgChOgAAAAAAAAAAAAAAAAAAAAAAgBGhOgChOgAAAAAAAAAAAAAAAAAAAAAAgBGhOgChOgAAAAAAAAAAAAAAAAAAAAAAgBGhOgChOgAAAAAAAAAA4H/s3T2S4lYXBuATKCOmyqE2wAqUOmIJrIHyEtgD5TVYm2AVrGBCqhw7m6CtO6LHQ01Pmysk0M/zVL3hAD7o+0p16fMKAAAAAAAAAACAG4rqABTVAQAAAAAAAAAAAAAAAAAAAAAA3FBUB6CoDgAAAAAAAAAAAAAAAAAAAAAA4IaiOgBFdQAAAAAAAAAAAAAAAAAAAAAAADcU1QEoqgMAAAAAAAAAAAAAAAAAAAAAALjxJiIiTwkAAAAAAAAAAAAAAAAAAAAAAMBkKI8SEVFUBwAAAAAAAAAAAAAAAAAAAAAAcEN5lIiIojoAAAAAAAAAAAAAAAAAAAAAAIAbyqNERBTVAQAAAAAAAAAAAAAAAAAAAAAA3FAeJSKiqA4AAAAAAAAAAAAAAAAAAAAAAOCG8igREUV1AAAAAAAAAAAAAAAAAAAAAAAAN5RHiYgoqgMAAAAAAAAAAAAAAAAAAAAAALihPEpERFEdAAAAAAAAAAAAAAAAAAAAAADADeVRIiKK6gAAAAAAAAAAAAAAAAAAAAAAAG4ojxIRUVQHAAAAAAAAAAAAAAAAAAAAAABwQ3mUiIiiOgAAAAAAAAAAAAAAAAAAAAAAAAAAAAAAAAAAAAAAAAAAAAAAAAAAAAAAAAAAAAAAAAAAAAAAAAAAAAAAAAAAAAAAAAAAAAAAAAAAAAAAAAAAAAAAAAAAAAAAAAAAAAAAAAAAAAAAAAAAAAAAAAAAAAAAAAAAAAAAAAAAAAAAAAAAAAAAAAAAAAAAAAAAAAAAAAAAAAAAAAAAAAAAAAAAAAAAAAAAAAAAAAAAAAAAAAAAAAAAAAAAAAAAAAAAAAAAAAAAAAAAAAAAAAAAAAAAAAAAAAAAAAAAAAAAAAAAAAAAAAAAAAAAAAAAAAAAAAAAAAAAAAAAAAAAAAAAAAAAAAAAAAAAAAAAAAAAAAAAAAAAAAAAAAAAAAAAAAAAAAAAAAAAAAAAAAAAAAAAAAAAAAAAAAAAAAAAAAAAAAAAAAAAAAAAAAAAAAAAAAAAAAAAAAAAAAAAAAAAAAAAAAAAAAAAAAAAAAAAAAAAAAAAAAAAAAAAAAAAAAAAAAAAAAAAAAAAAAAAAAAAAAAAAAAAAAAAAAAAAAAAAAAAAAAAAAAAAAAAAAAAAAAAAAAAAAAAAAAAAAAAAAAAAAAAAAAAAAAAAAAAAAAAAAAAAAAAAAAAAAAAAAAAAAAAAAAAAAAAAAAAAAAAAAAAAAAAAAAAAAAAAAAAAAAAAAAAAAAAAAAAAAAAAAAAAAAAAAAAAAAAAAAAAAAAAAAAAAAAAAAAAAAAAAAAAAAAAAAAAAAAAAAAAAAAAAAAAAAAAAAAAAAAAAAAAAAAAAAAAAAAAAAAAAAAAAAAAAAAAAAAAAAAAAAAAAAAAAAAAAAAAAAAAAAAAAAAAAAAAAAAAJvmBnQAAIAASURBVAAAAAAAAAAAAAAAAAAAAAAAAAAAAAAAAAAAAAAAAAAAAAAAAAAAAAAAAAAAAAAAAAAAAAAAAAAAAAAAAAAAAAAAAAAAAAAAAAAAAAAAAAAAAAAAAAAAAAAAAAAAAAAAAAAAAAAAAAAAAAAAAAAAAAAAAAAAAAAAAAAAAAAAAAAAAAAAAAAAAAAAAAAAAAAAAAAAAAAAAAAAAAAAAAAAAAAAAAAAAAAAAAAAAAAAAAAAAAAAAAAAAAAAAAAAAAAAAAAAAAAAAAAAAAAAAAAAAAAAAAAAAAAAAAAAAAAAAAAAAAAAAAAAAAAAAAAAAAAAAAAAAAAAAAAAAAAAAAAAAAAAAAAAAAAAAAAAAAAAAAAAAAAAAAAAAAAAAAAAAAAAAAAAAAAAAAAAAAAAAAAAAAAAAAAAAAAAAAAAAAAAAAAAAAAAAAAAAAAAAAAAAAAAAAAAAAAAAAAAAAAAAAAAAAAAAAAAgCdYNynvyM6oAAAAAOBumyZV3Hf2BgAAAAAAAAAAAAAAAAAAo5LK594yAgAAAADcp477z91q4wIAAAAAAAAAAAAAAAAAYEwU1QEAAADAMBTVAQAAAAAAAAAAAAAAAAAwWYrqAAAAAGAYiuoAAAAAAAAAAAAAAAAAAJis3KK6wsgAAAAA4C6K6gAAAAAAAAAAAAAAAAAAmKwq8orqSiMDAAAAgLsoqgMAAAAAAAAAAAAAAAAAYLLKUFQHAAAAAEM4h6I6AAAAAAAAAAAAAAAAAAAmqgxFdQAAAAAwhJxzt51xAQAAAAAAAAAAAAAAAAAwJuuwMAsAAAAAQ3DuBgAAAAAAAAAAAAAAAADApFmYBQAAAIB+leHcDQAAAAAAAAAAAAAAAACAictZmK2NCwAAAAD+Vxl5526lkQEAAAAAAAAAAAAAAAAAMDapfE5RHQAAAAD0ZxeK6gAAAAAAAAAAAAAAAAAAmLicoro34wIAAACA/3UIZ24AAAAAAAAAAAAAAAAAAEzcLvKWZtdGBgAAAACfynk4xMW4AAAAAAAAAAAAAAAAAAAYoyryiuoqIwMAAACAT+Wct9XGBQAAAAAAAAAAAAAAAADAGJWRtzi7NzIAAAAA+KV1OG8DAAAAAAAAAAAAAAAAAGAmchZna+MCAAAAgF/aRt55W2VkAAAAAAAAAAAAAAAAAACM1SnylmcBAAAAgI8dIu+srTQyAAAAAAAAAAAAAAAAAADGyvIsAAAAAPTjHB4KAQAAAAAAAAAAAAAAAADATFSRtzy7NzIAAAAA+Mkq8s7ZaiMDAAAAAAAAAAAAAAAAAGDMchdoT0YGAAAAAD/ZRt45287IAAAAAAAAAAAAAAAAAAAYu3PkLdGujAwAAAAAbtSRd8ZWGhkAAAAAAAAAAAAAAAAAAGN3iLwl2q2RAQAAAMB3ReSdr70ZGQAAAAAAAAAAAAAAAAAAU1BF3hLtycgAAAAA4Lvc87WjkQEAAAAAAAAAAAAAAAAAMAVF5C3SpqyMDQAAAAC+qSPvbG1rZAAAAAAAAAAAAAAAAAAATEXuMu3OyAAAAADg2wMdPAQCAAAAAAAAAAAAAAAAAIDZ2kbeMu3ZyAAAAADg2wMdcs7VTkYGAAAAAAAAAAAAAAAAAMCUFJG3UJuyMTYAAAAAFi490CHnTG1rZAAAAAAAAAAAAAAAAAAATM0x8pZqj0YGAAAAwIKlBznkPvxhZWwAAAAAAAAAAAAAAAAAAExNFRZrAQAAAOBedeSdpdVGBgAAAAAAAAAAAAAAAADAFBVNLpG3XHswNgAAAAAWqIz8hz5UxgYAAAAAAAAAAAAAAAAAwFSl4rncBduVsQEAAACwMMfIO0O7GBkAAAAAAAAAAAAAAAAAAFO2jvyiuoOxAQAAALAgZeSfoe2NDQAAAAAAAAAAAAAAAACAqasjf9F2ZWwAAAAALITzMwAAAAAAAAAAAAAAAAAAFmkT+Yu2B2MDAAAAYAHKcHYGAAAAAAAAAAAAAAAAAMCCnSN/4XZtbAAAAADM3Cnyz81KYwMAAAAAAAAAAAAAAAAAYC6qyF+4rY0NAAAAgBnbhjMzAAAAAAAAAAAAAAAAAACIc+Qv3lbGBgAAAMAMFU0ukX9eVhodAAAAAAAAAAAAAAAAAABzk0rnchdv07JuYXQAAAAAzMwx8s/KamMDAAAAAAAAAAAAAAAAAGCuzpG/gHs0NgAAAABmZBP5Z2QppdEBAAAAAAAAAAAAAAAAADBXZXRbwt0YHQAAAAAzUDS5hIc5AAAAAAAAAAAAAAAAAADAT+rIX8RNy7srowMAAABg4lLhXJcHOTgbAwAAAAAAAAAAAAAAAABg9tJSbZdl3NroAAAAAJiwbXQ7F9sZHQAAAAAAAAAAAAAAAAAAS5GWay3lAgAAALAU6yaXyD8POzcpjA8AAAAAAAAAAAAAAAAAgKVIy7VpybZLWd3G+AAAAACYEGdhAAAAAAAAAAAAAAAAAACQoYxuy7mXJmvjAwAAAGAi6uh2DnY0OgAAAAAAAAAAAAAAAAAAlmof3ZZ0z00K4wMAAABg5A7R/WENzr8AAAAAAAAAAAAAAAAAAFistGybSue6LOuewrIuAAAAAOO1jW7nXikb4wMAAAAAAAAAAAAAAAAAYOnW0X1htzY+AAAAAEaoiu5nXnvjAwAAAAAAAAAAAAAAAACA1i66L+4ejA8AAACAEXmkpO5kfAAAAAAAAAAAAAAAAAAAcKsOZXUAAAAATNsjJXWXJmsjBAAAAAAAAAAAAAAAAACAW0WTcyirAwAAAGCaHimpS9kYIQAAAAAAAAAAAAAAAAAAfGzd5BLdl3nraAvvAAAAAOCZHi2p2xkhAAAAAAAAAAAAAAAAAAB87tGl3lMoqwMAAADgebbx2HnW0QgBAAAAAAAAAAAAAAAAAOA+j5bVnZusjREAAACAgR3CQxcAAAAAAAAAAAAAAAAAAOCpHl3yvTTZGCMAAAAAA0jlcqlkTkkdAAAAAAAAAAAAAAAAAAC8wKNldSk7YwQAAACgR+toH5Lw6EMWVkYJAAAAAAAAAAAAAAAAAADd9VFWVzcpjBIAAACAB23j8bOqVFK3NkoAAAAAAAAAAAAAAAAAAHhcH2V1aQF4Y5QAAAAAdLCK9mEISuoAAAAAAAAAAAAAAAAAAGBk+iirS9k3KYwTAAAAgDulhx+kgjkldQAAAAAAAAAAAAAAAAAAMFJ9ldWdo10wBgAAAIBfWTWpo5/zKCV1AAAAAAAAAAAAAAAAAAAwsL7K6lKO0S4cAwAAAMCPdtGWy/VxBnVqUhgpAAAAAAAAAAAAAAAAAAAMLy0Kv/WY9HqWhQEAAADYNDlHf+dOSuoAAAAAAAAAAAAAAAAAAODJqiaX6G9pOL3WNiwOAwAAACxR2aSOfh+OcDBWAAAAAAAAAAAAAAAAAAB4jXX0W1b3Xli3C4V1AAAAAEtQRv8FdSlbowUAAAAAAAAAAAAAAAAAgNdKhXJDLBO/F9atjBgAAABgdqoY7kypNF4AAAAAAAAAAAAAAAAAABiPVCr3NlAOYcEYAAAAYOrSAwnSGdI5hjlDOoWHHgAAAAAAAAAAAAAAAAAAwCiVTS4xXGFdWmJOy8wWjgEAAACmoWhSNTnGcGdGKTujBgAAAAAAAAAAAAAAAACAcUvLx0MvHqecmmxDaR0AAADA2DyrnO79wQalkQMAAAAAAAAAAAAAAAAAwHRsmlxi+GXk94Xkw/U9C6MHAAAAeLqyyS7ahwu8PSn7cBYEAAAAAAAAAAAAAAAAAACTlBaF08Lw25PzXly3jXZJ2sIyAAAAQH/WTapoz33qeP7ZTyrDK30NAAAAAABAhjcREXlaAAAAAAAAACBLGe0C8St/7L5EuzidCux20S5Tlz8EAAAAgIhV/Hdeson2HOW9kG4M5zs7XxEAAAAAANCB4igREUV1AAAAAAAAAIxcKoc7hx/eRURElph0D1Bfc4y2YCSlDKWx3Hovx9nGbTHOGMpxRERE5HVJDx8o3CoBAAAAAAAd+b1FRERRHQAAAAAAAAATkBaKU+HIJfwALyIiIh+X2aV7hU20hWXM+76wvH7fqXhGCZ2IiIh8lNp9IQAAAAAA0AO/u4iIKKoDAAAAAAAAYEIU1omIiMi95XWpxKwKBSVzuP9LBYT7UEonIiIi9xXUlW6hAAAAAACAnvj9RUREUR0AAAAAAAAAE6SwTkRERHKL61LRWek2ahLW13s9xXQiIiJybw7u9QAAAAAAgAH4HUZERFEdAAAAAAAAABNXhRITERERuT+p6DaV1q3dRo3K+vq9nF2jIiIiknFfl8ptV26lAAAAAACAgfhNRkREUR0AAAAAAAAAM5HKTQ7RLin7oV5ERETuSSpFU27yOkWTbSinExERkbzU0T64oHA7BQAAAAAADMxvMyIiiuoAAAAAAAAAmJm0pJyWlY/hx3oRERG5P+neoXQr9RRpzgfXnIiIiGREwTAAAAAAAPAKfqcREVFUBwAAAAAAAMCMKa0TERGR3Jyu9w/0L821do2JiIhIxn3ZvsnabRQAAAAAAPAifrMREVFUBwAAAAAAAMCCbKJdcE6Lzn7MFxERkc9yDoV1famu83RdiYiIyGe5RPuwgXTvsHILBQAAAAAAjIDfcEREFNUBAAAAAAAAsFBFtMV1uyZ1+GFfREREFNb1TUGdiIiIfJb0IIHD9Z5h7dYJAAAAAAAYIb/piIgoqgMAAAAAAACA71ZNymjL69KidCqwU64iIiIib9f7gtLt0l1K91AiIiJyzeV6H3W8nrekhwYopQMAAAAAAKYi67cRAG5l/v8oAAAAAAAAAExe+UO20S5Yi4iIyDDZR1tq8p6xlK2kMtvCbdGHUunvcUTf1emH6+fgf1MiIiKD58dzk5VbIwAAAAAAYAYU1QEoqgMAAAAAAAAAAGBCymtSGUoqRTvH8wvQLtGW1vKfXbymjC59F/X1/avrtaFIEAAAAAAAAADog6I6AEV1AAAAAAAAAAAATFwqJiujLStLpWXPKklL77Va+OzT3J9ZFnhqso+2lG7l0gcAAAAAAAAABqSoDkBRHQAAAAAAAAAAADOTius2TQ5NLjFscVp6/e1CZ7yP4Yvp0nyPoZgOAAAAAAAAAHg+RXUAiuoAAAAAAAAAAACYuWeU1qUytWIh81w3OcWwBXXv5XQAAAAAAAAAAK+iqA5AUR0AAAAAAAAAAAALkYrkUvnZUCVrqQivnPkMtzFcOd35+vqFSxUAAAAAAAAAGAFFdQCK6gAAAAAAAAAAAFigdZNDDFO4tp3hvFJ53HGgeaXvoXRJAgAAAAAAAAAjo6gOQFEdAAAAAAAAAAAAC7aKYQrr0msWM5lRKvU7DTSjlUsQAAAAAAAAABgpRXUAiuoAAAAAAAAAAABgkMK6VO429bK6qsklFNQBAAAAAAAAAMujqA5AUR0AAAAAAAAAAAB8lwrUjtFvWd16orOoQkEdAAAAAAAAALBciuoAFNUBAAAAAAAAAADAT8om5+inoO0S0yurO0S/ZX2lSwoAAAAAAAAAmBhFdQCK6gAAAAAAAAAAAOCXdrG8srpDj//NW5cQAAAAAAAAADBRiuoAFNUBAAAAAAAAAADAp1LB3CnmX1ZXRH8ldccmK5cOAAAAAAAAADBhiuoAFNUBAAAAAAAAAADAXfYx37K6VFLXVxlf5VIBAAAAAAAAAGZAUR2AojoAAAAAAAAAAAC4WxltGducyur6KqlLr7FyiQAAAAAAAAAAM6GoDkBRHQAAAAAAAAAAAGTpo9htTGV1h3i8pG7vsgAAAAAAAAAAZkZRHYCiOgAAAAAAAAAAAOjk0YK3MZTV9fHfULkUAAAAAAAAAIAZUlQHoKgOAAAAAAAAAAAAOtvGY0VvpybFiz77oyV153h90R4AAAAAAAAAwFAU1QEoqgMAAAAAAAAAAICHVPFY4Vs9wc/8yoI9AAAAAAAAAIBnUFQHoKgOAAAAAAAAAAAAHlY2uUT34rfDEz/royV1x1BSBwAAAAAAAADMn6I6AEV1AAAAAAAAAAAA0It1PFZWV03gMx58zQAAAAAAAADAQiiqA1BUBwAAAAAAAAAAAL15pAjucv33QymanEJJHQAAAAAAAADAPRTVASiqAwAAAAAAAAAAgF49UlaXiuSKgT7XMZTUAQAAAAAAAADcS1EdgKI6AAAAAAAAAAAA6F0V4yqF24aSOgAAAAAAAACAHIrqABTVAQAAAAAAAAAAwCAeKavb9Pg51g98jqOvEQAAAAAAAABYKEV1AIrqAAAAAAAAAAAAYDD76FYQd2lS9PD+6TVOHT/DqafPAAAAAAAAAAAwRYrqABTVAQAAAAAAAAAAwKCO0a0o7tjDe3ctyjuHkjoAAAAAAAAAYNkU1QEoqgMAAAAAAAAAAIBBpcK3U3QrjCsfeN+y43temqx9bQAAAAAAAADAwimqA1BUBwAAAAAAAAAAAINLxW+pAC73j+/O0RbddXGObkV1la8LAAAAAAAAAEBRHYCiOgAAAAAAAAAAAHiOVADXpThu1+G9dh3fa+9rAgAAAAAAAAD4RlEdgKI6AAAAAAAAAAAAeJpjdCuQW2W8x6rje5x8PQAAAAAAAAAA3ymqA1BUBwAAAAAAAAAAAE9TNDlHfoncIeM9upThXSKvDA8AAAAAAAAAYO4U1QEoqgMAAAAAAAAAAICnKiO/SO7t+u+Geu3K1wIAAAAAAAAAcENRHYCiOgAAAAAAAAAAAHi6Q+SXydV3vO65w+sefR0AAAAAAAAAAD9RVAegqA4AAAAAAAAAAACermhyifxSufKT16w6vF76DCtfBwAAAAAAAADATxTVASiqAwAAAAAAAAAAgJfoUixXf/J65w6vt/U1AAAAAAAAAAB8SFEdgKI6AAAAAAAAAAAAeJlT5JfLlR+8TpfSu5PxAwAAAAAAAAD8kqI6AEV1AAAAAAAAAAAA8DJl5BfM1R+8zjn6KbwDAAAAAAAAAKClqA5AUR0AAAAAAAAAAAC8VCqey/2jvNUP/77q8O8Pxg4AAAAAAAAA8ClFdQCK6gAAAAAAAAAAAOCl1vFY0dyjRXcAAAAAAAAAAPxMUR2AojoAAAAAAAAAAAB4udyyuUuTokkZj5XcAQAAAAAAAADwMUV1AIrqAAAAAAAAAAAA4OXKyC+cq6Itncv9dyvjBgAAAAAAAAD4X4rqmIwvX77clX/++cewUFQHAAAAAAAAAAAAE1RH3h/mnSK/pO5gzAAAAAAAAAAAd1FUx+h9/fr17Y8//rj7Ov3rr78MDUV1AAAAAAAAAAAAMEGbyC+ey83KmAEAAAAAAAAA7qKojlH78uXL22+//ZZ1nSqqQ1EdAAAAAAAAAAAATNc5hiupOxgvAAAAAAAAAMDdFNUxSl+/fn37888/O/0NkaI6FNUBAAAAAAAAAADAdG1juKK60ngBAAAAAAAAAO6mqI7R+fvvv99+//33zn9DpKgORXUAAAAAAAAAAAD/snf/uG2jTQCHWaRzvQBLXyC6gFtVuQF9hoWOECBHMHQG+Qaq3OoCqwuoDMBaHQt+sBF8CBe72fCfZkg9DzBNkLB4PXA1+AWW61MxT6TuL08LAAAAAAAAANCLUB2pHI/H0XdEQnUI1QEAAAAAAAAAAMCyvRTTh+q+eFYAAAAAAAAAgF6E6kjher22VVVNckckVIdQHQAAAAAAAAAAACzb52L6UN0nzwoAAAAAAAAA0ItQHeHO53NbluVkd0RCdQjVAQAAAAAAAAAAwPJ9L6aL1L14TgAAAAAAAACA3oTqCNM0Tfvt27ep/7NLoTqE6gAAAAAAAAAAAGAFvhbTHZg+eU4AAAAAAAAAgN6E6ghR13W72Wwmj9QVQnUI1QEAAAAAAAAAAMAqfC6mOS797ikBAAAAAAAAAAYRquPm3kNyxQyBukKoDqE6AAAAAAAAAAAAWJUpjktfPCMAAAAAAAAAwCBCddzM9Xptt9vtrJG6QqgOoToAAAAAAAAAAABYjddi/HHpk2cEAAAAAAAAABhEqI6bOJ1ObVmWg+6Ddrtdu9/vheoQqgMAAAAAAAAAAIA786UYH6p78IwAAAAAAAAAAIMI1TGrpmk+QnPFgLug97Dd8Xj8+M57fK4QqkOoDgAAAAAAAAAAAO7KH8W4SN2bJwQAAAAAAAAAGEyojtlcLpeP2Fwx4C6oqqr2er3+/1tCdQjVAQAAAAAAAAAAwH0aE6r70/MBAAAAAAAAAAwmVEeWgNcvQ3NCdQjVAQAAAAAAAAAAwH16LYaH6p48HwAAAAAAAADAYEJ1pAnVbbfbtq7rf/yWUB1CdQAAAAAAAAAAAHCfnovhoboHzwcAAAAAAAAAMJhQHSkCXvv9vm2a5l+/JVSHUB0AAAAAAAAAAADcp8/FsEjdd08HAAAAAAAAADCKUB2hAa+yLNvL5fKf3xKqQ6gOAAAAAAAAAAAA7tMfxbBQ3aunAwAAAAAAAAAYRaiOsIDXbrdrm6b5rW8J1SFUBwAAAAAAAAAAAPdrSKju2bMBAAAAAAAAAIwiVMfNA15lWbbn87nXt4TqEKoDAAAAAAAAAACA+/VW9A/VPXk2AAAAAAAAAIBRhOq4acCrqqr2er32/pZQHUJ1AAAAAAAAAAAAcL9ei/6hukfPBgAAAAAAAAAwilAdNwt4HY/Hwd8SqkOoDgAAAAAAAAAAAO7Xc9E/VPfJswEAAAAAAAAAjCJUx+wBr+1229Z1PepbQnUI1QEAAAAAAAAAAMD9GhKqAwAAAAAAAABgHKE6Zg14TRWNE6pDqA4AAAAAAAAAAADu12PR72DvzZMBAAAAAAAAAIwmVMds6rqe7FtCdQjVAQAAAAAAAAAAwP16LPod7L16MgAAAAAAAACA0YTqWAShOoTqAAAAAAAAAAAA4H49FkJ1AAAAAAAAAAC3JlSHUB0I1QEAAAAAAAAAAEBqD0W/g72vngwAAAAAAAAAYDShOoTqQKgOAAAAAAAAAAAA0utzsPfsuQAAAAAAAAAARhOqQ6gOhOoAAAAAAAAAAAAgPaE6AAAAAAAAAIDbEqpDqA6E6gAAAAAAAAAAACA9oToAAAAAAAAAgNsSqkOoDoTqAAAAAAAAAAAAIL3XHvPkuQAAAAAAAAAARhOqQ6gOhOoAAAAAAAAAAAAAAAAAAAAAAAA6hOoQqgOhOgAAAAAAAAAAAAAAAAAAAAAAgA6hOoTqQKgOAAAAAAAAAAAAAAAAAAAAAACgQ6gOoToQqgMAAAAAAAAAAAAAAAAAAAAAAOgQqkOoDoTqAAAAAAAAAAAAAAAAAAAAAAAAOoTqEKoDoToAAAAAAAAAAAAAAAAAAAAAAIAOoTqE6kCoDgAAAAAAAAAAAAAAAAAAAAAAoEOoDqE6EKoDAAAAAAAAAAAAAAAAAAAAAADoEKpDqA6E6gAAAAAAAAAAAAAAAAAAAAAAADqE6hCqA6E6AAAAAAAAAAAAAAAAAAAAAACADqE6hOpAqA4AAAAAAAAAAAAAAAAAAAAAAKBDqA6hOhCqAwAAAAAAAAAAAAAAAAAAAAAA6BCqQ6gOhOoAAAAAAAAAAAAAAAAAAAAAAAA6hOoQqgOhOgAAAAAAAAAAAAAAAAAAAAAAgA6hOoTqQKgOAAAAAAAAAAAAAAAAAAAAAACgQ6gOoToQqgMAAAAAAAAAAAAAAAAAAAAAAOgQqkOoDoTqAAAAAAAAAAAAAAAAAAAAAAAAOoTqEKoDoToAAAAAAAAAAAAAAAAAAAAAAIAOoTqE6kCoDgAAAAAAAAAAAAAAAAAAAAAAoEOoDqE6EKoDAAAAAAAAAAAAAAAAAAAAAADoEKpDqA6E6gAAAAAAAAAAAAAAAAAAAAAAADqE6hCqA6E6AAAAAAAAAAAAAAAAAAAAAACADqE6hOpAqA4AAAAAAAAAAAAAAAAAAAAAAKBDqA6hOhCqAwAAAAAAAAAAAAAAAAAAAAAA6BCqQ6gOhOoAAAAAAAAAAAAAAAAAAAAAAAA6hOoQqgOhOgAAAAAAAAAAAAAAAAAAAAAAgA6hOoTqQKgOAAAAAAAAAAAAAAAAAAAAAACgQ6iO1Yfq+u65McaYUQMAAAAAAAAAAAAAAAAAAAAAwAoI1SFUZ4wxRqgOAAAAAAAAAAAAAAAAAAAAAIAOoTqE6owxxgjVAQAAAAAAAAAAAAAAAAAAAADQIVSHUJ0xxhihOgAAAAAAAAAAAAAAAAAAAAAAOoTqEKozxhgjVAcAAAAAAAAAAAAAAAAAAAAAQIdQHUJ1xhhjhOoAAAAAAAAAAAAAAAAAAAAAAOgQqkOozhhjjFAdAAAAAAAAAAAAAAAAAAAAAAAdQnUI1RljjBGqAwAAAAAAAAAAAAAAAAAAAACgQ6gOoTpjjDFCdQAAAAAAAAAAAAAAAAAAAAAAdAjVIVRnjDFGqA4AAAAAAAAAAAAAAAAAAAAAgA6hOoTqjDHGCNUBAAAAAAAAAADpOF4CAAAAAAAAAIglVIdQnR0H+KXCrScAAAAAAAAAABDA8RIAAAAAAAAAQCwRL4Tq7DiAUB0AAAAAAAAAAJCO4yUAAAAAAAAAgFgiXgjV2XEAoToAAAAAAAAAACAdx0sAAAAAAAAAALFEvBCqs+MAQnUAAAAAAAAAAEA6jpcAAAAAAAAAAGKJeCFUZ8cBhOoAAAAAAAAAAIB0HC8BAAAAAAAAAMQS8UKozo4DCNUBAAAAAAAAAADpOF4CAAAAAAAAAIgl4oVQnR0HEKoDAAAAAAAAAADScbwEAAAAAAAAABBLxItJnU6nj1Dc1FNV1W/v6fvf/fnf2nEAoToAAAAAAAAAAGB5HC8BAAAAAAAAAMQS8WJSfYJyGQcAoToAAAAAAAAAACAHx0sAAAAAAAAAALFEvBCqs+MAQnUAAAAAAAAAAEA6jpcAAAAAAAAAAGKJeCFUZ8cBhOoAAAAAAAAAAIB0HC8BAAAAAAAAAMQS8UKozo4DCNUBAAAAAAAAAADpOF4CAAAAAAAAAIgl4oVQnR0HEKoDAAAAAAAAAADScbwEAAAAAAAAABBLxAuhOjsOIFQHAAAAAAAAAACk43gJAAAAAAAAACCWiBdCdXYcQKgOAAAAAAAAAABIx/ESAAAAAAAAAEAsES+E6uw4gFAdAAAAAAAAAACQjuMlAAAAAAAAAIBYIl4I1dlxAKE6AAAAAAAAAAAgHcdLAAAAAAAAAACxRLyYVF3X7eVySTV2HECoDgAAAAAAAAAAWB7HSwAAAAAAAAAAsUS8EFiy4wBCdQAAAAAAAAAAQDqOlwAAAAAAAAAAYol4IbBkxwGE6gAAAAAAAAAAgHQcLwEAAAAAAAAAxBLxQmDJjgMI1QEAAAAAAAAAAOk4XgIAAAAAAAAAiCXihcCSHQcQqgMAAAAAAAAAANJxvAQAAAAAAAAAEEvEC4ElOw4gVAcAAAAAAAAAAKTjeAkAAAAAAAAAIJaIFwJLdhxAqA4AAAAAAAAAAEjH8RIAAAAAAAAAQCwRLwSW7DiAUB0AAAAAAAAAAJCO4yUAAAAAAAAAgFgiXggs2XEAoToAAAAAAAAAACAdx0sAAAAAAAAAALFEvBBYsuMAQnUAAAAAAAAAAEA6jpcAAAAAAAAAAGKJeCGwZMcBhOoAAAAAAAAAAIB0HC8BAAAAAAAAAMQS8UJgyY4DCNUBAAAAAAAAAADpOF4CAAAAAAAAAIgl4oXAkh0HEKoDAAAAAAAAAADScbwEAAAAAAAAABBLxAuBJTsOIFQHAAAAAAAAAACk43gJAAAAAAAAACCWiBcCS3YcQKgOAAAAAAAAAABIx/ESAAAAAAAAAEAsES8Eluw4gFAdAAAAAAAAAACQjuMlAAAAAAAAAIBYIl4ILNlxAKE6AAAAAAAAAAAgHcdLAAAAAAAAAACxRLwQWLLjAEJ1AAAAAAAAAABAOo6XAAAAAAAAAABiiXghsGTHAYTqAAAAAAAAAACAdBwvAQAAAAAAAADEEvFCYMmOAwjVAQAAAAAAAAAA6TheAgAAAAAAAACIJeKFwJIdBxCqAwAAAAAAAAAA0nG8BAAAAAAAAAAQS8QLgSU7DiBUBwAAAAAAAAAApON4CQAAAAAAAAAglogXAkt2HECoDgAAAAAAAAAASMfxEgAAAAAAAABALBEvBJbsOIBQHQAAAAAAAAAAkI7jJQAAAAAAAACAWCJeCCzZcQChOgAAAAAAAAAAIB3HSwAAAAAAAAAAsUS8EFiy4wBCdQAAAAAAAAAAQDqOlwAAAAAAAAAAYol4IbBkx1mZpmna/X7fVlX1WwNCdQAAAAAAAAAAQEaOlwAAAAAAAAAAYol4IbBkx1mRuq7bzWZj7xGqAwAAAAAAAAAAFs/xEgAAAAAAAABALDEjBJbsOCtxOBz63uTZe4TqAAAAAAAAAACAtBwvAQAAAAAAAADEEjNCYMmOs3DX67XdbreDInX2HqE6AAAAAAAAAAAgK8dLAAAAAAAAAACxxIwQWLLjLNjpdGrLshwcqbP3CNUBAAAAAAAAAABZOV4CAAAAAAAAAIglZoTAkh1ngZqmaXe73ahAnb1HqA4AAAAAAAAAAMjM8RIAAAAAAAAAQCwxIwSW7DgLc7lc2rIsJ4nU2XuE6gAAAAAAAAAAgKwcLwEAAAAAAAAAxBIzQmDJjrMg+/1+skCdvUeoDgAAAAAAAAAAyMzxEgAAAAAAAABALDEjBJbsOAtQ13W73W4nj9TZe4TqAAAAAAAAAACArBwvAQAAAAAAAADEEjNCYMmOk9zxeJwlUGfvEaoDAAAAAAAAAAAyc7wEAAAAAAAAABBLzAiBJTtOUk3TtFVVzRqps/cI1QEAAAAAAAAAAFk5XgIAAAAAAAAAiCVmhMCSHSeh8/nclmU5KDy32WzsPUJ1AAAAAAAAAADA4jleAgAAAAAAAACIJWaEwJIdJ5Gmadr9fj8oUPc+h8OhvVwu9h6hOgAAAAAAAAAAYPEcLwEAAAAAAAAAxBIzQmDJjpNEXdftZrMZFKjbbrcf//6dUB1CdQAAAAAAAAAAwBo4XgIAAAAAAAAAiCVmhMCSHSeB8/k8KFD3Pvv9vvMtoTqE6gAAAAAAAAAAgDVwvAQAAAAAAAAAEEvMCIElO04Ch8Ohd6Bus9l8ROn+TqgOoToAAAAAAAAAAGANHC8BAAAAAAAAAMQSM0JgyY6zwFDdbrdrm6b5x28J1SFUBwAAAAAAAAAArIHjJQAAAAAAAACAWGJGCCzZcRYUqivLsj2fz7/8llAdQnUAAAAAAAAAAMAaOF4CAAAAAAAAAIglZoTAkh1nIaG6qqrapmn+81tCdQjVAQAAAAAAAAAAa+B4CQAAAAAAAAAglpgRAkt2nOShurIs2+Px+NvfEqpDqA4AAAAAAAAAAFgDx0sAAAAAAAAAALHEjBBYsuMkDtVtt9u2rute3xKqQ6gOAAAAAAAAAABYA8dLAAAAAAAAAACxxIwQWLLjJA3Vvf/ZEEJ1CNUBAAAAAAAAAABr4HgJAAAAAAAAACCWmBECS3acZKG6zWbzEZsbSqgOoToAAAAAAAAAAGANHC8BAAAAAAAAAMQSM0JgyY6TKFS33+/bpmlGfUuoDqE6AAAAAAAAAABgDRwvAQAAAAAAAADEEjNCYMmOk8DpdGrP5/Mk3xKqQ6gOAAAAAAAAAABYA8dLAAAAAAAAAACxxIwQWLLjrIxQHUJ1AAAAAAAAAADAGjheAgAAAAAAAACIJWaEwJIdR6gOhOoAAAAAAAAAAIB0HC8BAAAAAAAAAMQSM0JgyY4jVAdCdQAAAAAAAAAAQDqOlwAAAAAAAAAAYokZIbBkxxGqA6E6AAAAAAAAAAAgHcdLAAAAAAAAAACxxIwQWLLjCNWBUB0AAAAAAAAAAJCO4yUAAAAAAAAAgFhiRggs2XGE6kCoDgAAAAAAAAAASMfxEgAAAAAAAABALDEjBJbsOEJ1IFQHAAAAAAAAAACk43gJAAAAAAAAACCWmBECS3YcoToQqgMAAAAAAAAAANJxvAQAAAAAAAAAEEvMCIElO45QHQjVAQAAAAAAAAAA6TheAgAAAAAAAACIJWaEwJIdR6gOhOoAAAAAAAAAAIB0HC8BAAAAAAAAAMQSM0JgyY4jVAdCdQAAAAAAAAAAQDqOlwAAAAAAAAAAYokZIbBkxxGqA6E6AAAAAAAAAAAgHcdLAAAAAAAAAACxxIwQWLLjCNWBUB0AAAAAAAAAAJCO4yUAAAAAAAAAgFhiRggs2XGE6kCoDgAAAAAAAAAASMfxEgAAAAAAAABALDEjBJbsOEJ1IFQHAAAAAAAAAACk43gJAAAAAAAAACCWmBECS3YcoToQqgMAAAAAAAAAANJxvAQAAAAAAAAAEEvMCIElO45QHQjVAQAAAAAAAAAA6TheAgAAAAAAAACIJWaEwJIdR6gOhOoAAAAAAAAAAIB0HC8BAAAAAAAAAMQSM0JgyY4jVAdCdQAAAAAAAAAAQDqOlwAAAAAAAAAAYokZIbBkxxGqA6E6AAAAAAAAAAAgHcdLAAAAAAAAAACxxIwQWLLjCNWBUB0AAAAAAAAAAJCO4yUAAAAAAAAAgFhiRggs2XGE6kCoDgAAAAAAAAAASMfxEgAAAAAAAABALDEjBJbsOEJ1IFQHAAAAAAAAAACk43gJAAAAAAAAACCWmBECS3Z8FU6nU1tVVcjUdS1Uh9+jbj0BAAAAAAAAAICJOV4CAAAAAAAAAIglZoTAkh1fhcPh0PcebbJ5D8MJ1eH3qFtPAAAAAAAAAABgWo6XAAAAAAAAAABiiRkhsGTHheqE6kCoDgAAAAAAAAAASMfxEgAAAAAAAABALDEjBJbsuFCdUB0I1QEAAAAAAAAAAOk4XgIAAAAAAAAAiCVmhMCSHReqE6oDoToAAAAAAAAAACAdx0sAAAAAAAAAALHEjBBYsuNCdUJ1IFQHAAAAAAAAAACk43gJAAAAAAAAACCWmBECS3ZcqE6oDoTqAAAAAAAAAACAdBwvAQAAAAAAAADEEjNCYMmOC9UJ1YFQHQAAAAAAAAAAkI7jJQAAAAAAAACAWGJGCCzZcaE6oToQqgMAAAAAAAAAANJxvAQAAAAAAAAAEEvMCIElOy5UJ1QHQnUAAAAAAAAAAEA6jpcAAAAAAAAAAGK1xhjBrjW4Xq8fgbaIaZpGqA6hOreeAAAAAAAAAADAxBwvAQAAAAAAAADEEiczRrCLlRGqQ6gOAAAAAAAAAABYA8dLAAAAAAAAAACxxMmMEexCqA6E6gAAAAAAAAAAgHQcLwEAAAAAAAAAxBInM0awC6E6EKoDAAAAAAAAAADScbwEAAAAAAAAABBLnMwYwS6E6kCoDgAAAAAAAAAASMfxEgAAAAAAAABALHEyYwS7EKoDoToAAAAAAAAAACAdx0sAAAAAAAAAALHEyYwR7EKoDoTqAAAAAAAAAACAdBwvAQAAAAAAAADEEiczRrALoToQqgMAAAAAAAAAANJxvAQAAAAAAAAAEEuczBjBLoTqQKgOAAAAAAAAAABIx/ESAAAAAAAAAEAscTJjBLsQqgOhOgAAAAAAAAAAIB3HSwAAAAAAAAAAscTJjBHsQqgOhOoAAAAAAAAAAIB0HC8BAAAAAAAAAMQSJzNGsAuhOhCqAwAAAAAAAAAA0nG8BAAAAAAAAAAAzE2wC6E6e49QHQAAAAAAAAAAsDCOlwAAAAAAAAAAgLkJdiFUZ+8RqgMAAAAAAAAAABbG8RIAAAAAAAAAADA3wS6E6uw9QnUAAAAAAAAAAMDCOF4CAAAAAAAAAADmJtiFUJ29R6gOAAAAAAAAAABYGMdLAAAAAAAAAADA3AS7EKqz9wjVAQAAAAAAAAAAC+N4CQAAAAAAAAAAmJtgF0J19h6hOgAAAAAAAAAAYGEcLwEAAAAAAAAAAHMT7EKozt4jVAcAAAAAAAAAACyM4yUAAAAAAAAAAGBugl1kCXgZY4wZNwAAAAAAAAAA3BHHJQAAAAAAAAAAwNyE6hCqM8YYoToAAAAAAAAAABbGcQkAAAAAAAAAADA3oTqE6owxRqgOAAAAAAAAAICFcVwCAAAAAAAAAADMTagOoTpjjBGqAwAAAAAAAABgYRyXAAAAAAAAAAAAcxOqQ6jOGGOE6gAAAAAAAAAAWBjHJQAAAAAAAAAAwNyE6hCqM8YYoToAAAAAAAAAABbGcQkAAAAAAAAAADA3oTqE6owxRqgOAAAAAAAAAIBEnn9j+h6XPPeYRz8CAAAAAAAAAACgEKpDqM4YY4TqAAAAAAAAAABI5a2IPUR58CMAAAAAAAAAAAAKoTqE6owxRqgOAAAAAAAAAIBU/izijlDePD8AAAAAAAAAAPCDUB1CdcYYI1QHAAAAAAAAAEAij0XcEcoXzw8AAAAAAAAAAPwgVIdQnTHGCNUBAAAAAAAAAJDM9yLmCOXB0wMAAAAAAAAAAD8I1ZEiVAfA6NgnAAAAAAAAAAAr8lLcPlL34tkBAAAAAAAAAICfCIkhVAcgVAcAAAAAAAAAQDJPxe1DdU+eHQAAAAAAAAAA+ImQGEJ1AEJ1AAAAAAAAAAAk81DcPlT3ybMDAAAAAAAAAAA/ERJDqA5AqA4AAAAAAAAAgITeittF6r56bgAAAAAAAAAA4G+ExBCqg/+xc8e2bbNbGIBZpHMdgKUXiBZwyyobaAdDIwTICIZm0Aiu3HqBaAGVBlSrY8ELJfjvvX9sx0cklfORfB7glHFBEMH7fS91wKI6AAAAAAAAAAAKdF/9vUV1XzxuAAAAAAAAAADgNxaJYVEdgEV1AAAAAAAAAAAU6Lb6O0vqXjxqAAAAAAAAAADgDRaJYVEdgEV1AAAAAAAAAAAU6rxE7tqL6r55zAAAAAAAAAAAwBssEsOiOgCL6gAAAAAAAAAAKNRDdf1FdZ89ZgAAAAAAAAAA4A0WiWFRHYBFdQAAAAAAAAAAFOquuu6Suh8eMQAAAAAAAAAA8A6LxLCoDsCiOgAAAAAAAAAACnVTXXdR3b1HDAAAAAAAAAAAvMMiMSyqA7CoDgAAAAAAAACAgj1V11tUd+PxAgAAAAAAAAAA77BIDIvqACyqAwAAAAAAAACgYPfVdZbUPXm0AAAAAAAAAADAH1gkhkV1ABbVAQAAAAAAAABQsNvqOovqvnq0AAAAAAAAAADAH1gkhkV1ABbVAQAAAAAAAABQuJdq/EV1Nx4rAAAAAAAAAADwBxaJYVEdgEV1AAAAAAAAAAAU7qEad0ndg0cKAAAAAAAAAAB8wCIxLKoDsKgOAAAAAAAAAIDC3VXjLqq780gBAAAAAAAAAIAPWCSGRXUAFtUBAAAAAAAAAFC4m2rcRXWfPFIAAAAAAAAAAOADFolhUR2ARXUAAAAAAAAAAEzAUzXOkrpvHiUAAAAAAAAAABBgkRgW1QFYVAcAAAAAAAAAwATcV+MsqvviUQIAAAAAAAAAAAEWiWFRHYBFdQAAAAAAAAAATMBtNXxJ3YvHCAAAAAAAAAAABFkkhkV1ABbVAQAAAAAAAAAwEedFc0MW1X3zCAEAAAAAAAAAgCCLxLCoDsCiOgAAAAAAAAAAJuKhGrao7rNHCAAAAAAAAAAABFkkhkV1ABbVAQAAAAAAAAAwEXdV/yV1Pzw+AAAAAAAAAADgAhaJYVEdgEV1AAAAAAAAAABMxE3Vf1HdvccHAAAAAAAAAABcwCIxLKoDsKgOAAAAAAAAAIAJear6Laq78egAAAAAAAAAAIALWCSGRXUAFtUBAAAAAAAAADAh99XlH5c8eWwAAAAAAAAAAMCFLBLDojoAi+oAAAAAAAAAAJiQ2+ryj0u+emwAAAAAAAAAAMCFLBLDojoAi+oAAAAAAAAAAJiYl+qyj0tuPDIAAAAAAAAAAOBCFolhUR2ARXUAAAAAAAAAAEzMQxX/sOTB4wIAAAAAAAAAAHqwSAyL6gAsqgMAAAAAAAAAYGLuqviHJXceFwAAAAAAAAAA0INFYlhUB2BRHQAAAAAAAAAAE3NTxT8s+eRxAQAAAAAAAAAAPVgkhkV1ABbVAQAAAAAAAAAwQU/Vxx+VfPOYAAAAAAAAAACAniwSw6I6AIvqAAAAAAAAAACYoPvq449KvnhMAAAAAAAAAABATxaJYVEdgEV1AAAAAAAAAABM0G315w9KXjwiAAAAAAAAAABgAIvEsKgOwKI6AAAAAAAAAAAm6ryM7r0PSr55PAAAAAAAAAAAwAAWiWFRHYBFdQAAAAAAAAAATNRD9f4HJZ89HgAAAAAAAAAAYACLxLCoDsCiOgAAAAAAAAAAJuquevtjkh8eDQAAAAAAAAAAMJBFYlhUB2BRHQAAAAAAAAAAE3VTvf0xyb1HAwAAAAAAAAAADGSRGBbVAVhUBwAAAAAAAADAhD1Vrz8mufFYAAAAAAAAAACAgSwSw6I6AIvqAAAAAAAAAACYsPvq3x+SPHkkAAAAAAAAAADACCwSw6I6AIvqAAAAAAAAAACYsNvq3x+SfPVIAAAAAAAAAACAEVgkhkV1ABbVAQAAAAAAAAAwcS/V/z4kufE4AAAAAAAAAACAEVgkhkV1ABbVAQAAAAAAAAAwcQ/Vr49IHjwKAAAAAAAAAABgJBaJYVEdi7ff77vdbhcasKgOAAAAAAAAAIAS3VW/PiK58ygAAAAAAAAAAICRWCSGRXUsVtu23Xa79a5iUR0AAAAAAAAAAJN3U/36iOSTRwEAAAAAAAAAAIzEciYsqmORjsdj1zTNxcvAwKI6AAAAAAAAAABK9dUjAAAAAAAAAAAARmQ5ExbVsTi73a7PEjDvKhbVAQAAAAAAAAAAAAAAAAAAAACwGJYzYVEdi3E6nbr1et17SZ13FYvqAAAAAAAAAAAAAAAAAAAAAABYCsuZsKiORdjv911d14OW1HlXsagOAAAAAAAAAAAAAAAAAAAAAIClsJwJi+qYtbZtu81mM3hBnXcVi+oAAAAAAAAAAAAAAAAAAAAAAFgSy5mwqI7ZOhwO3Wq1Gm1JnXcVi+oAAAAAAAAAAAAAAAAAAAAAAFgKy5mwqI5Z2u12oy6o865iUR0AAAAAAAAAAAAAAAAAAAAAAEtiORMW1TErp9Opa5rmKkvqvKtYVAcAAAAAAAAAAAAAAAAAAAAAwFJYzoRFdczG4+NjV9f11ZbUeVexqA4AAAAAAAAAAAAAAAAAAAAAgKWwnAmL6pi8tm27zWbTa/HcpYvtwKI6AAAAAAAAAAAAAAAAAAAAAACWwHImLKpj0g6Hw8XL5v6Zpmm60+nkXcWiOgAAAAAAAAAAAAAAAAAAAAAA+I3lTFhUxyS1bdttt9teC+rOs9vtvKtYVAcAAAAAAAAAAAAAAAAAAAAAAO+wnAmL6pic4/HYNU3Ta0Hd+d+d/713FYvqAAAAAAAAAAAAAAAAAAAAAADgfZYzYVEdk7Pb7Xotqdtut13btt5VLKoDAAAAAAAAAAAAAAAAAAAAAIAPWM6ERXXMflFdXdfd4XDwrmJRHQAAAAAAAAAAAAAAAAAAAAAABFnOhEV1zHpR3Waz6dq29a5iUR0AAAAAAAAAAAAAAAAAAAAAAFzAciYsqmOWi+rquu6en5+9q1hUBwAAAAAAAAAAAAAAAAAAAAAAPVjOhEV1zG5R3Xq97k6nk3cVi+oAAAAAAAAAAAAAAAAAAAAAAKAny5mwqI5ZLap7fHz0rmJRHQAAAAAAAAAAAMACdcYYY4wxJm0AAAAAgHmynAmL6pjForqmabrj8ehdxaI6AAAAAAAAAAAAgIWyIMYYY4wxxqI6AAAAAGBcljNhUR2TX1S33W69q1hUBwAAAMCHfBRujDHGGGMUcThLGGOMMcbI48jvxhhjjDFGfgcAAAAA4ixnwqI6JruobrVadYfDwbuKRXX6PAAAAIAQH4UbY4wxxhhFHM4SxhhjjDHyOPK7McYYY4yR3wEAAACAOMuZsKiOSS6q+/79e9e2rXcV/4fq8wAAAADCfBRujDHGGGMUcThLGGOMMcbI48jvxhhjjDFGfgcAAAAA4ixnwqI6vKveVSyqAwAAAFgEH4UbY4wxxhhFHM4SxhhjjDHyOPK7McYYY4yR3wEAAACAOMuZsPwL76p3FYvqAAAAABbBR+HGGGOMMUYRh7OEMcYYY4w8jvxujDHGGGPkdwAAAAAgznImLP/Cu+pdxaI6AAAAgEXwUbgxxhhjjFHE4SxhjDHGGCOPI78bY4wxxhj5HQAAAACIs5wJy7/wrnpXsagOAAAAYBF8FG6MMcYYYxRxOEsYY4wxxsjjyO/GGGOMMUZ+BwAAAADiLGfC8i+8q95VLKoDAAAAWAQfhRtjjDHGGEUczhLGGGOMMfI48rsxxhhjjJHfAQAAAIA4y5mw/AvvqncVi+oAAAAAFsFH4cYYY4wxRhGHs4QxxhhjjDyO/G6MMcYYY+R3AAAAACDOciYs/8K76l3FojoAAACARfBRuDHGGGOMUcThLGGMMcYYI48jv/soGADgOj9uAQAAAADmSQ+L5V94V72rTL/L0+cBAAAABPhRpzHGGGOMUcThLGGMMcYYI48jv/soGADgOj9uAQAAAADmSQ+L5V94V72rTL/L0+cBAAAABLgIBACgTxkHzhIAAPI48jsAgPwuvwMAAADAUulhKeIeGryrMKjL0+cBAAAABLgIBACgTxkHzhIAAPI48jsAgPwuvwMAAADAUulhKeIeGryrMKjL0+cBAAAABLgIBACgTxkHzhIAAPI48jsAgPwuvwMAAADAUulhKeIeGryrMKjL0+cBAAAABLgIBACgTxkHzhIAAPI48jsAgPwuvwMAAADAUulhKeIeGryrMKjL0+cBAAAABLgIBACgTxkHzhIAAPI48jsAgPwuvwMAAADAUulhKeIeGryrMKjL0+cBAAAABLgIBACgTxkHzhIAAPI48jsAgPwuvwMAAADAUulhKeIeGryrMKjL0+cBAAAABLgIBACgTxkHzhIAAPI48jsAgPwuvwMAAADAUnXGlDAwcq9hjDFm2AAAAMAsubQGAMAP63CWAACQx5Hf5XcAAPkdAAAAAIiziMVYVMccew1jjDEW1QEAAMArLq0BAPDDOpwlAADkceR3+R0AQH4HAAAAAOIsYjEW1THHXsMYY4xFdQAAAPCKS2sAAPywDmcJAAB5HPldfgcAkN8BAAAAgDiLWIxFdcyx1zDGGGNRHQAAALzi0hoAAD+sw1kCAEAeR36X3wEA5HcAAAAAIM4iFmNRHXPsNYwxxlhUBwAAAK+4tAYAwA/rcJYAAJDHkd/ldwAA+R0AAAAAiLOIxVhUxxx7DWOMMRbVAQAAwCsurQEA8MM6nCUAAORx5Hf5HQBAfgcAAAAA4ixiMRbVMcdewxhjjEV1AAAA8IpLawAA/LAOZwkAAHkc+V1+BwCQ3wEAAACAOItYjEV1zLHXMMYYY1EdAAAAvOLSGgAAP6zDWQIAQB5HfpffAQDkdwAAAAAgziIWY1Edc+w1jDHGWFQHAAAAr7i0BgDAD+twlgAAkMeR3+V3AAD5HQAAAACIs4jFWFTHHHsNY4wxFtUBAADAKy6tAQDwwzqcJQAA5HHkd/kdAEB+BwAAAADiLGIxFtUxx17DGGOMRXUAAADwiktrAAD8sA5nCQAAeRz5XX4HAJDfAQAAAAAog56flF4DAP0wAAAAuLQGAEBxgrMEAIA8jvwuvwMAyO8AAAAAAJRLz09KrwGAfhgAAABcWgMAoDjBWQIAQB5HfpffAQDkdwAAAAAAyqXnJ6XXAEA/DAAAAC6tAQBQnOAsAQAgjyO/y+8AAPI7AAAAAADl0vOT0msAoB8GAAAAl9YAAChOcJYAAJDHkd/ldwAA+R0AAAAAgHLp+UnpNQDQDwMAAIBLawAAFCc4SwAAyOPI7/I7AID8DgAAAABAufT8pPQaAOiHAQAAwKU1AACKE5wlAADkceR3+R0AQH4HAAAAAKBcen5Seg0A9MMAAADg0hoAAMUJzhIAAPI48rv8DgAgvwMAAAAAUC49Pym9BgD6YQAAAHBpDQCA4gRnCQAAeRz5XX4HAJDfAQAAAAAol56flF4DAP0wAAAAuLQGAEBxgrMEAIA8jvwuvwMAyO8AAAAAAJRLz09KrwGAfhgAAABcWgMAoDjBWQIAQB5HfpffAQDkdwAAAAAAyqXnJ6XXAEA/DAAAAC6tAQBQnOAsAQAgjyO/y+8AAPI7AAAAAADl0vOT0msAoB8GAAAAl9YAAChOcJYAAJDHkd/ldwAA+R0AAAAAgHLp+UnpNQDQDwMAAIBLawAAFCc4SwAAyOPI7/I7AID8DgAAAABAufT8pPQaAOiHAQAAwKU1AACKE5wlAADkceR3+R0AQH4HAAAAAKBcen5Seg0A9MMAAADg0hoAAMUJzhIAAPI48rv8DgAgvwMAAAAAUC49Pym9BgD6YQAAAHBpDQCA4gRnCQAAeRz5XX4HAJDfAQAAAAAol56flF4DAP0wAAAAuLQGAEBxgrMEAIA8jvwuvwMAyO8AAAAAAJRLz09KrwGAfhgAAABcWgMAoDjBWQIAQB5HfpffAQDkdwAAAAAAyqXnJ6XXAEA/DAAAAC6tAQBQnOAsAQAgjyO/y+8AAPI7AAAAAADl0vOT0msAoB8GAAAAl9YAAChOcJYAAJDHkd/ldwAA+R0AAAAAgHLp+UnpNQDQDwMAAIBLawAAFCc4SwAAyOPI7/I7AID8DgAAAABAufT8pPQaAOiHAQAAwKU1AACKE5wlAADkceR3+R0AQH4HAAAAAKBcen5Seg0A9MMAAADg0hoAAMUJzhIAAPI48rv8DgAgvwMAAAAAUC49Pym9BgD6YQAAAHBpDQCA4gRnCQAAeRz5XX4HAJDfAQAAAAAol56flF4DAP0wAAAAuLQGAEBxgrMEAIA8jvwuvwMAyO8AAAAAAJRLz09KrwGAfhgAAABcWgMAoDjBWQIAQB5HfpffAQDkdwAAAAAAyqXnJ6XXAEA/DAAAAC6tAQBQnOAsAQAgjyO/y+8AAPI7AAAAAADl0vOT0msAoB8GAAAAl9YAAChOcJYAAJDHkd/ldwAA+R0AAAAAgHLp+UnpNQDQDwMAAIBLawAAFCc4SwAAyOPI7/I7AID8DgAAAABAufT8pPQaAOiHAQAAwKU1AACKE5wlAADkceR3+R0AQH4HAAAAAKBcen5Seg0A9MMAAADg0hoAAMUJzhIAAPI48rv8DgAgvwMAAAAAUC49Pym9BgD6YQAAAHBpDQCA4gRnCQAAeRz5XX4HAJDfAQAAAAAol56flF4DAP0wAAAAuLQGAEBxgrMEAIA8jvwuvwMAyO8AAAAAAJRLz09KrwGAfhgAAABcWgMAoDjBWQIAQB5HfpffAQDkdwAAAAAAyqXnJ6XXAEA/DAAAAC6tAQBQnOAsAQAgjyO/y+8AAPI7AAAAAADl0vOT0msAoB8GAAAAl9YAAChOcJYAAJDHkd/ldwAA+R0AAAAAgHLp+UnpNQDQDwMAAIBLawAAFCc4SwAAyOPI7/I7AID8DgAAAABAufT8pPQaAOiHAQAAwKU1AACKE5wlAADkceR3+R0AQH4HAAAAAKBcen5Seg0A9MMAAADg0hoAAMUJzhIAAPI48rv8DgAgvwMAAAAAUC49Pym9BgD6YQAAAHBpDQCA4gRnCQAAeRz5XX4HAJDfAQAAAAAol56flF4DAP0wAAAAuLQGAEBxgrMEAIA8jvwuvwMAyO8AAAAAAJRLz09KrwGAfhgAAABcWgMAoDjBWQIAQB5HfpffAQDkdwAAAAAAyqXnJ6XXAEA/DAAAAC6tAQBQnOAsAQAgjyO/y+8AAPI7AAAAAADl0vOT0mtAhufn5269XofmeDx6YOiHAQAAwKU1AACKE5wlAADkcXkc+R0AQH4HAAAAAGCx9Pyk9BrwN7Vt2202m4ve0cPh4MGhHwYAAACX1gAAKE5wlgAAkMflceR3AAD5HQAAAACAxdLzk9JrwN9yXji3Wq0u7d0sqkM/DAAAAC6tAQBQnOAsAQAgj8vjyO8AAPI7AAAAAACLpucnpdeAv2G73V68oK6yqA79MAAAALi0BgBAcYKzBACAPC6PI78DAMjvAAAAAACg5yen14BrOh6PXdM0vZfUVRbVoR8GAAAAl9YAAChOcJYAAJDH5XHkdwAA+R0AAAAAgIXT85PSa8C1PD4+dnVdD1pSV1lUh34YAAAAXFoDAKA4wVkCAEAel8eR3wEA5HcAAAAAABZOz09KrwFja9u2W6/XgxfUVRbVoR8GAAAAl9YAAChOcJYAAJDH5XHkdwAA+R0AAAAAAPT85PQaMKb9ft/VdT3akrrKojr0wwAAAODSGgAAxQnOEgAA8rg8jvwOACC/AwAAAACwcHp+UnoNGEPbtt12ux11QV1lUR36YQAAAHBpDQCA4gRnCQAAeVweR34HAJDfAQAAAABAz09OrwFDHY/HrmmaqyypqyyqQz8MAAAALq0BAFCc4CwBACCPy+PI7wAA8jsAAAAAAAun5yel14Ahdrvd1RbUVRbVoR8GAAAAl9YAAChOcJYAAJDH5XHkdwAA+R0AAAAAAPT85PQa0MfpdOrW63WvxXN1XXer1cqiOvTDAAAA4NIaAADFCc4SAADI48jvAADyOwAAAAAABOj5Sek14FL7/f7nsrmqx5K683K7tm0vWnJnUR36YQAAAHBpDQCA4gRnCQAAeVweR34HAJDfAQAAAABYMj0/Kb0GRJ0XzG02m14L6s6L7R4fH//7tyyqQz8MAAAALq0BAFCc4CwBAIA8jvwOACC/AwAAAABAjJ6flF4DIk6nU7darXotqWua5ue//38W1aEfBgAAAJfWAAAoTnCWAABAHkd+BwCQ3wEAAAAAIEbPT0qvARHnZXFVjyV1u93uzb9nUR36YQAAAHBpDQCA4gRnCQAA5HHkdwAA+R0AAAAAAGL0/KT0GhBx6aK61WrVHY/Hd/+eRXXohwEAAMClNQAAihOcJQAAkMeR3wEA5HcAAAAAAIjR85PSa0DEJYvqtttt17btH/+eRXXohwEAAMClNQAAihOcJQAAkMeR3wEA5HcAAAAAAIjR85PSa0BEZFFdXdfdfr8P/T2L6tAPAwAAgEtrAAAUJzhLAAAgjyO/AwDI7wAAAAAAEKPnJ6XXgIiPFtVtNpuubdvw37OoDv0wAAAAuLQGAEBxgrMEAADyOPI7AID8DgAAAAAAMXp+UnoNiHhvUV1d193z8/PFf8+iOvTDAAAA4NIaAADFCc4SAADI48jvAADyOwAAAAAAxOj5Sek1IOKtRXXnZXOn06nX37OoDv0wAAAAuLQGAEBxgrMEAADyOPI7AID8DgAAAAAAMXp+UnoNiPh9Ud1utxv09yyqQz8MAAAALq0BAFCc4CwBAIA8jvwOACC/AwAAAABAjJ6flF4DIv5ZVNc0TXc8Hgf/PYvq0A8DAACAS2sAABQnOEsAACCPI78DAMjvAAAAAAAQo+cnpdeAiPNyuu12O9rfs6gO/TAAAAC4tAYAQHGCswQAAPI48jsAgPwOAAAAAAAxen5Seg3IYFEd+mEAAABwaQ0AgOIEZwkAAORx5HcAAPkdAAAAAABi9Pyk9BqQwaI69MMAAADg0hoAAMUJzhIAAMjjyO8AAPI7AAAAAADE6PlJ6TUgg0V16IcBAADApTUAAIoTnCUAAJDHkd8BAOR3AAAAAACI0fOT0mtABovq0A8DAACAS2sAABQnOEsAACCPI78DAMjvAAAAAAAQo+cnpdeADBbVoR8GAAAAl9YAAChOcJYAAEAeR34HAJDfAQAAAAAgRs9PSq8BGSyqQz8MAAAALq0BAFCc4CwBAIA8jvwOACC/AwAAAABAjJ6flF4DMlhUh34YAAAAXFoDAKA4wVkCAAB5HPkdAEB+BwAAAACAGD0/Kb0GZLCoDv0wAAAAuLQGAEBxgrMEAADyOPI7AID8DgAAAAAAMXp+UnoNyGBRHfphAAAAcGkNAIDiBGcJAADkceR3AAD5HQAAAAAAYvT8pPQakMGiOvTDAAAA4NIaAADFCc4SAADI48jvAADyOwAAAAAAxOj5Sek1IINFdeiHAQAAwKU1AACKE5wlAACQx5HfAQDkdwAAAAAAiNHzk9JrQAaL6tAPAwAAgEtrAAAUJzhLAAAgjyO/AwDI7wAAAAAAEKPnJ6XXgAwW1aEfBgAAAJfWAAAoTnCWAABAHkd+BwCQ3wEAAAAAIEbPT0qvARksqkM/DAAAAC6tAQBQnOAsAQCAPI78DgAgvwMAAAAAQIyen5ReAzJYVId+GAAAAFxaAwCgOMFZAgAAeRz5HQBAfgcAAAAAgBg9Pym9BmSwqA79MAAAALi0BgBAcYKzBAAA8jjyOwCA/A4AAAAAADF6flJ6DchgUR36YQAAAHBpDQCA4gRnCQAA5HHkdwAA+R0AAAAAAGL0/KT0GpDBojr0wwAAAODSGgAAxQnOEgAAyOPI7wAA8jsAAAAAAMTo+UnpNSCDRXXohwEAAMClNQAAihOcJQAAkMeR3wEA5HcAAAAAAIjR85PSa0AGi+rQDwMAAIBLawAAFCc4SwAAII8jvwMAyO8AAAAAABCj5yel14AMFtWhHwYAAACX1gAAKE5wlgAAQB5HfgcAkN8BAAAAACBGz09KrwEZLKpDPwwAAAAurQEAUJzgLAEAgDyO/A4AIL8DAAAAAECMnp+UXgMyWFSHfhgAAABcWgMAoDjBWQIAAHkc+R0AQH4HAAAAAIAYPT8pvQZksKgO/TAAAAC4tAYAQHGCswQAAPI48jsAgPwOAAAAAAAxen5Seg3IYFEd+mEAAABwaQ0AgOIEZwkAAORx5HcAAPkdAAAAAABi9Pyk9BqQwaI69MMAAADg0hoAAMUJzhIAAMjjyO8AAPI7AAAAAADE6PlJ6TUgg0V16IcBAADApTUAAIoTnCUAAJDHkd8BAOR3AAAAAACI0fOT0mtABovq0A8DAACAS2sAABQnOEsAACCPI78DAMjvAAAAAAAQo+cnpdeADBbVoR8GAAAAl9YAAChOcJYAAEAeR34HAJDfAQAAAAAgRs9PSq8BGSyqQz8MAAAALq0BAFCc4CwBAIA8jvwOACC/AwAAAABAjJ6flF4DMlhUh34YAAAAXFoDAKA4wVkCAAB5HPkdAEB+BwAAAACAGD0/Kb0GZLCoDv0wAAAAuLQGAEBxgrMEAADyOPI7AID8DgAAAAAAMXp+UnoNyGBRHfphAAAAcGkNAIDiBGcJAADkceR3AAD5HQAAAAAAYvT8pPQacKW+zBhjzLABAABwaQ0AgB/W4SwBACCPy+PI7wAA8jsAAAAAAPyk5yel14Ar9WXGGGMsqgMAAFxaAwDgh3U4SzhLAADI48jvAADyu/wOAAAAAMAI9Pyk9Bpwpb7MGGOMRXUAAIBLawAA/LAOZwlnCQAAeRz5HQBAfpffAQAAAAAYgZ6flF4DrtSXGWOMsagOAABwaQ0AgB/W4SzhLAEAII8jvwMAyO/yOwAAAAAAI9Dzk9JrwJX6MmOMMRbVAQAALq0BAPDDOpwlnCUAAORx5HcAAPldfgcAAAAAYAR6flJ6DbhSX2aMMcaiOgAAwKU1AAB+WIezhLMEAIA8jvwOACC/y+8AAAAAAIxAz09KrwFX6suMMcZYVAcAALi0BgDAD+twlnCWAACQx5HfAQDkd/kdAAAAAIAR6PlJ6TXgSn2ZMcYYi+oAAACX1gAA+GEdzhLOEgAA8jjyOwCA/C6/AwAAAAAwAj0/Kb0GXKkvM8YYY1EdAAD/Ye/ujlpJljWAthmyAitwAifwARuwARPwAAvkAO961psedCI5o9kagg2ofjqru9eK6Ih7z8ywRdNif5WVlQJFawAAHKzDWsJaAgBAHkd+BwCQ3+V3AAAAAAAasM9Pyr4GdNovc7lcLpdBdQAAgKI1AAAO1mEtYS0BACCPI78DAMjv8jsAAAAAAA3Y5ydlXwM67Ze5XC6Xy6A6AABA0RoAAAfrsJawlgAAkMeR3wEA5Hf5HQAAAACABuzzk7KvAZ32y1wul8tlUB0AAKBoDQCAg3VYS1hLAADI48jvAADyu/wOAAAAAEAD9vlJ2dcAzxWAvgMAAABFawAAFLixlgAAkMeR3+V3AAD5HQAAAACAcdnnJ2VfAzxXAPoOAAAAFK0BAFDgxloCAEAeR36X3wEA5HcAAAAAAMZln5+UfQ3wXAHoOwAAAFC0BgBAgRtrCQAAeRz5XX4HAJDfAQAAAAAYl31+UvY1wHMFoO8AAABA0RoAAAVurCUAAORx5Hf5HQBAfgcAAAAAYFz2+UnZ1wDPFYC+AwAAAEVrAAAUuLGWAACQx5Hf5XcAAPkdAAAAAIBx2ecnZV8DPFcA+g4AAAAUrQEAUODGWgIAQB5HfpffAQDkdwAAAAAAxmWfn5R9DfBcAeg7AAAAULQGAECBG2sJAAB5HPldfgcAkN8BAAAAABjX2eXKuKDhHpnnCkDfAQAAsMWiNQAACtwK3FhLAADI48jvAADyu/wOAAAAAEBXhqa5DKpj6XtknisAfQcAAMAWi9YAAChwK3BjLQEAII8jvwMAyO/yOwAAAAAAXRma5jKojqXvkXmuAPQdAAAAWyxaAwCgwK3AjbUEAIA8jvwOACC/y+8AAAAAAHRlaJrLoDqWvkfmuQLQdwAAAGyxaA0AgAK3AjfWEgAA8jjyOwCA/C6/AwAAAADQlaFpLoPqWPoemecKQN8BAACwxaI1AAAK3ArcWEsAAMjjyO8AAPK7/A4AAAAAQFeGprkMqmPpe2SeKwB9BwAAwBaL1gAAKHArcGMtAQAgjyO/AwDI7/I7AAAAAABdGZrmMqiOpe+Rea4A9B0AAABbLFoDAKDArcCNtQQAgDyO/A4AIL/L7wAAAAAAdGVomsugOpa+R+a5AtB3AAAAbLFoDQCAArcCN9YSAADyOPI7AID8Lr8DAAAAANCVoWkug+pY+h6Z5wpA3wEAALDFojUAAArcCtxYSwAAyOPI7wAA8rv8DgAAAABAV4amuQyqYzgPDw//Xp4rAH0HAACAorViEACAArcCN9YSAADyOPI7AADyOwAAAAAA8zM0zWVQHavZLwNA3wEAALChojUAAArcCtxYSwAAyOPI7wAA8rv8DgAAAAAALIa+EVL3ywDQdwAAACgyAgCgwI21hLUEAIA8jvwOACC/y+8AAAAAAMB49I2Qul8GgL4DAABAkREAAAVurCWsJQAA5HHkdwAA+V1+BwAAAAAAxqNvhNT9MgD0HQAAAIqMAAAocGMtYS0BACCPI78DAMjv8jsAAAAAADAefSOk7pcBoO8AAABQZAQAQIEbawlrCQAAeRz5HQBAfpffAQAAAACA8egbIXW/DAB9BwAAgCIjAAAK3FhLWEsAAMjjyO8AAPK7/A4AAAAAAIxH3wip+2UA6DsAAAAUGQEAUODGWsJaAgBAHkd+BwCQ3+V3AAAAAABgPPpGSN0vA0DfAQAAoMgIAIACN9YS1hIAAPI48jsAgPwuvwMAAAAAAOPRN0LqfhkA+g4AAABFRgAAFLixlrCWAACQx5HfAQDkd/kdAAAAAAAYj74RUvfLANB3AAAAKDICAKDAjbWEtQQAgDyO/A4AIL/L7wAAAAAAwHj0jZC6XwaAvgMAAECREQAABW6sJawlAADkceR3AAD5XX4HAAAAAADGo2+E1P0yAPQdAAAAiowAAChwYy1hLQEAII8jvwMAyO/yOwAAAAAAMB59I6TulwGg7wAAAFBkBABAgRtrCWsJAAB5HPkdAEB+l98BAAAAAIDx6Bshdb8MAH0HAACAIiMAAArcWEtYSwAAyOPI7wAA8rv8DgAAAAAAjEffCKn7ZQDoOwAAABQZAQBQ4MZawloCAEAeR34HAJDf5XcAAAAAAGA8+kZI3S8DQN8BAACgyAgAgAI31hLWEgAA8jjyOwCA/C6/AwAAAAAA49E3Qup+GQD6DgAAAEVGAAAUuLGWsJYAAJDHkd8BAOR3+R0AAAAAABiPvhFS98sA0HcAAAAoMgIAoMCNtYS1BACAPI78DgAgv8vvAAAAAADAePSNkLpfBoC+AwAAQJERAAAFbqwlrCUAAORx5HcAAPldfgcAAAAAAMajb4TU/TIA9B0AAACKjAAAKHBjLWEtAQAgjyO/AwDI7/I7AAAAAAAwHn0jpO6XAaDvAAAAUGQEAECBG2sJawkAAHkc+R0AQH6X3wEAAAAAgPHoGyF1vwwAfQcAAIAiIwAACtxYS1hLAADI48jvAADyu/wOAAAAAACMR98IqftlAOg7AAAAFBkBAFDgxlrCWgIAQB5HfgcAkN/ldwAAAAAAYDz6RkjdLwNA3wEAAKDICACAAjfWEtYSAADyOPI7AID8Lr8DAAAAAADj0TdC6n4ZAPoOAAAARUYAABS4sZawlgAAkMeR3wEA5Hf5HQAAAAAAGI++EVL3y2Atjsfj+f39/VcX6DsAAAAUGQEAUOAGawkAAHkc+R0AQH6X3wEAAAAAgNHpGyF1vwzW4PX19bzb7Tz36DsAAAAUGS2KAQAUuBW4sZYAAJDHkd8BAJDfAQAAAACA1dA3Qup+GSzZ6XQ6Pz4+3rpH7Mah7wAAAFBkBABAgVuMxloCAEAeR34HAJDf5XcAAAAAAGB4+kZI3S+Dpdrv9+fdbnfzkDrPPfoOAACgQ+HKtZwLAAAFbpfLWgIAQB53ye8AAPK7hnEAAAAAAGAx9I2Qul8GS3M6nc7Pz8/68NB3AAAAIxWuXA6nAQCwyAK3y2UtAQAgj7vkdwAA+V3DOAAAAAAAMDZ9I6Tul8GSHA6H8/39vT489B0AAMBohSuXw2kAACyywO1yWUsAAMjjLvkdAEB+1zAOAAAAAACMTd8IqftlsBQvLy/68NB3AAAAoxauXA6nAQCwyAK3y2UtAQAgj7vkdwAA+V3DOAAAAAAAMDZ9I6Tul8Hojsfj+eHhQR8e+g4AAGDkwpXL4TQAABZZ4Ha5rCUAAORxl/wOACC/axgHAAAAAADGpm+E1P0yGNl+vz/vdjt9eOg7AACA0QtXLofTAABYZIHb5bKWAACQx13yOwCA/K5hHAAAAAAAGJu+EVL3y2BEp9Pp/Pj4qA8PfQcAALCUwpXL4TQAABZZ4Ha5rCUAAORxl/wOACC/axgHAAAAAADGpm+E1P0yGM37+/v57u5OHx76DgAAYEmFK5fDaQAALLLA7XJZSwAAyOMu+R0AQH7XMA4AAAAAAIxN3wip+2UwkpeXF3146DsAAIAlFq5cDqcBALDIArfLZS0BACCPu+R3AAD5XcM4AAAAAAAwNn0jpO6XwQiOx+P5/v6+qKdut9vdPOAO9B0AAEDjwpXL4TQAABZZ4Ha5rCUAAORxl/wOACC/axgHAAAAAADGpm+E1P0yyPb6+voxbG4q6Kd7fHw8n06n8/v7u+cefQcAAJBZuHI5nAYAwCIL3C6XtQQAgDzukt8BAOR3DeMAAAAAAMDY9I2Qul8GWWLAXAyamwr66GKw3X6///drGVSHvgMAAEguXLkcTgMAYJEFbpfLWgIAQB53ye8AAPK7hnEAAAAAAGBs+kZI3S+DLC8vL0U9dA8PD+fj8fifr2VQHfoOAAAARUaLYgAAFLixlgAAkMeR3+V3AAD5HQAAAAAAWBt9I6Tul0GWkkF1r6+vX34tg+rQdwAAACgyWhQDAKDAjbUEAIA8jvwuvwMAyO8AAAAAAMDa6Bshdb8MstwyqO7+/v58OBz++rUMqkPfAQAAoMhoUQwAgAI31hIAAPI48rv8DgAgvwMAAAAAAGujb4TU/TLI8ttBdfHv/cSgOvQdAAAAiowWxQAAKHBjLQEAII8jv8vvAADyOwAAAAAAsDb6RkjdL4MsPw2qu7u7+xhA9xsG1aHvAAAAUGS0KAYAQIEbawkAAHkc+V1+BwCQ3wEAAAAAgLXRN0Lqfhlk+W5Q3dPT0/l0Ov36axlUh74DAABAkdGiGAAABW6sJQAA5HHkd/kdAEB+BwAAAAAA1kbfCKn7ZZDlq0F1u93uvN/vb/5aBtWh7wAAAFBktCgGAECBG2sJAAB5HPldfgcAkN8BAAAAAIC10TdC6n4ZZPk8qO7h4eF8Op2KvpZBdeg7AAAAFBktigEAUODGWgIAQB5HfpffAQDkdwAAAAAAYG30jZC6XwZZLoPqdrvd+fX1teprGVSHvgMAAECR0aIYAAAFbqwlAADkceR3+R0AQH4HAAAAAADWRt8IqftlkCUG1d3f35+Px2P11zKoDn0HAACAIqNFMQAACtxYSwAAyOPI7/I7AID8DgAAAAAArI2+EVL3yyBLiwF1FwbVoe8AAABQZLQoBgBAgRtrCQAAeRz5XX4HAJDfAQAAAACAtdE3Qup+GayBQXXoOwAAABQZLYoBAFDgxloCAEAeR36X3wEA5HcAAAAAAGBt9I2Qul8Ga2BQHfoOAAAARUaLYgAAFLixlgAAkMeR3+V3AAD5HQAAAAAAWBt9I6Tul8EaGFSHvgMAAECR0aIYAAAFbqwlAADkceR3+R0AQH4HAAAAAADWRt8IqftlsAYG1aHvAAAAUGS0KAYAQIEbawkAAHkc+V1+BwCQ3wEAAAAAgLXRN0LqfhmsgUF16DsAAAAUGS2KAQBQ4MZaAgBAHkd+l98BAOR3AAAAAABgbfSNkLpfBmtgUB36DgAAAEVGi2IAABS4sZYAAJDHkd/ldwAA+R0AAAAAAFgbfSOk7pfBGhhUh74DAABAkdGiGAAABW6sJQAA5HHkd/kdAEB+BwAAAAAA1kbfCKn7ZbAGBtWh7wAAAFBktCgGAECBG2sJAAB5HPldfgcAkN8BAAAAAIC10TdC6n4ZrIFBdeg7AAAAFBktigEAUODGWgIAQB5HfpffAQDkdwAAAAAAYG30jZC6XwZrYFAd+g4AAABFRotiAAAUuLGWAACQx5Hf5XcAAPkdAAAAAABYG30jpO6XwRoYVIe+AwAAQJHRohgAAAVurCUAAORx5Hf5HQBAfgcAAAAAANZG3wip+2WwBgbVoe8AAABQZLQoBgBAgRtrCQAAeRz5XX4HAJDfAQAAAACAtdE3Qup+GayBQXXoOwAAABQZLYoBAFDgxloCAEAeR36X3wEA5HcAAAAAAGBt9I2Qul8Ga2BQHfoOAAAARUaLYgAAFLixlgAAkMeR3+V3AAD5HQAAAAAAWBt9I6Tul8EaGFSHvgMAAECR0aIYAAAFbqwlAADkceR3+R0AQH4HAAAAAADWRt8IqftlsAYG1aHvAAAAUGS0KAYAQIEbawkAAHkc+V1+BwCQ3wEAAAAAgLXRN0LqfhmsgUF16DsAAAAUGS2KAQBQ4MZaAgBAHkd+l98BAOR3AAAAAABgbfSNkLpfBmtgUB36DgAAAEVGi2IAABS4sZYAAJDHkd/ldwAA+R0AAAAAAFgbfSOk7pfBGhhUh74DAABAkdGiGAAABW6sJQAA5HHkd/kdAEB+BwAAAAAA1kbfCKn7ZbAGBtWh7wAAAFBktCgGAECBG2sJAAB5HPldfgcAkN8BAAAAAIC10TdC6n4ZrIFBdeg7AAAAFBktigEAUODGWgIAQB5HfpffAQDkdwAAAAAAYG30jZC6XwZrYFAd+g4AAABFRotiAAAUuLGWAACQx5Hf5XcAAPkdAAAAAABYG30jpO6XsVzH4/FjQFvGdTqdhroXBtWh7wAAAFBktCgGAECBG2sJAAB5HPldfgcAkN8BAAAAAIC10TdC6n4Zy/Xy8nLr3mizKwbDjcSgOvQdAAAAiowWxQAAKHBjLQEAII8jv8vvAADyOwAAAAAAsDb6RkjdL2O5DKr7w6A69B0AAACKjBbFAAAocGMtAQAgjyO/y+8AAPI7AAAAAACwNvpGSN0vY7kMqvvDoDr0HQAAAIqMFsUAAChwYy0BACCPI7/L7wAA8jsAAAAAALA2+kZI3S9juQyq+8OgOvQdAAAAiowWxQAAKHBjLQEAII8jv8vvAADyOwAAAAAAsDb6RkjdL2O5DKr7w6A69B0AAACKjBbFAAAocGMtAQAgjyO/y+8AAPI7AAAAAACwNvpGSN0vY7kMqvvDoDr0HQAAAIqMFsUAAChwYy0BACCPI7/L7wAA8jsAAAAAALA2+kZI3S9juQyq+8OgOvQdAAAAiowWxQAAKHBjLQEAII8jv8vvAADyOwAAAAAAsDb6RkjdL2O5DKr7w6A69B0AAACKjBbFAAAocGMtAQAgjyO/y+8AAPI7AAAAAACwNvpGSN0vY7kMqvvDoDr0HQAAAIqMFsUAAChwYy0BACCPI7/L7wAA8jsAAAAAALA2+kZI3S9jud7e3s4PDw8p1+FwGOpeGFSHvgMAAECR0aIYAAAFbqwlAADkceR3+R0AQH4HAAAAAADW5uxyZV7QaR/W5XK5XHUXAAD0KTICAGBDRyESawkAAHkc+R0AQH6X3wEAAAAAgMUwiMVlUB1r3Id1uVwul0F1AACMWGQEAMCGjkIk1hIAAPI48jsAgPwuvwMAAAAAAIthEIvLoDrWuA/rcrlcLoPqAAAYscgIAIANHYVIrCUAAORx5HcAAPldfgcAAAAAABbDIBaXQXWscR/W5XK5XAbVAQAwYpERAAAbOgqRWEsAAMjjyO8AAPK7/A4AAAAAACyGQSwug+pY4z6sy+VyuQyqAwBgxCIjAAA2dBQisZYAAJDHkd8BAOR3+R0AAAAAAFgMg1hcBtWxxn1Yl8vlchlUBwDAiEVGAABs6ChEYi0BACCPI78DAMjv8jsAAAAAALAYBrG4DKpjjfuwLpfL5TKoDgCAEYuMAADY0FGIxFoCAEAeR34HAJDf5XcAAAAAAGAxDGJxGVTHGvdhXS6Xy2VQHQAAIxYZAQCwoaMQibUEAIA8jvwOACC/y+8AAAAAAMBiGMTiMqiONe7Dulwul8ugOgAARiwyAgBgQ0chEmsJAAB5HPkdAEB+l98BAAAAAIDFMIjFZVAda9yHdblcLpdBdQAAjFhkBADAho5CJNYSAADyOPI7AID8Lr8DAAAAAACLYRCLy6A61rgP63K5XC6D6gAAGLHICACADR2FSKwlAADkceR3AAD5XX4HAAAAAABg0/QjkboPC4B+FgAAFIMAAFCIxFoCAEAel8eR3wEA5HcAAAAAAAAYj34kUvdhAdDPAgCAYhAAAAqRWEsAAMjj8jjyOwCA/A4AAAAAAADj0Y9E6j4sAPpZAABQDAIAQCESawkAAHlcHkd+BwCQ3wEAAAAAAGA8+pFI3YcFQD8LAACKQQAAKERiLQEAII/L48jvAADyOwAAAAAAAIxHPxKp+7AA6GcBAEAxCAAAhUisJQAA5HF5HPkdAEB+BwAAAAAAgPHoRyJ1HxYA/SwAACgGAQCgEIm1BACAPC6PI78DAMjvAAAAAAAAMB79SKTuwwKgnwUAAMUgAAAUIrGWAACQx+Vx5HcAAPkdAAAAAAAAxqMfidR9WAD0swAAoBgEAIBCJNYSAADyuDyO/A4AIL8DAAAAAADAePQjkboPC4B+FgAAFIMAAFCIxFoCAEAel8eR3wEA5HcAAAAAAAAYj34kUvdhAdDPAgCAYhAAAAqRWEsAAMjj8jjyOwCA/A4AAAAAAADj0Y9E6j4sAPpZAABQDAIAQCESawkAAHlcHkd+BwCQ3wEAAAAAAGA8+pFI3YcFQD8LAACKQQAAKERiLQEAII/L48jvAADyOwAAAAAAAIxHPxKp+7AA6GcBAEAxCAAAhUisJQAA5HF5HPkdAEB+BwAAAAAAgPHoRyJ1HxYA/SwAACgGAQCgEIm1BACAPC6PI78DAMjvAAAAAAAAMB79SKTuwwKgnwUAAMUgAAAUIrGWAACQx+Vx5HcAAPkdAAAAAAAAxqMfidR9WAD0swAAoBgEAIBCJNYSAADyuDyO/M4MTqfT+f39/fz29nZ+eXn5uB4eHv697u/v//q87Ha7//y7T09P/36N+JqHw8ENBkB+BwAAAAAAgPXRj0TqPiwA+lkAAFAMAgBAIRJrCQAAeVweR36nsRhKt9/v/x1GF4Pmbvz9U3TFsLvn5+ePYXiG1wEgvwMAAAAAAMDi6UcidR8WAP0sAAAoBg17eOv9/b3pdTkM9pvr9fX1268Vrw8AQCESawkAAHkc5HeuxR5CDIm7u7ubZSjdb6/Hx8ePwXX2NwCQ3wEAAAAAAGBx9CORug8LgH4WAAAUg4Y9yDUNdIDru2u3250fHh4+rqenp/8Mujsej1ZZAIBCJNYSAADyOPK7/L5i8UE5sT8Q+wVL2Ne4v7//2McwtA4A+R0AAAAAAAAWQT8SqfuwAOhnAQBAMWhISxpUN/3y0FccUrsMsAMAUIjEWgIAQB5Hfme5Yshb1Pzv7u4WvX8RexeHw8EPFAD5HQAAAAAAAMalH4nUfVgA9LMAAKAYNKS1Dar76np4eDi/vLw4AAYACpEKkVhLAADI48jvLMTxePwY7rbb7Va3Z7Hf7/2AAZDfAQAAAAAAYDz6kUjdhwVAPwsAAIpBQ9rCoLrr6+7u7mNoXRxwAwAUIhUisZYAAJDHkd8Zy+l0+qjjr21A3fTFwDofsAOA/A4AAAAAAABD0Y9E6j4sAPpZAABQDBrS1gbVTZ8Ogb29vVmdAYBCpEIk1hIAAPI48jsDiJp9fODMlvYqnp6efLgOAPI7AAAAAAAAjEE/Eqn7sADoZwEAQDFoSFseVHe54tCbgXUAoBCpEIm1BACAPI78To7T6fTx4TJb3afY7Xbn/X7vQQBAfgcAAAAAAIBc+pFI3YcFQD8LAACKQUMyqO7PFYfg4n4AAAqRWEtYSwAAyOPI78wj6vIxqM0+xXR+fn7+GNoHAPI7AAAAAAAApNCPROo+LAD6WQAAUAwa9gDY5PDXf66npycHwQBAIRJrCWsJAAB5HPmdzmIwm32J/1739/fnw+Hg4QBAfgcAAAAAAID56UcidR8WAP0sAAAoBg3JoLq/HwQzrA4AFCKxlrCWAACQx5Hf6SM+NCaj/r/b7c4PDw//XvE6Xl5ePq4YnHf9z2KvIOs1GlYHgPwOAAAAAAAAs9OPROo+LAD6WQAAUAwakkF1DoIBgEKkQiTWEgAA8jjyO3OJD4mZawBcDJuLAXSxF1JT7z8ejx9f4/X19fz4+Pixf2CPAgD5HQAAAAAAAFZHPxKp+7AA6GcBAEAxaEgG1f187fd7KzgAUIjEWsJaAgBAHkd+p1LvIXV3d3fn5+fnWQa8xfC6GFzXe+je29ubBwcA+R0AAAAAAADmoR+J1H1YAPSzAACgGDSk0kF1cfAq/ts5rhgU9/Ly8nHFAbOHh4ePw2bTTIPqdrvdLIfaAACFSKwlAADkcZDf16zXULenp6eP/YQsMbQu9jBiP6HH92ePAgD5HQAAAAAAAGahH4nUfVgA9LMAAKAYNKTSQXUxLG4EcTgrBtnFALteB9ymfwbznU4nKzkAUIjEWsJaAgBAHkd+p0AMk5s6DKiLIXGjiH2EHgPrfKAOAPI7AAAAAAAAzEI/Eqn7sADoZwEAQDFoSEsfVPfVIbC3t7eP1zc1PvD2+PhoJQcACpFYS1hLAADI48jv3CiGt7Wu1480oO6z2KuID9iZfKAOAPI7AAAAAAAALIl+JFL3YQHQzwIAgGLQkNY2qO5aHFJrfRAsDtMBAAqRWEtYSwAAyOPI7/zOfr9vVqPf7XYfX28pDofDx4C5Vt//EvZmAJDfAQAAAAAAYMH0I5G6DwuAfhYAABSDhrTmQXUXMbDu6emp2SE4AEAhEmsJawkAAHkc+Z2fnU6nj7p6i/p8DHyLr7dErfYo4np9ffVgASC/AwAAAAAAQB/6kUjdhwVAPwsAAIpBQ9rCoLqLt7e3Jgfi4usAAAqRWEsAACCPI7/zvcfHxybD2WLQ29LF3sLU6AN14gN6AEB+BwAAAAAAgOb0I5G6DwuAfhYAABSDhrSlQXXhcDic7+7uqg6BxX8PAChEYi0BAIA8jvzO3+33+yaD2db04TGxR9HiA3WWukcDgPwOAAAAAAAAg9OPROo+LAD6WQAAUAwa0tYG1bU6CLamg3EAoBCpEIm1BACAPI78Tkun06nJQLbn5+fV3ZvSfRn7FADI7wAAAAAAANCdfiRS92EB0M8CAIBi0KoORC15UF3Y7/dVB8Du7++t6gBAIRJrCQAA5HHkd77w8vJSPYjt6elptfcnhszV3p+7uzsPGgDyOwAAAAAAALSlH4nUfVgA9LMAAKAYNKStDqoLtQfljsejlR0AKERiLQEAgDyO/M6V0+l03u12VfX3NexB/OT19bV6WF0MvGO7Yo/v82Xvqo+4r1/db5DfAQAAAAAAYHX0I5G6DwuAfhYAABSDhj3EMm30kFjtYbk4RAYAKERiLQEAgDyO/M4ftR8SE3X7qN9vwePjY9W9uru7W/T3fzgcPvap4pl5fn7+2Hu6vuJ/v1zx723luQjxvV7uTTwncT/i512yn3e5l/v93iC7H57HGP54eRZvud/39/fnp6enj71D9xj5HQAAAAAAABZNPxKp+7AA6GcBAEAxaEhbHlRXe2AuDgYt+eceVxy4uT7odTnsNeohmsvrvn69cfDn+uBa/P/X/zwOXm3tAFvLA3CX6/qQ4PU9jkNXW76/8V75/F766kDlVwcrPZu/v7+fn8e44p7H/76U5+L6QOlXz8Pl928chkQhEmsJAAB5HOT3JdcWaz4gJq5Raz697lfJ8LFpoR+qE7WvqJ/GUK+pYpBh1NbWOBAsasZRf699Jn5zD+PPiT9vxNrq57rpT1fN74zLPa/9vTV9Mbgu6sO9fFUz/+211PdGyffqQ8fkdwAAAAAAACigH4nUfVgA9LMAAKAYNKStD6qLQ2BT4SGTOCi0xANOtxy2yT6wFgdIYrBTy0NZl+FQWzrs+JuDX3Gv497UHMaK/zZ+XnH4am0HBC+/L+J7uwyimxofDIx759n88zzeclg183BdPBeXQ3Itn4v4vRe/s9f6flKIxFoCAEAel8eR39cpahk1NZGoh2xN1JZq60gji3pn1FR7DV+Lmlw8d0v9QJCo/fUYlDbdOLRulLp0yb7lrfXheFbiv5njnsdz32MgYOyhlb6mJX5YSunvjy3+nSK/AwAAAAAAQDX9SKTuwwKgnwUAAMWgYQ8ITRseVBduGYbU6/kpGW50yyG30sM2c4vDMT0PrE2DH8CqfV+WHBqtef5/uuJrx5+xZNdD/KYNHw6c45BgHA6MYX0l92vuQXWXoYWlr3cqPNAYz6KhdQqRWEsAAMjjIL+vtd4eNbGlDhvL2CO4vkb88It4TXPXVWN/YSnPUNyfOeuLv937y36Weteg5xpQ99W9bT0grnQvLd4nS7K1oXzyOwAAAAAAAKTTj0TqPixkiLOS0d/ym0s/BvpZAABQDNoog+rOHwcypuTDXz0G1dUMfZr7/RFFjLmG003fDIGKA0ojHGLrPahu7vsdh77mHiS2xEOU3z2bowz863VIsGag5jTjoLoYEhd/Z2QcZLy+4nf7iIePFSKxlgAAQB5Hft+2mmFCccWQ/q2KulPNvYsPvRjFpWkxq3YWtbuRn6X4WY82oO6r+mPWXkmvGnR83ey6bvz5LRt1S/c3Y89hSbbyfcrvAAAAAAAAMAz9SKTuw8KcSs6hO9eIfhYAABSDNsqguv8PSJpWNqguDrq0OHAzx4G17AF104CH2HoNqovnIvN+x589ehFqpAF1n6/7+/v0T5soeTZ/OiQb/7z23vQeVBcF1xavs/UVz6rCrkIk1hIAAPI48rv8Poqa+knUZUf4EBH3r1wMYIsa5ii1sxHr0bH3kD0sbfS9kh6D6uKfj3RfW9X5awZcLumTrUv3tbY8/FR+BwAAAAAAgCr6kUjdh4U5+3RK+jKcZ0Q/CwAAikEbXkhOGx9UV3OQo9VwpJaD6loNqev5/oh7PuowsGmAQ2yl78u4r98dgBvl3v40uCxDHOIc/ZmcZhrK1vrZ/O7vi1bD33rekxhmOvrh0efn580f5FaIxFoCAEAeR36X3/PV1FAya15r2KuIKz4YJsvIA9iidjZC/XnED8IYsZ7fclBd3PeRhidOHYbVlX5/I7wvfiPuU+l9/m7PDPkdAAAAAAAAvqEfidR9WJhD9I5MhT0ZBtWhnwUAAMWgjTKormiBMuygupZD6nq9P+Kw3OhDn6bkA5Kl78u/FXhGPAAXh6dGGawV75uST37Ivn+tDrL1fjb/9vdFTTFzjvfpkoYXTv8M18x4JhQisZYAAEAeR36npqY5/TO0yRD+/3t8fCy+j/Hfzi1+bjWveQv16FGHpd1a453r/rUaVDf6fY/fey0GqZV+SFHUk5egdB8h4/eh/A4AAAAAAACroR+J1H1Y6CnOH9b21BhUh34WAAAUgxweM6huBYPqWh+6aW3EgWnTgIfYWg6qG/mejzCsbmmDE6dPB9nmHkzWalDdfr8feqDkEocXXq54plGIxFoCAEAeR36X3+dW86EEUcOkvm4W9cI5tf7gnGmFH/SwhiF1c9fzWw2qW8J9bzFMLX4mpX/+Ej74pLROr04uvwMAAAAAAEAF/Uik7sNCL/GBiC36vQyqQz8LAACKQRtlUN3/lS6uRxpUF69lanxIpuVhrDhwMzmE1fV9+bnAs4TBgJnD6uKg0rTww4Hxu+t4PA79d8bnvy/i5916CFzLQXVLO2A7OYSnEIm1BACAPI78Lr8PoGYoVAxno36/Ys4mwKXW0Ob88I81Dambc2+wpAb9edhlzeDMua8W79nS/be4TyMrHdw599BO+R0AAAAAAABWRz8Sqfuw0KOPqeQM+2RQHfpZAABQDLJorz3wMa1wUF3p0KRRBtXFoKqpwwGZVpY+pG6aeaha6fsyPtHgIv7vyeG25vd4MkSx+ufb45Bgq9/FaxhSNy3kkKFCJNYSAADyuDyO/L4eUZuaKgaHcW5WP2v5gQ5z1dCivhl7CPHar68YPha1xdbD3ub68I8eQ+ou9yk+qCJqtXFd14Yv/1sM+Ip/L/791vXOz0PhRqtBlw43uzyL8bU+P4uXe9myYfdyxf5kbX2/9EN54s8eWemHMfV+RuV3+R0AAAAAAIDV049E6j4stBS9NK37hwyqQz8LAACKQRtlUF3RAmW4QXU9Dse0en+UHiSZbjhIE9//9TUtfChY6fvy8jzGQcFpYUO1rofszXFwtucwsutnMX4mcbD08v/3OJx4eS5H/Tvj+u+LXkM1W/wunmNI3effVaVDUn97xQFFFCKxlgAAkMeR3+X33moGQxko9HWdahr0Q0GiPtiihhZDv+K5uaWmG/9+q/2G3nX+lh/WEd/zLffqb89UfJ1W9c/a19OrBn1r7T/+3ZL7G68xatKt7meL/ZHS1xLPxqjW+D3J7wAAAAAAALAI+pFI3YeFFqKPpmUP02RQHfpZAABQDLJoN6iuaIEyxKC6GPgUeg1+avH+iPvT8vVcHxr66aBJ/PP496KY0noYVO/Dk7WD6kq+3ziYF//93+5tFKbidcXgqx73dJrx8FDLYXGX+xb35vKe/O3POO5jy9cyx1Cy2kF1vQZX1v4ujue79TN9/Wz8dOg1/p04jBgHdJf6vlKIxFoCAAB5HPl9u2rqwD0HXi1ZzQCsXmo/ICXqb/Gs3FJH/Ur89y2aKHvtc9UMbry+4nusvVdf1UFb7NvE89n6tdXUoC8f5PLb+nP87Fv87rncz9qBdfHeqFVae4/nbESl76MW9xL5HQAAAAAAgM3Tj0TqPiy06PNqeW51MqgO/SwAACgGWbSXHviYDKobYlDdZTFfO/gpDm3En//VQZqMZ2vqdGgoiitx4Kb2wFDrn33LexevKYZdTTMdDIzX2XKw1hy/V2KY29TgEF7ct5+Gj93ybJb8Dvjq59nqNbV8Ni8/13htte+/KJB+VSStfT+2eo4vz0bNIc24T/GctngmLq+p93OhEIm1BAAA8jjy+7bV1DHULdrXq3p8cEH8nGqaF+P7af2zju+z9sMnWtf5W9RA47/vPcAx6ry1r7NXPb90f+Q3/118z7GH0lrUg2vvZ+37tvS+XYb8jaZ077PHz1d+l98BAAAAAADYHP1IpO7DQo0WH2I5GVSHfhYAABSDLNpbHlxY06C6moFqrQ4LlQ6qu/XQUxwGi9f8XSEgvmb885rDHPE1ag+ITf8ckGldtIjXVjvcb/rnQFPNMKpeB4p+8zzEz6blfY370OKetnxP/U2Lg4u9Ds/GcLLaw2w9ByiWPpuXvy9uHaIYgyXjz/vufRaH9376nfaTW17Xd1e8B1o/G/F9tfj0kvjdrxCpEIm1BACAPI78Ti+lNa1RBySNoKZm1aPGWlP/7VmzrB2gNzUe7Bc1zaly+Ntcwxvjz6n9sIweTael+yM//R6K77XXns6lVl1T34/3WK3S/Y+e92Xuv1dG/F7kdwAAAAAAAFgc/Uik7sNCieiZKO0Fij6NW/pODKpDPwsAAIpBG2VQXd2Br1YL6tJBdTHYavrFwKf4Huc63FR7aG2aaeBWFF5qD7D1eh/UDE+cfjGwquegtdrXF89rLzWvL4pt8d/3VnuYLf7bnu/1mkF1v3m/XYZpzuXWYZ9/e2ZbHmb9299Tta9z6wVghUisJQAA5HHkd/rVWUvrFTHUi7/XCUeprdfUVeeo9dUOq2sxIKz2Z9byddwqarIj7ZH02B+Za0+z5hmI+m+t0kGJNR9c1UP83tj63rX8DgAAAAAAAKn0I5G6DwslvRalZw8vH6x5yxl3g+rQzwIAgGLQRhlUV3cIJw7htVAyqC4Oh/302i9FgqUcTJz+OYwz56Cq0oM71z+HJRzEmmY6bFRT1Jo6H16sOaw4Z/Gsdlhdz59zybMZ38tvfi/MMQjws9qhmnP+jo3nouYZ7jkEUiESawkAAORx5Hd7DKPUVjf8+7PL/k3U9UprlXMOv4oa3S2f6jt1+PCPmlpj1P3m3su5vnc19ejW9fzW+yNz39ua56B2H6J0fy7u0UhK76G/U+R3AAAAAAAAaEQ/Eqn7sHBL30/p+fjoF7ru7zKoDv0sAAAoBlm0dzvwsaZBdaWHl1oO/SkZVPfy8vLt4aH45xlKvpfr4kYMY5pbHF6ZBhr+1GNQ3ZzD/+JnWPNaozg20j2NYYZzq7mHPQ+Vld7HKFp+9x7KeN/XPqdxWC6jeFxz0HHLB/UUIrGWAACQx5Hf6SPq0NMCPhxiiUpr7dl7F1l7SDV1/tq6Wc0H+GTti7Sqn7f+WbfcH8kYAFgz+K/Fvl7ph520+mCuFkruX6uBk8jvAAAAAAAAMOlHInkfFn7br1R6Nj76Sz73ihhUh34WAAAUgyzaux34WMugupoDLy2HaZUc9vruoMb1JPul3M9p5mFqIx1i63kQa0oatFZzQHXqcCgq7sE0yCDC36oZSNbrUFnps/m331eZh8dq7m/GAcfrg46lhw0zn2eFSKwlAAA0BsjjyO/rVFMHpF/9KrsWmDX0qnSwXu2Hf5TWn7P3RVq9l1v+vFvuj2Q1xZY+Dy32Xr/70Jjphw+bGUG8H6aFfLCM/C6/AwAAAAAAsFp6X0jdh4WePTZ/+yBFg+rQzwIAgGKQRXu3xehaBtXVHPT624J8zsNTU+cBenPez9bD3kqUDqurPcTW8yBW69d2i9JhWlOHQ1Glr6Xl+/xWcbhvxPfT1HCIYlZRsubeZg7Xu6gZVjfC71qFSKwlAADkcXkc+X09SmvbWx6o/1vZg8OWWH+qqa3X3LPvPlhoSXttpd9Hyw/LabU/krlXVvM9tKgdL20v6VrpPqMGaPkdAAAAAAAAGtKPROo+LPToT4l+vcPh0KQPUJ8G+lkAAFAMshjd3KC6mkFFrRfTrQbVRbEga4BSzf0c6XmKA1Ul38N3RZqsg1hxqKzFk/DQxwAAgABJREFUgcSM76PloajSg1lTowOdGc9jHOYapKAz5BDA0vs6UiE1ns2Sg6NrGTSrEIm1BACAPA7y+xhKa9tbrVHMVV+trWGV/tkjfMhD7JOUvPb9fl/058V/t/Ra40XpcMSWgydb7Y9k1/ZLh/612GuKIX1LvGel983gU/kdAAAAAAAAGtOPROo+LLTusYmzlD/1dBlUh34WAAAUgyzaux34WMMhstKDGtM/h61GOMw30gK/9ADTNMjhl4souJQchIlizWgHsVq+poz3WavnovR+jnC4qfSQY8tBf5UFnSHvbekhwdH+7nt9fV3871yFSKwlAADkcXkc+X3ZSoeCRd2QfnXi2r2C0j2Lnh+g0btmVlpPj+95qfXnz2o+kKjVh/m02B8Z4Tks3RspHZh47e3trejPjvdOptL9kMwPxZHf5XcAAAAAAABWST8Sqfuw0KrHJs5Q/rYXxaA69LMAAKAYZNHe7cDH0gfVlR7SmDoNAGsxqC77UFPpgcQRDgy1OAzTcnhhq0F1IwyjKj1YFFe8T1soHaI4yu+50vs32uvp8bOd+5kcccBbyd8fWzy4pxCJtQQAgDyO/M5YtSKDhX4Wg78y6m8jDCurUfr6Sz/8o/RDMTJrpN8pHbDW6j3dYn9khOewdF+i1X0seS57fgBOz2dvix/MIr8DAAAAAABAV/qRSN2HhRY9NtGHcTqdfv31DKpDPwsAAIpBFu3dDnwseVBdzeGuqdOhhxaD6jIPNdXc01uKHXOKAzm3fi+//XSBOQ5iRSFpFKUH9VoNMYz3a9zT19fXj0NeccV7Lq7vfs6tB1LOfTir13trWvhQzXiuppUM1Sz9fZH9M1CIxFoCAEAel8eR3zf7HjeobgH3N+qoS983KvlgnZIhXaW1/JYffNNa6Qd9tBpyVrs/Mkrts/Q+tqpDl9bBs4a+xX7GtMEPVpPfAQAAAAAAYEj6kUjdh4WaHpvoSyo5a25QHfpZAABQDLJo73bgY6mN/zFQrXRoVs/vvXZQXfbBmxjoNa1o8FOIYsyt30+rwWYtBtWNVOwpPRDV6mDbb10G2l2G2o1yD+NQ6UjPQO2zmX0IufTvgPj7Y1QlB2+zDhwqRGItAQCwPfI48rv3+GRQ3aLub0mtabSf6aUmHd/L5UNLon5/+SCTSx24tkZWWrsdeW+k5rlroXZ/ZJTnMHv/tfTPj72RDCV7clPyh3j5u0d+BwAAAAAAYLX0I5G6DwulvSHRd1LaD2VQHfpZAABQDLJoH/6gxNyHHGqH1MW13++bv7baQXWtBqSVioFio9zLVk6n083PS6vBarUHsbIHF7b8fuLnsHXxPplWNKgu82da+izOPTTxVnF4cHKATyESawkAAHkc+V1+H/89rlltpvtbOqwrGhX9TH+vdG9n9Npc6ffV4hmo3R8Z5QM6og6eXYsuGTqZVQt/fHy8+bXGHp49JPkdAAAAAAAAOtCPROo+LJT02NR+uKNBdehnAQBAMciivduBjyUNqotDCk9PT9XDlXp+37WD6rIX9iWvOQ6QjK7kuWlxKKb2IFb24MKWByoVrcqfhxEH1WUPfIuC6zTjwd6RDz3G7zeFSIVIrCUAAORx5Hfmrkmo+81TiyutZ8UAtdI/089nPR/QUlpHjQ/UyKqHTwN+iE/2eyn2iqYFDPsr/btkazVu+R0AAAAAAABmo1eC1H1YuKXHJs5rHg6H6q9nUB36WQAAUAyyaO924GMpg+riUEwMRJsaDKmLr9PrcEbNoLrsgW+lz9ASDpCUHMrb7/epB7FavYbWouA1JR1s2+rv6REH1WUPfCv9XduiWDvae2y0Q5sKkVhLAADI4/I48vt26laa1frXVUvrcKUf+pP9ARX/Y++OcRs50jYAV+BsYgMM5wLmBZwy8g00Z1jwCAPoCAudwXMDRk55geUFFA7AmBkDrT+tuZZkaciuru6q7n4eoPD/WI8kstkkv/q66u0aomeYZhCm9p64xpDz3LbbbdXPlRJ/v2INVPz7Kq5p5vz9uDY2ptyATN8j6ncAAAAAAAAYiPVIVL0OC7euXYqbGJYiqA7rWQAA0AwyaR9sw0fLQXUxwY7NVKUC6tIIAUt9gupqb7yJ45ImsNFlrPdHifOkb1Dd+Xxu7ljmbnAs2SxbUBNl0M+sPudm7SZkzvdC7TDQW8V3wRw+KzQiMZcAAFCPg/p9OgTVDS/32kFubzA3GG+JfdyaYW5Dyw04K3HtMPdvpwZulNKzBhqkb5vznh77HM3pbS/tRizqdwAAAAAAABiV9UhUvQ4Lra9Ts/YP61kAANAMspFsskF1sWEjNgTFRqjYmJAKhtON9Xxzw95SA4FvuRvlYrPRDCevRc6VPhs8W92cs9vtZheK2fqGthaD6mqKENM5n4M53yNLagprRGIuAQCgHkf9TnmC6oY3dlBd7usZ/d+lyb2u01qYWulzoebfbu1zpYXnkXttZqybnMTfmfP7SP0OAAAAAAAAk2Q9ElWvw0Lr69Ss/cN6FgAANINsJGs6uCdCzeKxxohNFRFKF49hqGC6l2Oz2Qy+IaNPUF3tSX3uazAVXZ9fiaC4Phs8t9vtrD5r4v3HPILqage+RaBpmvGGt5z32JI2EGtEYi4BAKAeR/1Oebk3BrBY7Xar1Wq0npbgwW6iF59zrKJPOQXRm0+VAs5yz8OxwtVulRs0WfL9lBsEN9ZNsuLvpBnfDEv9DgAAAAAAAJNkPRJVr8NC6+tcrP3DehYAADSDFqrPxqOUGVR0yxjzMaXKIXWhT1Bd7Y03aYKBVUNvJKr5vmw1VCt3M5TP6f8FdaYZBNXd399XPY65n7NT2Tia87lR+zXRiMRcAgBAPa4eR/2+uPe4xWojHd+xg+qWGBrVQgjZXJ/fXK4ltHKO5IQqjnVTpJzHNqVrjOp3AAAAAAAAmCTrkah6HRZaX+di7R/WswAAoBm0UGMH1U1pjBVSF3IDlFar1STPn7kH1fVttPR5X+73+9ltqvQ5/TiLoLraIYo5G96m1DjNOU+WtKFPIxJzCQAA9Tjqd9rq+bXcx5zD8c3pxe12Oz3cDuL6TJrgzYduFTe5SBMKqmux19lKUF183rZ4rube4Mj3h/odAAAAAAAABma9BFWvw0Lr61wE1WE9CwAAmkELJaju/REbcMbcLJQbVFd7483hcJhkYNXQG4lqBtW13ORZr9dZz+l4PM7ys/fWkbtBtLWgutrnZiubAlv6PhdUpxGJuQQAgHoc9Tu1ekVT6hEv5fjmXqdY6vtr7scq93yIfnaNYyuo7sdyghWHDoTLCdCL5zGVsEf1OwAAAAAAAEyW9RJUvQ4Lra9zEVSH9SwAAGgGLZSgun9ucBh640XJDT8PDw+T3Kg096C6vudQn/fl6XSa1bFsuXEVx/oSJBfndIx4jpeRs/Gr5GgtqK72uZkblDj373ONSI1IzCUAANTjqN+p0SsSVDfs8c0JC8vt90ffzWtz+zWoqah5/WeK18ve09I1kbhBV9fHsd1uBz0+8ftTxo3GUL8DAAAAAADAwKxHoup1WGh9nYugOqxnAQBAM2ihBNW93txQK0hpqoFvuY977qPv69LnfTmXZlVLjavz+fz8GOJ1jY1TuYFnaeFBdVPd1Dv3oRGpEYm5BACAehz1O33k9sqEDQ3bJ87pqeb2+6PvuzTH43H2x2pqQXUthl+2dE0k9/Mkro8MIX5vmtGNjdTvAAAAAAAAMCvWI1H1Oiy0vs7F+g2sZwEAQDPIRqfFjphA154Y52742e12VR93hHYlQU+C6ia4KeuW1yBex81ms9jzsOQmwSSortlRK6BVIxJzCQAACwPU46jf5yG357fEcLMx+8SC6tp8baZ0rA6HQ7UQyiSobpDHkxMsut/vB3kscX2z62OJx4/6HQAAAAAAAEZgPRJVr8NC6+tcBNVhPQsAAJpBNjotbkTIWisT4twNYLUff+4mm7mPh4eHau/LluUGGw61EeqtCOyK1y5ns1YSVNf0BjKhrBrDGpGYSwAAqMdRv9NWj1hQ3XW5QWExzufzaNcpBNXN81jVfI4tX0cY4/NxqJ5tXP/IuZY6hJybBLUYRqh+V78DAAAAAAAwS9YjUfU6LLS+zkVQHdazAACgGbRQSwvvibCk3W73HEjVEkF18xp9N2LNdZNb7nk+9OajON5zPJdbCqqrfW4KqtMY1ojEXAIAQD2O+p22en5ek/aOraA6PfxWnuNc+pytBdXFtdE0UvDlEI+jtWu76nf1OwAAAAAAALNl7QtVr8NC6+tcBNVhPQsAAJpBC7WE8J7tdvscTnc8Hme34az2cxJUJ6hujPN8qMC12NQUnw9zPQ8F1S3ruy4JqtOIxFwCAEA9jvpd/T6hnl8SOnRVbu9ytVqN+loKqhNUlwTVvau1oLqw2Ww6P579fl/0McQ1266PIR436ncAAAAAAAAYifVIVL0OC62vcxFUh/UsAABoBi3U3MJ7YqNCbN6KDVVTmuzmbgCrLWdDSxJUt9hNbi0F1eVshEqC6rI3Ccbnsu86QXUakZhLAABYGKAeR/0+P4fDQV9iILkhV7l94tyeqaA6QXVJUF3R9/CQzyXnfV66v99CWB7qdwAAAAAAAPgB65Goeh0WWl/nYt0f1rMAAKAZtFBTDO+JDQwx6X14eHgOYoqNcFOf2E41qC4JeRJUN8J5XjJw7Xw+P2+qWsJ52FJQ3VCPZc7fdUlQnUYk5hIAAOpxUL9PwPF4bK5/tdDPz/+PuHaiL91mv1FQ3XDnvqC628Q1kq6PZ7VaFfv7p9Mp65jE40b9DgAAAAAAACOxHomq12Gh9XUuguqwngUAAM2ghSq10SR+z0djt9s9bzi7ZcS/ffvzsdFt7gTVCaorsblTUN31DVgRdLmU81BQ3d/iu8Vnk6A6jUjMJQAA1OOo32mrTxw3lKBsjzjGfr/P+puC6hyrVp5jElQ36OPKuZlP3DSsVq/+/v7el4L6HQAAAAAAAMZkPRJVr8NC6+tcBNVhPQsAAJpBC2XjURsE1QmqK3FsBdV9bOyQutVq9fx6XEZspLolrDM2kb4X9pkE1VX5rkuC6jQiMZcwlwAAUI+jfueq3DCm6KHxvj43XujT73G9aNh+o6C64c5DQXW3i+sQqVJYXM51mlIheajfAQAAAAAA4EbWI1H1Oiy0vs5FUB3WswAAoBm0UILq2iCoTlDdEjYE1gyqGyqkLn5vbNCKjaPxeXo6nZr5nBZU1/8YJkF1GpGYS5hLAACox1G/c1X0x3J7E8fj0QF8x3a7zT6m+tLt9hsF1Q13Hgqq6yaCQtPIwaJx/aTrsViv174Q1O8AAAAAAAAwNuuRqHodFlpf5yKoDutZAADQDFooQXVtWFpQXWwsiXNoruPh4aHKsRVUV/bvfjRik+h+v386n8+jHLeczVtJUF2R77rL+2rOYymbwTUiMZcAAFCPo35nOHETh9zeS/ws/xQ99JR5Y40+cm74IahunsfqcDgIquup5aC6nIDROCfG/q4ocb0N9TsAAAAAAAB0ZD0SVa/DQuvrXATVYT0LAACaQQslqK4NUw2qy9m0lhoIrZrhpFlQ3Qci5G21WvUOp4vfEY8jft9UzgdBdf2/69QJGpGYS/iMAABQj6N+57oIws/tvfQNVnM8y4Y65QRrLfF6UdzEZO7X1nL7+XGjlxo96DkF1Y1xc5GcnnmE2/WRc02x1jUZ9bv6HQAAAAAAgEWzHomq12Gh9XUuguqwngUAAM2ghRJUN+0NP1PdZCOobpiNWHMNquvTuMo9R1+O9Xo9ysawj+RuTBVU1/+7Tp2gEYm5hM8IAAD1OOp3bhM9tNz+iyCi1yJsLvdYHg6HKj1c32+395qnosaNZ/oc2zkF1bX6uR039MkVn/NJkKn6HQAAAAAAAKbBegmqXoeF1te5CKrDehYAADSDFkpQ3bQ3/Ex1k42gumVucss9X3IbVzkbn96O7Xb7dD6fJ/k5Laiu/zGMUfv1RyMScwkAAPU4qN+n4P7+Prv/stvtHMAX+oT+9e1l7fd7QXU3itCuOR8rQXX9tR5UlxOKmRuGGZ/zXf9WfB6hfgcAAAAAAIAKrJeg6nVYaH2di6A6rGcBAEAzaKEE1U17w89UN9nEpkXKb8Rq/TNt7KC6nE1WqcENsoLq+osNurnngcapRiTmEuYSAADqcdTvXJcbcJYmcAOOMR2Px+zjuNlsqvUil3izh9ZDyPrKDZ8UVDedcyTnZj+51/fi88nnivodAAAAAAAAJsJ6JKpeh4XW17nYb4n1LAAAaAYtlKC6Nkw1qC73cTt/htmIlQTVvbJarbKPY4TcTf1zWlBdmfeUxqlGJOYS5hIAAOpx1O9c1+dGAXowf8sNB4sRYYG1Xsclvn7b7TbrWEUY4RSM3c/v28sVVJena4BcXHfpKieA0w2v1O8AAAAAAABQkfVIVL0OC62vc7HWD+tZAADQDFooQXVtEFRHiY1YMWIj4dw2to352RZjvV7P4vNBUF2Z95TGqUYk5hLmEgAA6nHU79wmN7hLz/h/+ob9leoNR380VQjJm5rcvu1U+o1dA8ySoLp/mEJQ3W636/z4DodDp78RNwYa+m+gfgcAAAAAAICCrEei6nVYaH2di/2WWM8CAIBm0EIJqpv2hqbaYvNZzuNerVZe9AE2YrXe5InXfazzPPc9lRrcVJmziSsJqiu2KbCFx45GJOYSAADqcVC/T0Fuv/gyjsfjoo9fn55mhASWkhM4uMQeWu75PpVjlXsu1vrbLQab5fSkx75+djqdOj/G+/v7Tn+ja/hlazcTUr+r3wEAAAAAAFgc65Goeh0WWl/nIqgO61kAANAMWihBddPegDbV88d7b7hNYC03eXKeT+6GpJzNlKnRDVCtBayliW6+zD0nIigQjUjMJdQzAADqcdTv3Cb3ZhVLv+5wPp97HbuSN9/IuV6xxNcu9/rIFPqNcT7W7K+nmQQA5vT2a7yXuvbOu4TpRQCpnrz6HQAAAAAAACbGeiSqXoeF1te5CKrDehYAADSDFkpQXRumGlSXu2EoRmxOofxxbXEzVp+NbbmfNbEhbi7Hr7VzYarHNfdz1vedRiTmEuYSAADqcdTv3O7+/j67nxXjcDgs8rhFMFPuMesSGnWLnOtGpR/DTL/jnsdms2n+edW+dpgE1Y0qgi7TQDdNyvlsO51OvkzV7wAAAAAAAFCT9UhUvQ4Lra9zEVSH9SwAAGgGLZSgujZMOaguNxAsNr5QdiNWjNgIOqfPmtznk2ayETYCHZOguiLitU0NbPRFIxJzCQAA9bh6HPX7nEXAUOoRVBf9Zsesfu8tuTnNTSJ0bqrXdn4k95pVhJItuQf91lSC6uJGQ9EHH+K17noNcQpBjup39TsAAAAAAACzZz0SVa/DQuvrXATVYT0LAACaQQslqG7am35asN1uq25YMmmexkbO3HM8Z3NZbKrKPX7xsy2J90kSVFdEnw2/8bNoRGIuYS4BAKAeR/3ObeLmE6lH8NrSesc5YVbpxU0Whuhp5jym3W7X3HGN4xP/9zLiekb0Ki8jHnNcJ7uMrmF7uf3b1hdr5l73KXUjmCSorvnP7VuuReXciMdNrtTvAAAAAAAA0ADrkah6HRZaX+ciqA7rWQAA0AxaKEF1bZhyUF1s5EozClSb6KS5+VCt3M2pOU2r3M+1Fr8T4n2SZhBUF6//lI+nzXEakZhLmEsAAKjHUb9zu5xwojRQ4FXrcq8NDN13y3lcrfQALyKkrutz2Gw2nf5GnKdphmGMOccuFbwRTBJUN7qcc/lasGNOkGNrNxNSv6vfAQAAAAAAWCTrkah6HRZaX+ciqA7rWQAA0AxaKEF1096MNvVNh9c2sZg0p9mEasUGvzRS6N5cPtdyNzmmBoPqWjm2uYGJ2+3Wh5JGJOYS5hIAAOpx1O90kBPQ9HJEUFaLN+QoqW+gXxyjoUKdch5bPJ5WxHFJIwT/xTma83e6BuKNKbe/XvI5pQUH1dUMfOx6o5drgYtdf19rYZfqd/U7AAAAAAAAi2U9ElWvw0Lr61wE1WE9CwAAmkELJaiuDblBda1s1IsNaGkmG4cmOmlufjNPytxoueTPtdxQtSSo7kMR4ph7PIfa9ItGJOYSAADqcfU46vc56hvClv4KvpprTyZ6+7l99bH6611DplJDN1HJ7RHvdrvOfyv3Ji2tLtjM7UtfCy1bSg/6pZyguprXzeI17PJY4zOi5HdA3LwH9TsAAAAAAAA0wHokql6HhdbXuQiqw3oWAAA0gxZKUF0bcoPqWpnQ525cig1clNuIlW7YHFRDbC7KeR7b7Xaxn2uxATf13MgrqO6fYgNw7vFsZZMtGpGYSwAAqMdB/T4VXUOP0kLC6uL55IabjdkDzun7t9IHzL1mEeFaXUW4XZrJDWfi3MwNUMw5dnPsQb80taC6nHC5j173kqF3qN8BAAAAAABgZNYjUfU6LLS+zkVQHdazAACgGbRQguraMPWgutwgshgRHNXyhsFajy/13MDZUrMnd1NgbPBb6uda7jFLguquyt0EnBucOOYmQjQiMZcAAFCPo35Xv7fWX43woSSs7tUx6RtSFyN68kPL7fu30PPPCVuLn8nR5+YYrV0fyb1WVTpkLAmqq6br51ME0r2n62f/R78H9TsAAAAAAABU8GQYNQe0vs5FUB3WswAAsNhm0NIJqpv25p+WJvQ5G79iRCBXqy5hYbGhJjbJjLH5r89GrFaPa+65kRu8FZs9p9zIzf1cToLqbhIBiGkGAZAfbYaNQL14ji2HgGpEYi4BAKAeV4+jfl+OPjc5SW/C6qYe1B+Pv0RI3ZiBTjlBg7V70/v9fvSeek4gWWownCs3WLL080iC6ibTP38vpDA+68a6HoT6HQAAAAAAAAYgLM0QVMfiCKrDehYAADSDTNqvElTXhjkE1V1C3dJMwp9eBj+9HWMEQZVoSrYQVJW7EfW9zU1jHL8Iuasp/n7uZsAkqK73e3uq330ffYfUCNnUiMRcAgAA9Tjqd0r2jl+OuCHGVBe5RQhT7g093vZ7xuxhTvHaRW5/tc9jzg3Hi3OilRtO5D6HIa5FJEF1k+qfvw2Z6/qZHwGeqN8BAAAAAACgIcLSDEF1LI6gOqxnAQBAM8ik/SpBdW2YQ1BdbERJMwp/inCndOPGwCGCoEo0JWMz0FQ3ocYxrXH8agd63XreJUF11TZHtxb6FhuTb93kPEbIpkYk5hIAAKjHUb/znggiKtX3ih5a7RtOdJHb/083BEINLfemD2MH6vU91n1vnBJyA/JaCOmK1zk3SHGI6xBJUF1V0Ufucz2n67kUPWvU7wAAAAAAANAQYWmGoDoWR1Ad1rMAAKAZZNJ+laC6aW9Ua21Cn7PpJjUY/pT7vii5gahEUzI2A429cbHEcSxxPuRuCuwbkNfHfr8v2pQWVPexPsGaJTat1tw0eBlLC6vTiMRcAgBAPY76nbr6BGF91KNpfcFbPL7cPuV7I/qHNdS6GUlOzy/3HCtxbPsEEtbsS4c+QZJDvA/TRAP/3ppqUF3XaxUve+Zxbafrc55S8Kj6Xf0OAAAAAADAIghLMwTVsTiC6rCeBQAAzSCT9ps2SiVBddXNJaiuTzBZ7VC1i9gQk7t5sORmmlKNydicVWuTT+7mthJBYLmbJ1OlAK/SIXUx4hgMIef90Vq4W+4mwaGP7VjnTSuPXyMScwkAAPW4ehz1+7L06R//6FpFi33yPr2n1Fh4VfRLU+Phen1C6uLnSvTQ+1xbSBVv5tOnlz7UtcK5LNTO+Rxo4aZOcS53fT9dru91PZ/iRiyo3wEAAAAAAKAxwtIMQXUsjqA6rGcBAEAzyKR9sI1hgurKmktQXe7Gm9RIWF1svskNVysd/JQmEFg2xDkdY7fb9f77fYLfxv58i+d7y3sjZYQUtvQen9vG6Nphb/FZmSYUxqgRibkEAMByqcdRv1Oqb3etpxe/u9ZNO0IETJUOqEuN3HSgT5jZ0CF70evKDakrfXz7nt8leuOle9M1+oxpwUF1rVz36/qef3h4eP65ru/FFoL5UL8DAAAAAADAG8LSDEF1LI6gOqxnAQBAM8ik/SpBdW3IDfVqcQNHn/Ck9Fe4Vo3NhPE3t9ttMxuySjcox9zgFudAn42BJV7/+B19jtcY7614jLds9op/k7vBdYim31yC6vpusE0jbLId4j3WwsZmjUjMJQAA1OPqcdTvyzZUWF3664YP0f8Yq3cefZoIaFqv14M8n1Z6OSXC4Ibo+8e51Odxxc+Wfly5N8O5jLhOMfQ1kvj9fUMVh+yNJkF11cVnaNdre11/Jt5/qN8BAAAAAACgQcLSDEF1LI6gOqxnAQBAM8ik/SpBdW3IDaqrFZJ0TWzM69NMi019YzYrYpNdn81j8Xxb2Yg19uN8b/NSn42BJR9jn9c0zsEhNwPGBspbNq9eHkfupsEhPqvnFFQXx7bP+ZoG3GT7kQid7PN4S4dqakRiLgEAgHoc9Tu5/bExFm5GLyv66NFvLtEXid8T/ZkIE+vbV0oTu+FA7nWM9CbIqlRPv8+NZ9KANyzpezOfoa+R9O3hpxFuOJQE1TWhawBn1+c7xjUr1O8AAAAAAACQQViaIaiOxRFUh/UsAABoBpm037SpKgmqm+wGr1aD6mKDUtcNLOmDTSpDB0DFhsg+m7KGCjRLmZvDbvk3sVGuxc2l8TqUPJYlNk6WPlbx+7o07S5/v89zKd34m1NQXalN0XHuDrGptfTm29hErRGpEYm5BACAehz1O62IvtXQYW8f9f0uAXbXRvRjcvthc+zj9Lk5yMueehzbnF5w9OBKvR7x2g6l780mXp6r8btK9M3j/VYi3C/es0NdY+hzfSQJqiuu702pbr3+gfodAAAAAAAAGiMszRBUx+IIqsN6FgAANINM2m/amJIE1VU3t6C6EBtMSjTWYtNTBEmVDoOLc79EmN5QG2lyHkts0rtlY2f8m9yNgB+91vf3972PZenzOZ5fiY2uJR5XvDZdNwHGed/3M+LyeV3y/TO3oLpQ4vxNf21uLf2ZEK9dvP59z+Wlf29rRGIuAQCgHkf9Trt95BLhZ3MZY9wQoe/rVTJc8BIYGM85evZvR/zv8d9LhwXGc4gbQwypRCjcyxE9zOgZ39p/jOcX/z5+rsS1kPf61o3UDoLqBny/pwEDQ1G/AwAAAAAAQKOsYTEE1bE4guqwngUAAM0gk/arBNW1YY5BdWG32xVtssXGrj6hdbGp5uHhodimrCGPf87jifdzHJ+xjmn8XKkNgkNtSuoT8Pb28XVpoMXxjE2UuZsA4zx9e6xTgcDHWpvrWv++jder5IboeM3jNewTWhevV6nNrGNsvNWIxFwCAAD1OOp3+vRmSod6TXFEf2oKPZzoe079WI+xWLJ0z/G9HmT0at+OkqF0b0dc82mwdhBUN6ChzuGxziXU7wAAAAAAAJBBWJohqI7FEVSH9SwAAGgGmbRfJaiuDXMNqgsR1DVEwy3OwQiCimMQG+PiXH47Iugp/vsQm7PiebW2EevS4Mnd1Hk5prFB6L3jGcf5cjwj+Krk8ewT6HVtM2DJxxrnUbz2cRxeHps4ZvG/xbHve6699/la6nnEY4v3xXuPfcjNdVP4vo1zsPR5nV5sGI1j/NF7K0b89zi3SoU/phchdUO9vzQiMZcwlwAAUI+jfqek6D8O0Z+ZwphCr7/ENY0WRqkbetzanx4yrG7MMfQ1kb7XR5KgukGUviHVZeTekAr1OwAAAAAAAMBEWedG0wTVYT0LAAAm7SbtVwmqm/amrqlsXhsqrC7NeENW6hFUN7XNb0NvDIzfP5VjEa/bRxu0hn4fDbm5birft0OF1aWFbLzViMRcAgAA9Tjqd/qK3ljujTimOKLXdjqdJvlaTbHvX6NXNoewurGvRaUFB9W11s+Nz6fS51N8xqN+BwAAAAAAAFgY69xomqA6rGcBAMCk3aT9KkF1bZh7UN1UN62lSiF1uRuxXjZ4phK4NdbxnML596OQunA4HATVjWBOYXVC6jQiMZcAAFCPo35Xv0/52kVuH2oKY71eP/f7pm632+mV3SD6vlM8n6NPWuM8TQsOqmvxul/p8NA5fPap39XvAAAAAAAAAB1Z50bTBNVhPQsAACbtJu03bfZKguqqiw1SaeZBdVPbtJYqhqrlbsR6u7mn9cCtMY9n7qaw1EhI3VAbwpKgug83jsZrMtXPqlobSDUiMZcAAEA9jvqdIa5hzCmwLgLq5nZzgehDtdyHjj5f9MpbkHvToqUdt7n0oOcSVJd7DfOj3jXqdwAAAAAAAIAFss6Npgmqw3oWAABM2k3ab9rklQTVTfZ1mFpQ3RQ2raVGQp9KnQ+thtU9PDyMfu61Gj4W4XO3hNRdnkNsZk2C6kY5XyJMMU1ss3O8PreeTxqRGpGYSwAAqMdRvzOlHvqQN3EYo2cz5xsLnE6nJnuvNfrQ10TPvuWbZMT1hLjpUE05PegWA9DmElQX/eZS15lafE+ifgcAAAAAAAAYgXVuNE1QHdazAABg0m7SftPmriSobrKvQ+3NQn02tUxlU2Gc67HJrvFJ8w83MLW28W2/31c991oKH8vZdBavZxJUN5rYQDxUOGDpMdXvBI1IzCUAANTj6nHU79wqerXRA5lCvyZ6svFYa/SXa4nebws3Tolj3/qCyDhWrZ3H0Ttv4XzN6UG3eN1yLkF1odR1lbi+gfodAAAAAAAAYIGsc6NpguqwngUAAJN2k/arBNVN+3WY+oQ+Hn+rGwrjcdUMVEuFQ88ioO3h4aF66F8rm5Big2jt86vP+3eI986Qm+um/n3bwvsnTWADqUYk5hIAAKjHUb8zpug1Rk+0pZt0xA1aove45DCm6KXF61Kj9x/Hf2rXTWoH1kWwYLxe8bq1YslBdXEOtyhu6JIKBEiifgcAAAAAAABYKOvcaJqgOqxnAQDApN2k/SpBddN+HeYyoY+NWLnhV2lmAXWZk+arQXUvz7Wxj3Uc09ic2eJG1rGPxWXTX6kNnxFQliYQVBfnwJw22cbrmATUaURiLmEuAQCgHkf9TlN9m+jrxs0Gxur5RehShEpFv8jiu/dFuFUco6H7z/G6T71PFv3qeB5j9B7jb0RvMV6fFi05qK7l6699AxVbvE6E+h0AAAAAAABgJNa5UeOa/mRGqT23OPeT9SwAAJi0D0dQ3bRfh7ltfovnE5ujxg6BanFT1tDNmDEC61oJ/bsmNjCWDHz76BwbarPk5X2TGg6qm9t3xmXjc2xGHrvpGn8zNvQJqNOIxFwCAEA9Dup3fiyCv6KHE33TCEuLHlXfoKXkjrC9+pjxWsTr0OcaQLyG8XpGjyxe4zmfu9H3LdGDjN8Rv2vOxwxQvwMAAAAAAAA0zDo3alzTF1SH9SwAAGDSXk4E3cQEruuYQvjUEl6HOQcVRWhcBHsNFQQVvzd+f0vhdH0bRjnNmDiHYnNaqeN8Oa5T3Ox2ORaxybHUeRa/a6zPy0t42mXTbboSnBf/Js6Z2CAaP3ury+Ze3xn/PG9KbHT+6LUSTqcRibkEAIB6HNTvlBO9ltx+jesj5URv8hJg99GI1+ry75YseoNxDOKaxrV+bPybrn1fAPU7AAAAAAAAwGCsc6PGNX1BdVjPAgAAJu2wzA1rsSEtGg4R2hQjApx+9P6O0KjLv72EZU0lQK1GMyY2rV02Bd7f3///2KUPAuniv0U4V07Y2VTOuXhuEbx37Zy7hInFcWvpPLu8pkvfxDn2htHLZtHLuXNLEOTlPRXn0OU9JZhOIxJzCQAA9Tio3xlG9O9Sj5tTAID6Xf0OAAAAAAAAcCPr3KhxTV9QHdazAACASTtg0qwZA6ARibkEAIB6HPW7+p2RPp9ejbndtAMA1O8AAAAAAAAAg7HOjepr3pKgOqxnAQAAk3ZAw0gzBkAjEnMJAAD1OOp39Tu3u7u7y14Yt9/vHUAA1O8AAAAAAAAA3MI6N2pc0xdUh/UsAABg0g6YNGvGAGhEYi4BAKAeR/2ufifXbrfLXhi3Xq8dQADU7wAAAAAAAADcwjo3alzTF1SH9SwAAGDSDpg0a8YAaERiLgEAoB5H/a5+J9fpdOq1OG6/3zuIAKjfAQAAAAAAALjGOjdqXNMXVIf1LAAAYNIOmDRrxgBoRGIuAQCgHkf9rn6nj81mk704br1eO4AAqN8BAAAAAAAAuMY6N2pc0xdUh/UsAABg0g6YNGvGAGhEYi4BAKAeR/2ufqeP/X7fa4HcbrdzEAFQvwMAAAAAAADwI9a5UcTd3d0sR6zjA+tZAAAwaQcYftIsqA5AIxJzCQAA9Tjqd/U7HZ3P56fVatUrrO7x8dGBBED9DgAAAAAAAMBHrHMDsJ4FAACTdoDqk2ZBdQAakZhLAACox1G/q9/J8PDw0CuoLoLuTqeTAwmA+h0AAAAAAACA91jnBmA9CwAAJu0A1SfNguoANCIxlwAAUI+jfle/kyFC5iJsLvUIq9tsNk/n89nBBED9DgAAAAAAAMBb1rkBWM8CAIBJO0D1SbOgOgCNSMwlAADU46jf1e9kit5q6hFUF2O9Xj8dj0cHEwD1OwAAAAAAAAAvWecGYD0LAAAm7QDVJ82C6gA0IjGXAABQj6N+V7+T6Xw+P61Wq95hdfE79vu9AwqA+h0AAAAAAACAC+vcAKxnAQDApB2g+qRZUB2ARiTmEgAA6nHU7+p3ejgcDr2D6i7j/v7+6XQ6OagAqN8BAAAAAAAAsM4NwHoWAABM2gGqT5oF1QFoRGIuAQCgHkf9rn6npwiYS4XC6pLAOgDU7wAAAAAAAABY5wZgPQsAACbtAA1MmgXVAWhEYi4BAKAeR/2ufqen8/n8tF6vi4bVxbi7u3vu3z4+PnZ6PBFydzwevTAAqN8BAAAAAAAApss6NwDrWQAAMGkHqD5pFlQHoBGJuQQAgHoc9bv6nQIiGG61WhUPq3s5NpvNc3hdjPv7++feboz4/y//e3oRcgcA6ncAAAAAAACAybLODcB6FgDARNCY+gCYwaRZUB1A4c9UwzCXAABQjxvqd5YrwupaOXcF1QHQcP0OAAAAAAAAwHXWuQFYzwIAmAgayeY0gNqTZkF1AIU/Uw3DXAIAQD1uqN9Ztv1+L6gOAPW7hb0AAAAAAAAAfVnnBmA9CwBgImgkm9MAak+aBdUBFP5MNQxzCQAA9bihfofHx8en1WolqA4A9buFvQAAAAAAAAC5rHMDsJ4FADARNJLNaQC1J82C6gAKf6YahrkEAIB63FC/Qzgej1XD6gTVAdBw/Q4AAAAAAADAdda5AVjPAgCYCBrJ5jSA2pNmGxYBCn+mGoa5BACAetxQv8PF+Xx+2m63guoAUL9b2AsAAAAAAADQlXVuANazAAAmgkayOQ2g9qTZhkWAwp+phmEuAQCgHjfU7/DWbrd7Wq1WguoAUL9b2AsAAAAAAABwK+vcAKxnAQBMBI1kcxpA7UmzDYsAhT9TDcNcAgBAPW6o3+E95/P56eHhQVAdAOp3AAAAAAAAAG5hnRuA9SwAgImgkWxOA6g9abZhEaDwZ6phmEsAAKjHDfU7/MjpdHoOrFutVoLqAFhq/Q4AAAAAAADAdda5AVjPAgCYCBrJ5jSA2pNmGxYBCn+mGoa5BACAetxQv8Mtzufz036/f9put8XP281m87Tb7RxkAFqt3wEAAAAAAAC4zjo3AOtZAAATQSPZnAZQe9IsqA6g8GeqYZhLAACoxw31O3QVoXWHw+Hp999/f+7XrlarTqF08TPxs/E74ncBQOP1OwAAAAAAAADXWecGYD0LAGAiaCSb0wCKiw2JSVAdQI1GpGGYSwAAqMcN9TsUdTwenx4fH98dp9PJAQJgqvU7AAAAAAAAANdZ5wZgPQsAACbtAOUJqgOo1og0DHMJAIB69Ti4FgAAoH4HAAAAAAAAmBPr3ACsZwEAwKQdoDxBdQDVGpGGYS4BAFCvHgfXAgAA1O8AAAAAAAAAc2KdG4D1LAAAmLQDlCeoDkAjEnMJAAD1OKjfAQDU7wAAAAAAAACTZp0bgPUsAACYtAOUt9/vn37//fdOI34GAI1IzCUAANTjqN/V7wAA6ncAAAAAAACAJljnBmA9CwAAJu0AAGhEYi4BAIB6HPU7AID6HQAAAAAAAIBXrHMDsJ4FAACTdgAANCIxlwAAQD2O+h0AQP0OAAAAAAAAwCvWuQFYzwIAgEk7AAAakZhLAACgHkf9DgCgfgcAAAAAAADgFevcAKxnAQDApB0AAI1IzCUAAFCPo34HAFC/AwAAAAAAAPCKdW4A1rMAAGDSDgCARiTmEgAAqMdRvwMAqN8BAAAAAAAAeMU6NwDrWQAAMGkHAEAjEnMJAADU46jfAQDU7wAAAAAAAAC8Yp0bgPUsAACYtAMAoBGJuQQAAOpx1O8AAOp3AAAAAAAAAF6xzg3AehYAAEzaAQDQiMRcAgAA9TjqdwAA9TsAAAAAAAAAr1jnBmA9CwAAJu0AAGhEYi4BAIB6HPU7AID6HQAAAAAAAIBXrHMDsJ4FAACTdgAANCIxlwAAQD2O+h0AQP0OAAAAAAAAwCvWuQFYzwIAgEk7AAAakZhLAACgHkf9DgCgfgcAAAAAAADgFevcAKxnAQDApB0AAI1IzCUAAFCPo34HAFC/AwAAAAAAAPCKdW4A1rMAAGDSDgCARiTmEgAAqMdRvwMAqN8BAAAAAAAAeMU6NwDrWQAAMGkHAEAjEnMJAADU46jfAQDU7wAAAAAAAAC8Yp0bgPUsAACYtAMAoBGJuQQAAOpx1O8AAOp3AAAAAAAAAF6xzg3AehYAAEzaAQDQiMRcAgAA9TjqdwAA9TsAAAAAAAAAr1jnBmA9CwAAJu0AAGhEYi4BAIB6HPU7AID6HQAAAAAAAIBXrHMDsJ4FAACTdgAANCIxlwAAQD2O+h0AQP0OAAAAAAAAwCvWuQFYzwIAgEk7AAAakZhLAACgHkf9DgCgfgcAAAAAAADgFevcAKxnAQDApB0AAI1IzCUAAFCPo34HAFC/AwAAAAAAAPCKdW4A1rMAAGDSDgCARiTmEgAAqMdRvwMAqN8BAAAAAAAAeMU6NwDrWQAAMGkHAEAjEnMJAADU46jfAQDU7wAAAAAAAAC8Yp0bgPUsAACYtAMAoBGJuQQAAOpx1O8AAOp3AAAAAAAAAF6xzg3AehYAAEzaAQDQiMRcAgAA9TjqdwAA9TsAAAAAAAAAr1jnBmA9CwAAJu0AAGhEYi4BAIB6HPU7AID6HQAAAAAAAIBXrHMDsJ4FAACTdgAANCIxlwAAQD2O+h0AQP0OAAAAAAAAwCvWuQFYzwIAgEk7AAAakZhLAACgHkf9DgCgfgcAAAAAAADgFevcAKxnAQDApB0AAI1IzCUAAFCPo34HAFC/AwAAAIvy85/j85Xxy5/jN4cKAABYMOvcAKxn6erXv/pqn28YAACYtAMAoBGJuQQAgHoc1O8AAOp3AAAAoClfkl4CAADALaxzA7CepatvHZ7zN1+1AAAm7QAAaERiLgEAoB4H9TsAgPodAAAAaImgOgAAgNtY5wZgPUtXguoAAEzaAQDQiMRcAgBAPa4eR/0OAKB+BwAAACZLUB0AAMBtrHMDsJ6lK0F1AAAm7QAAaERiLgEAoB5Xj6N+BwBQvwMAAACTJagOAADgNta5AVjP0tUfSVAdAIBJOwAAGpGYSwAAqMfV46jfAQDU7wAAAMBECaoDAAC4jXVuANazDPbd8ef46qsWAMCkHQAAjUjMJQAA1OOgfgcAUL8DAAAALekaVPfJIQMAABbKOjcA61kG++74q08HAIBJOwAAGpGYSwAAqMdB/Q4AoH4HAAAAmvFL6tZL+OyQAQAAC2WdG4D1LIN9dyRBdQAAJu0AAGhEYi4BAKAeB/U7AID6HQAAAGjM5ySoDgAA4BbWuQFYzzJk3+03X7UAACbtAABoRGIuAQCgHgf1OwCA+h0AAABoyefUrZfwxSEDAAAWyjo3AOtZhuy7ffZVCwBg0g4AgEYk5hIAAOpxUL8DAKjfAQAAgNYIqgMAACg4dwLAepa/+miC6gAATNoBANCIxFwCAEA9rh5H/Q4AoH4HAAAAJq1LL+GbwwUAAJg7WecGYD3LVV+SNTwAACbtMBWPj49Pv//+e+cBABqRmEsAAKAeR/0OAKB+BwAAAGYvwudu7SX8x+ECAAAWyjo3AOtZhuq5WcMDAGDSDnVF6FzHSYz3FAAakZhLAACgHkf9DgCgfgcAAACWwaZZAACA66xzA7CepYvvHZ7vN1+zAAAm7VCVoDoANCIxl1D3AACox1G/AwCo39XvAAAAwAe+pG79hM8OGQAAsEDWuQFYz3Krnzo+36++ZgEATNqhKkF1AGhEYi6h7gEAUI+jfgcAUL+r3wEAAIAP/JK69RN+c8gAAIAFss4NwHqWW33u+Hy/+JoFADBpp6LHx8f/j91u9xza9na8/Den02l2x0BQHQAakZhLqHsAANTjqN8BANTv6ncAAADgAz+nbv2Erw4ZAACwQNa5AVjPcqsvHZ/vZ1+zAAAm7QwswuUOh8NzINt2u33abDZZwWwvR/yOu7u759+53++fjsfjZI+PoDoANCIxl1D3AACox1G/AwCo39XvAAAAwA906Sf8x+ECAADMm6xzA7Ce5UPfOj7fn3zNAgCYtFPY+Xx+Do+7v79/Wq/XvUPpbh2r1eo5CG+3200quE5QHQAakZhLqHsAANTjqN8BANTv6ncAAADgB7punv3kkAEAAAtjnRuA9SzFvzOSm0IAAJi0U06E00VA3GazGS2YLt0QXBdheYfDoeljJ6gOAI1IzCXUPQAA6nHU7wAA6nf1OwAAAPADX1K3nsKvDhkAALAw1rkBWM9yi88dn+tXX7EAACbt9BQhcNvttplwunQltO54PDZ3DAXVAaARibmEugcAQD2O+h0AQP2ufgcAAAB+4JdkAy0AAMCPWOcGYD3LLf7V8bn+5isWAMCknQzn8/lpt9s9rdfr5gPq3hvxuPf7/fPzaIGgOgA0IjGXUPcAAKjHUb8DAKjf1e8AAADAD/yUuvUUvjtkAADAwljnBmA9yy3+6Phcf/YVCwBg0k4HEewWoWqr1WqSAXVvRzyPeD6n06nqcRVUB4BGJOYS6h4AAPU46ncAAPW7+h0AAAC4ousm2s8OGQAAsCDWuQFYz3LNp+RmEAAAJu0MZ7/fzyagLn0QWBdBfDUIqgNAIxJzCXUPAIB6HPU7AID6Xf0OAAAAXPEldesrfHXIAACABbHODcB6lmt+018DADBpZwDH4/Hp7u5ulgF16Z3AugjkG5ugOuj+noh/A2hEYi4BAIB6HPU7AID6HQAAAFiQn1O3vsJ3hwwAAFgQ69wArGe55o+Oz/NXX68AACbtXJEboDb1cX9//3Q+n5s/zjBXt4RjCqoDjUjMJQAAUI+jfgcAUL8DAAAACxThc116C784ZAAAwEJY5wZgPcuPfErdMx1+8vUKAGDSzgdOp9PTZrNZZEjdZcTzPx6PoxxvQXXw2mq1ElQHGpGYS6h7AADU46jfAQDU7+p3AAAA4J++pm69ha8OGQAAsBDWuQFYz/Ij/+r4HP/tqxUAwKSdDxwOh5tCopYw4jiMEVYnqA7+FkGZt5z/gupAIxJzCQAA1OOo3wEA1O8AAADAAv2Suq89/8lhAwAAFsA6NwDrWX7ke8fn+KuvVgAAk3bekRuY1nXc3d093d/fP/+9CMZ7fHz8/3grguIu/2232z3/3GazmVVYnaA6+Nt+vxdUBxqRmEuoewAA1OOo3wEA1O/qdwAAAOBjXTfV/uaQAQAAC2CdG4D1LB/5Nbn5AwCASTv9RQBcGijsbbvdPofMvRdE10cEyEWoVfz+NOGwOkF18LeHhwdBdaARibmEugcAQD2O+h0AQP2ufgcAAAA+9jV16y/8xyEDAAAWwDo3AOtZPvKt4/P7t69VAACTdt4YIqRus9k8h8idz+dRnkP8nSFD69br9WDPRVAd/O3u7k5QHWhEYi6h7gEAUI+jfgcAUL+r3wEAAICP/Zy6rz//1WEDAABmzjo3AOtZ3vNZLw0AwKSdnkqH1MXvO51OVZ9T/P0hAusiQGsIguqgexNDUB1oRGIuAQCAehz1OwCA+h0AAABYsD9Stx7DN4cMAACYOevcAKxnec/Xjs/tu69UAACTdl4oGVIXwXC1A+reenx8fA6XSwXD6na7XfHHKagO/ud4PAqqA41IzCXUPQAA6nHU7wAA6nf1OwAAAHDdr6n7GvTPDhsAADBj1rkBWM/y1qeMHtq/fKUCAJi085dSIXWr1erpcDg0/Vz3+/3z40yFwuoiTKskQXXw93s1CaoDjUjMJdQ9AADqcdTvACN9JwKo3wEAAIAJ++nP8T116zN8c9gAAIAZezIMwzBGG1PxNeO5ffKVCgBQcdJOO7qEQf1obLfbp/P5PInnHOFym82myPO+u7sr+tgE1cH/dAnQFFQHNtZhLgEAgHoc9TtA3+9EAPU7AAAAMHE5G20/O2wAAMBMCY4yDMMQVPfSp4zn9W9fpwAAlSfttOHx8bHI5GG3203uuUeoXpcgrB+NCPsrRVAd/E+XMElBdWBjHeYSAACox1G/A/T9TgRQvwMAAAATl7PZ9g+HDQAAmCnBUYZhGILqXvp3cpMHAIDpTdqpL4La1ut1r0nDarUqGtJWQ4mwujgOcTxLEFQH3TfkCKoDG+swlwAAQD2O+h2g73cigPodAAAAmIGvqfta9F8dNgAAYIYERxmGYQiqu/ic8Zy++SoFAGhg0k592+2296Th8fFxFseiRFhdqaAsQXXw9PzZkgTVgY11mEuoewAA1OOo3wFG/E4EUL8DAAAAM/A5dV+L/v3P8ZNDBwAAzIzgKMMwDEF1F38kN3cAAJjmpJ26DodD7wnDfr+f1THZbDa9jsdqtXo6n8+9H4egOnh62u12gurAxjrMJdQ9AADqcdTvAKN+JwKo3wEAAICZ+Hfqvh79Xw4bAAAwM4KjDMMwBNWF3zKezx++RgEAGpm0U0+EqUWoWhJSV/y4RLhWX4Lq4Olpu90KqgMb6zCXUPcAAKjHUb8DjPqdCKB+BwAAAGbiU8pbD/+zQwcAAMyI4CjDMAxBddEn+57xfD77GgUAaGTSTj0PDw+9JgoRIDVXh8Oh17FZr9e9H4OgOm51Op2eHh8ffzgigHGK4r2UFhpUd3ldIxA0ntdlxGfv3d3d/8fL/xYjfuZ4PHpj3PieeXv84njH/46NdZhLAACox0H9Diz3OxFA/Q4AAADMyNfUfU36Hw4bAAAwI4KjDMMwBNV9y3gu33yFAgA0NGmnjgjpST2D2KYafHWrCIPqc4wi7K4PQXW8FO+3S6jW/f39c0BZ7rkZPxu/I35XnKetvpfjcXV9blMNqovnGq9FPP4+r+17n9XxWkf4WnzuL/17b7fbPW02m0UGH9pYh7kEAIB6XD2O+h3wnegzC1C/AwAAAIv0KeWtQ/3i0AEAADMhOMowDGPZQXW/ZD6Xz75CAQAamrRTRwQX9ZkkRGDW3EVw1Gq1ygqGenh46B0K1UJQXc7fbzHYKedYtvA8jsfjc7BWyeCydEOg2dDBdfH50WLzo8bnWhzvvqGYXV/nOLdbC63LOSdufY/G+Zx7jAXV2ViHuQQAgHoc1O/AMr8TAdTvAAAAwMxE6FzOWsqfHToAAGAGBEcZhmEsN6gubuLwPeN5fPX1CQDQ2KSd8UVAUZ8JQoRZLcWtAWcRaBfH5XA4jP63h3xP5QT1tRjslBP0Vut5RKhWhNNFoFjNRkAEew0VWrf0oLo4pnF+5by/Sr/GrYSODhVUF5/JfY6zoDob6zCXAABQj4P6HVjmdyKA+h0AAACYmZ9S3obc//z1swAAAFMmOMowDGO5QXXfMp5D9NE++foEAGhs0s74IlAtd3IQgT8RdLcUPwr1GyKc7qUWguqmFPA29ecR51qcT7XDy947z+NYlHzfLzWoLgLqWnyN4/1RO7BuiKC6Pt91SVCdjXWYSwAAqMdB/Q4s+jsRQP0OAAAAzNCvKW895VeHDgAAAIAJ+pLy+mFfHDoAgPHY6NGoCEpKQns6eRt2NGQ43UuC6pbzPOJvtRZe9t54eHgo8nyXGFQXnxmtv8bb7fb5O6KG0kF1JULqkqA6G+swlwAAUI+D+h1Y7HcigPodAAAAmKlvKW9N5W8OHQAAAAAT8kvK64P94dABAIzLRo9G5YafxYiQpVohRjUdj8fnAKf9fj/q8xdUN//nEefWer1uPqDu5dhsNs+Pu48lBdXFZ0Z8fkzl9Y3zccjAvpLnxEfv0VIhdUlQnY11mEsAAKjHQf0OLPY7EUD9DgAAAMzUpz/H95S3rvJnhw8AAACACYg+Vm4P7LPDBwAwLhs9GtUnFCvCfxiPoLp5P48IPozwxzShkLr0IrQyHn+upQTVRaBfBPtN8TXu8/qOdU689x49HA5Fj4OgOhvrMJcAAFCPg/odWOZ3IoD6HQAAAJix31LeusrY3PvJ4QMAAACgYT/9Of5Ief2vfzl8AADjs9GjQRGalHoE9pxOJwdxRC0E1UU4YVpoUN2QwYy73W6S4WWpUJjZEoLq4vN2qkGENd7LJYLqzudz8WMuqM7GOswlAADU46B+B5b5nQigfgcAAABm7lvKW1sZm3x/cvgAAAAAaFRuSN1/kr4XAEAVNno06OHhITusZ7PZOIAjayGoLucxzCWoLn5mCBHulmYQUpd6hLvNPahuDiF1aYTAxr7nxNvPmpxgzSSozsY6zCUAANTj6nHU74DvRJ9ZgPodAAAAWJ5Pf47vKW995TeHDwAAAIAGfU35e4p/dvgAAOqw0aNB6/U6O6wnwrUYl6C6cloJqosAszRQoFg83hgRSBmvQYwI7rr870MFp8XvjefVxZyD6sYIqbu8ppfR57O9lc//vkF1Q51TgupsrMNcAgBAPQ7qd2CZ34kA6ncAAABgAX5J+Wssvzp8AAAAADSkT0jdF4cPAKAeGz0aczqdeoX1nM9nB3FkgurKaSGoLt5DpQLMIpgsQugOh0On92Z8DkSgV4TZbTabYmFe8Xi6iDC3t2Fr743cx3LL735vdA3ce+81Lh0aF69TvF7xul17rePfRKjcdrttMsTv2mPv+pjiPXAR/38SVGdjHeYSAACox1G/AxT6TgRQvwMAAAAL0WcDr7A6AAAAAFrQp8f1zeEDAKjLRo/GRHhRboFdOrCL2wiqK6eFoLrc1/PtY4pwulIiuC4eV4kAvSFe9zSxYLH/snfHuG0r7RqAp0iXOoBKbyDaQFpV2UGyhgMtIYCWEGgNyQ5UpdUGog2kDKBanQpff7b1Xx8fxxGHQ3JIPg/w4f64J7ao4ZD6SA9flQxLi/cR+ydXhNrFeT838O95xRxpsz1/kxNUdzlG2waxXn7XS+GNguo8WIdrCQAA/Tjo34F5fiYC6N8BAACAmXhzVz+SsDoAAAAAxulzyr+39TM93B8DAGBAHvSozHq9riqAir8TVFfO0EF1ERrWJgxuuVzeB3l15RJq1mYb42fj9wz4IM6g869NGOjTirC70oFwMXdKBNbF50hX2gTVNTlPxbEU/z5e77VxPh6P96GQXR53HqzzYB2uJQAA9OPo3wHq/UwE0L8DAAAAM/L2rn4nYXUAAAAAjEvcl8q9pxX3w94ZQgCA4XnQozIRzpPbaAvqGYagunKGDqrL3ZfpMbisdADcn8TrtAm13G63Qz6IM9j8axtEmB6D/iIcrUttwwijIrytC22C6q75fIvjyGeZB+twLQEAoB/Xj6N/B3wmOmcB+ncAAACAF92kdl+ILKwOAAAAgD61CamL+mAIAQDq4EGPcS9ot48qIKiunKGD6nKDIiNcawgRaJZ7vigZqpdGElQXAX1tzrGr1aq3MMIIw4vXSy0C9brY1pygujiu4v38bXtjPuPBOlxLAADox/Xj6N8BnLMA/TsAAADAq+Lh3DZrYn/c1RvDCAAAAECH4v5T25C6z4YRAKAeHvSoSE4AUOogrItmBNWVM2RQ3el0yg4vG1JuWN3hcBjqQZxB5l/u/r3Uer3ufd9G0FyEIOZucxfBb7mfU7vd7tVjKILs8GAdriUAAPTj+nH07wBNPxMB9O8AAADATP2T2ofVvTOMAAAAAHQgQuri/lOb+1dfDCMAQF086FGR14J8/lbb7dYADqSGoLqcMCtBdf+WG/gWwV1jHLeYMwM9iDPI/GsT+BZBahEaN6b9G7VcLotvS25Q3WKx+OM2Djm2eLAO1xIAAPpx9O/6d2Dcn4kA+ncAAABgxuJh3TYP+/6+qxvDCAAAAEBB8eUIP1P7L1kAAKAyHvSoSG7gWVSE3DGu/VZSTpCVoLp/ywkyK/XabeWE7EVw2EAP4vQ+/yIILffcGuN0Op0G3b+x/RGWl7P9MTdKyg2q+1Mdj0cfIh6sw7UEAAD6cfTvANmfiQD6dwAAAGDm2obVRX02jAAAAAAU8CE9fDlC25C6N4YSAKA+HvSoyHq9zm66IzyIYQiqG/Z9lAqLy3nt0iFgbSyXy8FCwlLlQXVtQkBrObdGWF2E5jXd/gi4K6lkUJ2AVQ/W4VoCAAD9OPp3gLafiQD6dwAAAID0PbVf1/k1eQAYAAAAgDxxX6nEFyoIqQMAqJgHPSqSE5R1qQgxYhiC6oZ9H0MG1dUUEPm3eRjvL8Iw499FwF5se6nzRqo8qC4n4K3k3Col9lvO+zidTsW2oVRQXW1jiwfrcC0BAKAfR/+ufwfG+ZkIoH8HAAAAuH94Nx7ibbu+8/dd3RhOAAAAABp4l8rcmxJSBwBQOQ96VKRNUB3DEVRXzna7HVVQXU0BkRFGFu9hs9nc79vD4VA0jK7ggzi9zr8Yh9zzak1BhG3maRxXpZQKqovQPTxYh2sJAAD04+jfAdp+JgLo3wEAAADuxUO8X1OBNZ539U/yUDAAAAAAf/c5lbkfJaQOAGAEPOhRkcVikdV8L5dLgzcgQXXDjuWQQXXCtrIexOl1/uWEH0ZF4F+NjsfjoJ8RJYLqfGZ5sA7XEgAA6MfRvwOU+kwE0L8DAAAA/MuXVObh4J93dWM4AQAAAHjBu/QQLiekDgBgRjzoMd7F7MWDusgjqG7YsRwyqE7gVv65q6/5F/soZ/sikK1Wq9Wq8fs5nU5FXrtEUJ2ARw/W4VoCAAD9OPp3gFKfiQD6dwAAAID/KBVWF/X1rt4aUgAAAADSQ6DcP6nsvSchdQAAI+FBj/EuZhdUVwlBdcOOZan5n7sfaw40q/nc1cf8Ox6PWdtWewBhBL01fU+73a7Ia5cIqsODdbiWAABAP47+Hahf3Hsfqpr+jWCI2m63Jgno3/XvAAAAQM0+p3IPDP9+/H0eGgYAAACYr4/p4T5RqXtOXwwpAMC4eDhtvIvZBdVVooagugjWSoLqBtmPjr96g+oinC1n22p/wPB8Pjd+T+v1ushrtw2qc7x4sA7XEgAA6MfRvwOT/FyaXbnXCejfAQAAgBH4kMreG/35+DsBAAAAmI+4HxT3hUreZ/poWAEAxsfDaRN46KfGwLE5qSGobirzZsigujYBXLUHm9V47upj/kU4W862xVyoXcz7Ju9psVgMfpxERXggHqzDtQQAAPpx9O/A5D6XBNUBzpP6dwAAAKBO7+7qdxJYBwAAAEAzXQTUxX2q94YWAGCcPJw2gYd+BNUNS1DdsGNZ6mGw8/nc6uJ4v987d1U2/yKcrel2lQp069pms2n83k6nU+vXbRtUdzwefWh4sA7XEgAA6MfRvwPT+1wSVAc4T+rfAQAAgHq9uasfqfy90nhQ+fPj7wcAAABg/OI+TxcBdVFxf+qdIQYAGC8Pp03goR9BdcMSVFdOhL2lAR8GWy6X2cdhBJzNNayuxvkXoWxpwg8X7na7xu8tQubaiqC53GMkji88WIdrCQAA9OPo34FJfi4JqgOcJ/XvAAAAQP3+Sd3cM/19V1+SB40BAAAAxupterh3FPd5urh/FPeOfNkBAMDIeTitIrkhWYLqhiWorpwI0koDPgyWE/71vLbbrQdxKph/OXNpTOfTnPdX6r0lD246nj1Yh2sJAAD9OPp3wOeSoDqTBJwn9e8AAADAGN2k7h44jvpxVx/Tw8PNAAAAANQrguM+3NX31N29ot+PrwEAwAR4OK0i8VBLElQ3OoLqyhk6qO58Phe5cF6tVvfvxYM4w82/3ONyv9+PYsxzjpX1ej3oA6o+qzxYh2sJAAD04+jfgcl+LgmqA5wn9e8AAADAeMRDyF9T9/dS4yFnoXUAAAAA9Yj7NBEc18e9oR/JfSEAgEnxcFpFBNWN09BBdbnhaoLqXrbZbIo+qHY6nTyIM8D8y92PYwkYHPJYyT0edrudDwwP1uFaAgAA/Tj6d2Can0uC6gDnSf07AAAAMD7v7+p36ue+ajyY/M/ja74x9AAAAAC9ubmrz+nh/kwf94HiftNHww4AMD0eTqtIblDder02eAMaOqguJ7AqCaorPp5/O0b3+/19qKAHcfqZf7nn0ykH1S2Xy0EfUB3L2HqwzoN1uJYAANCPo38HEFSXBNUB+ndG0r8rpZRSSqnWBTB3ERr3dYDzbzwY/SU9PLR8k4TXAQAAAJRwkx7ut8QXBvQVTPe0vt/VW7sBAGCaPJxWkdzAMw/DjHO/lSKorvz832w2nV1kX0LrTqfTrB9Y7Hr+rVarrO0ay37JPe6HfEB1qkGNHqzDtYRrCQAA/Tj6d8DnkqA6wHlS/85Q/btSSimllBJUB1DIzV39HPic/Ds9PMwcwXmfH+v947Y9LwAAAIA5uHmh4n7J5d5JfBFA3E8Z+r5OvP4HuwsAYNo8nFYRQXXz2m+lCKorP/8jUGu5XHZ+4R2vsd1ubw+Hw6iD62qcf8kCys7C4nJfGw/W4VoCAAD9OPp3YNr3fZOgOsB5Uv9O7/27UkoppZQSVAdQ2Mf0EBjnM0IppZSaZ/1ID0EnUZfwk5skKJYHl7lwmRvfn5TjRymllJpn/X7sC95olQAAps/DaRXZ7XZZTfxqtTJ4AxJUdzvoe+nqYbDccW1Ti8Xidr1e3++beP0pP7AoqG6YKjGvcuc2HqzDtQQAAPpx9O/AeMS9xKGq6T3PIep4PJokoH/Xv1NF/66UUkoppQTVAXQgHiyOB4wF1imllFLqef28q6+PvcL7JJBkyv3gzeN+jv39w9xXSiml1Av15a7eap0AAObDw2mVPfST28wzHEF1wx4DXQXVhf1+P/iFegRRbjab+205nU5TeBCn8/kXDwi6wVNXUF2XxykerMO1BACAfhz078B8PxMB9O/MvX9XSimllFKC6gA6FAEl//isUEoppdRfKkLMIqTkQxJcN+a+78PjfhRKp5RSSikBdQAAvMiDHhVpE67EcATV3Q76XroOwIptWiwW1VzAL5fL++C6w+Fwez6fx/ggTufzr03o59RLUB0erMO1BACAfhz9u/4dmNJnIoD+nbn370oppZRSSlAdQA/iwePPd/Xb54ZSSimlrqgfj73DO21U1WL//JME0ymllFLquor7QgLqAABmzoMe417Q/r+KkDuGIajudtD30kcAVhxfNYXVPa31en273+8HDa2rbf4JqqsvqC7mKR6sw7UEAAD6cfTvAKU/EwH078y9f1dKKaWUUoLqAHr05q4+3tVPnx9KKaWUurKib4gwNKF1dbiE0+nnlFJKKdWkn/v8eF8IAICZ86BHZVarVVajfzgcDN5Ahg6qy319QXXNRBDcdrut9mI/gvRin55Op9ofxBFUN8OguhrPN3iwDtcSAAD6cfTv+ndg/J+JAPp35t6/K6WUUkopQXUAA7m5qy8+R5RSSinVoH7c1Yck5KRvb5OwYaWUUko1r6939V4rBQDAUx70qEyEbuU0/EKAhiOorpyag+oujsdj9nHaV202m/tgvUofxBFUJ6gOD9bhWgIAAP04+neAIp+JAPp35t6/K6WUUkopQXUAA4ugmQg++eEzRSmllFINKgJv32mlOnWTHgJmzDellFJKNQkWjvs8b7VSAAC8xIMelckNHVuv1wZvZPts6NcXVNdOBNZFINxisajyhkBs1263q/FBHEF1gurwYB2uJQAA0I+jfwco8pkIoH9n7v27UkoppZQSVAdQkXiIOR5m/u7zRSmllFJXVvQN77VRRX24q5/mllJKKaWuLOF0AABczYMelTkcDlkXAsvl0uANRFBdOWMKqrs4n8/3gXCxHTXeJIjtim2s6EEcQXWC6vBgHa4lAADQj6N/ByjymQigf2fu/btSSimllBJUB1CpN+khdOZLEpSilFJKqb9X9As3WqhWvdfnu/ptLimllFLqir4r7td8eOwhAADgah70qEwESuVeHJxOJwM4AEF15YwxqO758bvf7283m83tYrGo5sbBarXqNKyutvknqE5QHR6sw7UEAIB+HPTvwDw+EwH07+jfAQDQrwOMwtv0EFz3z119t6ZXKaWUUn+o6BNutE6NCKhTSiml1N/6q7gf8+Hx/gwAAGSzuLVCy+Uy62IhArLon6C6cg6Hw6iD6p6L8MhLcF3ucV2qIqyuqzDL2uZfm6C6mE9TruPxOLn9jYW6uJYAANCPg/4dmO9nIoD+Hf07AAD6dYDRuoTXRbjKJcDuR/IAuVJKKaUe+oJ32qVXRdjMT3NFKaWUUo89wSWQ7vPj/Ra9FAAAxVncWqH1ep11IRFhWPRPUN2wY1lzUN1z5/P5PkQt3mds92Kx6PVmQ7xebMPAC/uqDqpjfPsbC3VxLQEAoB8H/Tsw389EAP07+ncAAPTrAJMVQXY3L9Ql3E4ppZRSZetLegg4ifqd6ghdiW16oy36l+iHagr3vcyZL44hpZRSqpP68If7I2+1RQAA9M3i1grtdrvsECr6J6hu2LEcU1DdS47H4/0xH0GTfQTXdRFomSYUVHc6nZzURra/sVAX1xIAAPpx0L8D8/1MBNC/o38HAEC/DgAA0Jl36f9DYr/e1c/UfxDa78dtmLsI7PuShgmj+/m4/z8/7osbuwMAAABgfixurVAEV6XMG3+Hw8EA9kxQ3bBjOfagupeO/xiH1WrV2R8IIshtwIV9VQfVlR4bCzkF1Vmoi2sJ1xIAAPpx9O8A3X0mAujf0b8DAKBfBwAA6FUEpkVY2T939SP1F5b2/a7eznTMP6SHwL6+xvrH4/59P+MxBwAAAOAZi1srtVwus24EbjYbg9czQXXlrNfr2QfVPXU6nW632+3tYrEo+geDOL+cz+ehFvb1Mv+SoLqqxlZQnYW6uJYAAEA/jv4doIvPRAD9O/p3AAD06wAAAIOK4LoIUvuSug9T+/34WnMa26+p+2C634/778PjawIAAADAf1jcWqkInEsZNwYj0Irb2+PxeLvf73t5LUF15UToXBJU96KYz7kBli9VyeMjCaqzkFNQnYW6uJZwLQEAoB9H/w4wwGcigP4d/TsAAPp1AACAqrxPD6FnXQarRXjbmxmMY5fBf5dwuvemLAAAAADXsLi1UofDoYoAqrG6BJ6tVqvOg6eGDqrLnSs1BkdF0GISVPdH5/P5fr/ljNPzimNjoIV9vcy/3DFy/hzn/sZCXVxLAADox0H/DszzMxFA/47+HQAA/ToAAECVIkju4139TN0ErcXvfTfRcesy6O/7XX1I0w/6AwAAAKAwi1srFYFUKfOG4XK5nPXYRdBUeiHMrKvAuqGD6uJ9pYkER+W8jzkF1V0cj8ciYXWn02mw/db1/LuEVSaBalUcp8bVQl1cSwAAoB9H/w7QxWcigP4d/TsAAPp1AACA6t3c1dfUTfDahwmN09u7+tHROEX43TtTEQAAAIBcFrdWbLPZZN887CqUrXYR8PdagFcXgXVjDarbbrdV7bsIX0uC6hrN9dVq1eqPDLvdboiFfb0El+WeP+PnGN/+xkJdXEsAAOjHQf8OzPMzEUD/jv4dAAD9OgAAwGhEENuX1E0I29i9v6vfhcclft/nu3pj6gEAAADQlsWtFcsNIEszDu+K8LVrxyeC0UoYa1BdbXNkv9+b6w21DauLnx1gYV8vwWW5x+Wc59OY9zcW6uJaAgBAPw76d2Cen4kA+nf07wAA6NcBAABGp4vAuu9pvIFsH5OAOgAAAAAqZ3Fr5ZbLZfZNxcPhMKuxygls22w2t6fTqdXrCqor49qQwSRY7F8icDG1+OPDAAv7egkuaxP0yfj2Nxbq4loCAEA/Dvp3YJ6fiQD6d/TvAADo1wEAAEbrXXoImCsV0PYjPYTgjUnpwL5/koA6AAAAADpgcWvlckPQoiLk7nw+z2Kc4n22CfWLsK++99GAC6uqDHhbrVaC6gY4T7SZ+23mX9fBZXFOGHJMLOQUVGehLq4lXEsAAOjH0b8DdP+ZCKB/R/8OAIB+HQAAYPTe39XPVCao7Xd6CMCrXYTJ/UjlAuq+pvGF9AEAAAAwIha3Vu50OrW6yTiXcKD1et0q0K8NQXXDvQfnp/+XG9R4OBwG2Xd9nJtyx2S325lQI9zfWKiLawkAAP046N+B+X0mAujf0b8DAKBfBwAAmIQIbvsnzSOsrmRIXQT8vTd9AAAAAOiaxa0jsNlsWt1w/PXr16THJ4K22ozPfr9v9fo1BNXlBHK1DeiraR9ye7vdbgcLEEuVBpflnjtXq5UJNcL9jYW6uJYAANCPg/4dmN9nIoD+Hf07AAD6dQAAgEm5SQ/ha1MNqysZUvfP4+8DAAAAgM5Z3DoCp9Op1U3HxWJxez6fJzk2x+Px/v3ljk2JsLYaguo+ffo06oC3tmGMPBwLSVDdv0QIZe6civMu5fZ3HONYqItrCQAA9OPo3wFKfyYC6N/RvwMAoF8HAACYnAhf+ydNL6yuVEhdBPndmCYAAAAA9Mni1pFoG+QVQWZTE+F7bULqon79+tV6O2oIqsudHzWEccV+TC1vsPMggheToLoicytC7ii3v6f4GWT/WqiLawkAAP04+neA4T8TAfTv6N8BANCvAwAATNb79BA2N4WwulIhdV8efxcAAAAA9Mri1pGIQLHU8kZkhJlNRQRQrVarVuOxXq+LbEsNQXW521AiqK+tCARLlQbVHY/H28PhcD++Yzh+IgwsCar7lzjO0wSD1WJuxnlwBAs5BdVZqItrCdcSAAD6cfTvAJ19JgLo39G/AwCgXwcAAJi0CJlrG/A2dFhdqZC6D6YDAAAAAEOxuHVEcsPI0gTD6uJ9tBmHxWJxH/435H4pKcLUUsVhYa/JCVcrPZYR+BWhfbvd7n5u/WmbIhysZoLq/qtNEGINQY5/mq9xDkuPAXAxb/ucm0lQnYW6FuriWgIAQD+O/h2gks9EAP07+ncAAPTrAAAAkxdBb19Su+fPfjz+niG2vW1I3c80bNAeAAAAAFjcOiYRTrRcLmcdVhdjsFqtWo9BBDuVUkNQXYTupRGGR7UJESsxlvH+L4Fffc+bLjR5L2kmQXVxzsidV7WGq/3pnBOfD3F+j+DKeN+VLOQUVGehLq4lXEsAAOjH0b8DdPaZCKB/R//O3Fy+iC8q1lzE34+vrcvP1fqlbQCgXwcAAOAv/kntw+r69j2NM2APAAAAAP7F4taRicWiqUCwV4S9dRlk1NVi2xIhdaUDk2oIqgs5IWVRQ82DUsGLbcay6evHv6/1uMkNK4yF6z0v7Os9uCzC23LnVonxKX3cXHusxxhHuOLxeBxyIaegOgt1cS3hWgIAQD+O/h2gs89EAP07+nemKtYAxJeUxZqU+HtrifUyf/pbbvxNPf62LMAOAP06AAAAI/Ch5X3RLz1u65cRbSsAAAAAvMri1hFar9fFwupKBxh1JbazxKLbCHiKxbwl1RJUF4uH04iCuHLHreRY5gSYxXbXKHc8Syw0T5UHl+WG+KUKwwlzz/8lz3tJUJ2Fuhbq4loCAEA/jv4doJLPRAD9O/p3piL+phthcfG31dwvKixVsT4n1lNEUN7YvgQTAPTrAAAAs9A2rO5jD9v4MQmpAwAAAGBCLG4doVgEGuFJqdAC0wi4qnlhaWxfqUW4sYi2i+1LFQTVxYLllBnE1bcIR0sFF0nnipC+nNerLeAxjt+cYyR+ZoCFfYPMuzYBn/GzNYjzV872xwMEAy7kFFRnoS6uJVxLAADox9G/A3T2mQigf0f/zpjF2oPtdlt0DVAXFX8zj/UVpb8YEgD06wAAALQQYXW/W9z7vOlw225S/UF6AAAAANCIxa0jXqxa8huUY9FrLCqt7T3GtzSngoF8XaglqC7GK3ds+tz3pedum7GMgLec14vtrymsLoLI0oABZrn7rc8xbHN8pA7C3vo8bko/LJAE1Vmoa6EuriUAAPTj6N8BOhR/d7m2APTv6N8Zm1inEF9EWHs4XXoltC6+nBAA9OsAAABU4H2L+50Rcvemg216m9oF6H2wWwEAAACokcWtIxbhYqnwgtIaAusiVCm+Mbrk++oyZKqWoLqQu5A5ArD6+ObrLkLq2o5lBGjljtnhcBj1eaDU4vHcMYzjvE9tzytDhdW1OW7iIYGBF3IKqrNQF9cSriUAAPTj6N8BAPTvoH+fvfi7b+6X0NVYl/VFEbwHAPp1AAAABvShxb3O7x1sz48kpA4AAACACbK4deRKB7qlJwtK4xuc+wgvu4jQrC4W5a5Wq063u6aguthnbcapywXEEer2t7Ct3Pncdt6llt8WPtTC6zYhdXGMl5IbVBcVi/H7EvupbVBi3/s79nGbbe5ifNMAgZJYqItrCQAA/bh+HP07AID+Hf27/n2MYt3NlALq0gtf8jf0F2ICgH4dAABg9tqE1X0suB3/JCF1AAAAAEyUxa0T0PWC1ggwizC2CPQqLUKUIlwtXqOrbe86VKqmoLpY4Nx2vEqHE8bvi3Cvv712zOOYD0OM5TXbl/6y8DrmcV8BZvE6bbc5QgGHPgbSY2Ben4GYbcL9nu7vCF6sfR/HfqlgIac+wkJdXEs4BwAA6MfRvwMA6N9B/z478TffNn9LH1vF3/67WFcEAPp1AAAArvS5xT3OdwVe/32L1/9i9wEAAABQO4tbJ6LPb1/+9OnT/WLaS3hdhItdswA3/m2EO8XPRQBTLFJNHQfs9REcVlNQXWgbbpUeA67ajl3MiwhDi1CvdEXw1yWsbIixjNe+ZjuveR8xdl0Fr8U+iaC1ttsax17JY6Nt+Nsl6K/J/mozxqXOl3GsXXP+y3lYoe0+jvNfJQs59REW6uJawjkAAEA/jv4dAED/Dvr3WYm1MSXWIIyx4u/ofX3JHwDo1wEAAHjmS+a9zR8tX/fNXf1OQuoAAAAAmDCLWyekz7C6ZOHr/9QWVNc2NCw9CTOLORULqK8dywgjjPFoGkL4NKRsqLEs/U3mERQW76tEaF2M67Whf9dU6W8xj/dYes5dQjDjd8f/jnkdYxDjmh7DFHPFfL78nlLbHdvWJrQu3nO891KBiV2FJeYeo/oIC3VxLQEAgH4c/TsAgP4d9O9TF3+Ljr8dz33NTvzNuvS6BADQrwMAAHClH5n3Nj+2eM2vaZiAPAAAAADojcWtExPBWGnmC14j7KlPtQXVhU+fPhUf1wj2it/7UjUNpkvPQgVbLBIrOpZdhT3GIuwYp5grEbgWC7JfWpR9CWWL0LL4tzE2pb9lvU3A22tKBr/18T7iAYEuvsE+joXLvo7z8WVfP6/4bzHfujhWY45VtJBTH2GhLq4lnAMAAPTj6N8BAPTvoH+fvPhis77/bl57RWgfAOjXAQAA6Nnbu/qdcU/z9+PPNvU+8x5qvN4buwsAAACAsbC4dYIiBKmLAKY0gm9k7jqg6SU1BtVF4NkY9lmEekVg2FM5C7dL6iqsroaKse1KHHtpREF1lwcFpnau7OMcmATVWahroS6uJQAA9OPo3wEA9O/6d/Tv/M9c1+lcu07h+boQANCvAwAA0LGbzHua3xu+TgTN/cx8rXd2EwAAAABjYnHrREVQ2Zy+qTnea4RODaHGoLo225V6DBZ8aZ99+vRp8LGcYlhdH4u/I3gwjSioLkwprK6voM4kqM5CXQt1cS0BAKAfR/8OAKB/17+jf+den1/qFn/bjjUV8ffy3W53H5B3zVqZWCsQ//ZwONz/bKyJ6HNNkbA6APTrAAAADOBz5j3Nmx5e46PdAwAAAMDYWNw6cbEwderf2hyLaIdc0FprUF2oNazwTyF1oYagujb7tcaKReZ9HCOxqD2NLKjusih/zMGecTzF2Fe6kFMfYaEuriWcAwAA9OPo3wEA9O+gf5+krkPq4m/B8ff+eJ34wsrSLgF28ff3rv9mLqwOAP06AAAAA/iRcT/z55W/+23m/dKvdgsAAAAAY2Rx6wzEQs/1ej25gLoINLvmm6G7VnNQXY0BXK+F1IVagupCbOeYA8xS4UC3a8Qi+bG+r762vfR5sIsHEl6Te0xgoS6uJQAA0I+jfwcA0L+D/n0qugqpu4TT9fllZRfxt+ftdnu7XC47eW/xe4XVAaBfBwAAoEfvMu9nfrjid39PeSF4b+wWAAAAAMbI4tYZiW9BzgkBq61i4eoQC3L/pOagulBTWN0135BdU1Bd23081+Okj2DMrgL44jzZ1aL7NPIQwjbHaDxMgYW6uJYAAEA/jv4dAED/Dvr3KYi/K6cOAurib8C1BLlFEF8Xfzu/Zt0IAOjXAQAAKOhzyguUe81N5j3S93YHAAAAAGNlcesMHY/H+29fTiML3orFqrEQtja1B9WFGsLq4lu3r1FjUN2YjpsaFq/3Md+6DGmL7Y/fH2NZ4z6OeRjfZD+UnGM0fgYLdXEtAQCAfhz9OwCA/h3072MXawdK/y25poC657r4srf4mzcA6NcBAADo0Y+Me5kfXvl93zN+31e7AQAAAIAxs7h1xiLoKMLDuvgG5FQwdCsWqMZC31qNIaguDBW+FQFVTUK1ag2qe3rcxJysMcQstquWxeuX+ZZGGFQ39DGTKg2oa3OMCqqzUBfXEgAA6MfRvwMA6N9B/z528Tfkkmtsmq6nGFLpv//38Td/APTr+nUAAAAe3WTcx/x9V29e+F3vC/4uAAAAABgNi1u5F0FwtYTWXcLpDofDpBfjDuUStJZ6CNWKb9ZuqvaguqcL0GPfD33MxOvHdtS6eD22K2efpooWrce+3u/3t+v1uvf9u1qtbne7XVX7V1CdhbrJQl1cSwAA6MfRvwMA6N/17+jfZ6jk34zj78BjE2uL4m/YpcYgZ00JAOjXAQAAyPQl4z7mxxd+z8+M3/PB8AMAAAAwdha38h8RiBQhcRFc10XAVHohmC4W80bw1BgXocY2x7Y3rRq2O8LkYvxTwW/7jkCvCPbKFT8/trGMxdixiLyP4yU9htPF8RmvO6bjJLY5d9F6vOc4T8Q4D/m+4/wY2xDb0kVIYRyPMY9qC6dre4zGz2ChLq4lAADQj6N/BwDQv4P+faxiHU2pvwmP6W/9z8V6kFKBffE39zbrSwBAvw4AAEADb+/qd8Nrxp/PfsdNxr3Q74YeAAAAgCmwuJWrxCLZWHQbgUOXALuoa0On4t9dfiZ+R4QwRXCVBad1iH1xCd+KffRaeF0sFL7sywi6iwCqMS+i7mo8Y57H+LQNr7uMd/y+OAancMxEANvTsLPLOF0qzjFPzxO1BrZd3svzc+M158XLOfFpSGfN7xMLdZOFuriWAADQj6N/BwBA/47+fabi7/QlvgQw/k48lb8Lx9/5U4Gwuvg7OwDo1wEAAOjJ54z7mB+e/Pz3jJ+/MewAAAAATIHFrQA9LVyPMLKoS7DZ84rwtsu/Ef4HWKiLawkAAP24fhz9OwCA/h39u/59ePEFZKlASN3UvsyxVFhdrJEAAP06AAAAPXhzV78bXjd+f/zZm4z7n18MOQAAAABTYXErAAAW6uJaAgBAP47+Xf8OAKB/R//OMxGiloTU/VGJsLpPnz6ZaADo1wEAAOjL54z7mO/SQ+hc0597a7gBAAAAmAqLWwEAsFAX1xIAAPpx9O/6dwAA/Tv6d56JELXUIoRtsVjcHo/HSY/Rer1uHVYXgYAAoF8HAACgB2/u6nfDa8eckLovhhoAAACAKbG4FQAAC3VxLQEAoB9H/65/BwDQv6N/54kIT0stA9gOh8Pkx+l8Pt8ul8tW4xSBgFOaN3+qGKu5Op1O92Ow3+9vv337drvZbO73+98qghDj30fFz089+LGkGKvLeEf9bay32+3/xnnOcxX9OgAAALPwT9t7v1fUW8MMAAAAwJRY3AoAgIW6uJYAANCPo3/XvwMA6N/Rv/NEBDelFg8iRujTXEQgVppZqF8Er+12u/8Fri0Wi6veZ/y7SyhYhIjF75nqnIjQswiau3ZsUsNwwxjDWudNBL29Flr4UrWdCzHmMSZtz12XWq1W93O8yzl6CTDMqTGa2/vVrwMAAFCxt6nbkLqvhhgAAACAqbG4FQAAC3VxLQEAoB9H/65/BwDQv6N/51Hb4LXlcnkfVDUnEUqWWgaPjWFexPuMAK9UOHQtQuvGPmcuQWkx/1O3D/r+J/wvAgNrCq2LYLGm7yPmVlMRfNbHmMe2dTE/Y5/lblPMt7GJ4MaUGRqIfh0AAIDivnZ4P+XG8AIAAAAwNRa3AgBgoS6uJQAA9OPo3/XvAAD6d/TvPIrQq9TiQcSaArP61DYsK0K3ahQhcn2Fr0WQVYScjUnM9wjbSz2G06VXQiJjfw2t66C6OFbanqdSRiBgF2Mbvzdne3a73aiOkwj6yx37sb1X/ToAAAAj8b6j+yg/DC0AAAAAU2RxKwAAFuriWgIAQD+O/l3/DgCgf0f/zu1DmFBucFJUBHbNVU4419PabrdVvZ8+A+rSC4F1tQb3Pd3fQ41PuiKwbsjAyJxj4dpzRxwnQ47tarW6P0+Wkhu4F9sxJnE+yR3zkuOtX9evAwAA8C8/O7h/8sGwAgAAADBFFrcCAGChLq4lAAD04+jf9e8AAPp39O/ctgsTijoej7Mevwjbyh27CAisQQSc1RDAFuPx7du36kKqYntyw8XSTAL/ugiqi3NLhLPVMK4lw+rifeVuR+1hjk/FXMydw+jXAQAA6MznwvdNft/VG8MKAAAAwBRZ3AoAgIW6uJYAANCPo3/XvwMA6N/Rv3PbLmjtb0FTc5AT0PW0IiRuKBG8lRsm1WVFaF6May37NwL00ghC6tKTwL++51XpoLoI0Kxt3EuG1eUGQ+52u1GcF2OcxnhO1K8DAAAwA28L3zP5YkgBAAAAmCqLWwEAsFAX1xIAAPpx9O/6dwAA/Tv699lrEyYUVUuY2NAiwCp3DDebzSDbHGFQtQewffv2bdD9GqFgaUQBdc8rwt76UjKoLra71jEtFVYXczv39ccgdx/GOQn9OgAAAJ37UfB+yXvDCQAAAMBUWdwKAICFuriWAADQj6N/178DAOjf0b/PXptAqLEEJtU+jsvlsvft3W63owlbGyrIL143jTikru/xKxVUV3NIXSoYoHg6nbJfP362duv1Ouu9xbkJ/ToAAACd+1joPslvQwkAAADAlFncCgCAhbq4lgAA0I+jf9e/AwDo39G/z16bMK7dbmcAn1gsFtljeTweR7HPh6oIvTqfz8ao4mO1RFBdHAdjGdMSYXER9jnFc28cq2M4F+rXAQAAmLF3he6RfDGUAAAAAEyZxa0AAFioi2sJAAD9OPp3/TsAgP4d/fvstQlXKxHUNCW1h/5FeFQEvqWOgrsidCx1GAz2PNSsK7Evutj+ONbiPWy329tv3769WPHfl8tlJ6+/3+87Hbe2QXUxP0u89xjn3AC4vudj7JOc1473V7Opvi/9OgAAABPzs8A9kveGEQAAAIAps7gVAAALdXEtAQCgH0f/rn8HANC/o3+ftePxmP0QokCh/zocDtWGsEUIWKnwrgi7iyCqCCb72/yK0Lf4920CEZ9WhAF2KSds7Zqxygl1jPkUoXYlg+tin9Q0dk/nfU6IYsyHa+ZizP8Yz/j3Jcczfmfb4zJNMCg0NxCzj8BO/bp+HQAAgP/5UuD+yBvDCAAAAMCUWdwKAICFuriWAADQj6N/178DAOjf0b/PWoQCpcyHEAUKvaxNIFuX2obURbjXt2/fssOxIpAr5kyJkLDYji7ENpYI1IvfEdsYv6+UCGMrMXZdBkzmBNVdtifeX2oY/tdmfGNbS4xniYDJqYW6xTkidzxLHjP6df06AAAAf/Wh5b2R74YQAAAAgKmzuBUAAAt1cS0BAKAfR/+ufwcA0L+jf5+17Xab/SDi8Xg0gC/IDZ3qckzb7OcIXYtQsJIixC21DAiLoLHSInQsFQgu6zJsa7PZtN7GmA9dyAmqS4/hZNeExkWoXeljpE1Y56VywxsvDodDdaGDQ4xpnDvRrwMAANCrty3vi3w2hAAAAABMncWtAABYqItrCQAA/Tj6d/07AID+Hf37rOUGc0V4GS9rE3wVgVWl5YZgpY6CwS4i1CzmUWoRoFcyEC43ZO1pxb7vQwQHthm7VCBcreQYXnMeinDDLsezzViW2Lbc/dnFfmwrzhu1nP/06/p1AAAA/upni/siN4YPAAAAgKmzuBUAAAt1cS0BAKAfR/+ufwcA0L+jf3dsZ9R6vTZ4fxDBbmnAwKunIsQqNwArwsNKBsH9aazaBK6VHK/lctkqNK+rQL/Xxq7NNm82m+LbVCLsb6ixbRNWF/uhrdgfqeJwxCbnnCT8VL8OAADAmHxtce8GAAAAACbP4lYAACzUxbUEAIB+HP27/h0AQP+O/n22agpUm/k581/hcCWtVqsqtuM1bcLNSgSEhTYhZVHxHsZ2DEeVDoDrIqiuz7GNeT/UWObuyz6P1WtEcF7O+9hutz449OsAAAAM43Pm/ZDvhg4AAACAObC4FQAAC3VxLQEAoB9H/65/BwDQv6N/n602oVKHw8EAviI38KpU8FqIMMGcbVgsFren06nX8crd1lJzMcY99/UjmGtIucFgUZvNZuh+4dWKAME+DR3emTsPz+dzNee+3HDM0qGJ+nX9OgAAAFe7ybwf8sXQAQAAADAHFrcCAGChLq4lAAD04+jf9e8AAPp39O+z1SYcTKjQ6yIALHdsS4jgqgicSyMIB7tsb25I13q9bvXa8X5z91Xb1y4ltiP3PZQOOUuFQupKBL/1eexGOOVQ5+QhjtmXRMBlzvZHuB36dQAAAAbzNvP+zUdDBwAAAMAcWNwKAICFuriWAADQj6N/178DAOjf0b/P1na7HTRMbcrahABG2NNQ+3bI4LU2gXFtwtYiYCznNSMIsHTIW67Yjtyx2+12Q/YL1Y3t4XAY7LyYG/RWS2BizKUa5qB+Xb8OAABAd/fnn9SNYQMAAABgDiyqBADAQl1cSwAA6MfRv+vfAQD07+jfZys3oGu1Whm8v/j161d22FX8bBsR8BVBXzmvfTweBx233O2OcLEcucFgURFGWJPNZpP1PpbL5ZD9wosVoYUj6nmKHj9xfk09hzWWMuZt168DAAAwc98zrunfGjYAAAAA5sDiVgAALNTFtQQAgH4c/bv+HQBA/47+fbZyg+ri53jdkEF1EaCWRhpAuN1us7Y9fi7HbrfL3k+1hWtFSFrue4nAvoH6hc6D83Ks1+teAxOfipC+NMJwv9zQxxhr9OsAAAAMLieoDgAAAABmweJWAAAs1MW1BACAfhz9u/4dAED/jv59tiKYLAkW6kRuaFNUBM21sVgsRhl0FXLD1nJD9nKPgc1mM6ljOgL7BuoXqpyHuWGPbY/dEAGIYzwv54Y+lgj3Q78OAABAa58bXlP+MGQAAAAAzIXFrQAAWKiLawkAAP04+nf9OwCA/h39u+N6gDAm49vN+EboU85rRrhdBGTVIDdor+n2twkTjJ+tUYS85byfT58+DT7vc/djF3KPo1JhcfF7xjZ2OSGJcayjXwcAAKAKTYPqvhsyAAAAAObC4lYAACzUxbUEAIB+HP27/h0AQP+O/t1xLahuMuO72WyyXjN+rhZ/CumKUKsIVIvabrf34xT169ev+2oa0pUb6haBXLWKMcidd0PP+1Qw6K2tmE9pwMC/3KC8mNNDyA19jOMY/ToAAABV+JgE1QEAAADAiyxuBQDAQl1cSwAA6MfRv+vfAQD07+jfHdeC6joRwWp9j2/uaw4VcPWSCAmLoK5LAF1XIiQrTTBcK4L0ct5XqbFOLYLqapqHOdu/XC4HPX8MFfS32+2yxut4PPqg0K8DAABQh5uG15SfDRkAAAAAc2FxKwAAFuriWgIAQD+O/l3/DgCgf0f/7rgWVNeJT58+9Tq+EfqUu0/nGBg1dKBbV2L+5LyvCBsb8rxS2/l96Pew2WyyXv98Pvc+VhHQ13Q74/hDvw4AAEA1bpKgOgAAAAB4kcWtAABYqItrCQAA/Tj6d/07AID+Hf2747ph7fd7g3eF3KC6CKjKkRtQtlgszP8JnYMOh0Ov867UuNYWXDb0/MgNnuz7/Jy7naWCEdGvAwAAUMRNElQHAAAAAC+yuBUAAAt1cS0BAKAfR/+ufwcA0L+jf3dcN6xfv34ZvCvkBtXFz43h9cYs5nCaQJjaS06n06DzIPe8Uioor5Tlcpn1PiK4bchtWK/XvY7TdrvNGqeYp+jXAQAAqMZNElQHAAAAAC+yuBUAAAt1cS0BAKAfR/+ufwcA0L+jf3dcC6rrRN/BcbnBWt++fZvdvtnv95MIUyt9bA/52rFPpnD8ljw/xrGZsw3n87m3cRpDmJ7Pdf06AAAAf3WTBNUBAAAAwIssbgUAwEJdXEsAAOjH0b/r3wEA9O/o3x3XDetwOBi8K+QGXeUEx0UwVZpIQFgfcgPAxhLqt1qtBgs4y52Hx+NxEsdvyaC60+lU9Tk69plzjn4dAACASXh3V98b1AdDBgAAAMBcWNwKAICFuriWAADQj6N/178DAOjf0b87rica1jW0PoPqIhwrd3+WDNaa+r4Zy1gN+f5y56ExfFlO6OBms+lljLbbbeNtWywWPhz06wAAAAAAAAAAo2FxKwAAFuriWgIAQD+O/l3/DgCgf0f/7rgWVNeJnICpNEBQ3el0mt2+mXpQXU6AWNThcBjsvGKOvGy/31cbBrdcLqsN0fO5rl8HAAAAAAAAACjB4lYAACzUxbUEAIB+HP27/h0AQP+O/t1xLahu9OO72+0mExDWh5yArajz+TyK9xdzaKhjO+d1IxSuNrlBdSXC/p6KOVfDdjx3PB6ztit+Dv06AAAAAAAAAMBYWIgHAICFuriWAADQj6N/178DAOjf0b87rgXVjX58c4PJ5npMTX2sBNW1lxtU18X5cb1eN96OzWbT6fhst9vG2xQBkejXAQAAAAAAAADGxEI8AAAs1MW1BACAfhz9u/4dAED/jv59tlarVVYQU4QmUfy8+b/a7XaNXys3mGyxWNg3Ezz/HA6HUQXV1Rh+WVNQXc7+7PrYjtC5Ps5t6NcBAAAAAAAAAIZkcSsAABbq4loCAEA/jv5d/w4AoH9H/z5buUFM8XO87tevX9lhaPGzTeUG1c1xXx6Px6yximDHqc+/EvMhCarrZHsieK7ptkTAXU3H0Ol08uGgXwcAAAAAAAAAGBWLWwEAsFAX1xIAAPpx9O/6dwAA/Tv699lar9fCzToiqG56+2ZMYyWorr3aguo2m03jbYmf6cJ2u228LfF5g34dAAAAAAAAAGBsLG4FAMBCXVxLAADox9G/698BAPTv6N9nKzfczH74u/1+nz225/O5t30pqE5QXRJU96LaguqOx2PjbVksFp1sy3K5bLwtcU5Evw4AAAAAAAAAMDYWVQIAYKEuriUAAPTj6N/17wAA+nf077PVJqjudDoZwI7Gts/XE1QnqC5VEFR3OByqG8PagupCTkBc6bHNmVtdBeahXwcAAAAAAAAA6JrFrQAAWKiLawkAAP04+nf9OwCA/h39+2xFgFHKDFOLsCL+LDfkKoKo+tyXguoE1aUKgupqPJ/UGFS33W4bb89msym6DfH7ht4G9OsAAAAAAAAAAH2xuBUAAAt1cS0BAKAfR/+ufwcA0L+jf5+t4/GYHVTXZRjTFKxWq16DwuYQvlaKoDpBddfIDarr8r2cTqfG27NYLIpuQ/y+ptsQnzXo1wEAAAAAAAAAxsjiVgAALNTFtQQAgH4c/bv+HQBA/47+3bGdUev12uD9wfl87j0AUFCdsarlPSZBdZ1uV04I5uFwKPLa8XuavvZyufShoF8HAAAAAAAAABgti1sBALBQF9cSAAD6cfTv+ncAAP07+vdZyw1jWiwWBu8PckPCUstAqSSortP9I6iuu3koqO56u92u8TZtNpsirx2/p+lrx/aiXwcAAAAAAAAAGCuLWwEAsFAX1xIAAPpx9O/6dwAA/Tv691nLCR661PF4NIAv+Pbt2yBjmgTVXUVQnaC6a9QaVHc+nxtv03K5LPLaEVDa9LVPp5MPBf06AAAAAAAAAMBoWdwKAICFuriWAADQj6N/178DAOjf0b/P2m63yw5Vi5/lv3IDriIEqu/XnWNQXU7QVxJU11W/IKguw3q97j1Y9HA4NH7N2E706wAAAAAAAAAAY2ZxKwAAFuriWgIAQD+O/l3/DgCgf0f/PmsRXpQyg+qEEP1XbghaifHMCdZqG443k8+0+1qtVqN5f4Lq2qs5qG6/3zferu122+o1N5tN49eM7US/DgAAAAAAAAAwZha3AgBgoS6uJQAA9OPo3/XvAAD6d/TvsxdhZSkzXC2C2fh/OQFSl9rtdq1e+9u3b1mv6zNtemOVOw8F1f2/moPqcs7by+Wy19ebawimfh0AAAAAAAAAYFosxAMAwEJdXEsAAOjH0b/r3wEA9O/o32dvvV5nB3dFIBZlxvJ4PLZ67dxwsjmK0K4pj1VuaGH8XM/9wuSC6toex9fabDa9bdvhcGj8WrF96NcBAAAAAAAAAMbOQjwAACzUxbUEAIB+HP27/h0AQP+O/n32cgPOoiLMiQfn8/l2sVhkjWP8XFsR9pXz2qfTaXb7KjeEbCwE1U1/juQc79vtNuu1+gzFQ78OAAAAAAAAAFATi1sBALBQF9cSAAD6cfTv+ncAAP07+vfZi6CylBlUl2YadPaSNoF/EQTVVgTlpYmEhHVtvV5PeqwikCwJqmtlDGGGy+Wy0bbFv8/RNIAz93XQrwMAAAAAAAAA1MbiVgAALNTFtQQAgH4c/bv+HQBA/47+nTur1WrQkLUpaBoa9bQOh8Ng2xABe3MTgWxpwkF1uSFrJd5fGiggr5Yx7FNOIOHxeGz0GnFumsL+1K/r1wEAAAAAAAAAcljcCgCAhbq4lgAA0I+jf9e/AwDo39G/cyfCylJmyFrU6XSa9fhFwFfu2EW4XCnr9VqoVIfzfSxjlRs82TTErEC/IKiuhTjvNt2+CLdrIoJIfR7o1wEAAAAAAAAA5sriVgAALNTFtQQAgH4c/bv+HQBA/47+nTvn87lVUF3T8KOpyQ21Kj12EfjV9PUj3G5ucoMFxzLPc+fiUK8tqC5f01DCJsGY8bmwWCwa/f4YN/TrAAAAAAAAAABTYXErAAAW6uJaAgBAP47+Xf8OAKB/R//OowgsSy3C6o7H4yzHLTf07FKn02nQbYkgKp9r0wnhiuMw5701CTArPa5TCaorNYZN7Ha7zs7V+/2+8e+On0G/DgAAAAAAAAAwFRa3AgBgoS6uJQAA9OPo3/XvAAD6d/TvPGobuDaGEK8uRDhVLWN2Pp+FDF5ptVpljVXtcsLFoiKocoB+YVJBdUOcA3OO+e12e9XvbhpeGqGXsT3o1wEAAAAAAAAApsLiVgAALNTFtQQAgH4c/bv+HQBA/47+nSdywpmeVoRkzclut2s1XhEOWFpOAFtt+y22J8LLLhXj9LTl7AWhAACAAElEQVRKiLCuNMFQv9z3FXN5gH5BUF0BTQPlIlzzb3IC8DabjQ9R/ToAAAAAAAAAwKRY3AoAgIW6uJYAANCPo3/XvwMA6N/Rv/PE4XBoFby2WCxuT6fTLMYqAsvajFUEynUhJ6istoCppiFh8e+bhoRFGF6aSKjaUzlBhalgaGLOa8ecrc2Ygupy5vLfAhdzfmcXwZvo1wEAAAAAAAAAhmRxKwAAFuriWgIAQD+O/l3/DgCgf0f/zjPL5bLKALaanM/n7ECwS0UoYBdywgZjn4/4MycrJCwCFac2v2Ne5s7HMe27PowpqC5ESGiTbd3tdq/+vvV6PepziH5dvw4AAAAAAAAAUILFrQAAWKiLawkAAP04+nf9OwCA/h39O8/kBJ09r81mM+kxivfXZny6DrRqGlqVOgzOayo3QG673TZ+rdywwdjGGu33+6z3E6FkA/ULguoGOie9FriYE3j47ds3H576dQAAAAAAAACAybG4FQAAC3VxLQEAoB9H/65/BwDQv6N/5wU5IU1pJmF1EYjWdmyOx2On25gTpFcyrKyN3LC1+LmmIlwr9RSK14fc4L2csSvUL0wqqG7Ic96vX7+KBS7mHIO1hjfq1/XrAAAAAAAAAABtWNwKAICFuriWAADQj6N/178DAOjf0b/zgggdWiwWrQPZIghsSnJD1FLPIWeHwyFr22oIm8oNWzufz41fKwIDc14rjo2c1+tSTlBZm7Er1C9MKqhu6PPdcrlstL273e7F3xOhlWPff/p1/ToAAAAAAAAAQAkWtwIAYKEuriUAAPTj6N/17wAA+nf07/xBhC6llqFsUZvNxng8VgRJ9RVwlhM0OHTQVgTl5YxrhNvlahrulf4S8jWUOM5y3keEkg3YLwiqKyhCMNseN3F+avq+I8AT/ToAAAAAAAAAwBRZ3AoAgIW6uJYAANCPo3/XvwMA6N/Rv/OKCDJKBcLqIvSpr4C2LuSGgD2vX79+9bbNTUOroiLcLsLihpKzzallaFz8bKo8dPBvcgP+UgchY0lQ3ajmwfPjPeZD03PGmM/t+nUAAAAAAAAAAF5jcSsAABbq4loCAEA/jv5d/w4AoH9H/84rIsQogohSgZC2CPbqM6it1PsvFdbXd4jV8XgcVWhY7vZGtQnKip/NneMRYFiD9XqdfUyWFr8zZ1tqM8agutD0fPU85LHpXKrlGEC/DgAAAAAAAADQBYtbAQCwUBfXEgAA+nH07/p3AJiQCAdJEwhG0b+jf3fM1uZwOBQJarvUdrttFSzW5+dKqZC+ocLfcsK20gvhVX3IDQQsEZQVvyN33+73+0HnaeyrVFF4Yu6cq81Yg+qazoc47i7ivNz0PY8tfFS/rl8HAAAAAAAAAGjC4lYAACzUxbUEAIB+HP27/h0AJkRQnf4d/Tv1nWP/VMvlcvCArz+J4KXc0LT0hyCooYL54r3kbHME9B2Px962s01QXImgrNPplB1K2PdYldi/l+3uYl4KqhtWTthczP8Q5+Sm53H06wAAAAAAAAAAU2ZxKwAAFuriWgIAQD+O/l3/DgATIqhO/47+nW61CRNLfwmsGyrI7akI/coN2Uo9h4E1kfue+gpgazOvIgRw6D7ish19h9XFvMoN14vqKihSUN3w1ut1o+3e7XZZ77mW94t+HQAAAAAAAACgKxa3AgBgoS6uJQAA9OPo3/XvADAhgur07+jf6V4XYXXpMRQtfvfhcOj1/ZxOp9vtdnsfmNfFe+o7vOwlEcDX5j10FWgWQWtNA7WeV7y3ktvTJvity7F6Lo6TNttaMuDvOUF1w4t52HQ+xLmw6fuNn0G/DgAAwHzuzRsqAAAAAObI4lYAACzUxbUEAIB+HP27/p1eRYhCVDy8HhWhDPHw+6XSXx4cf/pvL78jAgrid0aoAsDcCarTv6N/px9dhdVdKkLj4jUibKl0EFL0zdFDRzhd9NhdvYdaQupK7bP4jC15zRHXMG3DAeN6qrSYG233fcytrsQ+iN/fdhtLBvw9J6iuDk2DDJvOqxgf9OsAAADM6968oQIAAABgjixuZdZi0WIsONztdvcL5K59CC698DBcLFK7PAhX0wJbALBQF9cSAAD6cfTv+neGdLkPH4EQXQZgpGeBHhHWEPftpxxeF3+bePq3jRLV5CH+56GBT+sy/peKcJVLQCHQPUF1+nf07/Sn67C69Cz0LXqteM1Lr3upl3reWL9y+e9P18b01ZfH69TWi8f2NA2uemk/RC/eJjww1hflBpk935auxjh6+hLXZjH3SgYtxtiVmMNdh6kJqpvHOTquddGvAwAAMK9784YKAAAAgDmyuJXZPQx3WXTbdtFpunLBbSx2iwWXwusAsFAX1xIAAOjH0b8zBxFAEPfFS4QulL5nH38jmNL9+trGOGefxHuI/RJzRogdlCOoTv+O/p1+RVDRmPuyLir6vFoDoyPorNT7jDC32P9/u86I66T4d7GOKMLb0ghCsmL/ldzWGKsY+xwxvtHflNqemJ+1Xq9N4bqzpqC6uM5MHYaHTjUYX78OAACAe/OuJQEAAADgKYtbmbRYCBYLMkt8w28qtDgtFpzGNlmkBoCFuriWAABAP47+namI0IXtdnsfPJZGEJoR4QaxvWMPrRt7UN1r++fyRUAxt4DmBNXp39G/07/oLfv40sQxVE0hVX8S1wNd9bLRp1+qyzkRPfNY5/Xlyz9jrkTFWqoIFIv/e/n/xX/vYgzjtftYtyWorh4lAxf7PgbRrwMAAFDfvXlDBQAAAMAcWdzKJMW379YSTpeu+FZlALBQF9cSAAD6cf04+nfGKIIExnA//rWKh+7Heq9+qkF1aaLBgtAnQXX6d/TvDCPCr8beH6eWX+AY1wj66e6rz4Cs6MOnMkf7CqlrM7+mcJzUFlTXVTDlmM53+nX9OgAAAOXuzRsqAAAAAObI4lYmtdg3Frl19Q2oqeOFurHtp9PJjgTAQl1cSwAA6Mf14+jfqV4Eu43xfvw19+r7Ci0oYS5BdelZaN1ut/M3FfgLQXX6d/TvDCu+YDH6yzn1aREENaZeOsT2RnBZGmHYmjmddy3R5xwVVFePuH7sYj6hXwcAAGCe9+b/j707xo3cWNcGXIEzxwYUng1YG3CqyDuYswajl2BASzC0Bp8ddORUG3BvYEIDipUp0PU71+2jMx5pWsUiWWQ9D0D85/cdSewiu/tjsb6XhgoAAACAEVncym4aLfaywDdPPNZcBYCFuriWAABQj6vHUb/To48fP+4uoK58IbAuQXxbMGJQ3cvtcDi4pwKvEFSnfkf9zvoSiJU1IHuvyVKTPjw8bPo4bSmsLvu6ViBgjvNW12flPF163ATV9aX1+zzhnKjXAQAAGHNu3lABAAAAMCKLW9EQ1+mWBXtbe9I0ABbq4lrCtQQAgHoc9Tv7lECC0ULRcv8h9yF6NnpQXXnxECD3VOB/CapTv6N+px8J1t1jYF1q0d7r5UullkwIcu9jnmCsteveXBtuKdivrBgoJqiuL8fjsel5JTRdvQ4AAMC4c/OGCgAAAIARWdzKZheIjvDU6TyFeC+LegGwUBfXEgAAqMdRv7NNrZu5t7b1EAbxGkF1/3tPpccwBFiLoDr1O+p3+rOXwLo9BdRt5dqnx/VDtbXGklsC9dYcN0F1fcl1fctzC/U6AAAA487NGyoAAAAARmRxK5uTJ/NeX18P1VzV0+K9SxYfCtfbl0uehO2Yg4W6uJZwLQEAoB5H/c7+pIlbENp/m9Bzf6I3js+Xj1WvwYKwJEF16nfU7/RdZycQ7ZJ78b1sWaeT75aE7e1d6v6e6uzD4dBtfdvbWJXOQqxHDqpL4HuP8n5qcY7d39/7MlOvAwAAMPDcvKECAAAAYEQWt7K5xaBZTFgGbKzKor8eFp5esq9Cy8ZbuOeYg4W6uJZwLQEAoB5H/c6+ZM5v1Pn48kbYQW/N6ILqXg9S6TFYEJYkqE79jvqdbUjNkkCnHh/YmH3Kvo1aV+WaaM3jcnt7u5mxz1j1cG1yDlTsJdivZkzyGnpT8zryMz3KNX2Lc004unodAACAsefmDRUAAAAAI7K4lU0tzl2rKS6LALOALtuajXn522s+nTrHoAgtG27htWMOFuoWN1dxLQEAoB5H/c5QWjVul8qHtrzcEjJw3g6Hw//839bax4R19EJQ3baCBWFJgurU76jf2Z6sBzkej5/q3jXWpmRtTMLRUkOtuTalN1kPkXFZqobNd/hWx/8cvLj0+ZvjczqduhuPvQS87SmoLqaenznfUK8DAAAw9ty8oQIAAABgRBa3spmFjHMuYjwvts1izywwvfSJxHk6av59Fgrn55doCLu5uVntqax5nUVo2VAcc7BQt7i5imsJAAD1OOp3hrJUSF3mus8hGJlfnDLvnZ/P70kgQn5vWSgIoQe19yUyTp+HAs61rfkAIPPXjExQnfod9Tvbl7CyhG/lM32OuuplPc7X5Zol45VxyzqjlmuWci3TY9DaFDmvzufuHNeT5zFbaw3VJbL+LOPwnu3SNWtex7Kv5+UmyFO9DgAAgLl5QwUAAADAiCxuZRMLb+doYsoTqBPCNcfisSyEbL0wtXy24HINlz4h2iLm/XDMwULd4uYqriUAANTjqN8ZxtwhdZmXz9+YO0ggvz/z9Pl7ZedhdbWhD2vN6Z4DAXJ/JsESSwTZ5fcLEmBEgurU76jf2a/UNuew5ik1796C0dY6DvnOPde2L7fySkh0/v35QZo9h6y1ltd7Dl48Pwz0vL0MHP98HDO2+Zn8rLUpgHodAACAHubmDRUAAAAAI7K4le61fLJumpGygHHJhqQ0XV0a9lU6b4B7uTC0CC0bgmMOFuoWN1dxLQEAoB5H/c4Q5gqpywNdlgine03+bv7+pXOdZWNhdVsLqntN7qUkvG6ucMEc/5FCQCAE1anfUb8zhtR1ZcPBywCgXgcAAGBrc/OGCgAAAIARWdxK11o1xiWgLs0YazYh5W9nH7IvpVFjVcanxwVcQsv2IeesYw4W6hY3V3EtAQCgHkf9zu5NCbd4bUuAWm/zhtmflg/HOW8JWFvLXoLqXporXFAQC6MRVKd+R/2Oz6RL1tIAgO9GAAAAeN/cvKECAAAAYEQWt9J1I1KLULc0Mj08PHT1uu7u7poF8C0VvveeRkWhZfvgmIOFusXNVVxLAACox1G/s3uZP2/5gJXr6+vn0+nU9WvO/mU/S8MQtLVe8x6D6uY8VuayGYmgOvU76nfGMSWMuffaHQDU6wAAAPQ2N2+oAAAAABiRxa106/b2dnLDUQLhepVmqBbNVWky6a2ZRaPXeA1MjjlYqItrCdcSAADqcdTvbE8ehNIyBCxz8ks9XKXFa2/1UJny14NlHh8fF38dew+qOzsej02OU8YLRiGoTv2O+p1xTKmV1EcAqNcBAADgfXPzhgoAAACAEVncSpfSzFUmNhtlIW7v0gg3NZAvzW9LNP4dDgehZYNxzMFC3eLmKq4lAADU46jf2bVWQW2Zpz6dTpscg8xtZv/LRkPQRgmqi4eHhybHynw2oxBUp35H/c44UiepjwBAvQ4AAMAyc/OGCgAAAIARWdzKrhonzlvC37ZkaljdEqF819fXFjEPxjEHC3WLm6u4lgAAUI+jfme3MqdXGoSz3dzcfArG2LLsf15Hi/FY+iE6IwXVRR509J6569JJoCCsQVCd+h31O2OZUiOpjwBQrwMAAIBrSQAAAAB4i8WtWEDbiSlhdRmvOT09PXna9mDS7OeYg4W6xc1VXEsAAKjHUb+zS5nznRr2Vf4Kqcvv2suYtAiru7q6+jS/upTRguoiwYIZ5ynHaevhinAJQXXqd9Tv+Nx3zx8A9bp6HQAAgPZz84YKAAAAgBFZ3Ep33huQ9fm2ZANYS1MbA+dsqsqC5GIB81BOp5NjDhbqurmKawkAAPU46nd26u7uTkjdF7QKq1vygTojBtXF/f39pGOU9wDsnaA69Tvqd8Yyda1NgoD3Vt8DoF5XrwMAADDH3LyhAgAAAGBEFreyq+ai29vbTb/294aDLfXa39vIIrRsvOYlxxws1MW1hGsJAAD1OOp3tmFqgEXZaUjdWauwuqXmTEcNqpvy2s/nMOydoDr1O+p3xpN1I1PrfABQrwMAAGBu3rUkAAAAAHzO4lZ20zSR7eHhYfOvv7axKk+37mWfhJY9D3ceOuZgoS6uJVxLAACox1G/sw1TwysyF72Hufi3JMwvr3PKOGWOdQkjB9XlNUw5RjnOWz9PMwYvt72/N+eSgMrPxzLb1gM5BdWp31G/M57UAmVi4PLWHxAJAOp1AAAA5p6bN1QAAAAAjMjiVrpT21S1lyc7T2msOp1Os+zTexvyhJZtn2MOFuoWN1dxLQEAoB5H/c7uJNiqTAyuuL+/H2KsMt8+dayWmDcdOahuyuuf855KKzlGx+Px+e7u7tPrzH2wmntn+dkEzuR3jTqXn8++fHYluC3jUXPeXF9ff/q5w+Hw6fdsIchOUJ36HfU7Y5oaTF2E1QGgXgcAAMDcvGtJAAAAAPiMxa3spqloTwtlS2VzzBwNRjWNi3tpdMrTxs+NYGnmyZbz7NzE9HI7Nyadt/xcfn6rDVujHvPXjvvL5rUvHe9zg1/GDizUxbWEawkAAPU46nd6NTW0IvNiI0lA2JTxytz93EYPqkv4WO3xydxuTzK/nLnmKeF7l275G/lbe53TToBczo18Zr33wTylIgwwnxU93hMSVKd+R/3OmFqEU5+/43oPZQUA9ToAAABrzM0bKgAAAABGZHEr3altwOmtoaj1GKSRJv89jYRLBqGdTqchGtzODWBpWsqC69KwSSnNiDluaYraQtNXTWPfVpsaczzyetNE1vK4nxvT8v6xeB8LdXEt4VoCAEA9jvqdHmSeasqcV+aoR5vryuvN/O6UcZt7Hn/0oLopQSwZux7OsdybaH1f4r3z2Zkn34Oc17nPs9ZY5vMi9/B6uRckqE79jvqdcdV+B3zpGmBPD60DQL2uXgcAAKDF3LyhAgAAAGBEFrfSndGbqiLhVlk4nMagvK45mv9aLUxuvS0pDYIJE5vaaFgqmr7SeLZ0o5Jj/v/OoYRLNv7lcy3vZ6F1WKiLawkAANTjqN9ZS+bEpsxx5edHVPMwl5dbHmIyJ/dUnqvn+NcMqstccebsE/7Sy1x9xnGr89jZ76Xv9Vzy3l87sE5Qnfod9Ttja3k/PHWTwDoA1OsAAACYm3ctCQAAAMC4LG6lO5qq+m5OKTsILeupYSmNSkudu6MH1SWYMOO95mtN02EPzWlgoS6uJQAA1OOo39Xv45kSVJGfHVntfYvznOCcwV/uqTxPmvddQ0IfewqoK18IrNvK+ZH9XPKhNDVb7s2sRVCd+h31O2PL/fHWNcf5AW3udwOgXgcAAGDkuXlDBQAAAMCILG5lNw1fazZ6bNGIoWU9BdR9vt3d3c3arDjqMT8vwJ/SSFpmDCm0gB8LdXEtAQCAehz1O0vIHNmUuazMrY4sYVi9jp+gumlz30u/D3sPVXu5HQ6H2e9b1Mp+rf1gmvLOsM8c/628N1C/o35nP1KHlhnDbVMvJIQ3teVrW76Psh4idWv+PQCo1wEAANj63LyhAgAAAGBEFrfSndqmqvwcyzRulY2FlqX5p9eAuvLZQu7T6eSYD/Caz1ueYJ+F+2ChLq4lAABQj6N+Z04Jhpgyb8nzpIdhzHn/QlDdNoLqEhKT+eCykWC1snLA2lu2FvhXVgz9FFSnfkf9DlNrpdabdT0AqNcBAADYw9y8oQIAAABgRBa3squGuaenJwO4wcXIc37WzPmE8Lm2PEV8jnNZOGG/Wxbk+/zCQl1cSwAAqMfV46jfmcuUubKlg5V6NXWuea75P0F1z58eBlI6Dqqbct+rdPLAlV7C6vKwny0G/r3ccq9mKYLq1O+o3+Hs9vZWUB0A6nX1OgAAAI3m5g0VAAAAACOyuJXuTAnTSjMS849z2UhoWS+LrWu2m5sbx3ywRrWemv2wULe4uYprCQAA9Tjqd3bj8fFx0pyVByz815TAv8xbzkFQ3fOn11I6Darb8n2Kz7e156+3+GCi17acF0sQVKd+R/0OvdUlguoAUK8DAACwh7l5QwUAAADAiCxupTtp1iqVi1rTJKZpbt7mlLKR0LIEvRWNSkMd8z00qgmrw0JdXEsAAKjH1eOo32ktD3gpnYcpbcXd3V13Yymobtp9pTntKaRu7fnr/N09jWW23M+Ym6A69Tvqd2h5bVAE1QGgXgcAAMDcvGtJAAAAAIZlcSvdSdBcmbCwNY1izNecUjYQWjalWbDsOKxu70F1Ww+pKws3qIGFuriWAABQj6N+V7+P4XA4VM9TJQCM/5oSlpUH7cxBUN20ue+5zBECkwf05P5HfneOX7bHx8e//2b+9/m/59/k37Z+qE/C6l7+zaXed/m7LV9H3o+5/5JzJ59zGbOXIXy5V3key8zX59/VvtfW/IwVVKd+R/0OX5Lvn9bfrUVQHQDqdQAAAAaamzdUAAAAAIzI4la6lAaRMmFx654arHps3Codh5ZlUfVc+5bF2lk4ne3cwJQmz/N/m3revrbl7zjmb5s7pO7lsT9vcy7ez+9+2RQHFuriWgIAQD2uHkf9zkKfL/8zR8U/TZkHnmPOT1Bdf0F1UwINyxfC6TL/PSUcLj+b39HqHsaSATMJjGsVtpfPtJwrU96H2Z/ch2oVWjd38J+gOvU76nd46zttjhDWIqgOAPU6AAAAA8zNGyoAAAAARmRxK11KCFiZsLg1zTZZWMvr0pT0efDW51tt809+7mu/+7VtavNXy/CwhNBlnN7TsJfzLj+Tc7jVvrRqVNrjMW/d9Pfy2B+Px68e+xzv/Js0e7VqlvM5hoW6uJYAAFCPq8dRv9PKlLmzzJHxT3d3d9VjmoCr1gTV9RVUlzndFoFwmW+e4xjlHGxx7yLz50uYer/wfI9ljv3NfZsWAT9zBvYIqlO/o36Hr2kZZlsE1QGgXgcAAGCQuXlDBQAAAMCILG6lS2mUKQ2CppgmTVBlQw1uLRqCsgg7i7FbLuxu0fSVZizH/J9aNf29PPZTwuHSmJaGt1b7ZKE+FuriWgIAQD2uHkf9zhRT5tqXCqIaaUwTGtWaoLr6MUgYXGstgtUShjjnQ0zyu6feT2n1gJ231N6v+PwYz72fU4IS5/68FVSnfkf9DpfWBvnOWCKwzv1vANTrAAAA7GFu3lABAAAAMCKLW+lWi3CvNKDM2cyzd1sKLZvasJTzLQ2Gcy7snno+z91MtbVjHgmknDquOfZzNIi2evq8hmAs1MW1BACAelw9jvqdWlPmJR8eHgzgK/O9paNgDkF1z90cj7xner1P0frzoSzwgJ2p8+sJ/FtK3k9T7mvmZ+e4nymoTv2O+h3eK/e4WzwgsAiqA0C9DgAAwI7n5g0VAAAAACOyuJVupcGlNFjomkYWDXX1jTVlIw1uU86XBBouEQKXRd1TzuWEsjnm0/e1fLYQfs4wy/zuNMOVic2JAjexUBfXEgAA6nH1OOp3atSGTGROitdlTrmXcR09qG7KPHHrILMpoS45N9a4lzX1vsVc91amhujldS0t8/hTwurmeKCOoDr1O+p3mPK9lu/TrFGYGsaa35GHs1m3A4B6HQAAgL3MzRsqAAAAgPaebfvZYGlpbml1/mbx6+l0MqgLNXgt3eA25VxJkOGSIWC9Nn1t7ZhHjt2UsWzdhPiWfP5MWcCfIEbocKGuzeZaAgBAPW5Tv9O52jmpBG7xuikPp2g9xzt6UN2UQLOW942mPlhlzeMx5Xye6wE7W51Pn3IezPHQGkF16neb+h1ayXdUvucSOJfvl2ypA1KLZjv/t2xZE5F/62FsAGyoXgcAAIDiWhIAAABgXRaFWtwKk6SZpOV5nAWye2m+6rmhZukxnnKerPHU7imNc1n47ZhPD/zLzy8tDag3NzfdhhRCxUJdm821BACAetymfmenny1LPuRhizJPWzoJJBs9qG7KA01azrnWHodsuWewpoTI9DR3PWX+P69jbT3dAxJUp363qd8BANTrwgUAAAC4mGtJAAAAgBVZFGpxK0yS5parq6vm57PAustsJbSsthFtrWbLNH3VntdzN1nt/ZhnS7DhWhKMWHvs19xvLNS12VxLAACox23qd8aZ3y0LPDBj5LFt/RCNkYPqpgSaZZ62ldzLqt2Pw+HQxVhOmbtuHbRXO/+f/e/lgS+1wX957S0JqlO/29TvAADqdeECAAAAXMy1JAAAAMCKLAq1uBUmS0PcXOd1GkXy+3tpXOnNFkLL0jxVe/zzs1s8rxN0N/Ixn9J8mKbNtU1p+PNZRWcLdW021xIAAOpxm/qdHc7vlp2EmM0pc7S1Y9s61GvkoLopDzRpGRCXh4zU7kdPc755uE9ZOVztdDrtImCzl89fQXXqd5v6HQBAvS5cAAAAgIu5lgQAAABYkUWhFrfCqo1WRWjdKo00Sza41Qa+5XivrbaJLo1aIx/z2s+DhMPNGfK3xDinURA6Wqhrs7mWAABQj9vU73RsysMyzJPP97ktqK6N2gCuOebZax9MkoC7nuR9v/Z41ob+9TT/f5b7UGufF4Lq1O829TsAgHpduAAAAAAXcy0JAAAAsCKLQi1uhSbSXFIb6lWz5W+lEeT+/v754eFh2HHfQmhZgrtKB82ASzZczbnvvR/zvB9LJw2gUx0Oh6rPJuhooa7N5loCAEA9blO/07EpQV58XW0IVYLlWhoxqK52HnuOedYEtNXuR4/HoPZ8avWQldrQv97m/yP3GNc+PwXVqd9t6ncAAPW6cAEAAAAu5loSAAAAYEUWhVrcCs0koKq2QWXqlr+b5pw0dKTp6PHxcYgx30JQXW3T1PF4XH18axvYEnA26jGvDSbsMeAtAZw1n2lbbiBldwt1bTbXEgAA6nGb+p2OCaqbV+3ctKC6aVrcK2oZalb7QJrW50ErtfctWszBTwn96/G+Xe09gGytHqIlqE79blO/AwCo14ULAAAAcDHXkgAAAAArsijU4lZo3oCUZpde3hdpJEpwVkLP9hgetYWgupwT+XtptsmW45Hjku2tc6WH45UmpdJZA1vvx7z2/X9/f9/le6ymSSyNj9DJQl2bzbUEAIB63KZ+p2O1AVo3NzcG7wJ5oEgRVLeoVg80ahlqVjtnnVC2XtW+pqnharUPqul5zrz2c7hVmKKgOvW7Tf0OAKBeFy4AAADAxVxLAgAAAKzIolCLW6G5hHvVNl4tsaWBJw1qaf5Io1f2d6u2EFR3qXOg3TnUrmUj2hQ153Ia8UY85jmGNfs253hNlfOw5jMGOlmoa7O5lgAAUI/b1O90rHYefc4HZexJbQBU6yDAUYLq8sCgFp9xCUNbc373vPV876g2XG3qA2Py3ljj784pgYRrfg4LqlO/29TvAADqdeECAAAAXMy1JAAAAMCKLAq1uBVmk2airbx/zuF1aaRK2NZW7Cmorle1TYQjHvPahqo01fUsnw3vfU29BC0y/EJdm821BACAetymfmeHc4+C6uadr2z9Ptt7UF32s9XDi/JQk5YBcQlIq9mPzAn3rPZ1TZmLz3EpOwz9q31drR7AI6hO/W5TvwMAqNeFCwAAAHAx15IAAAAAK7Io1OJWmL1ZJs0aW3s/ZZ/TiJT977mBRlDd/GoDF0c85nttuDydTu9+TfnsgA4W6tpsriUAANTjNvU7HRNUNy9BdfPK/iX4rOXnW+ZiW6rdv5w7PcuDUmpe183NzaTjvdfPq4xLzWtr8cAaQXXqd5v6HQBAvS5cAAAAgIu5lgQAAABYkUWhFrfC7BL0Vhv21cuWJpUeQ+sE1c2vtyahno95TShlfmYLn2HvfV1pgIQOFurabK4lAADU4zb1Ox0TVNfn3G4RVPeqh4eH5+Px+Hx9fd38sy0PD+rlPbaFeyi1D4la+v2U+4O9qw00bPHAGkF16neb+h0AQL0uXAAAAICLuZYEAAAAgDdY3MpuPD4+Vjd79LTlNfTSpCSobn5puiuC6r4qDYqlk+bDOby36S/hltDBQl2bzbUEAMB69Ti4F8BXCaqbl6C6aXJPJ/uQccw8bm0w2qXzqXM8KGjP8yRLn1drhrnNrfY+UN4ba31OoX5H/Q4AoF4HAADA3LxrSQAAAAB4yeJWdifNTWm8uL6+3nSgS5qA1m4UE1Q3v96ahHo95ms2ci2hpukPLNTFtQQAgHoc1O+0nnMqgupmn9stnQTVJRgsr+E9W0LBMhf8tS3/7vOfzX5mS2jckvda5gqpy72omv3JvastuLu7q3p9p9Np0fN4C/ejau+7tHgQj6A69TvqdwAA9bp6HQAAgPZz84YKAAAAgBFZ3MqupSEmzVZXV1ebDaxLI0oanrbUPCOobrtNQr0e89qmuK2cizXnwcPDgzcQFuriWgIAQD0O6ndeJaiuz7nd0klQ3Qhb7g3NEVIXtXPpW3l/1Z7ftQ+P6eG9NJfM5a91rgiqU7+jfgcAUK+r1wEAAGg/N2+oAAAAABiRxa0MI40gaci4ubnZZENV9n2uhqrWjVaC6rbbJNTrMa9ttlz6PbPkeXB/f+8NhIW6uJYAAFCPg/qd5nNqgurmndtNeFoPx3nvW8Zlzvnh4/FYtV95KMsW5EFQS72+HKce3ksd1XnNvpMF1anfUb8DAKjX1esAAAC0n5s3VAAAAACMyOJWhpSmlwRrpUEjzUppZikbaKxKyN7j4+Ni4ySobn6C6i5zfX2962aqmvMgPwMW6uJaAgBAPQ7qd14jqK7Pud3W4yuobp0wuNrjv5V53dp7BTXn95J/ayN1nqA69Tuo3wEA1OsAAAB0PDdvqAAAAAAYkcWt8JcEwJ1Op09NG4fDoToYa+4toXoPDw9dNyKNHFR3DkG8dLu9vRVU13ET11JqmsWWaLbEQt3i5iquJQAA1OOo39mszHMXQXWzyfxcEVTX1Zb7OrnP0/Pxv7+/38T5LajuuYv3ae45TSGoTv2O+h0AQL2uXgcAAKD93LyhAgAAAGBEFrfCBQ0yaRxKM0caSXoIsEtY3RJhcCMH1Z2D5HLcsyVQLsf/vK19Dox0zBMiWXbepFbTLKZhGAt1cS0BAKAeB/U7reeczvPPfF3tPLGgunnumeR8nxrqtcS4b+n+Sc3ru7m5efffSbhgzd/a0sNc1jpfBNWp31G/AwCo19XrAAAAtJ+bN1QAAAAAjMjiVqh0DrBLI0waTNIIVRZuvsrfn/s1lp03Wj08PHxqgjoHEa5xHIuguln2ae+boDos1MW1BACAehzU77ylNqDIeXAZQXV9BNTlHs2SAXVTx33vQXU1nx+1n1X5ub1/XgiqU7+jfveeBQBQrwMAANDf3LyhAgAAAGBEFrdCQ4+Pj3+H193c3CzSiJWgtbnsMaguDWsJpru9vX2+vr7ebAPeSMdcUN2Xt5y/YKEuriUAANTjoH7nNcfjsXruaY3gr62pnV9uHa41YlBd7r/kXsya56mgOkF1WzhfBNWp31G/AwCo19XrAAAAtJ+bN1QAAAAAjMjiVpjRObjucDjM1pB1dXU1WzPWnoLqsk8Jpys7acSbc5x6O+a1jVQjbGChLq4lAADU46B+p/VcX9lYmNZGPrcF1TUIp8tDguZ8eM971D6saEshkEVQXTO196cE1anfUb97zwIAqNcBAADob27eUAEAAAAwIotbYSFpPjoej9XNS29taXCZwx6C6hIUeH19LaBsw8dcUJ3vZizUxbUEAIB6XD2O+p3l5vqyZV6V1+UhNb2M7V6D6jKvn3sfGa+M98a/tzf5GVsE1TVT+xqnfl4IqlO/o34HAFCvq9cBAABoPzdvqAAAAAAYkcWtsII0VbVuHpsjKGzLQXWn02mXAXVFUJ3NdzMW6uJaAgBAPQ7qdy6Qh6fUzjttKQBqDVNCAFvPpe4hqC6vIaF0Oe8yPjl3d/a9LajuDYLq5nuNgurU76jfAQDU6+p1AAAA2s/NGyoAAAAARmRxK6yoZZhafk9rWwyqSwPb4XAQULajYy6oznczFuriWgIAQD2uHkf9ziKfLf8THMbrjsdj9djmQTYt1QbVnYPhsuV/5/e8tr3n997c3Pzj5+/u7v7+Wxm7zCc/PDwM+d7yGv8p51/N37m/v9/MWAqq8x2rFEX9DgCgXgcAAGA/c/OGCgAAAIARWdwKG25QKTOHhW0tqC6Nba2C/4qgOkF1guqwUNfNVVxLAACox1G/s3G1IWZzPBhlTxK81sucXu0xXvOBMwN+bwuqe0NtUN2WzmFBdT4HlKKo3wEA1OsAAADsZ27eUAEAAAAwIotboRP39/eTQ6vSkNbSloLqave1CCjr/pgLqvPdjIW6uJYAAFCPq8dRv1NnSqDa09OTAXzFzc1NF3P4IahuE9/bguresFaI25IE1fkcUIqifgcAUK8DAACwn7l5QwUAAADAiCxuhY60CKt7fHxstj9bCap7eHh4vrq6Wiwc7Pr6+lPz33lLs2eafb62nU6nT2Pzcru9vRVUN1MjVRFUBxbq4loCAEA9Dur3wR2Px+q5p8xn8k8J8Ksd08wHtyaobh21YYU7rk0E1XX4GgXVqd9RvwMAqNfV6wAAALSfmzdUAAAAAIzI4lbozNSwujQetrKFoLq5QuryO9PglyaeHJO8pjQg9tKcNBdBdYLqsFC3uLmKawkAAPU46nd2o3a+L1se0EHbMW05f38mqG4dteO+49pEUN0b8nlaBNWp30H9DgCgXgcAAGAXc/OGCgAAAIARWdwKO2pwypafbWULQXVTxqp8IZwuzUKn02mx/RdUN98YncMG97yBhbq4lgAAUI+D+p235OEbtfOlNzc3BrDhfGW2PHillzlyQXXGvXFtIqhuhvNFUJ36HfW79ywAgHodAACA/ubmDRUAAAAAI7K4FTqUoLQyIXCtld6D6o7HY5OAuuvr6+f7+/tVjrWguvnGSJAbWKiLawkAAPU4qN95/hQ4Vzt3+vj4aAAbjWcerDEHQXXrEFTX7nsk92eKoLpZzhdBdep31O8AAOp19ToAAADt5+YNFQAAAAAjsrgVOpXwtFLZBNSq0annoLqnp6dPjX1lYkjd4XD49LvWIqhuvjESVAcW6uJaAgBAPQ7qd+rn17Ld3d0ZwBcS3DdlLnoOgurWcXt7K6iu0fdI7X0JQXXzff6jfkf9DgCgXgcAAMDcvGtJAAAAAHjJ4lbo1P39fXUT0PF4bLIPPQfV5TWWiSF1rcZpT01Cewqqu7m58UECFuriWgIAQD0O6vfh1c75ZcsDVfivKfPSc81HC6pbR+289el02sTre3h4WGxevvYzaksPqxFUp35XiqJ+BwBQrwMAALCfuXlDBQAAAMCILG6F/SyY+nu7vb1t8vd7DqpLg2Tt+FxdXX1qsuqBoLqvS+Ne7bEGLNTFtQQAgHoc1O88T3rgh0Cz/0oIV+04Pj4+zrJPgurWUTu3n5/bgiXD456ennYfVFf7uZGxWeM8Rf2O+h0AQL0OAACAuXnXkgAAAADwksWt0LHaBrNWzTm9BtXV7lfpsAHvcDgIqpvxeAMW6uJaAgBAPQ7qd+rnIUvDB6Ns3ZR5ygTczUVQ3bbOB0F1Teqg2d9XK9d5zb6TBdWp31G/AwCo19XrAAAAtJ+bN1QAAAAAjMjiVujY3d3dqs05vQbVpTGyVDb19NYEVttEOJe9BdU9PT35IAELdXEtAQCgHgf1+/BOp9Okh388Pj4OP4ZT5qWPx+Ns+yWobh0PDw9V457QyC2oDTirvQeT+1plp4Fq+fyseW1XV1erHUfU76jfAQDU6wAAAJibdy0JAAAAAC9Z3Ao7bARq9Z7tNaiutmEpTT29BZdln4qgutaLBzVbgoW6uJYAAFCPg/qdRnOR2fJQlZHVBk2VBYL+BNVt5rv705bjtQW1D1KqDWVMgF/N30tgYO9q77u0OFcE1anfUb8DAKjX1esAAAC0n5s3VAAAAACMyOJW6JiguiYLybptpkxo3prHd0vH/Pr6umq/TqeTDxKwUBfXEgAA6nFQv/On29vbbsPW9jx2cweTCapbT+1DdbZg6fOq9n7YFs7jhPetdU9LUJ36HfU7AIB6Xb0OAABA+7l5QwUAAADAiCxuZVMS7JWmk/y/IxBU126fsj08PHR1fBOiVgTVXaS2KS7vIcBCXVxLAACox0H9zvOn+dEyIajucDgYtw4fpiGobj15T+zhXsWXXF1dLRpoWXu/ZAv3ABI4t9ZrE1Snfkf9DgCgXlevAwAA0H5u3lABAAAAMCKLW+laGqWOx+Pz7e3t8/X19d/n4/39/RCvX1DdP+V8KJ2Fuy3dnFQGDKqrHatRm2fBQl1cSwAAqMdB/c6X1IaalYHDzaaMWe5r9Lp/guqmq71f0fs9roTN1byuhNst/Tdz/u/1M6TFe1RQnfod9TsAgHpdvQ4AAED7uXlDBQAAAMCILG6lGw8PD5+acxJIdXNz8+b5mOC6ESRkqwiqa9JU02Oz0svwxSKo7k35bCidNoKChbq4lnAtAQCgHkf9zlbUzv+9nG97enoaZrxq5yXLgoFkgurWk/taNWPf+z2u0+m0yoNjau6ZTAnH67TGa/p9LKhO/Y76HQBAva5eBwAAoP3cvKECAAAAYEQWt7J6k1eaqNJIUoRP/UNtg1kRVPePLT/Xk6kNob3t19xNjY+Pj9VjlZ8FLNTFtQQAgHoc9bv6nf/3tQfFlJnDqLYi84rvvXdRPgvQWiLUT1DdumrOkd7D1RKkV3NOHY/HVf5uz+dy7T2XVg9fElSnfkf9DgCgXlevAwAA0H5u3lABAAAAMCKLW9lks0u2JRq8NrZg6u8tjYZrNtAIqpv33C8DBtVFAirLCs1xYKGum6u4lgAAUI+jfmdP8gCZKXOTo8y5TQ30W2qMBNWtK8GNNeP/8PDQ7WuqnYufek7Vfjbd3d11O5bZtzVfk6A69TvqdwAA9bp6HQAAgPZz84YKAAAAgBFZ3MqqpjTE9dx40kJtYFi2NKatuQ+C6r7u6upKUN071Yb7tQpuBAt13VzFtQQAgHoc9Tt7URtu9nLL/P5eTX3QSIK+ej+WguraqL3PlXOsR7X3CHLPY6o8oGqtvz2X2tC/VkGGgurU76jfAQDU6+p1AAAA2s/NGyoAAAAARmRxK6uqbTopjRs1ejSlUbBVKJugunlMCWgsAwfVTRm3x8dHH7hgoS6uJQAA1OOo39Xv/CVz61PnKPc6Rz81pK4sHAInqG5dU+5z5Wf3cv63Ct6rPZ97DM6svafRMnhPUJ36HfU7AIB6Xb0OAABA+7l5QwUAAADAiCxuZXWHw6G6iScNK3s0tUmwVXOgoLr20nh2fX0tqK5y7GrH63g8dv+eBwt1cS0BAKAeV4+jfmdJd3d3k+cpE6i0p8Cz2vnnl1vueSxJUN36ao9BTw/YiTzwpfa8P51OTfYhc/k1f//m5mY350Wr0L8pn2mo31G/AwCo1wEAADA371oSAAAAAF6yuJXVpXmlTGj6ur+/392YpAmldjwSgtaKoLr2WjR/lkGD6qI22DINswm66/kzMPuY934+03rdVyzULW6u4loCAEA9jvqd3Wj1UI29zNNPmZdfcx5SUN36cv7Xni89qb3/0vJ1THlgTU/n9JQHUrV8HYLq1O+o3wEA1OvqdQAAANrPzRsqAAAAAEZkcStdmNoMt6ewutqGpvOWZrpWegwtqw02TLPe2mrHswiqm3z8S0dhhZ97rZH05ubm0z6noQ0s1MW1BACAelw9jvqd3ucs85COLUowVm3YW+kgKEtQXR8S1lZzHI7HYzfvg9rX0HruvTY0MnPqvejlNQiqU7+jfgcAUK+r1wEAAGg/N2+oAAAAABiRxa10YWo4W9lJWF0CqaaOQ4K8WqltUmy5D632qYfPsamBjEVQ3aRxTJPd4+NjV+/5S8c7+57GtnzOpWEQLNTFtQQAgHoc1O+0kqCsVvOWCVna0oMXMj/Xat52raA+QXV9yPGvPXd6eM8cDofq/W89Zz3lXlkPgZlT7nm2vtcpqE79jvodAEC9rl4HAACg/dy8oQIAAABgRBa30o0WzWBbDqtLgFbCqKa8/oxhS7WhZWl8mcuUBqU5A/TekiathIyVRs2e2eYKXKs95mlmXcqUxtk02/Ui50XN517r9zlYqItrCQAA9Tjqd/U7U0KqXpsj7vmBC63nbBMWtxZBdX3InP2Ueztrvl+mzLnnfdTTeb3mvaDIPazae335udYE1anfUb8DAKjX1esAAAC0n5s3VAAAAACMyOJWupGQudKgISwNdT03wL3WuNIiqK91801taNlcjUlntU0+azQL5ly8ublp2uRZZmwirD3md3d3i47plFDHXgItaxthtxzIiYW6uJYAAEA9jvqdPs0xj5k5vN4C67Iv2aepD415uWXc1nyNgur6URsKVlZ8yMqUhwPlfdTbQ3Xm3q85P0fneCCQoDr1O+p3AAD1unodAACA9nPzhgoAAACAEVncSldqG6rKF5pQWoe2zSWNJy1e8xwhbLWNQAndm1MatsoGQsouaUqqbYhMc1FPzV9zH/NWzVWlk7C32vf90uOMhbrFzVVcSwAAqMdRvzOMuR66cQ6sWyM46ix/u3VA3fm1rR3EJ6iur/fQlHNs6QcxJaRuyv7OdZ/ibMq9oMyl5/Uteeyn7G8+e+cgqE79jvodAEC9rl4HAACg/dy8oQIAAABgRBa30pU0i5WGTWJp0Oq12SqvtVUwX5mpqWzK8Zhz3KeE+y3VOJixu6SpM4GKpaPAsjRu9XjMvyRj0Nt75hIJySsbDdjDQt3i5iquJQAA1OOo39m1ucLqyoswpsxxLRFal9eSueS5Xk/mmpcMwnqNoLq+TH040VIBay32c+57LS3uGeZ1zi3vpV7vVwiqU7+jfgcAUK+r1wEAAGg/N2+oAAAAABiRxa10Z0qIU3kjsK6XgKc01tze3jZ9fXd3d70s2lqkSWlqc9Kc45XXfGnjz3k/SmehZaXjxrTPm7+mvndyrJaSsZny3p8rnBAs1MW1BACAehz1u/qdz+ex5gyreznflfmyzHO2CObK78jvyu+ce//z+5ecC32LoLr+tHhI0VwBa60eorTU+TM1UC/b4XCYLRyzNghuqXtWgurU76jfAQDU6+p1AAAA2s/NGyoAAAAARmRxK11qHeRWXjS+peGjRdPbe6VpZ47XlQabOU1p6Mu+zdWsl2NZJjb+tN63NEFeXV1d3MhYuTBu9uCyXo/5XJ8Veb1zfybk/T+1OXaNzy0s1C1uruJaAgBAPY76nSFljq9FmFXNnGf+bub9ErD01pZ/k387da64bDikLgTV9SehaJfeK3hry+9odU8r+5Tf1WK/lnwAzJRz/Ev3L06nU5PPx9wPavHZ8/Je0RwE1anfUb8DAKjX1esAAAC0n5s3VAAAAACMyOJWujU11KlcGFqXppQ5msryO/O70yw3V6PcEg1xU4PA8trf0/CWhqtLXlOagFqcA1Ob8c4NSe85X9MIlqawFuf68XhsfszTrNXjMX9t/Ft9VqRh6+VxaSG/r0WY3tKNf1ioW9xcxbUEAIB6HPU7PM/3UJmtbhmPnkLqQlBdn1rcw/j8flDuB+S4XXIO5t/k32ZuuWXoZH7X0loF/5XPAgAzPpfeE8h9jIx/7p+02pfP7xXNQVCd+h31OwCAel29DgAAQPu5eUMFAAAAwIgsbqVbLQOoyoXhWmkwSdNGAube26CSn8nPplGtZdPPW/u7RENcq2aqHMuMT8b1PLbn/53mnpeBfpc2yLUKAExD0nvGMvt+bkgqDRoApwbD5Xxr2VS45DE/N3RN2f+8/1o2qZ0b/mobxGrCC7+2P2ChLq4lAADU4+px1O+sJXNdLefftrjl9WcceiSorl+ZZ57zvMyx/9I2199b4uFJr2l9H+BLr+1LYznX38zvzWuam6A69TvqdwAA9bp6HQAAgPZz84YKAAAAgBFZ3ErX0vCyROhbubBpZM6mlPLOhpklGljOx2Dp13dpg1yrQLWX45rQujSPnQPVsqWRJ1uL4/+lZsaEHLbY/wTevdzvc3jiexsoez7mS50LL8+Jc4Bl/sbL8f18nPPvWodr5nxbq/EPC3WLm6u4lgAAUI+jfoe/5KEOvczVL73ldS81H19DUF3f8sCWPbwP1gypO8s5u5fPlaU+UwTVqd9RvwMAqNfV6wAAALSfmzdUAAAAAIzI4lY08mxsy1gs3QyUAK7SaWjZlpoj0xD0mjkDEDNGezrmr5krrK6sGI7ZcwMsFuoqo3EtAQCgHkf9znjykI8eHuay1Pzcex8CsgZBdf3LA3KKkLomMme+5c+g7PuS7z1Bdep31O8AAOp19ToAAADt5+YNFQAAAAAjsriVzTidTsM0wL22pQlwDWmaKZ2GlqU5Kk1SZQMBg2+ZM4yxJqiu52P+lr2E1Qmpw0JdXEsAAKjH1eOo3+nV4+Pj7h8uk2CxXoK5vkZQ3TZsde76a/c21rDVsLrcy1p63l9Qnfod9TsAgHpdvQ4AAED7uXlDBQAAAMCILG5lU9IYdjgchguou76+Xr1pbMnGw/e+1t6bki5p5Epz51yvoSaoLpZ8r7U8v7fapFZWbFYDC3VxLQEAoB5H/a5+5732FliXOcWEOuV1bYmguu3ImOd+z1beD2s9POkSW7tfmM/KNcIvBdWp31G/AwCo19XrAAAAtJ+bN1QAAAAAjMjiVjbbzFPbfFU21hh3f3/fTdNPArRKp6Fl+Zkew8nec/zyGkpHQXW9H/O3pJl0qX1vud3d3fmAx0JdXEsAAKjH1eOo39mUzMVlXmurD49IcFjCnNYIkWpBUN225DzL+6Xn90QC4LYS2Jh7MD1/9qz9ICpBdep31O8AAOp19ToAAADt5+YNFQAAAAAjsriVTdtrYF2aanpsjMv+pKmmdBpa9vDw0E04WY5hzeuobRoqMwTVnY/5Ek1eczVqZTy30CBbe76Ahbq4lgAAUI+D+p2enE6nTyFXW5iPu7293cWcnKC6berx/lb2Z4vnRe5j9HYvIPfSjsfj6mMjqE79jvodAEC9rl4HAACg/dy8oQIAAABgRBa3spuGnjSVlY0H1J0bVx4fH7sd64TBzd3sM6URKg1JazdC5u9POYY5B0onQXVbOOZfk2PRa6Blr6GUWKhb3FzFtQQAgHoc9TtMkPmu+/v7T3OlvYRH5SEnd3d3n8L09kRQ3bblOPRwT2MP50PuBeRe4ZqfObnPl8++XgiqU7+jfgcAUK+r1wEAAGg/N2+oAAAAABiRxa3syrn5rddQqte2NM5sqQlo7uCvFmOR8yANQWXhBqRWxzHhcGmcLB0E1W3lmF/apFYE1IGFuriWAABQj6N+V7+zqMz/ZT4sc4xLzNtm/i1/K38zc8V7nocTVLcPOUfzEJtW9wXKBeF0e35vJJByqQDAfKYlBDP3dXojqE79jvodAEC9rl4HAACg/dy8oQIAAABgRBa3slsJpUqTTRpR0pRWOgqmy/7soQkojWxzNBW2bJDLGM/d2JXfn78zR2Nai/1vEVS3pWN+yWdDGv6WDjIsAzT/YaEuriVcSwAAqMdRv8Olc5/n8LoEPGUOs8U8bh5UYe6NPbw/ErR2fm+UhsGNed+N9h5pHZSZ35Njk2OU+w2o39XvqN+BEaUmunQDUK8DAACwt7l5QwUAAADAiCxuZRgPDw+fwqkSFDV3cNnnWxpf8nfz97Mfe5PgrTQA1jb45HikqSe/Z66mnjQi5W+0OvZp7MprXup4ZlzOjVRfew05Dtm3nG9zBcCdj3ltCOQSx/zSz4XzuM4RaHl+7wunw0JdXEsAAKAeR/0Os30m/s+8I+xV5vvPoWtvbZmPzr/b4/2oVjI2GaOM1Vtjeb7PsuTDdlC/g/od2Nv3IIB6HQAAgL3NzRsqAAAAAEZk0RjDN/Wcm1ASunVJCFh5I5Dq/DTgl80ro4VTnQMBz008Cel6+aTk838/nU6rjU/+Zv7+y/1767jn/3be9/zcmsFqL2U/emg228Ixf89r+fwz4ZIAxvNrTfjeqO99LNTFtYRrCQAA9Tjqd2hlygNHzMsBoH5H/Q7Qz/cggHodAACAvc3NGyoAAAAARmTRGFwgoVOfb2uHgwGAhbq4lgAAUI+D+p09ygMhSmVQXR5EAQDqd9TvAH18DwKo1wEAANjb3LyhAgAAAGBEFo0BAGChLq4lAADU46jf1e90I2FzpTKo7sOHDwYQAPU76neATr4HAdTrAAAA7G1u3lABAAAAMCKLxgAAsFAX1xIAAOpx1O/qd7rx9PRUHVSX7ePHjwYRAPU76neADr4HAdTrAAAA7G1u3lABAAAAMCKLxgAAsFAX1xIAAOpx1O/qd7pyOByqg+o+fPhgAAFQv6N+B+jgexBAvQ4AAMDe5uYNFQAAAAAjsmgMAAALdXEtAQCgHkf9rn6nK/f399VBddk+fvxoEAFQv6N+B1j5exBAvQ4AAMDe5uYNFQAAAAAjsmgMAAALdXEtAQCgHkf9rn6nK09PT89XV1fVQXU3NzeffgcAqN9RvwOs9z0IoF4HAABgb3PzhgoAAACAEVk0BgCAhbq4lgAAUI+jfle/053b29vqoLps+XkAUL+jfgdY73sQQL0OAADA3ubmDRUAAAAAI7JoDAAAC3VxLQEAoB5H/a5+pzuPj4+TguqyHY9HAwmA+h31O8BK34MA6nUAAAD2NjdvqAAAAAAYkUVjAABYqItrCQAA9Tjqd/U7XTocDpPD6k6nk4EEQP2O+h1ghe9BAPU6AAAAe5ubN1QAAAAAjMiiMQAALNTFtQQAgHoc9bv6nS49Pj5ODqrLdjweDSYA6nfU7wALfw8CqNcBAADY29y8oQIAAABgRBaNAQBgoS6uJQAA1OOo39XvdOvu7q5JWN3t7e3z09OTAQVA/Y76HWCh70EA9ToAAAB7m5s3VAAAAACMyKIxAAAs1MW1BACAehz1u/qdbiVc7vr6uklY3c3NzfPHjx8NKgDqd9TvAAt8DwKo1wEAANjb3LyhAgAAAGBEFo0BAGChLq4lAADU46jf1e90LeFypUFQXXkRWHd/f29gAVC/o34HmPF7EEC9DgAAwN7m5g0VAAAAACOyaAwAAAt1cS0BAKAeR/2ufqd7d3d3TcPqsl1fX3/6vQmte3x8vHhfnp6ePoXnAaB+V7+jfgd8D/qcAtTrAAAAjDM3b6gAAAAAGJFFYwAAWKiLawkAAPU46nf1O5twOByah9WVz4LrPnz48Pf266+//r2d/9vV1ZX3DID6Xf2O+h3wPehzClCvAwAAMODcvKECAAAAYEQWjQEAYKEuriUAANTjqN/V72zC09PT883Nzaxhdd4zAKjfUb8DtPkeBFCvAwAAsLe5eUMFAAAAwIgsGgMAwEJdXEsAAKjHUb+r39mMnsLqAFC/q99RvwO+B31OAep1AAAAxpmbN1QAAAAAjMiiMQAALNTFtQQAgHoc9bv6nU3pJawOAPW7+h31O+B70OcUoF4HAABgnLl5QwUAAADAiCwaAwDAQl1cSwAAqMdRv6vf2ZyE1R0OB0F1AKjfUb8DdPo9CKBeBwAAYCU//Ln9+x3be64lL/l9PzgEAAAAAOyJRWMAAFioi2sJAAD1OOp39TubdTweBdUBoH5H/Q7Q4fcggHodAACAlfxQVnzo3Z/bTw4BAAAAAHti0RgAABbq4loCAEA9jvpd/c6mPTw8PH/48EFQHQDqd9TvAB19DwKo1wEAAFjJN2XdoLrvHQIAAAAA9sSiMQAALNTFtQQAgHoc9bv6nV24v79/vr6+FlQHgPod9TtAB9+DAOp1AAAAVvRLWS+oDgAAAAB2xaIxAAAs1MW1BACAehz1u/qd3Xh6elossA4A9bv6HfU74HvQ5xSgXgcYzA9/bv+ZsP1gCAGABeuWNULqfjH0AAAAAOyNRWMAAFioi2sJAAD1OOp39Tu79PHjx+fb29vmoXVXV1fPh8PBAAOo39XvqN8B34M+pwD1OsBIvms0z/6doQQAFvJHWT6o7kfDDgAAAMDeWDQGAICFuriWAABQj6N+V7+zew8PD8+//vrrp4C5m5ubd4XSffjw4VPg3f39/affA4D6Xf2O+h3wPehzClCvAwzmmz+330ub8Jbf//p9AABz+7ksH1T3rWEHAAAAYG8sGgMAwEJdXEsAAKjHUb+r3xnS09PT88ePH1/dAED9jvodoP57EEC9DrArv5S2AS6/GFIAYAHfl2VD6n435AAAAADskUVjAABYqItrCQAA9Tjqd/U7AID6HfU7QNPvQQD1OsBu/FjmCXL50dACAAv4vSwXVPeT4QYAAABgjywaAwDAQl1cSwAAqMdRv6vfAQDU76jfAZp+DwKo1wF24bsyb5jLvwwxADCzn8pyQXXfG24AAAAA9siiMQAALNTFtQQAgHoc9bv6HQBA/Y76HdiIX3/9dbXtPZ9Ta+3j/f29kwTU6+p1gDa++XP7o8wb5vLHX38HAGAucwfvus4EAAAAYPcsbgUAwEJdXEsAAKjHUb+r3wEA1O+o34F9fhcNt3348MFJAj4j1esAbfxnoRruP4YaAJjZ7wvUNL8YZgAAAAD2yuJWAAAs1MW1BACAehz1u/odAED9jvod2Od3kaA6wGekeh2gxr8XruP+bcgBgBn9uEA986NhBgAAAGCvLG4FAMBCXVxLAACox1G/q98BANTvqN+BfX4XCaoDfEaq1wHe618r1XL/MvQAwEy+XaCW+dYwAwAAALBXFrcCAGChLq4lAADU46jf1e8AAOp31O/APr+LBNUBPiPV6wDv8c2f2x8r1XL5uwJeAIC5/DZjHfO74QUAAABgzyxuBQDAQl1cSwAAqMdRv6vfAQDU76jfgX1+FwmqA3xGqtcB3mPOAJdLtt8cAgBgJj/MWMP8ZHgBAAAA2DOLWwEAsFAX1xIAAOpx1O/qdwAA9Tvqd2Cf30WC6gCfkep1gEv91ElNJ+gFAJjDNzPWL98bXgAAAAD2zOJWAAAs1MW1BACAehz1u/odAED9jvod2Od3kaA6wGekeh3gEt93VtcJewEA5vDLTLULAAAAAOyaxa0AAFioi2sJAAD1OOp39TsAgPod9Tuwz+8iQXWAz0j1OsDXfPvn9kdndd0ff+0XAEBLP8xQt/xiWAEAAADYO4tbAQCwUBfXEgAA6nHU7+p3AAD1O+p3YJ/fRYLqAJ+R6nWAr/mtYT32c8Pflf36xuEBABprHdD7oyEFAAAAYO8sbgUAwEJdXEsAAKjHUb+r3wEA1O+o34F9fhcJqgN8RqrXAd7SKlgugS/f//U7fyhtg+8AAHqsf87bt4YUAAAAgL2zuBUAAAt1cS0BAKAeR/2ufgcAUL+jfgc2IkFsa23lnYFxa2x3d3dOElCvq9cBLtMqUO63P7fvPvvd+f//0ej3/+BQAQANfV/ahdT9bjgBAAAAGIHFrQAAWKiLawkAAPU46nf1OwCA+h31O0DT70EA9TpA11oFyf3nz+2bN/7Gbw3+xh/ln0F4AABT/F7aBNX9ZCgBAAAAGIFFYwAAWKiLawkAAPU46nf1OwCA+h31O0DT70EA9TpAtxIs1yJA7qcF/9Zv5fVAPACA9/qptAmq+95QAgAAADACi8YAALBQF9cSAADqcdTv6ncAAPU76neApt+DAOp1gG79XKYFsvzx5/bDO/7eNw3+5vNfvwMAoIXvSpugOgAAAAAYgkVjAABYqItrCQAA9Tjqd/U7AID6HfU7QNPvQQD1OkCXfijTQ+q+q/zbP5XpYTA/OoQAQCO/T6xLfjGEAAAAAIzCojEAACzUxbUEAIB6HPW7+h0AQP2O+h2g6fcggHodoDvflWlhLL/9uX0zcR+mBuU9l/qgPACAl34sAnQBAAAA4CIWjQEAYKEuriUAANTjqN/V7wAA6nfU7wBNvwcB1OsAXUnA3O+lPojl54b78v2f2x8T9uX3Mj0wDwDg2zItqO5bQwgAAADAKCwaAwDAQl1cSwAAqMdRv6vfAQDU76jfAZp+DwKo1wG68kupD2H5YYb9+a5MC6v7xSEFABr4rdQH5wIAAADAMCwaAwDAQl1cSwAAqMdRv6vfAQDU76jfAZp+DwKo1wG68WOpC2BJkNy/Ztyvb0p9OMzzX68LAGCKHyrrkJ8MHQAAAAAjsWgMAAALdXEtAQCgHkf9rn4HAFC/o34HaPo9CKBeB+jCd6UufCUBct8usH8Jq/tPqQ+r+5dDDABMrEVqapDvDR0AAAAAI7FoDAAAC3VxLQEAoB5H/a5+BwBQv6N+B2j6PQigXgdYXYJX/ijvD175+a+fXdLPpS4k5o8V9hUA2JdfKmoQAAAAABiKRWMAAFioi2sJAAD1OOp39TsAgPod9TtA0+9BAPU6wOr+U94fuvLvFff3x1IXVvcfhxoAmOCHd9YevxgyAAAAAEZj0RgAABbq4loCAEA9jvpd/Q4AoH5H/Q7Q9HsQQL0OsKp/v/Mz8Y8/t+872O/3BsX0ELAHAGzfH++oO340XAAAAACMxqIxAAAs1MW1BACAehz1u/odAED9jvodoOn3IIB6HWA1/3rn5+Fvf27fdbT/2Zc/yvvD6v7l0AMAlX5+R83xreECAAAAYDQWjQEAYKEuriUAANTjqN/V7wAA6nfU7wBNvwcB1OsAq/imvC/k7T9//UxvElb32zs/1/O6BccAADW+v7De+N1QAQAAADAii8YAALBQF9cSAADqcdTv6ncAAPU76neApt+DAOp1gFW8J9ztp85fyzfl/WF1vzkFAIBKv++gfgIAAACAWVg0BgCAhbq4lgAAUI+jfle/AwCo31G/AzT9HgRQrwMs7qcLP//++HP7YSOvKWF1P7/z812ADAAwVy31vWECAAAAYEQWjQEAYKEuriUAANTjqN/V7wAA6nfU7wBNvwcB1OsAi/q+XB5S990GX9+lIXxCZACAWt+5juT/2Ltj3MaRbm3AFShTbKBDbUC9AaWOvIPrNRheggAvQfAaroI/d+TUG5A3MKEAx8466L9PtzzX45ZskSySRfJ5gALu/WbGokqkdOpQ9QoAAACA43xpDAAAX9TFWgIAQD2O+l39DgCgfkf9DpD1cxBAvQ7QmXn6E0D31fve468xG/DzXFV4j98f5gUAoIrdJ/XFxvQAAAAAMFW+NAYAgC/qYi0BAKAeR/2ufgcAUL+jfgfI+jkIoF4H6MzjGe9565E812U6L5RvDMF8AED3rj6pLa5MDwAAAABT5UtjAAD4oi7WEgAA6nHU7+p3AAD1O+p3gKyfgwDqdYBOrM94v1uN7DlfpPPD6tZOEQCggvkndcXc9AAAAAAwVb40BgCAL+piLQEAoB5H/a5+BwBQv6N+B8j6OQigXgdo3eqL97kIc1uM9LnPfo3HM9/vV04VAKCCYzXGzrQAAAAAMGW+NAYAgC/qYi0BAKAeR/2ufgcAUL+jfgfI+jkIoF4HaN3m19ieGPHP5iN//rMv5uD9XMycLgDAmY6FAd+YFgAAAACmzJfGAADwRV2sJQAA1OOo39XvAADqd9TvAFk/BwHU6wAAAAzQ7Mj6cWlaAAAAAJgyXxoDAMAXdbGWAABQj6N+V78DAKjfUb8DZP0cBFCvAwAAMFAb60cAAAAA+D++NAYAgC/qYi0BAKAeR/2ufgcAUL+jfgfI+jkIoF4HAABgoFbv1o4b0wEAAADA1PnSGAAAvqiLtQQAgHoc9bv6HQBA/Y76HSDr5yCAeh0AAIAB2x/WjlemAgAAAICp86UxAAB8URdrCQAA9Tjqd/U7AID6HfU7QNbPQQD1OgAAAAO2Pqwd56YCAAAAgKnzpTEAAHxRF2sJAAD1OOp39TsAgPod9TtA1s9BAPU6AABQQi/VMAxjQAMAAACgSL40BgCAL+piLQEAoB5H/a5+BwBQv6N+B8j6OQigXgcAAEropRqGYSRBdQAAAACN+NIYAAC+qIu1BACAehz1u/odAED9jvodIOvnIIB6HejIouK1vzJljMBVxfN+bsqAKfdSDcMwkqA6AAAAgEZ8aQwAAF/UxVoCAEA9jvpd/Q4AoH5H/Q6Q9XMQQL0OdGRT4brf/xozU8YIzCt+5q1NGTDlXqphGEYSVAcAAADQiC+NAQDgi7pYSwAAqMdRv6vfAQDU76jfAQDU68DQCOtiyoQ0AnqphmEYguoAAAAAOuHLrQAA+KIu1hIAAOpx1O/qdwAA9TvqdwAA9TowNOuK1/2FKWNElhXP/2tTBky1l2oYhpEE1QEAAAA04sutAAD4oi7WEgAA6nHU7+p3AAD1O+p3AAD1OjAk84rX/NaUMUK7CtfA/teYmTJgir1UwzCMJKgOAAAAoBFfbgUAwBd1sZYAAFCPo35XvwMAqN9RvwMAqNeBIbmpeM2vTBkjdF3xOrgyZcAUe6mGYRhJUB0AAABAI77cCgCAL+piLQEAoB5H/a5+BwBQv6N+BwBQrwNDMfs19hWu970pY6TmFT/7dqYMmGIv1TAMIwmqAwAAAGjEl1sBAPBFXawlAADU46jf1e8AAOp31O8AAOp1YCiuK17vN6aMEdtUvB5WpgyYWi/VMAwjCaoDAAAAaMSXWwEA8EVdrCUAANTjqN/V7wAA6nfU7wAA6nVgCGa/xr7i9T43bYzYsuL1sDNlwNR6qYZhGElQHQAAAEAjvtwKAIAv6mItAQCgHkf9rn4HAFC/o34HAFCvA0Owqnitb00ZE7CreF0sTBkwpV6qYRhGElQHAAAA0IgvtwIA4Iu6WEsAAKjHUb+r3wEA1O+o3wEA1OvAEFQN5FqZMibgOglwBPRS9VIBvQoAAACAlmjIAgDg5hfWEgAA6nHU7+p3AAD1O+p3AAD1OlC6VcXrfGfKmIh5xWsjxsK0AXqpAHoVAAAAAOfQkAUAwM0vrCUAANTjqN/V7wAA6nfU7wAA6nWgdLuK1/m1KWNCNhWvj40pA/RSAfQqAAAAAM6hIQsAgJtfWEsAAKjHUb+r3wEA1O+o3wEA1OtAyRYVr/EYc9PGhCxdI4Beql4qoFcBAAAA0AYNWQAA3PzCWgIAQD2O+l39DgCgfkf9DgCgXgdKtq14jW9MGRO0q3idrE0ZoJcKoFcBAAAA8BUNWQAA3PzCWgIAQD2O+l39DgCgfkf9DgCgXgdKtah4fcdYjuj572o8f6PcsW3xXLmucTxzbzGAXiqAXgUAAADAZzRkAQBw8wtrCQAA9Tjqd/U7AID6HfU7AIB6HSjVuuL1vRvRc79Igt0E1Z1vXuN4brzFAHqpAHoVAAAAAJ/RkAUAwM0vrCUAANTjqN/V7wAA6nfU7wAA6nWgRHWCt65H9PxvkmA3QXXVbCoez/7XmHmrAfRSAfQqAAAAAE7RkAUAwM0vrCUAANTjqN/V7wAA6nfU7wAA6nWgROtUPQhsPqLnv0uC3QTVVbNM0w53BPRS9VIBvQoAAACAzDRkAQBw8wtrCQAA9Tjqd/U7AID6HfU7AIB6HSjNPFUP3FqP6PlfJKFuYxyrDs6dqgGH+19j5i0H0EsF0KsAAAAAOEZDFgAAN7+wlgAAUI+jfle/AwCo31G/AwCo14HSXKfqIWCLET3/qyTUbWzjpuBrZ+UtB9BLBdCrAAAAADhGQxYAADe/sJYAAFCPo35XvwMAqN9RvwMAqNeBksx+jX3F63o3sjl4TILdxjS2HZ478xrHt/O2A+ilAuhVAAAAAByjIQsAgJtfWEsAAKjHUb+r3wEA1O+o3wEA1OtASa5T9aCtqxE9/zpBY0a5I0LgZh2fQ5sax7ny1gPopQLoVQAAAAB8pCELAICbX1hLAACox1G/q98BANTvqN8BANTrQEn2qXrI1mxEz/8qCXcby4hz+aKHc2hZ41gfvfUAeqkAehUAAAAAH2nIAgDg5hfWEgAA6nHU7+p3AAD1O+p3AAD1OlCKVaoesLUe2RxsU5mha9sRjH3Hc7bs8Tza1TjehbcgQC8VQK8CAAAA4D0NWQAA3PzCWgIAQD2O+l39DgCgfkf9DgCgXgdKMfVwrVnqJ4Bu82tc/xpXh/mMMR/ZubXoeF6ve36+1zXPBQC9VAC9CgAAAIB/acgCAODmF9YSAADqcdTv6ncAAPU76ncAAPU6UIJVqh6s9WgOzh779CeILALMlml8QXSfmR+ef1chdZtCnnOdY194KwL0UgH0KgAAAADeaMgCAODmF9YSAADqcdTv6ncAAPU76ncAAPU6UILHVD1UazWyOdik/IFpV7/GxYTPq1nNc6vueDw85lDPp7W3IkAvFUCvAgAAAOCNhiwAAG5+YS0BAKAeR/2ufgcAUL+jfgcAUK8DfVuk6oFa+1ROIFgOs5QvnG41srlpYp26C6mLc7KkUMBlzecxd9oAeqkAehUAAAAAQUMWAAA3v7CWAABQj6N+V78DAKjfUb8DAKjXgb5tU/UwrfXI5qBuqNhbQNp1EjD20VXqLqTu5+E1LM3OtQXopQLoVQAAAADUpSELAICbX1hLAACox1G/q98BANTvqN8BANTrQJ8uUr1QsIuRzcO65jzc/Bozp9FfFqnbkLrrQufhuubzEXoI6KUC6FUAAAAAaMgCAODmF9YSAADqcdTv6ncAAPU76ncAAPU60Ks6AW2PI5yHfcU5iH9/5fQ5alZjPpuMTcFzMU/jCt4D0EsF9CoAAAAAOqQhCwCAm19YSwAAqMdRv6vfAQDU76jfAQDU60Bf6oZojS2gbZmqh9RdOH1OekzdhdTFY80Kn49Njee1H8DzAvRS9VIBvQoAAACAlmnIAgDg5hfWEgAA6nHU7+p3AAD1O+p3AAD1OtCXdRKgVXUedklIXe5zqu4YSmDgsubzu3Y6AXqpAHoVAAAAwLRpyAIA4OYX1hIAAOpx1O/qdwAA9TvqdwAA9TrQh1mqF551M8K52KXphvTltErdhdTFWIzwHPt4vgHopQLoVQAAAAATpiELAICbX1hLAACox1G/q98BANTvqN8BANTrQB+uU71wsPnI5uGiwnO/cNpkmccc42oi19vKqQXopQLoVQAAAADTpSELAICbX1hLAACox1G/q98BANTvqN8BANTrQNdmv8Y+VQ/N2o5wLm6SwLC+zqe6Yz3AOZrXfK47pxeglwqgVwEAAABMl4YsAABufmEtAQCgHkf9rn4HAFC/o34HAFCvA127TvVCs8YY1rZL4wxG69I2dRdS95j+BOMN0cZ1B+ilAuhVAAAAAFShIQsAgJtfWEsAAKjHUb+r3wEA1O+o3wEA1OtA13apeljWfoTzcJHOC0bjtJvUXUhdnIPzAc/Vsubz3jrNAL1UAL0KAAAAYJo0ZAEAcPMLawkAAPU46nf1OwCA+h31OwCAeh3o0irVC8u6GeFcXJ3xvC+cMtnPpbpjMYI52034uQN6qQB6FQAAAAAVacgCAODmF9YSAADqcdTv6ncAAPU76ncAAPU60KW6QVnzEc7F4xfPee10OSkC/Papu5C6q5HM23XN5791ygF6qQB6FQAAAMD0aMgCAODmF9YSAADqcdTv6ncAAPU76ncAAPU60JVVqheStRnhXMy/eM4RwjZzyhwV81I38LDOWE/ovPtsXDj1AL1UAL0KAAAAYFo0ZAEAcPMLawkAAPU46nf1OwCA+h31OwCAeh3oyjbVC8hajnAurr54ztdOl+znUZ3xmMYXGLhJAvsAvVQAvQrgmAj3XtQYc1MHAACMlYYsAABufmEtAQCgHkf9rn4HAFC/o34HAFCvA11YpHrhWLuRzsdnYWv7NL5wtFyuU3chdWN9HZYN5kT4AqCXCqBXAdacwuYBAIAJ0ZAFAMDNL6wlAADU46jf1e8AAOp31O8AAOp1oAvbZLP3m1mywb2OJgFrdcbFiOdyV3NO1k5DQC8VQK8CRkxQHQAAwAcasgAAuPmFtQQAgHoc9bv6HQBA/Y76HQBAvQ60bZ7qh4XNRzgfqwk+56YiNG6fugupW418Pq8bzM3M6QjopQLoVYC1kqA6AABgGjRkAQBw8wtrCQAA9Tjqd/U7AID6HfU7AIB6HWjbOtXb6L0Z6XxsPnnOa6fLXyIY7TF1F1I3hdegSXikAAZALxVArwLGSlAdAADABxqyAAC4+YW1BACAehz1u/odAED9jvodAEC9DrSpSSDWcoTzMfviOc+dMn/ZpO5C6h7N65djfziPAfRSAfQqYGwE1QEAAHygIQsAgJtfWEsAAKjHUb+r3wEA1O+o3wEA1OtAm9ap3ibv3UjnY/nJc946Xf5SNyRAAFuzc1EIA6CXCqBXAdag1kgAAAAasgAAuPmFtQQAgHoc9bv6HQBA/Y76HQBAvQ60JkK/9qneJu+rkc7JZ8F9C6fMfzQJUqszLiY4x7skSBLQSwXQqwDeCKoDAAD4QEMWAAA3v7CWAABQj6N+V78DAKjfUb8DAKjXgbbU3eAdYzbSOTkV3Cf467/mqX7IYZ2xco2aM0AvFUCvAvQxkqA6AACA/9CQBQDAzS+sJQAA1OOo39XvAADqd9TvAADqdaANETRXN2hsPfJ5iYCvTRL69dkcPabuQurWE57reYN5E64I6KUC6FXA2AiqAwAA+EBDFgAAN7+wlgAAUI+jfle/AwCo31G/AwCo14E2XKX6AViLiczR+9C6mVPmX+vUXUjdo+n+KzSxyliaPkAvFUCvAkZEUB0AAMAHGrIAALj5hbUEAIB6HPW7+h0AQP2O+h0AQL0OtGGX6m3u3pm6SWsScFjnXBMQ+Cdsru4cbk0foJcKoFcBIyKoDgAA4AMNWQAA3PzCWgIAQD2O+l39DgCgfkf9DgCgXgdyW6X6wVdXpm+yFqm7kLr9r3Fhyv+1azCXC9MH6KUC6FXASAiqAwAA+EBDFgAAN7+wlgAAUI+jfle/AwCo31G/AwCo14Hc6oZeRXjYzPRN0vzw+ncVVLcy5f9x3WAut6YP0EsF0KuAia+NBNUBAACjpSELAICbX1hLAACox1G/q98BANTvqN8BANTrQE7LVD/wam36JusxdRdSd2O6/zJvOKdzUwjopQLoVcAICKoDAAD4QEMWAAA3v7CWAABQj6N+V78DAKjfUb8DAKjXgZy2qX7Y1YXpm6R16i6kbmu6T9okIZOAXiqAXgVMm6A6AACADzRkAQBw8wtrCQAA9Tjqd/U7AID6HfU7AIB6HchlkeoHXT2avklape5C6na/xsyUn7RsOL9zUwjopQLoVcDACaoDAAD4QEMWAAA3v7CWAABQj6N+V78DAKjfUb8DAKjXgVw2qX7I1cr0Tc5F6i6kbn94PD63azDHa9MH6KUC6FXAwAmqAwAA+EBDFgAAN7+wlgAAUI+jfle/AwCo31G/AwCo14Ec5qlZiNjMFE7K7PC6dxVUJwjxPNeuY0AvFUCvAqyJBNUBAAC80ZAFAMDNL6wlAADU46jf1e8AAOp31O8AAOp1IId1qh9wtTZ9k/OYugupuzHdZ5s3nGvhDIBeKoBeBQyZoDoAAIAPNGQBAHDzC2sJAAD1OOp39TsAgPod9TsAgHodaKppuNWFKZyUm9RdSN3GdFe2aTDf+19jZgoBvVQAvQoYKEF1AAAAH2jIAgDg5hfWEgAA6nHU7+p3AAD1O+p3AAD1OtBUk+CxremblFXqLqTuMQlNq2PZcN6vTCGglwqgVwEDJagOAADgAw1ZAADc/MJaAgBAPY76Xf0OAKB+R/0OAKBeB5qIILB9qh9qtTKFk3HR8FypMvaHx6OeXYO535k+QC8VQK8CBkpQHQAAwAcasgAAuPmFtQQAgHoc9bv6HQBA/Y76HQBAvQ40UXcT91uYGNMQgYZNws+qjqUp7+26FkAJ6KUC6FXA1NZCguq6EYH0i1/j6jDnm19je8ZYH/79q8N/P5/4PC7ejesjY/nun1+Yq99jaa4AgCnTkAUAwM0vrCUAANTjqN/V7wAA6nfU7wAA6nWgrggf26f6YVY3pnAytqm7kDoBAc3NG74GO1MI6KUCehV6FTBAgurK8hYOtm3Yfzr14wmbw98fa8BYPK+rQ/+taV9md/gb8bdWI5wzcwUAoCELAICbX1hLAACox1G/q98BANTvqN8BANTr6nVowSo127g5N4WTcJO6C6nbmO5sNg1fi4UpBPRSAb0KvQoYGEF1/YtwunXKH0x3TrhY9C+GHCo2O/Tqupq/t7C/qwH2+MwVAICGLAAAbn5hLQEAoB4H9TsAgPod9TsAgHpdvQ4d2KX6GzS3pm8SmoYZVhmP6c9GY/JYNnw9XOOAXiqgV6FXAUMjqK7f/kGTPlPOEevZxYDmLo51XcC8RV/mqvDejLkCANCQBQDAzS+sJQAA1OOgfgcAUL+jfgcAUK+r16EjTQPIVqZw9C5+jX3qZoPv/vB45NU0JGBhCgG9VECvQq8CBkRQXT/9pa56B3UC60ruNcSa+7HAeYvX8+bXmBc0V0tzBQCgIQsAgJtfWEsAAKjHQf0OAKB+R/0OAKBeV69Dt5oEWO1M3+jNUrcbgJemvBXXDV+XjSkE9FIBvQq9CpjAGkhQXXURALdNZQbUHXt9ZwXN3XxAc3djrgYzVwAAGrIAALj5hbUEAIB6HPW7+h0AQP2O+h0AQL2uXodsFqn5Bl/GbZO63TBOO+YZXp+5aQT0UgG9Cr0KGAhBdd1YpWEEh70fEcZ/UcDcXQ107ubmqui5AgDQkAUAwM0vrCUAANTjqN/V7wAA6nfU7wAA6nX1OmS1TYKrOO06dbeBd226W7fxGgF6qQB6FWA9K6guk3UaXnjY29infsPqhj53S3NV5FwBAGjIAgDg5hfWEgAA6nHU7+p3AAD1O+p3AAD1unodslqkZpstN6Zw1Japu427j7/GzJQP4jUVTgnopQJ6FXoVMASC6tozO6zjf45grHqYu+1I5m7pPCtmrgAANGQBAHDzC2sJAAD1OKjfAQDU76jfAQDU6+p1aMU62WTJcRe/xj51s1k3Hkf4WXd2DV+vG1MI6KUCehV6FTAAguraM5bwsLdx0eHcbUY0b/uW585cAQBoyAIA4OYX1hIAAOpxUL8DAKjfUb8DAKBehx7NU7MNljtTOFqz1O2m84Up79R1ar65emYaAb1UQK9CrwJGuvYRVPe5pj968FmfaXuY/2Pj5vDP2wjV7ypE7LqluYt52Xwyd9sW+zxt/fiAuQIA0JAFAMDNL6wlAADU40pR1O8AAOp31O/qdwAA9Tr0rOnGYhu3nRs5xpXp7tw8w+vm+gf0UgG9Cr0KKJ2gunLm9FRoV/Qflql6GHr8+6vDf58ruG6X2g1lX2Scu82hn3JR8zjiv80ZxrYdwFzNRzpXAAAasgAAuPmFtQQAgHoc1O8AAOp31O8AAOp19Tq0IkdQ1dw0jtJV6i6kbm26e7NJzQMFZqYR0EsF9Cr0KqBgguryWqR8gXCrjMc1O7xmOQLrblqcv22GdfhN5n5czrlbFjZX1xOZKwAADVkAANz8wloCAEA9Dup3AAD1O+p3AAD1unodWlF3s7aAsXFbpO5C6h6ToLM+LTO8hivTCOilMjQvLy8///nnn5/Pz88///d///c/I/73GK+vryYKvQqYdu9DUN3fYv2+S2UHwc0OvYYSQ8Sa9ls2HfRQYo3fJIRtZ646nysAAA1ZAADc/MJaAgBAPQ7qdwAA9TvqdwAA9bp6HVoRmzWbbKaMsTCNozPPcF6cO/aHx6NfTUMGbKwG9FJ7FqFqH8PWjo0fP34UfYxPT0+tPHY87/jbd3d3Py8vLyt/1sV/c39//zvUrq05POf162ugVwEjIKiu/7l83wdYdnSsNwWudbdpGCHx0TPcNDjWq4nN1bbnuQIA0JAFAMDNL6wlAADU46B+BwBQv6N+BwBQr6vXoRVNNxcLpxqf2Fz7mLoJqRN0OJ73gq43gQN6qXwQYWLnzF1bQXDn+J//+Z8vjy/+nZwiHO+cx606IvAuQut6XP92OtCrgAmveQTV/de84WfK46Hv0KVlQWvdeRremnvdU8/QXAEAaMgCAODmF9YSAADqcfU46ncAAPU76nf1OwCAeh0KsE/NNutemcLRWafuQk8Em5VjnuH1fDSNgF5qf84NqssdBHeu19fXTo8vAuq+f//eej0Tj5ErsC4JqtOrANokqK7/nkH0oGY9HfdVavYjDbmOezXQ87Du635hrs4ec28vAICGLAAAbn5hLQEAoB5Xj6N+BwBQv6N+V78DAKjXoTR1N3y+HzPT6JyoOdamuzibDK/rwjQCeqn9ODeoLkaExnXt4eGhk6C6Hz9+/Ly/v+88yC2OOx67w/WvoDq9CqAaQXXNNQ0473u92GTNmyto/yYNK+DvvV3q9gcu1uYKAEBDFgAAN7+wlgAAUI+rx1G/AwCo31G/q98BANTr0K86myYFjY3XReou7OTRdBdpmeG13ZpGQC+1H1WC6uLf7dr3799bD6qLoLjLy8vewty+ffv28+Xlpav1r6A6vQqgGkF1zd2k+p8lJYRwzRr0wnL1MbYDPgfrXENbc6WfAgBoyAIA4OYX1hIAAKjHUb8DAKjfQf0OAKBeh2FapeaBFQvTOBqxWXufugk62R8ejzLtvDcAeqnDVCWoLkLjuhThbeceW92guqohdREqd39//3ve/vnnn98jjjNG/N8PDw+//9nt7e3vfzd1EFaXBNXpVQBtElTXX9+gpACuRYPPw4sMj7/t6XFzmNect7o9oEdzBQCgIQsAgJtfWEsAAKjH1eOo3wEA1O+o39XvAADqdehPnc2e78ejKXQ+pP42dtOe6wyv8do0Anqp3asSVBejbphaHREIl1oOqjv3MSJ47vn5udLfjhC8p6en38eWzgyri/8m5/o3Xt8+B3oVMOG1jqC6P5r84MGisOdSN6A9x1q3zuOWZJ0+DyTcHK6Z1eF1n014rjbp9A845J4rAAANWQAA3PzCWgIAQD0O6ncAAPU76ncAoHRvG9arDtTr0JNFah5EtTKNo7FO3YXUOW/KN8/0Ws9NJaCX2q2qQXV3d3edHVsEt6UWg+r++eefs8LjcoTzvb6+/ry8vPzy8eqEuznn9SqAVgmqa2ZTc/52BT6Xqx6fS9XH3BfYU1wfrotlajeE0FwBAHRAQxYAADe/sJYAAFCPo35XvwMAqN9RvwMAHakaCODzX70OPdumZgFUsfFzZhpHYZW6C6lbm+7B2Hi9Ab3U8axLI1TtWFBc/G9diGD3U8eVMgXV3d7efnq+xGP9+PEj23OKvxVBf+mLYLwItcu1/kWvAmhMUF19szSuwPrZobdV5/lcdFXvvhsLawNzBQDQe9EFAICbX25+YS0BAKAeR/0OAKB+V7+jfgcAmhFUp16HAblIAqjIdy6cOx5N96AsM73uc1MJ6KX2vy6N4LdToWrPz8+tH9epELmHh4csQXURGvfZufL9+/esIXVVegHxz3Otf9GrABoTVFdf3ZD7XcHPad3T+bCr8ZibiZ53deZKzxIAoCINWQAA3PzCWgIAQD2O+l39DgCgfkf9DgB0RFCdeh0GpO5G3PfjwjQO3izV2/BbZ+wPj8ew5Dg/BDoAeqkFrEsj+O2ff/45+s8iRK5Nr6+vJ8PjTh1T1aC6CNv77FyJQLw2xXNJn4Tk5Vr/olcBNCaorr6bmnN3U/BzqhvQvm34uNskCN5cAQAUREMWAAA3v7CWAABQj6N+V78DAKjfUb/DUbEJNEZs4owNrOeOp6enf//bHz9+mEiAdwTVqddhIOapefDUo2kchW3qJqROsOFwXSchhYBe6ijWpW/Bb6cC1drs80VI3LHHvL+/zxZU99V6/OXlpdV5P/Uc6zy+c16vAihyjSOo7k8vqM7cLcdSe2Z8X9/UfMz1BM87cwUAUFJRDACAm19ufmEtAQCgHkf9DgCgfle/o35nnGKzZ2yUvL29/b3BM7UQOnF5efn7b8eG0Ai+e319HfWcxsbSt7C+c0aE+1UJA6wzjj0u0D1Bdep1GIh1hhpwZRoH7yZ1F1LnfBmueaZzQKgDoJfa87r0Lfjt1D+P/lVbToXjvfWwUstBdfH4bYugv4990rcf/KgaAuic16sAWiWorp5Z6ifQrQt1Q/wvejgPY1y5Zs0VAEBuGrIAALj5hbUEAIB6HPW7+h0AQP2O+p0JiU2PsQHy7u7u96bI1F3wxF/j27dvv8PxIiRvbMF1bQX+tTnimGPc39//GygozA7yE1SnXocBmGWoLfaHv8NwrTqsRW9M9+BtMr1vAOil9rgufQt+iz5dOvFDFG04FUT3Fh7XRVBd1b9V8voXvQqgMUF19Sxqztt2AM+tbpD/qof5fBsL5565AgDISUMWAAA3v7CWAABQj6N+V78DAKjfUb8zcrG5NMLgIhQuFRyUFptdIyTt5eVl8HM+xKC6z0ZsDI7zJzb0xubgCDwE6hFUp16HAbhOgsem7iL9CQ3rotbcmu5RWGY6H1amEtBL7W9d+j6s7dQPXLTxYxPxgxrHHiv6hCFXUF30Rz87V4bU73LO61UARfZFrs3baHtIq56eW5PezP6wVp+CmbkCANCQBQDAzS+sJQAA1OPqcdTvAADqd9Tv6ndqen5+HmxgWgSjxebRoQaijS2oLp0IFoyNzWMIFoQuCapTr0Phmm7sfBtzUznoc2DXUU25Ozwe47DLdE4A6KX2tC59H/z29PR09N+J/zan6P2deu3eek65gupO/Z23Ec95DOtf9CqAxgTV1bNO4w0sX6R+wvnrzukUz0tzBQCgIQsAgJtfWEsAAKjH1eOo3wEA1O+o39XvnCs2d0bAWwS9pRGEoX379u3n3d3dz9fX10G9DlMIqktHggWH9jpBHwTVqdehcNcZaoOtaRy0TUc1ZAQiXphu7x9pmCEFgF7qKNel74PfTgXIRQ8op1OBeO8fJ1dQ3WeheG+POZQfzXDO61UARa5tph5yta05b4sBPLdZzef22PBxLzKts7cDmWdzBQCgIQsAgJtfWEsAAKAeR/0OAKB+B/U7bYugsAh2SyMNQxtSYN3Ugurej9vb29+bjIHjBNWp16FwuyRkaspyBY05T6ZpnvJtCgfQS+1hXfox+C16ccf+vZeXl2zHcnl5efQx7u/v//13cgXVha9+3COe89DXv+hVAL2tjaceVLevOW+zsdWfmd/bHzP2YsYewmauAAA0ZAEAcPMLawkAAPW4ehz1OwCA+h31u/qdU56fn7/cZDmWEUF8sZn2x48fRb8mUw6qexux0Tg2EgP/JahOvQ4FW2WoAfamcbCWHdaKN6Z7tDaZzpGFqQT0Urtfl34MfoueY2oxzC0C7069bu/D8HIG1Z2zJo+/W/qPZTjn9SqAVgmqa7k+G+h737bm85sX0K/7OCLQ7SoNJyTQXAEAaMgCAODmF9YSAACox1G/AwCo30H9Tl0R1jbVQLQI5is5BE1Q3bA290KXBNWp16FguySAbKou0p+QwS7qw63pHrWl8wTQSx3uuvRY8NuxH8eIH5LI4f7+/uSPH7yXM6gu+qnpzB/LeHh4GOT6F70KoDFBddXNU/0QsKGoG1S36PGxzxkROH916A2NgbkCANCQBQDAzS+sJQAA1ONKUdTvAADqd9Tv6nfePD8//94wmSYeghYbWkskqO7vUfLmXuiSoDr1OhRqlekzf24qB2eW/mwM76Im3B0ej3HbZTpfbPwG9FI7XpceC347FSYXvcmmTvU2P/aQcgbVffacTj1Gjufa5foXvQqgMUF11S3S+EPK+wyqi35bFz8wEI+xTsMOYzNXAAAasgAAuPmFtQQAgHpcKYr6HQBA/Y76Xf3Ojx8/Km2mnMK4vLz8+fr6WtTrJKju+Li7u/t9DsOUCapTr0Ohthk+6zemcZA2HdWCsYHXxt1puM50zqxNJaCX2u269FjwW/Tcjv27t7e3jY7h6enp5Gv2sc936t+tG1QXvanoJ1Y5jyJUL/paEVpXQh/SOa9XARS5phFUN+6gupuaz3GZ6fGXqZ97e9vDc4/HH8oPVPQ5V9cDmysAAA1ZAADc/MJaAgBAPQ7qdwAA9Tvqd8amzibKqYzYLPry8lLMayWo7vNgQWF1TJmgOvU6FGiR6XN+aSoH56rDOtD5MR3zjOeNjd2Q1/XhvX8M15a1VAvr0lPBb6f6kU36O6d6Z8cC8Koe7zkibC76iXU/o75///77WOPY/vnnn87D6z47tjiePgZ6FRO1Pqx1ZqZidDWToLpu+gtr50Ulq9T/fb74IYLN4TUv+QcJSpir3UDmCgBAQxYAADe/sJYAAFCPg/odAED9jvqdseg6pC42et7f3//ebPn8/Hz2ZsMIi4t/N/67GPF3mmz6TBXD6uJYSyCo7uvXSlgdUyWoTr0OBdqmPBsvGZZFh/XftemenE2mc2dtKqG1z/z47L5Jww0StZZqYV16Kvjt6enp6L//8PBQ6/Ej1O3U6xWP1fR4qxxHzn5r9LvimN76qW2G15XY70Ovwr2935+zwojGQVCdOSv5OZYQwHYsuC6Oq7TQTnMFAKAhCwCAm19YSwAAqMdB/Q4AoH5H/c50RPjb9+/fW/1y/O3t7e/NpecG0tV5DvH343Ha/qL/sQ2tXasbVPf2Gnw16m50jf/u/d+JTbNvoYLx2nQZsBcbgWGKBNWp16Ew8ySIbKqv+76jum9juidpmfEcsnkb8tl+8X59dfiM0Eud6Lr0VPBb/NhAzt7OqcePoLccx1tFPLf4sY42+1/x93P3XJOgOr0KSv88ikDY9aEuVs8Oj6A6c1b6c7zosK9TdbyFdpby3meuAAA0ZAEAcPMLawkAAPU4qN8BANTvqN8ZvwgWi02aqaWNkhGMVjf0rK7YABphcm2G1vUdVlc38K2toMA6r1GE2MVG2jbD6+7u7lzkTI6gOvU6FGad6XN9bioHIza/PqZuNtw+Jpttp2yXBGFCabZnXndx/d6kP+E6eqkTWpd+Fvx2qo9Xp6946gc5TvWJ2gyqe9+DjcdvszaK5x292Oi7dbz+FVSnV0H/n0dvYUQXpmwQBNWZsyE8x9mhZv9Z6Ngfjq+EnqG5AgDQkAUAwM0vrCUAANTjoH4HAFC/o35nvGLTYoTJ5f7Ce2ziLCUQra1NoBHu9/Ly0tvzGnpQ3bFzMcL/2jgfY4MuTImgOvU6FGSe6fN8YyoHJVc44TmbbIUwTNt1xnNJ4CHksU31P+uvUlnBCdZSLaxLPwt+ix80OPbfxI8cVBG9r1Ov1aleXhdBdR97YG3+wEYE1jX9kY0kqE6vgsF9HqX/BsLGumypzh3dWkZQnaC6Pp7jRYM6v6uxLuT9zlwBAGjIAgDg5hfWEgAA6nFQvwMAqN9RvzM+uTdExubNCIYrURxX7ucbYXV9Pd+xBdV9fK1yhwuWel5CGwTVqdehILkCy5amcjCuUncba50XzDOeT9emE7LIEcoQ4To3BbzPW0u1sC79Kvgtem3pSOhaFad6Sp/9nS6D6j6KXl08fjxWHGPOeinmIoLxOlj/CqrTq6CAz6NPxvawVhP0XQ5BdeZsiM9xfuj17VOZAWxxXKuC+hXmCgBAQxYAADe/sJYAAFCPg/odAED9jvqd4bu/v88a2Pb8/DyI5x2bP3Nu+ry8vKy94bOJMQfVvX+t6j7PdGRjLkyFoDr1OhRilvJsxtyZysFYpO421AoV480m0znlvQby2Kb87/lxnUe4zlwvdfjr0q+C3071K6v0s46F3cV4eHjIfrxtiD5jPN843piPpr2xur3Lz/5mzFcfA70K9/ay1b0RnrQ8rNvph6A6czbk5xjvHauM6/HcY1vQ+5u5AgDQkAUAwM0vrCUAANTjoH4HAFC/o35nuGKzY64vsd/e3vYS1NZEHG8El+Wag9g02rUpBNW9yRWq+Pr66uJnEgTVqdfpxCLjGOtmwKtMtdaV020QcgUTnhtYBG+WGc+tlemExtoIqvsYrnNzuPb1Uge4Lv0q+O3l5aXRDxA8PT2dfJ0+61+WFFR3SvS14vlFnyzC56r2b3Ouf9GroMx7e6l+SFGsuy9MdacE1ZmzMT3HqM0jAPMxlRPA9lhoz9VcAQBoyAIA4OYX1hIAAOpx1O/qdwAA9Tvqd4YhNmV+//49y5fXYxPnkH22eTUVHgA3paC6XK/VuZuaYegE1RVTry+OjNiIdl3giLCPbaHj54TH0F1nmgcbJYehqw22Ns9yzC7T+XVtKqGxruu3CC+NcJ25Xuow1qXnBL8dC2H79u3bWY8bgWypRlDbEILqPorgugiti7k55zx9eHjItv7FvUXKvLeX8gTCrg/9K+uuMnsmguoE1ZX+HGeH95CbAnq7pfeQzBUAgIYsAABufmEtAQCgHkf9rn4HAFC/o36nXLGBMceX1iM4bAxeXl7O3tD52YjwvwgB7MrUgupCjrC62MQLYyeorph63TAE1TWfg7Vl3CCsO7om9r/GhemmpfcbQXWQR58BCxGuEyEPS73Uctel5wS/RaBanV5k9OVOvUbPz8+tHW/fotd1LNwvHQn7q9K7dM67t8jw7u21MOJz/co6rKg1zJTXLMskqG6oz3FxeC/ZpHxB81UC2IbEXAEAFsAasgAAuPmFtQQAgHoc9TsAAOp31O/0L0LKkpC6v+QKq4sQwK5MMagu3N3dNXqNYrMzjJ2gumLqdcMQVJcncIayrTq8JhammxPmadhBdT7zjDGNbUHHEuEOV4f3CL3UQtal5wS/nQqcu729/fS/O/UDB/HjEm0ebynO+XGSKj1d57xehWEcWZ9HSHmEhc0sQXrrmUw5qG5Rc87Wzosi1/DxXnKTugljG/J1Mz/03swVADAJGrIAANS5+QXWEgAA6nHU7wAA6nf1O+p3WhAbM5OQuqNyhdW9vr52crxTDapreh5fXl56I2D0BNUVU68bhqA64WRjd9Hh9XBluvlCjnAsQXWGMa6guo/hOhHusNRL7Xddem7wW4TSHfvvI8TulOj5HPtv4ljaPt5SnArrq/N8nPN6FYZxxmf+1WFdSHc9E0F19c7VobiZ6HkxP7yfbFp8zxrLe9XbXLW57ponAIDSb5YAAODmV7KxDmsJAAD1OOp3AAD1u/p9nBaFDPX7xH21UfGc8fDwMOo5en5+bjxHd3d3nRzrlIPqmp7Ln21qhjEQVFdMvW4YguryzMPakrJIs19j39G14BzgnPMxx7kmqM4wxhtU93FECEYEPMx9F6Lbdem5QWmnej+nepPxwxGpwY9KjCWo7pyeYY71L3oVhpH+DoSNddvyUJvTXs9kykF1szT+oLq6tfRiRK/z/HCe71pYp4yNuQIARkdDFgCAOje/wFoCAEA9jvodAED9ft4X0fsa20KHzSCZBuP0/fv3RufF7e3tJObp/v6+8TV0zgbYpqYcVNf0fB7KHMRxRnhibJaOEa/5OSPO4fj3Y1N3/A3BfD9/vry8/J6Lt7mM97Nz5jKCJ+Pfj43w8d93cW3nIKiumHrdMATV5ZsLG93L09Ua/NHrzxmukqA6wxBU1yxc5yb9CdfxXYiW16VVgt++ffv2139/eXl59N+NdXuTxxtTUF30L3L0xZzzehWG0bAeiBr9wlIle8/keuLzVrevMPZey2Kkr/cq5Q1hW4z42sg9V96/AYCyC34AANz8SoIxsJYAAFCPo34HAFC/G4agOloRgVVNzokIBZtS2FVsem0yX11sYp16UN2pDcjnjNh8XJq4vuI6jWC0puffsRF/M/52zNtQwtaaeAv4q3udfDZio3wE3cXfjwC8EgmqU68bguoKscg4F1duxxTlpqNrYP9rzE03Z8i1Gbuv881nniGorqyxSX+CHqylWliXVumZRR8jnfkDEad6KdFr6ep4h7J2jZ5J07+BXoVhVBhRq6+T0KOPBNXVsx95j+2x5vNbjPg1nx3O+32G96P1yJ5+QqQAAIAASURBVK+PWcr3wyHrBABQ8s0SAADc/EpJMAbWEgAA6nHU7wAA6nfDKGEwPhE01+ScGEu42bliw2vT66jtMLCpB9VFQFjd16aUTcYRThfBcW2EqX01YgN3PPaYAihjo3VsYo8guS7nMt5f7+/viwqtE1SnXjcE1RUkV1jNzu2YYqw6vAYWppszLNLwN2H7zDME1ZUXUjezlmpnXVqlJ3Oq9xNr8HP6eNEf6PJ4S/JZb+TcH3BwzutVGEaGEcFSEXQupO5vguq67TON7ru4E/ze90VqHla3N1fmCgAYSUEMAICbXxNrkGItAQCgHkf9DgBA0/rdMATVcZYmgV5pwBsym6ob9JRObJrNbepBdaFuIFnf53RsoO4jUC2d2LQd52rbwYpteQv7axrGmWvEuVXCNSaoTr1uCKoryCLjfCzckuldjo2u544r082Z1pnOufkQ7rcaxgDGEIPqHg+fOzPfhWh/XVq1J3NsvR//23vRF2jam8sdVBd9lgjU76vn8lmfRFCdXoVhtDz2hxp9aanyKUF19dyMuKc0a3DNTakv9djwPWpprswVAFAuDVkAAOrc/AJrCQAA9fjUXRy+HFPaiC9nX38Y6ncAgP7qd8MQVMdZIhCryfkw1ACrpiIAq0n4VQSAtUlQ3c+ft7e3g3qfi3Oq6fXY5ojN03GMQxEb0UsI+0snNrJHSGhfBNWp1w1BdYXZZZqPtdtHvZplfC291uQ8L3Occ5uhfF/SMAYwhhJUtzt832Huu8zdrkurBr+dCqGLELiv+kNV1uVNjzf6bfE34t//2Kto+8csPvrqR0sE1elVGEZLI2rqVfo7+JXjBNV1O29DCNxaNKi/9af0nMwVADAKGrIAANS5+QXWEgAA/dXj1y2NbaHDl8QEXQAADLl+Nwz1O1+K0KkmQU4RqjVlT09Pja6l95tmcxNUVz+Mq4/3uZJD1d6PCGds87zNIc7hy8vLQXyenrv5u5RrA/W6IaiuJauMc2LDe3+6uq/26HWmgqtM591iKN+XNIwBjJK/h7H/NW7Snx8O9F3mntalVYPq4gc0PutZRu/z2D+PvkGXx/vZj120/WMWx3pQOXoVznm9CsM4c/12ZQ1Xi6C6ehYjnre6/bO186Dy+9aULM0VADAkGrIAANS5+QXWEgAA/dXjhiHoAgBA/W4YLsYRaRq0FptBp+6zjaZfjdvb29aOS1DdMILqYsN03deqz1FqSOVXm61LHLE5vuv3UkF16vUGG89K/MGZm9Tej+w0GcvDpsgcYwobuneZztMrX6vqxXXqLkBIwAFdv7dsh/R9ScMYwCgtqC4+W9aH2s13mQtYl1YNqgvRX0tHwt+i53Kq9xn/e5fHe39//+k5UvV4mjg2X3V6g855vQrDODF2hzXi3HKkl3X21IPqZgNe933lRq+skk2D9zFzZa4AgEJpyAIAUOfmF1hLAAD0V48bhqALAAD1u2G4GEfkq42JaYBBVV1rGvbXFkF1P38+Pz/Xfl1eXl5aP754jCZBh32POMdi03cJ4jjiPWmocxkb6Ls4594IqiumXl+cGDBFq5RvQzzdWnb4mXlhuunh3FwW8Fz0ogxBdfnH5lB/zLq4Njl/XVonqO6zMLpjvYK3ELsujzfW/KmAEPuvjiPmJsf6F/cWjcmNCH69sWbLSlBdfY815650devoqfab64YWTrH/ZK4AgMHQkAUAoM7NL7CWAADorx43DEEXAADqd8NwMY5IbD6sex50GapUstjY2mQeI0ytDYLqfv5+LnVfl7bnIa6fJudNKSM2UvcdVhePH8cx9LmM86Gt94OPBNUVU68D/90Quc/0nrownZ25yPi6fTVWppuKNhnOO+GXkF+fQXURWnKVmoXT+S5zy+vSOkF1p3pz8QMdx/73Oj++keN4v+rVtR1if04vqsrcOOf1Khje3pqUP5xuncoIdh4jQXX1rUfYT2oSJKYvoLdorgCA6S2AAQBw80uTtJGLdPqXuPscV4cbIVWHtQQAQH/1uGEIugAAUL8bhotxJJqEeH3//t0EvhObOOvO5f39fSvHJKiu3KC6sYTUpQLC6sYSUpc62pT+RlBdMfU68F/Xmd5P16ayE7FJ+rGjz0ivKVXNk4BEKFXXQXW7Q40xty+yLDmD6qr25ur0fHIcb6z3zzm+p6enXnpR8c+r9Hec83oVFKPrHubmUCfPTH2RPRJBdX/Ozzpzd1Pwc1rWfE5b50KteVuaK0F1AMDAF8AAALj59aFxvjk0TEsbXf1CrGEtAQDQVz1uGOp3AAD1u2G4GEciAtJSYeFqQ/X8/Fxc6J+gujKD6toMqYvX/Pb29vfm6WMjNm3XPS/Oeew+tBVSF9dlPKdTcxnvgfHP23gtuwirE1RXTL0O/Ncs43evbJhv36aj9eejqaaGHMGXO9MIregiqC7qiQgaubAvsly5g+rO7QHV7cPlOt5z+7HR38kRWBfBc3Hs5/Qvor+Za/2LXgVl7tNvuC67stYexJpGUN2f83Rsa8B1zed05Vwwby3P1dJbDgBQ5AIYAAA3vwwj+aI8AIB63FC/AwCo34cyYsNCiT84c3P4gn5pI77AuyhgqN8npknA0+vrqwn8IDa6ljSfgurqh3G19T4Xm4NzBqvF34rnWCfULP6bh4eHrMcTx9KlJmGb6chG9fh7VTdlv72usXk8NpHnfG1LvDbIXq8Df7vJ9F56ZSpbdZ266S3skyAE6tl5H4FitRVUF58Z69RtUIK1VAvr0iZB+Of05ur2LnIeb5VeTATMRb+iau8n+htV+hR1fpTkq3nue+QI+tOrYGz79FP10K5Y+81N8aDW3YLqmtWcqwKfy6zBdZz7+p0f6u04zzaHPt4Y+wMLc9XpXAEAaMgCANDqzS/DsJYAAFCPG+p3AAD1u80k+C4PPfUEYtMnf2sSmlUnHOsrgurKC6q7u7vL0kOJv1MnnO6U+Fu5jq2r8yeumZQpEC7nxuUIrYvzLjaSNz22OpvE2742UK9DB+Yp34Z62rHs8N7Rhemmp3NUSCK0J3dQXYQ+rHq6Zq2lWliXNgmqO2etW/fHInIeb5MfMoj/Lh4zegbvQ9ni/4//PUbVnkT8zTimrnrLXY0m55JeBWO9t3dmHXxjLVYEQXXNXNWcv+2IzoXHBo8ZtfXiMI83X9TwY3yPXJgrQXUAwMALFgAA3PwyjOSL8gAA6nFD/Q4AoH63mQTf5SGLCJNKDUKy+FuT4KzYUJqboLpm4YElnR9vIzYat/n6xDE2DViLIMs6m5uriL+fIwiujevuTWx8r7vpvIvrUVCdeh0Kt85038FGyfwiSHDf0X2jlemmphwhWMIdoOxrNEI3Igii70BJa6kW1qWxlm6yFk8tBZed6jHV/ZvR27i9vS0izK1uHycJqtOrYHD39tLpcLpYhy9NZVEE1TXvX4wlNH9X83nc1HisixqPV/J7x0WLPcU6c7WY6FwBABNwcSgM2h4asgAADOJGpSHoAgBAPW4Y6ncAgAHW71CV+n1CHh4eaq/fnp6eTOARsakzFbRxUlDdz9pBYU02RZ86NyLALfW0cbiKHAFrbQbAhSYBhKmDwL+cx5r7XHwjqE69DoVrspn4/VibyqwiDOixo3tGXjv6fP/Yp/7Dr2DM6gbVRQjE9eE610sdgc/WpW31w5r0NE/93aY9vejR5gjjr9Mbadq/SYLq9CoY3OfRh7FJfwLC1b5lElTX3LrBtVGKVYNrfN7Re8q24HOg7vydE1Y4M1dFBjsCQDY3hw/v0kZXvyZlcxoAAGO6+WUY1hIAAOpxQ/0OAKB+t5mEHjezMHxNwpMiyIrj6gZ8xebQ3KYeVNckOPD29jbrsdQNBXsbsWm5a3d3d402O7cVqvfy8jKIwL/3np+fGx1zG+GggurU6zAAm0z3Hmy4z2edurlf9Giqabh3TFAilK1KUN3+cF2XGn5gLdXSurSJWEOf+rtN+gFtBdW99bBiProKrIueT47eSBJUp1fB4D6PDuutK2vlQRBU19yiwefIqoDjj+t018O6djvQ+cr1XH5OdK4eW54rABjcour/JRu8bE4DAGAsN78Mw1oCAGB89fhjKvMHZ9aHL++UNlaHL9KUNua+nA0AUFT9Djm+d6V+H6m6IWbfv383eZ9oEgCYOzxr6kF1TcLBYnNwLvG6NtloHJuH+1I3eDFGXAslvXe9vX91HVL3pklYYRvvu4Lq1OswAItM95+uTGUWVx3dL4wN2AITaGKf4Tycm0Zo1VdhDvvD9zSWeqnj1lZQ3akfLmjaX2kzqO5jPyt+QCF3aF30eCLEL2dfJAmq06tgKJ9Hsc66VucOjqC6POoGvUVN2ndYcpMfcVh0fO6VMF+5eosbc9XKXAHA4BZVdRNvDeESAACUd/PLMKwlAAD6q8ch95fh1O8AAOp31O+U/35ig9+ZHh4eas9t7oC4qQfVxQbkEl6LJgFlsYm4r2C18Pr6WntjdPx3uY89jqfuXMbxvLy89HpONgnZi83kOQmqU6/DQOTYA7IzjY0tOvqeV4kbdUt0lf77o1vCGP/PKsN5uDaN0Nvn++ZwHQ8psNRaquEaP/ovx0ZTsf7/+Dfj8XL/zRht9hri78f6PYLrqvyYQPRAogcRPyIQwXdt9ZZOvX6ljL77QHoV9Px5FOurG2usQRNUl8cyNfvx7dnAXv+3TJU++kAl9XVmh9evzvNYmatW5goABreoElQnXAIAgPHc/DIMawkAgP7qcchx30b9DgCgfkf9zrDeT/4dsTmS02ITZCokiGrKQXVNAs1i5NzA2yTorekm6hxiQ3PdeYzgxpyahA/mvr7qiPOq7vmQOyRUUJ16HQaiyWbi92NhKmubpz+bZ7v4npfNrV+bHXk9zNv/ybFvbG4aodNrNQIRrtKwwun0UundqdC8Pn/sAL0Kivg8irXC+rCWZvgE1ZWxVtz0UKsuGq5rcwSg1e0F7Qt5D9o2OP6ZuWptrgBgUE0+QXXCJQAAGM/NL8OwlgAA6K8ehxz3bdTvAADqd9Tv9KikMLWxiQ2hqZAQwCkH1TUJNLu8vMx2HHG9jOFau729rfUcvn//XsS1FcdfiibnRM7gQkF16nUYkF2G7w+tTWNtjx19x+vGVJ/lWFCBTcF/zDOch1vTCJ24ObyfjSEY0loK0KugBBGktbI2mMT6T1BdPYuGa8XoTV0U/rrn7q+sGh7Hpqf3pNmhD9hlD9FcAcBIm3yC6oRLAAAwnptfhmEtAQDQXz0OOe7bqN8BANTvqN/pUZOgujGEmBX2Xv3viHC1nKYaVPfy8tLo/mLOwMASAt76fs+I1yOHh4eH0bxvxetb53nc399nOwZBdep1GJCmmz2FedW3Tt18v0s42HmOBbE9mpZ/3WQ4FxemEdBLBfQqgELUDSxbH9Y2Yxm5wo2brhn3hx5Vm2v+bYZjzNn/ynE81x325OJ8afqDFwtzpYcCgCafoDrhEgAAjO/m19svkmwLHOtDc7C0sRrZTQNrCQCA/upxUL8DAKjfUb+7GAeuSeDT6+urCfxC3YC4+O9KOI4hB9X9+PHj5+XlZaPvKuY6x+NY6h5DXKOl6Ttcre7rmvu6yqFuSFzOAENBdep1GJimGydjXJnGSnIFBJ7zHUAhguc5Fhx4Y1p+i3NonwQmAnqpAHoVMB51g+rGNq4zrhtz9Je2KW9g3ezw9/apvPD1RabX8C2Ebd7StXKR8vzYwsZcdTJXADCYJp+gOkF1AAC4+YUvdwAAoB5H/Q4AoH4H9fvk1Q0o8tqfR1Bdf+7u7hp9T/H29jbbsTw9PdU6hm/fvv0OuStN3ecTAXNNRXhg3dc0jrs0TZ5PriBFQXXqdRiYq5QnEI3zXHS0R2R/eCzqvyYLU/NbjmDFlWkE9FIBvQq9CiiIoLq8QXW5+x3R01g36GvEev4m5Qmoyz1P792k/D9YcJOhnzE/rOO3qZwfUjBXADCyJp+gOkF1AAC4+YUvdwAAoB5H/Q4AoH4H9fvkCaprV92wtByBXu9NLaiuaUhdjOfn52zHE6F3dY7h/v6+yPmN8LwI0Us9hKs9PDzUetzv37+P7nyNuejzcwD1OvQkNj/m2Li7MJWdzbVgsLy2Pkc+9ZgEWQJ6qQB6FTAuguraCWBbtXScsW6/ORzv9aEHtTg83tv/tk7t5J2sWz4X1y2+vo+Hv399mKvFibF6N4e7Fo5jYa7OHn50AoDJNPkE1QmqAwDAzS98uQMAAPU46ncAAPU7qN8nr25AUe4gNfPb7rU1laC6CFCLc7PpdxRzh5rVPY6Xl5di57pu+N7T01Ojx60b6hbXYqkiFLHOc4rXoM/3KdTr0KMcG7TXpvFLj6mb/SE3pvpsyxNzuDE1v10koYmAXiqAXgXogwiqO9/ViOanq17X2jlmrlq6HgGg2CafoDpBdQAAuPmFL3cAAKAeR/0OAKB+B/X75NUNm4rgM74mqK47EYAWAXM5vqOY83lH2FwqICyvjfmu87zu7+8bPW7d17jk0L8IWKzznL59+9br+xTqdejR7NfYZ/jMn5nKk2462hsiYK3aeb87MY9Xpue3phvAd6YQ0EsF9Cr0KqBAguraDcYaw/xuB7b+ntL5Za4AYARNvptDwVXaWB8+mEsb8YtAiw6GhiwAAG5+4csdAADqcdTv6ncAAPU76nc6VDfATFDdeQTVtS+Ose7zOzbu7u6yHt/Dw0MRx5Hb6+trred1eXnZ+WPmCnRrU8xLnecWc9LX+xTqdehZjk2ewr2OW6VuNrU+JmGBVXwWHnhherIEWNpoDeilAnoVehVQIkF17a/ZVgOelxvnZeOx6rGn8//Zu3vkNLYtDKAdKFPsKkImYCZASqQZSGNQMQSqGIKLMVgzIHLKBGACCqkiJiPQ89YVfpavdQXn9H+vVbWT9ywLjrrbX59G37VWAAA2ZAEA8PAL9xIAAPI4yO8AAPI78jvtp6iuWorqqhHlXFEAN5lMSv0Fiyg0O51Opb7W+Xye9Fo2m03fskj2sR1r0tfrVRQTpry33W7X2HUKeR0adlvCv/1by/gvUXi2L6r/pdZ9oVztGmPH8aemJRyTihMBe6mAvQp7FdBGiurqKRf/WtOeSJl7K02Xho3f9iW6ekzVuT9lrQAAbMgCAODhF+4lAADkcZDfAQDkd+R3uktRXbUU1ZUjyuOikGu1Wr3MZrPKftGiiveb+noPh0Nvrx+p65x6PsXXtV0ULzb13hTVyevQYYsS/v0fW8ZfoqSrrl+Y/Wq5r/q5/PiPtVxYole5x+6DJQTspQL2KuxVQEspqqvvvi3uwb91YC2ein/+Iw5t2bd47ODx1MQaWisAABuyAAB4+IV7CQAAeRzkdwAA+R35nW5SVFetrhfVRXlWlIp9NFEgV4b4e85/52azeV23KKWL1z0ajWr5RYv4vi3497pT19b4GaW8tygdTDGfz2v9fnWKYz/lvcWaNHWdQl6HFrgtIQMo+fq/p6I/v1jeJ5/9AvPUEr0WTuYelzeWEbCXCtirsFcBLaWorv79hCjY37ZwDbZFe8v/vxTl/Ecl6ihdG1urzqwVAIANWQAAPPzCvQQAgDyO/C6/AwDI78jvtIGiump1vahuKFNVSd3hcEh6PbPZrNfHd3xdiliXlO8XP4e2Ox6PjV2LFdXJ69BxZZSrKaj6vAytrPlmqa/y1fF7kdxf7lZYCdhLBexV2KuANlNU11zxfZTDt6Gwblt0p6j+9m2faV+0r+Rvaq16d7wBADZkbcgCAHj45eEX7iUAAORx5HcAAOR35HfqoKiuWorqhltSF56fn3t9fu12u6T3t1wu68g+nft3qqn3p6hOXoeOG5eQB+4GvobTmnLXj0Kp2jVirfYXrKl1yj82by0jYC8VsFdhrwJaTFFdc0V1Z1Ekv6j5/e7fvue4w/frd297F00eN9/efn7Wqh9rBQBgQxYAAA+/cC8BACCPI7/L7wAA8jvyO01QVFctRXXtnclk8nI4HFr584+v64I6i/hOp1PS9xqNRp25XsRrLRTVyetAiqfMXLAd8Np9KT4vQyvrl6u/OFQvFr+gfMkvJz9aqtdf5M45NheWELCXCtirsFcBLRfl2mPTipLxuF//+nY/XkWpWOxxPRT9Kwu7fbt//1bDPtT+7ftMi27+BxPqXqtFh9cKALAha0MWAAAPv3AvAQAgjyO/y+8AAPI78jt1SS0oms1mFq/C9S0U1VU6sR5RfNbWn39Xiuqi6K+oqaiuzlK8pqSep7mFi4rq5HXogWkJ+WA8wHW7tAytjPnqML3KwnF7sW3msalAEbCXCtirsFcBkLO3Mn7bm4qCuSgXe/ptfi8ae/pjHov/l9IN7d70y9uaPb6tReq9/fa3tZz2dB3LXquHt7/v1ukLAHSdDVkAADz8wr0EAIA8jvwuvwMAyO/I79SoLUVqfbVarVpRrqWo7p+ZTCYvu92u9T//zWbT1zzyOqPR6Orvo6ju44m1aeLfAeR1aJncsqrFANfsW00Z7MHheZU7/3ZcbJx5bD5ZQsBeKmCvQt4EoDXOxX+fzY2lslYAADZkAQDw8Av3EgAA8jjyu/wOACC/I79TI0V11UotnlJUV+5EMdp6ve7Mzz+3eKzFeST5+hEFgynfZ7lc9v56oahOXgdeTUvIDEP6xc2HmnLYwqFZ2XH8zXK9Hl85x+fYEgL2UgF7FfYqAAAAgO6xIQsAgIdfuJcAAJDHkd/ldwAA+R35nRptNpvkX+w/Ho8W8BOK6pqd2Wz2eoyfTqdO/fwV1f1baplafF1XrFarpPcYx3gORXXyOvTINjM73A1knb7WlMV+FMMq/8s1dbxe5baE4xPAXipgr8JeBQAAANBBNmQBAPDwC/cSAADyOPK7/A4AIL8jv1OjKMQqEn+5v0tlWk2ZTCatKNcaUlHdaDR6WS6XL4fDofGfv6I6RXVdeI+K6uR16JGHzByxHcAaffk5+xoyWXyPW4fkxaYJa/zF+Z51jE4ddoC9VMBehb0KAAAAoJtsyAIA4OEX7iUAAORx5Hf5HQBAfkd+p0Y5RXWbzcYClnutVlSXOPH+Ys3aUE5Xxrp3qagu9T1eS1Gdojp5HbjATZFfwjbu+fr8qCmfjR2OF0spqdtattc1UEoJ2EsFsFcBAAAADJANWQAAPPzCvQQAgDyO/C6/AwDI78jvtPt60skCqCZEaVrRkhLAPhXVzWazl/l8/nr8RaHb6XRq7TGgqO7jubZUUFGdojp5HbjQQ2bWWPR4bRY15bU7h2Hlx+ti4Ov2NfMYnTr0AHupgL0KexUAAABAd9mQBQDAwy/cSwAAyOPI7/I7AID8jvxOu68nvyYKqvhYlI2lrm3ZRWWpZWJRClc0UEQXr/dcRncupOtSedvZZDLpfQFYXWV8iuoU1cnrwIVuSsgjNz1cl7uastzCIXjxcfqtULSWKmft9g4/wF4qYK/CXgUAAADQbTZkAQDw8Av3EgAA8jjyu/wOACC/I79Ts9SiqSjh4mOp5U8xp9OpFT/jj8rE4vWdy+Ny53g8+rdaUV1l55Oiuuq+L/I6tNiiyCtbu+vZeoyLekrqfhT9LPkr2+3bWilTTF+/nLV7cAgC9lIBexX2KgAAAIBusyELAICHX7iXAACQx5Hf5XcAAPkd+Z2aLZfL1hSq9cl8Pk9a09FoVPprqatMjPdms5miOkV1rX+Piurkdeih3CKrbc/WYl9UX1K3f/te/PfPYlGUUwg4ZA+Zx6kyRcBeKmCvwl4FAAAA0HE2ZAEA8PAL9xIAAPI48rv8DgAgvyO/U7P1ep1clLDb7SzgByaTSdKaRvFX2RTVNWMI666orjyK6uR1oFS5hWDjHqxBFHL9KKovqevLelWlrIK68zwOfD1zihcfHI6AvVTAXoW9CgAAAKD7bMgCAODhF+4lAADkceR3+R0AQH5HfqdmURhVJP6y/2q1soB/cTweW7WmiuqaoahOUV0X3qOiOnkdeupLkVcGtujBGpRZjvZfM3W4/dXXn/OtUApYpmnm2t06LAF7qYC9CnsVAAAAQPfZkAUAwMMv3EsAAMjjyO/yOwCA/I78Ts1Op1PyL/vPZjML+BebzSZ5TXe7XemvR1FdM4aw7qnHeZQ5XkNRnaI6eR1I8FTklVrddPi95xZ6DanQr0zjn/P4c7YVrrlz2rEK2EsFsFcBAAAADJoNWQAAPPzCvQQAgDyO/C6/AwDI78jvNCAK54qaCqeGYLlcJq9nFAeWTVFdMxTVlfdvRxQ4Fj0vqku9biiqk9eBD42LvEKwu46+7y9FPSV1Pxxir2sdpYBRgravYc2/DXitbzPX7tbhCthLBbBXAQAAAPSDDVkAADz8wr0EAIA8jvwuvwMAyO/I7zRgtVol/9L/er22gH8YjUZJaxmFgVVQVNeM1AIwRXX/FmuS8n3i2tYVqedplPg1cZwir0NH/CjSi622HXy/N0U9hWn7t+81FPFex8U/pXQPP+epqKcMsC/liWV4zFi3hUshYC8VwF4FAAAA0B82ZAEA8PAL9xIAAPI48rv8DgAgvyO/04AoOioSf/G/qnK1Ia5lVaVaiuqakVoAttls+ppHai+qi2O/K5o6TxXVyevQc9Mirxhs3LH3+6OopzDtS0+Oj/Ef8/A2UYr2VDRXSNf3dU+xH9B5DNhLBbBXAQAAAPAfbMgCAODhF+4lAADkceR3+R0AQH5Hfqcb15V3czweLeCb5XKZvI5RclcFRXXNWK/XSesexWFdcDgckt7fZDKp7RqlqO5ziurkdRiAbUbOXXTofS6KesrSojDsqaVTV1FfE7Md8DmcUzj55BII2EsFsFcBAAAA9IsNWQAAPPzCvQQAgDyO/C6/AwDI78jvNCS1JClmtVpZwJ9Op9PLaDRKWsP4urb9bBXV5Yn1K3pcVJf6/lLL44oaS/GakHrtyC0KVVQnr8MA5JRcxdwM4D2a9s9iwOfwU8a6jV0CAXupAPYqAAAAgH6xIQsAgIdfuJcAAJDHkd/ldwAA+R35nYZsNpvk4oQoWIqStqFbr9fJa7hcLit7XYrqmhEFYkWNRW512+12tb6/2WzW60K11GtHLkV18joMxL5IL7q6a/l7+1IocRvCTAd67uYc31uXPsBeKoC9CgAAAKB/bMgCAODhF+4lAADkceR3+R0AQH5HfqchUTRXZJQnRNnR0E0mk+T1i9Kvqiiq68y/168ThWxdkFpwlnqtmM/nSd/vcDi0fi3jNaa8t7jmNPVzRF6Hjnko+ll2dfP2+hS59X9uBnruLgrlfoC9VAB7FQAAAAC/sSELAICHX7iXAACQx5Hf5XcAAPkd+Z0GLZfL5PKE0Wj0WnY3VJvNJmvtqqSorjlROlf0tAQs9XoR50qK1EK1LhzH8RpT3luc27kU1cnrMBBR8rUv0guvxi19X0+FArchzA/nba8KJgF7qQD2KgAAAAAy2JAFAMDDL9xLAADI48jv8jsAgPyO/E6DdrtdVolCFB4NURT0TSaT5HVbrVaVvj5Fdc2Zz+dJa384HFr/3uo+rlKvT124LqWWxZXx3hTVyeswIA8ZOXfRwvfzWChwG8o8DvScnWas2dQlD7CXCmCvAgAAAOgnG7IAAHj4hXsJAAB5HPldfgcAkN+R32lYTuFazPF4HNyapRY91bVmiuqas16vk9Z+s9n0LYv8mih2TBHnScr3i7LAtkstNCzjOFFUJ6/DgNwWeWVhNy17P0+FArehzHig5+yPxPXat/B8BeylupcC7FUAAAAAlMSGLAAAHn7hXgIAQB5HfpffAQDkd+R3GhbFR0VGkUKUog1JlGeNRqPk9Voul5W/RkV1zYk1TFn71WrV6vd1OByS3tdsNsv6vilFmnF+tl1qQWj8HHIpqpPXYWAWGTn3rmXvRVHdcGaIvmSs14NLHWAvFcBeBQAAANBfNmQBAPDwC/cSAADyOPK7/A4AIL8jv9MCqaVJ54nio6FILYErSiyaquo1Kqpr5N/s14lzsM3W63UjxYzz+by151mqKLtMeU9lFfApqpPXYWBuM3LbtmXvRVHdMObbQM/V1FLJ/c+5cakD7KUC2KsAAAAA+suGLAAAHn7hXgIAQB5HfpffAQDkd+R3WiC1hKroSDFUWVILns4TpVt1UFTXrNT1jwKztkotjNtsNo1cm+Lr2irWpMnrh6I6eR0GaJGR38Yteh+PxT9ldabfMx3gOXqTcY4+usQB9lIB7FUAAAAA/WZDFgAAD79wLwEAII8jv8vvAADyO/I7LXA6nV5Go1FWCVt8fZuLtnJFEV+RWeZX1/ooqmtWarlaFIi19frQ1DEfX5/yfSeTSWuPj+Vy2Wj5nqI6eR0GaJyR3xaWDyp3l3GO3lo+wF4qgL0KAAAAoN9syAIA4OEX7iUAAORx5Hf5HQBAfkd+pyV2u112EdtsNnstteqbKKnLLfKrs4RMUV2zUsvV4hhro81mk3w9KEP8PX05nlOPjaLEoktFdfI6DNRTRo67sXxQqW2hSBKwlwpgrwIAAADgAzZkAQDw8Av3EgAA8jjyu/wOACC/I7/TIqkFZ0WPy+rKKKmLr69zTRTVNS+1XC1K4dpmMpkkvZf1el3K94+/J+X7x3nQNqklcWWV/uW8BuR16LhxRpa7s3zQynPz1vIB9lIB7FUAAAAA/WdDFgAAD79wLwEAII8jv8vvAADyO/I7LXI8HrNL2Yq3UqUoeOu6MkrqYna7Xa2vW1Fd81LL1aIUrk3i2E097uN6UtZ1qenXUIYoq0y9npRV+hcU1cnrMGDbxH9PtpYOKrNIPC+/WTrAXiqAvQoAAABgGGzIAgDg4RfuJQAA5HHkd/kdAEB+R36nZVILtv6cKGTqclndZrMppaRutVrV/toV1TUvSslSj5k2/RxSj6X4uja8juVy2aprSuoxEcdTWRTVyeswYNOMTDe2fFC6G+ckYC8VwF4FAAAAwGdsyAIA4OEX7iUAAORx5Hf5HQBAfkd+p4Xm83kpZXUxUYrUNalFTn/OZDIptWDqUorq2iFK0orEkscmjps/7Xa71pTt5byW+Nqmxc8ztfiy7LI9RXXyOgzcNvHfk4Wlg9LdJZ6PT5YOsJcKYK8CAAAAGA4bsgAAePiFewkAAHkc+V1+BwCQ35HfaaEoVZrNZqWV1cXfdTgcWv++o1yrrPcdpVRNvWdFde0QP//U4yd+hk2/9tRitShorEL8vann4vF4bHQ9U8/JmLJfu6I6eR0GbpqR724sH5QqtTjyq6UD7KUC2KsAAAAAhsOGLAAAHn7hXgIAQB5HfpffAQDkd+R3WiqnqOqjWS6XjRdG/U28pnhtZb7X3W7X2PtRVNceOQVlUSjWhNyiys1mU8nrir+3yCjLbMpqtUp+3fP5vPTXo6hOXoeBi7K5feJ1+c7yQWm+Jp6HW0sH2EsFsFcBAAAADIsNWQAAPPzCvQQAgDyO/C6/AwDI78jvtFgVZXVFiwrrqiioKyos6rqUorr2iGOsa8dSzjkRx16Vcgr04n1FCV+dcsr1Yqq4Tiqqk9eB4qFQkAVN+5Z4Hk4tHWAvFcBeBQAAADAsNmQBAPDwC/cSAADyOPK7/A4AIL8jv9NyUV5WlFzkdp4onYoipzrLo+J7xfecz+eVvKemS+qCorp2yS1DrKtgLUrRUo+duo6h3OtRXHOigLMOqYVw54mvb9PrQl6HHrn5OfvE6/PY8kG220JZJGAvFcBeBQAAAMCFbMgCAODhF+4lAADkceR3+R0AQH5HfqcDonytqKis7jxRkBUFSlUUXcXfuV6vKyunK1pUUhcU1bVLlMyNRqNWF6ztdrvs17harWpZz9zzON5nledqFP7FzyvnNU4mk8rKCRXVyevAq8fEa/TC0kG2h8Tz787SAfZSAexVAAAAAMNjQxYAAA+/cC8BACCPI7/L7wAA8jvyOx0RJWa5RVbFlcV1UUgVpUpRKhXfPyZKoP4U/9v5/48/G1+zXC6TC9uKDpfUBUV17Tx/co+xOP/iuC6zsC7OnTIKHKOYrapitT/F94kitzKuMWWet/G6ohCzjOtklaWEiurkdeDVbcZ1+sbyQZZtwnm3d+4B9lIB7FUAAAAAw2RDFgAAD79wLwEAII8jv8vvAADyO/I7HRLlSVFIVdRU/taFiVKqthW8Kaprp9VqVdpxF0VtUYqWUg4X5XRR0FZWkWOcA1UWq/1NGcV/RQkFgLH+u93u9evLKvKMn2uVFNXJ68Avi8Rr9Z2lg2RfE8+7B0sH2EsFsFcBAAAADJMNWQAAPPzCvQQAgDyO/C6/AwDI78jvdEwUM83ncyV1PyeKvlKKwqqmqK69qjh3orQufuZRQBYTRWfxs4wCtfP/FhN/Jv5s2d8/Su+aEN+3qKB4MtYpSgXP6xZrGRPrev7f4udYVtHf7xOFd1VTVCevA7/cJl6vt5YOkj0lnHP7n3Nj6QB7qQD2KgAAAIBhsiELAICHX7iXAACQx5Hf5XcAAPkd+Z2OitKmKHUqBlpSF2VPbaWorr2i2HA2m/XmPGiqpO4sCuX6spZ1lNQFRXXyOvDOt8Tr9tjSwdVSyyEXlg6wlwpgrwIAAAAYLhuyAAB4+IV7CQAAeRz5XX4HAJDfkd/psOPxmFyK1tWJ93s4HFr9c1FU1259KatruqTuLAreCiV1F1NUJ68D74wLxVlQl8fE8+3W0gH2UgHsVQAAAADDZUMWAAAPv3AvAQAgjyO/y+8AAPI78js9EIVVk8mk1wV1o9GoNcVcn1FU135RVjefzzt7LrTtWIlzs6vXliiOq5OiOnkd+JenxGv4jaWDq+wLpZCAvVQAexUAAAAAV7IhCwCAh1+4lwAAkMeR3+V3AAD5HfmdHomyqCixKnpWUBfFTlEs1hWK6rpjtVp16nyYzWYvx+OxlWu52+06df2J1xqvuW6K6uR14F++Jl7L7ywdXGyaeJ7dWjrAXiqAvQoAAABg2GzIAgDg4RfuJQAA5HHkd/kdAEB+R36nZ6LQLYqQJpNJpwvq4vVH8V6XCurOFNV1S6x728+Xc2FjF64/8/m89deXeI1NFf4pqpPXgb/aJlwbt5YNLvaUcI49WTbAXiqAvQoAAAAAG7IAAHj4hXsJAAB5HPldfgcAkN+R3+mx3W73slwuO1NOF2Vc8XrjdXeZorruORc8xjFYKFXLFiWTbSz/i9fU9PVFUZ28DvzVNPHaPrZ08Klb5xdgLxXAXgUAAABAKhuyAAB4+IV7CQAAeRz5XX4HAJDfkd8ZgCjhWq/Xr4VXRQvL6eJ1RbFVvM4+UFTXXVEI15Zyx3gdXSuo+1NbCuvinIzX0gaK6uR14EPbhOvjwrLBpx4Tzq0nywbYSwWwVwEAAAAQbMgCAODhF+4lAADkceR3+R0AQH5Hfmdgogxut9u9lmA1USAVxXRRGhXFeYfDoZdrrKiuH+dJFJvNZrNaz4/4fnFudL2g7k/na06daxnXt9Vq1brrjKI6eR340F3iNf/G0sGH4vzYJ5xXU0sH2EsFsFcBAAAAEGzIAgDg4RfuJQAA5HHkd/kdAEB+R35n4KKQKwrSojxpPp+XXswVpW3xd8f36Fv51keiGCve77UTPwvaJ47bKI+L8yOKFouSy9Ti7+1jOd1H15soAIwCubKvNecSzLjetLkEM37OKdcH5HUYgNRCrTtLBx+aJpxTW8sG2EsFsFcBAAAAcGZDFgAAD79wLwEAII8jv8vvAADyO/I7/NW5wO5cYlcklkdFCRf0ybmIMM6LmChH+32K30rofv/f41yIPx+ldEMqbrzkOhPldeeyzN/XLNaw+K2E7vc5r398fZuL6ZDXgas8FEq1oEw/Es6pqWUD7KUC2KsAAAAAOLMhCwCAh1+4lwAAkMeR3+V3AAD5HfkdLjKbzZLL6qKMCgDkdeATNz9nn5A3x5YO/uVLofgRsJfqRgmwVwEAAACQyYYsAAAefuFeAgBAHkd+l98BAOR35He4yHK5TC6q22w2FhAAeR24xCIhby4sG5RyLj1YNsBeKoC9CgAAAIDf2ZAFAMDDL9xLAADI48jv8jsAgPyO/A4XibK5IrGoLkruAEBeBy5wm5g5bywd/BLnw/7Kc2jvPALspQLYqwAAAAD4kw1ZAAA8/MK9BACAPI78Lr8DAMjvyO9wkePxmFxUFxNfDwDyOnCBRULevLNs8Ms04Rx6sGyAvVQAexUAAAAAf7IhCwCAh1+4lwAAkMeR3+V3AAD5HfkdLjabzZKL6pbLpQUEQF4HLnGbkDe3lg1+2SacQzeWDbCXCmCvAgAAAOBPNmQBAPDwC/cSAADyOPK7/A4AIL8jv8PF1ut1clFdzPF4tIgAyOvAJZ4S8ubYssHreXDtubOwbIC9VAB7FQAAAAB/Y0MWAAAPv3AvAQAgjyO/y+8AAPI78jtcLIrmioyiuvl8bhEBkNeBS4wLZVuQYpFw7txaNsBeKoC9CgAAAIC/sSELAICHX7iXAACQx5Hf5XcAAPkd+R2uEmVzRUZZ3WazsYgAyOvAJZ4S8uaNZWPAbgoFj4C9VHupgL0KAAAAgBLZkAUAwMMv3EsAAMjjyO/yOwCA/I78Dld5fn7OKqqLORwOFhIAeR34zDQha95ZNgbsLuGc+WLZAHupAPYqAAAAAD5iQxYAAA+/cC8BACCPI7/L7wAA8jvyO1xtNptlFdWNRqOX0+lkIQGQ14HPbK88v7eWDOfLxfNkyQB7qQD2KgAAAAD+iw1ZAAA8/MK9BACAPI78Lr8DAMjvyO9wtefn56yiupgouzscDhYTAHkd+C/ThKw5tmwM0Ni5AthLtZcK2KsAAAAAKJsNWQAAPPzCvQQAgDyO/C6/AwDI78jvkOT+/j67rG40Gr3sdjuLCYC8DvyX7ZXn+MKSMUCLK8+TH5YMsJcKYK8CAAAA4DM2ZAEA8PAL9xIAAPI48rv8DgAgvyO/Q5Lj8ZhdVHee79+/v5xOJ4sKgLwO/M1DQsa8sWwMyG3COTK1bIC9VAB7FQAAAACfsSELAICHX7iXAACQx5Hf5XcAAPkd+R2Srdfr0srqRqORwjoA5HXgb6J0bn/leX5n2RiQa8sct5YMsJcKYK8CAAAA4BI2ZAEA8PAL9xIAAPI48rv8DgAgvyO/Q5b7+/vSyuqKt8K61Wr18vz8bHEBkNeBM0Vc8LHtlefH1JIB9lIB7FUAAAAAXMKGLAAAHn7hXgIAQB5HfpffAQDkd+R3yHI6nV7L5YoSy+p+nyjC+/79+2tx3Uez2Wxe/0z82clk4ocCIK/L69A/NwlZcmzZGICvV54Xe0sG2EsFsFcBAAAAcCkbsgAAePiFewkAAHkc+V1+BwCQ35HfIdvhcKi0rO7aAUBel9ehlxZXnusLS8YAfLvyvHiwZIC9VAB7FQAAAACXsiELAICHX7iXAACQx5Hf5XcAAPkd+R1K8fz8rKgOAHkdqNJtQja8sWw4J37N3jkB2EsFsFcBAAAAcA0bsgAAePiFewkAAHkc+V1+BwCQ35HfoTSHw+FlNBopqgNAXgeqsrjyfL+zZPTYw5Xnw4MlA+ylAtirAAAAALiGDVkAADz8wr0EAIA8jvwuvwMAyO/I71CqNpTVASCvy+vQW1+uPN+3lowe2195PtxaMsBeKoC9CgAAAIBr2JAFAMDDL9xLAADI48jv8jsAgPyO/A6lO51OL/f394rqAJDXgSo8XXnOjy0ZPTS98jxYWDLAXiqAvQoAAACAa9mQBQDAwy/cSwAAyOPI7/I7AID8jvwOlfn+/buiOgDkdaBs40JBF1xb2HhryQB7qQD2KgAAAACuZUMWAAAPv3AvAQAgjyO/y+8AAPI78jtU6ng8vtzf3yuqA0BeB8r048rz/saS0SO3hbJGwF6qPSLAXgUAAABADWzIAgDg4RfuJQAA5HHkd/kdAEB+R36HWjw/P9dWWAeAvC6vQ+9Nrzzv7ywZPfJ45fE/tmSAvVQAexUAAAAAKWzIAgDg4RfuJQAA5HHkd/kdAEB+R36HWh0Oh5flcvkyGo0U1QEgrwM5tlec91vLRY/srzj2nywXYC8VwF4FAAAAQCobsgAAePiFewkAAHkc+V1+BwCQ35HfoTG73e5ltVq9zGazrGK6+Pr4e+LvO51OFhZAXpfXYRimV577Y0uG4x7AXiqAvQoAAACAy9mQBQDAwy/cSwAAyOPI7/I7AID8jvwOrfH8/Pyy2Wxevn///jpRPnd/f/86y+Xy1/++Xq9f/+zxeLRoAMjrMGwPV8zYctED4yuPe4BB76UaY0yHBgAAAKCVfLgVAAAf1MW9BACAPI78Lr8DAMjvyO8AAPI6AADQu71UY4wpFNUBAAAAZPHhVgAAfFAX9xIAAPI48rv8DgAgvyO/AwDI6wAAQO/2Uo0xplBUBwAAAJDFh1sBAPBBXdxLAADI48jv8jsAgPyO/A4AIK8DAAC920s1xphCUR0AAABAFh9uBQDAB3VxLwEAII8jv8vvAADyO/I7AIC8DgAA9G4v1RhjCkV1AAAAAFl8uBUAAB/Uxb0EAIA8jvwuvwMAyO/I7wAA8joAANC7vVRjjCkU1QEAAABk8eFWAAB8UBf3EgAA8jjyu/wOACC/I78DAMjrAABA7/ZSjTGmUFQHAAAAkMWHWwEA8EFd3EsAAMjjyO/yOwCA/I78DgAgrwMAAL3bSzXGmEJRHQAAAEAWH24FAMAHdXEvAQAgjyO/y+8AAPI78jsAgLwOAAD0bi/VGGMKRXUAAAAAWXy4FQAAH9TFvQQAgDyO/C6/AwDI78jvAADyOgAA0Lu9VGOMKRTVAQAAAGTx4VYAAHxQF/cSAADyOPK7/A4AIL8jvwMAyOsAAEDv9lKNMaZQVAcAAACQxYdbAQDwQV3cSwAAyOPI7/I7AID8jvwOACCvAwAAvdtLNcaYQlEdAAAAQBYfbgUAwAd1cS8BACCPI7/L7wAA8jvyOwCAvA4AAAAAAAAAwDv+CwPGGGOMMcZ/pQn3EsYYY4wx8jjyu6ILAADFF8jvAADyOgAAAAAAAAAA7/ilTmOMMcYYoxgD9xLGGGOMMfI48ruiCwAAxRfI7wAA8joAAAAAAAAAAO/4pU5jjDHGGKMYA/cSxhhjjDHyOPK7McYYY4yR3+lYfgcAQFEdAAAAAAAAAEDVfCjcGGOMMcb4xTrcSxhjjDHGyOPI78YYY4wxRn6nY/kdAABFdQAAAAAAAAAAVfOhcGOMMcYY4xfrcC9hjDHGGCOPI78bY4wxxhj5nY7ldwAAFNUBAAAAAAAAAFTNh8KNMcYYY4xfrMO9hDHGGGOMPI78bowxxhhj5Hc6lt8BAFBUBwAAAAAAAABQNR8KN8YYY4wxfrEO9xLGGGOMMfI48rsxxhhjjJHf6Vh+BwBAUR0AAAAAAAAAQNV8KNwYY4wxxvjFOtxLGGOMMcbI48jvxhhjjDFGfqdj+R0AAEV1AAAAAAAAAABV86FwY4wxxhjjF+twL2GMMcYYI48jvxtjjDHGGPmdjuV3AAAU1QEAAAAAAAAAVM2Hwo0xxhhjjF+sw72EMcYYY4w8jvxujDHGGGPkdzqW3wEAUFQHAAAAAAAAAFA1Hwo3xhhjjDF+sQ73EsYYY4wx8jjyuzHGGGOMkd/pWH4HAEBRHQAAAAAAAABA1Xwo3BhjjDHG+MU63EsYY4wxxsjjyO/GGGOMMUZ+p2P5HQAARXUAAAAAAAAAAAAAAAAAADkUxBhjjDHGKKqjh/kdAABFdQAAAAAAAAAAAAAAAAAAORTEGGOMMcYoqqOH+R0AAEV1AAAAAAAAAAAAAAAAAAAAAMAwKKoDAFBUBwAAAAAAAAAAAAAAAAAAAADwjqI6AABFdQAAAAAAAAAAAAAAAAAAAAAA7yiqAwBQVAcAAAAAAAAAAAAAAAAAAAAA8I6iOgAARXUAAAAAAAAAAAAAAAAAAAAAAO8oqgMAUFQHAAAAAAAAAAAAAAAAAAAAAPCOojoAAEV1AAAAAAAAAAAAAAAAAAAAAADvKKoDAFBUBwAAAAAAAAAAAAAAAAAAAADwjqI6AABFdQAAAAAAAAAAAAAAAAAAAAAA7yiqAwBQVAcAAAAAAAAAAAAAAAAAAAAA8M6LMcYYY4ypbQAAAAAAAAAAAAAAAAAAAAAAOkFhjDHGGGOMojoAAAAAAAAAAAAAAAAAAAAAgHcUxhhjjDHGKKoDAAAAAAAAAAAAAAAAAAAAAHhHYYwxxhhjjKI6AAAAAAAAAAAAAAAAAAAAAIB3FMYYY4wxxiiqAwAAAAAAAAAAAAAAAAAAAAB4R2GMMcYYY4yiOgAAAAAAAAAAAAAAAAAAAACAdxTGGGOMMcYoqgMAAAAAAAAAAAAAAAAAAAAAeEdhjDHGGGOMojoAAAAAAAAAAAAAAAAAAAAAgHcUxhhjjDHGKKoDAAAAAAAAAAAAAAAAAAAAAHhHYYwxxhhjjKI6AAAAAAAAAAAAAAAAAAAAAIB3FMYYY4wxxiiqAwAAAAAAAAAAAAAAAAAAAAAAAAAAAAAAAAAAAAAAAAAAAAAAAAAAAAAAAAAAAAAAAAAAAAAAAAAAAAAAAAAAAAAAAAAAAAAAAAAAAAAAAAAAAAAAAAAAAAAAAAAAAAAAAAAAAAAAAAAAAAAAAAAAAAAAAAAAAAAAAAAAAAAAAAAAAAAAAAAAAAAAAAAAAAAAAAAAAAAAAAAAAAAAAAAAAAAAAAAAAAAAAAAAAAAAAAAAAAAAAAAAAAAAAAAAAAAAAAAAAAAAAAAAAAAAAAAAAAAAAAAAAAAAAAAAAAAAAAAAAAAAAAAAAAAAAAAAAAAAAAAAAAAAAAAAAAAAAAAAAAAAAAAAAAAAAAAAAAAAAAAAAAAAAAAAAAAAAAAAAAAAAAAAAAAAAAAAAAAAAAAAAAAAAAAAAAAAAAAAAAAAAAAAAAAAAAAAAAAAAAAAAAAAAAAAAAAAAAAAAAAAAAAAAAAAAAAAAAAAAAAAAAAAAAAAAAAAAAAAAAAAAAAAAAAAAAAAAAAAAAAAAAAAAAAAAAAAAAAAAAAAAAAAAAAAAAAAAAAAAAAAAAAAAAAAAAAAAAAAAAAAAAAAAAAAAAAAAAAAAAAAAAAAAAAAAAAAAAAAAAAAAAAAAAAAAAAAAAAAAAAAAAAAAAAAAAAAAAAAAAAAAAAAAAAAAAAAAAAAAAAAAAAAAAAAAAAAAAAAAAAAAAAAAAAAAAAAAAAAAAAAAAAAAAAAAAAAAAAAAAAAAAAAAAAAAAAAAAAAAAAAAAAAAAAAAAAAAAAAAAAAAAAAAAAAAAAAAAAAAAAAAAAAAAAAAAAAAAAAAAAAAAAAAAAAAAAAAAAAAAAAAAAAAAAAAAAAAAAAAAAAAAAAAAAAAAAAAAAAAAAAAAAAAAAAAAAAAAAAAAAAAAAAAAAAAAAAAAAAAAAAAAAAAAAAAAAAAAAAAAAAAAAAAAAAAAAAAAAAAAAAAAAAAAAAAAAAAAAAAAAAAAAAAAAAAAAAAAAAAAAAAAAAAAAAAAAAAAAAAAAAAAAAAAAAAAAAAAAAAAAAAAAAAAAAAAAAAAAAAAAAAAAAAAAAAAAAAAAAAAAAAAAAAAAAAAAAAAAAAAAAAAAAAAAAAAAAAAAAAAAAAAAAAAAAAAAAAAAAAAAAAAAAAAAAAAAAAAAAAAAAAAAAAAAAAAAAAAAAAAAAAAAAAAAAAAAAAAAAAAAAAAAAAAAAAAAAAAAAAAAAAAAAAAAAAAAAAAAAAAAAAAAAAAAAAAAAAAAAAAAAAAAAAAAAAAAAAAAAAAAAAAAAAAAAAAAAAAAAAAAAAAAAAAAAAAAAAAAAAAAAAAAAAAAAAAAAAID/sXcvSW0zbRuA34EHCcqUeTbACjLxmCWwBoauIkIU5S2wCXYAWGYVrIJl/L8eEfKRBFutk4/XVfVUfd+bxIfWwS2p+24AAAAAAAAAAAAAAAAAAAAAAAAAAAAAAAAAAAAAAAAAAAAAAAAAAAAAAAAAAAAAAAAAAAAAAAAAAAAAAAAAAAAAAAAAAAAAAAAAAAAAAAAAAAAAAAAAAAAAAAAAAAAAAAAAAAAAAAAAAAAAAAAAAAAAAAAAAAAAAAAAAAAAAAAAAAAAAAAAAAAAAAAAAAAAAAAAAAAAAAAAAAAAAAAAAAAAAAAAAAAAAAAAAAAAAAAAAAAAAAAAAAAAAAAAAAAAAAAAAAAAAAAAAAAAAAAAAAAAAAAAAAAAAAAAAAAAAAAAAAAAAAAAAAAAAAAAAAAAAAAAAAAAAAAAAAAAAAAAAAAAAAAAAAAAAAAAAAAAAAAAAAAAAAAAAAAAAAAAAAAAAAAAAAAAAAAAAAAAAAAAAAAAAAAAAAAAAAAAAAAAAAAAAAAAAAAAAAAAAAAAAAAAAAAAAAAAAAAAAAAAAAAAAAAAAAAAAAAAAAAAAAAAAAAAAAAAAAAAAAAAAAAAAAAAAAAAAAAAAAAAAAAAAAAAAAAAAAAAAAAAAAAAAAAAAAAAAAAAAAAAAAAAAAAAAAAAAAAAAAAAAAAAAAAAAAAAAAAAAAAAAAAAAAAAAAAAAAAAAAAAAAAAAAAAAAAAAAAAAAAAAAAAAAAAAAAAAAAAAAAAAAAAAAAAAAAAAAAAAAAAAAAAAAAAAAAAAAAAAAAAAAAAAAAAAAAAAAAAAAAAAAAAAAAAAAAAAAAAAAAAAAAAAAAAAAAAAAAAAAAAAAAAAAAAAAAAAAAAAAAAAAAAAAAAAAAAAAAAAAAAAAAAAAAAAAAAAAAAAAAAAAAAAAAAAAAAAAAAAAAAAAAAAAAAAAAAAAAAAAAAAAAAAAAAAAAAAAAAAAAAAAAAAAAAAAAAAAAAAAAAAAAAAAAAAAAAAAAAAAAAAAAAAAAAAAAAAAAAAAAAAAAAAAAAAAAAAAAAAAAAAAAAAAAAAAAAAAAAAAAAAAAAAAAAAAAAAAAAAAAAAAAAAAAAAAAAAAAAAAAAAAAAAAAAAAAAAAAAAABa+vLz6fvH+povf2gVAIADNiuzv/uA8d80DPYpAACSTOeTf/p/+eOphhnG321bty8AAAAAAINyLxYAAAAAAAAA4BMn+dP5t5vl/zVVTDTUWgAAhym7Xlwk9QnhEzEwO2X/if1MawEA6BNqrYbrs2J57/oMAAAAAGDzku5zF8t7LQUAAAAAAAAAHJXUUBKrAgIAHHCfUBACfczKTCgJAMBxSw2q+5ovf2gt12cAAAAAALtIUB0AAAAAAAAAwCcE1QEAIAiBvgTVAQAct9SgOveZm50Ui1vXZwAAAAAAm5cWVFfeaSkAAAAAAAAA4Kh8zZc/TCAEADhuguroy2BtAIAjv6a4ejhzn3mgtkxcXEZLAQAAAAAMyyJ9AAAAAAAAAACfiImBBlYAABy37KZ8bQ4ZW95rKVZJC6qzDwEAHOw1RWK4mqC64dpSSwEAAAAADMt4agAAAAAAAACAz+SPpykDK06Kxa3GAgA4QNP5RMgYfWVF+SxMAwDgeMX946T+4KzMtFZD31roHwAAAADAxln4GwAAAAAAAABgjbRgkvJZSwEAHB4DbRlCBBkmBZNM5xOtBQBwxP1BmttSUB0AAAAAwMYZPwMAAAAAAAAAsEaE0CVNIpyVmdYCADiwvmBiCMLXfPlDa9F3P8quHs60FgDAAfYHb8pXi6EM1JZVn1lQHQAAAADAZqUG1Rk/AwAAAAAAAAAcpawo7wyuAAA41r7g8l4IAn3FtULKfvStWFxqLQCAA5M/niaFFlfXHhqrWepkyJP86VxrAQAAAAAMI+65Gj8DAAAAAAAAALBCaqjESbG41VoAAIclKVysKi3FWsnhJOWzxgIAOCypk/ey68WF1mqWGlSnPQEAAAAAhhP3XAXVAQAAAAAAAACsMiuz5ICS6XyiwQAADkN29XCWFi62vNdaNO5PN+WrawoAgCPsBxblXdJ1RXX9obXSuE4DAAAAANis1HvdxjwAAAAAAAAAAEcrK8qXlAEWX/PlD60FAHAwfcC0QInrxYXWYqj96SR/OtdaAAAH1A8UWLyVNhVUBwAAAAAwnLjnmnSvGwAAAAAAAADgWH0rFpdJISVF+ay1AAAOwHQ+Sen/RX35+fRdg9EkAuhcUwAAHJfs6uFMH3CEdjUhEgAAAABgo9IWEHGvGwAAAAAAAAA4ZvnjqaASAIDjkV0vLhIDJV60FklmZZZ6TRHXHxoMAGD/nRSL26Q+YLG41FotrteK8k6/GgAAAABgQxIXe4xFRjQWAAAAAAAAAHDUYqU/Ay0AAI6k75ewErRACca6pohAE60FALDnpvNJ6nWFQLWW/erUYPGrhzOtBQAAAADQTyzgnXRP9npxobUAAAAAAAAAgKN2kj+dJ4WVVPU1X/7QYgAA+yn6cqn9PoESjHVN8d+szLQYAMD+Sg5TK8oXrdWyba8ezkyKBAAAAADYjNT73cZOAwAAAAAAAABM55PUUIl6cmH19zUaAMD+9fmiL5fY53vWYIx1TXFSLG41GADA/spuytekvl+xuNRaLc3KLO2abXmvsQAAAAAA+onxCyn3ZL/8fPqutQAAAAAAAACAo5c62MIEQwCA/ZS6CrSVoOm8jxXlXeo+FgEcWgwAYP/EtUJyny9/PNViHfrVCUGA8Xe0FAAAAABAP6kLPmopAAAAAAAAAIAwnU9SJsCZZAgAsIdmZZbaz4tBuBqMLmIF8fT9bHmvxQAA9kyLe8jVdcWzBusm+sru0QMAAAAAjGw6n7jfDQAAAAAAAADQUna9uGgVYDKdT7QaAMAe9POK8jm1n3eSP51rMbrva2mhGvU1xdXDmRYDANijvl6L+8df8+UPLTZuO7t2AwAAAADoLsYsJN2LLRa3WgsAAAAAAAAA4N10Psluytf0sLrlvUYDANht34rFZXL/ruoLCiOmjy8/n77b3wAADlD+eNpqkRNG71NX7XyntQAAAAAAukkdT2NhFgAAAAAAAACAv5zkT+epEw6tFAgAsNtSV382uJZB97tieS/8GgDg0Pp45XNyH+96caHFepjOJ6ltrbEAAAAAALqJRVeS7sPOykxrAQAAAAAAAAD8pU2wRB1Wlz+dazUAgB2TP55mN+WrwDA27cvPp+9tricEmQAA7Lbor6VfV5QvEbSm1Xq2eWIwYISTay0AAAAAgJZmZZZ0D/amfNVYAAAAAAAAAACfyR9P2wRLRH3Nlz80HADAjpiVWZuQuqgIF9NwDOWkWNy6ngAA2H8RhKZft3nfisVlUptXf09rAQAAAAC0Ewt0Jy3kXSxutRYAAAAAAAAAwArZ9eKibVhdDNzQcgAAW5Y/nmZF+dyqLyfcgKFN55O2YYmx72o4AIAdu7Zo0afLiuW9Rhuu7dPavHzRWAAAAAAA7WRFeWdxFgAAAAAAAACAAaQOxLB6IADAjmgZJPEr2OBZwzGGGLDdal+s9l1hdQAAOyKCh4vypU1/7svPp+8abjip13b60AAAAAAALUznk+QF96q/q8EAAAAAAAAAANZ5m4z43DasLiuW9wZnAABsVoRCtA6pEwzGyNqGX8c+KeAEAGDLutwXLhaXGm5YsSiMxWMAAAAAAIaVuuiehR8BAAAAAAAAAFLlj6dtA08ETAAAbNZJ/nTetr8WFYNvtR6jegs5ebFvAgDsibgf3LL/ZrLeOLKrh7PkAHIAAAAAAJKkLrgXY3G0FgAAAAAAAABAqvzxtEvwST1J7npxEeEUGhEAYARvIWB3nfpqxeJSA7LL1xP1tQQAABvtt3VZtCT+ncYbR+r2EPQMAAAAAJBgVmbJ976rv6vBAAAAAAAAAABaiIluncPqivIlu3o404oAAMOJlZu7hEjUqz4Xi1styD5cT2TF8l7wNQDA7vbXBKSNfN1XXbsl95sBAAAAAFgrFsxLHPf8rLUAAAAAAAAAADroE1b3Plnuy8+n71oSAKC76E9Fv6pHiLDBtOzV9UQEMgpAAQAYyXQ+qa4R7jpdXxSLSw04rlgAJnV7/DcrMy0GAAAAALBaLLydtABk/nSutQAAAAAAAAAAOoqAiAiK6BdYVz4LmgAAaCcCCvoE1L0HB0cQhdZkW06KxW2v/Td/PNWKAADD6HOvN/p1WnBD14KJEycFBwIAAAAArBYLQ1oYBAAAAAAAAABgU/LH075hdXXQRPUa9YRGYRMAAJ+blVmEDSQHEwiSYA/0Cav7vS8bFA4A0FlMxusTgh0LkQjA3pzsenGRer/ddgEAAAAA+FzqffF6ET0AAAAAAAAAAAYQYXUDBKZ8nERXvd7dSf50LrgOADhaszLLrh7OIohryL6WkDp2Td+wuvf9OkJWtCYAQJq41ugTUCekbnvXicnb53pxocEAAAAAAP7S4j7r13z5Q4MBAAAAAAAAAAxlOp9EuNxQASqfTHp8iYmTMblOKXVYFaGUESzzXgIqV59nP7ZTDIKz/yh1gFX1p/qGRawN84ogYNhB8bs22HVDBHLoTwAA/KvqI30rFpdDBGHHtYuQuu1IvQ8f21lrAQAAAAD8KXUxvVh0W2sBAAAAAAAAAIwgwk9icMZY4SpKqeOprCif68Cm68VFHWB3TPLH0zifxqC4MQOrlFJHdU59EdzFrqtDWAe8loj9Pn5L43WPri8BAFB5D7p/u7/QP5zudwB29Xpad3uyq4ez1G0V21+LAQAAAAD8Miuz5PvhxeJSgwEAAAAAAAAAjCV/PBWspJQaKWjpLgLcYsDYQZ03p/NJHc4TwXzCPpVSI5w74zyjk8r+XEuUz2OGNsa1yu+6XlwopQ6vIphJQOW/3tulXmTAfqLU4VXcU/jdzxkulO6fkLq4L8PWpW7jOrTc9SAAAAAAQC0WYkm9H35wYxQBAAAAAAAAAHZRHbokcEkpNVrQzPI+zjP7fJ7Mrh7OYiK57amUGiuQS0gPe2k6n7QZHK6UUmt/D2/K1zpMv1hcRv/7KMJ6qu8Y37X+zhFY5d6MUmqg86nri92695687a4XF1oMAAAAADh6szJLXrSlWNxqMAAAAAAAAACATZnOJzEx2mROpdSowRMx4XZfAiciNKL6vMIilFKjVtX/OoogHg7ar0DXF8e0UmqEMNfn+rcyfzw9mJNm9V3egumcN5VSo5w371xf7GB/OfGcH/egbD8AAAAA4Ni1WTDPwi0AAAAAAAAAANsQKxHGhGnBTEqpYw2sE1CnlNrAebAO3an6XTqfHAzB10qp8cOXXvb291M4nVJqE/darh7OdEp3U9xnahVmDgAAAABwrOK5WvLzw+W9BgMAAAAAAAAA2Kb3oCaTqJVSI06iPsmfznfp1CegTil11EGdMIT88TQGgzvmlVJj1kmxuP3y8+n7rp8SIzTKOVEpNXpFsJlrjJ3X5j67UHMAAAAA4Fi1eba2D88LAQAAAAAAAACORkysjkngwpuUUqMEN8XKpvnj6TbPczFoTTCnUmq881x5F/0pvUqOydtvq3AmpdT41xK7OAHla7784fpCKbWJ0E6BZvsjfhta3SsDAAAAADgy8dzPfVQAAAAAAAAAgH03nU8iZOVbsbjMivLZhFCl1KAhE9eLi22c12Jit/ZXSg0cTPcS55YIIojzjE4kR21WZkKvlVIbCWvagd9cAdhKqdGvNaJPVSwuBdTtpza/EcLOAQAAAICjEuOTW9xD3cXFrAAAAAAAAAAA+Mx0PqknYV8vLurwiWJ5L4BCKdUz3OluYwET+eOpEAml1ADnrec4d0V/qA4SEBgBK0V4Yxwvzh1KqbHCm07yp/OtnOCq3/+4J2I7KKXGvF8iuOww+sNtftcEnwMAAAAAxyLG3aTfM1/eazEAAAAAAAAAgAMSQXZKqcOqmBj9MaByjNCnCJEb89wUARbjBVYt7+v2qd7D/qLU4ZWgABhArIRe9Se+FYtLobFKqeH75Mv7Tf5eR79faL9SaoT7Cy91XynC6VyDHJQ299LqBR0AAAAAAA5d/nja5h762GMLAQAAAAAAAAAAGEEdYHe9uIigtkEmZN+Ur2MNKIuAvSGD6UwcB4CeZmUWfYk6SLYOr1vejxGGq5Q6ooCn6nqiDpgdU4RuFuWd9lZK9Q3XrPs9VR/oPfA++kY6iAes5YTL+p4TAAAAAMABazPmMMb+aTEAAAAAAAAAAIB9NyuzX6F1L30nbH/Nlz8G+1zT+WSIkLoIvYgJ5FZmBQCA9n3yCGF6rwhlert2iKCm/tcP//Tdq9ce5XtU1wL1dcEIAXt1W1Sf+z2w6r0EYwMcjjb3p+rFHIQXAgAAAAAHKp6Ltbpf6pkZAAAAAAAAAADAYYmgub6BE4OE1U3nkzYrr3460K36HoMG5wEAAH+alVn0uYcImH6veK2hr3GGDKaLz1dfZwghAjgecZ+qReBphJhqNAAAAADg0MRiTa2e++VP51oNAAAAAAAAAADgQPUNrMuuHs46v3nPkDoBdQAAsAVVP/7tOmJ5vythddn14mKo8Lxe1zgA7L34HWh1f6r6DdJqAAAAAMDBeBvT99JiDN+zRgMAAAAAAAAAADh00/nkW7G47BQWd1O+/pc/nnZ5264hdfGeJgEDAMAOmJVZhLv1CYerrgvu+nyE3u//fn1RfRcbFIAQv01tfku+/Hz6rtUAAAAAgEPQ9v5o17GDAAAAAAAAAAAA7KP88bTNaqh/hNVN55M2b9U1TCIrlvcCJAAAYMdUffS2k1Y+VlwfdHnbPiF1vwPqWl7LAHAkv2vV70Sre2PuVwEAAAAAey6enbV63maxWQAAAAAAAAAAgCM0nU8iDK59gFz5nPoW34rFZacgCQPbAABgp335+fS9S/h1XdV1Qpv3OsmfznsF4wkUAmCN7OrhrPW9MeGnAAAAAMCeiud8Y40XBAAAAAAAAAAA4ABFcMMYQXJtJ/nWr3tTvsZAOFsFAAD2wHQ+6XI9EfU1X/5IeYv4e53Cr4vyxbUFAKna/p5VvzN3Wg0AAAAA2Dv542mM0WtzPzT+jYYDAAAAAAAAAAA4cif503nb4Ie1oQ+zMms7oC2CJAxqAwCA/RNhcq37/9Xfb+z/d5go8zs8aDqf2DIAJKt+N+LeVJvfmwi303AAAAAAwN7och80fzrXcAAAAAAAAAAAANQiXKJ1sNyK8Ifqz55bvtazIAkAANhjHULl1l4HdJgoY7IMAJv+LfO7AwAAAADshbdnby3H9C3vNRwAAAAAAAAAAAB/+FYsLlsFQVR//+/XyK4XF0LqAADgCHUI+PnsmqK+riiW962uK6r3jfBtGwGAPtou5BDl9wcAAAAA2HWtn72tWcQWAAAAAAAAAACAI3dSLG7bDEr7b1Zmv/9x9b/bBFPE3/3j3wMAAPutQ1hd/Js/rknyp/O2IXV/vwYAdNX23piwOgAAAABgl3W55+nZGwAAAAAAAAAAAKtN55OsKJ/TV09d3r//0zYrrwqTAACAA9UyrO7jNUV9PdIz6A4A+mpzb0xYHQAAAACwqyzMAQAAAAAAAAAAwDhaBkt8+fn0Pbt6OGszoC3+voYGAIDDFNcIXSa8ZEV5Z6IMAFvXciEHv0sAAAAAwK7pElIX/0bLAQAAAAAAAAAAkOQkfzpPDp0rlvdZUb4kD2orFpdaGAAADlv0+5OvKW7K17bhdtn14kIrAzCalgs5CKsDAAAAAHZFl5C6WFBKywEAAAAAAAAAANBKBNC1HbCWMKDtWcsCAMCxXFOUz23C6kyUAWCn5I+nXe5/xSRQjQcAAAAAbNx0PmnzfO6PMX3Vv9WAAAAAAAAAAAAAtPLl59P3oYPq4jW1LAAAHIlZmY0Qfv1iogwAm/I1X/7oHFbn9woAAAAA2BQhdQAAAAAAAAAAAGxDTKodKlCinqALAAAclex6cTFoUN3Vw5lWBWCTuobVmeAJAAAAAGxE/nia3ZSvre9hVv8mFp7SgAAAAAAAAAAAAHQ3K7NBwiRiUJuJuQAAcHyq64AuE2NWBP7caVAAtqFzWF3cE8sfT7UgAAAAADCGuHfZOaTOvUsAAAAAAAAAAACGcFIsbnsHSlwvLrQkAAAc6TVF/nQ+RFBdBGlrTQC2pWtYXVT8Wy0IAAAAAAzpW7G4tMAGAAAAAAAAAAAA25c/nvYKqYuBbdP5REMCAMCRqq4H4rqgz3VFBGhrSAC2rU9YXVaUd+6RAQAAAAC9zcosK8pnIXUAAAAAAAAAAADsjKxY3ncOlSgWl1oQAACO/JrienHRJ6guJtxoRQB2Qc+wupcvP5++a0UAAAAAoIvs6uGs6wJRQuoAAAAAAAAAAAAYTZ8JuAIlAACAuC7oek1xUixuNSAAuyTC5rpOBq0nhF4vLrQiAAAAAJBsOp9kRXnXYxGNZ+P4AAAAAAAAAAAAGM90Puk8wA0AAKAS1wddrisiDEjrAbBz8sfTXmF1RfniNw4AAAAAaJJdPZz1vBf5HOP/tCQAAAAAAAAAAACj6rIi69d8+UPLAQAAIa4PuoT4aDkAdtZ0PukaxPq7isWlSaIAAAAAwD9mZdZlzN7HOikWtxoSAAAAAAAAAACAjTjJn87bDnSLwXJaDgAAqFXXB53CewBgl03nk5js2WeyaHZTvsa9N40JAAAAANQLZFwvLuK+Ya/7jtVraEwAAAAAAAAAAAA2J388bTXQrSifNRoAAPBRdZ3w0ua64svPp+9aDYB90GWRh8/up/ntAwAAAIDj9TVf/mj7PO2zhTGyq4czrQkAAAAAAAAAAMDGtRr0ViwutRgAAPDRSbG4bXNdocUA2CcRMheTQPsH1i3vBdYBAAAAwPEYIqDu9+Ky+eOpFgUAAAAAAAAAAGArYpJs8qA3q7ICAAB/iUk2bUJ6tBgAe2c6n7S5hyawDgAAAACO11ABdb8Xlp3OJ1oVAAAAAAAAAACArYnBbKkD36zMCgAA/C3CdpLDea4XF1oMgH11kj+dDzK5tA6sK59jwqpWBQAAAIADMJ1P4v7hUAF12U35alFZAAAAAAAAAAAAdkIERSQH1QEAAPxtOp+kXlMI5AFg7+WPpxEyN2Bg3Usd5DorM40LAAAAAHsmfzw9KRa3ESw33D3D5X08f9O4AAAAAAAAAAAA7IQvP5++J06afdZaAADAZ1In1sT1h9YC4BC0WfyhRWjdXR3qahIqAAAAAOyuWZmd5E/nQy5oUd8fvClfs6uHMw0MAAAAAAAAAADATkkPqlveay0AAOAzcb2Qcl0heAeAgzIrs9TfwLYTUk+Kxa1JqQAAAACwI2ZlFotMjHE/8H0RC8/RAAAAAAAAAAAA2EmC6gAAgL6Sg+oA4BB/B68ezrKifBljgur7JNWT/Ok8JsNqbQAAAADYjHpcXbG4zIryecR7f8/xPlobAAAAAAAAAACA3TUrs+RVWwEAAD4hqA6AozedT7LrxUV2U76ONWm1vkdXvf57cJ0JrAAAAAAwkFmZxYIUb8F0ac+9+t7n+5ovf2h4AAAAAAAAAAAA9kLS4LjrxYWWAgAAPiOoDgB+mZXZSbG4HXsi618LTDxHeF0dlHf1cFYH2E3nExsDAAAAAP4U986i4l7aeyjd2ItP/LMQRYzDc/8OAAAAAAAAAAAAAAAAAOBIbSGwbuXE15hs+6HqCbgRaqeUUkoplVBf8+WP9zCP//LHUx09NtWf/h0ic/Vw5lhUSimlVKv6635YVpQvO3GfTkAdAAAAAAAAAAAAAAAAAAC//Qqsi4mo254Mq5RSSik1aNDGe+jH9eLiJH86r4PsoGVf+T2Eru4zx/6k36yUUkqpQ+s3C6gDAAAAAAAAAAAAAAAAAGCt6XwSE1IFbyillFLq8APsypeq7oTX8U9/+Orh7FuxuIxAOseKUkoppY6hX/w1X/7QEQQAAAAAAAAAAAAAAAAAIFlMUBXOoZRSSqnjCulY3kdo73/546ne4JH4FUx3UixuI6TFcaCUUkqpY6no/whsBgAAAAAAAAAAAAAAAACgn1mZfSsWl4I7lFJKKXVUoXU35WuEd0R4b4SZ6RQeVv/2JH86F8qslFJKqeMLZi6fox+kfwsAAAAAAAAAAAAAAAAAwPDyx1OhdUoppZQ60lCPu+zq4UyHcE9N55O3cLry2f6slFJKqaMMp5uVmU4hAAAAAAAAAAAAAAAAAACbkT+eZteLC2EfSimllDqqoI+b8vWkWNxGX0iHcPdFuGCEDNp3lVJKKXVM/dXo/3zNlz+E0wEAAAAAAAAAwC8xEW7loJvqz7TQ/ls3sErrAGzWl59P3/3uAgAAAH+YzicRAvKtWFwKrlNKKaXU0YSAVP2eOgCk6gvpEO5Y3/QtUPnFfqqUUkqpYwmmi/5PjOnRGQQAAAAAAAAAgE8Iqjt8guoAdoegOgAAACBF3EM4yZ/OT4rFbVYs700cVkoppdRBh4PEMxKBdds1K7Poe9onlVJKKXXAQckvcZ+tDuW9ejj7L3881QkEAAAAAAAAAGAnxeSyWBX8W7G4rAe91FU+/zEQ5r2uFxf1CuIjDogRVHf4DjaobjqfxPH0azX3uw/H08vb8fS/Y6mezPm+6umszOwVwDb7AX53AQAAgE5mZfb+jCHuI7yH2H18zqCUUkoptc8V/RvPczerDkgWUKeUUkqpQwmhe7tPdlePKXwfLyiQDgAAAAAAAACAnTedT+pJYzH45aZ87bOKeAwOroPrBlxJXFDd4TuooLpYxT1/Ou876bL+9xEWGSujAmyQoDoAAAAAAGAXxDOLj/UehvvHQmE9xjgIrNtx8ex9SwF18bw+9q/6mX0EMOdP53/vjzYQAAAAAAAAAAAAAIdvVmb1oNqRBm7HgOEhBucKqjt8hxBUF/t6PVB9rNVUY1830QHY0PnM7y4AAAAAALBP4vlGhInVYyBGem772WJ+9bOTARfy47+NBtTV2zBCDyP8MBaR80weAAAAAAAAAAAAACrT+WSTq07HIPA+gXWC6g7foEF1+ePpJlcyHzOgblUApIkOtNk//zgWTKw4+N/3f7Z5h/OFoDoAAAAAAOAQ1M9yI4CsKO/GDjv7mi9/aPGepvNJvb1GWmzxfZG4eOZeby/PTgEAAAAAAAAAAADgX7EC9JiDetdWsbjsGphTD0b+pMYOIWND++WK7dslEOmz0LhRPnS1L8c+vY1jqV7VPVZzh3Xyx1MhY8clJtT8vc07/U7OyszvLgAAAAAAcGjiGWs8442wspFC0J49S+m+bcbcLif503k8P9XSAAAAAAAAAAAAALDKdD6JVaG3ElD31wDgLmF1kOqz/W7wN8kfT8caJN+m4pi2xVnls9AyQXWH7bPfeZOhAAAAAAAAPhGLPo0VWtdxEb+jFAsoFeXdaOF01etrZAAAAAAAAAAAAABoMp1PYhBu8oDdm/I1wm4i5CgCbj4NuYnBwrGi9fXios1rC6tjVDGZYOSgujge4hhpsb+/xESE38fSJ6u0x3+vQ8ViIkSL1xZWxzqxPwmqOy6f/R4LqgMAAAAAAFgvnqcMvfBfPCf2nGa9CJJr+3y8aaxLHRIonA4AAAAAAAAAAAAAWmgRUhcDr7sOlG47cDsrlvc2DkOLgexjBtXVYXKJA+DrQLAuA+CrYzbep00AZL0SPPzls31IUN1h++z8YAIUAAAAAABAoul8UoenxWJkA4Wn1QuPWcjvn3aOMSPDhQIu7+MZu4YFAAAAAAAAAAAAgLYSQ+pi0O5gQTazMksNrBOuxdBW7XuDvHj+eJq0mnus0D7QRIM4LpOO4epzWRWev326rwiqO1hxvhBUBwAAAAAAMIy3xcWGCVOL4Lt43qxV//svu3o4S3runhhQ51kYAAAAAAAAAAAAAPSQMmh6rLC4eF3hWmx+n/881K33C1f7adNg+Xp/HmNyQYvASXsA71aFlgmqO1yrfndNzgEAAAAAAOjubXGxYQLrjnoxv+l8Eou+DdKOxeLWWBMAAAAAAAAAAAAA6CklKC5WAB/zM8TrJw0ghoGs2s/6vm7TxIPRQureTeeTOFaajieBVDT9BgiqO1xZUd45LwAAAAAAAIxjqMC6eKYTz3+PqvFiYbiExdlSFm/z7AsAAAAAAAAAAAAAhhCDfG/K122G1L1LCauz0jVDiAHpYwTVNYU+ZkX5sqmJBKuCqD4OzLcnUO+3K4INBdUdrjgXCaoDAAAAAAAYV4yBWPVcpkVY3fOoC6HtkDrgr2H8Skp7eeYFAAAAAAAAAAAAAANqXMW7WFzu1eeZlVkMOv6sUkPuWv/76XwSgU7x2d8HTcfg58GCwPLH0xjAHmFS9XtExftVFcFoQw2yXvW9Bx3EXX2Xvu/R+nN+sk+sCuZ6D2pa+frrQuYSQh83OiC++jyNwY9DTGio2uTv/fOfyQBVu/z+s+oYHroduh7z2dXD2duxW96t/tzlXRxno4dk/jrOP36ef6v679WfN+6LLdtq1eSY2KZdzgutt0f139/3n49BiivP9+vO80MFQVavM/p7fPJ+v39Lqqrb5Ne5PvbVTsfriu+x6pzw/pvy6fde9f7r2mrI46Z6rT/PNeXzunPN72Nl4G3UZZ/4+9j+7HPH96qDgTcUZgoAAAAAAGzIr/EEvcLX4hlIPC86YE2LwqW0Uf1cFwAAAAAAAAAAAAAYUEOQVQzk3XRgyqoAnQikSQmLWjfAO/4s5TMk//tf4Uprg8A6eltZ/X/Bd0mDrn+FSnV9z89Cf/p+j3/fY3UQYeprtG3vvoP+U4PmGt9nw6GPdVtV77nieLqrA5F6eNtHV+8ziavZ3w0RltfqmK/OaXEuWRXOttHJH9V3j23U9rN8aL+X+ju2CAMb6lhYd8wOdQ5dFfa57lgbKpgs9u+Vn2uo/eB3QF/6cfT7tzDxt3ldKF37/e3z7bHuPVJ/d8c817z/PvYNzVv3PT/d7yK89C2crvW5ZqOhpgAAAAAAwGbEs4Omhfsaqu8z3l3VNO4i6bmzxYAAAAAAAAAAAAAAYHhNg323tSL3++eKcJeUcLqPNhZUF6ueJ4TItf7y+eNp38HpXQN5hgiR28R77GRQXcP+EPvyVgbGf/hcv8Ppen6OaIO+++hQ+2yrYzb2heqclhr+OGrgYGyXgdswNfRvZ4Lq4lzXsC22GVQ3xG9J0+v32RfjnJIyEWmfg+p+BdS9DHqcxOfpeA5sE1S3Lugw+bwY/R8AAAAAAODg1Itq9XlmuYUF0kZTPzct7/o8M7MAEAAAAAAAAAAAAACMZVZmTQN6t/bZIkQmIXDpM5sKqksNmWrznWNA+WBhPDfla9ugQUF13YPqYjJBYzjStsSxNFBIXtP37LvPdj3uU9p9iOCoD+fH565tOkhYXo823ImgurcJJy9dg9H2OajuLehxuPC1OqBwzb64r0F1TUG6vY/fDsGYqUF1Q/7m1NsXAAAAAAA4PLMy67OwVb0Q2L57e2b43KsNtrFYHAAAAAAAAAAAAAAci6bQpgik2sfvtYmgujaBckkfOn88HSu4KrZzctsJquscVNc0iaBLKNKuGTM4qm9YXdMxO+Q+0CeAa8iwvK5tuAtBdRG+NVYw2i4H1Y11DK0LTtzHoLpdPdes/Z6/gmGHDJzt8jsOAAAAAADslz7PMfc6rK5HSF2XRfsAAAAAAAAAAAAAgA6agoL2NVhrzKC6eqB31S5DBDn9lhhSVwehFYvL+A51VdsvdeB2asjNoQbVxfeP9/1YTW29qj4NNprOJw0hUnd7f75InCBRfdeX9/00Qp3eK/5/HD9J+3oESLU8/6w95qttti7gq/5cv46r+n/Htk79nCvCwT5Vfae0Y718qT9L/nT+u/2uHs7qbRBtm/rZVoRw/btfrz6P1J9l3fHQYXu0CU47pKC6lPC1t/auzu2/9sd6e6fuj6vC6uI35t9t/rLudVZt7/g8bbdH27ZKDXqrP+eK46TVuabFMdz0Pdf+edV+H881b7/h63+LPu4Xeq0AAAAAAHDA6uc5q5/fHFxY3dv3fe68gNMBLBIHAAAAAAAAAAAAAHthXYjLugCinf9eIwbV1UEz+dP5ynCzX6E5Ue9hOWvfqCGkLv6sDplbF6QT4VcNoYN1gNuK0Ko/2u5Ag+rGeo13sY2GCArcWWuC3v6YEJCwj9X7QIRJNYRItQ33Wx86+O8kh/pc0DCBoWm7tg3hag5IrL5zmzZseL3USSlDhow1bo9f58VV3//vc+iq99+3oLqmkLr47k2fuw7cHOi4WffdurTfUPtQSohh8rmm+t1c9Xv9R60I32v9+epQwX8nkKWca1KCQPf+dwQAAAAAAFhvOp+kLnKz12F1iQv5HUwoHwAAAAAAAAAAAADsrYbgqa7hRLtg7KC6v0OvIpgmQqNaf9B6oPnqVcJjcHZqaFVoCviJz9nYdoLqOn3XppChNttxJ4+phtXs6+CodWGKK85BjaFbLY6rNhMYWgU+xef8JHzqj+N0i+fcpiCulO2y0aC6CKP7a7vHOaFtONo+BdXFfjzYhJq33427vvv3TgbVvX23l/XnmuV923NNSuBk6jk6JUjv47mhTVvG310fINz8Gw4AAAAAAOy/WBznYEPcEp4HWdQHAAAAAAAAAAAAAHZEY6hZl+C1HTFmUN2QgX5NA8y7hAX1DUwTVNcxqK4hOGqfzxVNIU+dQureNYTVtQlmSg2O6hIa2BQ0lnK+XPsa1blgrG0UQXZ9fg+GDqrr8vnatudOBdXFZJu1+/jyvvUHa3zN8q7Pd9tWUF1T6GKfyVXN57G07ZAaVNf1XNMYPLnnoacAAAAAAECalIV49i6srmEhv6GfuwAAAAAAAAAAAAAAPTUGms3K7BC/25BBdXVAV1dV+461Gvi6ILimQCxBdV2D6lZ/p05BVLt0PK39bj1C6t7lj6dDBDOlHLN9AswiNK/PeWXdeWmIiRWrPl9K2N+2gupSAtW6tOcuBdXFZKAxjp+mwLSm193FoLq1x1iPfeVd04SulH5PalBd5z5Utd3GCHYEAAAAAAD2TyzctG7xorEWyRpF15C6eJ4mpA4AAAAAAAAAAAAAtqMxqO5Av9uQQXV9wpAawot6BfKsC+NpCq0SVNftu+7dRIBUDYGKgwWCVft83/ZLmMTwMtp5JSGMcNUxH5NLhmjDOO7jc8T7xGeNiSup22cbQXX19+4RiLqRoLqqDXu1S8Px03dSzbpgt6aw010LqmsM3hsoPHddm6WEwKUE1fUNJ13XP4g/04MFAAAAAIAjkj+edgmr67Mw3hjWLrY35qJpAAAAAAAAAAAAAEB3gurWaxoU3TcsZt1g8ghH6tUA0/mkaziSoLrhg+q6Bn3t/LEUEwOGep91gWCJQW5jT8ZYG8SV8BnX7fe9j/methJU1/O42ERQXd92ieCzMY+fCHHsGni6a0F1Y4a3ftQQ5Prc53sOtf+tPR/2DMEDAAAAAAD2UMewuqGemfW17jmQkDoAAAAAAAAAAAAA2GHrA6j2OwhlE0F1fQZ1rwuhGSoQLgKMYsB3fN+6qvesP/OakLr6swmqE1SXuK0ihGvI9+oarpi0DYrypfcHrD5Dn32mIfTvZZsTLbYRVNf3++5DUF1MoBn1vBCTkqpj9P08H8dkfOb6+ze0764F1cUxMFbI5B9mZdbnOG4KqhsigLBvKCYAAAAAAHCAOoTV1c8VEp6zjqlpAcWV41WE1AEAAAAAAAAAAADA9gmqW68xZKmHdSuGb7vt14UFbWL7pL6GoLoN7Q9rJjsMPalhXSheBC32OmaLxeUQn3HtPjMrs3X/NsK2dnU/2XRQ3RDBgTsfVNcQiDbUZ9yV9uu7D/U5tob8nWv67o1BdQMcx03voQcLAAAAAABHqktY3RYXzGpawG/F572zoQEAAAAAAAAAAABgR0Rwk6C6Ne2zfnD0c6/Pty6Qa8uhZpsIxzm2oLoIKNvLA6khaGvXjttNhMD1Ch5raM+oCLHcxkSRTQfV1d9zxP1lF4Lqdj1sbJeC6tb+2wFCDf+2Liz2JH8677NdU0I1G1XnAEF1AAAAAADAp7qF1d3tyed83laoHgAAAAAAAAAAAADwibWhUILq1oYsRchfn8+3y6FmguqGD6rbdvhg5+20ZoX7vmGNY5yTeoXIDbCdU95jXUjl7+96U74OEnbVwsaD6hrCwPruL7sQVLd+fx4+fG3b7denrWJ/2GR/ZN13b/p9bwwgzB9PR/8tnpWZXiwAAAAAAByxDiFwQzyfSzadT+J5spA6AAAAAAAAAAAAANhzgurWGy1MbjqfbCJQqytBdd2+67oAsr0NqtvwOWJt0FXPoLqhgp16H7v542nyZIyb8vWkWNxuIrRu00F1Q5zn1h1zux9Ut/3f2F0KqusTHLfpc1tjUN0Gfou33U8AAAAAAAC2r+mZxTafMWRFeSekDgAAAAAAAAAAAAAOQKyYvYmwlW0YO6iuzwDupgHjguo29zkF1XXfTmOER60Pqiufd2HfHeLYjaDLtpNG3gO0ot3r4LqBgveS2n6EoLohJprsfFDdunOCoLrBf7OHO9d0D6pLOU9t8lwDAAAAAAActrbPHbOifBk7EK71Z7opX4d+9gkAAAAAAAAAAAAADKQpMG2fv9sQoTcRODNKSMyszNa2e/54us22E1TX7bueFIvbTYa67ctxtMlz0iZCwYYKj2oKCk2dSPI7uK7nhJKNB9UNsX/ueFBdbBtBdamhfuXdYQTV7d65BgAAAAAAOGzrnkl9VvFce7QPMyuzCJ5rFVK35fERAAAAAAAAAAAAAMA6TYFpe7xq9TBBdatDkPp+vl0OCNx6UF1i4NauBdWt3ed2IJRqW8dRG8cUVPfevm0maiRNKul43hZUN3y7bPr4GfL43nxQ3eptKahOUB0AAAAAALDeumctnz7TiIWwRvkcqxcD/Ky+5ssfth7w/+zdT1LbytrA4QyYnPhMmX8bYAWZMM4S7hoYUkX5OnWKLbCJuwMIDqtgFdnGp1dgDhCruyW1ZBmep8p1/wRkqdWS48j6GQAAAAAAAAAAAFi4Q3w4eQ5CdctetxqBpMWF6prjZcn7ddB+mjkelY1nDtyfi45HnV+fLCFYJ1RXf1yE6uqE6qa4QWlUFLM5ZoXqAAAAAACARYlrjpvtY3Go7sf2d+kXyJVKXXva+9jcX9hxAAAAAAAAAAAAAHAEkt+sfcQfDBaqW/a6fcRQXSpe1C5vfXd6bMdRnAPmDG2Nikd9OdJQ3av5E7HDiMz1uYkkeXNJjzk3Z6iu2b6HqV+/hOrmOQ9XG6uZo5jJdW2Ovw99rgEAAAAAAD6m9d3pwUJxPZ+75jUVAAAAAAAAAAAAAGBiyZDOEX84eOmhugg1LTVAI1Q3fFtT+/Xr+uf3z3gc9fGpQ3XvXW5Xf61/fXsO1z0MitVFcOv8+mTs2NcP1dXZH0sP1aVjaId/fV1WqG57s5xQXX7fHPpcE+cHf4MFAAAAAADei2vSfa4n1rqmlvyCxH1fuFV4DRMAAAAAAAAAAAAAWIBsGOpIYyjLD9VNH1gaapZQXYXtX2KoLr51/iOFH4Xq+s2ZSY/d8+uT1dXtWRuu+7H9XR6rK9t2obr64yJU1yNUt6BzzVGE6gAAAAAAADr0isbFF1+NdKg4HgAAAAAAAAAAAAAwo+QHkycIxPT11/rXt77fqL34UF3lQNBc86HWc6w224ePGKqLkNiiw4/N8/eZX6mbCpp9eFN79Y49HjXnsRtzLfZByc0esR9Hjf0nDtWNfS0RqltmqC59bhOqAwAAAAAAjtjldtXni69KriV2ii/b6vFc8cVvdhAAAAAAAAAAAAAAHKFU7KjGN2iPEZG63Xq0wbrSbVp4qG63XdU/CF7BHHGcGrGvJYbq4oP4S/7g/W5Ox3+WjPPYcFxfRx+POkCIMMYsd/NHhCFH7esjDNVFyK/K+G7u/xkzLvHatfd3m3128Nf+BYXq5o5iJv+OUPB8QnUAAAAAAMCS5b5g7Y/rVj2/OHAndS1tyDVLAAAAAAAAAAAAAGChUtG0msGf3vZ8+3ZpsG7pobov67vT2lGoWiaP4yS2/ehDdV8y4ccRH/Kf4jjPBusut6vktlSWOm7jJoeh+/PDx6OaY6oriPaybs3PpBYxa6iu0txJhuoqnUfjhpmRobqbpcbGlhSqmz2KOTJAKFQHAAAAAAAsXepaWpUvXMtc9+97vRIAAAAAAAAAAAAAWLhU5Cj+7BBxrWTwK9Yp9btLD9XF8t9F+KaM8vRRIyKX3O7Mt7cfe6guFVwa/CH/sfZEH0uPidTvRchurmP+6/rn96H7M3e+qHV8HPK4HRscnTNUV+0cWuE8P2YbSp4j5u2U59Opxm/uUN3cx1YyQFgQ5xWqAwAAAAAAFu9yu0pd6x177XfyEB4AAAAAAAAAAAAAsCypYM0hPjici5lF0Gro9iwmVDf18psxjA+ex/P8+9jexPZH1Kp7vboDPjXCSjGXPnKo7nkMH6cO/vVcn5vU+qTnQ/c8Tf3eoPVM3ChRMmZzhJ2WHI9KBkcz5z2huj3Wd6djQ3VTjOu+c/bT499zfZxn2+UnbihaWqhu6teeF+fXJ2NvwjpkqC7Ok/7WCgAAAAAAlMh+DuT1F4dt7v8pXW72y9sW8MWIAAAAAAAAAAAAAEBt59cnuW/Trh2l6rS+O82tSy4kM3morsIHqb+uf37vXMer27Oxy08F4VJjkNru0bGggnn2EUJ1caws5cP4cUNBel3SYaXUPO1zs0LJcT92f3z2UF3ynPIBQ3Wp46xGMCx77JS+lnSc8yLMVuO1e+g4Ly1UlxzvirHcVAi3NAJ30FBdxecAAAAAAAA+vtyXrPX9Qp+nZXZ/pmCKzz4AAAAAAAAAAAAAAAuRCpvNFqsriNSVBGumDtWNDraFy+0qETK7Gbv41AfOU+s/NHBXIhXS+kihutz4v0SqJo7V5UJbReOdmKe1oo25dS09HhYdqotz29XtWRxDsT0xP0qjWMVzLhXgGhGqGxoJm3p/JMNoEYOc6Pzc93yYmtsxL8as5phYX/J1csANQ2NDdcnfr3isxPE3dq7PsZ5CdQAAAAAAQA2pa4hDvqisz/Jc1wAAAAAAAAAAAACADyjiWQeL1RVE6tr4UEEY6yhCdZnnGBUwan53aFwsHT4aF38q+bb2xYTqCr8tfug+eInVjX2eAcdA3yhTap6OjRe2mvmYOvZLo1mHDNUlA1WJuVDzfDomMpmOvg27geTg4cAR59CSyGPp3M8E9W5GnlMHR9dqvE4Wb2fx6273a0SETkdPmFx4s3DOHPRc44YuyP/9qzn/7TufxPET5/fJw9szvpcAAAAAACiR+vfKvtfJSz5TUu2aOwAAAAAAAAAAAACwQAVxrZdv0q74oeKI2OQidX0iMscSqktG4SJ8NSS0FNGvxIfDs9+Cngn5DN32VETrUKG61JyrsY9LYnGxDlUCTK/2X1FkKyJ5Febp6NhaZr72iSMuOR7VFeAqjW+WnbO6I1+5fZSJqT3WHKua+2PUuS7xOljyetQn5pYMsA1cz9xxmb2JKPU6OSCgVyVUlzlnTnyuefgI5xr4tJ6O8ZuSv2vOdRwJ1QEAAAAAS5G6jtPn2lWt5QAAAAAAAAAAAAAARy6iWUWRhx/b3218ZkRkKaIzqYDP0EDNsYTqnp6ne/uHRKxykY6Sdc+s003fdSoJpx0kVJf65vjN/UWl/ftQFk3ZPo6aV80+KY0BDokg5o7TQQGpTDiqvYGhR8RvyfGo1Hm1Pc6HRCkLj7F2f2fkbioZcp6fJVSXOtcPmOe5+NvQUF1uub1jlZmobEmEKTMnH/ruixqhuvackIkETnWuWV3dnn2Ecw18ShEYLXw/IVQHyxbHRtejZigfqs3LStFxAAAAmEPy2vj7a2wd73lLl1HypUoAAAAAAAAAAAAAwJHrExbbxcva0E7Jh43Xd6fxs32CEn3DNEcVqru6PcuM7UPJuMY65T4YXvqt5bmoUuk67YsDtYHDRExvMaG6oUGkgjHIffA/9lMbTSq46b2NQ23uL3JxpzHxrpfnqXmcloSjeoZk5rgRYvC6RkhwivDn0zje1DjuqxzzlY/Rou1PzP34s9J5ue91IzW2fUJ1T+ebClHG2N7meXPbXHKM547pdk73mI9VQnVfymKBvc41TwGrh9zfYZY2t4XqoN75VagOjketSDDMNS+dzwEAADgmJdd7k/8Wk/kiJf+WAwAAAAAAAAAAAACfUCr2VhCue4w4wx+PwpjWm8fm/qLmui8tVJd7rtexqYiXvTz3+fVJ/PeIG5WEBdvQVI/oUC4kuAtrRTCoXafnZbfBvGY9u9apjRQm9s+sobqCOR4Bo/i512PdO3DSM1a3L6iy79F7OQMjdTul86yNSHVFzeIGhgjrFcyvmmG0WsfsmOhNaQD0JVSY2P7dMZY7p/Y57rPLij9v9l0cB+1xHsG05vjoiobNEqorPI7bsXo+jl+OgeY/X0KPe+ZjO3aJG2763mBTcvNPrMdufF/2f4TWmv39PN6P1SJuzfKLXsufz/P/rkMz1/ecR2qF6kpfE+Nn2m3tmt+7c03BvO4biBSqg+N+vyJUB8vl5maObV46nwMAAHBsSq8xxzWi979beq1zyLUXAAAAAAAAAAAAAOCIRQRmaFxr7KMNoUWsaYBjC9WNDZkVfRi8Z/Rrin3fhp8yy54zVFcSaqoWI3raxzcHO55i7HvOgRrzdBet7Dtfi2NbhXNiCaG6ocf520BhPlQ29CaQoXHSrnPqXKG6Mcdxch2fY2w1YymTv6b2DLsOCV52HU81Q3UDzzUPvX9nYLxTqA6G/z0izhWvH2NvViyJYO+iw7vAatxMOcfmCtVBvdc/oTr6+uP1ZsR7YaE6AAAAPtp75uLrKK8/q3F+fVL6e3P9GywAAAAAAAAAAAAAsCDxYeU+caQ6Ua1f/xsSj9k5ulBdiDBPQWyjVlSobAzq7fc2lPYcI0l9AH7WUN3TNt7MEqp7NTen2s/JeFWtb62fI6o48NhffKjuZfyGxcEmH8fL7WrI3Dx4qC6eq5njNcfu9XypHUsZGgQset3suy5Xt2eLDNUd8bmm2pwWquMD2nf+G/P6nDuHxd9jDxkQEqqDuq+xQnX0+TesmvNHqA4AAICPpvQzAHEdffc7X9c/vxdfRx/75WkAAAAAAAAAAAAAwPH6a/3r29TBulh+PM/YdT3KUF2IUFTFiNXoQEelqFYb1nkVSltSqC7WK77Vfa5Q3e45a4a1pgo+JufFBLGtset7yHhU3+eImzmmChbGcT94HJvf67teSwjV5c77Y+JlU8RSqu//ETHK9rW957rMEqobcX7+yOcaoTqO2b448Ji/p6bOD+35vFakd/D2CtVBzddYoTr6/F1bqA4AAAC6xbWh4mviz//OWvo5kfh3WyMMAAAAAAAAAAAAADwFdjbbh9rRmDZQVykocbShutdjPCJiFL/bfgh8hvHMBbNiW94vb1GhuoHbWGVHX25XsZ9qBiB3+36WG+YrhRVj+1dXt2djV+eYQnUv49fMu1rBslhOe34be9y3gcryc/xSQnW7c8vQ8WzPmc0+Kd2O0bGU9vj5M9rU89h5qHHs9A0Uzhaqe71f65xrHmqcG4XqYODfJ/ecZ8Yck6nzwhJuhhSqg7qvsUJ1lJ9///w7tlAdAAAAvHv/XHhdqL3Wv747Lb6GPsWXqAEAAAAAAAAAAAAAR+z8+iTickNCW22YarO9aT/YvCcMNFasV8Qh9j3aIF6Bvzf3F13LmOsD1hEgase38IPisW7tmFYK1L3WJxSUHeeIIo0c267fHxPxifF+Wsb+SFcbhWrm7SSRhGa7nyOQN0PiSzFPasYee4ngXrvu5SGpdoybY6zmjf1TzIlZnuP1uXRAZC3mTPV9H7G6iOjFtu1ZpzaKF/s7sQ/n2B+d6x7HacFYtq9Fmbjf2NeS8uOnLA7YBkCniFE2Y/D0er7/ON7t83a89r1uJ87r1cYqnqOdlz1CinHejnWu+Lp9tOcaOKTmvFE78JM6FywhHCRUB/0J1VHn/PvnaYsbYAAAUUJJREFUv08J1QEAAMC797ub+4s+16FLf9bIAgAAAAAAAAAAAABZcZNuPNpQXMRkdo+r27Pdnx0kpPURXG5XuzFso0bNuMY4v4zrAfbzbv/G+nzIfbu+O2236xDf/L5nf78e60Ps977z4/UccQ7oN+/aaOLrc+hTQPFm97/b8Nec87LZZy/7b4K46NTH8Otj6GDHdN/z66s5cJCxf73PF3rMpsZKNASWJY7T2oGf1A2Ri9hmoTqoelwL1VH6d9ja80eoDgAAgA+p48tFur7MqOTnqn1xEQAAAAAAAAAAAAAAAADweUQgaK5QXQTiFrHNQnVQ7bgWqqNUnF+F6gAAAKDMarN9KI3VlcTsfFkZAAAAAAAAAAAAAAAAANBbV7RNqA4oOa6F6ig+93aEUYXqAAAA4E9f1z+/1wrVfd3c/2NEAQAAAAAAAAAAAAAAAIDeVj+2v2sHflab7cP+UN32YRHbLFQHvQnVMf7cu70RqgMAAIBCl9tVrVDd6ur2zIACAAAAAAAAAAAAAAAAAN3Or08i2vP68df617eumxe/rn9+f//zu0fcJNkus/nPfX/eFarbhYM6l7u+O51jKKYO1aW2sV1+sy8GL7wZo9g3sQ1Pj+3jm5tOf2x/7/7s6+b+n+o3oXbs89S4xTx7va7xn+3/HrFu8bsRt4rwVWq+PT/vTRvCmml+7cZpt47tfnjZX+8esQ0xDrtjasFqhuqy55bE7/2735vx2xPajD+LY2T0mKbmeuIY/ncdn/fxq3WMuVr72Eyea2ppjp2+z7H3taEjjBrjMfR14UOE6pptfH2u6D6fPc2fl/PG0NeS1P6c8jyZOqbGPO/z+HW+Lu5ec2JsN/cX1edFx3imtqnrdXHW1ykAAOAopP7dqzhS17wfN5IAAAAAAAAAAAAAAAAAQFJEU8be1Pg+ShX/WWuZu6jYHGMxZaguFf/bBZl6L/T8+iTiOu/jO31uRt2FoEaPXWKf7xuL1DoPiZtFhGzcHNs+ts87JhaY2E9PEcFhNxDv9tNSQ0U1Q3W9ltOMa24udY1n/N4Uc/2PY+nfdXwYtM9HRPVSzznHOXPIfKn5unC0obo4X7RhumHn9THzJ85Th4gXpM7ffc8hY8ev5vm26/j4Y+426/wc2nw8+rgiAAAwm9R7uNLHoH+PBAAAAAAAAAAAAAAAAAA+F6G6f00VqstF6iIo1TeQ1obPfmx/1xrj9sbUEZG20lBdPE/pPMqKuE9inw2NFK2ubs+qzanqx8L2seb61XCQUN367nTs/B8654tDde38HBYnrDEfh0Tk5ngOobr03Kp5Xu99DEb8NLWsKc49mecsju3tYm81x29zfzHqdbEwVFcSWhWqAwAA/tC8Xxr9nnFh/8YEAAAAAAAAAAAAAAAAACyQUN2/pgjV5ca3d6SuQvwqFcWKqN6gsSsI1eWCfb3CShOOw0vEbIzL7WrK9Ru6n6Ywd6gutr1WjKo9/kpDWAVz/eU8USGkN3Y+CtUdV/SrJOI5ap4Xvs6k1iOCarW3O/W6UPx8E78uxvFc8/h4PXdL/74kVAcAAOx/37F9HPOexwgCAAAAAAAAAAAAAAAAAFlCdf+qHqrLxKqWFKkbG+XJhuqaZfadR4cchzYOtv75fdBEqhwpq75+lc0ZqiuNHU4ZgUvN9XY9Y35OsP/7xgmF6o4n+jVlpK7v683q6vYsGTHo85pVNIe2N6Pm/JJfFzOhuj5//xKqAwAA9r733dxfjHifeGMEAQAAAAAAAAAAAAAAAIC8iGptfv3vzSMTV/vj558fu6hM/Ofen0kud/8y29DL5v5ijqGoGqo7YKSu+bnHuNk0Qmbtvvjv/X/aR2L7xkZ5cqG6VIyoV9ysxzhE/CmWFWMQ+y8CTE/jsL0pXcaQOFDJOLdzo5nXsT7xHLvHv/uqcF/3DMFNYZZQXYSdLrerrmPq6bzU7Nfn8Wv3feac82aONsuuMdd386trn+/OZ+/Xs/TY6HNcLjVU9+c5fvuYPpcNe104luhXaaSu3e7nefP6fNFnDpUej6l90jeYmHtdS74Olb0uPvZ9XYxH73PtkNfFrlDd87b1CewJ1QEAAHvfd2Ri48fwBQgAAAAAAAAAAAAAAAAAwBGqGmwrXO6H2u5MTK2N1PQIY7XrlohjvYnf5UI6zfO2oaxMwCuiPrXWr33OrnDXcyxoF9SLdUuFkHLjEMtsf78gAtiG67Lj8Ot/fcYhbvLN7aN43qKFNfsyF7Hqu5+mMFeobl8ALv6/3Jwv2c8xzjXm+r7jPv6/7Jx8Pi5LYmVLOt/WeI5c+G+KebmY6FfHufHNI4J8Ja8XEXLMhM9KX3tyc7zW5sdxkdzu3D4uPWZy29z8eRv8y78uPlQ7PprzVmdQb8/rYt9IHgAA8EkkAuA1Y/gAAAAAAAAAAAAAAAAAAG8I1Y3Y7pJIXd8bQTuCNqOCTpn17LvMTNjoZl+griQm9+c+2j7WHtvcOPSZ86nQURtMGrDN8fyp5abCfnOYI1S3Ny63/vm91n5u507hvimJRr4JW/XY57nQYZ/5KFS3/FBdLkTZ+9hu5lpumSUBuFxAr29oNXE+fxj6HLEPc1G+XueIwtfFPvskdXy8j+yNeV0EAAA+t9S/lSX/HQQAAAAAAAAAAAAAAAAAYCihujFxqMqRusx6tcu9uj0bus2pqNEU8a423DUwchTbmYwnDRjbVrONo8NOz5LbPUYzZl2xujaAd0Bzh+piHAbF+TLBx9KoVa+5PiA6lQuNle5vobrlh+qqhRh77JcIGBS+lt1MsV9en9PGnC9zIYbB+7iN1WXGr/R1MfPa/TrmKlAHAAAMlQ2WL/DfkgAAAAAAAAAAAAAAAACAIydUN2y7s9G3ISG1RMynjRk1zzl+u8cHiUrjXYNjcpnnGBuCS+67wmXHHKkRu+sSy+gc14HxvxrmDtUNitT9O9cfxh5LJXO9Pd5H7JNc4KokaiVUt+xQXfJ8MfKYjmNk7LJTYdDS2F3ynLv++X3wMZ6JTtY436bmdnHUsiBUN/ZcAQAAkHp/NWmAHAAAAAAAAAAAAAAAAAD4vITq+m93KnTW3gB6dXs2ZJ1ScbI2FlQQrMpKxPBKI21FobqR8aBk9GfksrPRqJHLqBLGavZTjEGEBWO8I+bULrfGHBhhzlBdG3UaIRXwKo1vlcz1MTG93DFZej4Rqlt2qC4VEqgRgotjZez2x3pMER19XvZD5zGeOafVCIuOOZ/HOXj0a5Y4BAAAUEnu37SW+r4YAAAAAAAAAAAAAAAAADhiQnX9tjsVHBobrUqFgkbHsF5vQyL8E9Gs7Hpm4l0l8aESsR/iEaGueM54xLrXuME2GWUqWPfUPIh1/Kjni1lDdWOjTpkAXNE8KZnrVc5H+0NepfNJqO4Ibshf352+nNOez2cR3awRL0tGTguXn9o3o85pieOwaG4nInxDo7C953fBa0IuVFctNgsAAHx6fUN1Jf/WBwAAAAAAAAAAAAAAAADQSaiufLsjFjdVpC4iRsmbSmsGblLhoPXP79mxy8S7jiHUNnbex88cRRyrsrlCdbVih2Nv1M7N9QiEVZmPqYBbM1eXcL5dbbY3QnXLlApnFo9r4nVhTJAxtW7xujf0PFsrElnyXCWv7dlQXYUgIQAAwPP788fSSF3t904AAAAAAAAAAAAAAAAAwCckVFe23aur27PJInVf0hG8CERV3/4f299DnysX7xo7FnOIwNioeX9+fZK8EbggLnaMZgvVVRq/sQGz3FyP80KN9cyFD/Pns+3D5KG6xFjUWIZQ3TTzp8+4pmKEQ+d6V0Ah/v/c76Yid1MEUccEKbOhukrnCgAAgNz7j8/w71MAAAAAAAAAAAAAAAAAwIyE6gq2e3132hV2K43Y5KTCaWMCTn23v+QG1ly8K8Zr8fM+sQ2l874rwPQqxPRwDGPRa57OFaqrNOdT+6hGqO7L5XZVZWAz4cP486FjOccxU2MZQnXDVQvVJYKsg4KpzfmvMzS3/vk99+sRoxvz+73neGfAteB1MRH5KzmGAQAAit8DJ/4NcY7INwAAAAAAAAAAAAAAAADwyQjVZbY7E6mrdcNnan3+Wv/6Nuf2Z383FZtqxuo45n13VKh03kcoqeSm4DYU9UEiRXOF6mrN+bHnt2yobqaxza2rUJ1QXa1xTcUd+57HUvGEkmVF7HPO/dodcN0+jprbBb8PAABQ4731HF9+AQAAAAAAAAAAAAAAAAB8MkJ1ie0+vz5JRXtqReqe1ifxPOuf32Odaj5SAaBcQCgd5Pn1v1l35PruNLYnwmaxXu1js72J9Ug+EvHB4nn/ND8eim8ObtarDbBdblfHer6YK1RXK0KVOs5L1jcTn3qoe04aHuUSqvsgobrm3NCen69uz3bns3idyZ7PEnOnd6gusY/itajG61rpa2dqv87+ujhm3Cr+XQEAACDeM5b+W9QUX34BAAAAAAAAAAAAAAAAAHwyQnUd252JkNUOz5TeYDrHI7ffU0Gevzf3F5PuuPXd6VOMLh2bm3L7/1ifAesRcyvmUHvDcLOMYzlfzBWqy8USaxzn40N1daOMY87FQnVHGqq73K4iuPYUo+uOlY559B7XZp2qxBmb81rncq5uz47tdTF3np5qbgMAALwX73Mn+TcuAAAAAAAAAAAAAAAAAIB9hOr2b3cqUjdFkO2jhOqmCvJE0C27Tw4RqgsDY3Vvxq35/Wb7btpw3eV2tdTzxWyhuhmO82MK1UXM7OBjmQrVFYYFheqexDpFnG6O89mQcY1zUee+Ljw/xWtkR+zusWglmjnldREAAGD/v0MJ1QEAAAAAAAAAAAAAAAAAsxGq2xvSKQqira5uz2qtjyBPh4jAbbaPS9r+7vXsnlO941LNspZ4M7FQ3ZvzxM1s56TMuh46VFc6Vz99qO78+qTmeWKyUF3z2jY20tp13i5dn9hvH+Z1seLfFQAAAHLvg5f2b7AAAAAAAAAAAAAAAAAAwJETqhsRAPqx/R2BsrHr8qGCPBVDdRH3iTFe2vbn9uVHDtbNEaqLwNUcx/noUF3lKKNQ3QcP1bWRurII6qFDde2+6jj3lhyfqdDdl8vt6rO9Li4xOgoAABw3oToAAAAAAAAAAAAAAAAAYDZCdWNDYtuHCBCNXZ+PEuT5uv75vcb++Wv961ufYGC7Pzf3F7Fusf77Hq+jglPN+xfNc8W61ApTxXgs4biZJ1T3639zHOclc1WormwshOoyLrerPtHNmAtfN/f/tOeQq9uzznPas1TUbei4xvl06JjGune8Xt6UPr9QHQAAwLD3wUJ1AAAAAAAAAAAAAAAAAEBVQnVFMbrH1J9HlGfs+iSXv/75vStUNMUjF96bPMjTPH9J1KkNOV3dni1p3nduT7OebUhvRCBxCbGjjxSqKxnPZJSxwnFfuq65UKFQ3bKPm65w2/t53+7nAeHTKUJ1EdcbOve7zt99gpu5UF0s61O9LgIAABS+DxaqAwAAAAAAAAAAAAAAAACqEqrLRupuIlATkbFcNGfM+iw9tPRm7CYO8qSW3+6TH9vfY59n1lDdHm2EqQ3XpSOI77c74lGH3PdCddOs59h1nSVUV+GY+ZShukTwrca2v5xPJlh21z5vz0VdvxNRzp6/43URAACg7/u17UPBv2k+GCkAAAAAAAAAAAAAAAAAYDShuvJ4UOom0DbCs747Hbo+gjzPzq9PYiyT49z8zFLn/SDNvMmFEKeKo9Wcp32DWKn9vJTzm1Bd2flPqK7b1839P1NGTtvnWP/8PsW4xrr1Xe/O7W3OcV4XAQAApv83hKX8GxIAAAAAAAAAAAAAAAAA8EEI1e2Poe2N8KzvTpMRtc32YWhErfndx67lRoRoUXMmFZu6uj0bs+yYczVjaEPG+2BRoZhfifV6OX4ut6tD7fuqoboZzhHThuqa473qOWn4nJwjVFcjGvYZQ3VzRANSocux58yu17xmvt70+fkh563k2I18rZnzdVGoDgAAqP5es3kfGO8pU48hwXAAAAAAAAAAAAAAAAAAgD8I1fUL4ETALhXP+bq5/2fY+mxvOpe7sBtLp4pNtctuxj4RBnustQ2LDVudX58k58KBw4VCddOdy8Y8z+TruL47Faqb4JipFFtLvp6NPCenInjvw6xdr49Do45Tbtecr4tCdQAAAAAAAAAAAAAAAAAAAADA0RKq67/dEaOrHRJLBpyadV3UnJkyVDfDOKRieIuICl1uV1PEEGsQqnu3ns2+mmOfj9kvNeZzrWPms4Xq4rknjwhG3PLH9vdkQbfE3Hz/WtcV2YyA3aD9mojkHfI82HduC9UBAAAAAAAAAAAAAAAAAAAAAEdLqG7AdkcYaLN9SAaI1nenfdYnGzSqFcSqMXYThupSYaL4szr7fn9MaUlRoVQM8ZDhwo8UqovjeMxcHxPg6nP8l+zv1PmoxnxOHpdCdQP36/axxnPEHKx5XPY5jmLevX5d3PszP7a/S461vts2Zrlzvy4K1QEAAAAAAAAAAAAAAAAAAAAAR0uobuB2r+9Ok3GgiBD1ieh0RH5qxoaqjd2EobrUfqkyBplxXkxU6HK7mjpwNcSHCtWNnOvxiKBglXEdGWic6jy+O2YiCiZU118ytFYpOJna97XOm6nt2EVZu35m1DGSOA+2y17//H4Mr4tLWk8AAAAAAAAAAAAAAAAAAAAAgF6E6oZvd8RnMrG6m37rtL3pXNaP7e9qGx/hqdj+zf3FkH08ZaguokZTRsFSY1y8/5vxi5+JbY11apb5MEUQa+rAVc11+qyhuva47BOk7J6Xj53PcXV7lt0vidDd6GMyc54TqusWzz3lOT3mRm7f1IqcdsYKn0OKXefWXchuimO4arTzcruK52rHa8A6T/m6CAAAAAAAAAAAAAAAAAAAAABwMKkITASKplju0re7T9goFz7rM4a56NBf61/fqmz7u6BOBIhiO9rlF0S3pgzyJJc9MtCWikb12f9dwaa+YcKhc+EzhOpqxcWmDtXVmPO5eVlyTMaxO1XMKxXRqxqqG3H8HGOornTfdorgaFc8boLzUlcMsZ1fzbpMFZJLze2a+/d9JDXGNv6/JbwuAgAAAAAAAAAAAAAAAAAAAAAczPs4y5vH5v5i6HKnCNVFMCaCL/sefWM11SJZEQvKhJy+rO9Oy9ere1kRzumzrL2a308u/8BBngj7JcfycruaYrl9tqEr2NR3Xw89LuPP5j5eXrZdqG7vcTN4fTOxseLIWHNcTBHzSs31IcvPBPUehu7npYbqcvtlcHy0Oc+UBASrhi0T29IVbB0Tu31zHKaPkYehrwtFr4vPIb5Dvi4CAAAAAAAAAAAAAAAAAABLtr47jRvb9z1KblYGAFi6ZFxlRDhoilBdapmHjGTFz6dDQWWhm3a9rm7PJotiRdwoEfwpjQpNGuTJhJ2Kw107TyHBm33jODgEN1V86lkq5tWuezNH5j5edoTqKu73p7n5UCuyloxcRqys5/vXZMR04HrmzpVD32MvNlT3pSA+2ne/7IlupubRkOcYcjzV3J8l21wr4hrzI/V6UHpcC9UBAAAAAAAAAAAAAAAAAMAnNUc8AQDgkHIBmGy0a8Dfo6b4u9mhI1m5oFUbiipetz/DamOjWPHzqRhPG9OrsK01gjypsFOv54gw355lxb7IBQEjRjd0/rwE9TLLGHI89tpPQnWzhur6Hpe5EFyfc8buGM/MnYeiObknoBfnjtR5qXh/Ncdkdh0HxM2Sr2HNMdUVn6/56Frv/GtDc64o2eZEdDMb+KwUSsvNsRp/dxh8zm3Goe/rYv582+N1W6gOAAAAAAAAAAAAAAAAAAA+J6E6AODDy4SDdvGgCK1E3KsNnsV/j4BL87tD/h41xd/NlhDJyoZ0StcxgkSJqNzr/RKhnc74VPP/P+2rdPit7zZPHeSJdSmak818fB94it+NMXkf2noTdWp+J/ccMWapMSkNNsV6tPGkxLHSHoOb+4tsoC/WPbWcCY+XHaG6tyGufcdpxMTafb4vPtb8f8/zs+ox+e/25udQbFOs3+u4Wvz3OJ664nnteSQxFr3OH5lzW7sNzfHQvtY06/R8DrtJRcj6xASnenSOQcH5/CWy9v5c3hzv7TgURAKTIdLn/V7lmCp4bWqfM87PNcXrWdnrYvfx9/p8W7CsXudboToAAAAAAAAAAAAAAAAAAPichOoAgM/xd558NKnv34c+Y6iuJEhUvOz13WlpEOh14Kkr0JZ6pAJQe8duhiBPhIR6bnd2Dr8PvRVFj179zPt17Ip65df11/+eHv32Ve/9JFQ3aagu/iyic0VRxZ77ug1QDlAaUOw5Zx9yy+6zv4YcN7n5tehQXcyjq9uzvmPe95xQMq6vz2dDzwFFz9Oc5yb5y8pMr4sv4cCFvS4CAAAAAAAAAAAAAAAAAAALJFQHAHwGQ+NGQnV/it/NxtLOr0+KFhZRnoERwdIYz5BtnSXIUxD967utryN1oU8Mr2ve9l3G0EffaFLt4+Vle4Xq/tjeoeG1zkhds7xx21zvnNFG6p7PV6lzW6/9dbldfbZQ3fN+uZn0nNAz4jb4XN08z2TLLn1drPjaUPJasZjXRQAAAAAAAAAAAAAAAAAAYHmE6gCAz2JIrE6obr9cvCyeu3hh59cntUNYzwGqxyExnnbs5gryPIX6HqrEti63q77bUjpvY75MGRQcEqmrfby8zG2hur3b+3X983uV47LG8RORx8R2lx83zXnqVVSzWqhud2z3jI0de6juab/UidV1nhN6jOuYuZY7L3edb6tpll9jjvd5rVjM6yIAAAAAAAAAAAAAAAAAALAsQnUAwGfSBrd6xIOE6lLLT4d8+q7vUwytTnxqaPjsZdtmDvLEMvtGrdp1aX6nXZ9Xsa19SiONufWM5dQM1kWgcEzwSahuvlBd+7NXt2dD93/8Xu33l30ijO/XZd++rBqqC21srDxEefShujfn8mHzpOicUBirG3OuTp0zI8Y3699ZqsRMj+91EQAAAAAAAAAAAAAAAAAAWAihOgDg01nfnUYMp+vvQW3EqPmzNrySCOb8vbm/aH9uz2PoqqWW2Tcyk1y/ZgxGj2MbYdq//JfnGRIhi/2z/vm9T7Qu9lkbOKqxXV92QbY6+6HPeD7Ny3zg6SW0lQnUvV9+rPvr59jN9fb/6xEaimDZ0/zqH6OK6FLs3zGBuimOl9fvj2Y5Bitsf43z0JD4VLxPjDlTElKMn5vyfWWfwGV2H0YArfY5szlGX/bRnrhaG5uM9W9+JhdGPfSj7xi0Ac7CyFrvaGUzrq/OQw+v93GE5OK5R827Zlu71nWy14DM+vQZz935Pcan1rnmIK+LAAAAAAAAAAAAAAAAAADA4QnVAQCf3uV2FX/v8XefZdrtmzZIFaGe5hGhs5d91ifWdmRzsg0DPW9z/PdFbu/zurZxwed1bUNRz7HH1/vLbF7g+8EBobo3mvn4+vg85DztOk8s6ph5NV4f8tyV2OYIy/2xbyrFRWvrCjFGWPAoXhcBAAAAAAAAAAAAAAAAAABqEaoDAAD4pO8Hx4bq4KM5vz6JIN3e42Jzf2GAAAAAAAAAAAAAAAAAAACAT0WoDgAA4JO+HxSqgze+rn9+7zomvlxuV0YIAAAAAAAAAAAAAAAAAAD4VITqAAAAPun7QaE6eHtMbLaPe4+HzfbB6AAAAAAAAAAAAAAAAAAAAJ/OhwjVre9OI6LwdXP/T2p74obz+PP42dXV7dmX8+uTQc93uV3F2Ox7xLpMtp1TPW/zu1/XP7+3Y9M+3t6Yv/qx/b37s3aMY+zm2q4Of61/fXu9ri/7tva6AQDAR34/KFQHL/7e3F90HQ/xHtQIAQAAAAAAAAAAAAAAAAAAn87RhurOr0/a4Ny7qFrfR4TX+m5n3KCeWubgAF5GrGtqO/qOX9yEP3T8Il43ZOz2zsFEHGPf2KfWWUwDAAB6/F386vbM360hcyw073+nep8PAAAAAAAAAAAAAAAAAACwaMcYqmtjZT+2v8cE6v54bO4vim88j0he4vlj/SbZV4nn/LK+Oy1dztf1z+81x6+N5I24ab80VJcK9YlpAABAf/Gez9+t+fQy7/EdCwAAAAAAAAAAAAAAAAAAwKd1bKG6iMBVDdS9vvl8s30oDa6lomkxptX309XtWXK9S8TN983PTjJ2P7a/hwb6SkJ1pftdQAAAAMoJ1eEY+Pl/qffJzZ89GiUAAAAAAAAAAAAAAAAAAODTOqZQ3ZSRut6xuvXdaWo5Xy63q5rbngrjfV3//J5dwISRutexuhiX3nMwF6rLjLWYBgAADCNUx6fVvEdOvc9ecsAfAAAAAAAAAAAAAAAAAABgNscSqiuN1EWMLYIK8Yj1j0eE3OIG9NS2vgm/NT9bNnbd4bfaUYeIwHXG3HJhvR6RuubnHpvHTYxZjPluLEvHbkisLheqi/URqgMAgPqE6vjwLrereG/7+t8H/t7cX6TeY/f9twEAAAAAAAAAAAAAAAAAAIAP6yhCdZfbVTZStrm/KAqkFUbb4jlzi0rF8yL4Vm0fXd2ejblxPhWCex34y45f7IeCG/r7bnsyVNex72MddhG9XVAv1i3+u6MaAADKCNXxmed49j1yLgoPAAAAAAAAAAAAAAAAAADw0R1DqC4XWhsSJ4uoWeam9JvsQiJ6l4i2FYXzivbR9mbwPmrWIXsDft8ARUHsr88yU/v3/bbvAnWCAQAAMJ5QHZ95jieD8N5zAgAAAAAAAAAAAAAAAAAAHEmoLhGDi+Dc0OXGzeedUYbmOccuo725fazz65NExO1xzP5tl3F1ezbZ+BXe2J8LEb7a3ocvl9uVoxYAAOoQquMzz/HJ3scDAAAAAAAAAAAAAAAAAAB8FIsP1V1uV6mbyMesY+6G9S/ru9PsQpqfGRu7S/lr/evb4HBEZuxq3IC/2mxvxoYtSkN1RfsDAACo8p5IqI6PPsffh9Hj/bcRAwAAAAAAAAAAAAAAAAAAeGXpobpUqK2Nl43e/u3j6NDaZvvQuYyr27OR69cZgosQXep3/97cXyRuwn/8cn59MnoHJWJ4MS5F21gSqmu2xdEKAAB1CdXx4aXi8vHvAfFeM/PeGgAAAAAAAAAAAAAAAAAA4NNaeqiudbldxbrE4+v65/cIJrRxswrxslQkrTTMkIrpRWhu8MqdX5+MWW4qwhfrXGv3fN3c/zM0ppfbB+22/tj+rhLVAwAA/njPsXuv9f4h3sVH82Z+AwAAAAAAAAAAAAAAAAAAkHcUoboJxTaODdVF3CFiap2xtoGRtWQA7+r2LPnL67vTVPytavjtcrvqep4IC2bnYCZUFyE8RyoAAAAAAAAAAAAAAAAAAAAAAADMSKguEaprxqZ0ORFT61pOBOdq7pvVZvuY+91k5G6zvak+jzpCfSXPlQvVDR0/AAAAAAAAAAAAAAAAAAAAAAAAYCChujqhui/ru9NEGO6h94pdbled8bbN/UXu1+NnOtfnv/f/mWselYxhLlQXY+tIBQAAAAAAAAAAAAAAAAAAAAAAgBkJ1VUK1bVjuX3ojK1dbld9lvV1/fP7mGWl9utf61/f5pxH2d9NhOpWP7a/HaUAAAAAAAAAAAAAAAAAAAAAAAAwsw8Tqju/Pon1jUeEz+LxdXP/T2xf+tEdl+sbqkvF5WJ9+u2X/etVuk7N7z92rUus526saj2Skb5m3yTXNRWq67kPAAAAAAAAAAAAAAAAAAAAAAAAgAqONlR3uV39tf717SlG1x1lG/PoHUk7vz7pXtb2sc+2dS0ntrlkEVOMx9BHbh6lQnV/b+4vHKUAAAAAAAAAAAAAAAAAAAAAAAAws6ML1V1uVxGnmyOw1jtU10itW+l4fl3//L53fX5sf5eux0cJ1cWfOUoBAAAAAAAGOr8+iWs1JY/4wqS4NvPmcXV7tu9nY7lHNQ7PX4LVbtPm1//+fWwfXl8b3D3aL8t63v6j29b13Wms9/tt3V1vfPP/be4v4trkor/AbMDcjjFw8AMAAAAAAAAAAAAAQAVHE6o7vz5ZbbY3cwbWhoTqYsy6lhc3tJTtk39viBny+0GoDgAAAAAAgNS1q5rX1HZht8VcX3wO07Xrtdk+jt/G7UNE3ZYarov1qrGtcT02wnUxfsc8t4dc5wUAAAAAAAAAAAAAAPY4ilDdU6TuYe7A2tAbGLpuAFn92P7O/vL67rRrfeLPSp5/jhuOhOoAAAAAAACW71DXjSJ4FqG42aNul9tVBNsm3bYf29/tNaxDB+ua54+oXI0QX9e10nYfHuHcFqoDAAAAAAAAAAAAAIBKFh+q6xmpi+2Jm0/i5pC4cSK2Yd9jt/gpbmCIG0K6lpm7mePvzf1Fx808D33W4aOE6mIsHaUAAAAAAADDHPoLjl6iblObIVC3pGBdPG88/0zRwcfV1e3ZMc1toToAAAAAAAAAAAAAAKhk6aG6VMTs9c0RbdBswE0gk9zA0KxHYl1v0vtj+zgkcPdearxirLoCflM8cvsltY8XEUsEAAAAAAA4UocO1b257na5XU2xjakvkZorWPdlfXc6yw5tnqfPl3wdyz6sPbeF6gAAAAAAAAAAAAAAoJJFh+rOr0/ixo7kTRGb+4sxTzHVDQxfN/f/dC23M9y2vjvt/TsdUmO2tPibUB0AAAAAAMA0lhKq2wXd2i+fqih1TW7ubev7xVO9t/XAQb7Zo3wj5rZQHQAAAAAAAAAAAAAAVLLkUF0qYBaPGjeyrK5uz6a4gSF1Y0TXekd0b+/Pb+7/6fv8QnUAAAAAAADkQnVxnab3Y7O9ieto2S+cSjzn6A2LL7zabB96Pe9m+xjX3eL6YIzLH9ehLrer3f8f1/NS11En3bY9+gb5Yh/FNrxs5/svxWr+d/z/T/uz33YuJVYnVAcAAAAAAAAAAAAAADNYdKgucXNJ/FmV50hE0sbewBA3u/RZ966fH7IfupZVK/BXdT+n9sHV7ZmjFAAAAAAAYJhcqK7Kk6zvTuMLmUrDcW3o7HK7Gvx8fSN1zboNDqvFc13dnvWJudWO1ZVG6tp4YFxbex+lK9Hsj3YfFsYH23045HlmmttCdQAAAAAAAAAAAAAAUMmSQ3XJmx8qBcxWm+3NVDcwRBCu86afdzffdN1IEcG52tvV3oyzpDmYCtVVvpEHAAAAAADgM5klVPfa+u60JCI35jpcabgtfm5UEO+dp2Bd95dFTXGdtWRbY53+Wv/6VmUjz69PUtc43z3vzVLntlAdAAAAAAAAAAAAAABUsthQ3fn1SfKmmUo3laRuJhl9A0NqG97F4rpuMokbQQZtVyr+trAbM4TqAAAAAAAApjF7qO5Z6vrPmC+miiBbdrk/tr8jmDfVthXF42Idzq9Pph7DNsY38nn2PndE+ZptmGIfzjG3heoAAAAAAAAAAAAAAKCSpYbq5rhpJm6cSN5YUeEGhq4bVSKQ92ZdOm70GBrky45fpdBflf0gVAcAAAAAADCJQ4XqQi601sbc+rjcrnLxtKkjdTvxpVTZiNuYa43NNhRF6qbUrEN2vN9d81zK3BaqAwAAAAAAAAAAAACASo4xVFfrhoeuiFzNGxhS27Eb365gXrOdN4Of+Pz6JLltCwrACdUBAAAAAABM45ChurDabB+Sz98jKpe9tjdTpO5lfdY/v+dickOvt+bGbfJI3U5BrO6v9a9vS5vbQnUAAAAAAAAAAAAAAFDJMYbqatw0k1t+zRsYIqyXuoGk66aaCNiNfN6b5I06tZxfn7TzaHN/MWTOCNUBAAAAAABM49ChutzzR+ytaEGX21X22t7Ia2tDpK61Dr3emLp29vxlVw+zbmN2fQ4ThfsoobqYtzHGsc6pQOHzn9+0109HBBlj3LoecZxNtqHNOnc+7/n1yZjxi+vUT+PTPN6FFWNMd3/Wnm8qb2PvsWz+//h8wOtzx279vGIBAAAAAAAAAAAAAIu01FBdfFA9edPMiA/fP4XV9sfjpriBIT7w3hmLi3V592H55w/MP47et/Gh/MT2/bX+9a3KHHp3c0psT9wk0S6/4KYCoToAAAAAAIBpHDpUF5LX5Db3FyXLKIi33RxkgC+3q33X+t6Mcc8wVnZ5Y66TDpG4ntnuv7nXp2BuLz36Feue+tKxkkeMfxte6xl5S8Xwdl+0NsUcqjmnx45fjF17HXpEIC93fvvjOvdzoO7Q52MAAAAAAAAAAAAAgN4WG6r7kr5pZXDAbH13mvrw/SQ3MFxuV6mbZsbclJPfv91BvjaUN/bGkURQcBfiy66jUB0AAAAAAMAklhCqS12bK7oe1xFK63tNaipdX1o1JP4VXwRVI+w31TYeOk5XOrcXG6prv1Ct+/r8oOhafInY1e1ZjTk21bGUfM7m/FC8oILYW9+xG/vlbkXXuQuClkJ1AAAAAAAAAAAAAMBiLTlUl1q39kPyl9tVn+XFh8zffwA8eWNMxQ/i9/1G977b1vm8V7dnuQ/fD97PEf1LfKA+blgpWkehOgAAAAAAgEksJFR3MyYottR425ttzESoeozV4xzXEIfOpWOZ24sM1bWRurIvVBvyKA4iZsKPY8Ntfc8Bpc8X+7sk9jYoWBfzZeDnAkquc5fud69YAAAAAAAAAAAAAMAipWJwERqLD3xP/ej60Hc8f/oD49uHopsxmuXv+2b1NkS3vjtNPkelUFouGDfljRMlkby+Nxzsi/692zePxesnVAcAAAAAADCJRYTqUteCCq6LRYhuqfG20nUsirw125G5NnpjRpfN7cWF6iaO1PW95rvv2vlk86zZ9rFfHJeNVVaJ1W0fhsTqcte5U2MtVAcAAAAAAAAAAAAAHIVUqG6uR+rGjAieJT8w/mP7O4J2f9yA0vzvNqZW8O3sqeeI5bcfIh/4Dep9tmWyb6mPGx8Kvl0+Pny/dyxfjWmMRcl2FN1ssxsXoToAAAAAAIBJLCJUl7heVxIUSwW+FhMky0XmCq55Zb/E6+r2zIwum9uLCtX1iNRF1CzmSlwvju2Lff58ffam9Fpz0XXazJe51Yw/piJzsb1jz2Hvr3dHNLL9nECMW1yHbv536dgNmTfJYz5zXhCqAwAAAAAAAAAAAACOwtJDdX0+eP7y4fPCD/nvniM+nN7rOQbG01JBtjffGj+F9d1pSazu3Vg+lo7nmNCeUB0AAAAAAMA0FhKqGx6aO78+SV7ziy9hWoixQb3cdVuzuXxuLylUl7tGHNdw2+urBV+c1obrMtd8S7c9NV9rHlepUGU2qvcU+ctH5jb3F7nxa8eu4LMRfa9Pp/ZD177f/VmMczx2MUJHNQAAAAAAAAAAAACwSEsP1YW+IbneIbXL7apPxG1wPK3gG9NLvjV+sIjVFX5b/JBHjGH2ZoJ9c1CoDgAAAAAAYBJLCNWNuTYWcakx1xnnFNsy5suqasTHzO0FhuoS16HbebG+O+21wKdrvskvGytZZlwzT305XJWNT1wfj+vW2WMi8zmBWM++54D4+ew+adZ77PmtjdG9uzYf/3tJ5ywAAAAAAAAAAAAAgCLHEKqLbz9P3dgxKlK3Ex/oL4zVjYmnpb4xvvSmgVEqjuUfNxIMXHehOgAAAAAAgGkcPFS3vjtNhurWP7+nfj11HWmu0F6pVPgrex3w/PokeT1uc39hNpfP7aWE6nKhxcHXhmvMl2YZqevjNa5bx/E99NjPfQlce3262Yah56XUtvf5crlU8M51bwAAAAAAAAAAAADgQziKUN2z9tvNM98On/wwee6bzwtjdaNCdYmbEap9M33xWI7f97GMzvhf6ZgI1QEAAAAAAEzi0KG63PWo3HXC1BcwzXltrUgmypfa1tx+Gns97rPN7aWE6iIYN9X8rXFsJL/grEIcMXVtPxeZS41dn88YpI7XZKgv99mC3XoWXlN3xAIAAAAAAAAAAAAARys+4B0fjD7ko++3sceNGKWRtaJA3WvxzfERk2vH5d8Pzr+s73/v/zPqQ++Jb34/yA0mzdjHt9X3idbFt9O349pzv+X2576Hm24AAAAAAACGO2SoLq7z5K455ZaRuoa1xPjT0Nhcbj+NjnJ9srm9lLmRvAY7MgRX5dhOxBVLjs+kxHXxZtk32bFLfcFchYhe+xyJL1SLa+hjj/mXfVHpujoAAAAAAAAAAAAAAH2dX5/EB/DjER8i3z3aGzUW+mHv1Ifdc98aP4fdeL4e0/gQ/u7/W8I6AgAAAAAAUOZQobr2WlMqNFX4JU7JUN1/7/+ztPFOhvkS65vdT0JXvcZsSRHDl2uvV7dnL9dfN/f/1IgPRkxu7LXn11/e9sc4Nus8dN3iGvPQ5bZfLNf1u815pdrOiS+x6zhPlcT0csd8zageAAAAAAAAAAAAAACfRNcH3eNmBKMDAAAAAABATYcI1aW+uOlVBOqxaFlHFqpLxflS65sKc00ZFPyoc3tJobpJ51vi+CgN4UUwsmsZY65hdwXwSo79iLtNsU59z1clsb/cuU5kEgAAAAAAAAAAAACAYqkP+ZfeKAAAAAAAAAClZgvVXW5XX9c/v0eEKhduikdcNytZbDJ2t8RQ3cCwXi7uZyb3m9ufJVQX0bbR15/Pr086x/HH9ndJrG3f+WDMcZs8jq5uz+aaRyVjmA3VAQAAAAAAAAAAAABAqTHfGg8AAAAAAAB95UJ18eddjzcLWt+dvv6zCM1FcCpCWaVxut0jfqd0/T9LqC4if2JX9eb2ZwnV/b25v6jxRWmp4F1pVLJ0vSJiN+a4HxTOGziP4rgcdY76JPMQAAAAAAAAAAAAAIAK4saTMR9wBwAAAAAAgL5yobq5H32jV58lVJfbT2ZyvzH7LIGw1HzrE6qrPZZd8cqiZa3vTmc9FhLPV3KOObZzFAAAAAAAAAAAAAAAS5T7MH3Bt8YDAAAAAABAX0sK1fWN1IWh4bdDWf3Y/haqO/zcPrpQ3fruNLYnjpGYJ+2j2YbsIzHf+oTqno61/XG53tezE9fGS84B6f26fYw/r/0YM4+Sobqr2zNHKgAAAAAAAAAAAAAAaefXJ6kP9f+9ub8wSAAAAAAAAExhCaG6r5v7f4Z+cVMqVLfE62zJcVj//N75i7kvvmr+3Gwun9uLD9U1+/MlRpeIzY159A3VxfwcNHffHwPNcbl3nzTbWXTMX92eLSWuOTZU13cfAAAAAAAAAAAAAADw2cQNBombZ9oP459fnxgoAAAAAAAApnCoUF1cB4sQ19hrYclrbQuMkY2JVgle1ZvbSw3V/bX+9S35JWcHDNXFsdo9ntvH8mO2Y/sKw5Jx3vgoobqhgU4AAAAAAAAAAAAAAD66+BB/xzfFv/lg+9XtmcECAAAAAABgKnOF6iJO9XVz/8/X9c/v8WVOtdY/lpl4zodFDXaz3WPCYamAWQTOzObyub24UF37BWfzBOrGxA1Tx1vRcZ04BkrPCx8qVAcAAAAAAAAAAAAAwCd3uV3FzTbxIf94xH+PQN3qx/Z3wc06NwYQAAAAAACAKeVCdRGF+uOx2d5EoOn1IwJWf/zc1e1ZG8M6vz6Zav1z0aoljXWMR3JdL7er5O8349z5+5v7C7O5fG4vKVQXkcGS68dLCNUlzxcFc7ArdNcnKrmsUF1+vYXqAAAAAAAAAAAAAADolLuxJ/mB9glv2AEAAAAAAICQu5517Os/JMY1lVRgK0Jlo35/QeG1Y5gbSxmviNQVX0Nu5kgbK4wvRmvmwu7L0t4/XgcPU3HDocfGarN9HDyHO4J8MQ41jqNDPHLrK1QHAAAAAAAAAAAAAECnIaE6kToAAAAAAADmcuyhuriullr/r+uf35eyqqlo2Gqzvfnw+2pBc3sRobpm7naF297M4c39P6ur27Pac25oqC6Oqc5xTaxn/Fln4K7H9fF0sHH70BXwm+qRW1/HLAAAAAAAAAAAAAAAnfqG6uImA6MGAAAAAADAXD5C/CziVIsOkoVMUC/iWyWLSS3jr/Wvb2Z02dxewrxIBdd2AbehMbl/j436obrUXE5d744/q3GNPB2qW8jxXnjMOkoBAAAAAAAAAAAAAD650lBd3DwT3zxvxAAAAAAAAJjTRwjVdQWwXrbhcrs69DpGRC61jqXRsFR4bLXZ3hx6O1dXt2cRMlv63D540KwZowjRpSJ1NcZxklBd5pjrWu+u7e27HjHHjumcJVQHAAAAAAAAAAAAAEC39d1p4kaRx7839xfxMwYKAAAAAACAQ/gIobpcBK69Jndg8cVVyShZ6XL+e/+fxUb5nq+NxvbEeh46WLfkUF3uuKv1JWepGN6YUF1q/eN4/GM9OuJycc38o5+zhOoAAAAAAAAAAAAAACgSH5jfPQ59UwYAAAAAAACEjxCqC+2XRKVCcIe8Ppf4cqveIb3L7Sq1rDYQd7B98Ot/78f9kMG6JYfqUnHFIfG2vZpxT82VMaG61DG3b2y/bu7/qRbky2zX0r4oTqgOAAAAAAAAAAAAAAAAAAAAAAA4Sh8mVPff+/+ktiNCWQdbt832ITnGl9tVn+V1Rb8OGeqK4FgyFHiAdVpyqC41X2ut2+rq9mzKUF1qn7+Z04mw3NCIYTJM2Wz3ks5NQnUAAAAAAAAAAAAAAAAAAAAAAMBR+iihughjpbajRphriFTMa2iULLfPIow399hHjC6xPo9Dg2RTze1Dh+qSscHN/UWN52jG/WbS4yERoIsQ3+7H/lr/+tYxL26m2LYxy51CzDWhOgAAAAAAAAAAAAAAAAAAAAAA4Oh8mFDdl0z86xDBtPXdaSrgNiYWFjG6ZJivUuwsqxnP3LpEqGxpc/vQobpUvOx15G3Mfpkj3NgVjGuPtdzPXN2eDT7WMwHIiCcu5bwkVAcAAAAAAAAAAAAAAAAAAAAAAByljxSqa6NpmTBcRNUiIDf5uhRE6sbE5CLylQuRRbhv8vHOROra8V7g3D58qG5/vK1WZDC5/JqhusQ8bI+zjmDe65DdIJfb1VyhxtjGGM+I4w0J4AnVAQAAAAAAAAAAAAAAAAAAAAAAR+lDheq+lAXcIiA3aayuIFLXhrrOr0/GPE3EuA4WqyuI1L3EyhY4tw8eqvvv/X+mWreSY6BWqK59vmYud829v9a/vu3dxmb7KzzvTfIYH3l8vczzd8dyu73NsVc6fslQ3YDwHQAAAAAAAAAAAAAAAAAAAAAAwCw+WqguRCCrJFbXxrJqxKx2ImrVLDMXqWuf/+r2rMrzdUTC3ofPakXJQsTHSp736/rn96XO7UOH6mJskpG1gQGz1HKn2j9d0b32GOuIydUItOWCfDUijamgYOnyU6G6msclAAAAAAAAAAAAAAAAAAAAAABAVR8xVPcccHsoiXVFcC3Ca2OfsjTeFo8az/difXdaHCaLsNaIQFjMlVR0q3YkbMq5fehQXW6/ReBtwJy/2ReLm3wfNXOqdA7WHvvcfGyfa2CMMhW8bGOChcsVqgMAAAAAAAAAAAAAAAAAAAAAAI7ShwzVhR6xutdxsDYiVxKgan7mOU53k4qBTRqpexbL7LmdD6v/3v8nYmnZhV9uV0/bWRaoW0qkLje3Ywziz+d4dK1fLmz4df3ze9GGNvtx37Jin+Xmxphw4bttuTnIMdCsf+74i31dNNdfLTMVqeu1b74I1QEAAAAAAAAAAAAAAAAAAAAAAEfqw4bqwlOs7qZPxO1d4OoxIlNvH+m42NyRup3V1e1Zn2Dem+1sfu/P7Ry2rTHexzK353qMWb82Ktjs2/fxxPjdiKV1xRhj38Xv5J5jF+yrMf9K51rt/RzjUPK8EZ9rxzKxDblA3cvY9hkboToAAAAAAAAAAAAAAADg/9m5m6PE4TCAwx44KPHK3QaswAtnS7AGj85ojOPQgk3YgZBAFVuFbWze+DGus0CIICR5npnM7rqI5M379/gDAAAAAGijTofq3p1m+fU+Q2URAztKp6Od32j5M5rG6rZyn/f5VZt2e9+hulAnjPZvOHF9PLCKwX3Ztzo78fU1TeddK2xYnsVDOeNNYoxNzrJQHQAAAAAAAAAAAAAAAAAAAAAA0Ep9CNVVIuK2IhjVmXjbTZH89n1WAbXbl/O27fYhhOqOxpPBNuOC3yN1YdOIW9N5x66vfe8dBhtP0vnFbvd8/hzPa+O5CNUBAAAAAAAAAAAAAAAAAAAAAABt1JtQ3bsIqkVYbadBqwiPZfl1ROP2+Vx3HayL+6xCfA3iXYew2wcRqgtVRPHnO1m+x2LZs9gkVtd44OW+r/18LT3fwyx/bPyZhOoAAAAAAAAAAAAAAAAAAAAAAIA26luo7lM6HUW8a5tRqwhSnaTzi0O6zfdw19NWA3XlzIbp7HKfIb5t7PbBhOo+ntV9flVFDncUDIzd3GmoLu5hxa795tmI/Wwyy+9zrQJ15e+Kn81EqA4AAAAAAAAAAAAAAAAAAAAAAGijdDqKkNKyqzcziEhYVjzVDddVcbDy9RHEaktsKqJ1TeJ8b/da7kPE0H4Y7Tqk3f6ta6PPfFMkEUer84w+g4FrAnXf3z+CcV9/RvwZn7P6WjzjH4j9WrZDG33OPe58+dpFFdXb0ud9+/k9/v0KAAAAAAAAAAAAAAAAAAAAAADQKel0FOGuVUGriH61/R4jshcxryrU93GV/46vVwG+tt9jm5Wzj2cQ0bSPZxN/r57LHqJvdSwLwsVZOpR5fp/px763KsIIAAAAAAAAAAAAAAAAAAAAAADA/kS8alWo7jTLr00J3kT8bdlZqUJwAAAAAAAAAAAAAAAAAAAAAAAA0BWrQnXJQ/FqQvAmyebP/z0nWfHHdAAAAAAAAAAAAAAAAAAAAAAAAOiUJCueVsXqTtL5hSnRd8d3s7NlZ2SYzi5NCAAAAAAAAAAAAAAAAAAAAAAAgE5ZFeCKK3koXo/S6cik6K3xZJBkxWLZGYn/NyQAAAAAAAAAAAAAAAAAAAAAAAA6J8nmz2J18H/DLH9cejay4smEAAAAAAAAAAAAAAAAAAAAAAAA6KTju9nZqlDdR6wuuX05Ny36JHZ+1bkQcAQAAAAAAAAAAAAAAAAAAAAAAKDTTrP8el2srgrWZcWfeK1AF103TGeXEWhceh7iHAAAAAAAAAAAAAAAAAAAAAAAAEDXJdn8uU6s7mu0Lr7n83qPepkkbXZ8Nzsrd3uxbvePxpOBaQEAAAAAAAAAAAAAAAAAAAAAANB948lgXaCrzmWQtMFJOr9Ibl/OI0xXxenu86thlj/W2fF4vQkCAAAAAAAAAAAAAAAAAAAAAADQH+PJoG6sS6iONkuy+XOT/Y6gnekBAAAAAAAAAAAAAAAAAAAAAADQS8N0dpk8FK9CdXRVk1DdSTq/MDkAAAAAAAAAAAAAAAAAAAAAAAD6bTwZJPf51abBOoOjDTYN1YnUAQAAAAAAAAAAAAAAAAAAAAAAwHfpdBShrmGWP0bg69+reIqg3fHd7CzidoZFG9QN1cXOx/6bGAAAAAAAAAAAAAAAAAAAAAAAAEDHRYBuWZwuyYpFhBmFFwEAAAAAAAAAAAAAAAAAAAAAAAD6aDwZHN/NzuI6SqcjAwEAAAAAAAAAAAAAAAAAAAAAAAAAAAAAAAAAAAAAAAAAAAAAAAAAAAAAAAAAAAAAAAAAAAAAAAAAAAAAAAAAAAAAAAAAAAAAAAAAAAAAAAAAAAAAAAAAAAAAAAAAAAAAAAAAAAAAAAAAAAAAAAAAAAAAAAAAAAAAAAAAAAAAAAAAAAAAAAAAAAAAAAAAAAAAAAAAAAAAAAAAAAAAAAAAAAAAAAAAAAAAAAAAAAAAAAAAAAAAAAAAAAAAAAAAAAAAAAAAAAAAAAAAAAAAAAAAAAAAAAAAAAAAAAAAAAAAAAAAAAAAAAAAAAAAAAAAAAAAAAAAAAAAAAAAAAAAAAAAAAAAAAAAAAAAAAAAAAAAAAAAAAAAAAAAAAAAAAAAAAAAAAAAAAAAAAAAAAAAAAAAAAAAAAAAAAAAAAAAAAAAAAAAAAAAAAAAAAAAAAAAAAAAAAAAAAAAAAAAAAAAAAAAAAAAAAAAAAAAAAAAAAAAAAAAAAAAAAAAAAAAAAAAAAAAAAAAAAAAAAAAAAAAAAAAAAAAAAAAAAAAAAAAAAAAAAAAAAAAAAAAAAAAAAAAAAAAAAAAAAAAAAAAAAAAAAAAAAAAAAAAAAAAAAAAAAAAAAAAAAAAAAAAAAAAAAAAAAAAAAAAAAAAAAAAAAAAAAAAAAAAAAAAAAAAAAAAAAAAAAAAAAAAAAAAAAAAAAAAAAAAAAAAAAAAAAAAAAAAAAAAAAAAAAAAAAAAAAAAAAAAAAAAAAAAAAAAAAAAAAAAAAAAAAAAAAAAAAAAAAAAAAAAAAAAAAAAAAAAAAAAAAAAAAAAAAAAAAAAAAAAAAAAAAAAAAAAAAAAAAAAAAAAAAAAAAAAAAAAAAAAAAAAAAAAAAAAAAAAAAAAAAAAAAAAAAAAAAAAAAAAAAAAAAAAAAAAAAAAAAAAAAAAAAAAAAAAAAAAAAAAAAAAAAAAAAAAAAAAAAAAAAAAAAAAAAAAAAAAAAAAAAAAAAAAAAAAAAAAAAAAAAAAAAAAAAAAAAAAAAAAAAAAAAAAAAAAAAAAAAAAAAAAAAAAAAAAAAAAAAAAAAAAAAAAAAAAAAAAAAAAAAAAAAAAAAAAAAAAAAAAAAAAAAAAAAAAAAAAAAAAAAAAAAAAAAAAAAAAAAAAAAAAAAAAAAAAAAAAAAAAAAAAAAAAAAAAAAAAAAAAAAAAAAAAAAAAAAAAAAAAAAAAAAAAAAAAAAAAAAAAAAAAAAAAAAAAAAAAAAAAAAAAAAAAAAAAAAAAAAAAAAAAAAAAAAAAAAAAAAAAAAAAAAAAAAAAAAAAAAAAAAAAAAAAAAAAAAAAAAAAAAAAAAAAAAAAAAAAAAAAAAAAAAAAAAAAAAAAAAAAAAAAAAAAAAAAAAAAAAAAAAAAAAAAAAAAAAAAAAAAAAAAAAAAAAAAAAAAAAAAAAAAAAAAAAAAAAAAAAAAAAAAAAAAAAAAAAAAAAAAAAAAAAAAAAAAAAAAAAAAAAAAAAAAAAAAAAAAAAAAAAAAAAAAAAAAAAAAAAAAAAAAAAAAAAAAAAAAAAAAAAAAAAAAAAAAAAAAAAAAAAAAAAAAAAAAAAAAAAAAAAAAAAAAAAAAAAAAAAAAAAAAAAAAAAAAAAAAAAAAAAAAAAAAAAAAAAAAAAAAAAAAAAAAAAAAAAAAAAAAAAAAAAAAAAAAAAAAAAAAAAAAAAAAAAAAAAAAAAAAAAAAAAAAAAAAAAAAAAAAAAAAAAAAAAAAAAAAAAAAAAAAAAAAAAAAAAAAAAAAAAAAAAAAAAAAAAAAAAAAAAAAAAAAAAAAAAAAAAAAAAAAAAAAAAAAAAAAAAAAAAAAAAAAAAAAAAAAAAAAAAAAAAAAAAAAAAAAAAAAAAAAAAAAAAAAAAAAAAAAAAAAAAAAAAAAAAAAAAAAAAAAAAAAAAAAAAAAAAAAAAAAAAAAAAAAAAAAAAAAAAAAAAAAAAAAAAAAAAAAAAAAAAAAAAAAAAAAAAAAAAAAAAAAAAAAAAAAAAAAAAAAAAAAAAAAAAAAAAAAAAAAAAAAAAAAAAAAAAAAAAAAAAAAAAAAAAAAAAAAAAAAAAAAAAAAAAAAAAAAAAAAAAAAAAAAAAAAAAAAAAAAAAAAAAAAAAAAAAAAAAAAAAAAAAAAAAAAAAAAAAAAAAAAAAAAAAAAAAAAAAAAAAAAAAAAAAAAAAAAAAAAAAAAAAAAAAAAAAAAAAAAAAAAAAAAAAAAAAAAAAAAAAAAAAAAAAAAAAAAAAAAAAAAAAAAAAAAAAAAAAAAAAAAAAAAAAAAAAAAAAAAAAAAAAAAAAAAAAAAAAAAAAAAAAAAAAAAAAAAAAAAAAAAAAAAAAAAAAAAAAAAAAAAAAAAAAAAAAAAAAAAAAAAAAAAAAAAAAAAAAAAAAAAAAAAAAAAAAAAAAAAAAAAAAAAAAAAAAAAAAAAAAAAAAAAAAAAAAAAAAAAAAAAAAAAAAAAAAAAAAAAAAAAAAAAAAAAAAAAAAAAAAAAAAAAAAAAAAAAAAAAAAAAAAAAAAAAAAAAAAAAAAAAAAAAAAAAAAAAAAAAAAAAAAAAAAAAAAAAAAAAAAAAAAAAAAAAAAAAAAAAAAAAAAAAAAAAAAAAAAAAAAAAAAAAAAAAAAAAAAAAAAAAAAAAAAAAAAAAAAAAAAAAAAAAAAAAAAAAAAAAAAAAAAAAAAAAAAAAAAAAAAAAAAAAAAAAAAAAAAAAAAAAAAAAAAAAAAAAAAAAAAAAAAAAAAAAAAAAAAAAAAAAAAAAAAAAAAAAAAAAAAAAAAAAAAAAAAAAAAAAAAAAAAAAAAAAAAAAAAAAAAAAAAAAAAAAAAAAAAAAAAAAAAAAAAAAAAAAAAAAAAAAAAAAAAAAAAAAAAAAAAAAAAAAAAAAAAAAAAAAAAAAAAAAAAAAAAAAAAAAAAAAAAAAAAAAAAAAAAAAAAAAAAAAAAAAAAAAAAAAAAAAAAAAAAAAAAAAAAAAAAAAAAAAAAAAAAAAAAAAAAAAAAAAAAAAAAAAAAAAAAAAAAAAAAAAAAAAAAAAAAAAAAAAAAAAAAAAAAAAAAAAAAAAAAAAAAAAAAAAAAAAAAAAAAAAAAAAAAAAAAAAAAAAAAAAAAAAAAAAAAAAAAAAAAAAAAAAAAAAAAAAAAAAAAAAAAAAAAAAAAAAAAAAAAAAAAAAAAAAAAAAAAAAAAAAAAAAAAAAAAAAAAAAAAAAAAAAAAAAAAAAAAAAAAAAAAAAAAAAAAAAAAAAAAAAAAAAAAAAAAAAAAAAAAAAAAAAAAAAAAAAAAAAAAAAAAAAAAAAAAAAAAAAAAAAAAAAAAAAAAAAAAAAAAAAAAAAAAAAAAAAAAAAAAAAAAAAAAAAAAAAAAAAAAAAAAAAAAAAAAAAAAAAAAAAAAAAAAAAAAAAAAAAAAAAAAAAAAAAAAAAAAAAAAAAAAAAAAAAAAAAAAAAAAAAAAAAAAAAAAAAAAAAAAAAAAAAAAAAAAAAAAAAAAAAAAAAAAAAAAAAAAAAAAAAAAAAAAAAAAAAAAAAAAAAAAAAAAAAAAAAAAAAAAAAAAAAAAAAAAAAAAAAAAAAAAAAAAAAAAAAAAAAAAAAAAAAAAAAAAAAAAAAAAAAAAAAAAAAAAAAAAAAAAAAAAAAAAAAAAAAAAAAAAAAAAAAAAAAAAAAAAAAAAAAAAAAAAAAAAAAAAAAAAAAAAAAAAAAAAAAAAAAAAAAAAAAAAAAAAAAAAAAAAAAAAAAAAAAAAAAAAAAAAAAAAAAAAAAAAAAAAAAAAAAAAAAAAAAAAAAAAAAAAAAAAAAAAAAAAAAAAAAAAAAAAAAAAAAAAAAAAAAAAAAAAAAAAAAAAAAAAAAAAAAAAAAAAAAAAAAAAAAAAAAAAAAAAAAAAAAAAAAAAAAAAAAAAAAAAAAAAAAAAAAAAAAAAAAAAAAAAAAAAAAAAAAAAAAAAAAAAAAAAAAAAAAAAAAAAAAAAAAAAAAAAAAAAAAAAAAAAAAAAAAAAAAAAAAAAAAAAAAAAAAAAAAAAAAAAAAAAAAAAAAAAAAAAAAAAAAAAAAAAAAAAAAAAAAAAAAAAAAAAAAAAAAAAAAAAAAAAAAAAAAAAAAAAAAAAAAAAAAAAAAAAAAAAAAAAAAAAAAAAAAAAAAAAAAAAAAAAAAAAAAAAAAAAAAAAAAAAAAAAAAAAAAAAAAAAAAAAAAAAAAAAAAAAAAAAAAAAAAAAAAAAAAAAAAAAAAAAAAAAAAAAAAAAAAAAAAAAAAAAAAAAAAAAAAAAAAAAAAAAAAAAAAAAAAAAAAAAAAAAAAAAAAAAAAAAAAAAAAAAAAAAAAAAAAAAAAAAAAAAAAAAAAAAAAAAAAAAAAAAAAAAAAAAAAAAAAAAAAAAAAAAAAAAAAAAAAAAAAAAAAAAAAAAAAAAAAAAAAAAAAAAAAAAAAAAAAAAAAAAAAAAAAAAAAAAAAAAAAAAAAAAAAAAAAAAAAAAAAAAAAAAAAAAAAAAAAAAAAAAAAAAAAAAAAAAAAAAAAAAAAAAAAAAAAAAAAAAAAAAAAAAAAAAAAAAAAAAAAAAAAAAAAAAAAAAAAAAAAAAAAAAAAAAAAAAAAAAAAAAAAAAAAAAAAAAAAAAAAAAAAAAAAAAAAAAAAAAAAAAAAAAAAAAAAAAAAAAAAAAAAAAAAAAAAAAAAAAAAAAAAAAAAAAAAAAAAAAAAAAAAAAAAAAAAAAAAAAAAAAAAAAAAAAAAAAAAAAAAAAAAAAAAAAAAAAAAAAAAAAAAAAAAAAAAAAAAAAAAAAAAAAAAAAAAAAAAAAAAAAAAAAAAAAAAAAAAAAAA/rYHhwQAAAAAgv6/9oQRAAAAAAAAAAAAAAAAAAAAAAAAAAAAAAAAAAAAAAAAAAAAAAAAAAAAAAAAAAAAAAAAAAAAAAAAAAAAAAAAAAAAAAAAAAAAAAAAAAAAAAAAAAAAAAAAAAAAAAAAAAAAAAAAAAAAAAAAAAAAAAAAAAAAAAAAAAAAAAAAAAAAAAAAAAAAAAAAAAAAAAAAAAAAAAAAAAAAAAAAAAAAAAAAAAAAAAAAAAAAAAAAAAAAAAAAAAAAAAAAAAAAAAAAAAAAAAAAAAAAAAAAAAAAAAAAAAAAAAAAAAAAAAAAAAAAAAAAAAAAAAAAAAAAAAAAAAAAAAAAAAAAAAAAAAAAAAAAAAAAAAAAAAAAAAAAAAAAAAAAAAAAAAAAAAAAAAAAAAAAAAAAAAAAAAAAAAAAAAAAAAAAAAAAAAAAAAAAAAAAAAAAAAAAAAAAAAAAAAAAAAAAAAAAAAAAAAAAAAAAAAAAAAAAAAAAAAAAAAAAAAAAAAAAAAAAAAAAAAAAAAAAAAAAAAAAAAAAAAAAAAAAAAAAAAAAAAAAAAAAAAAAAAAAAAAAAAAAAAAAAAAAAAAAAAAAAAAAAAAAAAAAAAAAAAAAAAAAAAAAAAAAAAAAAAAAAAAAAAAAAAAAAAAAAAAAAAAAAAAAAAAAAAAAAAAAAAAAAAAAAAAAAAAAAAAAAAAAAAAAAAAAAAAAAAAAAAAAAAAAAAAAAAAAAAAAAAAAAAAAAAAAAAAAAAAAAAAAAAAAAAAAAAAAAAAAAAAAAAAAAAAAAAAAAAAAAAAAAAAAAAAAAAAAAAAAAAAAAAAAAAAAAAAAAAAAAAAAAAAAAAAAAAAAAAAAAAAAAAAAAAAAAAAAAAAAAAAAAAAAAAAAAAAAAAAAAAAAAAAAAAAAAAAAAAAAAAAAAAAAAAAAAAAAAAAAAAAAAAAAAAAAAAAAAAAAAAAAAAAAAAAAAAAAAAAAAAAAAAAAAAAAAAAAAAAAAAAAAAAAAAAAAAAAAAAAAAAAAAAAAAAAAAAAAAAAAAAAAAAAAAAAAAAAAAAAAAAAAAAAAAAAAAAAAAAAAAAAAAAAAAAAAAAAAAAAAAAAAAAAAAAAAAAAAAAAAAAAAAAAAAAAAAAAAAAAAAAAAAAAAAAAAAAAAAAAAAAAAAAAAAAAAAAAAAAAAAAAAAAAAAAAAAAAAAAAAAAAAAAAAAAAAAAAAAAAAAAAAAAAAAAAAAAAAAAAAAAAAAAAAAAAAAAAAAAAAAAAAAAAAAAAAAAAAAAAAAAAAAAAAAAAAAAAAAAAAAAAAAAAAAAAAAAAAAAAAAAAAAAAAAAAAAAAAAAAAAAAAAAAAAAAAAAAAAAAAAAAAAAAAAAAAAAAAAAAAAAAAAAAAAAAAAAAAAAAAAAAAAAAAAAAAAAAAAAAAAAAAAAAAAAAAAAAAAAAAAAAAAAAAAAAAAAAAAAAAAAAAAAAAAAAAAAAAAAAAAAAAAAAAAAAAAAAAAAAAAAAAAAAAAAAAAAAJgFTFQuce8eQcgAAAABJRU5ErkJggg==)"
      ]
    },
    {
      "cell_type": "markdown",
      "metadata": {
        "id": "7yUzp4kD-BHb"
      },
      "source": [
        "Tutorial with cluster states (excitet = 1 or not = 0)"
      ]
    },
    {
      "cell_type": "markdown",
      "metadata": {
        "id": "gj1dc5DJ-NWg"
      },
      "source": [
        "1. Data"
      ]
    },
    {
      "cell_type": "code",
      "metadata": {
        "id": "iB4etDIwuwhS"
      },
      "source": [
        "def generate_data(qubits):\n",
        "  \"\"\"Gen train/ test data \"\"\"\n",
        "  n_rounds = 20 # produces n_rounds * n_qubits datapoints\n",
        "  excitations = []\n",
        "  labels = []\n",
        "\n",
        "  for n in range(n_rounds):\n",
        "    for bit in qubits:\n",
        "\n",
        "      rng = np.random.uniform(-np.pi, np.pi)\n",
        "      excitations.append(cirq.Circuit(cirq.rx(rng)(bit)))\n",
        "      labels.append(1 if (-np.pi / 2) <= rng <= (np.pi /2) else -1)\n",
        "\n",
        "  split_ind = int(len(excitations) * 0.7) # dataset split\n",
        "  train_excitations = excitations[: split_ind]\n",
        "  test_excitations  = excitations[split_ind :]\n",
        "\n",
        "  train_labels = labels[: split_ind]\n",
        "  test_labels  = labels[split_ind :]\n",
        "\n",
        "  return tfq.convert_to_tensor(train_excitations), np.array(train_labels),\\\n",
        "  tfq.convert_to_tensor(test_excitations), np.array(test_labels)\n"
      ],
      "execution_count": 47,
      "outputs": []
    },
    {
      "cell_type": "code",
      "metadata": {
        "id": "Apd1ocIvuwfR",
        "colab": {
          "base_uri": "https://localhost:8080/"
        },
        "outputId": "5c0a9c87-b14a-4599-f116-b7a6b295ea3e"
      },
      "source": [
        "sample_points, sample_labels, _, __ = generate_data(cirq.GridQubit.rect(1, 4))\n",
        "print('Input:', tfq.from_tensor(sample_points)[0], 'Output:', sample_labels[0])\n",
        "print('Input:', tfq.from_tensor(sample_points)[1], 'Output:', sample_labels[1])\n"
      ],
      "execution_count": 48,
      "outputs": [
        {
          "output_type": "stream",
          "text": [
            "Input: (0, 0): ───Rx(0.446π)─── Output: 1\n",
            "Input: (0, 1): ───Rx(-0.538π)─── Output: -1\n"
          ],
          "name": "stdout"
        }
      ]
    },
    {
      "cell_type": "markdown",
      "metadata": {
        "id": "p1I2H_CYEXfY"
      },
      "source": [
        "2. Cluster state"
      ]
    },
    {
      "cell_type": "code",
      "metadata": {
        "id": "37mfKb-YuwdW"
      },
      "source": [
        "def cluster_state_circuit(bits):\n",
        "    \"\"\"Return a cluster state on the qubits in `bits`.\"\"\"\n",
        "    circuit = cirq.Circuit()\n",
        "    circuit.append(cirq.H.on_each(bits))\n",
        "    for this_bit, next_bit in zip(bits, bits[1:] + [bits[0]]):\n",
        "        circuit.append(cirq.CZ(this_bit, next_bit))\n",
        "    return circuit"
      ],
      "execution_count": 49,
      "outputs": []
    },
    {
      "cell_type": "code",
      "metadata": {
        "id": "yfs0BhQeuwbg",
        "colab": {
          "base_uri": "https://localhost:8080/",
          "height": 421
        },
        "outputId": "fae891fd-d8db-40f8-fe0c-7d0208896c8c"
      },
      "source": [
        "SVGCircuit(cluster_state_circuit(cirq.GridQubit.rect(1, 8)))"
      ],
      "execution_count": 213,
      "outputs": [
        {
          "output_type": "execute_result",
          "data": {
            "text/plain": [
              "<cirq.contrib.svg.svg.SVGCircuit at 0x7fa0cd002c10>"
            ],
            "image/svg+xml": "<svg xmlns=\"http://www.w3.org/2000/svg\" width=\"649.517734375\" height=\"400.0\"><line x1=\"34.7588671875\" x2=\"619.517734375\" y1=\"25.0\" y2=\"25.0\" stroke=\"#1967d2\" stroke-width=\"1\" /><line x1=\"34.7588671875\" x2=\"619.517734375\" y1=\"75.0\" y2=\"75.0\" stroke=\"#1967d2\" stroke-width=\"1\" /><line x1=\"34.7588671875\" x2=\"619.517734375\" y1=\"125.0\" y2=\"125.0\" stroke=\"#1967d2\" stroke-width=\"1\" /><line x1=\"34.7588671875\" x2=\"619.517734375\" y1=\"175.0\" y2=\"175.0\" stroke=\"#1967d2\" stroke-width=\"1\" /><line x1=\"34.7588671875\" x2=\"619.517734375\" y1=\"225.0\" y2=\"225.0\" stroke=\"#1967d2\" stroke-width=\"1\" /><line x1=\"34.7588671875\" x2=\"619.517734375\" y1=\"275.0\" y2=\"275.0\" stroke=\"#1967d2\" stroke-width=\"1\" /><line x1=\"34.7588671875\" x2=\"619.517734375\" y1=\"325.0\" y2=\"325.0\" stroke=\"#1967d2\" stroke-width=\"1\" /><line x1=\"34.7588671875\" x2=\"619.517734375\" y1=\"375.0\" y2=\"375.0\" stroke=\"#1967d2\" stroke-width=\"1\" /><line x1=\"159.517734375\" x2=\"159.517734375\" y1=\"25.0\" y2=\"75.0\" stroke=\"black\" stroke-width=\"3\" /><line x1=\"219.517734375\" x2=\"219.517734375\" y1=\"75.0\" y2=\"125.0\" stroke=\"black\" stroke-width=\"3\" /><line x1=\"279.51773437500003\" x2=\"279.51773437500003\" y1=\"125.0\" y2=\"175.0\" stroke=\"black\" stroke-width=\"3\" /><line x1=\"339.51773437500003\" x2=\"339.51773437500003\" y1=\"175.0\" y2=\"225.0\" stroke=\"black\" stroke-width=\"3\" /><line x1=\"399.51773437500003\" x2=\"399.51773437500003\" y1=\"225.0\" y2=\"275.0\" stroke=\"black\" stroke-width=\"3\" /><line x1=\"459.51773437500003\" x2=\"459.51773437500003\" y1=\"275.0\" y2=\"325.0\" stroke=\"black\" stroke-width=\"3\" /><line x1=\"519.517734375\" x2=\"519.517734375\" y1=\"325.0\" y2=\"375.0\" stroke=\"black\" stroke-width=\"3\" /><line x1=\"579.517734375\" x2=\"579.517734375\" y1=\"25.0\" y2=\"375.0\" stroke=\"black\" stroke-width=\"3\" /><rect x=\"10.0\" y=\"5.0\" width=\"49.517734375\" height=\"40\" stroke=\"black\" fill=\"white\" stroke-width=\"0\" /><text x=\"34.7588671875\" y=\"25.0\" dominant-baseline=\"middle\" text-anchor=\"middle\" font-size=\"14px\" font-family=\"Arial\">(0, 0): </text><rect x=\"10.0\" y=\"55.0\" width=\"49.517734375\" height=\"40\" stroke=\"black\" fill=\"white\" stroke-width=\"0\" /><text x=\"34.7588671875\" y=\"75.0\" dominant-baseline=\"middle\" text-anchor=\"middle\" font-size=\"14px\" font-family=\"Arial\">(0, 1): </text><rect x=\"10.0\" y=\"105.0\" width=\"49.517734375\" height=\"40\" stroke=\"black\" fill=\"white\" stroke-width=\"0\" /><text x=\"34.7588671875\" y=\"125.0\" dominant-baseline=\"middle\" text-anchor=\"middle\" font-size=\"14px\" font-family=\"Arial\">(0, 2): </text><rect x=\"10.0\" y=\"155.0\" width=\"49.517734375\" height=\"40\" stroke=\"black\" fill=\"white\" stroke-width=\"0\" /><text x=\"34.7588671875\" y=\"175.0\" dominant-baseline=\"middle\" text-anchor=\"middle\" font-size=\"14px\" font-family=\"Arial\">(0, 3): </text><rect x=\"10.0\" y=\"205.0\" width=\"49.517734375\" height=\"40\" stroke=\"black\" fill=\"white\" stroke-width=\"0\" /><text x=\"34.7588671875\" y=\"225.0\" dominant-baseline=\"middle\" text-anchor=\"middle\" font-size=\"14px\" font-family=\"Arial\">(0, 4): </text><rect x=\"10.0\" y=\"255.0\" width=\"49.517734375\" height=\"40\" stroke=\"black\" fill=\"white\" stroke-width=\"0\" /><text x=\"34.7588671875\" y=\"275.0\" dominant-baseline=\"middle\" text-anchor=\"middle\" font-size=\"14px\" font-family=\"Arial\">(0, 5): </text><rect x=\"10.0\" y=\"305.0\" width=\"49.517734375\" height=\"40\" stroke=\"black\" fill=\"white\" stroke-width=\"0\" /><text x=\"34.7588671875\" y=\"325.0\" dominant-baseline=\"middle\" text-anchor=\"middle\" font-size=\"14px\" font-family=\"Arial\">(0, 6): </text><rect x=\"10.0\" y=\"355.0\" width=\"49.517734375\" height=\"40\" stroke=\"black\" fill=\"white\" stroke-width=\"0\" /><text x=\"34.7588671875\" y=\"375.0\" dominant-baseline=\"middle\" text-anchor=\"middle\" font-size=\"14px\" font-family=\"Arial\">(0, 7): </text><rect x=\"79.517734375\" y=\"5.0\" width=\"40\" height=\"40\" stroke=\"black\" fill=\"white\" stroke-width=\"1\" /><text x=\"99.517734375\" y=\"25.0\" dominant-baseline=\"middle\" text-anchor=\"middle\" font-size=\"18px\" font-family=\"Arial\">H</text><rect x=\"79.517734375\" y=\"55.0\" width=\"40\" height=\"40\" stroke=\"black\" fill=\"white\" stroke-width=\"1\" /><text x=\"99.517734375\" y=\"75.0\" dominant-baseline=\"middle\" text-anchor=\"middle\" font-size=\"18px\" font-family=\"Arial\">H</text><rect x=\"79.517734375\" y=\"105.0\" width=\"40\" height=\"40\" stroke=\"black\" fill=\"white\" stroke-width=\"1\" /><text x=\"99.517734375\" y=\"125.0\" dominant-baseline=\"middle\" text-anchor=\"middle\" font-size=\"18px\" font-family=\"Arial\">H</text><rect x=\"79.517734375\" y=\"155.0\" width=\"40\" height=\"40\" stroke=\"black\" fill=\"white\" stroke-width=\"1\" /><text x=\"99.517734375\" y=\"175.0\" dominant-baseline=\"middle\" text-anchor=\"middle\" font-size=\"18px\" font-family=\"Arial\">H</text><rect x=\"79.517734375\" y=\"205.0\" width=\"40\" height=\"40\" stroke=\"black\" fill=\"white\" stroke-width=\"1\" /><text x=\"99.517734375\" y=\"225.0\" dominant-baseline=\"middle\" text-anchor=\"middle\" font-size=\"18px\" font-family=\"Arial\">H</text><rect x=\"79.517734375\" y=\"255.0\" width=\"40\" height=\"40\" stroke=\"black\" fill=\"white\" stroke-width=\"1\" /><text x=\"99.517734375\" y=\"275.0\" dominant-baseline=\"middle\" text-anchor=\"middle\" font-size=\"18px\" font-family=\"Arial\">H</text><rect x=\"79.517734375\" y=\"305.0\" width=\"40\" height=\"40\" stroke=\"black\" fill=\"white\" stroke-width=\"1\" /><text x=\"99.517734375\" y=\"325.0\" dominant-baseline=\"middle\" text-anchor=\"middle\" font-size=\"18px\" font-family=\"Arial\">H</text><rect x=\"79.517734375\" y=\"355.0\" width=\"40\" height=\"40\" stroke=\"black\" fill=\"white\" stroke-width=\"1\" /><text x=\"99.517734375\" y=\"375.0\" dominant-baseline=\"middle\" text-anchor=\"middle\" font-size=\"18px\" font-family=\"Arial\">H</text><circle cx=\"159.517734375\" cy=\"25.0\" r=\"10.0\" /><circle cx=\"159.517734375\" cy=\"75.0\" r=\"10.0\" /><circle cx=\"219.517734375\" cy=\"75.0\" r=\"10.0\" /><circle cx=\"219.517734375\" cy=\"125.0\" r=\"10.0\" /><circle cx=\"279.51773437500003\" cy=\"125.0\" r=\"10.0\" /><circle cx=\"279.51773437500003\" cy=\"175.0\" r=\"10.0\" /><circle cx=\"339.51773437500003\" cy=\"175.0\" r=\"10.0\" /><circle cx=\"339.51773437500003\" cy=\"225.0\" r=\"10.0\" /><circle cx=\"399.51773437500003\" cy=\"225.0\" r=\"10.0\" /><circle cx=\"399.51773437500003\" cy=\"275.0\" r=\"10.0\" /><circle cx=\"459.51773437500003\" cy=\"275.0\" r=\"10.0\" /><circle cx=\"459.51773437500003\" cy=\"325.0\" r=\"10.0\" /><circle cx=\"519.517734375\" cy=\"325.0\" r=\"10.0\" /><circle cx=\"519.517734375\" cy=\"375.0\" r=\"10.0\" /><circle cx=\"579.517734375\" cy=\"375.0\" r=\"10.0\" /><circle cx=\"579.517734375\" cy=\"25.0\" r=\"10.0\" /></svg>"
          },
          "metadata": {
            "tags": []
          },
          "execution_count": 213
        }
      ]
    },
    {
      "cell_type": "markdown",
      "metadata": {
        "id": "m3cklavrEbuG"
      },
      "source": [
        "##QCNN Layer"
      ]
    },
    {
      "cell_type": "markdown",
      "metadata": {
        "id": "sfpYTlqQ0PuC"
      },
      "source": [
        "1. Basic Elements for QCNN \n",
        " - variational gates (defined by exponents of gates (created with sympy) define learnable parameters\n",
        "\n",
        "\n",
        "\n",
        "1.1 Unitary matrices = layers for one and two qubits"
      ]
    },
    {
      "cell_type": "code",
      "metadata": {
        "id": "suHVoEo1uwZd"
      },
      "source": [
        "def one_qubit_unitary(bit, symbols):\n",
        "  \"\"\"Make a Cirq circuit enacting a rotation of the bloch sphere about the X,\n",
        "  Y and Z axis, that depends on the values in `symbols`.\"\"\"\n",
        "  return cirq.Circuit(\n",
        "      cirq.X(bit)**symbols[0],\n",
        "      cirq.Y(bit)**symbols[1],\n",
        "      cirq.Z(bit)**symbols[2]\n",
        "  )\n",
        "\n",
        "def two_qubit_unitary(bits, symbols):\n",
        "    \"\"\"Make a Cirq circuit that creates an arbitrary two qubit unitary.\"\"\"\n",
        "    circuit = cirq.Circuit()\n",
        "    circuit += one_qubit_unitary(bits[0], symbols[0:3])\n",
        "    circuit += one_qubit_unitary(bits[1], symbols[3:6])\n",
        "    circuit += [cirq.ZZ(*bits)**symbols[6]]\n",
        "    circuit += [cirq.YY(*bits)**symbols[7]]\n",
        "    circuit += [cirq.XX(*bits)**symbols[8]]\n",
        "    circuit += one_qubit_unitary(bits[0], symbols[9:12])\n",
        "    circuit += one_qubit_unitary(bits[1], symbols[12:])\n",
        "    return circuit"
      ],
      "execution_count": 75,
      "outputs": []
    },
    {
      "cell_type": "code",
      "metadata": {
        "id": "hAPBqAwIuwXZ",
        "colab": {
          "base_uri": "https://localhost:8080/",
          "height": 71
        },
        "outputId": "08d1b073-7584-4ac0-d26b-f1d7eb9c263d"
      },
      "source": [
        "SVGCircuit(one_qubit_unitary(cirq.GridQubit(0, 0) , sympy.symbols('x0:3')) ) "
      ],
      "execution_count": 52,
      "outputs": [
        {
          "output_type": "execute_result",
          "data": {
            "text/plain": [
              "<cirq.contrib.svg.svg.SVGCircuit at 0x7fa0dc9c4790>"
            ],
            "image/svg+xml": "<svg xmlns=\"http://www.w3.org/2000/svg\" width=\"309.3764453125\" height=\"50.0\"><line x1=\"34.7588671875\" x2=\"279.3764453125\" y1=\"25.0\" y2=\"25.0\" stroke=\"#1967d2\" stroke-width=\"1\" /><rect x=\"10.0\" y=\"5.0\" width=\"49.517734375\" height=\"40\" stroke=\"black\" fill=\"white\" stroke-width=\"0\" /><text x=\"34.7588671875\" y=\"25.0\" dominant-baseline=\"middle\" text-anchor=\"middle\" font-size=\"14px\" font-family=\"Arial\">(0, 0): </text><rect x=\"79.517734375\" y=\"5.0\" width=\"47.1664453125\" height=\"40\" stroke=\"black\" fill=\"white\" stroke-width=\"1\" /><text x=\"103.10095703125\" y=\"25.0\" dominant-baseline=\"middle\" text-anchor=\"middle\" font-size=\"14px\" font-family=\"Arial\">X^x0</text><rect x=\"146.6841796875\" y=\"5.0\" width=\"46.2105078125\" height=\"40\" stroke=\"black\" fill=\"white\" stroke-width=\"1\" /><text x=\"169.78943359375\" y=\"25.0\" dominant-baseline=\"middle\" text-anchor=\"middle\" font-size=\"14px\" font-family=\"Arial\">Y^x1</text><rect x=\"212.8946875\" y=\"5.0\" width=\"46.48175781250001\" height=\"40\" stroke=\"black\" fill=\"white\" stroke-width=\"1\" /><text x=\"236.13556640625\" y=\"25.0\" dominant-baseline=\"middle\" text-anchor=\"middle\" font-size=\"14px\" font-family=\"Arial\">Z^x2</text></svg>"
          },
          "metadata": {
            "tags": []
          },
          "execution_count": 52
        }
      ]
    },
    {
      "cell_type": "code",
      "metadata": {
        "id": "qrKzFWzx9ZoG",
        "colab": {
          "base_uri": "https://localhost:8080/",
          "height": 141
        },
        "outputId": "dd8ef1fa-a023-4352-d933-0430764090ee"
      },
      "source": [
        "SVGCircuit(two_qubit_unitary(cirq.GridQubit.rect(1,2), sympy.symbols('x0:15')))"
      ],
      "execution_count": 53,
      "outputs": [
        {
          "output_type": "execute_result",
          "data": {
            "text/plain": [
              "<cirq.contrib.svg.svg.SVGCircuit at 0x7fa0dc9c0b90>"
            ],
            "image/svg+xml": "<svg xmlns=\"http://www.w3.org/2000/svg\" width=\"1182.8964453124997\" height=\"100.0\"><line x1=\"34.7588671875\" x2=\"1152.8964453124997\" y1=\"25.0\" y2=\"25.0\" stroke=\"#1967d2\" stroke-width=\"1\" /><line x1=\"34.7588671875\" x2=\"1152.8964453124997\" y1=\"75.0\" y2=\"75.0\" stroke=\"#1967d2\" stroke-width=\"1\" /><line x1=\"508.0261328125\" x2=\"508.0261328125\" y1=\"25.0\" y2=\"75.0\" stroke=\"black\" stroke-width=\"3\" /><line x1=\"583.7519921875\" x2=\"583.7519921875\" y1=\"25.0\" y2=\"75.0\" stroke=\"black\" stroke-width=\"3\" /><line x1=\"659.5456640625\" x2=\"659.5456640625\" y1=\"25.0\" y2=\"75.0\" stroke=\"black\" stroke-width=\"3\" /><rect x=\"10.0\" y=\"5.0\" width=\"49.517734375\" height=\"40\" stroke=\"black\" fill=\"white\" stroke-width=\"0\" /><text x=\"34.7588671875\" y=\"25.0\" dominant-baseline=\"middle\" text-anchor=\"middle\" font-size=\"14px\" font-family=\"Arial\">(0, 0): </text><rect x=\"10.0\" y=\"55.0\" width=\"49.517734375\" height=\"40\" stroke=\"black\" fill=\"white\" stroke-width=\"0\" /><text x=\"34.7588671875\" y=\"75.0\" dominant-baseline=\"middle\" text-anchor=\"middle\" font-size=\"14px\" font-family=\"Arial\">(0, 1): </text><rect x=\"79.517734375\" y=\"5.0\" width=\"47.1664453125\" height=\"40\" stroke=\"black\" fill=\"white\" stroke-width=\"1\" /><text x=\"103.10095703125\" y=\"25.0\" dominant-baseline=\"middle\" text-anchor=\"middle\" font-size=\"14px\" font-family=\"Arial\">X^x0</text><rect x=\"146.6841796875\" y=\"5.0\" width=\"46.2105078125\" height=\"40\" stroke=\"black\" fill=\"white\" stroke-width=\"1\" /><text x=\"169.78943359375\" y=\"25.0\" dominant-baseline=\"middle\" text-anchor=\"middle\" font-size=\"14px\" font-family=\"Arial\">Y^x1</text><rect x=\"212.8946875\" y=\"5.0\" width=\"46.48175781250001\" height=\"40\" stroke=\"black\" fill=\"white\" stroke-width=\"1\" /><text x=\"236.13556640625\" y=\"25.0\" dominant-baseline=\"middle\" text-anchor=\"middle\" font-size=\"14px\" font-family=\"Arial\">Z^x2</text><rect x=\"279.3764453125\" y=\"55.0\" width=\"46.97394531250001\" height=\"40\" stroke=\"black\" fill=\"white\" stroke-width=\"1\" /><text x=\"302.86341796875\" y=\"75.0\" dominant-baseline=\"middle\" text-anchor=\"middle\" font-size=\"14px\" font-family=\"Arial\">X^x3</text><rect x=\"346.350390625\" y=\"55.0\" width=\"46.718007812500005\" height=\"40\" stroke=\"black\" fill=\"white\" stroke-width=\"1\" /><text x=\"369.70939453125\" y=\"75.0\" dominant-baseline=\"middle\" text-anchor=\"middle\" font-size=\"14px\" font-family=\"Arial\">Y^x4</text><rect x=\"413.0683984375\" y=\"55.0\" width=\"46.6611328125\" height=\"40\" stroke=\"black\" fill=\"white\" stroke-width=\"1\" /><text x=\"436.39896484375\" y=\"75.0\" dominant-baseline=\"middle\" text-anchor=\"middle\" font-size=\"14px\" font-family=\"Arial\">Z^x5</text><rect x=\"479.72953125000004\" y=\"5.0\" width=\"56.593203125\" height=\"40\" stroke=\"black\" fill=\"white\" stroke-width=\"1\" /><text x=\"508.0261328125\" y=\"25.0\" dominant-baseline=\"middle\" text-anchor=\"middle\" font-size=\"14px\" font-family=\"Arial\">ZZ</text><rect x=\"479.72953125000004\" y=\"55.0\" width=\"56.593203125\" height=\"40\" stroke=\"black\" fill=\"white\" stroke-width=\"1\" /><text x=\"508.0261328125\" y=\"75.0\" dominant-baseline=\"middle\" text-anchor=\"middle\" font-size=\"14px\" font-family=\"Arial\">ZZ^x6</text><rect x=\"556.322734375\" y=\"5.0\" width=\"54.85851562500001\" height=\"40\" stroke=\"black\" fill=\"white\" stroke-width=\"1\" /><text x=\"583.7519921875\" y=\"25.0\" dominant-baseline=\"middle\" text-anchor=\"middle\" font-size=\"14px\" font-family=\"Arial\">YY</text><rect x=\"556.322734375\" y=\"55.0\" width=\"54.85851562500001\" height=\"40\" stroke=\"black\" fill=\"white\" stroke-width=\"1\" /><text x=\"583.7519921875\" y=\"75.0\" dominant-baseline=\"middle\" text-anchor=\"middle\" font-size=\"14px\" font-family=\"Arial\">YY^x7</text><rect x=\"631.18125\" y=\"5.0\" width=\"56.72882812500001\" height=\"40\" stroke=\"black\" fill=\"white\" stroke-width=\"1\" /><text x=\"659.5456640625\" y=\"25.0\" dominant-baseline=\"middle\" text-anchor=\"middle\" font-size=\"14px\" font-family=\"Arial\">XX</text><rect x=\"631.18125\" y=\"55.0\" width=\"56.72882812500001\" height=\"40\" stroke=\"black\" fill=\"white\" stroke-width=\"1\" /><text x=\"659.5456640625\" y=\"75.0\" dominant-baseline=\"middle\" text-anchor=\"middle\" font-size=\"14px\" font-family=\"Arial\">XX^x8</text><rect x=\"707.9100781249999\" y=\"5.0\" width=\"47.1117578125\" height=\"40\" stroke=\"black\" fill=\"white\" stroke-width=\"1\" /><text x=\"731.4659570312499\" y=\"25.0\" dominant-baseline=\"middle\" text-anchor=\"middle\" font-size=\"14px\" font-family=\"Arial\">X^x9</text><rect x=\"775.0218359374999\" y=\"5.0\" width=\"55.48085937500001\" height=\"40\" stroke=\"black\" fill=\"white\" stroke-width=\"1\" /><text x=\"802.7622656249998\" y=\"25.0\" dominant-baseline=\"middle\" text-anchor=\"middle\" font-size=\"14px\" font-family=\"Arial\">Y^x10</text><rect x=\"850.5026953124999\" y=\"5.0\" width=\"55.49835937500001\" height=\"40\" stroke=\"black\" fill=\"white\" stroke-width=\"1\" /><text x=\"878.2518749999999\" y=\"25.0\" dominant-baseline=\"middle\" text-anchor=\"middle\" font-size=\"14px\" font-family=\"Arial\">Z^x11</text><rect x=\"926.0010546874998\" y=\"55.0\" width=\"55.601171875000006\" height=\"40\" stroke=\"black\" fill=\"white\" stroke-width=\"1\" /><text x=\"953.8016406249999\" y=\"75.0\" dominant-baseline=\"middle\" text-anchor=\"middle\" font-size=\"14px\" font-family=\"Arial\">X^x12</text><rect x=\"1001.6022265624998\" y=\"55.0\" width=\"55.288359375\" height=\"40\" stroke=\"black\" fill=\"white\" stroke-width=\"1\" /><text x=\"1029.2464062499998\" y=\"75.0\" dominant-baseline=\"middle\" text-anchor=\"middle\" font-size=\"14px\" font-family=\"Arial\">Y^x13</text><rect x=\"1076.8905859374997\" y=\"55.0\" width=\"56.005859375\" height=\"40\" stroke=\"black\" fill=\"white\" stroke-width=\"1\" /><text x=\"1104.8935156249997\" y=\"75.0\" dominant-baseline=\"middle\" text-anchor=\"middle\" font-size=\"14px\" font-family=\"Arial\">Z^x14</text></svg>"
          },
          "metadata": {
            "tags": []
          },
          "execution_count": 53
        }
      ]
    },
    {
      "cell_type": "markdown",
      "metadata": {
        "id": "C1b3eM020ZJ4"
      },
      "source": [
        "2. Quantum Convolution"
      ]
    },
    {
      "cell_type": "code",
      "metadata": {
        "id": "NoHm1krczlPy"
      },
      "source": [
        "import itertools\n",
        "def quantum_conv_circuit(bits, symbols):\n",
        "  \"\"\"  Quantum Conv layer like from QCNN paper:\n",
        "  Return a Cirq circuit with the cascade of `two_qubit_unitary` applied\n",
        "    to all pairs of qubits in `bits` as in the diagram above. \"\"\"\n",
        "\n",
        "  circuit = cirq.Circuit()\n",
        "  # cascade from first qubit (0,0) to the last qubit with two qubit unitaries\n",
        "  #for first, second in zip(itertools.repeat(bits[0::2],len(bits)), bits[1::2]):\n",
        "  #    circuit += two_qubit_unitary([first, second], symbols)\n",
        "      \n",
        "  #cascade from first qubit (0,0) to the last qubit with two qubit unitaries\n",
        "  for first, second in zip(bits[0::2], bits[1::2]):\n",
        "      circuit += two_qubit_unitary([first, second], symbols)\n",
        "  \n",
        "  #zip(itertools.repeat(float(price),len(bids)), bids)\n",
        "  #  cascade from second qubit (0,1) to the last qubit with two qubit unitaries\n",
        "  for first, second in zip(bits[1::2], bits[2::2] + [bits[0]]):\n",
        "      circuit += two_qubit_unitary([first, second], symbols)\n",
        "\n",
        "  return circuit\n"
      ],
      "execution_count": 246,
      "outputs": []
    },
    {
      "cell_type": "code",
      "metadata": {
        "colab": {
          "base_uri": "https://localhost:8080/",
          "height": 441
        },
        "id": "V6ZBnnlPzlN3",
        "outputId": "9ca647f7-82b3-43d6-93d8-672837ee2b58"
      },
      "source": [
        "## Test for 8 qubits\n",
        "SVGCircuit(quantum_conv_circuit(cirq.GridQubit.rect(1, 8), sympy.symbols('x0:15')))"
      ],
      "execution_count": 247,
      "outputs": [
        {
          "output_type": "execute_result",
          "data": {
            "text/plain": [
              "<cirq.contrib.svg.svg.SVGCircuit at 0x7fa0dc301b50>"
            ],
            "image/svg+xml": "<svg xmlns=\"http://www.w3.org/2000/svg\" width=\"8696.547421875006\" height=\"400.0\"><line x1=\"34.7588671875\" x2=\"8666.547421875006\" y1=\"25.0\" y2=\"25.0\" stroke=\"#1967d2\" stroke-width=\"1\" /><line x1=\"34.7588671875\" x2=\"8666.547421875006\" y1=\"75.0\" y2=\"75.0\" stroke=\"#1967d2\" stroke-width=\"1\" /><line x1=\"34.7588671875\" x2=\"8666.547421875006\" y1=\"125.0\" y2=\"125.0\" stroke=\"#1967d2\" stroke-width=\"1\" /><line x1=\"34.7588671875\" x2=\"8666.547421875006\" y1=\"175.0\" y2=\"175.0\" stroke=\"#1967d2\" stroke-width=\"1\" /><line x1=\"34.7588671875\" x2=\"8666.547421875006\" y1=\"225.0\" y2=\"225.0\" stroke=\"#1967d2\" stroke-width=\"1\" /><line x1=\"34.7588671875\" x2=\"8666.547421875006\" y1=\"275.0\" y2=\"275.0\" stroke=\"#1967d2\" stroke-width=\"1\" /><line x1=\"34.7588671875\" x2=\"8666.547421875006\" y1=\"325.0\" y2=\"325.0\" stroke=\"#1967d2\" stroke-width=\"1\" /><line x1=\"34.7588671875\" x2=\"8666.547421875006\" y1=\"375.0\" y2=\"375.0\" stroke=\"#1967d2\" stroke-width=\"1\" /><line x1=\"508.0261328125\" x2=\"508.0261328125\" y1=\"25.0\" y2=\"75.0\" stroke=\"black\" stroke-width=\"3\" /><line x1=\"583.7519921875\" x2=\"583.7519921875\" y1=\"25.0\" y2=\"75.0\" stroke=\"black\" stroke-width=\"3\" /><line x1=\"659.5456640625\" x2=\"659.5456640625\" y1=\"25.0\" y2=\"75.0\" stroke=\"black\" stroke-width=\"3\" /><line x1=\"1581.4048437499998\" x2=\"1581.4048437499998\" y1=\"125.0\" y2=\"175.0\" stroke=\"black\" stroke-width=\"3\" /><line x1=\"1657.1307031249999\" x2=\"1657.1307031249999\" y1=\"125.0\" y2=\"175.0\" stroke=\"black\" stroke-width=\"3\" /><line x1=\"1732.9243749999998\" x2=\"1732.9243749999998\" y1=\"125.0\" y2=\"175.0\" stroke=\"black\" stroke-width=\"3\" /><line x1=\"2654.7835546875\" x2=\"2654.7835546875\" y1=\"225.0\" y2=\"275.0\" stroke=\"black\" stroke-width=\"3\" /><line x1=\"2730.5094140624997\" x2=\"2730.5094140624997\" y1=\"225.0\" y2=\"275.0\" stroke=\"black\" stroke-width=\"3\" /><line x1=\"2806.3030859375\" x2=\"2806.3030859375\" y1=\"225.0\" y2=\"275.0\" stroke=\"black\" stroke-width=\"3\" /><line x1=\"3728.1622656249992\" x2=\"3728.1622656249992\" y1=\"325.0\" y2=\"375.0\" stroke=\"black\" stroke-width=\"3\" /><line x1=\"3803.888124999999\" x2=\"3803.888124999999\" y1=\"325.0\" y2=\"375.0\" stroke=\"black\" stroke-width=\"3\" /><line x1=\"3879.6817968749992\" x2=\"3879.6817968749992\" y1=\"325.0\" y2=\"375.0\" stroke=\"black\" stroke-width=\"3\" /><line x1=\"4801.540976562499\" x2=\"4801.540976562499\" y1=\"75.0\" y2=\"125.0\" stroke=\"black\" stroke-width=\"3\" /><line x1=\"4877.266835937499\" x2=\"4877.266835937499\" y1=\"75.0\" y2=\"125.0\" stroke=\"black\" stroke-width=\"3\" /><line x1=\"4953.0605078125\" x2=\"4953.0605078125\" y1=\"75.0\" y2=\"125.0\" stroke=\"black\" stroke-width=\"3\" /><line x1=\"5874.919687500002\" x2=\"5874.919687500002\" y1=\"175.0\" y2=\"225.0\" stroke=\"black\" stroke-width=\"3\" /><line x1=\"5950.645546875002\" x2=\"5950.645546875002\" y1=\"175.0\" y2=\"225.0\" stroke=\"black\" stroke-width=\"3\" /><line x1=\"6026.4392187500025\" x2=\"6026.4392187500025\" y1=\"175.0\" y2=\"225.0\" stroke=\"black\" stroke-width=\"3\" /><line x1=\"6948.298398437504\" x2=\"6948.298398437504\" y1=\"275.0\" y2=\"325.0\" stroke=\"black\" stroke-width=\"3\" /><line x1=\"7024.024257812504\" x2=\"7024.024257812504\" y1=\"275.0\" y2=\"325.0\" stroke=\"black\" stroke-width=\"3\" /><line x1=\"7099.817929687505\" x2=\"7099.817929687505\" y1=\"275.0\" y2=\"325.0\" stroke=\"black\" stroke-width=\"3\" /><line x1=\"8021.677109375007\" x2=\"8021.677109375007\" y1=\"25.0\" y2=\"375.0\" stroke=\"black\" stroke-width=\"3\" /><line x1=\"8097.402968750007\" x2=\"8097.402968750007\" y1=\"25.0\" y2=\"375.0\" stroke=\"black\" stroke-width=\"3\" /><line x1=\"8173.196640625008\" x2=\"8173.196640625008\" y1=\"25.0\" y2=\"375.0\" stroke=\"black\" stroke-width=\"3\" /><rect x=\"10.0\" y=\"5.0\" width=\"49.517734375\" height=\"40\" stroke=\"black\" fill=\"white\" stroke-width=\"0\" /><text x=\"34.7588671875\" y=\"25.0\" dominant-baseline=\"middle\" text-anchor=\"middle\" font-size=\"14px\" font-family=\"Arial\">(0, 0): </text><rect x=\"10.0\" y=\"55.0\" width=\"49.517734375\" height=\"40\" stroke=\"black\" fill=\"white\" stroke-width=\"0\" /><text x=\"34.7588671875\" y=\"75.0\" dominant-baseline=\"middle\" text-anchor=\"middle\" font-size=\"14px\" font-family=\"Arial\">(0, 1): </text><rect x=\"10.0\" y=\"105.0\" width=\"49.517734375\" height=\"40\" stroke=\"black\" fill=\"white\" stroke-width=\"0\" /><text x=\"34.7588671875\" y=\"125.0\" dominant-baseline=\"middle\" text-anchor=\"middle\" font-size=\"14px\" font-family=\"Arial\">(0, 2): </text><rect x=\"10.0\" y=\"155.0\" width=\"49.517734375\" height=\"40\" stroke=\"black\" fill=\"white\" stroke-width=\"0\" /><text x=\"34.7588671875\" y=\"175.0\" dominant-baseline=\"middle\" text-anchor=\"middle\" font-size=\"14px\" font-family=\"Arial\">(0, 3): </text><rect x=\"10.0\" y=\"205.0\" width=\"49.517734375\" height=\"40\" stroke=\"black\" fill=\"white\" stroke-width=\"0\" /><text x=\"34.7588671875\" y=\"225.0\" dominant-baseline=\"middle\" text-anchor=\"middle\" font-size=\"14px\" font-family=\"Arial\">(0, 4): </text><rect x=\"10.0\" y=\"255.0\" width=\"49.517734375\" height=\"40\" stroke=\"black\" fill=\"white\" stroke-width=\"0\" /><text x=\"34.7588671875\" y=\"275.0\" dominant-baseline=\"middle\" text-anchor=\"middle\" font-size=\"14px\" font-family=\"Arial\">(0, 5): </text><rect x=\"10.0\" y=\"305.0\" width=\"49.517734375\" height=\"40\" stroke=\"black\" fill=\"white\" stroke-width=\"0\" /><text x=\"34.7588671875\" y=\"325.0\" dominant-baseline=\"middle\" text-anchor=\"middle\" font-size=\"14px\" font-family=\"Arial\">(0, 6): </text><rect x=\"10.0\" y=\"355.0\" width=\"49.517734375\" height=\"40\" stroke=\"black\" fill=\"white\" stroke-width=\"0\" /><text x=\"34.7588671875\" y=\"375.0\" dominant-baseline=\"middle\" text-anchor=\"middle\" font-size=\"14px\" font-family=\"Arial\">(0, 7): </text><rect x=\"79.517734375\" y=\"5.0\" width=\"47.1664453125\" height=\"40\" stroke=\"black\" fill=\"white\" stroke-width=\"1\" /><text x=\"103.10095703125\" y=\"25.0\" dominant-baseline=\"middle\" text-anchor=\"middle\" font-size=\"14px\" font-family=\"Arial\">X^x0</text><rect x=\"146.6841796875\" y=\"5.0\" width=\"46.2105078125\" height=\"40\" stroke=\"black\" fill=\"white\" stroke-width=\"1\" /><text x=\"169.78943359375\" y=\"25.0\" dominant-baseline=\"middle\" text-anchor=\"middle\" font-size=\"14px\" font-family=\"Arial\">Y^x1</text><rect x=\"212.8946875\" y=\"5.0\" width=\"46.48175781250001\" height=\"40\" stroke=\"black\" fill=\"white\" stroke-width=\"1\" /><text x=\"236.13556640625\" y=\"25.0\" dominant-baseline=\"middle\" text-anchor=\"middle\" font-size=\"14px\" font-family=\"Arial\">Z^x2</text><rect x=\"279.3764453125\" y=\"55.0\" width=\"46.97394531250001\" height=\"40\" stroke=\"black\" fill=\"white\" stroke-width=\"1\" /><text x=\"302.86341796875\" y=\"75.0\" dominant-baseline=\"middle\" text-anchor=\"middle\" font-size=\"14px\" font-family=\"Arial\">X^x3</text><rect x=\"346.350390625\" y=\"55.0\" width=\"46.718007812500005\" height=\"40\" stroke=\"black\" fill=\"white\" stroke-width=\"1\" /><text x=\"369.70939453125\" y=\"75.0\" dominant-baseline=\"middle\" text-anchor=\"middle\" font-size=\"14px\" font-family=\"Arial\">Y^x4</text><rect x=\"413.0683984375\" y=\"55.0\" width=\"46.6611328125\" height=\"40\" stroke=\"black\" fill=\"white\" stroke-width=\"1\" /><text x=\"436.39896484375\" y=\"75.0\" dominant-baseline=\"middle\" text-anchor=\"middle\" font-size=\"14px\" font-family=\"Arial\">Z^x5</text><rect x=\"479.72953125000004\" y=\"5.0\" width=\"56.593203125\" height=\"40\" stroke=\"black\" fill=\"white\" stroke-width=\"1\" /><text x=\"508.0261328125\" y=\"25.0\" dominant-baseline=\"middle\" text-anchor=\"middle\" font-size=\"14px\" font-family=\"Arial\">ZZ</text><rect x=\"479.72953125000004\" y=\"55.0\" width=\"56.593203125\" height=\"40\" stroke=\"black\" fill=\"white\" stroke-width=\"1\" /><text x=\"508.0261328125\" y=\"75.0\" dominant-baseline=\"middle\" text-anchor=\"middle\" font-size=\"14px\" font-family=\"Arial\">ZZ^x6</text><rect x=\"556.322734375\" y=\"5.0\" width=\"54.85851562500001\" height=\"40\" stroke=\"black\" fill=\"white\" stroke-width=\"1\" /><text x=\"583.7519921875\" y=\"25.0\" dominant-baseline=\"middle\" text-anchor=\"middle\" font-size=\"14px\" font-family=\"Arial\">YY</text><rect x=\"556.322734375\" y=\"55.0\" width=\"54.85851562500001\" height=\"40\" stroke=\"black\" fill=\"white\" stroke-width=\"1\" /><text x=\"583.7519921875\" y=\"75.0\" dominant-baseline=\"middle\" text-anchor=\"middle\" font-size=\"14px\" font-family=\"Arial\">YY^x7</text><rect x=\"631.18125\" y=\"5.0\" width=\"56.72882812500001\" height=\"40\" stroke=\"black\" fill=\"white\" stroke-width=\"1\" /><text x=\"659.5456640625\" y=\"25.0\" dominant-baseline=\"middle\" text-anchor=\"middle\" font-size=\"14px\" font-family=\"Arial\">XX</text><rect x=\"631.18125\" y=\"55.0\" width=\"56.72882812500001\" height=\"40\" stroke=\"black\" fill=\"white\" stroke-width=\"1\" /><text x=\"659.5456640625\" y=\"75.0\" dominant-baseline=\"middle\" text-anchor=\"middle\" font-size=\"14px\" font-family=\"Arial\">XX^x8</text><rect x=\"707.9100781249999\" y=\"5.0\" width=\"47.1117578125\" height=\"40\" stroke=\"black\" fill=\"white\" stroke-width=\"1\" /><text x=\"731.4659570312499\" y=\"25.0\" dominant-baseline=\"middle\" text-anchor=\"middle\" font-size=\"14px\" font-family=\"Arial\">X^x9</text><rect x=\"775.0218359374999\" y=\"5.0\" width=\"55.48085937500001\" height=\"40\" stroke=\"black\" fill=\"white\" stroke-width=\"1\" /><text x=\"802.7622656249998\" y=\"25.0\" dominant-baseline=\"middle\" text-anchor=\"middle\" font-size=\"14px\" font-family=\"Arial\">Y^x10</text><rect x=\"850.5026953124999\" y=\"5.0\" width=\"55.49835937500001\" height=\"40\" stroke=\"black\" fill=\"white\" stroke-width=\"1\" /><text x=\"878.2518749999999\" y=\"25.0\" dominant-baseline=\"middle\" text-anchor=\"middle\" font-size=\"14px\" font-family=\"Arial\">Z^x11</text><rect x=\"926.0010546874998\" y=\"55.0\" width=\"55.601171875000006\" height=\"40\" stroke=\"black\" fill=\"white\" stroke-width=\"1\" /><text x=\"953.8016406249999\" y=\"75.0\" dominant-baseline=\"middle\" text-anchor=\"middle\" font-size=\"14px\" font-family=\"Arial\">X^x12</text><rect x=\"1001.6022265624998\" y=\"55.0\" width=\"55.288359375\" height=\"40\" stroke=\"black\" fill=\"white\" stroke-width=\"1\" /><text x=\"1029.2464062499998\" y=\"75.0\" dominant-baseline=\"middle\" text-anchor=\"middle\" font-size=\"14px\" font-family=\"Arial\">Y^x13</text><rect x=\"1076.8905859374997\" y=\"55.0\" width=\"56.005859375\" height=\"40\" stroke=\"black\" fill=\"white\" stroke-width=\"1\" /><text x=\"1104.8935156249997\" y=\"75.0\" dominant-baseline=\"middle\" text-anchor=\"middle\" font-size=\"14px\" font-family=\"Arial\">Z^x14</text><rect x=\"1152.8964453124997\" y=\"105.0\" width=\"47.1664453125\" height=\"40\" stroke=\"black\" fill=\"white\" stroke-width=\"1\" /><text x=\"1176.4796679687497\" y=\"125.0\" dominant-baseline=\"middle\" text-anchor=\"middle\" font-size=\"14px\" font-family=\"Arial\">X^x0</text><rect x=\"1220.0628906249997\" y=\"105.0\" width=\"46.2105078125\" height=\"40\" stroke=\"black\" fill=\"white\" stroke-width=\"1\" /><text x=\"1243.1681445312497\" y=\"125.0\" dominant-baseline=\"middle\" text-anchor=\"middle\" font-size=\"14px\" font-family=\"Arial\">Y^x1</text><rect x=\"1286.2733984374997\" y=\"105.0\" width=\"46.48175781250001\" height=\"40\" stroke=\"black\" fill=\"white\" stroke-width=\"1\" /><text x=\"1309.5142773437497\" y=\"125.0\" dominant-baseline=\"middle\" text-anchor=\"middle\" font-size=\"14px\" font-family=\"Arial\">Z^x2</text><rect x=\"1352.7551562499998\" y=\"155.0\" width=\"46.97394531250001\" height=\"40\" stroke=\"black\" fill=\"white\" stroke-width=\"1\" /><text x=\"1376.2421289062497\" y=\"175.0\" dominant-baseline=\"middle\" text-anchor=\"middle\" font-size=\"14px\" font-family=\"Arial\">X^x3</text><rect x=\"1419.7291015624999\" y=\"155.0\" width=\"46.718007812500005\" height=\"40\" stroke=\"black\" fill=\"white\" stroke-width=\"1\" /><text x=\"1443.08810546875\" y=\"175.0\" dominant-baseline=\"middle\" text-anchor=\"middle\" font-size=\"14px\" font-family=\"Arial\">Y^x4</text><rect x=\"1486.4471093749999\" y=\"155.0\" width=\"46.6611328125\" height=\"40\" stroke=\"black\" fill=\"white\" stroke-width=\"1\" /><text x=\"1509.7776757812499\" y=\"175.0\" dominant-baseline=\"middle\" text-anchor=\"middle\" font-size=\"14px\" font-family=\"Arial\">Z^x5</text><rect x=\"1553.1082421874999\" y=\"105.0\" width=\"56.593203125\" height=\"40\" stroke=\"black\" fill=\"white\" stroke-width=\"1\" /><text x=\"1581.4048437499998\" y=\"125.0\" dominant-baseline=\"middle\" text-anchor=\"middle\" font-size=\"14px\" font-family=\"Arial\">ZZ</text><rect x=\"1553.1082421874999\" y=\"155.0\" width=\"56.593203125\" height=\"40\" stroke=\"black\" fill=\"white\" stroke-width=\"1\" /><text x=\"1581.4048437499998\" y=\"175.0\" dominant-baseline=\"middle\" text-anchor=\"middle\" font-size=\"14px\" font-family=\"Arial\">ZZ^x6</text><rect x=\"1629.7014453124998\" y=\"105.0\" width=\"54.85851562500001\" height=\"40\" stroke=\"black\" fill=\"white\" stroke-width=\"1\" /><text x=\"1657.1307031249999\" y=\"125.0\" dominant-baseline=\"middle\" text-anchor=\"middle\" font-size=\"14px\" font-family=\"Arial\">YY</text><rect x=\"1629.7014453124998\" y=\"155.0\" width=\"54.85851562500001\" height=\"40\" stroke=\"black\" fill=\"white\" stroke-width=\"1\" /><text x=\"1657.1307031249999\" y=\"175.0\" dominant-baseline=\"middle\" text-anchor=\"middle\" font-size=\"14px\" font-family=\"Arial\">YY^x7</text><rect x=\"1704.5599609375\" y=\"105.0\" width=\"56.72882812500001\" height=\"40\" stroke=\"black\" fill=\"white\" stroke-width=\"1\" /><text x=\"1732.9243749999998\" y=\"125.0\" dominant-baseline=\"middle\" text-anchor=\"middle\" font-size=\"14px\" font-family=\"Arial\">XX</text><rect x=\"1704.5599609375\" y=\"155.0\" width=\"56.72882812500001\" height=\"40\" stroke=\"black\" fill=\"white\" stroke-width=\"1\" /><text x=\"1732.9243749999998\" y=\"175.0\" dominant-baseline=\"middle\" text-anchor=\"middle\" font-size=\"14px\" font-family=\"Arial\">XX^x8</text><rect x=\"1781.2887890625\" y=\"105.0\" width=\"47.1117578125\" height=\"40\" stroke=\"black\" fill=\"white\" stroke-width=\"1\" /><text x=\"1804.84466796875\" y=\"125.0\" dominant-baseline=\"middle\" text-anchor=\"middle\" font-size=\"14px\" font-family=\"Arial\">X^x9</text><rect x=\"1848.400546875\" y=\"105.0\" width=\"55.48085937500001\" height=\"40\" stroke=\"black\" fill=\"white\" stroke-width=\"1\" /><text x=\"1876.1409765624999\" y=\"125.0\" dominant-baseline=\"middle\" text-anchor=\"middle\" font-size=\"14px\" font-family=\"Arial\">Y^x10</text><rect x=\"1923.8814062499998\" y=\"105.0\" width=\"55.49835937500001\" height=\"40\" stroke=\"black\" fill=\"white\" stroke-width=\"1\" /><text x=\"1951.6305859374997\" y=\"125.0\" dominant-baseline=\"middle\" text-anchor=\"middle\" font-size=\"14px\" font-family=\"Arial\">Z^x11</text><rect x=\"1999.379765625\" y=\"155.0\" width=\"55.601171875000006\" height=\"40\" stroke=\"black\" fill=\"white\" stroke-width=\"1\" /><text x=\"2027.1803515625\" y=\"175.0\" dominant-baseline=\"middle\" text-anchor=\"middle\" font-size=\"14px\" font-family=\"Arial\">X^x12</text><rect x=\"2074.9809375\" y=\"155.0\" width=\"55.288359375\" height=\"40\" stroke=\"black\" fill=\"white\" stroke-width=\"1\" /><text x=\"2102.6251171875\" y=\"175.0\" dominant-baseline=\"middle\" text-anchor=\"middle\" font-size=\"14px\" font-family=\"Arial\">Y^x13</text><rect x=\"2150.269296875\" y=\"155.0\" width=\"56.005859375\" height=\"40\" stroke=\"black\" fill=\"white\" stroke-width=\"1\" /><text x=\"2178.2722265625\" y=\"175.0\" dominant-baseline=\"middle\" text-anchor=\"middle\" font-size=\"14px\" font-family=\"Arial\">Z^x14</text><rect x=\"2226.27515625\" y=\"205.0\" width=\"47.1664453125\" height=\"40\" stroke=\"black\" fill=\"white\" stroke-width=\"1\" /><text x=\"2249.85837890625\" y=\"225.0\" dominant-baseline=\"middle\" text-anchor=\"middle\" font-size=\"14px\" font-family=\"Arial\">X^x0</text><rect x=\"2293.4416015624997\" y=\"205.0\" width=\"46.2105078125\" height=\"40\" stroke=\"black\" fill=\"white\" stroke-width=\"1\" /><text x=\"2316.5468554687495\" y=\"225.0\" dominant-baseline=\"middle\" text-anchor=\"middle\" font-size=\"14px\" font-family=\"Arial\">Y^x1</text><rect x=\"2359.652109375\" y=\"205.0\" width=\"46.48175781250001\" height=\"40\" stroke=\"black\" fill=\"white\" stroke-width=\"1\" /><text x=\"2382.89298828125\" y=\"225.0\" dominant-baseline=\"middle\" text-anchor=\"middle\" font-size=\"14px\" font-family=\"Arial\">Z^x2</text><rect x=\"2426.1338671874996\" y=\"255.0\" width=\"46.97394531250001\" height=\"40\" stroke=\"black\" fill=\"white\" stroke-width=\"1\" /><text x=\"2449.6208398437498\" y=\"275.0\" dominant-baseline=\"middle\" text-anchor=\"middle\" font-size=\"14px\" font-family=\"Arial\">X^x3</text><rect x=\"2493.1078124999995\" y=\"255.0\" width=\"46.718007812500005\" height=\"40\" stroke=\"black\" fill=\"white\" stroke-width=\"1\" /><text x=\"2516.4668164062496\" y=\"275.0\" dominant-baseline=\"middle\" text-anchor=\"middle\" font-size=\"14px\" font-family=\"Arial\">Y^x4</text><rect x=\"2559.8258203124997\" y=\"255.0\" width=\"46.6611328125\" height=\"40\" stroke=\"black\" fill=\"white\" stroke-width=\"1\" /><text x=\"2583.1563867187497\" y=\"275.0\" dominant-baseline=\"middle\" text-anchor=\"middle\" font-size=\"14px\" font-family=\"Arial\">Z^x5</text><rect x=\"2626.4869531249997\" y=\"205.0\" width=\"56.593203125\" height=\"40\" stroke=\"black\" fill=\"white\" stroke-width=\"1\" /><text x=\"2654.7835546875\" y=\"225.0\" dominant-baseline=\"middle\" text-anchor=\"middle\" font-size=\"14px\" font-family=\"Arial\">ZZ</text><rect x=\"2626.4869531249997\" y=\"255.0\" width=\"56.593203125\" height=\"40\" stroke=\"black\" fill=\"white\" stroke-width=\"1\" /><text x=\"2654.7835546875\" y=\"275.0\" dominant-baseline=\"middle\" text-anchor=\"middle\" font-size=\"14px\" font-family=\"Arial\">ZZ^x6</text><rect x=\"2703.0801562499996\" y=\"205.0\" width=\"54.85851562500001\" height=\"40\" stroke=\"black\" fill=\"white\" stroke-width=\"1\" /><text x=\"2730.5094140624997\" y=\"225.0\" dominant-baseline=\"middle\" text-anchor=\"middle\" font-size=\"14px\" font-family=\"Arial\">YY</text><rect x=\"2703.0801562499996\" y=\"255.0\" width=\"54.85851562500001\" height=\"40\" stroke=\"black\" fill=\"white\" stroke-width=\"1\" /><text x=\"2730.5094140624997\" y=\"275.0\" dominant-baseline=\"middle\" text-anchor=\"middle\" font-size=\"14px\" font-family=\"Arial\">YY^x7</text><rect x=\"2777.9386718749997\" y=\"205.0\" width=\"56.72882812500001\" height=\"40\" stroke=\"black\" fill=\"white\" stroke-width=\"1\" /><text x=\"2806.3030859375\" y=\"225.0\" dominant-baseline=\"middle\" text-anchor=\"middle\" font-size=\"14px\" font-family=\"Arial\">XX</text><rect x=\"2777.9386718749997\" y=\"255.0\" width=\"56.72882812500001\" height=\"40\" stroke=\"black\" fill=\"white\" stroke-width=\"1\" /><text x=\"2806.3030859375\" y=\"275.0\" dominant-baseline=\"middle\" text-anchor=\"middle\" font-size=\"14px\" font-family=\"Arial\">XX^x8</text><rect x=\"2854.6674999999996\" y=\"205.0\" width=\"47.1117578125\" height=\"40\" stroke=\"black\" fill=\"white\" stroke-width=\"1\" /><text x=\"2878.2233789062498\" y=\"225.0\" dominant-baseline=\"middle\" text-anchor=\"middle\" font-size=\"14px\" font-family=\"Arial\">X^x9</text><rect x=\"2921.7792578124995\" y=\"205.0\" width=\"55.48085937500001\" height=\"40\" stroke=\"black\" fill=\"white\" stroke-width=\"1\" /><text x=\"2949.5196874999997\" y=\"225.0\" dominant-baseline=\"middle\" text-anchor=\"middle\" font-size=\"14px\" font-family=\"Arial\">Y^x10</text><rect x=\"2997.2601171874994\" y=\"205.0\" width=\"55.49835937500001\" height=\"40\" stroke=\"black\" fill=\"white\" stroke-width=\"1\" /><text x=\"3025.0092968749996\" y=\"225.0\" dominant-baseline=\"middle\" text-anchor=\"middle\" font-size=\"14px\" font-family=\"Arial\">Z^x11</text><rect x=\"3072.7584765624993\" y=\"255.0\" width=\"55.601171875000006\" height=\"40\" stroke=\"black\" fill=\"white\" stroke-width=\"1\" /><text x=\"3100.559062499999\" y=\"275.0\" dominant-baseline=\"middle\" text-anchor=\"middle\" font-size=\"14px\" font-family=\"Arial\">X^x12</text><rect x=\"3148.3596484374993\" y=\"255.0\" width=\"55.288359375\" height=\"40\" stroke=\"black\" fill=\"white\" stroke-width=\"1\" /><text x=\"3176.0038281249995\" y=\"275.0\" dominant-baseline=\"middle\" text-anchor=\"middle\" font-size=\"14px\" font-family=\"Arial\">Y^x13</text><rect x=\"3223.648007812499\" y=\"255.0\" width=\"56.005859375\" height=\"40\" stroke=\"black\" fill=\"white\" stroke-width=\"1\" /><text x=\"3251.650937499999\" y=\"275.0\" dominant-baseline=\"middle\" text-anchor=\"middle\" font-size=\"14px\" font-family=\"Arial\">Z^x14</text><rect x=\"3299.653867187499\" y=\"305.0\" width=\"47.1664453125\" height=\"40\" stroke=\"black\" fill=\"white\" stroke-width=\"1\" /><text x=\"3323.2370898437493\" y=\"325.0\" dominant-baseline=\"middle\" text-anchor=\"middle\" font-size=\"14px\" font-family=\"Arial\">X^x0</text><rect x=\"3366.820312499999\" y=\"305.0\" width=\"46.2105078125\" height=\"40\" stroke=\"black\" fill=\"white\" stroke-width=\"1\" /><text x=\"3389.925566406249\" y=\"325.0\" dominant-baseline=\"middle\" text-anchor=\"middle\" font-size=\"14px\" font-family=\"Arial\">Y^x1</text><rect x=\"3433.030820312499\" y=\"305.0\" width=\"46.48175781250001\" height=\"40\" stroke=\"black\" fill=\"white\" stroke-width=\"1\" /><text x=\"3456.2716992187493\" y=\"325.0\" dominant-baseline=\"middle\" text-anchor=\"middle\" font-size=\"14px\" font-family=\"Arial\">Z^x2</text><rect x=\"3499.512578124999\" y=\"355.0\" width=\"46.97394531250001\" height=\"40\" stroke=\"black\" fill=\"white\" stroke-width=\"1\" /><text x=\"3522.999550781249\" y=\"375.0\" dominant-baseline=\"middle\" text-anchor=\"middle\" font-size=\"14px\" font-family=\"Arial\">X^x3</text><rect x=\"3566.486523437499\" y=\"355.0\" width=\"46.718007812500005\" height=\"40\" stroke=\"black\" fill=\"white\" stroke-width=\"1\" /><text x=\"3589.845527343749\" y=\"375.0\" dominant-baseline=\"middle\" text-anchor=\"middle\" font-size=\"14px\" font-family=\"Arial\">Y^x4</text><rect x=\"3633.204531249999\" y=\"355.0\" width=\"46.6611328125\" height=\"40\" stroke=\"black\" fill=\"white\" stroke-width=\"1\" /><text x=\"3656.535097656249\" y=\"375.0\" dominant-baseline=\"middle\" text-anchor=\"middle\" font-size=\"14px\" font-family=\"Arial\">Z^x5</text><rect x=\"3699.865664062499\" y=\"305.0\" width=\"56.593203125\" height=\"40\" stroke=\"black\" fill=\"white\" stroke-width=\"1\" /><text x=\"3728.1622656249992\" y=\"325.0\" dominant-baseline=\"middle\" text-anchor=\"middle\" font-size=\"14px\" font-family=\"Arial\">ZZ</text><rect x=\"3699.865664062499\" y=\"355.0\" width=\"56.593203125\" height=\"40\" stroke=\"black\" fill=\"white\" stroke-width=\"1\" /><text x=\"3728.1622656249992\" y=\"375.0\" dominant-baseline=\"middle\" text-anchor=\"middle\" font-size=\"14px\" font-family=\"Arial\">ZZ^x6</text><rect x=\"3776.458867187499\" y=\"305.0\" width=\"54.85851562500001\" height=\"40\" stroke=\"black\" fill=\"white\" stroke-width=\"1\" /><text x=\"3803.888124999999\" y=\"325.0\" dominant-baseline=\"middle\" text-anchor=\"middle\" font-size=\"14px\" font-family=\"Arial\">YY</text><rect x=\"3776.458867187499\" y=\"355.0\" width=\"54.85851562500001\" height=\"40\" stroke=\"black\" fill=\"white\" stroke-width=\"1\" /><text x=\"3803.888124999999\" y=\"375.0\" dominant-baseline=\"middle\" text-anchor=\"middle\" font-size=\"14px\" font-family=\"Arial\">YY^x7</text><rect x=\"3851.317382812499\" y=\"305.0\" width=\"56.72882812500001\" height=\"40\" stroke=\"black\" fill=\"white\" stroke-width=\"1\" /><text x=\"3879.6817968749992\" y=\"325.0\" dominant-baseline=\"middle\" text-anchor=\"middle\" font-size=\"14px\" font-family=\"Arial\">XX</text><rect x=\"3851.317382812499\" y=\"355.0\" width=\"56.72882812500001\" height=\"40\" stroke=\"black\" fill=\"white\" stroke-width=\"1\" /><text x=\"3879.6817968749992\" y=\"375.0\" dominant-baseline=\"middle\" text-anchor=\"middle\" font-size=\"14px\" font-family=\"Arial\">XX^x8</text><rect x=\"3928.046210937499\" y=\"305.0\" width=\"47.1117578125\" height=\"40\" stroke=\"black\" fill=\"white\" stroke-width=\"1\" /><text x=\"3951.602089843749\" y=\"325.0\" dominant-baseline=\"middle\" text-anchor=\"middle\" font-size=\"14px\" font-family=\"Arial\">X^x9</text><rect x=\"3995.157968749999\" y=\"305.0\" width=\"55.48085937500001\" height=\"40\" stroke=\"black\" fill=\"white\" stroke-width=\"1\" /><text x=\"4022.898398437499\" y=\"325.0\" dominant-baseline=\"middle\" text-anchor=\"middle\" font-size=\"14px\" font-family=\"Arial\">Y^x10</text><rect x=\"4070.6388281249983\" y=\"305.0\" width=\"55.49835937500001\" height=\"40\" stroke=\"black\" fill=\"white\" stroke-width=\"1\" /><text x=\"4098.3880078124985\" y=\"325.0\" dominant-baseline=\"middle\" text-anchor=\"middle\" font-size=\"14px\" font-family=\"Arial\">Z^x11</text><rect x=\"4146.137187499999\" y=\"355.0\" width=\"55.601171875000006\" height=\"40\" stroke=\"black\" fill=\"white\" stroke-width=\"1\" /><text x=\"4173.937773437498\" y=\"375.0\" dominant-baseline=\"middle\" text-anchor=\"middle\" font-size=\"14px\" font-family=\"Arial\">X^x12</text><rect x=\"4221.738359374998\" y=\"355.0\" width=\"55.288359375\" height=\"40\" stroke=\"black\" fill=\"white\" stroke-width=\"1\" /><text x=\"4249.382539062498\" y=\"375.0\" dominant-baseline=\"middle\" text-anchor=\"middle\" font-size=\"14px\" font-family=\"Arial\">Y^x13</text><rect x=\"4297.0267187499985\" y=\"355.0\" width=\"56.005859375\" height=\"40\" stroke=\"black\" fill=\"white\" stroke-width=\"1\" /><text x=\"4325.0296484374985\" y=\"375.0\" dominant-baseline=\"middle\" text-anchor=\"middle\" font-size=\"14px\" font-family=\"Arial\">Z^x14</text><rect x=\"4373.0325781249985\" y=\"55.0\" width=\"47.1664453125\" height=\"40\" stroke=\"black\" fill=\"white\" stroke-width=\"1\" /><text x=\"4396.615800781248\" y=\"75.0\" dominant-baseline=\"middle\" text-anchor=\"middle\" font-size=\"14px\" font-family=\"Arial\">X^x0</text><rect x=\"4440.199023437499\" y=\"55.0\" width=\"46.2105078125\" height=\"40\" stroke=\"black\" fill=\"white\" stroke-width=\"1\" /><text x=\"4463.304277343749\" y=\"75.0\" dominant-baseline=\"middle\" text-anchor=\"middle\" font-size=\"14px\" font-family=\"Arial\">Y^x1</text><rect x=\"4506.4095312499985\" y=\"55.0\" width=\"46.48175781250001\" height=\"40\" stroke=\"black\" fill=\"white\" stroke-width=\"1\" /><text x=\"4529.650410156249\" y=\"75.0\" dominant-baseline=\"middle\" text-anchor=\"middle\" font-size=\"14px\" font-family=\"Arial\">Z^x2</text><rect x=\"4572.891289062499\" y=\"105.0\" width=\"46.97394531250001\" height=\"40\" stroke=\"black\" fill=\"white\" stroke-width=\"1\" /><text x=\"4596.378261718749\" y=\"125.0\" dominant-baseline=\"middle\" text-anchor=\"middle\" font-size=\"14px\" font-family=\"Arial\">X^x3</text><rect x=\"4639.865234374999\" y=\"105.0\" width=\"46.718007812500005\" height=\"40\" stroke=\"black\" fill=\"white\" stroke-width=\"1\" /><text x=\"4663.224238281249\" y=\"125.0\" dominant-baseline=\"middle\" text-anchor=\"middle\" font-size=\"14px\" font-family=\"Arial\">Y^x4</text><rect x=\"4706.583242187499\" y=\"105.0\" width=\"46.6611328125\" height=\"40\" stroke=\"black\" fill=\"white\" stroke-width=\"1\" /><text x=\"4729.913808593749\" y=\"125.0\" dominant-baseline=\"middle\" text-anchor=\"middle\" font-size=\"14px\" font-family=\"Arial\">Z^x5</text><rect x=\"4773.244374999999\" y=\"55.0\" width=\"56.593203125\" height=\"40\" stroke=\"black\" fill=\"white\" stroke-width=\"1\" /><text x=\"4801.540976562499\" y=\"75.0\" dominant-baseline=\"middle\" text-anchor=\"middle\" font-size=\"14px\" font-family=\"Arial\">ZZ</text><rect x=\"4773.244374999999\" y=\"105.0\" width=\"56.593203125\" height=\"40\" stroke=\"black\" fill=\"white\" stroke-width=\"1\" /><text x=\"4801.540976562499\" y=\"125.0\" dominant-baseline=\"middle\" text-anchor=\"middle\" font-size=\"14px\" font-family=\"Arial\">ZZ^x6</text><rect x=\"4849.837578125\" y=\"55.0\" width=\"54.85851562500001\" height=\"40\" stroke=\"black\" fill=\"white\" stroke-width=\"1\" /><text x=\"4877.266835937499\" y=\"75.0\" dominant-baseline=\"middle\" text-anchor=\"middle\" font-size=\"14px\" font-family=\"Arial\">YY</text><rect x=\"4849.837578125\" y=\"105.0\" width=\"54.85851562500001\" height=\"40\" stroke=\"black\" fill=\"white\" stroke-width=\"1\" /><text x=\"4877.266835937499\" y=\"125.0\" dominant-baseline=\"middle\" text-anchor=\"middle\" font-size=\"14px\" font-family=\"Arial\">YY^x7</text><rect x=\"4924.69609375\" y=\"55.0\" width=\"56.72882812500001\" height=\"40\" stroke=\"black\" fill=\"white\" stroke-width=\"1\" /><text x=\"4953.0605078125\" y=\"75.0\" dominant-baseline=\"middle\" text-anchor=\"middle\" font-size=\"14px\" font-family=\"Arial\">XX</text><rect x=\"4924.69609375\" y=\"105.0\" width=\"56.72882812500001\" height=\"40\" stroke=\"black\" fill=\"white\" stroke-width=\"1\" /><text x=\"4953.0605078125\" y=\"125.0\" dominant-baseline=\"middle\" text-anchor=\"middle\" font-size=\"14px\" font-family=\"Arial\">XX^x8</text><rect x=\"5001.424921875\" y=\"55.0\" width=\"47.1117578125\" height=\"40\" stroke=\"black\" fill=\"white\" stroke-width=\"1\" /><text x=\"5024.98080078125\" y=\"75.0\" dominant-baseline=\"middle\" text-anchor=\"middle\" font-size=\"14px\" font-family=\"Arial\">X^x9</text><rect x=\"5068.5366796875005\" y=\"55.0\" width=\"55.48085937500001\" height=\"40\" stroke=\"black\" fill=\"white\" stroke-width=\"1\" /><text x=\"5096.277109375001\" y=\"75.0\" dominant-baseline=\"middle\" text-anchor=\"middle\" font-size=\"14px\" font-family=\"Arial\">Y^x10</text><rect x=\"5144.017539062501\" y=\"55.0\" width=\"55.49835937500001\" height=\"40\" stroke=\"black\" fill=\"white\" stroke-width=\"1\" /><text x=\"5171.766718750001\" y=\"75.0\" dominant-baseline=\"middle\" text-anchor=\"middle\" font-size=\"14px\" font-family=\"Arial\">Z^x11</text><rect x=\"5219.515898437501\" y=\"105.0\" width=\"55.601171875000006\" height=\"40\" stroke=\"black\" fill=\"white\" stroke-width=\"1\" /><text x=\"5247.316484375001\" y=\"125.0\" dominant-baseline=\"middle\" text-anchor=\"middle\" font-size=\"14px\" font-family=\"Arial\">X^x12</text><rect x=\"5295.117070312501\" y=\"105.0\" width=\"55.288359375\" height=\"40\" stroke=\"black\" fill=\"white\" stroke-width=\"1\" /><text x=\"5322.7612500000005\" y=\"125.0\" dominant-baseline=\"middle\" text-anchor=\"middle\" font-size=\"14px\" font-family=\"Arial\">Y^x13</text><rect x=\"5370.405429687501\" y=\"105.0\" width=\"56.005859375\" height=\"40\" stroke=\"black\" fill=\"white\" stroke-width=\"1\" /><text x=\"5398.408359375001\" y=\"125.0\" dominant-baseline=\"middle\" text-anchor=\"middle\" font-size=\"14px\" font-family=\"Arial\">Z^x14</text><rect x=\"5446.411289062501\" y=\"155.0\" width=\"47.1664453125\" height=\"40\" stroke=\"black\" fill=\"white\" stroke-width=\"1\" /><text x=\"5469.994511718751\" y=\"175.0\" dominant-baseline=\"middle\" text-anchor=\"middle\" font-size=\"14px\" font-family=\"Arial\">X^x0</text><rect x=\"5513.5777343750015\" y=\"155.0\" width=\"46.2105078125\" height=\"40\" stroke=\"black\" fill=\"white\" stroke-width=\"1\" /><text x=\"5536.682988281252\" y=\"175.0\" dominant-baseline=\"middle\" text-anchor=\"middle\" font-size=\"14px\" font-family=\"Arial\">Y^x1</text><rect x=\"5579.788242187501\" y=\"155.0\" width=\"46.48175781250001\" height=\"40\" stroke=\"black\" fill=\"white\" stroke-width=\"1\" /><text x=\"5603.029121093751\" y=\"175.0\" dominant-baseline=\"middle\" text-anchor=\"middle\" font-size=\"14px\" font-family=\"Arial\">Z^x2</text><rect x=\"5646.270000000001\" y=\"205.0\" width=\"46.97394531250001\" height=\"40\" stroke=\"black\" fill=\"white\" stroke-width=\"1\" /><text x=\"5669.7569726562515\" y=\"225.0\" dominant-baseline=\"middle\" text-anchor=\"middle\" font-size=\"14px\" font-family=\"Arial\">X^x3</text><rect x=\"5713.243945312502\" y=\"205.0\" width=\"46.718007812500005\" height=\"40\" stroke=\"black\" fill=\"white\" stroke-width=\"1\" /><text x=\"5736.602949218752\" y=\"225.0\" dominant-baseline=\"middle\" text-anchor=\"middle\" font-size=\"14px\" font-family=\"Arial\">Y^x4</text><rect x=\"5779.961953125002\" y=\"205.0\" width=\"46.6611328125\" height=\"40\" stroke=\"black\" fill=\"white\" stroke-width=\"1\" /><text x=\"5803.292519531252\" y=\"225.0\" dominant-baseline=\"middle\" text-anchor=\"middle\" font-size=\"14px\" font-family=\"Arial\">Z^x5</text><rect x=\"5846.623085937502\" y=\"155.0\" width=\"56.593203125\" height=\"40\" stroke=\"black\" fill=\"white\" stroke-width=\"1\" /><text x=\"5874.919687500002\" y=\"175.0\" dominant-baseline=\"middle\" text-anchor=\"middle\" font-size=\"14px\" font-family=\"Arial\">ZZ</text><rect x=\"5846.623085937502\" y=\"205.0\" width=\"56.593203125\" height=\"40\" stroke=\"black\" fill=\"white\" stroke-width=\"1\" /><text x=\"5874.919687500002\" y=\"225.0\" dominant-baseline=\"middle\" text-anchor=\"middle\" font-size=\"14px\" font-family=\"Arial\">ZZ^x6</text><rect x=\"5923.216289062502\" y=\"155.0\" width=\"54.85851562500001\" height=\"40\" stroke=\"black\" fill=\"white\" stroke-width=\"1\" /><text x=\"5950.645546875002\" y=\"175.0\" dominant-baseline=\"middle\" text-anchor=\"middle\" font-size=\"14px\" font-family=\"Arial\">YY</text><rect x=\"5923.216289062502\" y=\"205.0\" width=\"54.85851562500001\" height=\"40\" stroke=\"black\" fill=\"white\" stroke-width=\"1\" /><text x=\"5950.645546875002\" y=\"225.0\" dominant-baseline=\"middle\" text-anchor=\"middle\" font-size=\"14px\" font-family=\"Arial\">YY^x7</text><rect x=\"5998.074804687502\" y=\"155.0\" width=\"56.72882812500001\" height=\"40\" stroke=\"black\" fill=\"white\" stroke-width=\"1\" /><text x=\"6026.4392187500025\" y=\"175.0\" dominant-baseline=\"middle\" text-anchor=\"middle\" font-size=\"14px\" font-family=\"Arial\">XX</text><rect x=\"5998.074804687502\" y=\"205.0\" width=\"56.72882812500001\" height=\"40\" stroke=\"black\" fill=\"white\" stroke-width=\"1\" /><text x=\"6026.4392187500025\" y=\"225.0\" dominant-baseline=\"middle\" text-anchor=\"middle\" font-size=\"14px\" font-family=\"Arial\">XX^x8</text><rect x=\"6074.803632812503\" y=\"155.0\" width=\"47.1117578125\" height=\"40\" stroke=\"black\" fill=\"white\" stroke-width=\"1\" /><text x=\"6098.359511718752\" y=\"175.0\" dominant-baseline=\"middle\" text-anchor=\"middle\" font-size=\"14px\" font-family=\"Arial\">X^x9</text><rect x=\"6141.915390625003\" y=\"155.0\" width=\"55.48085937500001\" height=\"40\" stroke=\"black\" fill=\"white\" stroke-width=\"1\" /><text x=\"6169.655820312503\" y=\"175.0\" dominant-baseline=\"middle\" text-anchor=\"middle\" font-size=\"14px\" font-family=\"Arial\">Y^x10</text><rect x=\"6217.396250000003\" y=\"155.0\" width=\"55.49835937500001\" height=\"40\" stroke=\"black\" fill=\"white\" stroke-width=\"1\" /><text x=\"6245.145429687504\" y=\"175.0\" dominant-baseline=\"middle\" text-anchor=\"middle\" font-size=\"14px\" font-family=\"Arial\">Z^x11</text><rect x=\"6292.894609375004\" y=\"205.0\" width=\"55.601171875000006\" height=\"40\" stroke=\"black\" fill=\"white\" stroke-width=\"1\" /><text x=\"6320.6951953125035\" y=\"225.0\" dominant-baseline=\"middle\" text-anchor=\"middle\" font-size=\"14px\" font-family=\"Arial\">X^x12</text><rect x=\"6368.495781250003\" y=\"205.0\" width=\"55.288359375\" height=\"40\" stroke=\"black\" fill=\"white\" stroke-width=\"1\" /><text x=\"6396.139960937503\" y=\"225.0\" dominant-baseline=\"middle\" text-anchor=\"middle\" font-size=\"14px\" font-family=\"Arial\">Y^x13</text><rect x=\"6443.784140625004\" y=\"205.0\" width=\"56.005859375\" height=\"40\" stroke=\"black\" fill=\"white\" stroke-width=\"1\" /><text x=\"6471.787070312504\" y=\"225.0\" dominant-baseline=\"middle\" text-anchor=\"middle\" font-size=\"14px\" font-family=\"Arial\">Z^x14</text><rect x=\"6519.790000000004\" y=\"255.0\" width=\"47.1664453125\" height=\"40\" stroke=\"black\" fill=\"white\" stroke-width=\"1\" /><text x=\"6543.373222656253\" y=\"275.0\" dominant-baseline=\"middle\" text-anchor=\"middle\" font-size=\"14px\" font-family=\"Arial\">X^x0</text><rect x=\"6586.956445312504\" y=\"255.0\" width=\"46.2105078125\" height=\"40\" stroke=\"black\" fill=\"white\" stroke-width=\"1\" /><text x=\"6610.061699218754\" y=\"275.0\" dominant-baseline=\"middle\" text-anchor=\"middle\" font-size=\"14px\" font-family=\"Arial\">Y^x1</text><rect x=\"6653.166953125004\" y=\"255.0\" width=\"46.48175781250001\" height=\"40\" stroke=\"black\" fill=\"white\" stroke-width=\"1\" /><text x=\"6676.407832031254\" y=\"275.0\" dominant-baseline=\"middle\" text-anchor=\"middle\" font-size=\"14px\" font-family=\"Arial\">Z^x2</text><rect x=\"6719.648710937504\" y=\"305.0\" width=\"46.97394531250001\" height=\"40\" stroke=\"black\" fill=\"white\" stroke-width=\"1\" /><text x=\"6743.135683593754\" y=\"325.0\" dominant-baseline=\"middle\" text-anchor=\"middle\" font-size=\"14px\" font-family=\"Arial\">X^x3</text><rect x=\"6786.622656250004\" y=\"305.0\" width=\"46.718007812500005\" height=\"40\" stroke=\"black\" fill=\"white\" stroke-width=\"1\" /><text x=\"6809.981660156254\" y=\"325.0\" dominant-baseline=\"middle\" text-anchor=\"middle\" font-size=\"14px\" font-family=\"Arial\">Y^x4</text><rect x=\"6853.340664062504\" y=\"305.0\" width=\"46.6611328125\" height=\"40\" stroke=\"black\" fill=\"white\" stroke-width=\"1\" /><text x=\"6876.671230468754\" y=\"325.0\" dominant-baseline=\"middle\" text-anchor=\"middle\" font-size=\"14px\" font-family=\"Arial\">Z^x5</text><rect x=\"6920.001796875004\" y=\"255.0\" width=\"56.593203125\" height=\"40\" stroke=\"black\" fill=\"white\" stroke-width=\"1\" /><text x=\"6948.298398437504\" y=\"275.0\" dominant-baseline=\"middle\" text-anchor=\"middle\" font-size=\"14px\" font-family=\"Arial\">ZZ</text><rect x=\"6920.001796875004\" y=\"305.0\" width=\"56.593203125\" height=\"40\" stroke=\"black\" fill=\"white\" stroke-width=\"1\" /><text x=\"6948.298398437504\" y=\"325.0\" dominant-baseline=\"middle\" text-anchor=\"middle\" font-size=\"14px\" font-family=\"Arial\">ZZ^x6</text><rect x=\"6996.595000000005\" y=\"255.0\" width=\"54.85851562500001\" height=\"40\" stroke=\"black\" fill=\"white\" stroke-width=\"1\" /><text x=\"7024.024257812504\" y=\"275.0\" dominant-baseline=\"middle\" text-anchor=\"middle\" font-size=\"14px\" font-family=\"Arial\">YY</text><rect x=\"6996.595000000005\" y=\"305.0\" width=\"54.85851562500001\" height=\"40\" stroke=\"black\" fill=\"white\" stroke-width=\"1\" /><text x=\"7024.024257812504\" y=\"325.0\" dominant-baseline=\"middle\" text-anchor=\"middle\" font-size=\"14px\" font-family=\"Arial\">YY^x7</text><rect x=\"7071.453515625005\" y=\"255.0\" width=\"56.72882812500001\" height=\"40\" stroke=\"black\" fill=\"white\" stroke-width=\"1\" /><text x=\"7099.817929687505\" y=\"275.0\" dominant-baseline=\"middle\" text-anchor=\"middle\" font-size=\"14px\" font-family=\"Arial\">XX</text><rect x=\"7071.453515625005\" y=\"305.0\" width=\"56.72882812500001\" height=\"40\" stroke=\"black\" fill=\"white\" stroke-width=\"1\" /><text x=\"7099.817929687505\" y=\"325.0\" dominant-baseline=\"middle\" text-anchor=\"middle\" font-size=\"14px\" font-family=\"Arial\">XX^x8</text><rect x=\"7148.182343750005\" y=\"255.0\" width=\"47.1117578125\" height=\"40\" stroke=\"black\" fill=\"white\" stroke-width=\"1\" /><text x=\"7171.738222656255\" y=\"275.0\" dominant-baseline=\"middle\" text-anchor=\"middle\" font-size=\"14px\" font-family=\"Arial\">X^x9</text><rect x=\"7215.294101562506\" y=\"255.0\" width=\"55.48085937500001\" height=\"40\" stroke=\"black\" fill=\"white\" stroke-width=\"1\" /><text x=\"7243.034531250006\" y=\"275.0\" dominant-baseline=\"middle\" text-anchor=\"middle\" font-size=\"14px\" font-family=\"Arial\">Y^x10</text><rect x=\"7290.774960937506\" y=\"255.0\" width=\"55.49835937500001\" height=\"40\" stroke=\"black\" fill=\"white\" stroke-width=\"1\" /><text x=\"7318.524140625006\" y=\"275.0\" dominant-baseline=\"middle\" text-anchor=\"middle\" font-size=\"14px\" font-family=\"Arial\">Z^x11</text><rect x=\"7366.273320312506\" y=\"305.0\" width=\"55.601171875000006\" height=\"40\" stroke=\"black\" fill=\"white\" stroke-width=\"1\" /><text x=\"7394.073906250006\" y=\"325.0\" dominant-baseline=\"middle\" text-anchor=\"middle\" font-size=\"14px\" font-family=\"Arial\">X^x12</text><rect x=\"7441.874492187506\" y=\"305.0\" width=\"55.288359375\" height=\"40\" stroke=\"black\" fill=\"white\" stroke-width=\"1\" /><text x=\"7469.518671875006\" y=\"325.0\" dominant-baseline=\"middle\" text-anchor=\"middle\" font-size=\"14px\" font-family=\"Arial\">Y^x13</text><rect x=\"7517.162851562506\" y=\"305.0\" width=\"56.005859375\" height=\"40\" stroke=\"black\" fill=\"white\" stroke-width=\"1\" /><text x=\"7545.165781250006\" y=\"325.0\" dominant-baseline=\"middle\" text-anchor=\"middle\" font-size=\"14px\" font-family=\"Arial\">Z^x14</text><rect x=\"7593.168710937506\" y=\"355.0\" width=\"47.1664453125\" height=\"40\" stroke=\"black\" fill=\"white\" stroke-width=\"1\" /><text x=\"7616.751933593756\" y=\"375.0\" dominant-baseline=\"middle\" text-anchor=\"middle\" font-size=\"14px\" font-family=\"Arial\">X^x0</text><rect x=\"7660.335156250007\" y=\"355.0\" width=\"46.2105078125\" height=\"40\" stroke=\"black\" fill=\"white\" stroke-width=\"1\" /><text x=\"7683.440410156257\" y=\"375.0\" dominant-baseline=\"middle\" text-anchor=\"middle\" font-size=\"14px\" font-family=\"Arial\">Y^x1</text><rect x=\"7726.545664062506\" y=\"355.0\" width=\"46.48175781250001\" height=\"40\" stroke=\"black\" fill=\"white\" stroke-width=\"1\" /><text x=\"7749.786542968756\" y=\"375.0\" dominant-baseline=\"middle\" text-anchor=\"middle\" font-size=\"14px\" font-family=\"Arial\">Z^x2</text><rect x=\"7793.027421875006\" y=\"5.0\" width=\"46.97394531250001\" height=\"40\" stroke=\"black\" fill=\"white\" stroke-width=\"1\" /><text x=\"7816.514394531257\" y=\"25.0\" dominant-baseline=\"middle\" text-anchor=\"middle\" font-size=\"14px\" font-family=\"Arial\">X^x3</text><rect x=\"7860.001367187507\" y=\"5.0\" width=\"46.718007812500005\" height=\"40\" stroke=\"black\" fill=\"white\" stroke-width=\"1\" /><text x=\"7883.360371093757\" y=\"25.0\" dominant-baseline=\"middle\" text-anchor=\"middle\" font-size=\"14px\" font-family=\"Arial\">Y^x4</text><rect x=\"7926.719375000007\" y=\"5.0\" width=\"46.6611328125\" height=\"40\" stroke=\"black\" fill=\"white\" stroke-width=\"1\" /><text x=\"7950.049941406257\" y=\"25.0\" dominant-baseline=\"middle\" text-anchor=\"middle\" font-size=\"14px\" font-family=\"Arial\">Z^x5</text><rect x=\"7993.380507812507\" y=\"355.0\" width=\"56.593203125\" height=\"40\" stroke=\"black\" fill=\"white\" stroke-width=\"1\" /><text x=\"8021.677109375007\" y=\"375.0\" dominant-baseline=\"middle\" text-anchor=\"middle\" font-size=\"14px\" font-family=\"Arial\">ZZ^x6</text><rect x=\"7993.380507812507\" y=\"5.0\" width=\"56.593203125\" height=\"40\" stroke=\"black\" fill=\"white\" stroke-width=\"1\" /><text x=\"8021.677109375007\" y=\"25.0\" dominant-baseline=\"middle\" text-anchor=\"middle\" font-size=\"14px\" font-family=\"Arial\">ZZ</text><rect x=\"8069.973710937507\" y=\"355.0\" width=\"54.85851562500001\" height=\"40\" stroke=\"black\" fill=\"white\" stroke-width=\"1\" /><text x=\"8097.402968750007\" y=\"375.0\" dominant-baseline=\"middle\" text-anchor=\"middle\" font-size=\"14px\" font-family=\"Arial\">YY^x7</text><rect x=\"8069.973710937507\" y=\"5.0\" width=\"54.85851562500001\" height=\"40\" stroke=\"black\" fill=\"white\" stroke-width=\"1\" /><text x=\"8097.402968750007\" y=\"25.0\" dominant-baseline=\"middle\" text-anchor=\"middle\" font-size=\"14px\" font-family=\"Arial\">YY</text><rect x=\"8144.8322265625075\" y=\"355.0\" width=\"56.72882812500001\" height=\"40\" stroke=\"black\" fill=\"white\" stroke-width=\"1\" /><text x=\"8173.196640625008\" y=\"375.0\" dominant-baseline=\"middle\" text-anchor=\"middle\" font-size=\"14px\" font-family=\"Arial\">XX^x8</text><rect x=\"8144.8322265625075\" y=\"5.0\" width=\"56.72882812500001\" height=\"40\" stroke=\"black\" fill=\"white\" stroke-width=\"1\" /><text x=\"8173.196640625008\" y=\"25.0\" dominant-baseline=\"middle\" text-anchor=\"middle\" font-size=\"14px\" font-family=\"Arial\">XX</text><rect x=\"8221.561054687507\" y=\"355.0\" width=\"47.1117578125\" height=\"40\" stroke=\"black\" fill=\"white\" stroke-width=\"1\" /><text x=\"8245.116933593757\" y=\"375.0\" dominant-baseline=\"middle\" text-anchor=\"middle\" font-size=\"14px\" font-family=\"Arial\">X^x9</text><rect x=\"8288.672812500006\" y=\"355.0\" width=\"55.48085937500001\" height=\"40\" stroke=\"black\" fill=\"white\" stroke-width=\"1\" /><text x=\"8316.413242187506\" y=\"375.0\" dominant-baseline=\"middle\" text-anchor=\"middle\" font-size=\"14px\" font-family=\"Arial\">Y^x10</text><rect x=\"8364.153671875007\" y=\"355.0\" width=\"55.49835937500001\" height=\"40\" stroke=\"black\" fill=\"white\" stroke-width=\"1\" /><text x=\"8391.902851562507\" y=\"375.0\" dominant-baseline=\"middle\" text-anchor=\"middle\" font-size=\"14px\" font-family=\"Arial\">Z^x11</text><rect x=\"8439.652031250007\" y=\"5.0\" width=\"55.601171875000006\" height=\"40\" stroke=\"black\" fill=\"white\" stroke-width=\"1\" /><text x=\"8467.452617187508\" y=\"25.0\" dominant-baseline=\"middle\" text-anchor=\"middle\" font-size=\"14px\" font-family=\"Arial\">X^x12</text><rect x=\"8515.253203125007\" y=\"5.0\" width=\"55.288359375\" height=\"40\" stroke=\"black\" fill=\"white\" stroke-width=\"1\" /><text x=\"8542.897382812507\" y=\"25.0\" dominant-baseline=\"middle\" text-anchor=\"middle\" font-size=\"14px\" font-family=\"Arial\">Y^x13</text><rect x=\"8590.541562500006\" y=\"5.0\" width=\"56.005859375\" height=\"40\" stroke=\"black\" fill=\"white\" stroke-width=\"1\" /><text x=\"8618.544492187506\" y=\"25.0\" dominant-baseline=\"middle\" text-anchor=\"middle\" font-size=\"14px\" font-family=\"Arial\">Z^x14</text></svg>"
          },
          "metadata": {
            "tags": []
          },
          "execution_count": 247
        }
      ]
    },
    {
      "cell_type": "code",
      "metadata": {
        "colab": {
          "base_uri": "https://localhost:8080/",
          "height": 241
        },
        "id": "ye_dmyf4nh2x",
        "outputId": "6b4abfbf-a646-4ee2-fb61-0b7bc2d5a618"
      },
      "source": [
        "## Test for variable qubits (for image)\n",
        "SVGCircuit(quantum_conv_circuit(cirq.GridQubit.rect(1, img_pxl_dwngrd), sympy.symbols('x0:15')))"
      ],
      "execution_count": 248,
      "outputs": [
        {
          "output_type": "execute_result",
          "data": {
            "text/plain": [
              "<cirq.contrib.svg.svg.SVGCircuit at 0x7fa0da3e3ad0>"
            ],
            "image/svg+xml": "<svg xmlns=\"http://www.w3.org/2000/svg\" width=\"4403.0325781249985\" height=\"200.0\"><line x1=\"34.7588671875\" x2=\"4373.0325781249985\" y1=\"25.0\" y2=\"25.0\" stroke=\"#1967d2\" stroke-width=\"1\" /><line x1=\"34.7588671875\" x2=\"4373.0325781249985\" y1=\"75.0\" y2=\"75.0\" stroke=\"#1967d2\" stroke-width=\"1\" /><line x1=\"34.7588671875\" x2=\"4373.0325781249985\" y1=\"125.0\" y2=\"125.0\" stroke=\"#1967d2\" stroke-width=\"1\" /><line x1=\"34.7588671875\" x2=\"4373.0325781249985\" y1=\"175.0\" y2=\"175.0\" stroke=\"#1967d2\" stroke-width=\"1\" /><line x1=\"508.0261328125\" x2=\"508.0261328125\" y1=\"25.0\" y2=\"75.0\" stroke=\"black\" stroke-width=\"3\" /><line x1=\"583.7519921875\" x2=\"583.7519921875\" y1=\"25.0\" y2=\"75.0\" stroke=\"black\" stroke-width=\"3\" /><line x1=\"659.5456640625\" x2=\"659.5456640625\" y1=\"25.0\" y2=\"75.0\" stroke=\"black\" stroke-width=\"3\" /><line x1=\"1581.4048437499998\" x2=\"1581.4048437499998\" y1=\"125.0\" y2=\"175.0\" stroke=\"black\" stroke-width=\"3\" /><line x1=\"1657.1307031249999\" x2=\"1657.1307031249999\" y1=\"125.0\" y2=\"175.0\" stroke=\"black\" stroke-width=\"3\" /><line x1=\"1732.9243749999998\" x2=\"1732.9243749999998\" y1=\"125.0\" y2=\"175.0\" stroke=\"black\" stroke-width=\"3\" /><line x1=\"2654.7835546875\" x2=\"2654.7835546875\" y1=\"75.0\" y2=\"125.0\" stroke=\"black\" stroke-width=\"3\" /><line x1=\"2730.5094140624997\" x2=\"2730.5094140624997\" y1=\"75.0\" y2=\"125.0\" stroke=\"black\" stroke-width=\"3\" /><line x1=\"2806.3030859375\" x2=\"2806.3030859375\" y1=\"75.0\" y2=\"125.0\" stroke=\"black\" stroke-width=\"3\" /><line x1=\"3728.1622656249992\" x2=\"3728.1622656249992\" y1=\"25.0\" y2=\"175.0\" stroke=\"black\" stroke-width=\"3\" /><line x1=\"3803.888124999999\" x2=\"3803.888124999999\" y1=\"25.0\" y2=\"175.0\" stroke=\"black\" stroke-width=\"3\" /><line x1=\"3879.6817968749992\" x2=\"3879.6817968749992\" y1=\"25.0\" y2=\"175.0\" stroke=\"black\" stroke-width=\"3\" /><rect x=\"10.0\" y=\"5.0\" width=\"49.517734375\" height=\"40\" stroke=\"black\" fill=\"white\" stroke-width=\"0\" /><text x=\"34.7588671875\" y=\"25.0\" dominant-baseline=\"middle\" text-anchor=\"middle\" font-size=\"14px\" font-family=\"Arial\">(0, 0): </text><rect x=\"10.0\" y=\"55.0\" width=\"49.517734375\" height=\"40\" stroke=\"black\" fill=\"white\" stroke-width=\"0\" /><text x=\"34.7588671875\" y=\"75.0\" dominant-baseline=\"middle\" text-anchor=\"middle\" font-size=\"14px\" font-family=\"Arial\">(0, 1): </text><rect x=\"10.0\" y=\"105.0\" width=\"49.517734375\" height=\"40\" stroke=\"black\" fill=\"white\" stroke-width=\"0\" /><text x=\"34.7588671875\" y=\"125.0\" dominant-baseline=\"middle\" text-anchor=\"middle\" font-size=\"14px\" font-family=\"Arial\">(0, 2): </text><rect x=\"10.0\" y=\"155.0\" width=\"49.517734375\" height=\"40\" stroke=\"black\" fill=\"white\" stroke-width=\"0\" /><text x=\"34.7588671875\" y=\"175.0\" dominant-baseline=\"middle\" text-anchor=\"middle\" font-size=\"14px\" font-family=\"Arial\">(0, 3): </text><rect x=\"79.517734375\" y=\"5.0\" width=\"47.1664453125\" height=\"40\" stroke=\"black\" fill=\"white\" stroke-width=\"1\" /><text x=\"103.10095703125\" y=\"25.0\" dominant-baseline=\"middle\" text-anchor=\"middle\" font-size=\"14px\" font-family=\"Arial\">X^x0</text><rect x=\"146.6841796875\" y=\"5.0\" width=\"46.2105078125\" height=\"40\" stroke=\"black\" fill=\"white\" stroke-width=\"1\" /><text x=\"169.78943359375\" y=\"25.0\" dominant-baseline=\"middle\" text-anchor=\"middle\" font-size=\"14px\" font-family=\"Arial\">Y^x1</text><rect x=\"212.8946875\" y=\"5.0\" width=\"46.48175781250001\" height=\"40\" stroke=\"black\" fill=\"white\" stroke-width=\"1\" /><text x=\"236.13556640625\" y=\"25.0\" dominant-baseline=\"middle\" text-anchor=\"middle\" font-size=\"14px\" font-family=\"Arial\">Z^x2</text><rect x=\"279.3764453125\" y=\"55.0\" width=\"46.97394531250001\" height=\"40\" stroke=\"black\" fill=\"white\" stroke-width=\"1\" /><text x=\"302.86341796875\" y=\"75.0\" dominant-baseline=\"middle\" text-anchor=\"middle\" font-size=\"14px\" font-family=\"Arial\">X^x3</text><rect x=\"346.350390625\" y=\"55.0\" width=\"46.718007812500005\" height=\"40\" stroke=\"black\" fill=\"white\" stroke-width=\"1\" /><text x=\"369.70939453125\" y=\"75.0\" dominant-baseline=\"middle\" text-anchor=\"middle\" font-size=\"14px\" font-family=\"Arial\">Y^x4</text><rect x=\"413.0683984375\" y=\"55.0\" width=\"46.6611328125\" height=\"40\" stroke=\"black\" fill=\"white\" stroke-width=\"1\" /><text x=\"436.39896484375\" y=\"75.0\" dominant-baseline=\"middle\" text-anchor=\"middle\" font-size=\"14px\" font-family=\"Arial\">Z^x5</text><rect x=\"479.72953125000004\" y=\"5.0\" width=\"56.593203125\" height=\"40\" stroke=\"black\" fill=\"white\" stroke-width=\"1\" /><text x=\"508.0261328125\" y=\"25.0\" dominant-baseline=\"middle\" text-anchor=\"middle\" font-size=\"14px\" font-family=\"Arial\">ZZ</text><rect x=\"479.72953125000004\" y=\"55.0\" width=\"56.593203125\" height=\"40\" stroke=\"black\" fill=\"white\" stroke-width=\"1\" /><text x=\"508.0261328125\" y=\"75.0\" dominant-baseline=\"middle\" text-anchor=\"middle\" font-size=\"14px\" font-family=\"Arial\">ZZ^x6</text><rect x=\"556.322734375\" y=\"5.0\" width=\"54.85851562500001\" height=\"40\" stroke=\"black\" fill=\"white\" stroke-width=\"1\" /><text x=\"583.7519921875\" y=\"25.0\" dominant-baseline=\"middle\" text-anchor=\"middle\" font-size=\"14px\" font-family=\"Arial\">YY</text><rect x=\"556.322734375\" y=\"55.0\" width=\"54.85851562500001\" height=\"40\" stroke=\"black\" fill=\"white\" stroke-width=\"1\" /><text x=\"583.7519921875\" y=\"75.0\" dominant-baseline=\"middle\" text-anchor=\"middle\" font-size=\"14px\" font-family=\"Arial\">YY^x7</text><rect x=\"631.18125\" y=\"5.0\" width=\"56.72882812500001\" height=\"40\" stroke=\"black\" fill=\"white\" stroke-width=\"1\" /><text x=\"659.5456640625\" y=\"25.0\" dominant-baseline=\"middle\" text-anchor=\"middle\" font-size=\"14px\" font-family=\"Arial\">XX</text><rect x=\"631.18125\" y=\"55.0\" width=\"56.72882812500001\" height=\"40\" stroke=\"black\" fill=\"white\" stroke-width=\"1\" /><text x=\"659.5456640625\" y=\"75.0\" dominant-baseline=\"middle\" text-anchor=\"middle\" font-size=\"14px\" font-family=\"Arial\">XX^x8</text><rect x=\"707.9100781249999\" y=\"5.0\" width=\"47.1117578125\" height=\"40\" stroke=\"black\" fill=\"white\" stroke-width=\"1\" /><text x=\"731.4659570312499\" y=\"25.0\" dominant-baseline=\"middle\" text-anchor=\"middle\" font-size=\"14px\" font-family=\"Arial\">X^x9</text><rect x=\"775.0218359374999\" y=\"5.0\" width=\"55.48085937500001\" height=\"40\" stroke=\"black\" fill=\"white\" stroke-width=\"1\" /><text x=\"802.7622656249998\" y=\"25.0\" dominant-baseline=\"middle\" text-anchor=\"middle\" font-size=\"14px\" font-family=\"Arial\">Y^x10</text><rect x=\"850.5026953124999\" y=\"5.0\" width=\"55.49835937500001\" height=\"40\" stroke=\"black\" fill=\"white\" stroke-width=\"1\" /><text x=\"878.2518749999999\" y=\"25.0\" dominant-baseline=\"middle\" text-anchor=\"middle\" font-size=\"14px\" font-family=\"Arial\">Z^x11</text><rect x=\"926.0010546874998\" y=\"55.0\" width=\"55.601171875000006\" height=\"40\" stroke=\"black\" fill=\"white\" stroke-width=\"1\" /><text x=\"953.8016406249999\" y=\"75.0\" dominant-baseline=\"middle\" text-anchor=\"middle\" font-size=\"14px\" font-family=\"Arial\">X^x12</text><rect x=\"1001.6022265624998\" y=\"55.0\" width=\"55.288359375\" height=\"40\" stroke=\"black\" fill=\"white\" stroke-width=\"1\" /><text x=\"1029.2464062499998\" y=\"75.0\" dominant-baseline=\"middle\" text-anchor=\"middle\" font-size=\"14px\" font-family=\"Arial\">Y^x13</text><rect x=\"1076.8905859374997\" y=\"55.0\" width=\"56.005859375\" height=\"40\" stroke=\"black\" fill=\"white\" stroke-width=\"1\" /><text x=\"1104.8935156249997\" y=\"75.0\" dominant-baseline=\"middle\" text-anchor=\"middle\" font-size=\"14px\" font-family=\"Arial\">Z^x14</text><rect x=\"1152.8964453124997\" y=\"105.0\" width=\"47.1664453125\" height=\"40\" stroke=\"black\" fill=\"white\" stroke-width=\"1\" /><text x=\"1176.4796679687497\" y=\"125.0\" dominant-baseline=\"middle\" text-anchor=\"middle\" font-size=\"14px\" font-family=\"Arial\">X^x0</text><rect x=\"1220.0628906249997\" y=\"105.0\" width=\"46.2105078125\" height=\"40\" stroke=\"black\" fill=\"white\" stroke-width=\"1\" /><text x=\"1243.1681445312497\" y=\"125.0\" dominant-baseline=\"middle\" text-anchor=\"middle\" font-size=\"14px\" font-family=\"Arial\">Y^x1</text><rect x=\"1286.2733984374997\" y=\"105.0\" width=\"46.48175781250001\" height=\"40\" stroke=\"black\" fill=\"white\" stroke-width=\"1\" /><text x=\"1309.5142773437497\" y=\"125.0\" dominant-baseline=\"middle\" text-anchor=\"middle\" font-size=\"14px\" font-family=\"Arial\">Z^x2</text><rect x=\"1352.7551562499998\" y=\"155.0\" width=\"46.97394531250001\" height=\"40\" stroke=\"black\" fill=\"white\" stroke-width=\"1\" /><text x=\"1376.2421289062497\" y=\"175.0\" dominant-baseline=\"middle\" text-anchor=\"middle\" font-size=\"14px\" font-family=\"Arial\">X^x3</text><rect x=\"1419.7291015624999\" y=\"155.0\" width=\"46.718007812500005\" height=\"40\" stroke=\"black\" fill=\"white\" stroke-width=\"1\" /><text x=\"1443.08810546875\" y=\"175.0\" dominant-baseline=\"middle\" text-anchor=\"middle\" font-size=\"14px\" font-family=\"Arial\">Y^x4</text><rect x=\"1486.4471093749999\" y=\"155.0\" width=\"46.6611328125\" height=\"40\" stroke=\"black\" fill=\"white\" stroke-width=\"1\" /><text x=\"1509.7776757812499\" y=\"175.0\" dominant-baseline=\"middle\" text-anchor=\"middle\" font-size=\"14px\" font-family=\"Arial\">Z^x5</text><rect x=\"1553.1082421874999\" y=\"105.0\" width=\"56.593203125\" height=\"40\" stroke=\"black\" fill=\"white\" stroke-width=\"1\" /><text x=\"1581.4048437499998\" y=\"125.0\" dominant-baseline=\"middle\" text-anchor=\"middle\" font-size=\"14px\" font-family=\"Arial\">ZZ</text><rect x=\"1553.1082421874999\" y=\"155.0\" width=\"56.593203125\" height=\"40\" stroke=\"black\" fill=\"white\" stroke-width=\"1\" /><text x=\"1581.4048437499998\" y=\"175.0\" dominant-baseline=\"middle\" text-anchor=\"middle\" font-size=\"14px\" font-family=\"Arial\">ZZ^x6</text><rect x=\"1629.7014453124998\" y=\"105.0\" width=\"54.85851562500001\" height=\"40\" stroke=\"black\" fill=\"white\" stroke-width=\"1\" /><text x=\"1657.1307031249999\" y=\"125.0\" dominant-baseline=\"middle\" text-anchor=\"middle\" font-size=\"14px\" font-family=\"Arial\">YY</text><rect x=\"1629.7014453124998\" y=\"155.0\" width=\"54.85851562500001\" height=\"40\" stroke=\"black\" fill=\"white\" stroke-width=\"1\" /><text x=\"1657.1307031249999\" y=\"175.0\" dominant-baseline=\"middle\" text-anchor=\"middle\" font-size=\"14px\" font-family=\"Arial\">YY^x7</text><rect x=\"1704.5599609375\" y=\"105.0\" width=\"56.72882812500001\" height=\"40\" stroke=\"black\" fill=\"white\" stroke-width=\"1\" /><text x=\"1732.9243749999998\" y=\"125.0\" dominant-baseline=\"middle\" text-anchor=\"middle\" font-size=\"14px\" font-family=\"Arial\">XX</text><rect x=\"1704.5599609375\" y=\"155.0\" width=\"56.72882812500001\" height=\"40\" stroke=\"black\" fill=\"white\" stroke-width=\"1\" /><text x=\"1732.9243749999998\" y=\"175.0\" dominant-baseline=\"middle\" text-anchor=\"middle\" font-size=\"14px\" font-family=\"Arial\">XX^x8</text><rect x=\"1781.2887890625\" y=\"105.0\" width=\"47.1117578125\" height=\"40\" stroke=\"black\" fill=\"white\" stroke-width=\"1\" /><text x=\"1804.84466796875\" y=\"125.0\" dominant-baseline=\"middle\" text-anchor=\"middle\" font-size=\"14px\" font-family=\"Arial\">X^x9</text><rect x=\"1848.400546875\" y=\"105.0\" width=\"55.48085937500001\" height=\"40\" stroke=\"black\" fill=\"white\" stroke-width=\"1\" /><text x=\"1876.1409765624999\" y=\"125.0\" dominant-baseline=\"middle\" text-anchor=\"middle\" font-size=\"14px\" font-family=\"Arial\">Y^x10</text><rect x=\"1923.8814062499998\" y=\"105.0\" width=\"55.49835937500001\" height=\"40\" stroke=\"black\" fill=\"white\" stroke-width=\"1\" /><text x=\"1951.6305859374997\" y=\"125.0\" dominant-baseline=\"middle\" text-anchor=\"middle\" font-size=\"14px\" font-family=\"Arial\">Z^x11</text><rect x=\"1999.379765625\" y=\"155.0\" width=\"55.601171875000006\" height=\"40\" stroke=\"black\" fill=\"white\" stroke-width=\"1\" /><text x=\"2027.1803515625\" y=\"175.0\" dominant-baseline=\"middle\" text-anchor=\"middle\" font-size=\"14px\" font-family=\"Arial\">X^x12</text><rect x=\"2074.9809375\" y=\"155.0\" width=\"55.288359375\" height=\"40\" stroke=\"black\" fill=\"white\" stroke-width=\"1\" /><text x=\"2102.6251171875\" y=\"175.0\" dominant-baseline=\"middle\" text-anchor=\"middle\" font-size=\"14px\" font-family=\"Arial\">Y^x13</text><rect x=\"2150.269296875\" y=\"155.0\" width=\"56.005859375\" height=\"40\" stroke=\"black\" fill=\"white\" stroke-width=\"1\" /><text x=\"2178.2722265625\" y=\"175.0\" dominant-baseline=\"middle\" text-anchor=\"middle\" font-size=\"14px\" font-family=\"Arial\">Z^x14</text><rect x=\"2226.27515625\" y=\"55.0\" width=\"47.1664453125\" height=\"40\" stroke=\"black\" fill=\"white\" stroke-width=\"1\" /><text x=\"2249.85837890625\" y=\"75.0\" dominant-baseline=\"middle\" text-anchor=\"middle\" font-size=\"14px\" font-family=\"Arial\">X^x0</text><rect x=\"2293.4416015624997\" y=\"55.0\" width=\"46.2105078125\" height=\"40\" stroke=\"black\" fill=\"white\" stroke-width=\"1\" /><text x=\"2316.5468554687495\" y=\"75.0\" dominant-baseline=\"middle\" text-anchor=\"middle\" font-size=\"14px\" font-family=\"Arial\">Y^x1</text><rect x=\"2359.652109375\" y=\"55.0\" width=\"46.48175781250001\" height=\"40\" stroke=\"black\" fill=\"white\" stroke-width=\"1\" /><text x=\"2382.89298828125\" y=\"75.0\" dominant-baseline=\"middle\" text-anchor=\"middle\" font-size=\"14px\" font-family=\"Arial\">Z^x2</text><rect x=\"2426.1338671874996\" y=\"105.0\" width=\"46.97394531250001\" height=\"40\" stroke=\"black\" fill=\"white\" stroke-width=\"1\" /><text x=\"2449.6208398437498\" y=\"125.0\" dominant-baseline=\"middle\" text-anchor=\"middle\" font-size=\"14px\" font-family=\"Arial\">X^x3</text><rect x=\"2493.1078124999995\" y=\"105.0\" width=\"46.718007812500005\" height=\"40\" stroke=\"black\" fill=\"white\" stroke-width=\"1\" /><text x=\"2516.4668164062496\" y=\"125.0\" dominant-baseline=\"middle\" text-anchor=\"middle\" font-size=\"14px\" font-family=\"Arial\">Y^x4</text><rect x=\"2559.8258203124997\" y=\"105.0\" width=\"46.6611328125\" height=\"40\" stroke=\"black\" fill=\"white\" stroke-width=\"1\" /><text x=\"2583.1563867187497\" y=\"125.0\" dominant-baseline=\"middle\" text-anchor=\"middle\" font-size=\"14px\" font-family=\"Arial\">Z^x5</text><rect x=\"2626.4869531249997\" y=\"55.0\" width=\"56.593203125\" height=\"40\" stroke=\"black\" fill=\"white\" stroke-width=\"1\" /><text x=\"2654.7835546875\" y=\"75.0\" dominant-baseline=\"middle\" text-anchor=\"middle\" font-size=\"14px\" font-family=\"Arial\">ZZ</text><rect x=\"2626.4869531249997\" y=\"105.0\" width=\"56.593203125\" height=\"40\" stroke=\"black\" fill=\"white\" stroke-width=\"1\" /><text x=\"2654.7835546875\" y=\"125.0\" dominant-baseline=\"middle\" text-anchor=\"middle\" font-size=\"14px\" font-family=\"Arial\">ZZ^x6</text><rect x=\"2703.0801562499996\" y=\"55.0\" width=\"54.85851562500001\" height=\"40\" stroke=\"black\" fill=\"white\" stroke-width=\"1\" /><text x=\"2730.5094140624997\" y=\"75.0\" dominant-baseline=\"middle\" text-anchor=\"middle\" font-size=\"14px\" font-family=\"Arial\">YY</text><rect x=\"2703.0801562499996\" y=\"105.0\" width=\"54.85851562500001\" height=\"40\" stroke=\"black\" fill=\"white\" stroke-width=\"1\" /><text x=\"2730.5094140624997\" y=\"125.0\" dominant-baseline=\"middle\" text-anchor=\"middle\" font-size=\"14px\" font-family=\"Arial\">YY^x7</text><rect x=\"2777.9386718749997\" y=\"55.0\" width=\"56.72882812500001\" height=\"40\" stroke=\"black\" fill=\"white\" stroke-width=\"1\" /><text x=\"2806.3030859375\" y=\"75.0\" dominant-baseline=\"middle\" text-anchor=\"middle\" font-size=\"14px\" font-family=\"Arial\">XX</text><rect x=\"2777.9386718749997\" y=\"105.0\" width=\"56.72882812500001\" height=\"40\" stroke=\"black\" fill=\"white\" stroke-width=\"1\" /><text x=\"2806.3030859375\" y=\"125.0\" dominant-baseline=\"middle\" text-anchor=\"middle\" font-size=\"14px\" font-family=\"Arial\">XX^x8</text><rect x=\"2854.6674999999996\" y=\"55.0\" width=\"47.1117578125\" height=\"40\" stroke=\"black\" fill=\"white\" stroke-width=\"1\" /><text x=\"2878.2233789062498\" y=\"75.0\" dominant-baseline=\"middle\" text-anchor=\"middle\" font-size=\"14px\" font-family=\"Arial\">X^x9</text><rect x=\"2921.7792578124995\" y=\"55.0\" width=\"55.48085937500001\" height=\"40\" stroke=\"black\" fill=\"white\" stroke-width=\"1\" /><text x=\"2949.5196874999997\" y=\"75.0\" dominant-baseline=\"middle\" text-anchor=\"middle\" font-size=\"14px\" font-family=\"Arial\">Y^x10</text><rect x=\"2997.2601171874994\" y=\"55.0\" width=\"55.49835937500001\" height=\"40\" stroke=\"black\" fill=\"white\" stroke-width=\"1\" /><text x=\"3025.0092968749996\" y=\"75.0\" dominant-baseline=\"middle\" text-anchor=\"middle\" font-size=\"14px\" font-family=\"Arial\">Z^x11</text><rect x=\"3072.7584765624993\" y=\"105.0\" width=\"55.601171875000006\" height=\"40\" stroke=\"black\" fill=\"white\" stroke-width=\"1\" /><text x=\"3100.559062499999\" y=\"125.0\" dominant-baseline=\"middle\" text-anchor=\"middle\" font-size=\"14px\" font-family=\"Arial\">X^x12</text><rect x=\"3148.3596484374993\" y=\"105.0\" width=\"55.288359375\" height=\"40\" stroke=\"black\" fill=\"white\" stroke-width=\"1\" /><text x=\"3176.0038281249995\" y=\"125.0\" dominant-baseline=\"middle\" text-anchor=\"middle\" font-size=\"14px\" font-family=\"Arial\">Y^x13</text><rect x=\"3223.648007812499\" y=\"105.0\" width=\"56.005859375\" height=\"40\" stroke=\"black\" fill=\"white\" stroke-width=\"1\" /><text x=\"3251.650937499999\" y=\"125.0\" dominant-baseline=\"middle\" text-anchor=\"middle\" font-size=\"14px\" font-family=\"Arial\">Z^x14</text><rect x=\"3299.653867187499\" y=\"155.0\" width=\"47.1664453125\" height=\"40\" stroke=\"black\" fill=\"white\" stroke-width=\"1\" /><text x=\"3323.2370898437493\" y=\"175.0\" dominant-baseline=\"middle\" text-anchor=\"middle\" font-size=\"14px\" font-family=\"Arial\">X^x0</text><rect x=\"3366.820312499999\" y=\"155.0\" width=\"46.2105078125\" height=\"40\" stroke=\"black\" fill=\"white\" stroke-width=\"1\" /><text x=\"3389.925566406249\" y=\"175.0\" dominant-baseline=\"middle\" text-anchor=\"middle\" font-size=\"14px\" font-family=\"Arial\">Y^x1</text><rect x=\"3433.030820312499\" y=\"155.0\" width=\"46.48175781250001\" height=\"40\" stroke=\"black\" fill=\"white\" stroke-width=\"1\" /><text x=\"3456.2716992187493\" y=\"175.0\" dominant-baseline=\"middle\" text-anchor=\"middle\" font-size=\"14px\" font-family=\"Arial\">Z^x2</text><rect x=\"3499.512578124999\" y=\"5.0\" width=\"46.97394531250001\" height=\"40\" stroke=\"black\" fill=\"white\" stroke-width=\"1\" /><text x=\"3522.999550781249\" y=\"25.0\" dominant-baseline=\"middle\" text-anchor=\"middle\" font-size=\"14px\" font-family=\"Arial\">X^x3</text><rect x=\"3566.486523437499\" y=\"5.0\" width=\"46.718007812500005\" height=\"40\" stroke=\"black\" fill=\"white\" stroke-width=\"1\" /><text x=\"3589.845527343749\" y=\"25.0\" dominant-baseline=\"middle\" text-anchor=\"middle\" font-size=\"14px\" font-family=\"Arial\">Y^x4</text><rect x=\"3633.204531249999\" y=\"5.0\" width=\"46.6611328125\" height=\"40\" stroke=\"black\" fill=\"white\" stroke-width=\"1\" /><text x=\"3656.535097656249\" y=\"25.0\" dominant-baseline=\"middle\" text-anchor=\"middle\" font-size=\"14px\" font-family=\"Arial\">Z^x5</text><rect x=\"3699.865664062499\" y=\"155.0\" width=\"56.593203125\" height=\"40\" stroke=\"black\" fill=\"white\" stroke-width=\"1\" /><text x=\"3728.1622656249992\" y=\"175.0\" dominant-baseline=\"middle\" text-anchor=\"middle\" font-size=\"14px\" font-family=\"Arial\">ZZ^x6</text><rect x=\"3699.865664062499\" y=\"5.0\" width=\"56.593203125\" height=\"40\" stroke=\"black\" fill=\"white\" stroke-width=\"1\" /><text x=\"3728.1622656249992\" y=\"25.0\" dominant-baseline=\"middle\" text-anchor=\"middle\" font-size=\"14px\" font-family=\"Arial\">ZZ</text><rect x=\"3776.458867187499\" y=\"155.0\" width=\"54.85851562500001\" height=\"40\" stroke=\"black\" fill=\"white\" stroke-width=\"1\" /><text x=\"3803.888124999999\" y=\"175.0\" dominant-baseline=\"middle\" text-anchor=\"middle\" font-size=\"14px\" font-family=\"Arial\">YY^x7</text><rect x=\"3776.458867187499\" y=\"5.0\" width=\"54.85851562500001\" height=\"40\" stroke=\"black\" fill=\"white\" stroke-width=\"1\" /><text x=\"3803.888124999999\" y=\"25.0\" dominant-baseline=\"middle\" text-anchor=\"middle\" font-size=\"14px\" font-family=\"Arial\">YY</text><rect x=\"3851.317382812499\" y=\"155.0\" width=\"56.72882812500001\" height=\"40\" stroke=\"black\" fill=\"white\" stroke-width=\"1\" /><text x=\"3879.6817968749992\" y=\"175.0\" dominant-baseline=\"middle\" text-anchor=\"middle\" font-size=\"14px\" font-family=\"Arial\">XX^x8</text><rect x=\"3851.317382812499\" y=\"5.0\" width=\"56.72882812500001\" height=\"40\" stroke=\"black\" fill=\"white\" stroke-width=\"1\" /><text x=\"3879.6817968749992\" y=\"25.0\" dominant-baseline=\"middle\" text-anchor=\"middle\" font-size=\"14px\" font-family=\"Arial\">XX</text><rect x=\"3928.046210937499\" y=\"155.0\" width=\"47.1117578125\" height=\"40\" stroke=\"black\" fill=\"white\" stroke-width=\"1\" /><text x=\"3951.602089843749\" y=\"175.0\" dominant-baseline=\"middle\" text-anchor=\"middle\" font-size=\"14px\" font-family=\"Arial\">X^x9</text><rect x=\"3995.157968749999\" y=\"155.0\" width=\"55.48085937500001\" height=\"40\" stroke=\"black\" fill=\"white\" stroke-width=\"1\" /><text x=\"4022.898398437499\" y=\"175.0\" dominant-baseline=\"middle\" text-anchor=\"middle\" font-size=\"14px\" font-family=\"Arial\">Y^x10</text><rect x=\"4070.6388281249983\" y=\"155.0\" width=\"55.49835937500001\" height=\"40\" stroke=\"black\" fill=\"white\" stroke-width=\"1\" /><text x=\"4098.3880078124985\" y=\"175.0\" dominant-baseline=\"middle\" text-anchor=\"middle\" font-size=\"14px\" font-family=\"Arial\">Z^x11</text><rect x=\"4146.137187499999\" y=\"5.0\" width=\"55.601171875000006\" height=\"40\" stroke=\"black\" fill=\"white\" stroke-width=\"1\" /><text x=\"4173.937773437498\" y=\"25.0\" dominant-baseline=\"middle\" text-anchor=\"middle\" font-size=\"14px\" font-family=\"Arial\">X^x12</text><rect x=\"4221.738359374998\" y=\"5.0\" width=\"55.288359375\" height=\"40\" stroke=\"black\" fill=\"white\" stroke-width=\"1\" /><text x=\"4249.382539062498\" y=\"25.0\" dominant-baseline=\"middle\" text-anchor=\"middle\" font-size=\"14px\" font-family=\"Arial\">Y^x13</text><rect x=\"4297.0267187499985\" y=\"5.0\" width=\"56.005859375\" height=\"40\" stroke=\"black\" fill=\"white\" stroke-width=\"1\" /><text x=\"4325.0296484374985\" y=\"25.0\" dominant-baseline=\"middle\" text-anchor=\"middle\" font-size=\"14px\" font-family=\"Arial\">Z^x14</text></svg>"
          },
          "metadata": {
            "tags": []
          },
          "execution_count": 248
        }
      ]
    },
    {
      "cell_type": "markdown",
      "metadata": {
        "id": "DIwyi8u-28ki"
      },
      "source": [
        "3. Quantum Pooling\n",
        "\n",
        "A quantum pooling layer pools from N qubits to N/2 qubits using the two-qubit pool defined above."
      ]
    },
    {
      "cell_type": "markdown",
      "metadata": {
        "id": "1ZXmqtu3Zv-i"
      },
      "source": [
        "- Pooling layer with two qubits\n",
        "\n"
      ]
    },
    {
      "cell_type": "code",
      "metadata": {
        "id": "0wETSBEAZ5lF"
      },
      "source": [
        "def two_qubit_pool(source_qubit, sink_qubit, symbols):\n",
        "  \"\"\" Make a Cirq circuit to do a paramterized 'pooling', which attempts to reduce entaglement\n",
        "  down from to qubits to just one \"\"\"\n",
        "\n",
        "  pool_circuit = cirq.Circuit()\n",
        "  sink_basis_selector = one_qubit_unitary(sink_qubit,symbols[0:3])\n",
        "  source_basis_selector = one_qubit_unitary(source_qubit, symbols[3:6])\n",
        "\n",
        "  pool_circuit.append(sink_basis_selector)\n",
        "  pool_circuit.append(source_basis_selector)\n",
        "  pool_circuit.append(cirq.CNOT(control=source_qubit, target=sink_qubit))\n",
        "  pool_circuit.append(sink_basis_selector**-1)\n",
        "\n",
        "  return pool_circuit"
      ],
      "execution_count": 221,
      "outputs": []
    },
    {
      "cell_type": "code",
      "metadata": {
        "id": "WAfjA3c0zlLr"
      },
      "source": [
        "def quantum_pool_circuit(source_bits, sink_bits, symbols):\n",
        "  \"\"\"A layer that specifies a quantum pooling operation.\n",
        "    A Quantum pool tries to learn to pool the relevant information from two\n",
        "    qubits onto 1.\n",
        "    \"\"\"\n",
        "  circuit = cirq.Circuit()\n",
        "  for source, sink in zip(source_bits, sink_bits):\n",
        "    circuit += two_qubit_pool(source, sink, symbols)\n",
        "\n",
        "  return circuit"
      ],
      "execution_count": 222,
      "outputs": []
    },
    {
      "cell_type": "code",
      "metadata": {
        "colab": {
          "base_uri": "https://localhost:8080/",
          "height": 241
        },
        "id": "6YSVfmbszlJL",
        "outputId": "eda92f6f-d023-4495-8a4d-4c42e217a21f"
      },
      "source": [
        "## TEST Pooling circuit\n",
        "test_bits = cirq.GridQubit.rect(1, img_pxl_dwngrd)\n",
        "test_source_bit = round(img_pxl_dwngrd/2)\n",
        "SVGCircuit(quantum_pool_circuit(test_bits[:test_source_bit], test_bits[test_source_bit:], sympy.symbols('x0:6')))"
      ],
      "execution_count": 223,
      "outputs": [
        {
          "output_type": "execute_result",
          "data": {
            "text/plain": [
              "<cirq.contrib.svg.svg.SVGCircuit at 0x7fa0ccfc9110>"
            ],
            "image/svg+xml": "<svg xmlns=\"http://www.w3.org/2000/svg\" width=\"1525.542890625\" height=\"200.0\"><line x1=\"34.7588671875\" x2=\"1495.542890625\" y1=\"25.0\" y2=\"25.0\" stroke=\"#1967d2\" stroke-width=\"1\" /><line x1=\"34.7588671875\" x2=\"1495.542890625\" y1=\"75.0\" y2=\"75.0\" stroke=\"#1967d2\" stroke-width=\"1\" /><line x1=\"34.7588671875\" x2=\"1495.542890625\" y1=\"125.0\" y2=\"125.0\" stroke=\"#1967d2\" stroke-width=\"1\" /><line x1=\"34.7588671875\" x2=\"1495.542890625\" y1=\"175.0\" y2=\"175.0\" stroke=\"#1967d2\" stroke-width=\"1\" /><line x1=\"499.72953125\" x2=\"499.72953125\" y1=\"25.0\" y2=\"125.0\" stroke=\"black\" stroke-width=\"3\" /><line x1=\"1207.7421093750002\" x2=\"1207.7421093750002\" y1=\"75.0\" y2=\"175.0\" stroke=\"black\" stroke-width=\"3\" /><rect x=\"10.0\" y=\"5.0\" width=\"49.517734375\" height=\"40\" stroke=\"black\" fill=\"white\" stroke-width=\"0\" /><text x=\"34.7588671875\" y=\"25.0\" dominant-baseline=\"middle\" text-anchor=\"middle\" font-size=\"14px\" font-family=\"Arial\">(0, 0): </text><rect x=\"10.0\" y=\"55.0\" width=\"49.517734375\" height=\"40\" stroke=\"black\" fill=\"white\" stroke-width=\"0\" /><text x=\"34.7588671875\" y=\"75.0\" dominant-baseline=\"middle\" text-anchor=\"middle\" font-size=\"14px\" font-family=\"Arial\">(0, 1): </text><rect x=\"10.0\" y=\"105.0\" width=\"49.517734375\" height=\"40\" stroke=\"black\" fill=\"white\" stroke-width=\"0\" /><text x=\"34.7588671875\" y=\"125.0\" dominant-baseline=\"middle\" text-anchor=\"middle\" font-size=\"14px\" font-family=\"Arial\">(0, 2): </text><rect x=\"10.0\" y=\"155.0\" width=\"49.517734375\" height=\"40\" stroke=\"black\" fill=\"white\" stroke-width=\"0\" /><text x=\"34.7588671875\" y=\"175.0\" dominant-baseline=\"middle\" text-anchor=\"middle\" font-size=\"14px\" font-family=\"Arial\">(0, 3): </text><rect x=\"79.517734375\" y=\"105.0\" width=\"47.1664453125\" height=\"40\" stroke=\"black\" fill=\"white\" stroke-width=\"1\" /><text x=\"103.10095703125\" y=\"125.0\" dominant-baseline=\"middle\" text-anchor=\"middle\" font-size=\"14px\" font-family=\"Arial\">X^x0</text><rect x=\"146.6841796875\" y=\"105.0\" width=\"46.2105078125\" height=\"40\" stroke=\"black\" fill=\"white\" stroke-width=\"1\" /><text x=\"169.78943359375\" y=\"125.0\" dominant-baseline=\"middle\" text-anchor=\"middle\" font-size=\"14px\" font-family=\"Arial\">Y^x1</text><rect x=\"212.8946875\" y=\"105.0\" width=\"46.48175781250001\" height=\"40\" stroke=\"black\" fill=\"white\" stroke-width=\"1\" /><text x=\"236.13556640625\" y=\"125.0\" dominant-baseline=\"middle\" text-anchor=\"middle\" font-size=\"14px\" font-family=\"Arial\">Z^x2</text><rect x=\"279.3764453125\" y=\"5.0\" width=\"46.97394531250001\" height=\"40\" stroke=\"black\" fill=\"white\" stroke-width=\"1\" /><text x=\"302.86341796875\" y=\"25.0\" dominant-baseline=\"middle\" text-anchor=\"middle\" font-size=\"14px\" font-family=\"Arial\">X^x3</text><rect x=\"346.350390625\" y=\"5.0\" width=\"46.718007812500005\" height=\"40\" stroke=\"black\" fill=\"white\" stroke-width=\"1\" /><text x=\"369.70939453125\" y=\"25.0\" dominant-baseline=\"middle\" text-anchor=\"middle\" font-size=\"14px\" font-family=\"Arial\">Y^x4</text><rect x=\"413.0683984375\" y=\"5.0\" width=\"46.6611328125\" height=\"40\" stroke=\"black\" fill=\"white\" stroke-width=\"1\" /><text x=\"436.39896484375\" y=\"25.0\" dominant-baseline=\"middle\" text-anchor=\"middle\" font-size=\"14px\" font-family=\"Arial\">Z^x5</text><circle cx=\"499.72953125\" cy=\"25.0\" r=\"10.0\" /><rect x=\"479.72953125\" y=\"105.0\" width=\"40\" height=\"40\" stroke=\"black\" fill=\"white\" stroke-width=\"1\" /><text x=\"499.72953125\" y=\"125.0\" dominant-baseline=\"middle\" text-anchor=\"middle\" font-size=\"18px\" font-family=\"Arial\">X</text><rect x=\"539.72953125\" y=\"105.0\" width=\"62.65640625\" height=\"40\" stroke=\"black\" fill=\"white\" stroke-width=\"1\" /><text x=\"571.057734375\" y=\"125.0\" dominant-baseline=\"middle\" text-anchor=\"middle\" font-size=\"14px\" font-family=\"Arial\">Z^(-x2)</text><rect x=\"622.3859375000001\" y=\"105.0\" width=\"62.27578125000001\" height=\"40\" stroke=\"black\" fill=\"white\" stroke-width=\"1\" /><text x=\"653.523828125\" y=\"125.0\" dominant-baseline=\"middle\" text-anchor=\"middle\" font-size=\"14px\" font-family=\"Arial\">Y^(-x1)</text><rect x=\"704.6617187500001\" y=\"105.0\" width=\"62.86859375\" height=\"40\" stroke=\"black\" fill=\"white\" stroke-width=\"1\" /><text x=\"736.0960156250001\" y=\"125.0\" dominant-baseline=\"middle\" text-anchor=\"middle\" font-size=\"14px\" font-family=\"Arial\">X^(-x0)</text><rect x=\"787.5303125\" y=\"155.0\" width=\"47.1664453125\" height=\"40\" stroke=\"black\" fill=\"white\" stroke-width=\"1\" /><text x=\"811.11353515625\" y=\"175.0\" dominant-baseline=\"middle\" text-anchor=\"middle\" font-size=\"14px\" font-family=\"Arial\">X^x0</text><rect x=\"854.6967578125\" y=\"155.0\" width=\"46.2105078125\" height=\"40\" stroke=\"black\" fill=\"white\" stroke-width=\"1\" /><text x=\"877.80201171875\" y=\"175.0\" dominant-baseline=\"middle\" text-anchor=\"middle\" font-size=\"14px\" font-family=\"Arial\">Y^x1</text><rect x=\"920.907265625\" y=\"155.0\" width=\"46.48175781250001\" height=\"40\" stroke=\"black\" fill=\"white\" stroke-width=\"1\" /><text x=\"944.1481445312501\" y=\"175.0\" dominant-baseline=\"middle\" text-anchor=\"middle\" font-size=\"14px\" font-family=\"Arial\">Z^x2</text><rect x=\"987.3890234375001\" y=\"55.0\" width=\"46.97394531250001\" height=\"40\" stroke=\"black\" fill=\"white\" stroke-width=\"1\" /><text x=\"1010.8759960937501\" y=\"75.0\" dominant-baseline=\"middle\" text-anchor=\"middle\" font-size=\"14px\" font-family=\"Arial\">X^x3</text><rect x=\"1054.3629687500002\" y=\"55.0\" width=\"46.718007812500005\" height=\"40\" stroke=\"black\" fill=\"white\" stroke-width=\"1\" /><text x=\"1077.7219726562503\" y=\"75.0\" dominant-baseline=\"middle\" text-anchor=\"middle\" font-size=\"14px\" font-family=\"Arial\">Y^x4</text><rect x=\"1121.0809765625002\" y=\"55.0\" width=\"46.6611328125\" height=\"40\" stroke=\"black\" fill=\"white\" stroke-width=\"1\" /><text x=\"1144.4115429687502\" y=\"75.0\" dominant-baseline=\"middle\" text-anchor=\"middle\" font-size=\"14px\" font-family=\"Arial\">Z^x5</text><circle cx=\"1207.7421093750002\" cy=\"75.0\" r=\"10.0\" /><rect x=\"1187.7421093750002\" y=\"155.0\" width=\"40\" height=\"40\" stroke=\"black\" fill=\"white\" stroke-width=\"1\" /><text x=\"1207.7421093750002\" y=\"175.0\" dominant-baseline=\"middle\" text-anchor=\"middle\" font-size=\"18px\" font-family=\"Arial\">X</text><rect x=\"1247.7421093750002\" y=\"155.0\" width=\"62.65640625\" height=\"40\" stroke=\"black\" fill=\"white\" stroke-width=\"1\" /><text x=\"1279.0703125000002\" y=\"175.0\" dominant-baseline=\"middle\" text-anchor=\"middle\" font-size=\"14px\" font-family=\"Arial\">Z^(-x2)</text><rect x=\"1330.398515625\" y=\"155.0\" width=\"62.27578125000001\" height=\"40\" stroke=\"black\" fill=\"white\" stroke-width=\"1\" /><text x=\"1361.53640625\" y=\"175.0\" dominant-baseline=\"middle\" text-anchor=\"middle\" font-size=\"14px\" font-family=\"Arial\">Y^(-x1)</text><rect x=\"1412.674296875\" y=\"155.0\" width=\"62.86859375\" height=\"40\" stroke=\"black\" fill=\"white\" stroke-width=\"1\" /><text x=\"1444.10859375\" y=\"175.0\" dominant-baseline=\"middle\" text-anchor=\"middle\" font-size=\"14px\" font-family=\"Arial\">X^(-x0)</text></svg>"
          },
          "metadata": {
            "tags": []
          },
          "execution_count": 223
        }
      ]
    },
    {
      "cell_type": "markdown",
      "metadata": {
        "id": "GiBoqcwI6hu8"
      },
      "source": [
        "## Model Definition using conv and pool layers\n",
        "\n",
        "\n",
        "\n",
        "Now use the defined layers to construct a purely quantum CNN. Start with eight qubits, pool down to one, then measure < Z >.\n",
        "\n",
        "\n",
        "\n"
      ]
    },
    {
      "cell_type": "markdown",
      "metadata": {
        "id": "xgUybby4mAje"
      },
      "source": [
        "## TODO: write circuit function depending on input data \n",
        "\n",
        "POOL from full image down until only two outputs automatically (Pool layer always halfs width/height pixel number)"
      ]
    },
    {
      "cell_type": "code",
      "metadata": {
        "id": "jB1EBGO1u5gL"
      },
      "source": [
        "from PIL import Image\n",
        "def make_square(img, image_pixel_height , image_pixel_width, min_size=256, fill_color=(0, 0, 0, 0)):\n",
        "    x, y = image_pixel_width, image_pixel_height\n",
        "    size = max(min_size, x, y)\n",
        "    new_im = Image.new('RGBA', (size, size), fill_color)\n",
        "    new_im.paste(img, (int((size - x) / 2), int((size - y) / 2)))\n",
        "    return new_im"
      ],
      "execution_count": 224,
      "outputs": []
    },
    {
      "cell_type": "code",
      "metadata": {
        "id": "r8kQPmMwoB3F"
      },
      "source": [
        "# number of qubits 2^x for image\n",
        "\n",
        "def create_model_circuit_var_img(qubits, image_pixel_height, image_pixel_width):\n",
        "  \"\"\"Create sequence of alternating convolution and pooling operators \n",
        "  which gradually shrink over time.\"\"\"\n",
        "\n",
        "  ## check image \n",
        "  # check image also if multiple of 2: \n",
        "  # (n & (n-1) == 0) and n != 0\n",
        "  # lambda x: 2^x  \n",
        "\n",
        "  if image_pixel_height != image_pixel_width and image_pixel_height % 2 != 0 :\n",
        "    raise Exception(\"Sorry, image is not square, use make_square function on image first\") \n",
        "\n",
        "  model_circuit = cirq.Circuit()\n",
        "  symbol_nmbr_conv = 16\n",
        "  symbol_nmbr_pool = 6\n",
        "\n",
        "  diff_symbol_conv = 16 - 1\n",
        "  int_symbol_nmbr_conv_1 = 0\n",
        "  int_symbol_nmbr_conv_2 = symbol_nmbr_conv - 1\n",
        "\n",
        "  pool_bit_init = image_pixel_height/2\n",
        "\n",
        "  full_amount_symbols = symbol_nmbr_conv + symbol_nmbr_pool\n",
        "  int_nmbr_symbols = full_amount_symbols-1\n",
        "  symbols = sympy.symbols('qconv0:{}'.format(int_nmbr_symbols))\n",
        "\n",
        "  # cirq uses sympy.Symbols to map leanable variables. TFQ scans incoming circuits\n",
        "  # and replaces these with TF variables\n",
        "\n",
        "  counter = 0\n",
        "  while (image_pixel_height/2) > 1:\n",
        "    ## pool down image always at half image size and add 16 symbols each conv layer\n",
        "    ## and 6 symbols each pool layer\n",
        "\n",
        "    if counter == 0:\n",
        "      # model_circuit += quantum_conv_circuit(qubits, symbols[0:15])\n",
        "      # model_circuit += quantum_pool_circuit(qubits[:4], qubits[4:], symbols[15:21])\n",
        "\n",
        "      model_circuit += quantum_conv_circuit(qubits, symbols[int_symbol_nmbr_conv_1:int_symbol_nmbr_conv_2])\n",
        "\n",
        "      int_symbol_nmbr_conv_1 = int_symbol_nmbr_conv_2\n",
        "      int_symbol_nmbr_conv_2 = int_symbol_nmbr_conv_1 + symbol_nmbr_pool\n",
        "\n",
        "      model_circuit += quantum_pool_circuit(qubits[: pool_bit_init], qubits[pool_bit_init :], symbols[int_symbol_nmbr_conv_1 : int_symbol_nmbr_conv_2])\n",
        "\n",
        "      #########\n",
        "      full_amount_symbols = full_amount_symbols + symbol_nmbr_conv + symbol_nmbr_pool\n",
        "      int_nmbr_symbols = full_amount_symbols-1\n",
        "      symbols = sympy.symbols('qconv0:{}'.format(int_nmbr_symbols))\n",
        "      \n",
        "\n",
        "      img_pixel_amount =  image_pixel_height/2\n",
        "      pool_bit_2 = img_pixel_amount/2\n",
        "      pool_bit_updt_1 = pool_bit_init\n",
        "      pool_bit_updt_2 = img_pixel_amount + pool_bit_2\n",
        "      img_pixel_amount /= 2\n",
        "\n",
        "\n",
        "    else:\n",
        "      # model_circuit += quantum_conv_circuit(qubits[4:], symbols[21:36])\n",
        "      # model_circuit += quantum_pool_circuit(qubits[4:6], qubits[6:], symbols[36:42])\n",
        "\n",
        "      int_symbol_nmbr_conv_1 = int_symbol_nmbr_conv_2\n",
        "      int_symbol_nmbr_conv_2 = int_symbol_nmbr_conv_1 + diff_symbol_conv\n",
        "\n",
        "      model_circuit += quantum_conv_circuit(qubits[pool_bit_updt_1 :], symbols[int_symbol_nmbr_conv_1 : int_symbol_nmbr_conv_2])\n",
        "\n",
        "\n",
        "      int_symbol_nmbr_conv_1 = int_symbol_nmbr_conv_2\n",
        "      int_symbol_nmbr_conv_2 = int_symbol_nmbr_conv_1 + symbol_nmbr_pool\n",
        "\n",
        "      model_circuit += quantum_pool_circuit(qubits[pool_bit_updt_1 : pool_bit_updt_2], qubits[pool_bit_updt_2 :], symbols[int_symbol_nmbr_conv_1 : int_symbol_nmbr_conv_2])\n",
        "\n",
        "\n",
        "      img_pixel_amount /= 2\n",
        "      pool_bit_adding = pool_bit_updt_1\n",
        "      pool_bit_updt_1 = pool_bit_updt_2\n",
        "      pool_bit_updt_2 = pool_bit_adding + img_pixel_amount\n",
        "    \n",
        "\n",
        "      ###############\n",
        "      full_amount_symbols = full_amount_symbols + symbol_nmbr_conv + symbol_nmbr_pool\n",
        "      int_nmbr_symbols = full_amount_symbols-1\n",
        "      symbols = sympy.symbols('qconv0:{}'.format(int_nmbr_symbols))\n",
        "  \n",
        "    counter += 1\n",
        "    image_pixel_height /= 2\n",
        "\n",
        "\n",
        "  ##model_circuit += quantum_conv_circuit(qubits[6:], symbols[42:57])\n",
        "  ##model_circuit += quantum_pool_circuit([qubits[6]], [qubits[7]], symbols[57:63])\n",
        "  int_symbol_nmbr_conv_1 = int_symbol_nmbr_conv_2\n",
        "  int_symbol_nmbr_conv_2 = int_symbol_nmbr_conv_1 + diff_symbol_conv\n",
        "\n",
        "  model_circuit += quantum_conv_circuit(qubits[pool_bit_updt_1:], symbols[int_symbol_nmbr_conv_1:int_symbol_nmbr_conv_2])\n",
        "\n",
        "  int_symbol_nmbr_conv_1 = int_symbol_nmbr_conv_2\n",
        "  int_symbol_nmbr_conv_2 = int_symbol_nmbr_conv_1 + symbol_nmbr_pool\n",
        "\n",
        "  model_circuit += quantum_pool_circuit(qubits[pool_bit_updt_1], qubits[pool_bit_updt_2], symbols[int_symbol_nmbr_conv_1:int_symbol_nmbr_conv_2])\n",
        "\n",
        "  \n",
        "\n",
        "  return model_circuit"
      ],
      "execution_count": 225,
      "outputs": []
    },
    {
      "cell_type": "code",
      "metadata": {
        "id": "g8FFSazGUNai"
      },
      "source": [
        "def create_model_circuit(qubits):\n",
        "  \"\"\"Create sequence of alternating convolution and pooling operators \n",
        "  which gradually shrink over time.\"\"\"\n",
        "\n",
        "  model_circuit = cirq.Circuit()\n",
        "  symbols = sympy.symbols('qconv0:63')\n",
        "\n",
        "  # cirq uses sympy.Symbols to map leanable variables. TFQ scans incoming circuits\n",
        "  # and replaces these with TF variables\n",
        "\n",
        "  model_circuit += quantum_conv_circuit(qubits, symbols[0:15])\n",
        "  model_circuit += quantum_pool_circuit(qubits[:4], qubits[4:], symbols[15:21])\n",
        "\n",
        "  model_circuit += quantum_conv_circuit(qubits[4:], symbols[21:36])\n",
        "  model_circuit += quantum_pool_circuit(qubits[4:6], qubits[6:], symbols[36:42])\n",
        "\n",
        "  model_circuit += quantum_conv_circuit(qubits[6:], symbols[42:57])\n",
        "  model_circuit += quantum_pool_circuit([qubits[6]], [qubits[7]], symbols[57:63])\n",
        "\n",
        "  return model_circuit"
      ],
      "execution_count": 226,
      "outputs": []
    },
    {
      "cell_type": "code",
      "metadata": {
        "colab": {
          "base_uri": "https://localhost:8080/",
          "height": 414
        },
        "id": "6NkQjN7Mg9yu",
        "outputId": "fef2bf43-314d-4436-b94f-99bb0c41102e"
      },
      "source": [
        "# PREPARE model for image data\n",
        "\n",
        "# Create our qubits and readout operators in Cirq\n",
        "image_bits = cirq.GridQubit.rect(1,8)\n",
        "readout_operators = cirq.Z(image_bits[-1])\n",
        "\n",
        "# Build a sequential model enacting the logic in 1.3 of this notebook.\n",
        "# Here you are making the static cluster state prep as a part of the AddCircuit and the\n",
        "# \"quantum datapoints\" are coming in the form of excitation\n",
        "\n",
        "excitation_input  = tf.keras.Input( shape=(), dtype=tf.dtypes.string )\n",
        "\n",
        "image_state = tfq.layers.AddCircuit()(\n",
        "    excitation_input, prepend=(circuit_binary_img_one_layer(img_pxl_dwngrd, img_pxl_dwngrd)))\n",
        "\n",
        "\n",
        "quantum_model_img = tfq.layers.PQC(create_model_circuit_img(image_bits),\n",
        "                               readout_operators)(image_state)\n",
        "\n",
        "\n",
        "qcnn_model_img = tf.keras.Model(inputs=[excitation_input], outputs=[quantum_model_img])\n",
        "\n",
        "\n",
        "tf.keras.utils.plot_model(qcnn_model_clust,\n",
        "                          show_shapes=True,\n",
        "                          show_layer_names=False,\n",
        "                          dpi=100)\n"
      ],
      "execution_count": 227,
      "outputs": [
        {
          "output_type": "error",
          "ename": "TypeError",
          "evalue": "ignored",
          "traceback": [
            "\u001b[0;31m---------------------------------------------------------------------------\u001b[0m",
            "\u001b[0;31mTypeError\u001b[0m                                 Traceback (most recent call last)",
            "\u001b[0;32m<ipython-input-227-b95764e45b2c>\u001b[0m in \u001b[0;36m<module>\u001b[0;34m()\u001b[0m\n\u001b[1;32m     15\u001b[0m \u001b[0;34m\u001b[0m\u001b[0m\n\u001b[1;32m     16\u001b[0m \u001b[0;34m\u001b[0m\u001b[0m\n\u001b[0;32m---> 17\u001b[0;31m quantum_model_img = tfq.layers.PQC(create_model_circuit_img(image_bits),\n\u001b[0m\u001b[1;32m     18\u001b[0m                                readout_operators)(image_state)\n\u001b[1;32m     19\u001b[0m \u001b[0;34m\u001b[0m\u001b[0m\n",
            "\u001b[0;32m<ipython-input-200-20194852768f>\u001b[0m in \u001b[0;36mcreate_model_circuit_img\u001b[0;34m(qubits)\u001b[0m\n\u001b[1;32m     13\u001b[0m \u001b[0;34m\u001b[0m\u001b[0m\n\u001b[1;32m     14\u001b[0m   \u001b[0mmodel_circuit\u001b[0m \u001b[0;34m+=\u001b[0m \u001b[0mquantum_conv_circuit\u001b[0m\u001b[0;34m(\u001b[0m\u001b[0mqubits\u001b[0m\u001b[0;34m[\u001b[0m\u001b[0;36m2\u001b[0m\u001b[0;34m:\u001b[0m\u001b[0;34m]\u001b[0m\u001b[0;34m,\u001b[0m \u001b[0msymbols\u001b[0m\u001b[0;34m[\u001b[0m\u001b[0;36m21\u001b[0m\u001b[0;34m:\u001b[0m\u001b[0;36m36\u001b[0m\u001b[0;34m]\u001b[0m\u001b[0;34m)\u001b[0m\u001b[0;34m\u001b[0m\u001b[0;34m\u001b[0m\u001b[0m\n\u001b[0;32m---> 15\u001b[0;31m   \u001b[0mmodel_circuit\u001b[0m \u001b[0;34m+=\u001b[0m \u001b[0mquantum_pool_circuit\u001b[0m\u001b[0;34m(\u001b[0m\u001b[0mqubits\u001b[0m\u001b[0;34m[\u001b[0m\u001b[0;36m2\u001b[0m\u001b[0;34m]\u001b[0m\u001b[0;34m,\u001b[0m \u001b[0mqubits\u001b[0m\u001b[0;34m[\u001b[0m\u001b[0;36m3\u001b[0m\u001b[0;34m]\u001b[0m\u001b[0;34m,\u001b[0m \u001b[0msymbols\u001b[0m\u001b[0;34m[\u001b[0m\u001b[0;36m36\u001b[0m\u001b[0;34m:\u001b[0m\u001b[0;36m42\u001b[0m\u001b[0;34m]\u001b[0m\u001b[0;34m)\u001b[0m\u001b[0;34m\u001b[0m\u001b[0;34m\u001b[0m\u001b[0m\n\u001b[0m\u001b[1;32m     16\u001b[0m   \u001b[0;32mreturn\u001b[0m \u001b[0mmodel_circuit\u001b[0m\u001b[0;34m\u001b[0m\u001b[0;34m\u001b[0m\u001b[0m\n",
            "\u001b[0;32m<ipython-input-222-a872968efbd5>\u001b[0m in \u001b[0;36mquantum_pool_circuit\u001b[0;34m(source_bits, sink_bits, symbols)\u001b[0m\n\u001b[1;32m      5\u001b[0m     \"\"\"\n\u001b[1;32m      6\u001b[0m   \u001b[0mcircuit\u001b[0m \u001b[0;34m=\u001b[0m \u001b[0mcirq\u001b[0m\u001b[0;34m.\u001b[0m\u001b[0mCircuit\u001b[0m\u001b[0;34m(\u001b[0m\u001b[0;34m)\u001b[0m\u001b[0;34m\u001b[0m\u001b[0;34m\u001b[0m\u001b[0m\n\u001b[0;32m----> 7\u001b[0;31m   \u001b[0;32mfor\u001b[0m \u001b[0msource\u001b[0m\u001b[0;34m,\u001b[0m \u001b[0msink\u001b[0m \u001b[0;32min\u001b[0m \u001b[0mzip\u001b[0m\u001b[0;34m(\u001b[0m\u001b[0msource_bits\u001b[0m\u001b[0;34m,\u001b[0m \u001b[0msink_bits\u001b[0m\u001b[0;34m)\u001b[0m\u001b[0;34m:\u001b[0m\u001b[0;34m\u001b[0m\u001b[0;34m\u001b[0m\u001b[0m\n\u001b[0m\u001b[1;32m      8\u001b[0m     \u001b[0mcircuit\u001b[0m \u001b[0;34m+=\u001b[0m \u001b[0mtwo_qubit_pool\u001b[0m\u001b[0;34m(\u001b[0m\u001b[0msource\u001b[0m\u001b[0;34m,\u001b[0m \u001b[0msink\u001b[0m\u001b[0;34m,\u001b[0m \u001b[0msymbols\u001b[0m\u001b[0;34m)\u001b[0m\u001b[0;34m\u001b[0m\u001b[0;34m\u001b[0m\u001b[0m\n\u001b[1;32m      9\u001b[0m \u001b[0;34m\u001b[0m\u001b[0m\n",
            "\u001b[0;31mTypeError\u001b[0m: zip argument #1 must support iteration"
          ]
        }
      ]
    },
    {
      "cell_type": "code",
      "metadata": {
        "id": "6LQ_x2-O6el2"
      },
      "source": [
        "def create_model_circuit(qubits):\n",
        "  \"\"\"Create sequence of alternating convolution and pooling operators \n",
        "  which gradually shrink over time.\"\"\"\n",
        "\n",
        "  model_circuit = cirq.Circuit()\n",
        "  symbols = sympy.symbols('qconv0:63')\n",
        "\n",
        "  # cirq uses sympy.Symbols to map leanable variables. TFQ scans incoming circuits\n",
        "  # and replaces these with TF variables\n",
        "\n",
        "  model_circuit += quantum_conv_circuit(qubits, symbols[0:15])\n",
        "  model_circuit += quantum_pool_circuit(qubits[:4], qubits[4:], symbols[15:21])\n",
        "\n",
        "  model_circuit += quantum_conv_circuit(qubits[4:], symbols[21:36])\n",
        "  model_circuit += quantum_pool_circuit(qubits[4:6], qubits[6:], symbols[36:42])\n",
        "\n",
        "  model_circuit += quantum_conv_circuit(qubits[6:], symbols[42:57])\n",
        "  model_circuit += quantum_pool_circuit([qubits[6]], [qubits[7]], symbols[57:63])\n",
        "\n",
        "  return model_circuit\n"
      ],
      "execution_count": 228,
      "outputs": []
    },
    {
      "cell_type": "markdown",
      "metadata": {
        "id": "GU2BwrHcHksH"
      },
      "source": [
        "## Model **Training**"
      ]
    },
    {
      "cell_type": "markdown",
      "metadata": {
        "id": "oksQmBsCIBMc"
      },
      "source": [
        "###Cluster  states"
      ]
    },
    {
      "cell_type": "code",
      "metadata": {
        "colab": {
          "base_uri": "https://localhost:8080/",
          "height": 324
        },
        "id": "1xpg4ZZiIrlJ",
        "outputId": "3ce9170a-9f61-4734-a120-85cf2591c878"
      },
      "source": [
        "# Create our qubits and readout operators in Cirq\n",
        "cluster_state_bits = cirq.GridQubit.rect(1,8)\n",
        "readout_operators = cirq.Z(cluster_state_bits[-1])\n",
        "\n",
        "# Build a sequential model enacting the logic in 1.3 of this notebook.\n",
        "# Here you are making the static cluster state prep as a part of the AddCircuit and the\n",
        "# \"quantum datapoints\" are coming in the form of excitation\n",
        "\n",
        "excitation_input  = tf.keras.Input( shape=(), dtype=tf.dtypes.string )\n",
        "cluster_state = tfq.layers.AddCircuit()(\n",
        "    excitation_input, prepend=cluster_state_circuit(cluster_state_bits))\n",
        "\n",
        "\n",
        "quantum_model = tfq.layers.PQC(create_model_circuit(cluster_state_bits),\n",
        "                               readout_operators)(cluster_state)\n",
        "\n",
        "\n",
        "qcnn_model_clust = tf.keras.Model(inputs=[excitation_input], outputs=[quantum_model])\n",
        "\n",
        "\n",
        "tf.keras.utils.plot_model(qcnn_model_clust,\n",
        "                          show_shapes=True,\n",
        "                          show_layer_names=False,\n",
        "                          dpi=100)\n"
      ],
      "execution_count": 229,
      "outputs": [
        {
          "output_type": "execute_result",
          "data": {
            "image/png": "[encoded data removed]",
            "text/plain": [
              "<IPython.core.display.Image object>"
            ]
          },
          "metadata": {
            "tags": []
          },
          "execution_count": 229
        }
      ]
    },
    {
      "cell_type": "code",
      "metadata": {
        "id": "aseOqvjIIA5H"
      },
      "source": [
        "# 1. Generate some training data\n",
        "train_excitations, train_labels, test_excitatios, test_labels = generate_data(cluster_state_bits)\n",
        "\n",
        "# 2. try to use image data:\n",
        "\n",
        "# custom accuracy metric:\n",
        "@tf.function\n",
        "def custom_accuracy(y_true, y_pred):\n",
        "    y_true = tf.squeeze(y_true)\n",
        "    y_pred = tf.map_fn(lambda x: 1.0 if x >= 0 else -1.0, y_pred)\n",
        "    return tf.keras.backend.mean(tf.keras.backend.equal(y_true, y_pred))"
      ],
      "execution_count": null,
      "outputs": []
    },
    {
      "cell_type": "code",
      "metadata": {
        "colab": {
          "base_uri": "https://localhost:8080/"
        },
        "id": "SroJzr1ARZT3",
        "outputId": "bc74b562-46a0-4682-eee1-fd642a275c83"
      },
      "source": [
        "# Generate some training data.\n",
        "train_excitations, train_labels, test_excitations, test_labels = generate_data(\n",
        "    cluster_state_bits)\n",
        "\n",
        "\n",
        "# Custom accuracy metric.\n",
        "@tf.function\n",
        "def custom_accuracy(y_true, y_pred):\n",
        "    y_true = tf.squeeze(y_true)\n",
        "    y_pred = tf.map_fn(lambda x: 1.0 if x >= 0 else -1.0, y_pred)\n",
        "    return tf.keras.backend.mean(tf.keras.backend.equal(y_true, y_pred))\n",
        "\n",
        "\n",
        "qcnn_model_clust.compile(optimizer=tf.keras.optimizers.Adam(learning_rate=0.02),\n",
        "                   loss=tf.losses.mse,\n",
        "                   metrics=[custom_accuracy])\n",
        "\n",
        "\n",
        "qcnn_history_clust = qcnn_model_clust.fit(x=train_excitations,\n",
        "                         y=train_labels,\n",
        "                         batch_size=16,\n",
        "                         epochs=25,\n",
        "                         verbose=1,\n",
        "                         validation_data=(test_excitations, test_labels))"
      ],
      "execution_count": 151,
      "outputs": [
        {
          "output_type": "stream",
          "text": [
            "Epoch 1/25\n",
            "7/7 [==============================] - 1s 166ms/step - loss: 0.8652 - custom_accuracy: 0.7946 - val_loss: 0.7855 - val_custom_accuracy: 0.8958\n",
            "Epoch 2/25\n",
            "7/7 [==============================] - 1s 147ms/step - loss: 0.7674 - custom_accuracy: 0.7857 - val_loss: 0.7364 - val_custom_accuracy: 0.7917\n",
            "Epoch 3/25\n",
            "7/7 [==============================] - 1s 149ms/step - loss: 0.7154 - custom_accuracy: 0.7857 - val_loss: 0.7212 - val_custom_accuracy: 0.7917\n",
            "Epoch 4/25\n",
            "7/7 [==============================] - 1s 165ms/step - loss: 0.6961 - custom_accuracy: 0.8214 - val_loss: 0.6928 - val_custom_accuracy: 0.8125\n",
            "Epoch 5/25\n",
            "7/7 [==============================] - 1s 162ms/step - loss: 0.6887 - custom_accuracy: 0.8214 - val_loss: 0.6945 - val_custom_accuracy: 0.8125\n",
            "Epoch 6/25\n",
            "7/7 [==============================] - 1s 154ms/step - loss: 0.6891 - custom_accuracy: 0.7946 - val_loss: 0.7050 - val_custom_accuracy: 0.8333\n",
            "Epoch 7/25\n",
            "7/7 [==============================] - 1s 150ms/step - loss: 0.6887 - custom_accuracy: 0.8036 - val_loss: 0.6867 - val_custom_accuracy: 0.8333\n",
            "Epoch 8/25\n",
            "7/7 [==============================] - 1s 150ms/step - loss: 0.6776 - custom_accuracy: 0.8214 - val_loss: 0.6807 - val_custom_accuracy: 0.8125\n",
            "Epoch 9/25\n",
            "7/7 [==============================] - 1s 161ms/step - loss: 0.6671 - custom_accuracy: 0.8214 - val_loss: 0.6904 - val_custom_accuracy: 0.8333\n",
            "Epoch 10/25\n",
            "7/7 [==============================] - 1s 156ms/step - loss: 0.6728 - custom_accuracy: 0.8393 - val_loss: 0.6705 - val_custom_accuracy: 0.8333\n",
            "Epoch 11/25\n",
            "7/7 [==============================] - 1s 148ms/step - loss: 0.6679 - custom_accuracy: 0.8482 - val_loss: 0.6847 - val_custom_accuracy: 0.8333\n",
            "Epoch 12/25\n",
            "7/7 [==============================] - 1s 151ms/step - loss: 0.6769 - custom_accuracy: 0.8214 - val_loss: 0.6762 - val_custom_accuracy: 0.8542\n",
            "Epoch 13/25\n",
            "7/7 [==============================] - 1s 158ms/step - loss: 0.6812 - custom_accuracy: 0.8304 - val_loss: 0.7080 - val_custom_accuracy: 0.8750\n",
            "Epoch 14/25\n",
            "7/7 [==============================] - 1s 157ms/step - loss: 0.6832 - custom_accuracy: 0.8393 - val_loss: 0.6859 - val_custom_accuracy: 0.8333\n",
            "Epoch 15/25\n",
            "7/7 [==============================] - 1s 169ms/step - loss: 0.6741 - custom_accuracy: 0.8214 - val_loss: 0.6775 - val_custom_accuracy: 0.8542\n",
            "Epoch 16/25\n",
            "7/7 [==============================] - 1s 162ms/step - loss: 0.6613 - custom_accuracy: 0.8393 - val_loss: 0.6712 - val_custom_accuracy: 0.8333\n",
            "Epoch 17/25\n",
            "7/7 [==============================] - 1s 172ms/step - loss: 0.6550 - custom_accuracy: 0.8304 - val_loss: 0.6783 - val_custom_accuracy: 0.8333\n",
            "Epoch 18/25\n",
            "7/7 [==============================] - 1s 159ms/step - loss: 0.6537 - custom_accuracy: 0.8214 - val_loss: 0.6656 - val_custom_accuracy: 0.8333\n",
            "Epoch 19/25\n",
            "7/7 [==============================] - 1s 158ms/step - loss: 0.6481 - custom_accuracy: 0.8393 - val_loss: 0.6612 - val_custom_accuracy: 0.8542\n",
            "Epoch 20/25\n",
            "7/7 [==============================] - 1s 162ms/step - loss: 0.6455 - custom_accuracy: 0.8304 - val_loss: 0.6533 - val_custom_accuracy: 0.8333\n",
            "Epoch 21/25\n",
            "7/7 [==============================] - 1s 162ms/step - loss: 0.6412 - custom_accuracy: 0.8482 - val_loss: 0.6553 - val_custom_accuracy: 0.8542\n",
            "Epoch 22/25\n",
            "7/7 [==============================] - 1s 149ms/step - loss: 0.6409 - custom_accuracy: 0.8214 - val_loss: 0.6415 - val_custom_accuracy: 0.8542\n",
            "Epoch 23/25\n",
            "7/7 [==============================] - 1s 151ms/step - loss: 0.6510 - custom_accuracy: 0.8482 - val_loss: 0.6624 - val_custom_accuracy: 0.8333\n",
            "Epoch 24/25\n",
            "7/7 [==============================] - 1s 148ms/step - loss: 0.6336 - custom_accuracy: 0.8214 - val_loss: 0.6405 - val_custom_accuracy: 0.8542\n",
            "Epoch 25/25\n",
            "7/7 [==============================] - 1s 161ms/step - loss: 0.6137 - custom_accuracy: 0.8750 - val_loss: 0.6644 - val_custom_accuracy: 0.8750\n"
          ],
          "name": "stdout"
        }
      ]
    },
    {
      "cell_type": "code",
      "metadata": {
        "colab": {
          "base_uri": "https://localhost:8080/"
        },
        "id": "R7105DS2ffTX",
        "outputId": "3450b3a8-afac-4d79-8f7d-946c73631be2"
      },
      "source": [
        "qcnn_results_clust = model.evaluate(test_excitations, test_labels)"
      ],
      "execution_count": 117,
      "outputs": [
        {
          "output_type": "stream",
          "text": [
            "2/2 [==============================] - 0s 98ms/step - loss: 0.9317 - hinge_accuracy: 0.6562\n"
          ],
          "name": "stdout"
        }
      ]
    },
    {
      "cell_type": "code",
      "metadata": {
        "colab": {
          "base_uri": "https://localhost:8080/",
          "height": 295
        },
        "id": "Z83gZFv_ei0t",
        "outputId": "2e24c768-8115-4b32-e188-c2d0145c5f0b"
      },
      "source": [
        "plt.plot(qcnn_history_clust.history['loss'][1:], label='Training')\n",
        "plt.plot(qcnn_history_clust.history['val_loss'][1:], label='Validation')\n",
        "plt.title('Training a Quantum CNN to Detect Excited Cluster States')\n",
        "plt.xlabel('Epochs')\n",
        "plt.ylabel('Loss')\n",
        "plt.legend()\n",
        "plt.show()"
      ],
      "execution_count": 118,
      "outputs": [
        {
          "output_type": "display_data",
          "data": {
            "image/png": "[encoded data removed]",
            "text/plain": [
              "<Figure size 432x288 with 1 Axes>"
            ]
          },
          "metadata": {
            "tags": [],
            "needs_background": "light"
          }
        }
      ]
    },
    {
      "cell_type": "markdown",
      "metadata": {
        "id": "um8t5MesXVgj"
      },
      "source": [
        "### Image data (photon <-> electron data)"
      ]
    },
    {
      "cell_type": "code",
      "metadata": {
        "colab": {
          "base_uri": "https://localhost:8080/"
        },
        "id": "BTCNgLezSjyH",
        "outputId": "64c9b4b9-8183-4766-f9bf-06f344d88b87"
      },
      "source": [
        "qcnn_model.compile(optimizer=tf.keras.optimizers.Adam(learning_rate=0.02),\n",
        "                   loss=tf.losses.mse,\n",
        "                   metrics=[hinge_accuracy])\n",
        "\n",
        "\n",
        "history = qcnn_model.fit(x=x_train_tfcirq_sub,\n",
        "                         y=y_train_hinge_loss_sub,\n",
        "                         batch_size=16,\n",
        "                         epochs=25,\n",
        "                         verbose=1,\n",
        "                         validation_data=(x_test_tfqcirc, y_test_hinge_loss))"
      ],
      "execution_count": 119,
      "outputs": [
        {
          "output_type": "stream",
          "text": [
            "Epoch 1/25\n",
            "7/7 [==============================] - 2s 251ms/step - loss: 0.9924 - hinge_accuracy: 0.6071 - val_loss: 1.0705 - val_hinge_accuracy: 0.5179\n",
            "Epoch 2/25\n",
            "7/7 [==============================] - 2s 218ms/step - loss: 0.9872 - hinge_accuracy: 0.4643 - val_loss: 1.0003 - val_hinge_accuracy: 0.5179\n",
            "Epoch 3/25\n",
            "7/7 [==============================] - 1s 211ms/step - loss: 0.9805 - hinge_accuracy: 0.5804 - val_loss: 1.0487 - val_hinge_accuracy: 0.5179\n",
            "Epoch 4/25\n",
            "7/7 [==============================] - 1s 211ms/step - loss: 0.9916 - hinge_accuracy: 0.5536 - val_loss: 1.0339 - val_hinge_accuracy: 0.5179\n",
            "Epoch 5/25\n",
            "7/7 [==============================] - 1s 214ms/step - loss: 0.9885 - hinge_accuracy: 0.5536 - val_loss: 1.0238 - val_hinge_accuracy: 0.5179\n",
            "Epoch 6/25\n",
            "7/7 [==============================] - 2s 216ms/step - loss: 0.9996 - hinge_accuracy: 0.5804 - val_loss: 1.0346 - val_hinge_accuracy: 0.5179\n",
            "Epoch 7/25\n",
            "7/7 [==============================] - 2s 245ms/step - loss: 0.9902 - hinge_accuracy: 0.5536 - val_loss: 1.0340 - val_hinge_accuracy: 0.5179\n",
            "Epoch 8/25\n",
            "7/7 [==============================] - 2s 241ms/step - loss: 0.9924 - hinge_accuracy: 0.5804 - val_loss: 1.0377 - val_hinge_accuracy: 0.5179\n",
            "Epoch 9/25\n",
            "7/7 [==============================] - 2s 245ms/step - loss: 0.9941 - hinge_accuracy: 0.6071 - val_loss: 1.0580 - val_hinge_accuracy: 0.5179\n",
            "Epoch 10/25\n",
            "7/7 [==============================] - 2s 247ms/step - loss: 1.0110 - hinge_accuracy: 0.5536 - val_loss: 1.0130 - val_hinge_accuracy: 0.5179\n",
            "Epoch 11/25\n",
            "7/7 [==============================] - 2s 236ms/step - loss: 1.0085 - hinge_accuracy: 0.4107 - val_loss: 1.0175 - val_hinge_accuracy: 0.5179\n",
            "Epoch 12/25\n",
            "7/7 [==============================] - 2s 226ms/step - loss: 1.0062 - hinge_accuracy: 0.5446 - val_loss: 1.0314 - val_hinge_accuracy: 0.5179\n",
            "Epoch 13/25\n",
            "7/7 [==============================] - 2s 242ms/step - loss: 0.9832 - hinge_accuracy: 0.5268 - val_loss: 0.9961 - val_hinge_accuracy: 0.4821\n",
            "Epoch 14/25\n",
            "7/7 [==============================] - 2s 249ms/step - loss: 1.0226 - hinge_accuracy: 0.4018 - val_loss: 0.9976 - val_hinge_accuracy: 0.4821\n",
            "Epoch 15/25\n",
            "7/7 [==============================] - 2s 239ms/step - loss: 1.0061 - hinge_accuracy: 0.4196 - val_loss: 0.9944 - val_hinge_accuracy: 0.4821\n",
            "Epoch 16/25\n",
            "7/7 [==============================] - 2s 243ms/step - loss: 1.0124 - hinge_accuracy: 0.4643 - val_loss: 1.0111 - val_hinge_accuracy: 0.5179\n",
            "Epoch 17/25\n",
            "7/7 [==============================] - 2s 244ms/step - loss: 1.0018 - hinge_accuracy: 0.5536 - val_loss: 1.0176 - val_hinge_accuracy: 0.5179\n",
            "Epoch 18/25\n",
            "7/7 [==============================] - 2s 244ms/step - loss: 1.0129 - hinge_accuracy: 0.4911 - val_loss: 1.0302 - val_hinge_accuracy: 0.5179\n",
            "Epoch 19/25\n",
            "7/7 [==============================] - 2s 248ms/step - loss: 0.9831 - hinge_accuracy: 0.5536 - val_loss: 1.0204 - val_hinge_accuracy: 0.5179\n",
            "Epoch 20/25\n",
            "7/7 [==============================] - 2s 239ms/step - loss: 0.9964 - hinge_accuracy: 0.6071 - val_loss: 1.0653 - val_hinge_accuracy: 0.5179\n",
            "Epoch 21/25\n",
            "7/7 [==============================] - 2s 240ms/step - loss: 0.9939 - hinge_accuracy: 0.5536 - val_loss: 1.0186 - val_hinge_accuracy: 0.5179\n",
            "Epoch 22/25\n",
            "7/7 [==============================] - 2s 242ms/step - loss: 0.9981 - hinge_accuracy: 0.5089 - val_loss: 1.0580 - val_hinge_accuracy: 0.5179\n",
            "Epoch 23/25\n",
            "7/7 [==============================] - 2s 239ms/step - loss: 0.9985 - hinge_accuracy: 0.5804 - val_loss: 1.0765 - val_hinge_accuracy: 0.5179\n",
            "Epoch 24/25\n",
            "7/7 [==============================] - 2s 246ms/step - loss: 1.0034 - hinge_accuracy: 0.5089 - val_loss: 0.9981 - val_hinge_accuracy: 0.4821\n",
            "Epoch 25/25\n",
            "7/7 [==============================] - 2s 239ms/step - loss: 0.9961 - hinge_accuracy: 0.5179 - val_loss: 0.9968 - val_hinge_accuracy: 0.4821\n"
          ],
          "name": "stdout"
        }
      ]
    },
    {
      "cell_type": "code",
      "metadata": {
        "colab": {
          "base_uri": "https://localhost:8080/"
        },
        "id": "FDVA21jcfZ5M",
        "outputId": "591b6580-ea56-4527-d64b-1b9f9ddd7f75"
      },
      "source": [
        "qcnn_results = model.evaluate(x_test_tfqcirc, y_test_hinge_loss)"
      ],
      "execution_count": 98,
      "outputs": [
        {
          "output_type": "stream",
          "text": [
            "4/4 [==============================] - 1s 164ms/step - loss: 1.0184 - hinge_accuracy: 0.5781\n"
          ],
          "name": "stdout"
        }
      ]
    },
    {
      "cell_type": "code",
      "metadata": {
        "colab": {
          "base_uri": "https://localhost:8080/",
          "height": 295
        },
        "id": "d4bF2lCcSEgD",
        "outputId": "3ab74222-67c6-4b47-b900-31beabd5b5d1"
      },
      "source": [
        "plt.plot(history.history['loss'][1:], label='Training')\n",
        "plt.plot(history.history['val_loss'][1:], label='Validation')\n",
        "plt.title('Training a Quantum CNN to classify Photons from Electrons (image data)')\n",
        "plt.xlabel('Epochs')\n",
        "plt.ylabel('Loss')\n",
        "plt.legend()\n",
        "plt.show()"
      ],
      "execution_count": 99,
      "outputs": [
        {
          "output_type": "display_data",
          "data": {
            "image/png": "[encoded data removed]",
            "text/plain": [
              "<Figure size 432x288 with 1 Axes>"
            ]
          },
          "metadata": {
            "tags": [],
            "needs_background": "light"
          }
        }
      ]
    },
    {
      "cell_type": "code",
      "metadata": {
        "colab": {
          "base_uri": "https://localhost:8080/"
        },
        "id": "cZsc9K6UQu3W",
        "outputId": "1065c2ba-571c-4a7b-e96e-b19ab1f671c9"
      },
      "source": [
        "qnn_history = model.fit(\n",
        "      x_train_tfcirq_sub, y_train_hinge_loss_sub,\n",
        "      batch_size=BATCH_SIZE,\n",
        "      epochs=EPOCHS,\n",
        "      verbose=1,\n",
        "      validation_data=(x_test_tfqcirc, y_test_hinge_loss))\n",
        "\n",
        "qnn_results = model.evaluate(x_test_tfqcirc, y_test_hinge_loss)"
      ],
      "execution_count": 71,
      "outputs": [
        {
          "output_type": "stream",
          "text": [
            "Epoch 1/5\n",
            "50/50 [==============================] - 7s 145ms/step - loss: 0.9919 - hinge_accuracy: 0.5500 - val_loss: 1.0056 - val_hinge_accuracy: 0.4600\n",
            "Epoch 2/5\n",
            "50/50 [==============================] - 7s 138ms/step - loss: 0.9890 - hinge_accuracy: 0.5600 - val_loss: 1.0085 - val_hinge_accuracy: 0.4600\n",
            "Epoch 3/5\n",
            "50/50 [==============================] - 7s 138ms/step - loss: 0.9857 - hinge_accuracy: 0.5600 - val_loss: 1.0115 - val_hinge_accuracy: 0.4600\n",
            "Epoch 4/5\n",
            "50/50 [==============================] - 7s 135ms/step - loss: 0.9787 - hinge_accuracy: 0.5600 - val_loss: 1.0149 - val_hinge_accuracy: 0.4600\n",
            "Epoch 5/5\n",
            "50/50 [==============================] - 7s 131ms/step - loss: 0.9701 - hinge_accuracy: 0.5700 - val_loss: 1.0184 - val_hinge_accuracy: 0.4600\n",
            "4/4 [==============================] - 1s 157ms/step - loss: 1.0184 - hinge_accuracy: 0.5781\n"
          ],
          "name": "stdout"
        }
      ]
    },
    {
      "cell_type": "code",
      "metadata": {
        "id": "iWCqHc7T6ehG"
      },
      "source": [
        "assert False"
      ],
      "execution_count": null,
      "outputs": []
    },
    {
      "cell_type": "code",
      "metadata": {
        "id": "4ItcClrg6efJ"
      },
      "source": [
        ""
      ],
      "execution_count": null,
      "outputs": []
    },
    {
      "cell_type": "code",
      "metadata": {
        "id": "jmxqJdT1LQnd"
      },
      "source": [
        ""
      ],
      "execution_count": null,
      "outputs": []
    },
    {
      "cell_type": "code",
      "metadata": {
        "id": "c02KDG9l6edH"
      },
      "source": [
        ""
      ],
      "execution_count": null,
      "outputs": []
    },
    {
      "cell_type": "code",
      "metadata": {
        "id": "rKBqgDqp6ebO"
      },
      "source": [
        ""
      ],
      "execution_count": null,
      "outputs": []
    },
    {
      "cell_type": "code",
      "metadata": {
        "id": "JVTLxyDB6eYZ"
      },
      "source": [
        ""
      ],
      "execution_count": null,
      "outputs": []
    },
    {
      "cell_type": "code",
      "metadata": {
        "id": "JNTeE8r26eVW"
      },
      "source": [
        ""
      ],
      "execution_count": null,
      "outputs": []
    },
    {
      "cell_type": "code",
      "metadata": {
        "id": "KQWSSx5r6eRK"
      },
      "source": [
        ""
      ],
      "execution_count": null,
      "outputs": []
    },
    {
      "cell_type": "code",
      "metadata": {
        "id": "kEmvVYBd6eNF"
      },
      "source": [
        ""
      ],
      "execution_count": null,
      "outputs": []
    },
    {
      "cell_type": "code",
      "metadata": {
        "id": "t8Hed-DC68Tc"
      },
      "source": [
        "bin_img = x_train_binary[:,:,0]\n",
        "indices = np.array(np.where(bin_img)).T\n",
        "indices"
      ],
      "execution_count": null,
      "outputs": []
    },
    {
      "cell_type": "code",
      "metadata": {
        "id": "262uRvFjDaQ2"
      },
      "source": [
        "x_train_cirq  = [convert_to_circuit(x) for x in x_train_binary]\n",
        "x_test_cirq   = [conv_bnry_to_circuit(x) for x in x_test_binary]\n",
        "\n",
        "SVGCircuit(x_train_cirq[0])"
      ],
      "execution_count": null,
      "outputs": []
    },
    {
      "cell_type": "code",
      "metadata": {
        "id": "59T1mL313VMe"
      },
      "source": [
        "def convert_to_circuit(image, number_of_qubits):\n",
        "    \"\"\"Encode truncated classical image into quantum datapoint.\"\"\"\n",
        "    values = np.ndarray.flatten(image)\n",
        "    qubits = cirq.GridQubit.rect(number_of_qubits, number_of_qubits)\n",
        "    circuit = cirq.Circuit()\n",
        "\n",
        "    for idx, value in enumerate(values):\n",
        "      print(idx, value)\n",
        "      if value:\n",
        "        circuit.append(cirq.X(qubits[idx]))\n",
        "        \n",
        "    return circuit\n",
        "\n",
        "\n",
        "x_train_cirq  = [convert_to_circuit(x, qubit_nmbrs) for x in x_train_binary]\n",
        "x_test_cirq   = [conv_bnry_to_circuit(x, qubit_nmbrs) for x in x_test_binary]"
      ],
      "execution_count": null,
      "outputs": []
    },
    {
      "cell_type": "code",
      "metadata": {
        "id": "iQbJnyXezqL8"
      },
      "source": [
        "print(x_train_small[:,:,0])\n",
        "print(x_train_small[-1,-1,0])\n",
        "value = x_train_small[-1,-1,0]\n",
        "value = value*10**5\n",
        "print(value)"
      ],
      "execution_count": null,
      "outputs": []
    },
    {
      "cell_type": "code",
      "metadata": {
        "id": "dYeyPaZGszxr"
      },
      "source": [
        ""
      ],
      "execution_count": null,
      "outputs": []
    },
    {
      "cell_type": "code",
      "metadata": {
        "id": "OX-Wji4WIDAK"
      },
      "source": [
        "factor_normalization = 10\n",
        "\n",
        "x_test_refact = x_test_small\n",
        "print(x_test_refact.shape)\n",
        "\n",
        "np.multiply(x_test_refact[:,0], factor_normalization)\n",
        "np.multiply(x_test_refact[:,1], factor_normalization)\n",
        "\n",
        "\n",
        "print(x_test_refact[1])\n",
        "\n",
        "print(x_test_refact.shape)\n",
        "print(y_test[0])\n",
        "plt.imshow(x_test_refact[:,:,prnt_exmpl])\n",
        "plt.colorbar()"
      ],
      "execution_count": null,
      "outputs": []
    }
  ]
}